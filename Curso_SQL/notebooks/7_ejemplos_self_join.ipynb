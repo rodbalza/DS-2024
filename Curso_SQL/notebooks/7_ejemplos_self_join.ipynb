{
    "metadata": {
        "kernelspec": {
            "name": "SQL",
            "display_name": "SQL",
            "language": "sql"
        },
        "language_info": {
            "name": "sql",
            "version": ""
        }
    },
    "nbformat_minor": 2,
    "nbformat": 4,
    "cells": [
        {
            "cell_type": "markdown",
            "source": [
                "# Mas ejemplos sobre el uso de self join"
            ],
            "metadata": {
                "azdata_cell_guid": "b527e85a-5606-4978-a4d3-00bdab6b2a01"
            },
            "attachments": {}
        },
        {
            "cell_type": "markdown",
            "source": [
                "Creación del 'schema'"
            ],
            "metadata": {
                "language": "sql",
                "azdata_cell_guid": "9dc576cf-75b6-404e-9e06-b86b656c2f18"
            },
            "attachments": {}
        },
        {
            "cell_type": "code",
            "source": [
                "CREATE DATABASE ejemplo;"
            ],
            "metadata": {
                "azdata_cell_guid": "b2794748-118e-4a5f-9ca0-537058ba5da5",
                "language": "sql",
                "tags": []
            },
            "outputs": [
                {
                    "output_type": "display_data",
                    "data": {
                        "text/html": "Total execution time: 00:00:00.001"
                    },
                    "metadata": {}
                }
            ],
            "execution_count": 12
        },
        {
            "cell_type": "markdown",
            "source": [
                "Crear las tablas"
            ],
            "metadata": {
                "azdata_cell_guid": "cf98be4b-df13-4be3-a35e-c111990b9f5e"
            },
            "attachments": {}
        },
        {
            "cell_type": "code",
            "source": [
                "CREATE TABLE ejemplo.Empleados (\r\n",
                "    id_empleado INT PRIMARY KEY,\r\n",
                "    FullName VARCHAR(255),\r\n",
                "    Salary DECIMAL(10, 2),\r\n",
                "    ManagerId INT\r\n",
                ");\r\n",
                "\r\n",
                "INSERT INTO ejemplo.Empleados (Id, FullName, Salary, ManagerId)\r\n",
                "VALUES\r\n",
                "    (1, 'Juan Pérez', 60000.00, NULL),\r\n",
                "    (2, 'María López', 55000.00, 1),\r\n",
                "    (3, 'Carlos Rodríguez', 70000.00, 1),\r\n",
                "    (4, 'Ana Martínez', 62000.00, NULL),\r\n",
                "    (5, 'Jhon Smith', 65000.00, NULL),\r\n",
                "    (6, 'Jane Anderson', 55000.00, 2),\r\n",
                "    (7, 'Tom Lannon', 15000.00, 4),\r\n",
                "    (8, 'Anne Connor', 80000.00, NULL),\r\n",
                "    (9, 'Peter Robe', 75000, 3),\r\n",
                "    (10, 'Alex Fonthal', 12000, 4),\r\n",
                "    (11, 'Kate Moss', 11201, 3);\r\n",
                "\r\n",
                ""
            ],
            "metadata": {
                "azdata_cell_guid": "221ed18a-9e94-413c-b196-0cf258f433ca",
                "language": "sql"
            },
            "outputs": [
                {
                    "output_type": "display_data",
                    "data": {
                        "text/html": "Commands completed successfully"
                    },
                    "metadata": {}
                },
                {
                    "output_type": "display_data",
                    "data": {
                        "text/html": "Commands completed successfully"
                    },
                    "metadata": {}
                },
                {
                    "output_type": "display_data",
                    "data": {
                        "text/html": "Total execution time: 00:00:00.059"
                    },
                    "metadata": {}
                }
            ],
            "execution_count": 1
        },
        {
            "cell_type": "code",
            "source": [
                "CREATE TABLE ejemplo.Managers (\n",
                "    ManagerId INT PRIMARY KEY,\n",
                "    FullName VARCHAR(255),\n",
                "    Salary DECIMAL(10, 2),\n",
                ");\n",
                "INSERT INTO ejemplo.Empleados (Id, FullName, Salary, ManagerId)\n",
                "VALUES\n",
                "    (1, 'Juan Pérez', 60000.00, NULL),\n",
                "    (2, 'María López', 55000.0)",
                "    (3, 'Ana Martínezíguez', 70000, 1),\n",
                "    (4, 'Jhon Smith', 65000.00,\n",
                "    (4",
                80000,
                "metadata",
                "azdata_cell_guid",
                "outputs"
            ],
            "metadata": {
                "azdata_cell_guid": "57f1e994-8232-4c09-90d3-7de311582719",
                "language": "sql"
            },
            "outputs": [],
            "execution_count": null
        },
        {
            "cell_type": "markdown",
            "source": [
                "<span style=\"color: rgb(17, 17, 17); font-family: -apple-system, Roboto, SegoeUI, &quot;Segoe UI&quot;, &quot;Helvetica Neue&quot;, Helvetica, &quot;Microsoft YaHei&quot;, &quot;Meiryo UI&quot;, Meiryo, &quot;Arial Unicode MS&quot;, sans-serif; font-size: 16px; background-color: rgb(247, 247, 247);\"><b>1. Procesamiento de una jerarquía</b></span>\n",
                "\n",
                "<span style=\"color: rgb(17, 17, 17); font-family: -apple-system, Roboto, SegoeUI, &quot;Segoe UI&quot;, &quot;Helvetica Neue&quot;, Helvetica, &quot;Microsoft YaHei&quot;, &quot;Meiryo UI&quot;, Meiryo, &quot;Arial Unicode MS&quot;, sans-serif; font-size: 16px; background-color: rgb(247, 247, 247);\">Supongamos que tenemos una tabla llamada&nbsp;</span>   `Empleados`   <span style=\"color: rgb(17, 17, 17); font-family: -apple-system, Roboto, SegoeUI, &quot;Segoe UI&quot;, &quot;Helvetica Neue&quot;, Helvetica, &quot;Microsoft YaHei&quot;, &quot;Meiryo UI&quot;, Meiryo, &quot;Arial Unicode MS&quot;, sans-serif; font-size: 16px; background-color: rgb(247, 247, 247);\">&nbsp;con las siguientes columnas:&nbsp;</span>   `Id`<span style=\"color: rgb(17, 17, 17); font-family: -apple-system, Roboto, SegoeUI, &quot;Segoe UI&quot;, &quot;Helvetica Neue&quot;, Helvetica, &quot;Microsoft YaHei&quot;, &quot;Meiryo UI&quot;, Meiryo, &quot;Arial Unicode MS&quot;, sans-serif; font-size: 16px; background-color: rgb(247, 247, 247);\">,&nbsp;</span>   `FullName`<span style=\"color: rgb(17, 17, 17); font-family: -apple-system, Roboto, SegoeUI, &quot;Segoe UI&quot;, &quot;Helvetica Neue&quot;, Helvetica, &quot;Microsoft YaHei&quot;, &quot;Meiryo UI&quot;, Meiryo, &quot;Arial Unicode MS&quot;, sans-serif; font-size: 16px; background-color: rgb(247, 247, 247);\">,&nbsp;</span>   `Salary`   <span style=\"color: rgb(17, 17, 17); font-family: -apple-system, Roboto, SegoeUI, &quot;Segoe UI&quot;, &quot;Helvetica Neue&quot;, Helvetica, &quot;Microsoft YaHei&quot;, &quot;Meiryo UI&quot;, Meiryo, &quot;Arial Unicode MS&quot;, sans-serif; font-size: 16px; background-color: rgb(247, 247, 247);\">&nbsp;y&nbsp;</span>   `ManagerId`<span style=\"color: rgb(17, 17, 17); font-family: -apple-system, Roboto, SegoeUI, &quot;Segoe UI&quot;, &quot;Helvetica Neue&quot;, Helvetica, &quot;Microsoft YaHei&quot;, &quot;Meiryo UI&quot;, Meiryo, &quot;Arial Unicode MS&quot;, sans-serif; font-size: 16px; background-color: rgb(247, 247, 247);\">. La columna&nbsp;</span>   `ManagerId`   <span style=\"color: rgb(17, 17, 17); font-family: -apple-system, Roboto, SegoeUI, &quot;Segoe UI&quot;, &quot;Helvetica Neue&quot;, Helvetica, &quot;Microsoft YaHei&quot;, &quot;Meiryo UI&quot;, Meiryo, &quot;Arial Unicode MS&quot;, sans-serif; font-size: 16px; background-color: rgb(247, 247, 247);\">&nbsp;almacena el&nbsp;</span>   `Id`   <span style=\"color: rgb(17, 17, 17); font-family: -apple-system, Roboto, SegoeUI, &quot;Segoe UI&quot;, &quot;Helvetica Neue&quot;, Helvetica, &quot;Microsoft YaHei&quot;, &quot;Meiryo UI&quot;, Meiryo, &quot;Arial Unicode MS&quot;, sans-serif; font-size: 16px; background-color: rgb(247, 247, 247);\">&nbsp;del gerente de cada empleado.&nbsp;</span>"
            ],
            "metadata": {
                "azdata_cell_guid": "1ff0f5b6-6660-4249-b194-d9886f66fe07"
            },
            "attachments": {}
        },
        {
            "cell_type": "code",
            "source": [
                "SELECT * FROM ejemplo.Empleados"
            ],
            "metadata": {
                "azdata_cell_guid": "053e32c1-79ac-4358-950d-54867ea0c027",
                "language": "sql"
            },
            "outputs": [
                {
                    "output_type": "display_data",
                    "data": {
                        "text/html": "(11 row(s) affected)"
                    },
                    "metadata": {}
                },
                {
                    "output_type": "display_data",
                    "data": {
                        "text/html": "Total execution time: 00:00:01.006"
                    },
                    "metadata": {}
                },
                {
                    "output_type": "execute_result",
                    "execution_count": 2,
                    "data": {
                        "application/vnd.dataresource+json": {
                            "schema": {
                                "fields": [
                                    {
                                        "name": "Id"
                                    },
                                    {
                                        "name": "FullName"
                                    },
                                    {
                                        "name": "Salary"
                                    },
                                    {
                                        "name": "ManagerId"
                                    }
                                ]
                            },
                            "data": [
                                {
                                    "Id": "1",
                                    "FullName": "Juan Pérez",
                                    "Salary": "60000.00",
                                    "ManagerId": "NULL"
                                },
                                {
                                    "Id": "2",
                                    "FullName": "María López",
                                    "Salary": "55000.00",
                                    "ManagerId": "1"
                                },
                                {
                                    "Id": "3",
                                    "FullName": "Carlos Rodríguez",
                                    "Salary": "70000.00",
                                    "ManagerId": "1"
                                },
                                {
                                    "Id": "4",
                                    "FullName": "Ana Martínez",
                                    "Salary": "62000.00",
                                    "ManagerId": "NULL"
                                },
                                {
                                    "Id": "5",
                                    "FullName": "Jhon Smith",
                                    "Salary": "65000.00",
                                    "ManagerId": "NULL"
                                },
                                {
                                    "Id": "6",
                                    "FullName": "Jane Anderson",
                                    "Salary": "55000.00",
                                    "ManagerId": "2"
                                },
                                {
                                    "Id": "7",
                                    "FullName": "Tom Lannon",
                                    "Salary": "15000.00",
                                    "ManagerId": "4"
                                },
                                {
                                    "Id": "8",
                                    "FullName": "Anne Connor",
                                    "Salary": "80000.00",
                                    "ManagerId": "NULL"
                                },
                                {
                                    "Id": "9",
                                    "FullName": "Peter Robe",
                                    "Salary": "75000.00",
                                    "ManagerId": "3"
                                },
                                {
                                    "Id": "10",
                                    "FullName": "Alex Fonthal",
                                    "Salary": "12000.00",
                                    "ManagerId": "4"
                                },
                                {
                                    "Id": "11",
                                    "FullName": "Kate Moss",
                                    "Salary": "11201.00",
                                    "ManagerId": "3"
                                }
                            ]
                        },
                        "text/html": "<table><tr><th>Id</th><th>FullName</th><th>Salary</th><th>ManagerId</th></tr><tr><td>1</td><td>Juan Pérez</td><td>60000.00</td><td>NULL</td></tr><tr><td>2</td><td>María López</td><td>55000.00</td><td>1</td></tr><tr><td>3</td><td>Carlos Rodríguez</td><td>70000.00</td><td>1</td></tr><tr><td>4</td><td>Ana Martínez</td><td>62000.00</td><td>NULL</td></tr><tr><td>5</td><td>Jhon Smith</td><td>65000.00</td><td>NULL</td></tr><tr><td>6</td><td>Jane Anderson</td><td>55000.00</td><td>2</td></tr><tr><td>7</td><td>Tom Lannon</td><td>15000.00</td><td>4</td></tr><tr><td>8</td><td>Anne Connor</td><td>80000.00</td><td>NULL</td></tr><tr><td>9</td><td>Peter Robe</td><td>75000.00</td><td>3</td></tr><tr><td>10</td><td>Alex Fonthal</td><td>12000.00</td><td>4</td></tr><tr><td>11</td><td>Kate Moss</td><td>11201.00</td><td>3</td></tr></table>"
                    },
                    "metadata": {}
                }
            ],
            "execution_count": 2
        },
        {
            "cell_type": "markdown",
            "source": [
                "<span style=\"color: rgb(17, 17, 17); font-family: -apple-system, Roboto, SegoeUI, &quot;Segoe UI&quot;, &quot;Helvetica Neue&quot;, Helvetica, &quot;Microsoft YaHei&quot;, &quot;Meiryo UI&quot;, Meiryo, &quot;Arial Unicode MS&quot;, sans-serif; font-size: 16px; background-color: rgb(247, 247, 247);\">Para mostrar el nombre del gerente para cada empleado en la misma fila, podemos ejecutar la siguiente consulta:</span>"
            ],
            "metadata": {
                "azdata_cell_guid": "dd2080aa-3a46-40eb-a498-417a7d8ed287"
            },
            "attachments": {}
        },
        {
            "cell_type": "code",
            "source": [
                "SELECT e.Id, e.FullName, e.ManagerId, m.FullName AS ManagerName\r\n",
                "FROM ejemplo.Empleados e\r\n",
                "JOIN ejemplo.Empleados m ON e.ManagerId = m.Id;"
            ],
            "metadata": {
                "azdata_cell_guid": "e9527cea-0a54-43b7-b57e-f61320c62511",
                "language": "sql"
            },
            "outputs": [
                {
                    "output_type": "display_data",
                    "data": {
                        "text/html": "(7 row(s) affected)"
                    },
                    "metadata": {}
                },
                {
                    "output_type": "display_data",
                    "data": {
                        "text/html": "Total execution time: 00:00:01.005"
                    },
                    "metadata": {}
                },
                {
                    "output_type": "execute_result",
                    "execution_count": 3,
                    "data": {
                        "application/vnd.dataresource+json": {
                            "schema": {
                                "fields": [
                                    {
                                        "name": "Id"
                                    },
                                    {
                                        "name": "FullName"
                                    },
                                    {
                                        "name": "ManagerId"
                                    },
                                    {
                                        "name": "ManagerName"
                                    }
                                ]
                            },
                            "data": [
                                {
                                    "Id": "2",
                                    "FullName": "María López",
                                    "ManagerId": "1",
                                    "ManagerName": "Juan Pérez"
                                },
                                {
                                    "Id": "3",
                                    "FullName": "Carlos Rodríguez",
                                    "ManagerId": "1",
                                    "ManagerName": "Juan Pérez"
                                },
                                {
                                    "Id": "6",
                                    "FullName": "Jane Anderson",
                                    "ManagerId": "2",
                                    "ManagerName": "María López"
                                },
                                {
                                    "Id": "7",
                                    "FullName": "Tom Lannon",
                                    "ManagerId": "4",
                                    "ManagerName": "Ana Martínez"
                                },
                                {
                                    "Id": "9",
                                    "FullName": "Peter Robe",
                                    "ManagerId": "3",
                                    "ManagerName": "Carlos Rodríguez"
                                },
                                {
                                    "Id": "10",
                                    "FullName": "Alex Fonthal",
                                    "ManagerId": "4",
                                    "ManagerName": "Ana Martínez"
                                },
                                {
                                    "Id": "11",
                                    "FullName": "Kate Moss",
                                    "ManagerId": "3",
                                    "ManagerName": "Carlos Rodríguez"
                                }
                            ]
                        },
                        "text/html": "<table><tr><th>Id</th><th>FullName</th><th>ManagerId</th><th>ManagerName</th></tr><tr><td>2</td><td>María López</td><td>1</td><td>Juan Pérez</td></tr><tr><td>3</td><td>Carlos Rodríguez</td><td>1</td><td>Juan Pérez</td></tr><tr><td>6</td><td>Jane Anderson</td><td>2</td><td>María López</td></tr><tr><td>7</td><td>Tom Lannon</td><td>4</td><td>Ana Martínez</td></tr><tr><td>9</td><td>Peter Robe</td><td>3</td><td>Carlos Rodríguez</td></tr><tr><td>10</td><td>Alex Fonthal</td><td>4</td><td>Ana Martínez</td></tr><tr><td>11</td><td>Kate Moss</td><td>3</td><td>Carlos Rodríguez</td></tr></table>"
                    },
                    "metadata": {}
                }
            ],
            "execution_count": 3
        },
        {
            "cell_type": "markdown",
            "source": [
                "Esto nos dará una lista de empleados junto con sus gerentes"
            ],
            "metadata": {
                "language": "sql",
                "azdata_cell_guid": "85332973-121c-4c97-b49e-c3099df7cd4f"
            },
            "attachments": {}
        },
        {
            "cell_type": "markdown",
            "source": [
                "**2.** <span style=\"font-size: 16px; line-height: var(--cib-type-subtitle2-stronger-line-height); font-variation-settings: var(--cib-type-subtitle2-stronger-font-variation-settings); color: rgb(17, 17, 17); font-family: -apple-system, Roboto, SegoeUI, &quot;Segoe UI&quot;, &quot;Helvetica Neue&quot;, Helvetica, &quot;Microsoft YaHei&quot;, &quot;Meiryo UI&quot;, Meiryo, &quot;Arial Unicode MS&quot;, sans-serif; background-color: rgb(247, 247, 247);\"><b>Comparación de filas dentro de la misma tabla</b></span><span style=\"color: rgb(17, 17, 17); font-family: -apple-system, Roboto, SegoeUI, &quot;Segoe UI&quot;, &quot;Helvetica Neue&quot;, Helvetica, &quot;Microsoft YaHei&quot;, &quot;Meiryo UI&quot;, Meiryo, &quot;Arial Unicode MS&quot;, sans-serif; font-size: 16px; background-color: rgb(247, 247, 247);\">: Supongamos que tenemos una tabla llamada&nbsp;</span>  `Productos`  <span style=\"color: rgb(17, 17, 17); font-family: -apple-system, Roboto, SegoeUI, &quot;Segoe UI&quot;, &quot;Helvetica Neue&quot;, Helvetica, &quot;Microsoft YaHei&quot;, &quot;Meiryo UI&quot;, Meiryo, &quot;Arial Unicode MS&quot;, sans-serif; font-size: 16px; background-color: rgb(247, 247, 247);\">&nbsp;con las columnas&nbsp;</span>  `Id`<span style=\"color: rgb(17, 17, 17); font-family: -apple-system, Roboto, SegoeUI, &quot;Segoe UI&quot;, &quot;Helvetica Neue&quot;, Helvetica, &quot;Microsoft YaHei&quot;, &quot;Meiryo UI&quot;, Meiryo, &quot;Arial Unicode MS&quot;, sans-serif; font-size: 16px; background-color: rgb(247, 247, 247);\">,&nbsp;</span>  `Nombre`  <span style=\"color: rgb(17, 17, 17); font-family: -apple-system, Roboto, SegoeUI, &quot;Segoe UI&quot;, &quot;Helvetica Neue&quot;, Helvetica, &quot;Microsoft YaHei&quot;, &quot;Meiryo UI&quot;, Meiryo, &quot;Arial Unicode MS&quot;, sans-serif; font-size: 16px; background-color: rgb(247, 247, 247);\">&nbsp;y&nbsp;</span>  `Precio`<span style=\"color: rgb(17, 17, 17); font-family: -apple-system, Roboto, SegoeUI, &quot;Segoe UI&quot;, &quot;Helvetica Neue&quot;, Helvetica, &quot;Microsoft YaHei&quot;, &quot;Meiryo UI&quot;, Meiryo, &quot;Arial Unicode MS&quot;, sans-serif; font-size: 16px; background-color: rgb(247, 247, 247);\">.&nbsp;</span>"
            ],
            "metadata": {
                "language": "sql",
                "azdata_cell_guid": "0fbed79a-f5d1-4554-bd29-2c5b98270870"
            },
            "attachments": {}
        },
        {
            "cell_type": "code",
            "source": [
                "CREATE TABLE ejemplo.Productos (\r\n",
                "    Id INT PRIMARY KEY,\r\n",
                "    Nombre VARCHAR(255),\r\n",
                "    Precio DECIMAL(10, 2)\r\n",
                ");\r\n",
                "\r\n",
                "INSERT INTO ejemplo.Productos (Id, Nombre, Precio)\r\n",
                "VALUES\r\n",
                "    (1, 'Laptop', 1000.00),\r\n",
                "    (2, 'Teléfono', 500.00),\r\n",
                "    (3, 'Tablet', 1000.00),\r\n",
                "    (4, 'Smartwatch', 300.00);\r\n",
                ""
            ],
            "metadata": {
                "language": "sql",
                "azdata_cell_guid": "444dc58f-77ad-43f2-8857-e75146557209"
            },
            "outputs": [
                {
                    "output_type": "display_data",
                    "data": {
                        "text/html": "Total execution time: 00:00:00"
                    },
                    "metadata": {}
                },
                {
                    "output_type": "error",
                    "ename": "",
                    "evalue": "1050 (42S01): Table 'productos' already exists",
                    "traceback": []
                }
            ],
            "execution_count": 8
        },
        {
            "cell_type": "code",
            "source": [
                "SELECT *  FROM ejemplo.Productos"
            ],
            "metadata": {
                "language": "sql",
                "azdata_cell_guid": "fa6e0429-59c4-459f-8d0f-a77bdbda9264"
            },
            "outputs": [
                {
                    "output_type": "display_data",
                    "data": {
                        "text/html": "(4 row(s) affected)"
                    },
                    "metadata": {}
                },
                {
                    "output_type": "display_data",
                    "data": {
                        "text/html": "Total execution time: 00:00:01.008"
                    },
                    "metadata": {}
                },
                {
                    "output_type": "execute_result",
                    "execution_count": 9,
                    "data": {
                        "application/vnd.dataresource+json": {
                            "schema": {
                                "fields": [
                                    {
                                        "name": "Id"
                                    },
                                    {
                                        "name": "Nombre"
                                    },
                                    {
                                        "name": "Precio"
                                    }
                                ]
                            },
                            "data": [
                                {
                                    "Id": "1",
                                    "Nombre": "Laptop",
                                    "Precio": "1000.00"
                                },
                                {
                                    "Id": "2",
                                    "Nombre": "Teléfono",
                                    "Precio": "500.00"
                                },
                                {
                                    "Id": "3",
                                    "Nombre": "Tablet",
                                    "Precio": "1000.00"
                                },
                                {
                                    "Id": "4",
                                    "Nombre": "Smartwatch",
                                    "Precio": "300.00"
                                }
                            ]
                        },
                        "text/html": "<table><tr><th>Id</th><th>Nombre</th><th>Precio</th></tr><tr><td>1</td><td>Laptop</td><td>1000.00</td></tr><tr><td>2</td><td>Teléfono</td><td>500.00</td></tr><tr><td>3</td><td>Tablet</td><td>1000.00</td></tr><tr><td>4</td><td>Smartwatch</td><td>300.00</td></tr></table>"
                    },
                    "metadata": {}
                }
            ],
            "execution_count": 9
        },
        {
            "cell_type": "markdown",
            "source": [
                "<span style=\"color: rgb(17, 17, 17); font-family: -apple-system, Roboto, SegoeUI, &quot;Segoe UI&quot;, &quot;Helvetica Neue&quot;, Helvetica, &quot;Microsoft YaHei&quot;, &quot;Meiryo UI&quot;, Meiryo, &quot;Arial Unicode MS&quot;, sans-serif; font-size: 16px; background-color: rgb(247, 247, 247);\">Queremos encontrar todos los pares de productos con el mismo precio. Podemos usar un self join para lograrlo:</span>"
            ],
            "metadata": {
                "language": "sql",
                "azdata_cell_guid": "00429a2a-90a0-4c23-af3b-817aa563ce77"
            },
            "attachments": {}
        },
        {
            "cell_type": "code",
            "source": [
                "SELECT p1.Nombre AS Producto1, p2.Nombre AS Producto2, p1.Precio\r\n",
                "FROM ejemplo.Productos p1\r\n",
                "JOIN ejemplo.Productos p2 ON p1.Precio = p2.Precio\r\n",
                "WHERE p1.Id <> p2.Id;"
            ],
            "metadata": {
                "language": "sql",
                "azdata_cell_guid": "8fe0deb9-aa3a-4698-b373-05e6b0e67a6a"
            },
            "outputs": [
                {
                    "output_type": "display_data",
                    "data": {
                        "text/html": "(2 row(s) affected)"
                    },
                    "metadata": {}
                },
                {
                    "output_type": "display_data",
                    "data": {
                        "text/html": "Total execution time: 00:00:01.018"
                    },
                    "metadata": {}
                },
                {
                    "output_type": "execute_result",
                    "execution_count": 10,
                    "data": {
                        "application/vnd.dataresource+json": {
                            "schema": {
                                "fields": [
                                    {
                                        "name": "Producto1"
                                    },
                                    {
                                        "name": "Producto2"
                                    },
                                    {
                                        "name": "Precio"
                                    }
                                ]
                            },
                            "data": [
                                {
                                    "Producto1": "Tablet",
                                    "Producto2": "Laptop",
                                    "Precio": "1000.00"
                                },
                                {
                                    "Producto1": "Laptop",
                                    "Producto2": "Tablet",
                                    "Precio": "1000.00"
                                }
                            ]
                        },
                        "text/html": "<table><tr><th>Producto1</th><th>Producto2</th><th>Precio</th></tr><tr><td>Tablet</td><td>Laptop</td><td>1000.00</td></tr><tr><td>Laptop</td><td>Tablet</td><td>1000.00</td></tr></table>"
                    },
                    "metadata": {}
                }
            ],
            "execution_count": 10
        },
        {
            "cell_type": "markdown",
            "source": [
                "<span style=\"font-size: 16px; line-height: var(--cib-type-subtitle2-stronger-line-height); font-variation-settings: var(--cib-type-subtitle2-stronger-font-variation-settings); color: rgb(17, 17, 17); font-family: -apple-system, Roboto, SegoeUI, &quot;Segoe UI&quot;, &quot;Helvetica Neue&quot;, Helvetica, &quot;Microsoft YaHei&quot;, &quot;Meiryo UI&quot;, Meiryo, &quot;Arial Unicode MS&quot;, sans-serif; background-color: rgb(247, 247, 247);\"><b>3. Self join con INNER JOIN</b></span><span style=\"color: rgb(17, 17, 17); font-family: -apple-system, Roboto, SegoeUI, &quot;Segoe UI&quot;, &quot;Helvetica Neue&quot;, Helvetica, &quot;Microsoft YaHei&quot;, &quot;Meiryo UI&quot;, Meiryo, &quot;Arial Unicode MS&quot;, sans-serif; font-size: 16px; background-color: rgb(247, 247, 247);\">: Similar al ejemplo anterior, podemos usar un self join para encontrar productos con el mismo precio, pero esta vez utilizando un INNER JOIN:</span>"
            ],
            "metadata": {
                "language": "sql",
                "azdata_cell_guid": "cd4a5c5d-b1c1-4a65-9233-3aec03bb0989"
            },
            "attachments": {}
        },
        {
            "cell_type": "code",
            "source": [
                "SELECT p1.Nombre AS Producto1, p2.Nombre AS Producto2, p1.Precio\r\n",
                "FROM ejemplo.Productos p1\r\n",
                "INNER JOIN ejemplo.Productos p2 ON p1.Precio = p2.Precio\r\n",
                "WHERE p1.Id <> p2.Id;\r\n",
                ""
            ],
            "metadata": {
                "language": "sql",
                "azdata_cell_guid": "9332b3fa-451b-4139-96e3-1ddbbd013596"
            },
            "outputs": [
                {
                    "output_type": "display_data",
                    "data": {
                        "text/html": "(2 row(s) affected)"
                    },
                    "metadata": {}
                },
                {
                    "output_type": "display_data",
                    "data": {
                        "text/html": "Total execution time: 00:00:01.014"
                    },
                    "metadata": {}
                },
                {
                    "output_type": "execute_result",
                    "execution_count": 12,
                    "data": {
                        "application/vnd.dataresource+json": {
                            "schema": {
                                "fields": [
                                    {
                                        "name": "Producto1"
                                    },
                                    {
                                        "name": "Producto2"
                                    },
                                    {
                                        "name": "Precio"
                                    }
                                ]
                            },
                            "data": [
                                {
                                    "Producto1": "Tablet",
                                    "Producto2": "Laptop",
                                    "Precio": "1000.00"
                                },
                                {
                                    "Producto1": "Laptop",
                                    "Producto2": "Tablet",
                                    "Precio": "1000.00"
                                }
                            ]
                        },
                        "text/html": "<table><tr><th>Producto1</th><th>Producto2</th><th>Precio</th></tr><tr><td>Tablet</td><td>Laptop</td><td>1000.00</td></tr><tr><td>Laptop</td><td>Tablet</td><td>1000.00</td></tr></table>"
                    },
                    "metadata": {}
                }
            ],
            "execution_count": 12
        },
        {
            "cell_type": "markdown",
            "source": [
                "<span style=\"font-size: 16px; line-height: var(--cib-type-subtitle2-stronger-line-height); font-variation-settings: var(--cib-type-subtitle2-stronger-font-variation-settings); color: rgb(17, 17, 17); font-family: -apple-system, Roboto, SegoeUI, &quot;Segoe UI&quot;, &quot;Helvetica Neue&quot;, Helvetica, &quot;Microsoft YaHei&quot;, &quot;Meiryo UI&quot;, Meiryo, &quot;Arial Unicode MS&quot;, sans-serif; background-color: rgb(247, 247, 247);\"><b>4. Self join con LEFT JOIN</b></span><span style=\"color: rgb(17, 17, 17); font-family: -apple-system, Roboto, SegoeUI, &quot;Segoe UI&quot;, &quot;Helvetica Neue&quot;, Helvetica, &quot;Microsoft YaHei&quot;, &quot;Meiryo UI&quot;, Meiryo, &quot;Arial Unicode MS&quot;, sans-serif; font-size: 16px; background-color: rgb(247, 247, 247);\">: Supongamos que tenemos una tabla llamada&nbsp;</span> `Clientes` <span style=\"color: rgb(17, 17, 17); font-family: -apple-system, Roboto, SegoeUI, &quot;Segoe UI&quot;, &quot;Helvetica Neue&quot;, Helvetica, &quot;Microsoft YaHei&quot;, &quot;Meiryo UI&quot;, Meiryo, &quot;Arial Unicode MS&quot;, sans-serif; font-size: 16px; background-color: rgb(247, 247, 247);\">&nbsp;con las columnas&nbsp;</span> `Id`<span style=\"color: rgb(17, 17, 17); font-family: -apple-system, Roboto, SegoeUI, &quot;Segoe UI&quot;, &quot;Helvetica Neue&quot;, Helvetica, &quot;Microsoft YaHei&quot;, &quot;Meiryo UI&quot;, Meiryo, &quot;Arial Unicode MS&quot;, sans-serif; font-size: 16px; background-color: rgb(247, 247, 247);\">,&nbsp;</span> `Nombre` <span style=\"color: rgb(17, 17, 17); font-family: -apple-system, Roboto, SegoeUI, &quot;Segoe UI&quot;, &quot;Helvetica Neue&quot;, Helvetica, &quot;Microsoft YaHei&quot;, &quot;Meiryo UI&quot;, Meiryo, &quot;Arial Unicode MS&quot;, sans-serif; font-size: 16px; background-color: rgb(247, 247, 247);\">&nbsp;y&nbsp;</span> `Ciudad`<span style=\"color: rgb(17, 17, 17); font-family: -apple-system, Roboto, SegoeUI, &quot;Segoe UI&quot;, &quot;Helvetica Neue&quot;, Helvetica, &quot;Microsoft YaHei&quot;, &quot;Meiryo UI&quot;, Meiryo, &quot;Arial Unicode MS&quot;, sans-serif; font-size: 16px; background-color: rgb(247, 247, 247);\">.&nbsp;</span>"
            ],
            "metadata": {
                "language": "sql",
                "azdata_cell_guid": "549ffc2b-3e5f-4b07-8c2e-e0d0b867a04d"
            },
            "attachments": {}
        },
        {
            "cell_type": "code",
            "source": [
                "CREATE TABLE ejemplo.Clientes (\r\n",
                "    Id INT PRIMARY KEY,\r\n",
                "    Nombre VARCHAR(255),\r\n",
                "    Ciudad VARCHAR(255)\r\n",
                ");\r\n",
                "\r\n",
                "INSERT INTO ejemplo.Clientes (Id, Nombre, Ciudad)\r\n",
                "VALUES\r\n",
                "    (1, 'Pedro Gómez', 'Madrid'),\r\n",
                "    (2, 'Laura Fernández', 'Barcelona'),\r\n",
                "    (3, 'Sergio Ruiz', NULL),\r\n",
                "    (4, 'Elena Sánchez', 'Valencia');\r\n",
                ""
            ],
            "metadata": {
                "language": "sql",
                "azdata_cell_guid": "f6400001-b7b3-463b-80a4-fb7ba265fcf3"
            },
            "outputs": [
                {
                    "output_type": "display_data",
                    "data": {
                        "text/html": "Commands completed successfully"
                    },
                    "metadata": {}
                },
                {
                    "output_type": "display_data",
                    "data": {
                        "text/html": "Commands completed successfully"
                    },
                    "metadata": {}
                },
                {
                    "output_type": "display_data",
                    "data": {
                        "text/html": "Total execution time: 00:00:00.045"
                    },
                    "metadata": {}
                }
            ],
            "execution_count": 13
        },
        {
            "cell_type": "code",
            "source": [
                "SELECT * FROM ejemplo.Clientes"
            ],
            "metadata": {
                "language": "sql",
                "azdata_cell_guid": "1a6965eb-e549-4423-b4d8-b7f2cf4d4c62"
            },
            "outputs": [
                {
                    "output_type": "display_data",
                    "data": {
                        "text/html": "(4 row(s) affected)"
                    },
                    "metadata": {}
                },
                {
                    "output_type": "display_data",
                    "data": {
                        "text/html": "Total execution time: 00:00:01.017"
                    },
                    "metadata": {}
                },
                {
                    "output_type": "execute_result",
                    "execution_count": 14,
                    "data": {
                        "application/vnd.dataresource+json": {
                            "schema": {
                                "fields": [
                                    {
                                        "name": "Id"
                                    },
                                    {
                                        "name": "Nombre"
                                    },
                                    {
                                        "name": "Ciudad"
                                    }
                                ]
                            },
                            "data": [
                                {
                                    "Id": "1",
                                    "Nombre": "Pedro Gómez",
                                    "Ciudad": "Madrid"
                                },
                                {
                                    "Id": "2",
                                    "Nombre": "Laura Fernández",
                                    "Ciudad": "Barcelona"
                                },
                                {
                                    "Id": "3",
                                    "Nombre": "Sergio Ruiz",
                                    "Ciudad": "NULL"
                                },
                                {
                                    "Id": "4",
                                    "Nombre": "Elena Sánchez",
                                    "Ciudad": "Valencia"
                                }
                            ]
                        },
                        "text/html": "<table><tr><th>Id</th><th>Nombre</th><th>Ciudad</th></tr><tr><td>1</td><td>Pedro Gómez</td><td>Madrid</td></tr><tr><td>2</td><td>Laura Fernández</td><td>Barcelona</td></tr><tr><td>3</td><td>Sergio Ruiz</td><td>NULL</td></tr><tr><td>4</td><td>Elena Sánchez</td><td>Valencia</td></tr></table>"
                    },
                    "metadata": {}
                }
            ],
            "execution_count": 14
        },
        {
            "cell_type": "markdown",
            "source": [
                "<span style=\"color: rgb(17, 17, 17); font-family: -apple-system, Roboto, SegoeUI, &quot;Segoe UI&quot;, &quot;Helvetica Neue&quot;, Helvetica, &quot;Microsoft YaHei&quot;, &quot;Meiryo UI&quot;, Meiryo, &quot;Arial Unicode MS&quot;, sans-serif; font-size: 16px; background-color: rgb(247, 247, 247);\">Queremos encontrar todos los clientes y sus ciudades, incluso si no tienen una ciudad asignada. Podemos usar un self join con LEFT JOIN:</span>"
            ],
            "metadata": {
                "language": "sql",
                "azdata_cell_guid": "38cb5b36-b757-4461-ba1f-49e8bd0a5098"
            },
            "attachments": {}
        },
        {
            "cell_type": "code",
            "source": [
                "SELECT c1.Nombre AS Cliente, c2.Ciudad\r\n",
                "FROM ejemplo.Clientes c1\r\n",
                "LEFT JOIN ejemplo.Clientes c2 ON c1.Ciudad = c2.Ciudad\r\n",
                "WHERE c1.Id <> c2.Id OR c2.Id IS NULL;"
            ],
            "metadata": {
                "language": "sql",
                "azdata_cell_guid": "db762439-7dd8-4674-b6bf-47330132487a"
            },
            "outputs": [
                {
                    "output_type": "display_data",
                    "data": {
                        "text/html": "(1 row(s) affected)"
                    },
                    "metadata": {}
                },
                {
                    "output_type": "display_data",
                    "data": {
                        "text/html": "Total execution time: 00:00:01.010"
                    },
                    "metadata": {}
                },
                {
                    "output_type": "execute_result",
                    "execution_count": 15,
                    "data": {
                        "application/vnd.dataresource+json": {
                            "schema": {
                                "fields": [
                                    {
                                        "name": "Cliente"
                                    },
                                    {
                                        "name": "Ciudad"
                                    }
                                ]
                            },
                            "data": [
                                {
                                    "Cliente": "Sergio Ruiz",
                                    "Ciudad": "NULL"
                                }
                            ]
                        },
                        "text/html": "<table><tr><th>Cliente</th><th>Ciudad</th></tr><tr><td>Sergio Ruiz</td><td>NULL</td></tr></table>"
                    },
                    "metadata": {}
                }
            ],
            "execution_count": 15
        },
        {
            "cell_type": "markdown",
            "source": [
                "Toda la información [aqui](https:\\learnsql.com\\blog\\what-is-self-join-sql\\)"
            ],
            "metadata": {
                "language": "sql",
                "azdata_cell_guid": "87697731-dc21-4cdc-b05a-7571d616414a"
            },
            "attachments": {}
        }
    ]
}