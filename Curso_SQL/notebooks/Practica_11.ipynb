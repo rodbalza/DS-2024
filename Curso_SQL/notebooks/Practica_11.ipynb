{
    "metadata": {
        "kernelspec": {
            "name": "SQL",
            "display_name": "SQL",
            "language": "sql"
        },
        "language_info": {
            "name": "sql",
            "version": ""
        }
    },
    "nbformat_minor": 2,
    "nbformat": 4,
    "cells": [
        {
            "cell_type": "markdown",
            "source": [
                "# Practica 10"
            ],
            "metadata": {
                "azdata_cell_guid": "9d8c75b4-287a-4eb8-b3c6-920707d3f126"
            },
            "attachments": {}
        },
        {
            "cell_type": "markdown",
            "source": [
                "## Operador IN"
            ],
            "metadata": {
                "azdata_cell_guid": "09aeda61-cce3-4720-a3f3-703b960dee88"
            },
            "attachments": {}
        },
        {
            "cell_type": "markdown",
            "source": [
                "### Crea un subquery para generar una vista con:"
            ],
            "metadata": {
                "azdata_cell_guid": "212d2bdb-5734-42f9-aa68-9ce85933c47a"
            },
            "attachments": {}
        },
        {
            "cell_type": "markdown",
            "source": [
                "**1 Los vendedores que no vendieron en 2018**"
            ],
            "metadata": {
                "azdata_cell_guid": "91e35023-dd97-4e4f-bdf8-f2d3b2b8a2b3"
            },
            "attachments": {}
        },
        {
            "cell_type": "code",
            "source": [
                ""
            ],
            "metadata": {
                "azdata_cell_guid": "a3b2d15c-84d6-4b67-92ae-b13ef143d62d",
                "language": "sql"
            },
            "outputs": [],
            "execution_count": null
        },
        {
            "cell_type": "markdown",
            "source": [
                "**2 Productos que no se vendieron en marzo del 2017**"
            ],
            "metadata": {
                "language": "sql",
                "azdata_cell_guid": "58fef5bf-c696-42e0-aa14-e5d69607dfaf"
            },
            "attachments": {}
        },
        {
            "cell_type": "code",
            "source": [
                ""
            ],
            "metadata": {
                "language": "sql",
                "azdata_cell_guid": "0a595e32-c955-46a9-acbf-f02cb45cda57"
            },
            "outputs": [],
            "execution_count": null
        },
        {
            "cell_type": "markdown",
            "source": [
                "**3. Clientes que compraron propiedas de remates Bancarios en el primer cuarto de 2016**"
            ],
            "metadata": {
                "language": "sql",
                "azdata_cell_guid": "576cb8c7-eb68-4f3a-87d8-5497571b0c2d"
            },
            "attachments": {}
        },
        {
            "cell_type": "code",
            "source": [
                ""
            ],
            "metadata": {
                "language": "sql",
                "azdata_cell_guid": "0a296db5-2ea0-4761-b0ba-eacaa589c50a"
            },
            "outputs": [],
            "execution_count": null
        },
        {
            "cell_type": "markdown",
            "source": [
                "### <span style=\"font-size: 16.38px;\">Uso de ALL &amp; ANY</span>"
            ],
            "metadata": {
                "language": "sql",
                "azdata_cell_guid": "189178dc-907f-4dcb-8828-e9f6798fd5f1"
            },
            "attachments": {}
        },
        {
            "cell_type": "markdown",
            "source": [
                "### <span style=\"font-size: 16.38px;\">Genera una vista para entregar el informe que contenga:</span>"
            ],
            "metadata": {
                "language": "sql",
                "azdata_cell_guid": "aa0b693b-99a3-483d-aa2d-e4ae70ca3652"
            },
            "attachments": {}
        },
        {
            "cell_type": "markdown",
            "source": [
                "**4. Todas las ventas superiores a la venta más cara de una oficina**"
            ],
            "metadata": {
                "language": "sql",
                "azdata_cell_guid": "e3446a7d-efd1-4618-8beb-19978a16b343"
            },
            "attachments": {}
        },
        {
            "cell_type": "code",
            "source": [
                ""
            ],
            "metadata": {
                "language": "sql",
                "azdata_cell_guid": "b143f804-d972-43db-a8e4-d0813b162bab"
            },
            "outputs": [],
            "execution_count": null
        },
        {
            "cell_type": "markdown",
            "source": [
                "**5. Cualquier venta mayor al de una oficina**"
            ],
            "metadata": {
                "language": "sql",
                "azdata_cell_guid": "c37d6fd0-2ca4-4181-a278-0acfca0870bc"
            },
            "attachments": {}
        },
        {
            "cell_type": "code",
            "source": [
                ""
            ],
            "metadata": {
                "language": "sql",
                "azdata_cell_guid": "84bcc79e-e15d-409d-bc1c-2193635bb655"
            },
            "outputs": [],
            "execution_count": null
        },
        {
            "cell_type": "markdown",
            "source": [
                "## EXISTS"
            ],
            "metadata": {
                "language": "sql",
                "azdata_cell_guid": "78d01d67-89d0-4b2e-bb78-2bb9e6072171"
            },
            "attachments": {}
        },
        {
            "cell_type": "markdown",
            "source": [
                "## Buscaremos a todos los vendedores que no vendieron usando EXISTS y el uso de un query correlacionado:"
            ],
            "metadata": {
                "language": "sql",
                "azdata_cell_guid": "d3d6a176-4893-4a8c-bfff-af776ab074a4"
            },
            "attachments": {}
        },
        {
            "cell_type": "markdown",
            "source": [
                "**6. Todos los vendedores que no han vendido nada**"
            ],
            "metadata": {
                "language": "sql",
                "azdata_cell_guid": "982d6af5-0833-4e9c-9c1d-817dbf02ef23"
            },
            "attachments": {}
        },
        {
            "cell_type": "code",
            "source": [
                ""
            ],
            "metadata": {
                "language": "sql",
                "azdata_cell_guid": "9d7c6d2c-1e68-4a57-8b50-c710034f97b6"
            },
            "outputs": [],
            "execution_count": null
        },
        {
            "cell_type": "markdown",
            "source": [
                "## Subqueries en SELECT"
            ],
            "metadata": {
                "language": "sql",
                "azdata_cell_guid": "5d3e12c9-8781-4f4a-b80a-f7a2dc6ce19b"
            },
            "attachments": {}
        },
        {
            "cell_type": "markdown",
            "source": [
                "## Crea un subquery en SELECT para:"
            ],
            "metadata": {
                "language": "sql",
                "azdata_cell_guid": "ccf76291-e48e-4a14-abd0-27b02242a299"
            },
            "attachments": {}
        },
        {
            "cell_type": "markdown",
            "source": [
                "**7. Obtener el % que representa cada venta del total por cliente**"
            ],
            "metadata": {
                "language": "sql",
                "azdata_cell_guid": "4b873944-0d1e-451f-b0ff-b5587b0a8625"
            },
            "attachments": {}
        },
        {
            "cell_type": "code",
            "source": [
                ""
            ],
            "metadata": {
                "language": "sql",
                "azdata_cell_guid": "d765aa2d-080a-4e5e-8c40-ccae0371af31"
            },
            "outputs": [],
            "execution_count": null
        }
    ]
}