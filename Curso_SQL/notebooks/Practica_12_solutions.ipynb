{
    "metadata": {
        "kernelspec": {
            "name": "SQL",
            "display_name": "SQL",
            "language": "sql"
        },
        "language_info": {
            "name": "sql",
            "version": ""
        }
    },
    "nbformat_minor": 2,
    "nbformat": 4,
    "cells": [
        {
            "cell_type": "markdown",
            "source": [
                "## Parte 1. Responder utilizando el schema **base.sql**"
            ],
            "metadata": {
                "azdata_cell_guid": "ad167c91-d9fd-42f2-92c6-be5fa7eaa9d1"
            },
            "attachments": {}
        },
        {
            "cell_type": "markdown",
            "source": [
                "## Funciones String & Fecha"
            ],
            "metadata": {
                "azdata_cell_guid": "c0df12e8-4126-4504-bf38-a2d0882ead0a"
            },
            "attachments": {}
        },
        {
            "cell_type": "markdown",
            "source": [
                "**1\\. ¿Cuál es el nombre y apellido más largo de nuestros vendedores?**"
            ],
            "metadata": {
                "azdata_cell_guid": "9330de94-fa96-4464-8ff1-08741917f89d"
            },
            "attachments": {}
        },
        {
            "cell_type": "code",
            "source": [
                ""
            ],
            "metadata": {
                "azdata_cell_guid": "bdf6dcc8-7ac9-4938-a343-f4907bc0bdd3",
                "language": "sql"
            },
            "outputs": [],
            "execution_count": null
        },
        {
            "cell_type": "markdown",
            "source": [
                "**2\\. Obtener las ventas totales para los últimos 3 años**"
            ],
            "metadata": {
                "language": "sql",
                "azdata_cell_guid": "e8601d72-0935-4354-9639-8795a75c2482"
            },
            "attachments": {}
        },
        {
            "cell_type": "code",
            "source": [
                ""
            ],
            "metadata": {
                "language": "sql",
                "azdata_cell_guid": "f7b1dc22-66df-412a-b2e6-d7c72cc6e616"
            },
            "outputs": [],
            "execution_count": null
        },
        {
            "cell_type": "markdown",
            "source": [
                "**3. Genera una lista para dar seguimiento a las ventas mayores a $ 2.9 M en 2019**"
            ],
            "metadata": {
                "language": "sql",
                "azdata_cell_guid": "c7f667c9-ba97-4b0b-8619-67670d611592"
            },
            "attachments": {}
        },
        {
            "cell_type": "code",
            "source": [
                ""
            ],
            "metadata": {
                "language": "sql",
                "azdata_cell_guid": "270c8f92-f223-4e91-8fb9-ee0c1d61eaaf"
            },
            "outputs": [],
            "execution_count": null
        },
        {
            "cell_type": "markdown",
            "source": [
                "4. **Aplicar descuento si la cantidad es mayor a 3**"
            ],
            "metadata": {
                "language": "sql",
                "azdata_cell_guid": "e0529d9c-a3d1-4f68-a162-0ce88323f768"
            },
            "attachments": {}
        },
        {
            "cell_type": "code",
            "source": [
                "USE market;"
            ],
            "metadata": {
                "language": "sql",
                "azdata_cell_guid": "daf61ac8-93b4-4b1e-9f44-fa05e5bc6efa"
            },
            "outputs": [
                {
                    "output_type": "display_data",
                    "data": {
                        "text/html": "Commands completed successfully"
                    },
                    "metadata": {}
                },
                {
                    "output_type": "display_data",
                    "data": {
                        "text/html": "Total execution time: 00:00:00"
                    },
                    "metadata": {}
                }
            ],
            "execution_count": 1
        },
        {
            "cell_type": "code",
            "source": [
                "SELECT ID, Producto, Cantidad, Precio, IF(Cantidad > 3, Precio - Descuento, Precio) AS PrecioFinal\r\n",
                "FROM Ventas;"
            ],
            "metadata": {
                "language": "sql",
                "azdata_cell_guid": "244b114a-1775-49bf-97d8-a5782fd20b30"
            },
            "outputs": [
                {
                    "output_type": "display_data",
                    "data": {
                        "text/html": "(10 row(s) affected)"
                    },
                    "metadata": {}
                },
                {
                    "output_type": "display_data",
                    "data": {
                        "text/html": "Total execution time: 00:00:01.009"
                    },
                    "metadata": {}
                },
                {
                    "output_type": "execute_result",
                    "metadata": {},
                    "execution_count": 2,
                    "data": {
                        "application/vnd.dataresource+json": {
                            "schema": {
                                "fields": [
                                    {
                                        "name": "ID"
                                    },
                                    {
                                        "name": "Producto"
                                    },
                                    {
                                        "name": "Cantidad"
                                    },
                                    {
                                        "name": "Precio"
                                    },
                                    {
                                        "name": "PrecioFinal"
                                    }
                                ]
                            },
                            "data": [
                                {
                                    "ID": "1",
                                    "Producto": "Laptop",
                                    "Cantidad": "1",
                                    "Precio": "1200.00",
                                    "PrecioFinal": "1200.00"
                                },
                                {
                                    "ID": "2",
                                    "Producto": "Smartphone",
                                    "Cantidad": "2",
                                    "Precio": "300.00",
                                    "PrecioFinal": "300.00"
                                },
                                {
                                    "ID": "3",
                                    "Producto": "Teclado",
                                    "Cantidad": "5",
                                    "Precio": "50.00",
                                    "PrecioFinal": "45.00"
                                },
                                {
                                    "ID": "4",
                                    "Producto": "Monitor",
                                    "Cantidad": "2",
                                    "Precio": "200.00",
                                    "PrecioFinal": "200.00"
                                },
                                {
                                    "ID": "5",
                                    "Producto": "Mouse",
                                    "Cantidad": "10",
                                    "Precio": "20.00",
                                    "PrecioFinal": "18.00"
                                },
                                {
                                    "ID": "6",
                                    "Producto": "Cámara Web",
                                    "Cantidad": "3",
                                    "Precio": "70.00",
                                    "PrecioFinal": "70.00"
                                },
                                {
                                    "ID": "7",
                                    "Producto": "Altavoces",
                                    "Cantidad": "4",
                                    "Precio": "35.00",
                                    "PrecioFinal": "31.50"
                                },
                                {
                                    "ID": "8",
                                    "Producto": "Impresora",
                                    "Cantidad": "1",
                                    "Precio": "85.00",
                                    "PrecioFinal": "85.00"
                                },
                                {
                                    "ID": "9",
                                    "Producto": "Router",
                                    "Cantidad": "2",
                                    "Precio": "60.00",
                                    "PrecioFinal": "60.00"
                                },
                                {
                                    "ID": "10",
                                    "Producto": "Tablet",
                                    "Cantidad": "5",
                                    "Precio": "250.00",
                                    "PrecioFinal": "237.50"
                                }
                            ]
                        },
                        "text/html": [
                            "<table>",
                            "<tr><th>ID</th><th>Producto</th><th>Cantidad</th><th>Precio</th><th>PrecioFinal</th></tr>",
                            "<tr><td>1</td><td>Laptop</td><td>1</td><td>1200.00</td><td>1200.00</td></tr>",
                            "<tr><td>2</td><td>Smartphone</td><td>2</td><td>300.00</td><td>300.00</td></tr>",
                            "<tr><td>3</td><td>Teclado</td><td>5</td><td>50.00</td><td>45.00</td></tr>",
                            "<tr><td>4</td><td>Monitor</td><td>2</td><td>200.00</td><td>200.00</td></tr>",
                            "<tr><td>5</td><td>Mouse</td><td>10</td><td>20.00</td><td>18.00</td></tr>",
                            "<tr><td>6</td><td>Cámara Web</td><td>3</td><td>70.00</td><td>70.00</td></tr>",
                            "<tr><td>7</td><td>Altavoces</td><td>4</td><td>35.00</td><td>31.50</td></tr>",
                            "<tr><td>8</td><td>Impresora</td><td>1</td><td>85.00</td><td>85.00</td></tr>",
                            "<tr><td>9</td><td>Router</td><td>2</td><td>60.00</td><td>60.00</td></tr>",
                            "<tr><td>10</td><td>Tablet</td><td>5</td><td>250.00</td><td>237.50</td></tr>",
                            "</table>"
                        ]
                    }
                }
            ],
            "execution_count": 2
        },
        {
            "cell_type": "markdown",
            "source": [
                "**5.** <span style=\"color: var(--cib-color-syntax-gray); font-size: var(--cib-type-body1-font-size); white-space-collapse: preserve; font-family: Menlo, Monaco, Consolas, &quot;Droid Sans Mono&quot;, &quot;Courier New&quot;, monospace, &quot;Droid Sans Fallback&quot;;\"><b>Clasificar productos como 'Caro' o 'Barato' basado en el precio. Establezca usted mismo el criterio de 'Caro' y 'Barato'</b></span>"
            ],
            "metadata": {
                "language": "sql",
                "azdata_cell_guid": "74f39e68-d1b9-4b26-a478-3dbe50dc2c8f"
            },
            "attachments": {}
        },
        {
            "cell_type": "code",
            "source": [
                "SELECT Producto, IF(Precio > 500, 'Caro', 'Barato') AS Clasificacion\r\n",
                "FROM Ventas;\r\n",
                "    "
            ],
            "metadata": {
                "language": "sql",
                "azdata_cell_guid": "99a0e871-cb11-481a-babf-792ecb97d78f"
            },
            "outputs": [
                {
                    "output_type": "display_data",
                    "data": {
                        "text/html": "(10 row(s) affected)"
                    },
                    "metadata": {}
                },
                {
                    "output_type": "display_data",
                    "data": {
                        "text/html": "Total execution time: 00:00:01.015"
                    },
                    "metadata": {}
                },
                {
                    "output_type": "execute_result",
                    "metadata": {},
                    "execution_count": 3,
                    "data": {
                        "application/vnd.dataresource+json": {
                            "schema": {
                                "fields": [
                                    {
                                        "name": "Producto"
                                    },
                                    {
                                        "name": "Clasificacion"
                                    }
                                ]
                            },
                            "data": [
                                {
                                    "Producto": "Laptop",
                                    "Clasificacion": "Caro"
                                },
                                {
                                    "Producto": "Smartphone",
                                    "Clasificacion": "Barato"
                                },
                                {
                                    "Producto": "Teclado",
                                    "Clasificacion": "Barato"
                                },
                                {
                                    "Producto": "Monitor",
                                    "Clasificacion": "Barato"
                                },
                                {
                                    "Producto": "Mouse",
                                    "Clasificacion": "Barato"
                                },
                                {
                                    "Producto": "Cámara Web",
                                    "Clasificacion": "Barato"
                                },
                                {
                                    "Producto": "Altavoces",
                                    "Clasificacion": "Barato"
                                },
                                {
                                    "Producto": "Impresora",
                                    "Clasificacion": "Barato"
                                },
                                {
                                    "Producto": "Router",
                                    "Clasificacion": "Barato"
                                },
                                {
                                    "Producto": "Tablet",
                                    "Clasificacion": "Barato"
                                }
                            ]
                        },
                        "text/html": [
                            "<table>",
                            "<tr><th>Producto</th><th>Clasificacion</th></tr>",
                            "<tr><td>Laptop</td><td>Caro</td></tr>",
                            "<tr><td>Smartphone</td><td>Barato</td></tr>",
                            "<tr><td>Teclado</td><td>Barato</td></tr>",
                            "<tr><td>Monitor</td><td>Barato</td></tr>",
                            "<tr><td>Mouse</td><td>Barato</td></tr>",
                            "<tr><td>Cámara Web</td><td>Barato</td></tr>",
                            "<tr><td>Altavoces</td><td>Barato</td></tr>",
                            "<tr><td>Impresora</td><td>Barato</td></tr>",
                            "<tr><td>Router</td><td>Barato</td></tr>",
                            "<tr><td>Tablet</td><td>Barato</td></tr>",
                            "</table>"
                        ]
                    }
                }
            ],
            "execution_count": 3
        },
        {
            "cell_type": "markdown",
            "source": [
                "**6.** <span style=\"color: var(--cib-color-syntax-gray); font-size: var(--cib-type-body1-font-size); white-space-collapse: preserve; font-family: Menlo, Monaco, Consolas, &quot;Droid Sans Mono&quot;, &quot;Courier New&quot;, monospace, &quot;Droid Sans Fallback&quot;;\"><b>Calcular el total de ventas con y sin descuento</b></span>"
            ],
            "metadata": {
                "language": "sql",
                "azdata_cell_guid": "93d55797-52e6-4d30-8bf0-fb3bd073f7f0"
            },
            "attachments": {}
        },
        {
            "cell_type": "code",
            "source": [
                "SELECT Producto, Cantidad, Precio, Descuento,\r\n",
                "       Cantidad * Precio AS TotalSinDescuento,\r\n",
                "       Cantidad * IF(Cantidad > 3, Precio - Descuento, Precio) AS TotalConDescuento\r\n",
                "FROM Ventas;\r\n",
                ""
            ],
            "metadata": {
                "language": "sql",
                "azdata_cell_guid": "68b11774-28e2-4455-bc3a-fd3be9c32bad"
            },
            "outputs": [
                {
                    "output_type": "display_data",
                    "data": {
                        "text/html": "(10 row(s) affected)"
                    },
                    "metadata": {}
                },
                {
                    "output_type": "display_data",
                    "data": {
                        "text/html": "Total execution time: 00:00:01.008"
                    },
                    "metadata": {}
                },
                {
                    "output_type": "execute_result",
                    "metadata": {},
                    "execution_count": 4,
                    "data": {
                        "application/vnd.dataresource+json": {
                            "schema": {
                                "fields": [
                                    {
                                        "name": "Producto"
                                    },
                                    {
                                        "name": "Cantidad"
                                    },
                                    {
                                        "name": "Precio"
                                    },
                                    {
                                        "name": "Descuento"
                                    },
                                    {
                                        "name": "TotalSinDescuento"
                                    },
                                    {
                                        "name": "TotalConDescuento"
                                    }
                                ]
                            },
                            "data": [
                                {
                                    "Producto": "Laptop",
                                    "Cantidad": "1",
                                    "Precio": "1200.00",
                                    "Descuento": "0.00",
                                    "TotalSinDescuento": "1200.00",
                                    "TotalConDescuento": "1200.00"
                                },
                                {
                                    "Producto": "Smartphone",
                                    "Cantidad": "2",
                                    "Precio": "300.00",
                                    "Descuento": "15.00",
                                    "TotalSinDescuento": "600.00",
                                    "TotalConDescuento": "600.00"
                                },
                                {
                                    "Producto": "Teclado",
                                    "Cantidad": "5",
                                    "Precio": "50.00",
                                    "Descuento": "5.00",
                                    "TotalSinDescuento": "250.00",
                                    "TotalConDescuento": "225.00"
                                },
                                {
                                    "Producto": "Monitor",
                                    "Cantidad": "2",
                                    "Precio": "200.00",
                                    "Descuento": "10.00",
                                    "TotalSinDescuento": "400.00",
                                    "TotalConDescuento": "400.00"
                                },
                                {
                                    "Producto": "Mouse",
                                    "Cantidad": "10",
                                    "Precio": "20.00",
                                    "Descuento": "2.00",
                                    "TotalSinDescuento": "200.00",
                                    "TotalConDescuento": "180.00"
                                },
                                {
                                    "Producto": "Cámara Web",
                                    "Cantidad": "3",
                                    "Precio": "70.00",
                                    "Descuento": "5.00",
                                    "TotalSinDescuento": "210.00",
                                    "TotalConDescuento": "210.00"
                                },
                                {
                                    "Producto": "Altavoces",
                                    "Cantidad": "4",
                                    "Precio": "35.00",
                                    "Descuento": "3.50",
                                    "TotalSinDescuento": "140.00",
                                    "TotalConDescuento": "126.00"
                                },
                                {
                                    "Producto": "Impresora",
                                    "Cantidad": "1",
                                    "Precio": "85.00",
                                    "Descuento": "0.00",
                                    "TotalSinDescuento": "85.00",
                                    "TotalConDescuento": "85.00"
                                },
                                {
                                    "Producto": "Router",
                                    "Cantidad": "2",
                                    "Precio": "60.00",
                                    "Descuento": "0.00",
                                    "TotalSinDescuento": "120.00",
                                    "TotalConDescuento": "120.00"
                                },
                                {
                                    "Producto": "Tablet",
                                    "Cantidad": "5",
                                    "Precio": "250.00",
                                    "Descuento": "12.50",
                                    "TotalSinDescuento": "1250.00",
                                    "TotalConDescuento": "1187.50"
                                }
                            ]
                        },
                        "text/html": [
                            "<table>",
                            "<tr><th>Producto</th><th>Cantidad</th><th>Precio</th><th>Descuento</th><th>TotalSinDescuento</th><th>TotalConDescuento</th></tr>",
                            "<tr><td>Laptop</td><td>1</td><td>1200.00</td><td>0.00</td><td>1200.00</td><td>1200.00</td></tr>",
                            "<tr><td>Smartphone</td><td>2</td><td>300.00</td><td>15.00</td><td>600.00</td><td>600.00</td></tr>",
                            "<tr><td>Teclado</td><td>5</td><td>50.00</td><td>5.00</td><td>250.00</td><td>225.00</td></tr>",
                            "<tr><td>Monitor</td><td>2</td><td>200.00</td><td>10.00</td><td>400.00</td><td>400.00</td></tr>",
                            "<tr><td>Mouse</td><td>10</td><td>20.00</td><td>2.00</td><td>200.00</td><td>180.00</td></tr>",
                            "<tr><td>Cámara Web</td><td>3</td><td>70.00</td><td>5.00</td><td>210.00</td><td>210.00</td></tr>",
                            "<tr><td>Altavoces</td><td>4</td><td>35.00</td><td>3.50</td><td>140.00</td><td>126.00</td></tr>",
                            "<tr><td>Impresora</td><td>1</td><td>85.00</td><td>0.00</td><td>85.00</td><td>85.00</td></tr>",
                            "<tr><td>Router</td><td>2</td><td>60.00</td><td>0.00</td><td>120.00</td><td>120.00</td></tr>",
                            "<tr><td>Tablet</td><td>5</td><td>250.00</td><td>12.50</td><td>1250.00</td><td>1187.50</td></tr>",
                            "</table>"
                        ]
                    }
                }
            ],
            "execution_count": 4
        },
        {
            "cell_type": "markdown",
            "source": [
                "**7.** <span style=\"color: var(--cib-color-syntax-gray); font-size: var(--cib-type-body1-font-size); white-space-collapse: preserve; font-family: Menlo, Monaco, Consolas, &quot;Droid Sans Mono&quot;, &quot;Courier New&quot;, monospace, &quot;Droid Sans Fallback&quot;;\"><b>Aplicar un descuento adicional del 10% a los productos que ya tienen descuento</b></span>"
            ],
            "metadata": {
                "language": "sql",
                "azdata_cell_guid": "a8fefcb2-d3fb-4cf3-9e90-61e8f0670985"
            },
            "attachments": {}
        },
        {
            "cell_type": "code",
            "source": [
                "SELECT Producto, Precio, Descuento,\r\n",
                "       CASE\r\n",
                "           WHEN Descuento > 0 THEN Precio * (1 - (Descuento / 100)) * 0.9\r\n",
                "           ELSE Precio\r\n",
                "       END AS PrecioConDescuentoAdicional\r\n",
                "FROM Ventas;"
            ],
            "metadata": {
                "language": "sql",
                "azdata_cell_guid": "01812695-eded-4417-8a7f-a7f725143661"
            },
            "outputs": [
                {
                    "output_type": "display_data",
                    "data": {
                        "text/html": "(10 row(s) affected)"
                    },
                    "metadata": {}
                },
                {
                    "output_type": "display_data",
                    "data": {
                        "text/html": "Total execution time: 00:00:01.010"
                    },
                    "metadata": {}
                },
                {
                    "output_type": "execute_result",
                    "metadata": {},
                    "execution_count": 6,
                    "data": {
                        "application/vnd.dataresource+json": {
                            "schema": {
                                "fields": [
                                    {
                                        "name": "Producto"
                                    },
                                    {
                                        "name": "Precio"
                                    },
                                    {
                                        "name": "Descuento"
                                    },
                                    {
                                        "name": "PrecioConDescuentoAdicional"
                                    }
                                ]
                            },
                            "data": [
                                {
                                    "Producto": "Laptop",
                                    "Precio": "1200.00",
                                    "Descuento": "0.00",
                                    "PrecioConDescuentoAdicional": "1200.00"
                                },
                                {
                                    "Producto": "Smartphone",
                                    "Precio": "300.00",
                                    "Descuento": "15.00",
                                    "PrecioConDescuentoAdicional": "229.500000000"
                                },
                                {
                                    "Producto": "Teclado",
                                    "Precio": "50.00",
                                    "Descuento": "5.00",
                                    "PrecioConDescuentoAdicional": "42.750000000"
                                },
                                {
                                    "Producto": "Monitor",
                                    "Precio": "200.00",
                                    "Descuento": "10.00",
                                    "PrecioConDescuentoAdicional": "162.000000000"
                                },
                                {
                                    "Producto": "Mouse",
                                    "Precio": "20.00",
                                    "Descuento": "2.00",
                                    "PrecioConDescuentoAdicional": "17.640000000"
                                },
                                {
                                    "Producto": "Cámara Web",
                                    "Precio": "70.00",
                                    "Descuento": "5.00",
                                    "PrecioConDescuentoAdicional": "59.850000000"
                                },
                                {
                                    "Producto": "Altavoces",
                                    "Precio": "35.00",
                                    "Descuento": "3.50",
                                    "PrecioConDescuentoAdicional": "30.397500000"
                                },
                                {
                                    "Producto": "Impresora",
                                    "Precio": "85.00",
                                    "Descuento": "0.00",
                                    "PrecioConDescuentoAdicional": "85.00"
                                },
                                {
                                    "Producto": "Router",
                                    "Precio": "60.00",
                                    "Descuento": "0.00",
                                    "PrecioConDescuentoAdicional": "60.00"
                                },
                                {
                                    "Producto": "Tablet",
                                    "Precio": "250.00",
                                    "Descuento": "12.50",
                                    "PrecioConDescuentoAdicional": "196.875000000"
                                }
                            ]
                        },
                        "text/html": [
                            "<table>",
                            "<tr><th>Producto</th><th>Precio</th><th>Descuento</th><th>PrecioConDescuentoAdicional</th></tr>",
                            "<tr><td>Laptop</td><td>1200.00</td><td>0.00</td><td>1200.00</td></tr>",
                            "<tr><td>Smartphone</td><td>300.00</td><td>15.00</td><td>229.500000000</td></tr>",
                            "<tr><td>Teclado</td><td>50.00</td><td>5.00</td><td>42.750000000</td></tr>",
                            "<tr><td>Monitor</td><td>200.00</td><td>10.00</td><td>162.000000000</td></tr>",
                            "<tr><td>Mouse</td><td>20.00</td><td>2.00</td><td>17.640000000</td></tr>",
                            "<tr><td>Cámara Web</td><td>70.00</td><td>5.00</td><td>59.850000000</td></tr>",
                            "<tr><td>Altavoces</td><td>35.00</td><td>3.50</td><td>30.397500000</td></tr>",
                            "<tr><td>Impresora</td><td>85.00</td><td>0.00</td><td>85.00</td></tr>",
                            "<tr><td>Router</td><td>60.00</td><td>0.00</td><td>60.00</td></tr>",
                            "<tr><td>Tablet</td><td>250.00</td><td>12.50</td><td>196.875000000</td></tr>",
                            "</table>"
                        ]
                    }
                }
            ],
            "execution_count": 6
        },
        {
            "cell_type": "markdown",
            "source": [
                "**8\\. Aumentar el precio de los productos en un 20% si se venden menos de 3 unidades**"
            ],
            "metadata": {
                "language": "sql",
                "azdata_cell_guid": "b5140f0b-fd79-48b4-9f10-a5f25749c95f"
            },
            "attachments": {}
        },
        {
            "cell_type": "code",
            "source": [
                "SELECT Producto, Cantidad, Precio,\r\n",
                "       CASE\r\n",
                "           WHEN Cantidad < 3 THEN Precio * 1.20\r\n",
                "           ELSE Precio\r\n",
                "       END AS PrecioAumentado\r\n",
                "FROM Ventas;"
            ],
            "metadata": {
                "language": "sql",
                "azdata_cell_guid": "20fabb95-c315-4aa5-9617-2407336859ee"
            },
            "outputs": [
                {
                    "output_type": "display_data",
                    "data": {
                        "text/html": "(10 row(s) affected)"
                    },
                    "metadata": {}
                },
                {
                    "output_type": "display_data",
                    "data": {
                        "text/html": "Total execution time: 00:00:01.011"
                    },
                    "metadata": {}
                },
                {
                    "output_type": "execute_result",
                    "metadata": {},
                    "execution_count": 7,
                    "data": {
                        "application/vnd.dataresource+json": {
                            "schema": {
                                "fields": [
                                    {
                                        "name": "Producto"
                                    },
                                    {
                                        "name": "Cantidad"
                                    },
                                    {
                                        "name": "Precio"
                                    },
                                    {
                                        "name": "PrecioAumentado"
                                    }
                                ]
                            },
                            "data": [
                                {
                                    "Producto": "Laptop",
                                    "Cantidad": "1",
                                    "Precio": "1200.00",
                                    "PrecioAumentado": "1440.0000"
                                },
                                {
                                    "Producto": "Smartphone",
                                    "Cantidad": "2",
                                    "Precio": "300.00",
                                    "PrecioAumentado": "360.0000"
                                },
                                {
                                    "Producto": "Teclado",
                                    "Cantidad": "5",
                                    "Precio": "50.00",
                                    "PrecioAumentado": "50.00"
                                },
                                {
                                    "Producto": "Monitor",
                                    "Cantidad": "2",
                                    "Precio": "200.00",
                                    "PrecioAumentado": "240.0000"
                                },
                                {
                                    "Producto": "Mouse",
                                    "Cantidad": "10",
                                    "Precio": "20.00",
                                    "PrecioAumentado": "20.00"
                                },
                                {
                                    "Producto": "Cámara Web",
                                    "Cantidad": "3",
                                    "Precio": "70.00",
                                    "PrecioAumentado": "70.00"
                                },
                                {
                                    "Producto": "Altavoces",
                                    "Cantidad": "4",
                                    "Precio": "35.00",
                                    "PrecioAumentado": "35.00"
                                },
                                {
                                    "Producto": "Impresora",
                                    "Cantidad": "1",
                                    "Precio": "85.00",
                                    "PrecioAumentado": "102.0000"
                                },
                                {
                                    "Producto": "Router",
                                    "Cantidad": "2",
                                    "Precio": "60.00",
                                    "PrecioAumentado": "72.0000"
                                },
                                {
                                    "Producto": "Tablet",
                                    "Cantidad": "5",
                                    "Precio": "250.00",
                                    "PrecioAumentado": "250.00"
                                }
                            ]
                        },
                        "text/html": [
                            "<table>",
                            "<tr><th>Producto</th><th>Cantidad</th><th>Precio</th><th>PrecioAumentado</th></tr>",
                            "<tr><td>Laptop</td><td>1</td><td>1200.00</td><td>1440.0000</td></tr>",
                            "<tr><td>Smartphone</td><td>2</td><td>300.00</td><td>360.0000</td></tr>",
                            "<tr><td>Teclado</td><td>5</td><td>50.00</td><td>50.00</td></tr>",
                            "<tr><td>Monitor</td><td>2</td><td>200.00</td><td>240.0000</td></tr>",
                            "<tr><td>Mouse</td><td>10</td><td>20.00</td><td>20.00</td></tr>",
                            "<tr><td>Cámara Web</td><td>3</td><td>70.00</td><td>70.00</td></tr>",
                            "<tr><td>Altavoces</td><td>4</td><td>35.00</td><td>35.00</td></tr>",
                            "<tr><td>Impresora</td><td>1</td><td>85.00</td><td>102.0000</td></tr>",
                            "<tr><td>Router</td><td>2</td><td>60.00</td><td>72.0000</td></tr>",
                            "<tr><td>Tablet</td><td>5</td><td>250.00</td><td>250.00</td></tr>",
                            "</table>"
                        ]
                    }
                }
            ],
            "execution_count": 7
        },
        {
            "cell_type": "markdown",
            "source": [
                "**9. <span style=\"color: var(--cib-color-syntax-gray); font-family: Menlo, Monaco, Consolas, &quot;Droid Sans Mono&quot;, &quot;Courier New&quot;, monospace, &quot;Droid Sans Fallback&quot;; font-size: var(--cib-type-body1-font-size); white-space-collapse: preserve;\">Asignar un rango de ventas basado en la cantidad vendida. Establezca usted mismo los criterios, por ejemplo: ALTO, MEDIO o BAJO según en valor que consideres.</span>**"
            ],
            "metadata": {
                "language": "sql",
                "azdata_cell_guid": "7130c426-f783-4400-b6d4-8757cb26174b"
            },
            "attachments": {}
        },
        {
            "cell_type": "code",
            "source": [
                "SELECT Producto,\r\n",
                "       CASE\r\n",
                "           WHEN Cantidad >= 5 THEN 'Alto'\r\n",
                "           WHEN Cantidad >= 2 THEN 'Medio'\r\n",
                "           ELSE 'Bajo'\r\n",
                "       END AS RangoVentas\r\n",
                "FROM Ventas;"
            ],
            "metadata": {
                "language": "sql",
                "azdata_cell_guid": "1f2af314-15ce-4ab5-bcf7-fd6961d36bb4"
            },
            "outputs": [
                {
                    "output_type": "display_data",
                    "data": {
                        "text/html": "(10 row(s) affected)"
                    },
                    "metadata": {}
                },
                {
                    "output_type": "display_data",
                    "data": {
                        "text/html": "Total execution time: 00:00:01.008"
                    },
                    "metadata": {}
                },
                {
                    "output_type": "execute_result",
                    "metadata": {},
                    "execution_count": 8,
                    "data": {
                        "application/vnd.dataresource+json": {
                            "schema": {
                                "fields": [
                                    {
                                        "name": "Producto"
                                    },
                                    {
                                        "name": "RangoVentas"
                                    }
                                ]
                            },
                            "data": [
                                {
                                    "Producto": "Laptop",
                                    "RangoVentas": "Bajo"
                                },
                                {
                                    "Producto": "Smartphone",
                                    "RangoVentas": "Medio"
                                },
                                {
                                    "Producto": "Teclado",
                                    "RangoVentas": "Alto"
                                },
                                {
                                    "Producto": "Monitor",
                                    "RangoVentas": "Medio"
                                },
                                {
                                    "Producto": "Mouse",
                                    "RangoVentas": "Alto"
                                },
                                {
                                    "Producto": "Cámara Web",
                                    "RangoVentas": "Medio"
                                },
                                {
                                    "Producto": "Altavoces",
                                    "RangoVentas": "Medio"
                                },
                                {
                                    "Producto": "Impresora",
                                    "RangoVentas": "Bajo"
                                },
                                {
                                    "Producto": "Router",
                                    "RangoVentas": "Medio"
                                },
                                {
                                    "Producto": "Tablet",
                                    "RangoVentas": "Alto"
                                }
                            ]
                        },
                        "text/html": [
                            "<table>",
                            "<tr><th>Producto</th><th>RangoVentas</th></tr>",
                            "<tr><td>Laptop</td><td>Bajo</td></tr>",
                            "<tr><td>Smartphone</td><td>Medio</td></tr>",
                            "<tr><td>Teclado</td><td>Alto</td></tr>",
                            "<tr><td>Monitor</td><td>Medio</td></tr>",
                            "<tr><td>Mouse</td><td>Alto</td></tr>",
                            "<tr><td>Cámara Web</td><td>Medio</td></tr>",
                            "<tr><td>Altavoces</td><td>Medio</td></tr>",
                            "<tr><td>Impresora</td><td>Bajo</td></tr>",
                            "<tr><td>Router</td><td>Medio</td></tr>",
                            "<tr><td>Tablet</td><td>Alto</td></tr>",
                            "</table>"
                        ]
                    }
                }
            ],
            "execution_count": 8
        },
        {
            "cell_type": "markdown",
            "source": [
                "**10.** <span style=\"color: var(--cib-color-syntax-gray); font-size: var(--cib-type-body1-font-size); white-space-collapse: preserve; font-family: Menlo, Monaco, Consolas, &quot;Droid Sans Mono&quot;, &quot;Courier New&quot;, monospace, &quot;Droid Sans Fallback&quot;;\"><b>Determinar la categoría del producto basado en el precio</b></span>"
            ],
            "metadata": {
                "language": "sql",
                "azdata_cell_guid": "7c897329-77a5-4870-88af-c6f21158800f"
            },
            "attachments": {}
        },
        {
            "cell_type": "code",
            "source": [
                "SELECT Producto,\r\n",
                "       CASE\r\n",
                "           WHEN Precio > 1000 THEN 'Electrónica'\r\n",
                "           WHEN Precio > 100 THEN 'Accesorios'\r\n",
                "           ELSE 'Otros'\r\n",
                "       END AS Categoria\r\n",
                "FROM Ventas;"
            ],
            "metadata": {
                "language": "sql",
                "azdata_cell_guid": "584cee81-3b74-47e8-915b-3376312e0754"
            },
            "outputs": [
                {
                    "output_type": "display_data",
                    "data": {
                        "text/html": "(10 row(s) affected)"
                    },
                    "metadata": {}
                },
                {
                    "output_type": "display_data",
                    "data": {
                        "text/html": "Total execution time: 00:00:01.014"
                    },
                    "metadata": {}
                },
                {
                    "output_type": "execute_result",
                    "metadata": {},
                    "execution_count": 9,
                    "data": {
                        "application/vnd.dataresource+json": {
                            "schema": {
                                "fields": [
                                    {
                                        "name": "Producto"
                                    },
                                    {
                                        "name": "Categoria"
                                    }
                                ]
                            },
                            "data": [
                                {
                                    "Producto": "Laptop",
                                    "Categoria": "Electrónica"
                                },
                                {
                                    "Producto": "Smartphone",
                                    "Categoria": "Accesorios"
                                },
                                {
                                    "Producto": "Teclado",
                                    "Categoria": "Otros"
                                },
                                {
                                    "Producto": "Monitor",
                                    "Categoria": "Accesorios"
                                },
                                {
                                    "Producto": "Mouse",
                                    "Categoria": "Otros"
                                },
                                {
                                    "Producto": "Cámara Web",
                                    "Categoria": "Otros"
                                },
                                {
                                    "Producto": "Altavoces",
                                    "Categoria": "Otros"
                                },
                                {
                                    "Producto": "Impresora",
                                    "Categoria": "Otros"
                                },
                                {
                                    "Producto": "Router",
                                    "Categoria": "Otros"
                                },
                                {
                                    "Producto": "Tablet",
                                    "Categoria": "Accesorios"
                                }
                            ]
                        },
                        "text/html": [
                            "<table>",
                            "<tr><th>Producto</th><th>Categoria</th></tr>",
                            "<tr><td>Laptop</td><td>Electrónica</td></tr>",
                            "<tr><td>Smartphone</td><td>Accesorios</td></tr>",
                            "<tr><td>Teclado</td><td>Otros</td></tr>",
                            "<tr><td>Monitor</td><td>Accesorios</td></tr>",
                            "<tr><td>Mouse</td><td>Otros</td></tr>",
                            "<tr><td>Cámara Web</td><td>Otros</td></tr>",
                            "<tr><td>Altavoces</td><td>Otros</td></tr>",
                            "<tr><td>Impresora</td><td>Otros</td></tr>",
                            "<tr><td>Router</td><td>Otros</td></tr>",
                            "<tr><td>Tablet</td><td>Accesorios</td></tr>",
                            "</table>"
                        ]
                    }
                }
            ],
            "execution_count": 9
        },
        {
            "cell_type": "markdown",
            "source": [
                "**11.**  <span style=\"color: var(--cib-color-syntax-gray); font-size: var(--cib-type-body1-font-size); white-space-collapse: preserve; font-family: Menlo, Monaco, Consolas, &quot;Droid Sans Mono&quot;, &quot;Courier New&quot;, monospace, &quot;Droid Sans Fallback&quot;;\"><b>Aplicar un impuesto adicional para productos caros</b></span>"
            ],
            "metadata": {
                "language": "sql",
                "azdata_cell_guid": "93a18814-4e2c-4e9a-88e8-783d456270dc"
            },
            "attachments": {}
        },
        {
            "cell_type": "code",
            "source": [
                "SELECT Producto, Precio,\r\n",
                "       CASE\r\n",
                "           WHEN Precio > 500 THEN Precio * 1.1\r\n",
                "           ELSE Precio\r\n",
                "       END AS PrecioConImpuesto\r\n",
                "FROM Ventas;"
            ],
            "metadata": {
                "language": "sql",
                "azdata_cell_guid": "4bb8dfd8-4019-4e09-8af1-351aab532d6a"
            },
            "outputs": [
                {
                    "output_type": "display_data",
                    "data": {
                        "text/html": "(10 row(s) affected)"
                    },
                    "metadata": {}
                },
                {
                    "output_type": "display_data",
                    "data": {
                        "text/html": "Total execution time: 00:00:01.008"
                    },
                    "metadata": {}
                },
                {
                    "output_type": "execute_result",
                    "metadata": {},
                    "execution_count": 10,
                    "data": {
                        "application/vnd.dataresource+json": {
                            "schema": {
                                "fields": [
                                    {
                                        "name": "Producto"
                                    },
                                    {
                                        "name": "Precio"
                                    },
                                    {
                                        "name": "PrecioConImpuesto"
                                    }
                                ]
                            },
                            "data": [
                                {
                                    "Producto": "Laptop",
                                    "Precio": "1200.00",
                                    "PrecioConImpuesto": "1320.000"
                                },
                                {
                                    "Producto": "Smartphone",
                                    "Precio": "300.00",
                                    "PrecioConImpuesto": "300.00"
                                },
                                {
                                    "Producto": "Teclado",
                                    "Precio": "50.00",
                                    "PrecioConImpuesto": "50.00"
                                },
                                {
                                    "Producto": "Monitor",
                                    "Precio": "200.00",
                                    "PrecioConImpuesto": "200.00"
                                },
                                {
                                    "Producto": "Mouse",
                                    "Precio": "20.00",
                                    "PrecioConImpuesto": "20.00"
                                },
                                {
                                    "Producto": "Cámara Web",
                                    "Precio": "70.00",
                                    "PrecioConImpuesto": "70.00"
                                },
                                {
                                    "Producto": "Altavoces",
                                    "Precio": "35.00",
                                    "PrecioConImpuesto": "35.00"
                                },
                                {
                                    "Producto": "Impresora",
                                    "Precio": "85.00",
                                    "PrecioConImpuesto": "85.00"
                                },
                                {
                                    "Producto": "Router",
                                    "Precio": "60.00",
                                    "PrecioConImpuesto": "60.00"
                                },
                                {
                                    "Producto": "Tablet",
                                    "Precio": "250.00",
                                    "PrecioConImpuesto": "250.00"
                                }
                            ]
                        },
                        "text/html": [
                            "<table>",
                            "<tr><th>Producto</th><th>Precio</th><th>PrecioConImpuesto</th></tr>",
                            "<tr><td>Laptop</td><td>1200.00</td><td>1320.000</td></tr>",
                            "<tr><td>Smartphone</td><td>300.00</td><td>300.00</td></tr>",
                            "<tr><td>Teclado</td><td>50.00</td><td>50.00</td></tr>",
                            "<tr><td>Monitor</td><td>200.00</td><td>200.00</td></tr>",
                            "<tr><td>Mouse</td><td>20.00</td><td>20.00</td></tr>",
                            "<tr><td>Cámara Web</td><td>70.00</td><td>70.00</td></tr>",
                            "<tr><td>Altavoces</td><td>35.00</td><td>35.00</td></tr>",
                            "<tr><td>Impresora</td><td>85.00</td><td>85.00</td></tr>",
                            "<tr><td>Router</td><td>60.00</td><td>60.00</td></tr>",
                            "<tr><td>Tablet</td><td>250.00</td><td>250.00</td></tr>",
                            "</table>"
                        ]
                    }
                }
            ],
            "execution_count": 10
        },
        {
            "cell_type": "markdown",
            "source": [
                "**12.** <span style=\"color: var(--cib-color-syntax-gray); font-size: var(--cib-type-body1-font-size); white-space-collapse: preserve; font-family: Menlo, Monaco, Consolas, &quot;Droid Sans Mono&quot;, &quot;Courier New&quot;, monospace, &quot;Droid Sans Fallback&quot;;\"><b>Asignar un nivel de stock basado en la cantidad</b></span>"
            ],
            "metadata": {
                "language": "sql",
                "azdata_cell_guid": "130b8e28-fdbd-49e3-83b6-88da89751804"
            },
            "attachments": {}
        },
        {
            "cell_type": "code",
            "source": [
                "SELECT Producto,\r\n",
                "       CASE\r\n",
                "           WHEN Cantidad > 8 THEN 'Sobrestock'\r\n",
                "           WHEN Cantidad BETWEEN 5 AND 8 THEN 'Stock adecuado'\r\n",
                "           WHEN Cantidad < 5 THEN 'Bajo stock'\r\n",
                "       END AS NivelStock\r\n",
                "FROM Ventas;"
            ],
            "metadata": {
                "language": "sql",
                "azdata_cell_guid": "6ac04eec-0853-459f-935a-b419a97990e3"
            },
            "outputs": [
                {
                    "output_type": "display_data",
                    "data": {
                        "text/html": "(10 row(s) affected)"
                    },
                    "metadata": {}
                },
                {
                    "output_type": "display_data",
                    "data": {
                        "text/html": "Total execution time: 00:00:01.017"
                    },
                    "metadata": {}
                },
                {
                    "output_type": "execute_result",
                    "metadata": {},
                    "execution_count": 11,
                    "data": {
                        "application/vnd.dataresource+json": {
                            "schema": {
                                "fields": [
                                    {
                                        "name": "Producto"
                                    },
                                    {
                                        "name": "NivelStock"
                                    }
                                ]
                            },
                            "data": [
                                {
                                    "Producto": "Laptop",
                                    "NivelStock": "Bajo stock"
                                },
                                {
                                    "Producto": "Smartphone",
                                    "NivelStock": "Bajo stock"
                                },
                                {
                                    "Producto": "Teclado",
                                    "NivelStock": "Stock adecuado"
                                },
                                {
                                    "Producto": "Monitor",
                                    "NivelStock": "Bajo stock"
                                },
                                {
                                    "Producto": "Mouse",
                                    "NivelStock": "Sobrestock"
                                },
                                {
                                    "Producto": "Cámara Web",
                                    "NivelStock": "Bajo stock"
                                },
                                {
                                    "Producto": "Altavoces",
                                    "NivelStock": "Bajo stock"
                                },
                                {
                                    "Producto": "Impresora",
                                    "NivelStock": "Bajo stock"
                                },
                                {
                                    "Producto": "Router",
                                    "NivelStock": "Bajo stock"
                                },
                                {
                                    "Producto": "Tablet",
                                    "NivelStock": "Stock adecuado"
                                }
                            ]
                        },
                        "text/html": [
                            "<table>",
                            "<tr><th>Producto</th><th>NivelStock</th></tr>",
                            "<tr><td>Laptop</td><td>Bajo stock</td></tr>",
                            "<tr><td>Smartphone</td><td>Bajo stock</td></tr>",
                            "<tr><td>Teclado</td><td>Stock adecuado</td></tr>",
                            "<tr><td>Monitor</td><td>Bajo stock</td></tr>",
                            "<tr><td>Mouse</td><td>Sobrestock</td></tr>",
                            "<tr><td>Cámara Web</td><td>Bajo stock</td></tr>",
                            "<tr><td>Altavoces</td><td>Bajo stock</td></tr>",
                            "<tr><td>Impresora</td><td>Bajo stock</td></tr>",
                            "<tr><td>Router</td><td>Bajo stock</td></tr>",
                            "<tr><td>Tablet</td><td>Stock adecuado</td></tr>",
                            "</table>"
                        ]
                    }
                }
            ],
            "execution_count": 11
        }
    ]
}