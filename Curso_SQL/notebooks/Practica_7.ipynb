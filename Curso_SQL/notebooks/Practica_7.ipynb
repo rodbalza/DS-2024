{
    "metadata": {
        "kernelspec": {
            "name": "SQL",
            "display_name": "SQL",
            "language": "sql"
        },
        "language_info": {
            "name": "sql",
            "version": ""
        }
    },
    "nbformat_minor": 2,
    "nbformat": 4,
    "cells": [
        {
            "cell_type": "markdown",
            "source": [
                "# Práctica 7. Operaciones en una y varias tablas\n",
                "\n",
                "Importar el 'schema' **base.sql** para poder responder las preguntas a continuación:"
            ],
            "metadata": {
                "azdata_cell_guid": "f105fe83-1083-48b7-86e1-4fe0e540838e"
            },
            "attachments": {}
        },
        {
            "cell_type": "markdown",
            "source": [
                "1\\. APLICAR  UN SELECT PARA OBTENER TODAS LAS COLUMNAS DE LA TABLA VENTAS"
            ],
            "metadata": {
                "azdata_cell_guid": "354b57e1-9966-46b4-a1c5-42f179afbfc9"
            },
            "attachments": {}
        },
        {
            "cell_type": "code",
            "source": [
                ""
            ],
            "metadata": {
                "azdata_cell_guid": "7e9ae8d1-a4c0-484b-9f22-de87fde12013",
                "language": "sql"
            },
            "outputs": [
                {
                    "output_type": "display_data",
                    "data": {
                        "text/html": "Total execution time: 00:00:00"
                    },
                    "metadata": {}
                }
            ],
            "execution_count": 1
        },
        {
            "cell_type": "markdown",
            "source": [
                "2\\. Usa SELECT PARA TRAER LAS COLUMNAS DE ID-ZONA, VENTA Y ID\\_CLIENTE"
            ],
            "metadata": {
                "azdata_cell_guid": "99c32c9a-2d9b-4a4f-bec2-28344e0d0f20"
            },
            "attachments": {}
        },
        {
            "cell_type": "code",
            "source": [
                ""
            ],
            "metadata": {
                "azdata_cell_guid": "8eedb4ea-5f4b-464e-8aee-636470b5030b",
                "language": "sql"
            },
            "outputs": [
                {
                    "output_type": "display_data",
                    "data": {
                        "text/html": "Total execution time: 00:00:00"
                    },
                    "metadata": {}
                }
            ],
            "execution_count": 2
        },
        {
            "cell_type": "markdown",
            "source": [
                "3. ON SELECT TRAE AHORA SOLO VENTA Y DALE OTRO NOMNRE CON AS A LA COLUMNA"
            ],
            "metadata": {
                "language": "sql",
                "azdata_cell_guid": "7cfe6e24-5f0e-4a34-a69b-14a9bc3c1ac4"
            },
            "attachments": {}
        },
        {
            "cell_type": "code",
            "source": [
                ""
            ],
            "metadata": {
                "language": "sql",
                "azdata_cell_guid": "07465ed5-efa8-484e-9454-0adea39c7acf"
            },
            "outputs": [
                {
                    "output_type": "display_data",
                    "data": {
                        "text/html": "Total execution time: 00:00:00"
                    },
                    "metadata": {}
                }
            ],
            "execution_count": 3
        },
        {
            "cell_type": "markdown",
            "source": [
                "4. OBTENER UNA COLUMNA QUE TE MUESTRE LA VENTA + IVA (21%) Y NÓMBRALA DIFERENTE"
            ],
            "metadata": {
                "language": "sql",
                "azdata_cell_guid": "70c0ad88-44c8-4bfe-a9b1-c4aba43259c1"
            },
            "attachments": {}
        },
        {
            "cell_type": "code",
            "source": [
                ""
            ],
            "metadata": {
                "language": "sql",
                "azdata_cell_guid": "deee949f-c04f-4cb5-b237-32535047b9d8"
            },
            "outputs": [
                {
                    "output_type": "display_data",
                    "data": {
                        "text/html": "Total execution time: 00:00:00"
                    },
                    "metadata": {}
                }
            ],
            "execution_count": 4
        },
        {
            "cell_type": "markdown",
            "source": [
                "5. TRAER TODAS LAS VENTAS DE LA ZONA 2"
            ],
            "metadata": {
                "language": "sql",
                "azdata_cell_guid": "bceaea27-ed8b-4cb6-941a-a425c59781dc"
            },
            "attachments": {}
        },
        {
            "cell_type": "code",
            "source": [
                ""
            ],
            "metadata": {
                "language": "sql",
                "azdata_cell_guid": "cc659c53-9bdc-4254-9002-4891469a8754"
            },
            "outputs": [
                {
                    "output_type": "display_data",
                    "data": {
                        "text/html": "Total execution time: 00:00:00"
                    },
                    "metadata": {}
                }
            ],
            "execution_count": 5
        },
        {
            "cell_type": "markdown",
            "source": [
                "6. VENTAS MAYORES A 2 MILLONES"
            ],
            "metadata": {
                "language": "sql",
                "azdata_cell_guid": "7db1d782-490e-4350-abd4-f769ca50a44c"
            },
            "attachments": {}
        },
        {
            "cell_type": "code",
            "source": [
                ""
            ],
            "metadata": {
                "language": "sql",
                "azdata_cell_guid": "50cb1161-b1b7-433c-9a4b-60f270f21d37"
            },
            "outputs": [
                {
                    "output_type": "display_data",
                    "data": {
                        "text/html": "Total execution time: 00:00:00"
                    },
                    "metadata": {}
                }
            ],
            "execution_count": 6
        },
        {
            "cell_type": "markdown",
            "source": [
                "7\\. TODOS LOS PRODUCTOS QUE SEAN DEL CLIENTE 7"
            ],
            "metadata": {
                "language": "sql",
                "azdata_cell_guid": "b8cb0101-2035-447a-933e-97b516995c95"
            },
            "attachments": {}
        },
        {
            "cell_type": "code",
            "source": [
                ""
            ],
            "metadata": {
                "language": "sql",
                "azdata_cell_guid": "0034d2c5-47ad-43e2-8ab2-4acc168564d4"
            },
            "outputs": [
                {
                    "output_type": "display_data",
                    "data": {
                        "text/html": "Total execution time: 00:00:00"
                    },
                    "metadata": {}
                }
            ],
            "execution_count": 7
        },
        {
            "cell_type": "markdown",
            "source": [
                "8\\. MOSTRAR TODAS LAS VENTAS QUE SEAN MAYORES A 1 MILLÓN"
            ],
            "metadata": {
                "language": "sql",
                "azdata_cell_guid": "b4de4186-42f2-4224-b472-4b6c584e48f9"
            },
            "attachments": {}
        },
        {
            "cell_type": "code",
            "source": [
                ""
            ],
            "metadata": {
                "language": "sql",
                "azdata_cell_guid": "968883db-d0be-4d3c-87b4-65ac2b0d03bf"
            },
            "outputs": [
                {
                    "output_type": "display_data",
                    "data": {
                        "text/html": "Total execution time: 00:00:00"
                    },
                    "metadata": {}
                }
            ],
            "execution_count": 8
        },
        {
            "cell_type": "markdown",
            "source": [
                "9\\. TRAER TODAS LAS VENTAS QUE SEAN MAYORES O IGUALES A 1500000"
            ],
            "metadata": {
                "language": "sql",
                "azdata_cell_guid": "8bd8dbe6-7649-4ebc-ac42-94f761911ead"
            },
            "attachments": {}
        },
        {
            "cell_type": "code",
            "source": [
                ""
            ],
            "metadata": {
                "language": "sql",
                "azdata_cell_guid": "a0f1a88d-bfaf-45b2-abfb-d9777f65ef10"
            },
            "outputs": [
                {
                    "output_type": "display_data",
                    "data": {
                        "text/html": "Total execution time: 00:00:00"
                    },
                    "metadata": {}
                }
            ],
            "execution_count": 9
        },
        {
            "cell_type": "markdown",
            "source": [
                "10\\. TODAS LAS VENTAS MENORES A 500000 EN LA ZONA 2 QUE SEAN DEL VENDEDOR 2"
            ],
            "metadata": {
                "language": "sql",
                "azdata_cell_guid": "8cb51aeb-2054-41fd-8c8d-a07daab3ecd4"
            },
            "attachments": {}
        },
        {
            "cell_type": "code",
            "source": [
                ""
            ],
            "metadata": {
                "language": "sql",
                "azdata_cell_guid": "df96de25-17ad-41fd-9a9e-7c381429adbb"
            },
            "outputs": [
                {
                    "output_type": "display_data",
                    "data": {
                        "text/html": "Total execution time: 00:00:00"
                    },
                    "metadata": {}
                }
            ],
            "execution_count": 10
        },
        {
            "cell_type": "markdown",
            "source": [
                "11\\. TODAS LAS VENTAS MAYORES A 999999 O QUE SEAN DEL VENDEDOR 13"
            ],
            "metadata": {
                "language": "sql",
                "azdata_cell_guid": "962e5fa3-52c9-4e3b-9b7d-b7798a2baf02"
            },
            "attachments": {}
        },
        {
            "cell_type": "code",
            "source": [
                ""
            ],
            "metadata": {
                "language": "sql",
                "azdata_cell_guid": "8f5c341a-3bba-4e2d-bffb-25546f5e2ddc"
            },
            "outputs": [
                {
                    "output_type": "display_data",
                    "data": {
                        "text/html": "Total execution time: 00:00:00"
                    },
                    "metadata": {}
                }
            ],
            "execution_count": 11
        },
        {
            "cell_type": "markdown",
            "source": [
                "12\\. TRAER TODAS LAS VENTAS QUE NO SEAN DEL CLIENTE 10"
            ],
            "metadata": {
                "language": "sql",
                "azdata_cell_guid": "6a882e55-6e90-43a4-91d5-632ebeea7028"
            },
            "attachments": {}
        },
        {
            "cell_type": "code",
            "source": [
                ""
            ],
            "metadata": {
                "language": "sql",
                "azdata_cell_guid": "767148ca-f23d-42fd-b0b3-fc809dbb98fa"
            },
            "outputs": [
                {
                    "output_type": "display_data",
                    "data": {
                        "text/html": "Total execution time: 00:00:00"
                    },
                    "metadata": {}
                }
            ],
            "execution_count": 12
        },
        {
            "cell_type": "markdown",
            "source": [
                "13. <span style=\"color: var(--vscode-foreground);\">OBTENER LAS VENTAS DE LAS ZONAS 1 AL 4</span>"
            ],
            "metadata": {
                "language": "sql",
                "azdata_cell_guid": "b3dc33c9-c4dc-4f24-8f0f-c04de14e5a37"
            },
            "attachments": {}
        },
        {
            "cell_type": "code",
            "source": [
                ""
            ],
            "metadata": {
                "language": "sql",
                "azdata_cell_guid": "d4c3a05b-064e-47cb-99d7-589b2bb38499"
            },
            "outputs": [
                {
                    "output_type": "display_data",
                    "data": {
                        "text/html": "Total execution time: 00:00:00"
                    },
                    "metadata": {}
                }
            ],
            "execution_count": 13
        },
        {
            "cell_type": "markdown",
            "source": [
                "14\\. OBTENER LAS VENTAS QUE SE HAYAN REALIZADO A LOS CONSUMIDORES 6, 7, 8 Y 9."
            ],
            "metadata": {
                "language": "sql",
                "azdata_cell_guid": "ca976595-59d5-4940-bcd8-a772d6d459e2"
            },
            "attachments": {}
        },
        {
            "cell_type": "code",
            "source": [
                ""
            ],
            "metadata": {
                "language": "sql",
                "azdata_cell_guid": "191d60e2-4528-4756-837d-a8e814e9391c"
            },
            "outputs": [
                {
                    "output_type": "display_data",
                    "data": {
                        "text/html": "Total execution time: 00:00:00"
                    },
                    "metadata": {}
                }
            ],
            "execution_count": 14
        },
        {
            "cell_type": "markdown",
            "source": [
                "15\\. OBTENER LAS VENTAS QUE NO SEAN DE LOS VENDEDORES 15, 21 Y 35"
            ],
            "metadata": {
                "language": "sql",
                "azdata_cell_guid": "281951a7-5698-4437-877c-8707433b1aee"
            },
            "attachments": {}
        },
        {
            "cell_type": "code",
            "source": [
                ""
            ],
            "metadata": {
                "language": "sql",
                "azdata_cell_guid": "1507e8da-4896-4163-83f3-cdc7ecc840b5"
            },
            "outputs": [
                {
                    "output_type": "display_data",
                    "data": {
                        "text/html": "Total execution time: 00:00:00"
                    },
                    "metadata": {}
                }
            ],
            "execution_count": 15
        },
        {
            "cell_type": "markdown",
            "source": [
                "16\\. OBTENER LOS APELLIDOS DEL PERSONAL DE VENTAS QUE TERMINEN EN 'EZ'"
            ],
            "metadata": {
                "language": "sql",
                "azdata_cell_guid": "0f59a6fe-3ca7-49a8-9ef9-56f9e60d0f53"
            },
            "attachments": {}
        },
        {
            "cell_type": "code",
            "source": [
                ""
            ],
            "metadata": {
                "language": "sql",
                "azdata_cell_guid": "4e840c9c-5b04-4c76-a11f-e791040d0094"
            },
            "outputs": [
                {
                    "output_type": "display_data",
                    "data": {
                        "text/html": "Total execution time: 00:00:00"
                    },
                    "metadata": {}
                }
            ],
            "execution_count": 16
        },
        {
            "cell_type": "markdown",
            "source": [
                "17\\. MOSTRAR SOLO EL NOMBRE Y APELLIDO DE LA CONSULTA ANTERIOR"
            ],
            "metadata": {
                "language": "sql",
                "azdata_cell_guid": "fd765432-f262-4901-b51c-be69bc8b5553"
            },
            "attachments": {}
        },
        {
            "cell_type": "code",
            "source": [
                ""
            ],
            "metadata": {
                "language": "sql",
                "azdata_cell_guid": "96d3c929-5d39-4dc3-880f-62ad51639bb6"
            },
            "outputs": [
                {
                    "output_type": "display_data",
                    "data": {
                        "text/html": "Total execution time: 00:00:00"
                    },
                    "metadata": {}
                }
            ],
            "execution_count": 17
        },
        {
            "cell_type": "markdown",
            "source": [
                "18\\. OBTENER LOS APELLIDOS QUE TERMINEN EN 'EZ' O EN 'SA'"
            ],
            "metadata": {
                "language": "sql",
                "azdata_cell_guid": "c829d8db-bf92-4fa9-8b20-deef0a0561cf"
            },
            "attachments": {}
        },
        {
            "cell_type": "code",
            "source": [
                ""
            ],
            "metadata": {
                "language": "sql",
                "azdata_cell_guid": "b50c8b6d-1213-492a-8c9d-c77e56a22250"
            },
            "outputs": [
                {
                    "output_type": "display_data",
                    "data": {
                        "text/html": "Total execution time: 00:00:00"
                    },
                    "metadata": {}
                }
            ],
            "execution_count": 18
        },
        {
            "cell_type": "markdown",
            "source": [
                "19. TENEMOS UN CLIENTE QUE NO TIENE UN NUMERO DE TELEFONO GUARDADO EN LA BASE DE DATOS. BUSCARLO."
            ],
            "metadata": {
                "language": "sql",
                "azdata_cell_guid": "df56e8d5-6bb8-4e43-b5f4-f8d049cab160"
            },
            "attachments": {}
        },
        {
            "cell_type": "code",
            "source": [
                ""
            ],
            "metadata": {
                "language": "sql",
                "azdata_cell_guid": "8479c722-56b1-49c4-9e42-2bc4de4a478f"
            },
            "outputs": [
                {
                    "output_type": "display_data",
                    "data": {
                        "text/html": "Total execution time: 00:00:00"
                    },
                    "metadata": {}
                }
            ],
            "execution_count": 19
        },
        {
            "cell_type": "markdown",
            "source": [
                "20. ORDENA LA INFORMACIÓN DE LOS VENDEDORES EN ORDEN DESCENDENTE"
            ],
            "metadata": {
                "language": "sql",
                "azdata_cell_guid": "7dc9f105-410f-435e-a390-68e6c4a86e28"
            },
            "attachments": {}
        },
        {
            "cell_type": "code",
            "source": [
                ""
            ],
            "metadata": {
                "language": "sql",
                "azdata_cell_guid": "182f2d59-54d3-4f70-a7a4-1e1ddc03b3e9"
            },
            "outputs": [
                {
                    "output_type": "display_data",
                    "data": {
                        "text/html": "Total execution time: 00:00:00"
                    },
                    "metadata": {}
                }
            ],
            "execution_count": 20
        },
        {
            "cell_type": "markdown",
            "source": [
                "21\\. ORDENAR AHORA LOS DATOS DE LOS VENDEDORES POR NOMBRE Y DESPUES POR APELLIDO"
            ],
            "metadata": {
                "language": "sql",
                "azdata_cell_guid": "86aa7a88-4b55-4f23-9a8f-dea2a629636b"
            },
            "attachments": {}
        },
        {
            "cell_type": "code",
            "source": [
                ""
            ],
            "metadata": {
                "language": "sql",
                "azdata_cell_guid": "2e8fec06-131b-4d41-9df4-2597ae51a41d"
            },
            "outputs": [
                {
                    "output_type": "display_data",
                    "data": {
                        "text/html": "Total execution time: 00:00:00"
                    },
                    "metadata": {}
                }
            ],
            "execution_count": 21
        },
        {
            "cell_type": "markdown",
            "source": [
                "22\\. MOSTRAR LAS PRIMERAS 10 VENTAS"
            ],
            "metadata": {
                "language": "sql",
                "azdata_cell_guid": "4c13064a-f0ea-42d8-aadf-aeb141646d46"
            },
            "attachments": {}
        },
        {
            "cell_type": "code",
            "source": [
                ""
            ],
            "metadata": {
                "language": "sql",
                "azdata_cell_guid": "146be752-7d32-40fd-957a-dee93ab3a04a"
            },
            "outputs": [
                {
                    "output_type": "display_data",
                    "data": {
                        "text/html": "Total execution time: 00:00:00"
                    },
                    "metadata": {}
                }
            ],
            "execution_count": 22
        },
        {
            "cell_type": "markdown",
            "source": [
                "23\\. MOSTRAR LAS VENTAS QUE VAN DE LOS REGISTROS 50 AL 100"
            ],
            "metadata": {
                "language": "sql",
                "azdata_cell_guid": "97b0e45f-b64e-44fb-97cb-d1ebfda3ac19"
            },
            "attachments": {}
        },
        {
            "cell_type": "code",
            "source": [
                ""
            ],
            "metadata": {
                "language": "sql",
                "azdata_cell_guid": "6e555076-9914-4d03-b365-742a9c3737db"
            },
            "outputs": [
                {
                    "output_type": "display_data",
                    "data": {
                        "text/html": "Total execution time: 00:00:00"
                    },
                    "metadata": {}
                }
            ],
            "execution_count": 23
        },
        {
            "cell_type": "markdown",
            "source": [
                "### <span style=\"font-size: 16.38px;\"><b>El uso de JOIN</b></span>\n",
                "\n",
                "### Imagina que vas a preparar un análisis de ventas, tienes que entregar 2 columnas por vista con la descripcion de:"
            ],
            "metadata": {
                "language": "sql",
                "azdata_cell_guid": "27923d27-b1fa-4a47-b9f9-26abe9021ac9"
            },
            "attachments": {}
        },
        {
            "cell_type": "markdown",
            "source": [
                "24. \n",
                "\n",
                "\\-- 1 Ventas por Cliente\n",
                "\n",
                "\\-- 2 Ventas por Zona\n",
                "\n",
                "\\-- 3 Ventas por vendedor\n",
                "\n",
                "\\-- 4 Ventas por producto"
            ],
            "metadata": {
                "language": "sql",
                "azdata_cell_guid": "15fa596e-f8c7-4f01-b09c-32b683827970"
            },
            "attachments": {}
        },
        {
            "cell_type": "code",
            "source": [
                ""
            ],
            "metadata": {
                "language": "sql",
                "azdata_cell_guid": "81d0a592-ba3d-4e44-bd87-1c4f8ac5dbad"
            },
            "outputs": [
                {
                    "output_type": "display_data",
                    "data": {
                        "text/html": "Total execution time: 00:00:00"
                    },
                    "metadata": {}
                }
            ],
            "execution_count": 24
        },
        {
            "cell_type": "markdown",
            "source": [
                "### **Genera una vista con la descripcion que contenga:**"
            ],
            "metadata": {
                "language": "sql",
                "azdata_cell_guid": "f1ea659c-5afa-4af2-a6cd-8352d31a0880"
            },
            "attachments": {}
        },
        {
            "cell_type": "markdown",
            "source": [
                "25.\n",
                "\n",
                "\\-- 1 Información de venta por vendedor y cliente\n",
                "\n",
                "\\-- 2 Otra para la venta por cliente y zona y porducto"
            ],
            "metadata": {
                "language": "sql",
                "azdata_cell_guid": "0c7f7d0a-07c7-4550-b138-57fd0d16ea27"
            },
            "attachments": {}
        },
        {
            "cell_type": "code",
            "source": [
                ""
            ],
            "metadata": {
                "language": "sql",
                "azdata_cell_guid": "22a4b24b-26bd-45d8-b250-ec7464733a11"
            },
            "outputs": [
                {
                    "output_type": "display_data",
                    "data": {
                        "text/html": "Total execution time: 00:00:00"
                    },
                    "metadata": {}
                }
            ],
            "execution_count": 25
        },
        {
            "cell_type": "markdown",
            "source": [
                "26\\. Encontrar al vendedor que no ha vendido nada"
            ],
            "metadata": {
                "language": "sql",
                "azdata_cell_guid": "e96b4462-2e71-45e2-b989-3c8dc4a88448"
            },
            "attachments": {}
        },
        {
            "cell_type": "code",
            "source": [
                ""
            ],
            "metadata": {
                "language": "sql",
                "azdata_cell_guid": "f95bf74b-82b5-4d1d-8211-a264821cbddf"
            },
            "outputs": [
                {
                    "output_type": "display_data",
                    "data": {
                        "text/html": "Total execution time: 00:00:00"
                    },
                    "metadata": {}
                }
            ],
            "execution_count": 26
        },
        {
            "cell_type": "markdown",
            "source": [
                "27. Generar una vista con la descripcion:\n",
                "\n",
                "\\-- 1 Venta con el cliente y zona \n",
                "\n",
                "\\-- 2 Venta con vendedor y producto"
            ],
            "metadata": {
                "language": "sql",
                "azdata_cell_guid": "960f2418-4c5f-4f34-aaf4-8a7bd6a143fa"
            },
            "attachments": {}
        },
        {
            "cell_type": "code",
            "source": [
                ""
            ],
            "metadata": {
                "language": "sql",
                "azdata_cell_guid": "3fb17178-3646-4a20-9fd7-d9a4b58c9c40"
            },
            "outputs": [
                {
                    "output_type": "display_data",
                    "data": {
                        "text/html": "Total execution time: 00:00:00"
                    },
                    "metadata": {}
                }
            ],
            "execution_count": 27
        },
        {
            "cell_type": "markdown",
            "source": [
                "28\\. (CROSS JOIN) Genera una vista para traer todas las combinaciones de:  \n",
                "\\--Nombre de productos y nombre de clientes"
            ],
            "metadata": {
                "language": "sql",
                "azdata_cell_guid": "b45ec310-5a01-4681-a8e8-3c06bd6289c6"
            },
            "attachments": {}
        },
        {
            "cell_type": "code",
            "source": [
                ""
            ],
            "metadata": {
                "language": "sql",
                "azdata_cell_guid": "105552dd-5357-46f4-9e4e-8463da6d306d"
            },
            "outputs": [
                {
                    "output_type": "display_data",
                    "data": {
                        "text/html": "Total execution time: 00:00:00"
                    },
                    "metadata": {}
                }
            ],
            "execution_count": 28
        },
        {
            "cell_type": "markdown",
            "source": [
                "**UNION**"
            ],
            "metadata": {
                "language": "sql",
                "azdata_cell_guid": "536038c4-6ce5-43a0-9330-a15731b8d169"
            },
            "attachments": {}
        },
        {
            "cell_type": "markdown",
            "source": [
                "29. Genera 2 consultas y únelas para lograr:  \n",
                "\n",
                "\\-- 1 Una vista con clientes que tengan la calificación \"A\" y \"B\"\n",
                "\n",
                "\\-- 2 Lista de vendedores que estén casados y sean mayores de 50 años con los vendedores solteros y menores de 30"
            ],
            "metadata": {
                "language": "sql",
                "azdata_cell_guid": "735197d6-5c9a-4c95-9d9c-58cf490f52d7"
            },
            "attachments": {}
        },
        {
            "cell_type": "code",
            "source": [
                ""
            ],
            "metadata": {
                "language": "sql",
                "azdata_cell_guid": "36b5d588-75e4-4e9b-9fe5-2e593c44b8f5"
            },
            "outputs": [
                {
                    "output_type": "display_data",
                    "data": {
                        "text/html": "Total execution time: 00:00:00"
                    },
                    "metadata": {}
                }
            ],
            "execution_count": 29
        }
    ]
}