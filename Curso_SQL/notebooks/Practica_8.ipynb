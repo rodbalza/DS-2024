{
    "metadata": {
        "kernelspec": {
            "name": "SQL",
            "display_name": "SQL",
            "language": "sql"
        },
        "language_info": {
            "name": "sql",
            "version": ""
        }
    },
    "nbformat_minor": 2,
    "nbformat": 4,
    "cells": [
        {
            "cell_type": "markdown",
            "source": [
                "# Practica 8 - Modificación de tablas y registros"
            ],
            "metadata": {
                "azdata_cell_guid": "e0a7d209-e537-4dee-bee8-10d881270854"
            },
            "attachments": {}
        },
        {
            "cell_type": "markdown",
            "source": [
                "### Trabajar con el esquema **base.sql**"
            ],
            "metadata": {
                "azdata_cell_guid": "59f07c1f-f176-4b51-8ec1-f5a9e88daedb"
            },
            "attachments": {}
        },
        {
            "cell_type": "markdown",
            "source": [
                "## 1. Inserta 2 productos nuevos en la tabla producto, puedes llamarlos producto1 y producto2."
            ],
            "metadata": {
                "azdata_cell_guid": "610528c4-d521-4907-bbcc-4d8d929ed1c9"
            },
            "attachments": {}
        },
        {
            "cell_type": "code",
            "source": [
                ""
            ],
            "metadata": {
                "azdata_cell_guid": "8096d2e8-1c81-4d34-9197-8dd11a235803",
                "language": "sql"
            },
            "outputs": [],
            "execution_count": null
        },
        {
            "cell_type": "markdown",
            "source": [
                "## 2. Ahora vamos a actualizar los nombres de los productos anteriores:  \n",
                "2.1 Producto1 será 'Casa'"
            ],
            "metadata": {
                "language": "sql",
                "azdata_cell_guid": "940c4ea4-da40-44e3-bba3-1140290953f1"
            },
            "attachments": {}
        },
        {
            "cell_type": "code",
            "source": [
                ""
            ],
            "metadata": {
                "language": "sql",
                "azdata_cell_guid": "7849ccca-e0eb-422d-acd5-15a17fc9bf95"
            },
            "outputs": [],
            "execution_count": null
        },
        {
            "cell_type": "markdown",
            "source": [
                "2.2 Producto2 será 'Departamento'"
            ],
            "metadata": {
                "language": "sql",
                "azdata_cell_guid": "0251e0ab-a322-4f7e-9553-9c15b8b5ab5e"
            },
            "attachments": {}
        },
        {
            "cell_type": "code",
            "source": [
                ""
            ],
            "metadata": {
                "language": "sql",
                "azdata_cell_guid": "78bbce10-c44d-4fb6-81c3-287a091c8205"
            },
            "outputs": [],
            "execution_count": null
        },
        {
            "cell_type": "markdown",
            "source": [
                "## 3. Eliminar casa y departamento de la tabla 'producto'"
            ],
            "metadata": {
                "language": "sql",
                "azdata_cell_guid": "de82bf49-3c39-4aec-aee2-55c32d3a4a82"
            },
            "attachments": {}
        },
        {
            "cell_type": "code",
            "source": [
                ""
            ],
            "metadata": {
                "language": "sql",
                "azdata_cell_guid": "b2001569-e9e5-44d3-8674-048c23c3b6c0"
            },
            "outputs": [],
            "execution_count": null
        }
    ]
}