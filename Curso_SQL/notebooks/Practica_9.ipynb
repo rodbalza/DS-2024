{
    "metadata": {
        "kernelspec": {
            "name": "SQL",
            "display_name": "SQL",
            "language": "sql"
        },
        "language_info": {
            "name": "sql",
            "version": ""
        }
    },
    "nbformat_minor": 2,
    "nbformat": 4,
    "cells": [
        {
            "cell_type": "markdown",
            "source": [
                "# Práctica 9 -  Agregaciones"
            ],
            "metadata": {
                "azdata_cell_guid": "b2133633-b3b0-44d2-9730-c7f4cb4c9414"
            },
            "attachments": {}
        },
        {
            "cell_type": "markdown",
            "source": [
                "## Se tiene que entregar un informe por cliente donde entregues la siguiente información:"
            ],
            "metadata": {
                "azdata_cell_guid": "72ef3449-99b2-4e95-9d78-251053853a29"
            },
            "attachments": {}
        },
        {
            "cell_type": "markdown",
            "source": [
                "### **1. ¿Cuál cliente realizó la compra máxima en el año 2018?**"
            ],
            "metadata": {
                "azdata_cell_guid": "0a08074e-e0a9-47b7-ac1a-c41f335ac83e"
            },
            "attachments": {}
        },
        {
            "cell_type": "code",
            "source": [
                ""
            ],
            "metadata": {
                "azdata_cell_guid": "a6a0b6ff-2e98-4178-bc92-7eda97af6268",
                "language": "sql"
            },
            "outputs": [
                {
                    "output_type": "display_data",
                    "data": {
                        "text/html": "Total execution time: 00:00:00"
                    },
                    "metadata": {}
                }
            ],
            "execution_count": 1
        },
        {
            "cell_type": "markdown",
            "source": [
                "### **2. ¿Cuál fue el pago menor que recibimos en el año 2018?**"
            ],
            "metadata": {
                "azdata_cell_guid": "6444333b-a105-4f0c-b316-30d1caf60a8e"
            },
            "attachments": {}
        },
        {
            "cell_type": "code",
            "source": [
                ""
            ],
            "metadata": {
                "azdata_cell_guid": "758fedac-227a-4881-8538-74e996f9286c",
                "language": "sql"
            },
            "outputs": [
                {
                    "output_type": "display_data",
                    "data": {
                        "text/html": "Total execution time: 00:00:00"
                    },
                    "metadata": {}
                }
            ],
            "execution_count": 2
        },
        {
            "cell_type": "markdown",
            "source": [
                "### **3. ¿Cuántas ventas se lograron en el 2do semestre del año 2018?**"
            ],
            "metadata": {
                "azdata_cell_guid": "0a95ce09-6c3b-4601-9aea-47b801c69e3b"
            },
            "attachments": {}
        },
        {
            "cell_type": "code",
            "source": [
                ""
            ],
            "metadata": {
                "azdata_cell_guid": "564bf35c-e92a-431f-a164-c4064b355220",
                "language": "sql"
            },
            "outputs": [
                {
                    "output_type": "display_data",
                    "data": {
                        "text/html": "Total execution time: 00:00:00"
                    },
                    "metadata": {}
                }
            ],
            "execution_count": 3
        },
        {
            "cell_type": "markdown",
            "source": [
                "# **Resumir on GROUP BY**"
            ],
            "metadata": {
                "azdata_cell_guid": "645a78f9-efb4-4de9-860d-382258cc4d1d"
            },
            "attachments": {}
        },
        {
            "cell_type": "markdown",
            "source": [
                "## <span style=\"color: var(--vscode-foreground);\">Genera una vista para entregar el informe que contenga:</span>"
            ],
            "metadata": {
                "azdata_cell_guid": "558226f2-4c27-437d-8afc-39754f4ce31f"
            },
            "attachments": {}
        },
        {
            "cell_type": "markdown",
            "source": [
                "### **4. Las ventas por vendendor**"
            ],
            "metadata": {
                "azdata_cell_guid": "793b42a7-7afe-4791-a958-a48f6a41886c"
            },
            "attachments": {}
        },
        {
            "cell_type": "code",
            "source": [
                ""
            ],
            "metadata": {
                "azdata_cell_guid": "f1c45a33-8039-4b8d-89c9-c5bc4af715cd",
                "language": "sql"
            },
            "outputs": [
                {
                    "output_type": "display_data",
                    "data": {
                        "text/html": "Total execution time: 00:00:00"
                    },
                    "metadata": {}
                }
            ],
            "execution_count": 4
        },
        {
            "cell_type": "markdown",
            "source": [
                "### **5. Ventas por producto**"
            ],
            "metadata": {
                "azdata_cell_guid": "814eed9f-2886-48bf-84d3-f856e3cbd8ce"
            },
            "attachments": {}
        },
        {
            "cell_type": "code",
            "source": [
                ""
            ],
            "metadata": {
                "azdata_cell_guid": "db5adfb9-03b9-40c7-9971-08c782da6e0d",
                "language": "sql"
            },
            "outputs": [
                {
                    "output_type": "display_data",
                    "data": {
                        "text/html": "Total execution time: 00:00:00"
                    },
                    "metadata": {}
                }
            ],
            "execution_count": 5
        },
        {
            "cell_type": "markdown",
            "source": [
                "### **6. Resumen de compras por cliente en 2017**"
            ],
            "metadata": {
                "azdata_cell_guid": "dd50b4e9-4ec1-42ff-999e-05dfd6a3f522"
            },
            "attachments": {}
        },
        {
            "cell_type": "code",
            "source": [
                ""
            ],
            "metadata": {
                "azdata_cell_guid": "6ef12e21-0e15-4e57-84c9-db49c0726e74",
                "language": "sql"
            },
            "outputs": [
                {
                    "output_type": "display_data",
                    "data": {
                        "text/html": "Total execution time: 00:00:00"
                    },
                    "metadata": {}
                }
            ],
            "execution_count": 6
        },
        {
            "cell_type": "markdown",
            "source": [
                "# **Having**"
            ],
            "metadata": {
                "azdata_cell_guid": "87c9164e-c69e-45c4-a1f0-2367249b9ce3"
            },
            "attachments": {}
        },
        {
            "cell_type": "markdown",
            "source": [
                "## **Tomando en cuenta el ejercicio anterior:**"
            ],
            "metadata": {
                "azdata_cell_guid": "72aac73e-6c28-49f2-80da-b914a74aec6f"
            },
            "attachments": {}
        },
        {
            "cell_type": "markdown",
            "source": [
                "### **7. Resumen de compras por cliente en 2017 que hayan sido mayores a 150000**"
            ],
            "metadata": {
                "azdata_cell_guid": "6109c9c2-b981-4629-bfb0-3f6e15b1c12f"
            },
            "attachments": {}
        },
        {
            "cell_type": "code",
            "source": [
                ""
            ],
            "metadata": {
                "azdata_cell_guid": "b96ce058-4ed5-4ed8-97b7-9138a68987ed",
                "language": "sql"
            },
            "outputs": [
                {
                    "output_type": "display_data",
                    "data": {
                        "text/html": "Total execution time: 00:00:00"
                    },
                    "metadata": {}
                }
            ],
            "execution_count": 7
        },
        {
            "cell_type": "markdown",
            "source": [
                "# **Extra**"
            ],
            "metadata": {
                "language": "sql",
                "azdata_cell_guid": "a6ce9855-33af-4337-8a39-0c20128a6e96"
            },
            "attachments": {}
        },
        {
            "cell_type": "markdown",
            "source": [
                "### **8. Proporcione la lista de los clientes morosos**"
            ],
            "metadata": {
                "language": "sql",
                "azdata_cell_guid": "c20f5934-fd10-4388-9562-0af32d4ae437"
            },
            "attachments": {}
        },
        {
            "cell_type": "code",
            "source": [
                ""
            ],
            "metadata": {
                "language": "sql",
                "azdata_cell_guid": "60fcc87b-8b1b-433c-9de9-0303c1c7c4cc"
            },
            "outputs": [
                {
                    "output_type": "display_data",
                    "data": {
                        "text/html": "Total execution time: 00:00:00"
                    },
                    "metadata": {}
                }
            ],
            "execution_count": 8
        }
    ]
}