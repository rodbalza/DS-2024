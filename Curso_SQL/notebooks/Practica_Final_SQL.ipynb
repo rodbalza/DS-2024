{
    "metadata": {
        "kernelspec": {
            "name": "SQL",
            "display_name": "SQL",
            "language": "sql"
        },
        "language_info": {
            "name": "sql",
            "version": ""
        }
    },
    "nbformat_minor": 2,
    "nbformat": 4,
    "cells": [
        {
            "cell_type": "markdown",
            "source": [
                "# Práctica Final Módulo 4 - SQL"
            ],
            "metadata": {
                "azdata_cell_guid": "c6c8bfc7-022e-4a08-9e45-2b86b3fb00c8"
            },
            "attachments": {}
        },
        {
            "cell_type": "markdown",
            "source": [
                "### Responder, utilizando consultas sql, las preguntas que se te hacen a continuación sobre datos de clientes y transacciones del sector bancario (datos sintéticos). EL primer paso es generar el 'schema' , las tablas y la inserción de los datos sinténticos. En la siguiente celda encontrarás los pasos para crear la base de datos. El código sql está comentado con **/\\*** _código sql_  **\\*/** , de modo que , <u>_antes de ejecutar las celdas_</u>, debes **\"descomentar\"** (borrar **'/\\*'** y **'\\*/'**) las consultas. Es posible que algunas consultas te arrojen tablas vacias."
            ],
            "metadata": {
                "azdata_cell_guid": "1e9d08c2-c9c2-44f8-a3e8-eed5b31a1738"
            },
            "attachments": {}
        },
        {
            "cell_type": "markdown",
            "source": [
                "- **Crear esquema**"
            ],
            "metadata": {
                "azdata_cell_guid": "ad2a387c-b90e-4ebf-aa39-1262b6ed33e8"
            },
            "attachments": {}
        },
        {
            "cell_type": "code",
            "source": [
                "/* \n",
                "CREATE SCHEMA bank; \n",
                "*/"
            ],
            "metadata": {
                "azdata_cell_guid": "1bd39abc-5ca9-4bfb-90aa-b3b936295b87",
                "language": "sql"
            },
            "outputs": [
                {
                    "output_type": "display_data",
                    "data": {
                        "text/html": "Total execution time: 00:00:00"
                    },
                    "metadata": {}
                }
            ],
            "execution_count": 1
        },
        {
            "cell_type": "markdown",
            "source": [
                "- **Crear tabla Clientes**"
            ],
            "metadata": {
                "azdata_cell_guid": "24ded8ca-b7ea-4700-b2d0-46805d16f8b6",
                "language": "sql"
            },
            "attachments": {}
        },
        {
            "cell_type": "code",
            "source": [
                "/* \n",
                "CREATE TABLE bank.Clientes (\n",
                "    ClienteID INT PRIMARY KEY,\n",
                "    Nombre VARCHAR(50),\n",
                "    Apellido VARCHAR(50),\n",
                "    FechaNacimiento DATE,\n",
                "    Genero CHAR(1),\n",
                "    Direccion VARCHAR(100),\n",
                "    Ciudad VARCHAR(50),\n",
                "    CodigoPostal VARCHAR(10)\n",
                ");\n",
                "*/"
            ],
            "metadata": {
                "azdata_cell_guid": "08cc0625-9806-4e42-85ad-3c539ffab31c",
                "language": "sql"
            },
            "outputs": [
                {
                    "output_type": "display_data",
                    "data": {
                        "text/html": "Total execution time: 00:00:00"
                    },
                    "metadata": {}
                }
            ],
            "execution_count": 2
        },
        {
            "cell_type": "markdown",
            "source": [
                "- **Crear tabla Cuentas**"
            ],
            "metadata": {
                "azdata_cell_guid": "ae99c0cb-70da-42b0-9abc-df9eab0f0ced",
                "language": "sql"
            },
            "attachments": {}
        },
        {
            "cell_type": "code",
            "source": [
                "/* \n",
                "CREATE TABLE bank.Cuentas (\n",
                "    CuentaID INT PRIMARY KEY,\n",
                "    ClienteID INT,\n",
                "    TipoCuenta VARCHAR(20),\n",
                "    FechaApertura DATE,\n",
                "    Saldo DECIMAL(12,2),\n",
                "    FOREIGN KEY (ClienteID) REFERENCES bank.Clientes(ClienteID)\n",
                ");\n",
                "*/"
            ],
            "metadata": {
                "azdata_cell_guid": "41274da0-23f4-422b-901f-e2cd757e915b",
                "language": "sql"
            },
            "outputs": [
                {
                    "output_type": "display_data",
                    "data": {
                        "text/html": "Total execution time: 00:00:00"
                    },
                    "metadata": {}
                }
            ],
            "execution_count": 3
        },
        {
            "cell_type": "markdown",
            "source": [
                "- **Crear tabla Transacciones**"
            ],
            "metadata": {
                "azdata_cell_guid": "720d65f7-746c-4e5c-b16c-bc1356ee83cd",
                "language": "sql"
            },
            "attachments": {}
        },
        {
            "cell_type": "code",
            "source": [
                "/*\n",
                "CREATE TABLE bank.Transacciones (\n",
                "    TransaccionID INT PRIMARY KEY,\n",
                "    CuentaID INT,\n",
                "    Fecha DATE,\n",
                "    Tipo VARCHAR(20),\n",
                "    Monto DECIMAL(12,2),\n",
                "    Descripcion VARCHAR(100),\n",
                "    FOREIGN KEY (CuentaID) REFERENCES bank.Cuentas(CuentaID)\n",
                ");\n",
                "*/"
            ],
            "metadata": {
                "azdata_cell_guid": "c5c49ae2-f245-44c0-862e-af966a1341b1",
                "language": "sql"
            },
            "outputs": [
                {
                    "output_type": "display_data",
                    "data": {
                        "text/html": "Total execution time: 00:00:00"
                    },
                    "metadata": {}
                }
            ],
            "execution_count": 4
        },
        {
            "cell_type": "markdown",
            "source": [
                "- **Insertar los datos en la tabla Clientes**"
            ],
            "metadata": {
                "azdata_cell_guid": "43ec9932-04e2-409f-94f8-facfbaac2d53",
                "language": "sql"
            },
            "attachments": {}
        },
        {
            "cell_type": "code",
            "source": [
                "/*\n",
                "INSERT INTO bank.Clientes (ClienteID, Nombre, Apellido, FechaNacimiento, Genero, Direccion, Ciudad, CodigoPostal)\n",
                "VALUES\n",
                "    (1, 'Juan', 'Pérez', '1985-03-15', 'M', 'Calle Falsa 123', 'Madrid', '28001'),\n",
                "    (2, 'María', 'García', '1992-11-22', 'F', 'Avenida Siempreviva 456', 'Barcelona', '08001'),\n",
                "    (3, 'Pedro', 'Rodríguez', '1978-07-02', 'M', 'Paseo del Parque 789', 'Sevilla', '41001'),\n",
                "    (4, 'Ana', 'Martínez', '1990-04-18', 'F', 'Calle Mayor 321', 'Valencia', '46001'),\n",
                "    (5, 'Carlos', 'Sánchez', '1982-09-30', 'M', 'Plaza del Ayuntamiento 159', 'Bilbao', '48001'),\n",
                "    (6, 'Laura', 'Fernández', '1995-12-08', 'F', 'Rambla de las Flores 753', 'Málaga', '29001'),\n",
                "    (7, 'Javier', 'Gómez', '1988-06-20', 'M', 'Paseo Marítimo 246', 'Alicante', '03001'),\n",
                "    (8, 'Sofía', 'Torres', '1975-02-10', 'F', 'Avenida del Mar 852', 'Palma de Mallorca', '07001'),\n",
                "    (9, 'Sergio', 'Navarro', '1983-11-05', 'M', 'Calle Real 753', 'Zaragoza', '50001'),\n",
                "    (10, 'Isabel', 'Ramírez', '1991-08-28', 'F', 'Paseo de Gracia 159', 'Barcelona', '08007'),\n",
                "    (11, 'Andrés', 'Herrera', '1979-05-12', 'M', 'Calle del Prado 456', 'Madrid', '28002'),\n",
                "    (12, 'Marta', 'Jiménez', '1987-09-28', 'F', 'Avenida del Puerto 789', 'Valencia', '46002'),\n",
                "    (13, 'Luis', 'Moreno', '1981-03-05', 'M', 'Plaza Mayor 123', 'Sevilla', '41002'),\n",
                "    (14, 'Carla', 'Ruiz', '1993-11-18', 'F', 'Paseo de la Castellana 456', 'Madrid', '28003'),\n",
                "    (15, 'Diego', 'Álvarez', '1977-07-22', 'M', 'Calle Larga 789', 'Málaga', '29002'),\n",
                "    (16, 'Alicia', 'Gutiérrez', '1989-02-03', 'F', 'Rambla de Santa Mónica 123', 'Barcelona', '08004'),\n",
                "    (17, 'Raúl', 'Vázquez', '1984-10-15', 'M', 'Avenida del Mar 456', 'Alicante', '03002'),\n",
                "    (18, 'Lucía', 'Romero', '1991-06-27', 'F', 'Calle San Fermín 789', 'Pamplona', '31001'),\n",
                "    (19, 'Óscar', 'Ramos', '1986-04-09', 'M', 'Plaza del Pilar 123', 'Zaragoza', '50002'),\n",
                "    (20, 'Elena', 'Santos', '1994-12-31', 'F', 'Paseo de la Ribera 456', 'Bilbao', '48002'),\n",
                "    (21, 'Alejandro', 'Flores', '1980-08-17', 'M', 'Calle de la Montera 789', 'Madrid', '28004'),\n",
                "    (22, 'Cristina', 'Molina', '1988-03-10', 'F', 'Avenida de la Palmera 123', 'Sevilla', '41003'),\n",
                "    (23, 'Mario', 'Castillo', '1982-11-25', 'M', 'Paseo Marítimo 456', 'Barcelona', '08005'),\n",
                "    (24, 'Daniela', 'Cabrera', '1996-07-08', 'F', 'Calle de la Reina 789', 'Valencia', '46003'),\n",
                "    (25, 'Pablo', 'Ortega', '1979-02-20', 'M', 'Plaza de las Flores 123', 'Zaragoza', '50003'),\n",
                "    (26, 'Silvia', 'Vargas', '1985-09-03', 'F', 'Avenida de la Constitución 456', 'Sevilla', '41004'),\n",
                "    (27, 'Roberto', 'Sáez', '1991-05-16', 'M', 'Calle Mayor 789', 'Madrid', '28005'),\n",
                "    (28, 'Carolina', 'Pardo', '1993-01-29', 'F', 'Rambla de Cataluña 123', 'Barcelona', '08006'),\n",
                "    (29, 'David', 'Rojas', '1987-10-11', 'M', 'Paseo Marítimo 456', 'Alicante', '03003'),\n",
                "    (30, 'Claudia', 'Suárez', '1995-06-24', 'F', 'Plaza del Ayuntamiento 789', 'Valencia', '46004'),\n",
                "    (31, 'Francisco', 'Ríos', '1983-12-07', 'M', 'Calle de la Paz 123', 'Málaga', '29003'),\n",
                "    (32, 'Adriana', 'Guerrero', '1990-04-30', 'F', 'Avenida del Paralelo 456', 'Barcelona', '08007'),\n",
                "    (33, 'Ernesto', 'Montes', '1978-08-13', 'M', 'Calle Larios 789', 'Málaga', '29004'),\n",
                "    (34, 'Valeria', 'Espinosa', '1997-03-06', 'F', 'Paseo de la Castellana 123', 'Madrid', '28006'),\n",
                "    (35, 'Gustavo', 'Hidalgo', '1984-11-19', 'M', 'Rambla del Prat 456', 'Barcelona', '08008'),\n",
                "    (36, 'Natalia', 'Aguilar', '1992-07-02', 'F', 'Calle San Fernando 789', 'Sevilla', '41005'),\n",
                "    (37, 'Rodrigo', 'Serrano', '1980-05-25', 'M', 'Plaza de la Virgen 123', 'Valencia', '46005'),\n",
                "    (38, 'Gabriela', 'Arias', '1988-02-08', 'F', 'Avenida de la Ilustración 456', 'Zaragoza', '50004'),\n",
                "    (39, 'Mateo', 'Córdoba', '1986-09-21', 'M', 'Calle de las Huertas 789', 'Madrid', '28007'),\n",
                "    (40, 'Camila', 'Acosta', '1994-01-14', 'F', 'Paseo de Gracia 123', 'Barcelona', '08009'),\n",
                "    (41, 'Nicolás', 'Ledesma', '1981-06-27', 'M', 'Calle Larga 456', 'Sevilla', '41006'),\n",
                "    (42, 'Mariana', 'Pizarro', '1989-12-10', 'F', 'Plaza de la Reina 789', 'Valencia', '46006'),\n",
                "    (43, 'Leonardo', 'Escobar', '1983-04-03', 'M', 'Rambla de Cataluña 123', 'Barcelona', '08010'),\n",
                "    (44, 'Valentina', 'Piña', '1996-10-26', 'F', 'Calle Mayor 456', 'Madrid', '28008'),\n",
                "    (45, 'Damián', 'Arce', '1977-07-09', 'M', 'Paseo Marítimo 789', 'Málaga', '29005'),\n",
                "    (46, 'Rebeca', 'Cisneros', '1991-03-22', 'F', 'Avenida del Puerto 123', 'Alicante', '03004'),\n",
                "    (47, 'Samuel', 'Villalobos', '1985-11-05', 'M', 'Calle Colón 456', 'Sevilla', '41007'),\n",
                "    (48, 'Renata', 'Segovia', '1993-08-18', 'F', 'Plaza del Pilar 789', 'Zaragoza', '50005'),\n",
                "    (49, 'Emiliano', 'Salcedo', '1980-02-01', 'M', 'Rambla del Prat 123', 'Barcelona', '08011'),\n",
                "    (50, 'Isabella', 'Quintero', '1997-06-14', 'F', 'Calle de los Olivos 23', 'Madrid', '28019'),\n",
                "    (51, 'Tomás', 'Castañeda', '1982-09-27', 'M', 'Calle Bravo Murillo 456', 'Madrid', '28009'),\n",
                "    (52, 'Sofía', 'Uribe', '1990-05-10', 'F', 'Paseo de la Castellana 789', 'Madrid', '28010'),\n",
                "    (53, 'Martín', 'Salinas', '1986-12-03', 'M', 'Avenida Diagonal 123', 'Barcelona', '08012'),\n",
                "    (54, 'Antonella', 'Rincón', '1995-04-16', 'F', 'Calle Larios 456', 'Málaga', '29006'),\n",
                "    (55, 'Santiago', 'Estrada', '1979-11-29', 'M', 'Plaza de la Reina 789', 'Valencia', '46007'),\n",
                "    (56, 'Catalina', 'Solano', '1988-07-12', 'F', 'Rambla del Prat 123', 'Barcelona', '08013'),\n",
                "    (57, 'Benjamín', 'Carvajal', '1984-03-25', 'M', 'Paseo Marítimo 456', 'Alicante', '03005'),\n",
                "    (58, 'Constanza', 'Avendaño', '1992-10-08', 'F', 'Calle San Fernando 789', 'Sevilla', '41008'),\n",
                "    (59, 'Joaquín', 'Cáceres', '1981-06-21', 'M', 'Plaza del Pilar 123', 'Zaragoza', '50006'),\n",
                "    (60, 'Isadora', 'Echevarría', '1996-01-04', 'F', 'Avenida de la Palmera 456', 'Sevilla', '41009'),\n",
                "    (61, 'Lucas', 'Pizarro', '1979-08-17', 'M', 'Calle de la Montera 789', 'Madrid', '28011'),\n",
                "    (62, 'Antonia', 'Zúñiga', '1987-03-30', 'F', 'Paseo de Gracia 123', 'Barcelona', '08014'),\n",
                "    (63, 'Matías', 'Márquez', '1983-11-13', 'M', 'Rambla de Cataluña 456', 'Barcelona', '08015'),\n",
                "    (64, 'Rafaela', 'Acuña', '1991-07-26', 'F', 'Calle Mayor 789', 'Madrid', '28012'),\n",
                "    (65, 'Maximiliano', 'Yáñez', '1985-02-09', 'M', 'Plaza de las Flores 123', 'Zaragoza', '50007'),\n",
                "    (66, 'Julieta', 'Baeza', '1994-09-22', 'F', 'Avenida del Paralelo 456', 'Barcelona', '08016'),\n",
                "    (67, 'Ezequiel', 'Montero', '1980-05-05', 'M', 'Calle Larios 789', 'Málaga', '29007'),\n",
                "    (68, 'Florencia', 'Quintana', '1988-12-18', 'F', 'Paseo de la Castellana 123', 'Madrid', '28013'),\n",
                "    (69, 'Thiago', 'Olivares', '1986-08-01', 'M', 'Rambla del Prat 456', 'Barcelona', '08017'),\n",
                "    (70, 'Bianca', 'Rendón', '1993-04-14', 'F', 'Calle San Fernando 789', 'Sevilla', '41010'),\n",
                "    (71, 'Cristóbal', 'Palacios', '1979-10-27', 'M', 'Plaza de la Virgen 123', 'Valencia', '46008'),\n",
                "    (72, 'Amanda', 'Parra', '1991-06-09', 'F', 'Avenida de la Ilustración 456', 'Zaragoza', '50008'),\n",
                "    (73, 'Emilio', 'Crespo', '1984-01-22', 'M', 'Calle de las Huertas 789', 'Madrid', '28014'),\n",
                "    (74, 'Ariana', 'Henríquez', '1996-09-05', 'F', 'Paseo de Gracia 123', 'Barcelona', '08018'),\n",
                "    (75, 'Salvador', 'Morales', '1982-05-18', 'M', 'Calle Larga 456', 'Sevilla', '41011'),\n",
                "    (76, 'Fernanda', 'Tapia', '1989-11-01', 'F', 'Plaza de la Reina 789', 'Valencia', '46009'),\n",
                "    (77, 'Emmanuel', 'Concha', '1987-07-14', 'M', 'Rambla de Cataluña 123', 'Barcelona', '08019'),\n",
                "    (78, 'Dulce', 'Quintero', '1995-02-27', 'F', 'Calle Mayor 456', 'Madrid', '28015'),\n",
                "    (79, 'Lisandro', 'Peralta', '1981-09-10', 'M', 'Paseo Marítimo 789', 'Málaga', '29008'),\n",
                "    (80, 'Luana', 'Santamaría', '1993-06-23', 'F', 'Avenida del Puerto 123', 'Alicante', '03006'),\n",
                "    (81, 'Máximo', 'Saldivar', '1986-12-06', 'M', 'Calle Colón 456', 'Sevilla', '41012'),\n",
                "    (82, 'Violeta', 'Ugarte', '1990-04-19', 'F', 'Plaza del Pilar 789', 'Zaragoza', '50009'),\n",
                "    (83, 'Ignacio', 'Solís', '1978-11-02', 'M', 'Rambla del Prat 123', 'Barcelona', '08020'),\n",
                "    (84, 'Avril', 'Olmedo', '1997-07-15', 'F', 'Calle Bravo Murillo 456', 'Madrid', '28016'),\n",
                "    (85, 'Leonel', 'Urrutia', '1984-03-28', 'M', 'Paseo de la Castellana 789', 'Madrid', '28017'),\n",
                "    (86, 'Paloma', 'Espinoza', '1992-10-11', 'F', 'Avenida Diagonal 123', 'Barcelona', '08021'),\n",
                "    (87, 'Fabrizio', 'Mora', '1980-06-24', 'M', 'Calle Larios 456', 'Málaga', '29009'),\n",
                "    (88, 'Maite', 'Heredia', '1988-02-07', 'F', 'Plaza de la Reina 789', 'Valencia', '46010'),\n",
                "    (89, 'Gael', 'Bernal', '1986-09-20', 'M', 'Rambla del Prat 123', 'Barcelona', '08022'),\n",
                "    (90, 'Amelia', 'Polo', '1985-08-19', 'F', 'Calle de los Pintores 12', 'Málaga', '28025'),\n",
                "    (91, 'Amelia', 'Peña', '1994-05-03', 'F', 'Paseo Marítimo 456', 'Alicante', '03007'),\n",
                "    (92, 'Bautista', 'Contreras', '1981-12-16', 'M', 'Calle San Fernando 789', 'Sevilla', '41013'),\n",
                "    (93, 'Luciana', 'Velázquez', '1989-08-29', 'F', 'Plaza del Pilar 123', 'Zaragoza', '50010'),\n",
                "    (94, 'Tristán', 'Sepúlveda', '1987-04-12', 'M', 'Avenida de la Palmera 456', 'Sevilla', '41014'),\n",
                "    (95, 'Jimena', 'Galindo', '1995-11-25', 'F', 'Calle de la Montera 789', 'Madrid', '28018'),\n",
                "    (96, 'Álvaro', 'Leal', '1983-07-08', 'M', 'Paseo de Gracia 123', 'Barcelona', '08023'),\n",
                "    (97, 'Dafne', 'Robles', '1991-03-21', 'F', 'Rambla de Cataluña 456', 'Barcelona', '08024'),\n",
                "    (98, 'Ángel', 'Zepeda', '1979-10-04', 'M', 'Calle Mayor 789', 'Madrid', '28019'),\n",
                "    (99, 'Esmeralda', 'Vigil', '1987-06-17', 'F', 'Plaza de las Flores 123', 'Zaragoza', '50011'),\n",
                "    (100, 'Pascual', 'Betancourt', '1985-01-30', 'M', 'Avenida del Paralelo 456', 'Barcelona', '08025');\n",
                "*/"
            ],
            "metadata": {
                "azdata_cell_guid": "f61a1d4b-1fef-41bb-b4d2-75037bd7ba5b",
                "language": "sql"
            },
            "outputs": [
                {
                    "output_type": "display_data",
                    "data": {
                        "text/html": "Total execution time: 00:00:00"
                    },
                    "metadata": {}
                }
            ],
            "execution_count": 5
        },
        {
            "cell_type": "markdown",
            "source": [
                "- **Insertar los datos en la tabla Cuentas**"
            ],
            "metadata": {
                "azdata_cell_guid": "439606bc-6ef0-4530-897e-e9d1a848163e",
                "language": "sql"
            },
            "attachments": {}
        },
        {
            "cell_type": "code",
            "source": [
                "/*\n",
                "INSERT INTO bank.Cuentas (CuentaID, ClienteID, TipoCuenta, FechaApertura, Saldo)\n",
                "VALUES\n",
                "    (1, 1, 'Ahorros', '2010-05-15', 5678.25),\n",
                "    (2, 1, 'Corriente', '2010-05-15', 2345.67),\n",
                "    (3, 2, 'Ahorros', '2015-03-20', 9876.54),\n",
                "    (4, 3, 'Corriente', '2008-11-01', 1234.56),\n",
                "    (5, 4, 'Ahorros', '2012-07-25', 7890.25),\n",
                "    (6, 5, 'Corriente', '2018-02-10', 3456.78),\n",
                "    (7, 6, 'Ahorros', '2014-09-05', 6789.01),\n",
                "    (8, 7, 'Corriente', '2011-04-18', 2345.67),\n",
                "    (9, 8, 'Ahorros', '2017-12-31', 8765.43),\n",
                "    (10, 9, 'Corriente', '2013-06-07', 4567.89),\n",
                "    (11, 10, 'Ahorros', '2019-01-15', 9012.34),\n",
                "    (12, 11, 'Corriente', '2009-08-22', 5678.90),\n",
                "    (13, 12, 'Ahorros', '2016-05-03', 7890.12),\n",
                "    (14, 13, 'Corriente', '2010-11-28', 3456.78),\n",
                "    (15, 14, 'Ahorros', '2018-07-10', 6789.34),\n",
                "    (16, 15, 'Corriente', '2014-03-15', 2345.67),\n",
                "    (17, 16, 'Ahorros', '2020-02-20', 8765.09),\n",
                "    (18, 17, 'Corriente', '2011-09-01', 4567.23),\n",
                "    (19, 18, 'Ahorros', '2017-04-25', 9012.45),\n",
                "    (20, 19, 'Corriente', '2013-12-08', 5678.67),\n",
                "    (21, 20, 'Ahorros', '2019-06-30', 7890.89),\n",
                "    (22, 21, 'Corriente', '2015-01-12', 3456.01),\n",
                "    (23, 22, 'Ahorros', '2012-08-05', 6789.12),\n",
                "    (24, 23, 'Corriente', '2016-11-18', 2345.34),\n",
                "    (25, 24, 'Ahorros', '2020-04-02', 8765.56),\n",
                "    (26, 25, 'Corriente', '2014-07-27', 4567.78),\n",
                "    (27, 26, 'Ahorros', '2018-03-10', 9012.90),\n",
                "    (28, 27, 'Corriente', '2011-10-15', 5678.12),\n",
                "    (29, 28, 'Ahorros', '2017-06-01', 7890.34),\n",
                "    (30, 29, 'Corriente', '2013-02-25', 3456.56),\n",
                "    (31, 30, 'Ahorros', '2019-09-08', 6789.78),\n",
                "    (32, 31, 'Corriente', '2015-04-20', 2345.90),\n",
                "    (33, 32, 'Ahorros', '2011-11-13', 8765.12),\n",
                "    (34, 33, 'Corriente', '2016-07-05', 4567.34),\n",
                "    (35, 34, 'Ahorros', '2020-02-28', 9012.56),\n",
                "    (36, 35, 'Corriente', '2012-09-22', 5678.78),\n",
                "    (37, 36, 'Ahorros', '2018-05-17', 7890.90),\n",
                "    (38, 37, 'Corriente', '2014-01-03', 3456.12),\n",
                "    (39, 38, 'Ahorros', '2019-10-25', 6789.34),\n",
                "    (40, 39, 'Corriente', '2015-07-11', 2345.56),\n",
                "    (41, 40, 'Ahorros', '2013-04-03', 8765.78),\n",
                "    (42, 41, 'Corriente', '2017-11-18', 4567.90),\n",
                "    (43, 42, 'Ahorros', '2020-06-01', 9012.12),\n",
                "    (44, 43, 'Corriente', '2016-02-14', 5678.34),\n",
                "    (45, 44, 'Ahorros', '2012-08-27', 7890.56),\n",
                "    (46, 45, 'Corriente', '2018-03-10', 3456.78),\n",
                "    (47, 46, 'Ahorros', '2014-10-05', 6789.90),\n",
                "    (48, 47, 'Corriente', '2019-05-22', 2345.12),\n",
                "    (49, 48, 'Ahorros', '2015-01-08', 8765.34),\n",
                "    (50, 49, 'Corriente', '2011-09-30', 4567.56),\n",
                "    (51, 50, 'Ahorros', '2017-06-15', 9012.78),\n",
                "    (52, 51, 'Corriente', '2013-03-01', 5678.90),\n",
                "    (53, 52, 'Ahorros', '2019-11-20', 7890.12),\n",
                "    (54, 53, 'Corriente', '2016-08-07', 3456.34),\n",
                "    (55, 54, 'Ahorros', '2014-04-25', 6789.56),\n",
                "    (56, 55, 'Corriente', '2020-01-10', 2345.78),\n",
                "    (57, 56, 'Ahorros', '2012-07-03', 8765.90),\n",
                "    (58, 57, 'Corriente', '2018-02-18', 4567.12),\n",
                "    (59, 58, 'Ahorros', '2015-09-01', 9012.34),\n",
                "    (60, 59, 'Corriente', '2011-05-27', 5678.56),\n",
                "    (61, 60, 'Ahorros', '2017-12-10', 7890.78),\n",
                "    (62, 61, 'Corriente', '2013-06-23', 3456.90),\n",
                "    (63, 62, 'Ahorros', '2019-03-08', 6789.12),\n",
                "    (64, 63, 'Corriente', '2015-10-31', 2345.34),\n",
                "    (65, 64, 'Ahorros', '2012-04-14', 8765.56),\n",
                "    (66, 65, 'Corriente', '2018-11-01', 4567.78),\n",
                "    (67, 66, 'Ahorros', '2016-06-25', 9012.90),\n",
                "    (68, 67, 'Corriente', '2014-02-09', 5678.12),\n",
                "    (69, 68, 'Ahorros', '2020-09-17', 7890.34),\n",
                "    (70, 69, 'Corriente', '2017-05-03', 3456.56),\n",
                "    (71, 70, 'Ahorros', '2013-12-20', 6789.78),\n",
                "    (72, 71, 'Corriente', '2019-07-15', 2345.90),\n",
                "    (73, 72, 'Ahorros', '2015-03-28', 8765.12),\n",
                "    (74, 73, 'Corriente', '2011-10-11', 4567.34),\n",
                "    (75, 74, 'Ahorros', '2018-04-24', 9012.56),\n",
                "    (76, 75, 'Corriente', '2016-01-07', 5678.78),\n",
                "    (77, 76, 'Ahorros', '2014-08-31', 7890.90),\n",
                "    (78, 77, 'Corriente', '2020-05-16', 3456.12),\n",
                "    (79, 78, 'Ahorros', '2012-11-03', 6789.34),\n",
                "    (80, 79, 'Corriente', '2019-06-29', 2345.56),\n",
                "    (81, 80, 'Ahorros', '2017-02-12', 8765.78),\n",
                "    (82, 81, 'Corriente', '2013-09-05', 4567.90),\n",
                "    (83, 82, 'Ahorros', '2015-04-20', 9012.12),\n",
                "    (84, 83, 'Corriente', '2011-11-14', 5678.34),\n",
                "    (85, 84, 'Ahorros', '2018-07-08', 7890.56),\n",
                "    (86, 85, 'Corriente', '2016-03-01', 3456.78),\n",
                "    (87, 86, 'Ahorros', '2014-10-25', 6789.90),\n",
                "    (88, 87, 'Corriente', '2020-06-18', 2345.12),\n",
                "    (89, 88, 'Ahorros', '2012-02-11', 8765.34),\n",
                "    (90, 89, 'Corriente', '2019-09-04', 4567.56),\n",
                "    (91, 90, 'Ahorros', '2017-05-27', 9012.78),\n",
                "    (92, 91, 'Corriente', '2013-12-10', 5678.90),\n",
                "    (93, 92, 'Ahorros', '2015-07-03', 7890.12),\n",
                "    (94, 93, 'Corriente', '2011-03-26', 3456.34),\n",
                "    (95, 94, 'Ahorros', '2018-10-09', 6789.56),\n",
                "    (96, 95, 'Corriente', '2016-05-22', 2345.78),\n",
                "    (97, 96, 'Ahorros', '2014-01-15', 8765.90),\n",
                "    (98, 97, 'Corriente', '2020-08-29', 4567.12),\n",
                "    (99, 98, 'Ahorros', '2012-04-03', 9012.34),\n",
                "    (100, 99, 'Corriente', '2019-11-17', 5678.56);\n",
                "*/"
            ],
            "metadata": {
                "azdata_cell_guid": "f4ad4b4a-c802-45fa-871c-333260f94c75",
                "language": "sql"
            },
            "outputs": [
                {
                    "output_type": "display_data",
                    "data": {
                        "text/html": "Total execution time: 00:00:00"
                    },
                    "metadata": {}
                }
            ],
            "execution_count": 6
        },
        {
            "cell_type": "markdown",
            "source": [
                "- **Insertar los datos en la tabla Transacciones**"
            ],
            "metadata": {
                "azdata_cell_guid": "81fff978-0d85-4713-ac81-5f7c6fa2587d"
            },
            "attachments": {}
        },
        {
            "cell_type": "code",
            "source": [
                "/*\n",
                "INSERT INTO bank.Transacciones (TransaccionID, CuentaID, Fecha, Tipo, Monto, Descripcion)\n",
                "VALUES\n",
                "    (1, 1, '2023-04-01', 'Depósito', 500.00, 'Depósito de nómina'),\n",
                "    (2, 2, '2023-04-05', 'Retiro', 200.00, 'Retiro en cajero automático'),\n",
                "    (3, 3, '2023-04-10', 'Transferencia', 1000.00, 'Transferencia desde otra cuenta'),\n",
                "    (4, 4, '2023-04-15', 'Pago', 300.00, 'Pago de servicios públicos'),\n",
                "    (5, 5, '2023-04-20', 'Depósito', 2000.00, 'Depósito de cheque'),\n",
                "    (6, 6, '2023-04-25', 'Retiro', 150.00, 'Retiro en cajero automático'),\n",
                "    (7, 7, '2023-04-30', 'Transferencia', 800.00, 'Transferencia a otra cuenta'),\n",
                "    (8, 8, '2023-05-05', 'Pago', 400.00, 'Pago de tarjeta de crédito'),\n",
                "    (9, 9, '2023-05-10', 'Depósito', 1500.00, 'Depósito de nómina'),\n",
                "    (10, 10, '2023-05-15', 'Retiro', 250.00, 'Retiro en cajero automático'),\n",
                "    (11, 11, '2023-05-20', 'Transferencia', 1200.00, 'Transferencia desde otra cuenta'),\n",
                "    (12, 12, '2023-05-25', 'Pago', 350.00, 'Pago de servicios públicos'),\n",
                "    (13, 13, '2023-05-30', 'Depósito', 2500.00, 'Depósito de cheque'),\n",
                "    (14, 14, '2023-06-04', 'Retiro', 180.00, 'Retiro en cajero automático'),\n",
                "    (15, 15, '2023-06-09', 'Transferencia', 900.00, 'Transferencia a otra cuenta'),\n",
                "    (16, 16, '2023-06-14', 'Pago', 450.00, 'Pago de tarjeta de crédito'),\n",
                "    (17, 17, '2023-06-19', 'Depósito', 1800.00, 'Depósito de nómina'),\n",
                "    (18, 18, '2023-06-24', 'Retiro', 220.00, 'Retiro en cajero automático'),\n",
                "    (19, 19, '2023-06-29', 'Transferencia', 1100.00, 'Transferencia desde otra cuenta'),\n",
                "    (20, 20, '2023-07-04', 'Pago', 380.00, 'Pago de servicios públicos'),\n",
                "    (21, 21, '2023-07-09', 'Depósito', 2200.00, 'Depósito de cheque'),\n",
                "    (22, 22, '2023-07-14', 'Retiro', 160.00, 'Retiro en cajero automático'),\n",
                "    (23, 23, '2023-07-19', 'Transferencia', 850.00, 'Transferencia a otra cuenta'),\n",
                "    (24, 24, '2023-07-24', 'Pago', 420.00, 'Pago de tarjeta de crédito'),\n",
                "    (25, 25, '2023-07-29', 'Depósito', 1900.00, 'Depósito de nómina'),\n",
                "    (26, 26, '2023-08-03', 'Retiro', 240.00, 'Retiro en cajero automático'),\n",
                "    (27, 27, '2023-08-08', 'Transferencia', 1300.00, 'Transferencia desde otra cuenta'),\n",
                "    (28, 28, '2023-08-13', 'Pago', 390.00, 'Pago de servicios públicos'),\n",
                "    (29, 29, '2023-08-18', 'Depósito', 2700.00, 'Depósito de cheque'),\n",
                "    (30, 30, '2023-08-23', 'Retiro', 170.00, 'Retiro en cajero automático'),\n",
                "    (31, 31, '2023-08-28', 'Transferencia', 950.00, 'Transferencia a otra cuenta'),\n",
                "    (32, 32, '2023-09-02', 'Pago', 460.00, 'Pago de tarjeta de crédito'),\n",
                "    (33, 33, '2023-09-07', 'Depósito', 2100.00, 'Depósito de nómina'),\n",
                "    (34, 34, '2023-09-12', 'Retiro', 280.00, 'Retiro en cajero automático'),\n",
                "    (35, 35, '2023-09-17', 'Transferencia', 1400.00, 'Transferencia desde otra cuenta'),\n",
                "    (36, 36, '2023-09-22', 'Pago', 330.00, 'Pago de servicios públicos'),\n",
                "    (37, 37, '2023-09-27', 'Depósito', 2300.00, 'Depósito de cheque'),\n",
                "    (38, 38, '2023-10-02', 'Retiro', 190.00, 'Retiro en cajero automático'),\n",
                "    (39, 39, '2023-10-07', 'Transferencia', 1000.00, 'Transferencia a otra cuenta'),\n",
                "    (40, 40, '2023-10-12', 'Pago', 480.00, 'Pago de tarjeta de crédito'),\n",
                "    (41, 41, '2023-10-17', 'Depósito', 2400.00, 'Depósito de nómina'),\n",
                "    (42, 42, '2023-10-22', 'Retiro', 260.00, 'Retiro en cajero automático'),\n",
                "    (43, 43, '2023-10-27', 'Transferencia', 1500.00, 'Transferencia desde otra cuenta'),\n",
                "    (44, 44, '2023-11-01', 'Pago', 360.00, 'Pago de servicios públicos'),\n",
                "    (45, 45, '2023-11-06', 'Depósito', 2800.00, 'Depósito de cheque'),\n",
                "    (46, 46, '2023-11-11', 'Retiro', 210.00, 'Retiro en cajero automático'),\n",
                "    (47, 47, '2023-11-16', 'Transferencia', 1100.00, 'Transferencia a otra cuenta'),\n",
                "    (48, 48, '2023-11-21', 'Pago', 490.00, 'Pago de tarjeta de crédito'),\n",
                "    (49, 49, '2023-11-26', 'Depósito', 2500.00, 'Depósito de nómina'),\n",
                "    (50, 50, '2023-12-01', 'Retiro', 290.00, 'Retiro en cajero automático'),\n",
                "    (51, 51, '2023-12-06', 'Transferencia', 1600.00, 'Transferencia desde otra cuenta'),\n",
                "    (52, 52, '2023-12-11', 'Pago', 370.00, 'Pago de servicios públicos'),\n",
                "    (53, 53, '2023-12-16', 'Depósito', 3000.00, 'Depósito de cheque'),\n",
                "    (54, 54, '2023-12-21', 'Retiro', 230.00, 'Retiro en cajero automático'),\n",
                "    (55, 55, '2023-12-26', 'Transferencia', 1200.00, 'Transferencia a otra cuenta'),\n",
                "    (56, 56, '2023-12-31', 'Pago', 520.00, 'Pago de tarjeta de crédito'),\n",
                "    (57, 1, '2024-01-05', 'Depósito', 2600.00, 'Depósito de nómina'),\n",
                "    (58, 2, '2024-01-10', 'Retiro', 300.00, 'Retiro en cajero automático'),\n",
                "    (59, 3, '2024-01-15', 'Transferencia', 1700.00, 'Transferencia desde otra cuenta'),\n",
                "    (60, 4, '2024-01-20', 'Pago', 400.00, 'Pago de servicios públicos'),\n",
                "    (61, 5, '2024-01-25', 'Depósito', 3200.00, 'Depósito de cheque'),\n",
                "    (62, 6, '2024-01-30', 'Retiro', 250.00, 'Retiro en cajero automático'),\n",
                "    (63, 7, '2024-02-04', 'Transferencia', 1300.00, 'Transferencia a otra cuenta'),\n",
                "    (64, 8, '2024-02-09', 'Pago', 530.00, 'Pago de tarjeta de crédito'),\n",
                "    (65, 9, '2024-02-14', 'Depósito', 2700.00, 'Depósito de nómina'),\n",
                "    (66, 10, '2024-02-19', 'Retiro', 320.00, 'Retiro en cajero automático'),\n",
                "    (67, 11, '2024-02-24', 'Transferencia', 1800.00, 'Transferencia desde otra cuenta'),\n",
                "    (68, 12, '2024-02-29', 'Pago', 430.00, 'Pago de servicios públicos'),\n",
                "    (69, 13, '2024-03-05', 'Depósito', 3400.00, 'Depósito de cheque'),\n",
                "    (70, 14, '2024-03-10', 'Retiro', 270.00, 'Retiro en cajero automático'),\n",
                "    (71, 15, '2024-03-15', 'Transferencia', 1400.00, 'Transferencia a otra cuenta'),\n",
                "    (72, 16, '2024-03-20', 'Pago', 560.00, 'Pago de tarjeta de crédito'),\n",
                "    (73, 17, '2024-03-25', 'Depósito', 2800.00, 'Depósito de nómina'),\n",
                "    (74, 18, '2024-03-30', 'Retiro', 340.00, 'Retiro en cajero automático'),\n",
                "    (75, 19, '2024-04-04', 'Transferencia', 1900.00, 'Transferencia desde otra cuenta'),\n",
                "    (76, 20, '2024-04-09', 'Pago', 460.00, 'Pago de servicios públicos'),\n",
                "    (77, 21, '2024-04-14', 'Depósito', 3500.00, 'Depósito de cheque'),\n",
                "    (78, 22, '2024-04-19', 'Retiro', 280.00, 'Retiro en cajero automático'),\n",
                "    (79, 23, '2024-04-24', 'Transferencia', 1500.00, 'Transferencia a otra cuenta'),\n",
                "    (80, 24, '2024-04-29', 'Pago', 590.00, 'Pago de tarjeta de crédito'),\n",
                "    (81, 25, '2024-05-04', 'Depósito', 2900.00, 'Depósito de nómina'),\n",
                "    (82, 26, '2024-05-09', 'Retiro', 360.00, 'Retiro en cajero automático'),\n",
                "    (83, 27, '2024-05-14', 'Transferencia', 2000.00, 'Transferencia desde otra cuenta'),\n",
                "    (84, 28, '2024-05-19', 'Pago', 470.00, 'Pago de servicios públicos'),\n",
                "    (85, 29, '2024-05-24', 'Depósito', 3600.00, 'Depósito de cheque'),\n",
                "    (86, 30, '2024-05-29', 'Retiro', 290.00, 'Retiro en cajero automático'),\n",
                "    (87, 31, '2024-06-03', 'Transferencia', 1600.00, 'Transferencia a otra cuenta'),\n",
                "    (88, 32, '2024-06-08', 'Pago', 620.00, 'Pago de tarjeta de crédito'),\n",
                "    (89, 33, '2024-06-13', 'Depósito', 3000.00, 'Depósito de nómina'),\n",
                "    (90, 34, '2024-06-18', 'Retiro', 380.00, 'Retiro en cajero automático'), \n",
                "    (91, 35, '2024-06-23', 'Transferencia', 2100.00, 'Transferencia desde otra cuenta'),\n",
                "    (92, 36, '2024-06-28', 'Pago', 500.00, 'Pago de servicios públicos'),\n",
                "    (93, 37, '2024-07-03', 'Depósito', 3700.00, 'Depósito de cheque'),\n",
                "    (94, 38, '2024-07-08', 'Retiro', 310.00, 'Retiro en cajero automático'),\n",
                "    (95, 39, '2024-07-13', 'Transferencia', 1700.00, 'Transferencia a otra cuenta'),\n",
                "    (96, 40, '2024-07-18', 'Pago', 630.00, 'Pago de tarjeta de crédito'),\n",
                "    (97, 41, '2024-07-23', 'Depósito', 3100.00, 'Depósito de nómina'),\n",
                "    (98, 42, '2024-07-28', 'Retiro', 390.00, 'Retiro en cajero automático'),\n",
                "    (99, 43, '2024-08-02', 'Transferencia', 2200.00, 'Transferencia desde otra cuenta'),\n",
                "    (100, 44, '2024-08-07', 'Pago', 530.00, 'Pago de servicios públicos');\n",
                "*/"
            ],
            "metadata": {
                "azdata_cell_guid": "8656ceac-c260-4ec1-b470-666b6c59da64",
                "language": "sql"
            },
            "outputs": [
                {
                    "output_type": "display_data",
                    "data": {
                        "text/html": "Total execution time: 00:00:00"
                    },
                    "metadata": {}
                }
            ],
            "execution_count": 7
        },
        {
            "cell_type": "markdown",
            "source": [
                "## Preguntas"
            ],
            "metadata": {
                "azdata_cell_guid": "3d8ee359-8ab3-4319-92e9-0495b9eca146",
                "language": "sql"
            },
            "attachments": {}
        },
        {
            "cell_type": "markdown",
            "source": [
                "**1\\. ¿Cuántos clientes hay en la base de datos?**"
            ],
            "metadata": {
                "azdata_cell_guid": "fe71a84c-e7ae-428d-ae6c-039f7780a924"
            },
            "attachments": {}
        },
        {
            "cell_type": "code",
            "source": [],
            "metadata": {
                "azdata_cell_guid": "01160802-61d1-49d9-8399-ed91b17d9b0a",
                "language": "sql"
            },
            "outputs": [],
            "execution_count": null
        },
        {
            "cell_type": "markdown",
            "source": [
                "**2. ¿Cuál es el saldo total de todas las cuentas?**"
            ],
            "metadata": {
                "azdata_cell_guid": "61964765-2f28-4a13-8ffa-9dac280baeec",
                "language": "sql"
            },
            "attachments": {}
        },
        {
            "cell_type": "code",
            "source": [],
            "metadata": {
                "azdata_cell_guid": "5c5671cd-f5f4-478e-9cda-71ca5ef111c0",
                "language": "sql"
            },
            "outputs": [],
            "execution_count": null
        },
        {
            "cell_type": "markdown",
            "source": [
                "**3. ¿Cuál es el cliente con la cuenta de mayor saldo?**"
            ],
            "metadata": {
                "azdata_cell_guid": "5ab6c7f3-a65a-4b3e-9e59-04b1f49371e5",
                "language": "sql"
            },
            "attachments": {}
        },
        {
            "cell_type": "code",
            "source": [],
            "metadata": {
                "azdata_cell_guid": "12cac277-2f2e-4ee6-9414-aee5e089765c",
                "language": "sql"
            },
            "outputs": [],
            "execution_count": null
        },
        {
            "cell_type": "markdown",
            "source": [
                "**4. ¿Cuántas cuentas de ahorros hay en total?**"
            ],
            "metadata": {
                "azdata_cell_guid": "9c7cf9a7-f26b-486f-a921-5cbf302fb0de",
                "language": "sql"
            },
            "attachments": {}
        },
        {
            "cell_type": "code",
            "source": [],
            "metadata": {
                "azdata_cell_guid": "5fecc4d9-5e72-460c-ad61-83694f532d18",
                "language": "sql"
            },
            "outputs": [],
            "execution_count": null
        },
        {
            "cell_type": "markdown",
            "source": [
                "**5. ¿Cuál es el monto total de depósitos realizados?**"
            ],
            "metadata": {
                "azdata_cell_guid": "3c0bfcd9-91c1-4066-8e35-5b1f46d4ccf9",
                "language": "sql"
            },
            "attachments": {}
        },
        {
            "cell_type": "code",
            "source": [],
            "metadata": {
                "azdata_cell_guid": "a7119ad3-136e-48f1-a672-07b2908817d9",
                "language": "sql"
            },
            "outputs": [],
            "execution_count": null
        },
        {
            "cell_type": "markdown",
            "source": [
                "**6. ¿Cuál es el cliente con la mayor cantidad de cuentas?**"
            ],
            "metadata": {
                "azdata_cell_guid": "270047de-c4af-4277-bbdf-2cd42dea41ee",
                "language": "sql"
            },
            "attachments": {}
        },
        {
            "cell_type": "code",
            "source": [],
            "metadata": {
                "azdata_cell_guid": "0c65c9be-2bed-4a6f-a9b7-a1d28e554e95",
                "language": "sql"
            },
            "outputs": [],
            "execution_count": null
        },
        {
            "cell_type": "markdown",
            "source": [
                "**7. ¿Cuál es la ciudad con más clientes?**"
            ],
            "metadata": {
                "azdata_cell_guid": "c97d8e7a-052e-4258-830b-7fee292ebac4",
                "language": "sql"
            },
            "attachments": {}
        },
        {
            "cell_type": "code",
            "source": [],
            "metadata": {
                "azdata_cell_guid": "f52397f8-d0ea-4a3e-8569-162cde478f8f",
                "language": "sql"
            },
            "outputs": [],
            "execution_count": null
        },
        {
            "cell_type": "markdown",
            "source": [
                "**8. ¿Cuál es el monto promedio de los retiros?**"
            ],
            "metadata": {
                "azdata_cell_guid": "e03254dc-ce67-4f5f-92f5-e529dcfda25c",
                "language": "sql"
            },
            "attachments": {}
        },
        {
            "cell_type": "code",
            "source": [],
            "metadata": {
                "azdata_cell_guid": "e116d006-560c-4b74-ad56-1c68620b5dd0",
                "language": "sql"
            },
            "outputs": [],
            "execution_count": null
        },
        {
            "cell_type": "markdown",
            "source": [
                "**9. ¿Cuáles son los clientes que no tienen cuentas?**"
            ],
            "metadata": {
                "azdata_cell_guid": "d82115b1-34f9-4cfe-89d9-01b717adfcbe",
                "language": "sql"
            },
            "attachments": {}
        },
        {
            "cell_type": "code",
            "source": [],
            "metadata": {
                "azdata_cell_guid": "521f93a1-e3ba-40af-a524-ca456d97daf8",
                "language": "sql"
            },
            "outputs": [],
            "execution_count": null
        },
        {
            "cell_type": "markdown",
            "source": [
                "**10. ¿Cuál es la cuenta con la mayor cantidad de transacciones?**"
            ],
            "metadata": {
                "azdata_cell_guid": "df08c407-0830-427d-b20b-89fe31f70018",
                "language": "sql"
            },
            "attachments": {}
        },
        {
            "cell_type": "code",
            "source": [],
            "metadata": {
                "azdata_cell_guid": "3cc07a7e-5e90-4f46-9bcf-952ab8412cb9",
                "language": "sql"
            },
            "outputs": [],
            "execution_count": null
        },
        {
            "cell_type": "markdown",
            "source": [
                "<span style=\"color: var(--vscode-foreground);\"><b>11.</b>&nbsp;</span> **¿Cuáles son los clientes que tienen cuentas de ahorros y corrientes?**"
            ],
            "metadata": {
                "azdata_cell_guid": "b723e7a8-8950-4748-946f-3fee3d463f36",
                "language": "sql"
            },
            "attachments": {}
        },
        {
            "cell_type": "code",
            "source": [],
            "metadata": {
                "azdata_cell_guid": "86a54f2d-dc93-4065-b22e-35648bc0e4d7",
                "language": "sql"
            },
            "outputs": [],
            "execution_count": null
        },
        {
            "cell_type": "markdown",
            "source": [
                "**12\\. ¿Cuál es el monto total de transacciones por tipo (depósito, retiro, transferencia, pago)?**"
            ],
            "metadata": {
                "azdata_cell_guid": "dfc452dc-9452-45cc-8b37-6f1b708b8902",
                "language": "sql"
            },
            "attachments": {}
        },
        {
            "cell_type": "code",
            "source": [],
            "metadata": {
                "azdata_cell_guid": "bd438197-7656-4f4a-a62d-b87d1054451e",
                "language": "sql"
            },
            "outputs": [],
            "execution_count": null
        },
        {
            "cell_type": "markdown",
            "source": [
                "**13. ¿Cuál es la cuenta con el saldo más bajo?**"
            ],
            "metadata": {
                "azdata_cell_guid": "baddb33c-f50c-4d53-bfab-8b9a6c6f7916",
                "language": "sql"
            },
            "attachments": {}
        },
        {
            "cell_type": "code",
            "source": [],
            "metadata": {
                "azdata_cell_guid": "1b2933fa-5b15-436a-8cac-f81a2ef9ded3",
                "language": "sql"
            },
            "outputs": [],
            "execution_count": null
        },
        {
            "cell_type": "markdown",
            "source": [
                "**14. ¿Cuáles son los clientes que no han realizado transacciones?**"
            ],
            "metadata": {
                "azdata_cell_guid": "331cbe62-6a02-4ae5-af91-a091d55268b7",
                "language": "sql"
            },
            "attachments": {}
        },
        {
            "cell_type": "code",
            "source": [],
            "metadata": {
                "azdata_cell_guid": "9ea1b729-e2e8-4879-8b67-435d01596b24",
                "language": "sql"
            },
            "outputs": [],
            "execution_count": null
        },
        {
            "cell_type": "markdown",
            "source": [
                "**15. ¿Cuál es la fecha de la transacción más antigua?**"
            ],
            "metadata": {
                "azdata_cell_guid": "fd92c5b3-5a4e-49a9-8304-35c9b0c5c594",
                "language": "sql"
            },
            "attachments": {}
        },
        {
            "cell_type": "code",
            "source": [],
            "metadata": {
                "azdata_cell_guid": "e7110075-a2df-4485-b546-dfafb2b1bea3",
                "language": "sql"
            },
            "outputs": [],
            "execution_count": null
        },
        {
            "cell_type": "markdown",
            "source": [
                "**16. ¿Cuáles son las 10 cuentas con mayor saldo?**"
            ],
            "metadata": {
                "azdata_cell_guid": "2ac2895d-2287-436f-a353-56ec4ffa01d2",
                "language": "sql"
            },
            "attachments": {}
        },
        {
            "cell_type": "code",
            "source": [],
            "metadata": {
                "azdata_cell_guid": "eb290161-22ad-4baf-9956-729c0ac615c4",
                "language": "sql"
            },
            "outputs": [],
            "execution_count": null
        },
        {
            "cell_type": "markdown",
            "source": [
                "**17. ¿Cuál es el cliente con la mayor cantidad de transacciones?**"
            ],
            "metadata": {
                "azdata_cell_guid": "59af31f9-17cb-478f-8609-2f32119662b9",
                "language": "sql"
            },
            "attachments": {}
        },
        {
            "cell_type": "code",
            "source": [],
            "metadata": {
                "azdata_cell_guid": "c2f26b41-e8c8-4a08-87be-590e7887d0fa",
                "language": "sql"
            },
            "outputs": [],
            "execution_count": null
        },
        {
            "cell_type": "markdown",
            "source": [
                "**18. ¿Cuáles son las 5 ciudades con más clientes?**"
            ],
            "metadata": {
                "azdata_cell_guid": "dcfb06f8-908d-4b25-9b41-23e0b42c2798",
                "language": "sql"
            },
            "attachments": {}
        },
        {
            "cell_type": "code",
            "source": [],
            "metadata": {
                "azdata_cell_guid": "708bbcac-64f7-4ff6-8d2a-8952129d0bb1",
                "language": "sql"
            },
            "outputs": [],
            "execution_count": null
        },
        {
            "cell_type": "markdown",
            "source": [
                "**19. ¿Cuál es el monto promedio de las transferencias?**"
            ],
            "metadata": {
                "azdata_cell_guid": "c210aca2-4a0d-42e7-aaff-33b461151fc1",
                "language": "sql"
            },
            "attachments": {}
        },
        {
            "cell_type": "markdown",
            "source": [
                "**20. ¿Cuáles son los clientes que tienen cuentas abiertas en los últimos 6 meses?**"
            ],
            "metadata": {
                "azdata_cell_guid": "2df3c828-ee2c-419e-aad0-404ea3c65346",
                "language": "sql"
            },
            "attachments": {}
        },
        {
            "cell_type": "code",
            "source": [],
            "metadata": {
                "azdata_cell_guid": "f8c2211f-e5e9-491a-b142-fdef00c514de",
                "language": "sql"
            },
            "outputs": [],
            "execution_count": null
        },
        {
            "cell_type": "markdown",
            "source": [
                "**21. ¿Cuál es el monto total de pagos realizados?**"
            ],
            "metadata": {
                "azdata_cell_guid": "7a716ab0-042e-4366-893b-1279b8f614ca",
                "language": "sql"
            },
            "attachments": {}
        },
        {
            "cell_type": "code",
            "source": [],
            "metadata": {
                "azdata_cell_guid": "bab1a125-1c24-49e9-81e5-518bd5c53fde",
                "language": "sql"
            },
            "outputs": [],
            "execution_count": null
        },
        {
            "cell_type": "markdown",
            "source": [
                "**22. ¿Cuáles son los clientes que tienen cuentas inactivas (sin transacciones en los últimos 3 meses)?**"
            ],
            "metadata": {
                "azdata_cell_guid": "6cec3b9c-ec0c-4f46-b3bf-62d35c6090c0",
                "language": "sql"
            },
            "attachments": {}
        },
        {
            "cell_type": "code",
            "source": [],
            "metadata": {
                "azdata_cell_guid": "e39afeea-27a0-416b-8cd0-ef53c25a2aae",
                "language": "sql"
            },
            "outputs": [],
            "execution_count": null
        },
        {
            "cell_type": "markdown",
            "source": [
                "**23. ¿Cuál es el monto promedio de depósitos por ciudad?**"
            ],
            "metadata": {
                "azdata_cell_guid": "05191c35-2c36-438f-90c2-a294db0c4450",
                "language": "sql"
            },
            "attachments": {}
        },
        {
            "cell_type": "code",
            "source": [],
            "metadata": {
                "azdata_cell_guid": "abf0cbaa-577c-4528-a010-dcd742fd253a",
                "language": "sql"
            },
            "outputs": [],
            "execution_count": null
        },
        {
            "cell_type": "markdown",
            "source": [
                "**24. ¿Cuáles son las 10 cuentas con más transacciones?**"
            ],
            "metadata": {
                "azdata_cell_guid": "a345cd99-d06a-4a9a-9c56-4ee1b0e0af9e",
                "language": "sql"
            },
            "attachments": {}
        },
        {
            "cell_type": "code",
            "source": [],
            "metadata": {
                "azdata_cell_guid": "588e4e8b-35d7-4916-becd-7c2d6609a8c5",
                "language": "sql"
            },
            "outputs": [],
            "execution_count": null
        },
        {
            "cell_type": "markdown",
            "source": [
                "**25. ¿Cuáles son los clientes que tienen un saldo total (sumando todas sus cuentas) superior a $9000?**"
            ],
            "metadata": {
                "azdata_cell_guid": "05362bd0-ab76-4bcb-9838-fcc9856b4005",
                "language": "sql"
            },
            "attachments": {}
        },
        {
            "cell_type": "code",
            "source": [],
            "metadata": {
                "azdata_cell_guid": "ed4d3ddf-e28d-44cc-87ce-e6bbb48e2300",
                "language": "sql"
            },
            "outputs": [],
            "execution_count": null
        },
        {
            "cell_type": "markdown",
            "source": [
                "**26. ¿Cuáles son las cuentas que han tenido transacciones en todas las fechas del último mes?**"
            ],
            "metadata": {
                "azdata_cell_guid": "60dcae03-40c8-4e6e-83f3-034d09ad5352",
                "language": "sql"
            },
            "attachments": {}
        },
        {
            "cell_type": "code",
            "source": [],
            "metadata": {
                "azdata_cell_guid": "d67a96ac-4039-460a-8486-b0456fcc269e",
                "language": "sql"
            },
            "outputs": [],
            "execution_count": null
        },
        {
            "cell_type": "markdown",
            "source": [
                "**27. ¿Cuál es el monto promedio de transacciones por tipo de cuenta?**"
            ],
            "metadata": {
                "azdata_cell_guid": "60164589-175f-4f7c-81c4-4036e3c44e20",
                "language": "sql"
            },
            "attachments": {}
        },
        {
            "cell_type": "code",
            "source": [],
            "metadata": {
                "azdata_cell_guid": "fba88346-6fe5-4fd9-8778-64df90c4e95a",
                "language": "sql"
            },
            "outputs": [],
            "execution_count": null
        },
        {
            "cell_type": "markdown",
            "source": [
                "**28. ¿Cuáles son los clientes que tienen cuentas con saldo superior al saldo promedio de todas las cuentas?**"
            ],
            "metadata": {
                "azdata_cell_guid": "47eae5bb-7488-4093-84a2-b9c961eef65c",
                "language": "sql"
            },
            "attachments": {}
        },
        {
            "cell_type": "code",
            "source": [],
            "metadata": {
                "azdata_cell_guid": "f12076a0-04b8-412f-a5dd-48c68e3dfff1",
                "language": "sql"
            },
            "outputs": [],
            "execution_count": null
        },
        {
            "cell_type": "markdown",
            "source": [
                "**29. ¿Cuál es el monto total de transacciones por cliente y tipo de transacción?**"
            ],
            "metadata": {
                "azdata_cell_guid": "4a5a3c24-293c-436a-9d3d-f0010430986f",
                "language": "sql"
            },
            "attachments": {}
        },
        {
            "cell_type": "code",
            "source": [],
            "metadata": {
                "azdata_cell_guid": "7e3ac269-f6e1-422d-a5af-1151d246b099",
                "language": "sql"
            },
            "outputs": [],
            "execution_count": null
        },
        {
            "cell_type": "markdown",
            "source": [
                "**30. ¿Cuáles son las cuentas que no han tenido transacciones en los últimos 6 meses?**"
            ],
            "metadata": {
                "azdata_cell_guid": "8cf2fe81-b3f2-4d18-9b8c-35fa4036635d",
                "language": "sql"
            },
            "attachments": {}
        },
        {
            "cell_type": "code",
            "source": [],
            "metadata": {
                "azdata_cell_guid": "cd2b6386-cdac-4218-9529-596e0046d031",
                "language": "sql"
            },
            "outputs": [],
            "execution_count": null
        },
        {
            "cell_type": "markdown",
            "source": [
                "**31. ¿Cuál es el monto promedio de transacciones por rango de edad de los clientes?**"
            ],
            "metadata": {
                "azdata_cell_guid": "02fe62cc-829d-4238-a8bf-a593af4be586",
                "language": "sql"
            },
            "attachments": {}
        },
        {
            "cell_type": "code",
            "source": [],
            "metadata": {
                "azdata_cell_guid": "df75f6d9-a1ca-4fb0-ad91-570e860c90f9",
                "language": "sql"
            },
            "outputs": [],
            "execution_count": null
        },
        {
            "cell_type": "markdown",
            "source": [
                "**32.** **¿Cuáles son los clientes que tienen cuentas con un saldo superior a la mitad del saldo promedio de todas las cuentas?**"
            ],
            "metadata": {
                "azdata_cell_guid": "400579c4-3dbe-4ee8-ad95-ac92985f2ef9"
            },
            "attachments": {}
        },
        {
            "cell_type": "code",
            "source": [],
            "metadata": {
                "azdata_cell_guid": "6d851e99-067a-475a-aa56-2ad3e4f4e752",
                "language": "sql"
            },
            "outputs": [],
            "execution_count": null
        },
        {
            "cell_type": "markdown",
            "source": [
                "**33. ¿Cuál es el monto total de transacciones por mes y año?**"
            ],
            "metadata": {
                "azdata_cell_guid": "041cd756-fa24-442f-abfb-912f99a9fa5a",
                "language": "sql"
            },
            "attachments": {}
        },
        {
            "cell_type": "code",
            "source": [],
            "metadata": {
                "azdata_cell_guid": "13ae24b1-6a41-4a32-a1ea-4049b1fea551",
                "language": "sql"
            },
            "outputs": [],
            "execution_count": null
        },
        {
            "cell_type": "markdown",
            "source": [
                "**34. ¿Cuáles son las cuentas que han tenido transacciones en todas las fechas del último trimestre?**"
            ],
            "metadata": {
                "azdata_cell_guid": "7c92ceab-2bed-4cc0-93c7-dce1f309b89d",
                "language": "sql"
            },
            "attachments": {}
        },
        {
            "cell_type": "code",
            "source": [],
            "metadata": {
                "azdata_cell_guid": "5a3dc969-3f31-49eb-a388-ed9d72df106d",
                "language": "sql"
            },
            "outputs": [],
            "execution_count": null
        },
        {
            "cell_type": "markdown",
            "source": [
                "**35. ¿Cuál es el monto promedio de depósitos por rango de saldo de las cuentas?**"
            ],
            "metadata": {
                "azdata_cell_guid": "4b845cb4-b3d1-461c-963f-ef1ccaa8ca10",
                "language": "sql"
            },
            "attachments": {}
        },
        {
            "cell_type": "code",
            "source": [],
            "metadata": {
                "azdata_cell_guid": "25581a81-0398-41fb-bb81-ed79232bf355",
                "language": "sql"
            },
            "outputs": [],
            "execution_count": null
        },
        {
            "cell_type": "markdown",
            "source": [
                "**36. ¿Cuáles son los clientes que tienen cuentas con un saldo superior al saldo máximo de todas las cuentas de ahorros?**"
            ],
            "metadata": {
                "azdata_cell_guid": "7054d970-8fb9-442b-b330-632a93b2bff3",
                "language": "sql"
            },
            "attachments": {}
        },
        {
            "cell_type": "markdown",
            "source": [
                "**37. ¿Cuál es el monto total de transacciones por día de la semana?**"
            ],
            "metadata": {
                "azdata_cell_guid": "350b365e-7fbf-4309-8918-d74f8d3a8b63",
                "language": "sql"
            },
            "attachments": {}
        },
        {
            "cell_type": "code",
            "source": [],
            "metadata": {
                "azdata_cell_guid": "7cdc4e65-cce1-456b-ad06-b6485aa94697",
                "language": "sql"
            },
            "outputs": [],
            "execution_count": null
        },
        {
            "cell_type": "markdown",
            "source": [
                "**38. ¿Cuáles son las cuentas que han tenido transacciones en todos los meses del año en curso?**"
            ],
            "metadata": {
                "azdata_cell_guid": "127badba-3f91-4cf8-af10-fd8f2147d5a2",
                "language": "sql"
            },
            "attachments": {}
        },
        {
            "cell_type": "code",
            "source": [],
            "metadata": {
                "azdata_cell_guid": "4b2ca473-9476-4f0e-a8bb-8ce869cbd0c8",
                "language": "sql"
            },
            "outputs": [],
            "execution_count": null
        },
        {
            "cell_type": "markdown",
            "source": [
                "**39. ¿Cuál es el monto promedio de retiros por rango de edad de los clientes?**"
            ],
            "metadata": {
                "azdata_cell_guid": "8d8f89b7-1f4e-4d3b-b2ef-435929e6790f",
                "language": "sql"
            },
            "attachments": {}
        },
        {
            "cell_type": "code",
            "source": [],
            "metadata": {
                "azdata_cell_guid": "dab71398-d80d-4749-826c-d5c06c243c00",
                "language": "sql"
            },
            "outputs": [],
            "execution_count": null
        },
        {
            "cell_type": "markdown",
            "source": [
                "**40. ¿Cuáles son los clientes que tienen cuentas con un saldo inferior al saldo mínimo de todas las cuentas corrientes?**"
            ],
            "metadata": {
                "azdata_cell_guid": "f3fca739-b2f4-4e1c-ab79-8e9c050d5d51",
                "language": "sql"
            },
            "attachments": {}
        },
        {
            "cell_type": "code",
            "source": [],
            "metadata": {
                "azdata_cell_guid": "3c9d11df-7135-45ac-a323-18dcf42fafc0",
                "language": "sql"
            },
            "outputs": [],
            "execution_count": null
        },
        {
            "cell_type": "markdown",
            "source": [
                "**41.** **¿Cuál es el monto total de transacciones por cliente, ordenado de mayor a menor?**"
            ],
            "metadata": {
                "azdata_cell_guid": "869a1914-3b73-4ea0-902e-c13e05c21d23",
                "language": "sql"
            },
            "attachments": {}
        },
        {
            "cell_type": "code",
            "source": [],
            "metadata": {
                "azdata_cell_guid": "1d42008a-6eb7-4097-8caf-b839bff7012a",
                "language": "sql"
            },
            "outputs": [],
            "execution_count": null
        },
        {
            "cell_type": "markdown",
            "source": [
                "**42. ¿Cuáles son las cuentas que han tenido al menos una transacción en cada uno de los últimos 12 meses?**"
            ],
            "metadata": {
                "azdata_cell_guid": "d339f813-d44a-4658-bc7c-2a8b2150fde1",
                "language": "sql"
            },
            "attachments": {}
        },
        {
            "cell_type": "code",
            "source": [],
            "metadata": {
                "azdata_cell_guid": "690d10c7-7233-4bde-8b5f-a7ad96d5af28",
                "language": "sql"
            },
            "outputs": [],
            "execution_count": null
        },
        {
            "cell_type": "markdown",
            "source": [
                "**43. ¿Cuál es el monto promedio de transferencias por ciudad de los clientes?**"
            ],
            "metadata": {
                "azdata_cell_guid": "f78ac673-e7e0-479e-b064-198bc43ec8e9",
                "language": "sql"
            },
            "attachments": {}
        },
        {
            "cell_type": "code",
            "source": [],
            "metadata": {
                "azdata_cell_guid": "42bce1a5-0a6e-4701-890e-0272ca883fc7",
                "language": "sql"
            },
            "outputs": [],
            "execution_count": null
        },
        {
            "cell_type": "markdown",
            "source": [
                "**44. ¿Cuáles son los clientes que tienen cuentas con un saldo superior al saldo promedio de todas las cuentas del mismo tipo?**"
            ],
            "metadata": {
                "azdata_cell_guid": "02403e76-42cb-457c-974a-3a0ebfec61ab",
                "language": "sql"
            },
            "attachments": {}
        },
        {
            "cell_type": "code",
            "source": [],
            "metadata": {
                "azdata_cell_guid": "93111dde-6a64-4b31-99ed-005b817b308d",
                "language": "sql"
            },
            "outputs": [],
            "execution_count": null
        },
        {
            "cell_type": "markdown",
            "source": [
                "**45.** **¿Cuál es el monto total de transacciones por trimestre y año?**"
            ],
            "metadata": {
                "azdata_cell_guid": "e790fcc2-75aa-41ce-92a8-046732a7d789",
                "language": "sql"
            },
            "attachments": {}
        },
        {
            "cell_type": "code",
            "source": [],
            "metadata": {
                "azdata_cell_guid": "42573d1e-fdb5-4217-a357-1e401e0739eb",
                "language": "sql"
            },
            "outputs": [],
            "execution_count": null
        },
        {
            "cell_type": "markdown",
            "source": [
                "**46. ¿Cuáles son las cuentas que han tenido transacciones en todos los años desde su apertura?**"
            ],
            "metadata": {
                "azdata_cell_guid": "cac91ddb-5c31-435e-b544-7873a4284793",
                "language": "sql"
            },
            "attachments": {}
        },
        {
            "cell_type": "code",
            "source": [],
            "metadata": {
                "azdata_cell_guid": "c8a9ac4c-71cf-4b2a-a0cb-622d07e09db6",
                "language": "sql"
            },
            "outputs": [],
            "execution_count": null
        },
        {
            "cell_type": "markdown",
            "source": [
                "**47. ¿Cuál es el monto promedio de pagos por rango de saldo de las cuentas?**"
            ],
            "metadata": {
                "azdata_cell_guid": "2760236e-f35a-44e6-aa0a-78310d254a5b",
                "language": "sql"
            },
            "attachments": {}
        },
        {
            "cell_type": "code",
            "source": [],
            "metadata": {
                "azdata_cell_guid": "be08b67b-1fe2-49a0-b8bb-1b22398adc70",
                "language": "sql"
            },
            "outputs": [],
            "execution_count": null
        },
        {
            "cell_type": "markdown",
            "source": [
                "**48. ¿Cuáles son los clientes que tienen cuentas con un saldo superior al saldo máximo de todas las cuentas corrientes?**"
            ],
            "metadata": {
                "azdata_cell_guid": "be60c31f-b27e-4411-accf-fbb3a5bd706d",
                "language": "sql"
            },
            "attachments": {}
        },
        {
            "cell_type": "code",
            "source": [],
            "metadata": {
                "azdata_cell_guid": "2a466210-bf38-4292-88e9-57ebacc69e01",
                "language": "sql"
            },
            "outputs": [],
            "execution_count": null
        },
        {
            "cell_type": "markdown",
            "source": [
                "**49\\. ¿Cuál es el monto total de transacciones por semana y año?**"
            ],
            "metadata": {
                "azdata_cell_guid": "9d533856-53c5-4237-af76-663a746d6955",
                "language": "sql"
            },
            "attachments": {}
        },
        {
            "cell_type": "code",
            "source": [],
            "metadata": {
                "azdata_cell_guid": "870285e4-a7ac-49fa-843b-0353ad837506",
                "language": "sql"
            },
            "outputs": [],
            "execution_count": null
        },
        {
            "cell_type": "markdown",
            "source": [
                "**50. ¿Cuáles son las cuentas que han tenido transacciones en todas las semanas del año en curso?**"
            ],
            "metadata": {
                "azdata_cell_guid": "68fb7ade-cf4f-473a-aa39-4f93a252192c",
                "language": "sql"
            },
            "attachments": {}
        },
        {
            "cell_type": "code",
            "source": [],
            "metadata": {
                "azdata_cell_guid": "07525ba3-3027-42e4-a176-f01670f29045",
                "language": "sql"
            },
            "outputs": [],
            "execution_count": null
        },
        {
            "cell_type": "markdown",
            "source": [
                "**51. ¿Cuál es la cuenta con el monto máximo de depósito?**"
            ],
            "metadata": {
                "azdata_cell_guid": "11dddc55-816b-47bc-b821-c5b5fde4b39e",
                "language": "sql"
            },
            "attachments": {}
        },
        {
            "cell_type": "code",
            "source": [],
            "metadata": {
                "azdata_cell_guid": "1ecdb83e-ab00-4033-9a85-180ef2e42915",
                "language": "sql"
            },
            "outputs": [],
            "execution_count": null
        },
        {
            "cell_type": "markdown",
            "source": [
                "**52. ¿Cuál es el cliente con la edad máxima?**"
            ],
            "metadata": {
                "azdata_cell_guid": "b005749f-2665-4d3e-9615-59428ce3e52b",
                "language": "sql"
            },
            "attachments": {}
        },
        {
            "cell_type": "code",
            "source": [],
            "metadata": {
                "azdata_cell_guid": "394c0ac8-225c-4ab8-9221-29f2b804dad0",
                "language": "sql"
            },
            "outputs": [],
            "execution_count": null
        }
    ]
}