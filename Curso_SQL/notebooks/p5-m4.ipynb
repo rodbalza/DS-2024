{
    "metadata": {
        "kernelspec": {
            "name": "SQL",
            "display_name": "SQL",
            "language": "sql"
        },
        "language_info": {
            "name": "sql",
            "version": ""
        }
    },
    "nbformat_minor": 2,
    "nbformat": 4,
    "cells": [
        {
            "cell_type": "markdown",
            "source": [
                "# Practica 5 - Consultas en sobre una tabla"
            ],
            "metadata": {
                "azdata_cell_guid": "d015962e-9236-48c7-9e27-71b407d8be22"
            },
            "attachments": {}
        },
        {
            "cell_type": "markdown",
            "source": [
                "1. Conectarse a MySQL Workbench (suele aparecer como **localhost, \\<default\\> (root)**<span style=\"font-size:14px;\">)</span>\n",
                "2. Verificar desde Azure Data Studio (conectado a MySQL) que la base de datos: **empleadoss\\_departamentoss** aparece en <mark>Databases</mark>.\n",
                "3. Empezar a resolver las 'querys' (consultas) que se te plantean mas abajo.\n",
                "4. Las respuestas de cada consulta se encuentran al final de este Notebook.\n",
                "5. Una vez terminada la practica, guardar los cambios en tu repo local y en remoto. \n",
                "6. Realizar la entrega de tu notebook en un archivo comprimido en .zip"
            ],
            "metadata": {
                "azdata_cell_guid": "5d2b0223-2a5b-4202-8a90-e4589c19462c"
            },
            "attachments": {}
        },
        {
            "cell_type": "markdown",
            "source": [
                "## **Preguntas:**"
            ],
            "metadata": {
                "azdata_cell_guid": "4da0a939-e568-42ae-824e-db6c183338b1"
            },
            "attachments": {}
        },
        {
            "cell_type": "markdown",
            "source": [
                "### \n",
                "\n",
                "1. <span style=\"color: rgb(102, 102, 102); font-family: Poppins; font-size: 15px; background-color: rgb(255, 255, 255);\">Obtener los datos completos de los empleados.</span>"
            ],
            "metadata": {
                "azdata_cell_guid": "aa984013-bea9-47bc-bc3e-f81c332e182c"
            },
            "attachments": {}
        },
        {
            "cell_type": "code",
            "source": [
                ""
            ],
            "metadata": {
                "azdata_cell_guid": "c408c09d-d498-421f-9cae-03cfc9d09a06",
                "language": "sql"
            },
            "outputs": [],
            "execution_count": null
        },
        {
            "cell_type": "markdown",
            "source": [
                "### 2\\. Obtener los datos completos de los departamentos."
            ],
            "metadata": {
                "azdata_cell_guid": "abf9c7e2-52bf-424d-a89e-6328102ad7a0"
            },
            "attachments": {}
        },
        {
            "cell_type": "code",
            "source": [
                ""
            ],
            "metadata": {
                "azdata_cell_guid": "25a78000-9a23-45dc-a4e6-bf901d3033c4",
                "language": "sql"
            },
            "outputs": [],
            "execution_count": null
        },
        {
            "cell_type": "markdown",
            "source": [
                "3. <span style=\"color: rgb(102, 102, 102); font-family: Poppins; font-size: 15px; background-color: rgb(255, 255, 255);\">Obtener los datos de los empleados con cargo ‘Secretaria’.</span>"
            ],
            "metadata": {
                "language": "sql",
                "azdata_cell_guid": "d4c45a72-c626-4a98-a5b1-c7dc94193cbc"
            },
            "attachments": {}
        },
        {
            "cell_type": "code",
            "source": [
                ""
            ],
            "metadata": {
                "language": "sql",
                "azdata_cell_guid": "102420fb-b617-4793-b27f-27439f0826af"
            },
            "outputs": [],
            "execution_count": null
        },
        {
            "cell_type": "markdown",
            "source": [
                "4. <span style=\"color: rgb(102, 102, 102); font-family: Poppins; font-size: 15px; background-color: rgb(255, 255, 255);\">Obtener el nombre y salario de los empleados.</span>"
            ],
            "metadata": {
                "language": "sql",
                "azdata_cell_guid": "707ad5e9-b047-4973-9db1-d7f8e2c80b5d"
            },
            "attachments": {}
        },
        {
            "cell_type": "code",
            "source": [
                ""
            ],
            "metadata": {
                "language": "sql",
                "azdata_cell_guid": "2d3330e4-e4a5-4cf9-b929-2d33b3540fd0"
            },
            "outputs": [],
            "execution_count": null
        },
        {
            "cell_type": "markdown",
            "source": [
                "5. <span style=\"color: rgb(102, 102, 102); font-family: Poppins; font-size: 15px; background-color: rgb(255, 255, 255);\">Obtener los datos de los empleados vendedores, ordenado por nombre.</span>"
            ],
            "metadata": {
                "language": "sql",
                "azdata_cell_guid": "5f863e0d-42f0-40d2-bd9f-3f544cf6bc3e"
            },
            "attachments": {}
        },
        {
            "cell_type": "code",
            "source": [
                ""
            ],
            "metadata": {
                "language": "sql",
                "azdata_cell_guid": "a437028f-e539-4fdc-ab8c-a9181e3fd81f"
            },
            "outputs": [],
            "execution_count": null
        },
        {
            "cell_type": "markdown",
            "source": [
                "6. <span style=\"color: rgb(102, 102, 102); font-family: Poppins; font-size: 15px; background-color: rgb(255, 255, 255);\">Listar el nombre de los departamentos.</span>"
            ],
            "metadata": {
                "language": "sql",
                "azdata_cell_guid": "9881e817-6a8d-4190-a6a9-a5eaeb318174"
            },
            "attachments": {}
        },
        {
            "cell_type": "code",
            "source": [
                ""
            ],
            "metadata": {
                "language": "sql",
                "azdata_cell_guid": "128baf46-2b53-4308-91b4-dd51f762d575"
            },
            "outputs": [],
            "execution_count": null
        },
        {
            "cell_type": "markdown",
            "source": [
                "7. <span style=\"color: rgb(102, 102, 102); font-family: Poppins; font-size: 15px; background-color: rgb(255, 255, 255);\">Obtener el nombre y cargo de todos los empleados, ordenado por salario.</span>"
            ],
            "metadata": {
                "language": "sql",
                "azdata_cell_guid": "73cf48f0-f411-433d-a1f9-3a56b425c1fa"
            },
            "attachments": {}
        },
        {
            "cell_type": "code",
            "source": [
                ""
            ],
            "metadata": {
                "language": "sql",
                "azdata_cell_guid": "c53e20bd-02f4-4e26-b6ce-4a1d02ea7334"
            },
            "outputs": [],
            "execution_count": null
        },
        {
            "cell_type": "markdown",
            "source": [
                "8. <span style=\"color: rgb(102, 102, 102); font-family: Poppins; font-size: 15px; background-color: rgb(255, 255, 255);\">Listar los salarios y comisiones de los empleados del departamento 2000, ordenado por comisión.</span>"
            ],
            "metadata": {
                "language": "sql",
                "azdata_cell_guid": "c0365b63-4550-40eb-9f62-0329523ae4d2"
            },
            "attachments": {}
        },
        {
            "cell_type": "code",
            "source": [
                ""
            ],
            "metadata": {
                "language": "sql",
                "azdata_cell_guid": "3cad710a-d193-4596-bf5f-09d5317e93fe"
            },
            "outputs": [],
            "execution_count": null
        },
        {
            "cell_type": "markdown",
            "source": [
                "9. <span style=\"color: rgb(102, 102, 102); font-family: Poppins; font-size: 15px; background-color: rgb(255, 255, 255);\">Listar todas las comisiones.</span>"
            ],
            "metadata": {
                "language": "sql",
                "azdata_cell_guid": "b9fbeee4-7a17-4241-ab10-dca4c95d7098"
            },
            "attachments": {}
        },
        {
            "cell_type": "code",
            "source": [
                ""
            ],
            "metadata": {
                "language": "sql",
                "azdata_cell_guid": "468a3c0c-5312-49a9-aca6-f09780c114df"
            },
            "outputs": [],
            "execution_count": null
        },
        {
            "cell_type": "markdown",
            "source": [
                "10. <span style=\"color: rgb(102, 102, 102); font-family: Poppins; font-size: 15px; background-color: rgb(255, 255, 255);\">Obtener el valor total a pagar que resulta de sumar a los empleados del departamento 3000 una bonificación de 500.000, en orden alfabético del empleado</span>"
            ],
            "metadata": {
                "language": "sql",
                "azdata_cell_guid": "6deeeb74-f453-49fa-9af3-546ebf4ac062"
            },
            "attachments": {}
        },
        {
            "cell_type": "code",
            "source": [
                ""
            ],
            "metadata": {
                "language": "sql",
                "azdata_cell_guid": "df8d4b62-4a3e-4887-bc89-f3e0f10c7d96"
            },
            "outputs": [],
            "execution_count": null
        },
        {
            "cell_type": "markdown",
            "source": [
                "11. <span style=\"color: rgb(102, 102, 102); font-family: Poppins; font-size: 15px; background-color: rgb(255, 255, 255);\">Obtener la lista de los empleados que ganan una comisión superior a su sueldo.</span>"
            ],
            "metadata": {
                "language": "sql",
                "azdata_cell_guid": "998a16a6-45fa-47eb-98ae-4d41b005ce6a"
            },
            "attachments": {}
        },
        {
            "cell_type": "code",
            "source": [
                ""
            ],
            "metadata": {
                "language": "sql",
                "azdata_cell_guid": "c159a6aa-56fc-4d9e-8f7b-a071ca435ddf"
            },
            "outputs": [],
            "execution_count": null
        },
        {
            "cell_type": "markdown",
            "source": [
                "12.  <span style=\"color: rgb(102, 102, 102); font-family: Poppins; font-size: 15px; background-color: rgb(255, 255, 255);\">&nbsp;Listar los empleados cuya comisión es menor o igual que el 30% de su sueldo.</span>"
            ],
            "metadata": {
                "language": "sql",
                "azdata_cell_guid": "3d14af06-4aee-4851-bc32-a7aa75594afc"
            },
            "attachments": {}
        },
        {
            "cell_type": "code",
            "source": [
                ""
            ],
            "metadata": {
                "language": "sql",
                "azdata_cell_guid": "9c4460d8-ba5a-40cf-b65e-fc0b3f73c410"
            },
            "outputs": [],
            "execution_count": null
        },
        {
            "cell_type": "markdown",
            "source": [
                "13. <span style=\"color: rgb(102, 102, 102); font-family: Poppins; font-size: 15px; background-color: rgb(255, 255, 255);\">Elabore un listado donde para cada fila, figure ‘Nombre’ y ‘Cargo’ antes del valor respectivo para cada empleado.</span>"
            ],
            "metadata": {
                "language": "sql",
                "azdata_cell_guid": "432e0691-03f8-4397-9060-8ce9d84d7283"
            },
            "attachments": {}
        },
        {
            "cell_type": "code",
            "source": [
                ""
            ],
            "metadata": {
                "language": "sql",
                "azdata_cell_guid": "e1739c5d-2d02-4dc8-8226-c3c664352b75"
            },
            "outputs": [],
            "execution_count": null
        },
        {
            "cell_type": "markdown",
            "source": [
                "14. <span style=\"color: rgb(102, 102, 102); font-family: Poppins; font-size: 15px; background-color: rgb(255, 255, 255);\">Hallar el salario y la comisión de aquellos empleados cuyo número de documento de identidad es superior al ‘19.709.802’.</span>"
            ],
            "metadata": {
                "language": "sql",
                "azdata_cell_guid": "f1a30612-8e12-4787-a12e-172eb3981200"
            },
            "attachments": {}
        },
        {
            "cell_type": "code",
            "source": [
                ""
            ],
            "metadata": {
                "language": "sql",
                "azdata_cell_guid": "5fbb1c45-9e0f-4793-8bf7-2de34c6dcbf2"
            },
            "outputs": [],
            "execution_count": null
        },
        {
            "cell_type": "markdown",
            "source": [
                "15. <span style=\"color: rgb(102, 102, 102); font-family: Poppins; font-size: 15px; background-color: rgb(255, 255, 255);\">Muestra los empleados cuyo nombre empiece entre las letras J y Z (rango).</span>  \n",
                "<span style=\"color: rgb(102, 102, 102); font-family: Poppins; font-size: 15px; background-color: rgb(255, 255, 255);\">Liste estos empleados y su cargo por orden alfabético.</span>"
            ],
            "metadata": {
                "language": "sql",
                "azdata_cell_guid": "92201b5b-db29-4491-b991-35d5abf578f8"
            },
            "attachments": {}
        },
        {
            "cell_type": "code",
            "source": [
                ""
            ],
            "metadata": {
                "language": "sql",
                "azdata_cell_guid": "52c57bf1-12df-45f9-ab38-b2b8f5415df6"
            },
            "outputs": [],
            "execution_count": null
        },
        {
            "cell_type": "markdown",
            "source": [
                "<span style=\"color: rgb(102, 102, 102); font-family: Poppins; font-size: 15px; background-color: rgb(255, 255, 255);\">16. Listar el salario, la comisión, el salario total (salario + comisión), documento de identidad del empleado y nombre, de aquellos empleados que tienen comisión superior a 1.000.000, ordenar el informe por el número del documento de identidad</span>"
            ],
            "metadata": {
                "language": "sql",
                "azdata_cell_guid": "9dcbd6e9-d5b2-4ba5-9fd1-89b7324fd795"
            },
            "attachments": {}
        },
        {
            "cell_type": "code",
            "source": [
                ""
            ],
            "metadata": {
                "language": "sql",
                "azdata_cell_guid": "3d24b08b-f3e3-4cdc-9bf1-15202dff79a2"
            },
            "outputs": [],
            "execution_count": null
        },
        {
            "cell_type": "markdown",
            "source": [
                "<span style=\"color: rgb(102, 102, 102); font-family: Poppins; font-size: 15px; background-color: rgb(255, 255, 255);\">17. Obtener un listado similar al anterior, pero de aquellos empleados que NO tienen comisión</span>"
            ],
            "metadata": {
                "language": "sql",
                "azdata_cell_guid": "f2a958b2-7bb9-4a2f-a603-50d391b11c8f"
            },
            "attachments": {}
        },
        {
            "cell_type": "code",
            "source": [
                ""
            ],
            "metadata": {
                "language": "sql",
                "azdata_cell_guid": "0ddd1e57-2c3d-4ef3-b2ed-33122c07de8e"
            },
            "outputs": [],
            "execution_count": null
        },
        {
            "cell_type": "markdown",
            "source": [
                "18. <span style=\"color: rgb(102, 102, 102); font-family: Poppins; font-size: 15px; background-color: rgb(255, 255, 255);\">Hallar los empleados cuyo nombre no contiene la cadena «MA»</span>"
            ],
            "metadata": {
                "language": "sql",
                "azdata_cell_guid": "f9b9259b-8336-4147-9301-bb44be9819d9"
            },
            "attachments": {}
        },
        {
            "cell_type": "code",
            "source": [
                ""
            ],
            "metadata": {
                "language": "sql",
                "azdata_cell_guid": "92cbd71b-97ef-43e7-80ec-9256d6ab85c2"
            },
            "outputs": [],
            "execution_count": null
        },
        {
            "cell_type": "markdown",
            "source": [
                "19. <span style=\"color: rgb(102, 102, 102); font-family: Poppins; font-size: 15px; background-color: rgb(255, 255, 255);\">Obtener los nombres de los departamentos que no sean “Ventas” ni “Investigación” NI</span>  \n",
                "<span style=\"color: rgb(102, 102, 102); font-family: Poppins; font-size: 15px; background-color: rgb(255, 255, 255);\">‘MANTENIMIENTO’.</span>"
            ],
            "metadata": {
                "language": "sql",
                "azdata_cell_guid": "d3b142ff-45b4-4e67-a143-66925325e21a"
            },
            "attachments": {}
        },
        {
            "cell_type": "code",
            "source": [
                ""
            ],
            "metadata": {
                "language": "sql",
                "azdata_cell_guid": "30bc8db0-b322-4c5a-9132-fbdfb2c7f964"
            },
            "outputs": [],
            "execution_count": null
        },
        {
            "cell_type": "markdown",
            "source": [
                "20. <span style=\"color: rgb(102, 102, 102); font-family: Poppins; font-size: 15px; background-color: rgb(255, 255, 255);\">Obtener el nombre y el departamento de los empleados con cargo ‘Secretaria’ o ‘Vendedor’, que no trabajan en el departamento de “PRODUCCION”, cuyo salario es superior a $1.000.000, ordenados por fecha de incorporación.</span>"
            ],
            "metadata": {
                "language": "sql",
                "azdata_cell_guid": "01e2128b-b677-4693-aad9-db8581aff2d7"
            },
            "attachments": {}
        },
        {
            "cell_type": "code",
            "source": [
                ""
            ],
            "metadata": {
                "language": "sql",
                "azdata_cell_guid": "14d7e73e-cd71-45c2-8508-f431dcb7be82"
            },
            "outputs": [],
            "execution_count": null
        },
        {
            "cell_type": "markdown",
            "source": [
                "<span style=\"color: rgb(102, 102, 102); font-family: Poppins; font-size: 15px; background-color: rgb(255, 255, 255);\">21. Obtener información de los empleados cuyo nombre tiene exactamente 11 caracteres</span>"
            ],
            "metadata": {
                "language": "sql",
                "azdata_cell_guid": "230d3dea-dbec-4d5b-8ab8-61b7ee045bee"
            },
            "attachments": {}
        },
        {
            "cell_type": "code",
            "source": [
                ""
            ],
            "metadata": {
                "language": "sql",
                "azdata_cell_guid": "e05ae140-a453-47a2-b543-5b95930c0a4b"
            },
            "outputs": [],
            "execution_count": null
        },
        {
            "cell_type": "markdown",
            "source": [
                "22. <span style=\"color: rgb(102, 102, 102); font-family: Poppins; font-size: 15px; background-color: rgb(255, 255, 255);\">Obtener información de los empleados cuyo nombre tiene al menos 11 caracteres</span>"
            ],
            "metadata": {
                "language": "sql",
                "azdata_cell_guid": "44d12830-7728-45aa-b88e-e325b8b0c290"
            },
            "attachments": {}
        },
        {
            "cell_type": "code",
            "source": [
                ""
            ],
            "metadata": {
                "language": "sql",
                "azdata_cell_guid": "cf69ef24-c50b-4a2e-ad6b-09dc727204cf"
            },
            "outputs": [],
            "execution_count": null
        },
        {
            "cell_type": "markdown",
            "source": [
                "23. <span style=\"color: rgb(102, 102, 102); font-family: Poppins; font-size: 15px; background-color: rgb(255, 255, 255);\">Listar los datos de los empleados cuyo nombre inicia por la letra ‘M’, su salario es mayor a $800.000 o reciben comisión y trabajan para el departamento de ‘VENTAS’</span>"
            ],
            "metadata": {
                "language": "sql",
                "azdata_cell_guid": "f616e573-d59c-4316-b5e5-bb354f40105e"
            },
            "attachments": {}
        },
        {
            "cell_type": "code",
            "source": [
                ""
            ],
            "metadata": {
                "language": "sql",
                "azdata_cell_guid": "f5a99f2b-baa2-4321-b3ec-f749a6d1d36d"
            },
            "outputs": [],
            "execution_count": null
        },
        {
            "cell_type": "markdown",
            "source": [
                "24. <span style=\"color: rgb(102, 102, 102); font-family: Poppins; font-size: 15px; background-color: rgb(255, 255, 255);\">Obtener los nombres, salarios y comisiones de los empleados que reciben un salario situado entre la mitad de la comisión la propia comisión.</span>"
            ],
            "metadata": {
                "language": "sql",
                "azdata_cell_guid": "8c41a9d8-8697-4767-9d1f-bce7d0c06d0f"
            },
            "attachments": {}
        },
        {
            "cell_type": "code",
            "source": [
                ""
            ],
            "metadata": {
                "language": "sql",
                "azdata_cell_guid": "54965c9c-1fc3-4747-a4b7-9a76dda98d97"
            },
            "outputs": [],
            "execution_count": null
        },
        {
            "cell_type": "markdown",
            "source": [
                "25. <span style=\"color: rgb(102, 102, 102); font-family: Poppins; font-size: 15px; background-color: rgb(255, 255, 255);\">Mostrar el salario más alto de la empresa.</span>"
            ],
            "metadata": {
                "language": "sql",
                "azdata_cell_guid": "58ed971f-f3d2-447e-a42c-98298384ad54"
            },
            "attachments": {}
        },
        {
            "cell_type": "code",
            "source": [
                ""
            ],
            "metadata": {
                "language": "sql",
                "azdata_cell_guid": "b6098d2f-8f76-4043-a6eb-f3a8ca3bce6b"
            },
            "outputs": [],
            "execution_count": null
        },
        {
            "cell_type": "markdown",
            "source": [
                "26. <span style=\"color: rgb(102, 102, 102); font-family: Poppins; font-size: 15px; background-color: rgb(255, 255, 255);\">Mostrar cada una de las comisiones y el número de empleados que las reciben. Solo si tiene comisión.</span>"
            ],
            "metadata": {
                "language": "sql",
                "azdata_cell_guid": "b2d0f268-27c5-49dc-ae37-940eaddd817e"
            },
            "attachments": {}
        },
        {
            "cell_type": "code",
            "source": [
                ""
            ],
            "metadata": {
                "language": "sql",
                "azdata_cell_guid": "fde19d8c-1f94-4b1a-813f-700f9fffe9d5"
            },
            "outputs": [],
            "execution_count": null
        },
        {
            "cell_type": "markdown",
            "source": [
                "27. <span style=\"color: rgb(102, 102, 102); font-family: Poppins; font-size: 15px; background-color: rgb(255, 255, 255);\">Mostrar el nombre del último empleado de la lista por orden alfabético.</span>"
            ],
            "metadata": {
                "language": "sql",
                "azdata_cell_guid": "53356ef7-70f7-4390-b383-7302b27c20cf"
            },
            "attachments": {}
        },
        {
            "cell_type": "code",
            "source": [
                ""
            ],
            "metadata": {
                "language": "sql",
                "azdata_cell_guid": "845a2f5a-f5c4-445f-8a22-34cf6a73fe56"
            },
            "outputs": [],
            "execution_count": null
        },
        {
            "cell_type": "markdown",
            "source": [
                "28. <span style=\"color: rgb(102, 102, 102); font-family: Poppins; font-size: 15px; background-color: rgb(255, 255, 255);\">Hallar el salario más alto, el más bajo y la diferencia entre ellos.</span>"
            ],
            "metadata": {
                "language": "sql",
                "azdata_cell_guid": "0841e441-565a-41c1-90d2-dee4a9ebb5da"
            },
            "attachments": {}
        },
        {
            "cell_type": "code",
            "source": [
                ""
            ],
            "metadata": {
                "language": "sql",
                "azdata_cell_guid": "ad96c6ba-5db0-43ee-8e89-669dbf7ca237"
            },
            "outputs": [],
            "execution_count": null
        },
        {
            "cell_type": "markdown",
            "source": [
                "<span style=\"color: rgb(102, 102, 102); font-family: Poppins; font-size: 15px; background-color: rgb(255, 255, 255);\">29. Mostrar el número de empleados de sexo femenino y de sexo masculino, por departamento.</span>"
            ],
            "metadata": {
                "language": "sql",
                "azdata_cell_guid": "8dd99be7-fed3-4c41-9092-5b548a73adf4"
            },
            "attachments": {}
        },
        {
            "cell_type": "code",
            "source": [
                ""
            ],
            "metadata": {
                "language": "sql",
                "azdata_cell_guid": "8d3a99d4-ae65-4774-b2e2-05d690cf8917"
            },
            "outputs": [],
            "execution_count": null
        },
        {
            "cell_type": "markdown",
            "source": [
                "30. <span style=\"color: rgb(102, 102, 102); font-family: Poppins; font-size: 15px; background-color: rgb(255, 255, 255);\">Hallar el salario promedio por departamento.</span>"
            ],
            "metadata": {
                "language": "sql",
                "azdata_cell_guid": "38a73d7c-3aea-472c-a2ee-da51d45f5f4a"
            },
            "attachments": {}
        },
        {
            "cell_type": "code",
            "source": [
                ""
            ],
            "metadata": {
                "language": "sql",
                "azdata_cell_guid": "36788e88-d8ad-4e0d-a4b5-ae267d4b85c9"
            },
            "outputs": [],
            "execution_count": null
        },
        {
            "cell_type": "markdown",
            "source": [
                "31. <span style=\"color: rgb(102, 102, 102); font-family: Poppins; font-size: 15px; background-color: rgb(255, 255, 255);\">Mostrar la lista de los empleados cuyo salario es mayor o igual que el promedio de la empresa. Ordenarlo por departamento.</span>"
            ],
            "metadata": {
                "language": "sql",
                "azdata_cell_guid": "6438cadd-0b2e-4516-952c-d462613c441c"
            },
            "attachments": {}
        },
        {
            "cell_type": "code",
            "source": [
                ""
            ],
            "metadata": {
                "language": "sql",
                "azdata_cell_guid": "0507a712-c93f-4630-b908-e683acab280b"
            },
            "outputs": [],
            "execution_count": null
        },
        {
            "cell_type": "markdown",
            "source": [
                "32. <span style=\"color: rgb(102, 102, 102); font-family: Poppins; font-size: 15px; background-color: rgb(255, 255, 255);\">Hallar los departamentos que tienen más de tres empleados. Mostrar el número de empleados de esos departamentos.</span>"
            ],
            "metadata": {
                "language": "sql",
                "azdata_cell_guid": "53e1a930-a6d9-4f18-b5eb-4c8f8b4521d8"
            },
            "attachments": {}
        },
        {
            "cell_type": "code",
            "source": [
                ""
            ],
            "metadata": {
                "language": "sql",
                "azdata_cell_guid": "bbc4cd63-1a1c-4178-9172-1ecd09f8f903"
            },
            "outputs": [],
            "execution_count": null
        },
        {
            "cell_type": "markdown",
            "source": [
                "33. <span style=\"color: rgb(102, 102, 102); font-family: Poppins; font-size: 15px; background-color: rgb(255, 255, 255);\">Mostrar el código y nombre de cada jefe, junto al número de empleados que dirige. Solo los que tengan mas de dos empleados (2 incluido).</span>"
            ],
            "metadata": {
                "language": "sql",
                "azdata_cell_guid": "f0f4f87c-30a2-4980-ab4d-e5b78b3ef0af"
            },
            "attachments": {}
        },
        {
            "cell_type": "code",
            "source": [
                ""
            ],
            "metadata": {
                "language": "sql",
                "azdata_cell_guid": "206fe4f9-3510-4527-919b-840d0cd88dbb"
            },
            "outputs": [],
            "execution_count": null
        },
        {
            "cell_type": "markdown",
            "source": [
                "34.  <span style=\"color: rgb(102, 102, 102); font-family: Poppins; font-size: 15px; background-color: rgb(255, 255, 255);\">&nbsp;Hallar los departamentos que no tienen empleados</span>"
            ],
            "metadata": {
                "language": "sql",
                "azdata_cell_guid": "91714e2d-a6b2-4116-98da-b4be66217eb0"
            },
            "attachments": {}
        },
        {
            "cell_type": "code",
            "source": [
                ""
            ],
            "metadata": {
                "language": "sql",
                "azdata_cell_guid": "78fdf24b-4370-456e-a6aa-f430fcfc3157"
            },
            "outputs": [],
            "execution_count": null
        },
        {
            "cell_type": "markdown",
            "source": [
                "35.  <span style=\"color: rgb(102, 102, 102); font-family: Poppins; font-size: 15px; background-color: rgb(255, 255, 255);\">&nbsp;Mostrar el nombre del departamento cuya suma de salarios sea la más alta, indicando el valor de la suma.</span>"
            ],
            "metadata": {
                "language": "sql",
                "azdata_cell_guid": "76208a8a-3351-4b7b-8871-3dcf6de9c0c9"
            },
            "attachments": {}
        },
        {
            "cell_type": "code",
            "source": [
                ""
            ],
            "metadata": {
                "language": "sql",
                "azdata_cell_guid": "00f91bd3-3ddc-4817-b87d-7c282ac10759"
            },
            "outputs": [],
            "execution_count": null
        },
        {
            "cell_type": "markdown",
            "source": [
                "36. <span style=\"color: rgb(102, 102, 102); font-family: Poppins; font-size: 15px; background-color: rgb(255, 255, 255);\">Mostrar el nombre del departamento cuya suma de salarios sea la más alta, indicando el valor de la suma.</span>"
            ],
            "metadata": {
                "language": "sql",
                "azdata_cell_guid": "144d57f0-8cba-4058-9d44-554a8a50ac7b"
            },
            "attachments": {}
        },
        {
            "cell_type": "code",
            "source": [
                ""
            ],
            "metadata": {
                "language": "sql",
                "azdata_cell_guid": "46e2c704-00ca-4ce1-a22f-ee655db8b77c"
            },
            "outputs": [],
            "execution_count": null
        },
        {
            "cell_type": "markdown",
            "source": [
                "### _Las soluciones las puedes encontrar [aqui](https:\\www.discoduroderoer.es\\ejercicios-propuestos-y-resueltos-de-consultas-mysql-empleados-y-departamentos\\)_"
            ],
            "metadata": {
                "language": "sql",
                "azdata_cell_guid": "8f8670cd-26d4-4de2-b6d3-809a0d99ebfc"
            },
            "attachments": {}
        }
    ]
}