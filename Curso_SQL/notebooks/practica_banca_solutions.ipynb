{
    "metadata": {
        "kernelspec": {
            "name": "SQL",
            "display_name": "SQL",
            "language": "sql"
        },
        "language_info": {
            "name": "sql",
            "version": ""
        }
    },
    "nbformat_minor": 2,
    "nbformat": 4,
    "cells": [
        {
            "cell_type": "markdown",
            "source": [
                "# Práctica Final Módulo 4 - SQL"
            ],
            "metadata": {
                "azdata_cell_guid": "c6c8bfc7-022e-4a08-9e45-2b86b3fb00c8"
            },
            "attachments": {}
        },
        {
            "cell_type": "markdown",
            "source": [
                "### Responder, utilizando consultas sql, las preguntas que se te hacen a continuación sobre datos de clientes y transacciones del sector bancario (datos sintéticos). EL primer paso es generar el 'schema' , las tablas y la inserción de los datos sinténticos. En la siguiente celda encontrarás los pasos para crear la base de datos. El código sql está comentado con **/\\*** _código sql_  **\\*/** , de modo que , <u>_antes de ejecutar las celdas_</u>, debes **\"descomentar\"** (borrar **'/\\*'** y **'\\*/'**) las consultas. Es posible que algunas consultas te arrojen tablas vacias."
            ],
            "metadata": {
                "azdata_cell_guid": "1e9d08c2-c9c2-44f8-a3e8-eed5b31a1738"
            },
            "attachments": {}
        },
        {
            "cell_type": "code",
            "source": [
                "/* \r\n",
                "CREATE SCHEMA bank; \r\n",
                "*/"
            ],
            "metadata": {
                "azdata_cell_guid": "1bd39abc-5ca9-4bfb-90aa-b3b936295b87",
                "language": "sql"
            },
            "outputs": [],
            "execution_count": null
        },
        {
            "cell_type": "code",
            "source": [
                "/* \r\n",
                "CREATE TABLE bank.Clientes (\r\n",
                "    ClienteID INT PRIMARY KEY,\r\n",
                "    Nombre VARCHAR(50),\r\n",
                "    Apellido VARCHAR(50),\r\n",
                "    FechaNacimiento DATE,\r\n",
                "    Genero CHAR(1),\r\n",
                "    Direccion VARCHAR(100),\r\n",
                "    Ciudad VARCHAR(50),\r\n",
                "    CodigoPostal VARCHAR(10)\r\n",
                ");\r\n",
                "*/"
            ],
            "metadata": {
                "language": "sql",
                "azdata_cell_guid": "08cc0625-9806-4e42-85ad-3c539ffab31c"
            },
            "outputs": [
                {
                    "output_type": "display_data",
                    "data": {
                        "text/html": "Total execution time: 00:00:00"
                    },
                    "metadata": {}
                }
            ],
            "execution_count": 1
        },
        {
            "cell_type": "code",
            "source": [
                "/* \r\n",
                "CREATE TABLE bank.Cuentas (\r\n",
                "    CuentaID INT PRIMARY KEY,\r\n",
                "    ClienteID INT,\r\n",
                "    TipoCuenta VARCHAR(20),\r\n",
                "    FechaApertura DATE,\r\n",
                "    Saldo DECIMAL(12,2),\r\n",
                "    FOREIGN KEY (ClienteID) REFERENCES bank.Clientes(ClienteID)\r\n",
                ");\r\n",
                "*/"
            ],
            "metadata": {
                "language": "sql",
                "azdata_cell_guid": "41274da0-23f4-422b-901f-e2cd757e915b"
            },
            "outputs": [],
            "execution_count": null
        },
        {
            "cell_type": "code",
            "source": [
                "/*\r\n",
                "CREATE TABLE bank.Transacciones (\r\n",
                "    TransaccionID INT PRIMARY KEY,\r\n",
                "    CuentaID INT,\r\n",
                "    Fecha DATE,\r\n",
                "    Tipo VARCHAR(20),\r\n",
                "    Monto DECIMAL(12,2),\r\n",
                "    Descripcion VARCHAR(100),\r\n",
                "    FOREIGN KEY (CuentaID) REFERENCES bank.Cuentas(CuentaID)\r\n",
                ");\r\n",
                "*/"
            ],
            "metadata": {
                "language": "sql",
                "azdata_cell_guid": "c5c49ae2-f245-44c0-862e-af966a1341b1"
            },
            "outputs": [],
            "execution_count": null
        },
        {
            "cell_type": "code",
            "source": [
                "/*\r\n",
                "INSERT INTO bank.Clientes (ClienteID, Nombre, Apellido, FechaNacimiento, Genero, Direccion, Ciudad, CodigoPostal)\r\n",
                "VALUES\r\n",
                "    (1, 'Juan', 'Pérez', '1985-03-15', 'M', 'Calle Falsa 123', 'Madrid', '28001'),\r\n",
                "    (2, 'María', 'García', '1992-11-22', 'F', 'Avenida Siempreviva 456', 'Barcelona', '08001'),\r\n",
                "    (3, 'Pedro', 'Rodríguez', '1978-07-02', 'M', 'Paseo del Parque 789', 'Sevilla', '41001'),\r\n",
                "    (4, 'Ana', 'Martínez', '1990-04-18', 'F', 'Calle Mayor 321', 'Valencia', '46001'),\r\n",
                "    (5, 'Carlos', 'Sánchez', '1982-09-30', 'M', 'Plaza del Ayuntamiento 159', 'Bilbao', '48001'),\r\n",
                "    (6, 'Laura', 'Fernández', '1995-12-08', 'F', 'Rambla de las Flores 753', 'Málaga', '29001'),\r\n",
                "    (7, 'Javier', 'Gómez', '1988-06-20', 'M', 'Paseo Marítimo 246', 'Alicante', '03001'),\r\n",
                "    (8, 'Sofía', 'Torres', '1975-02-10', 'F', 'Avenida del Mar 852', 'Palma de Mallorca', '07001'),\r\n",
                "    (9, 'Sergio', 'Navarro', '1983-11-05', 'M', 'Calle Real 753', 'Zaragoza', '50001'),\r\n",
                "    (10, 'Isabel', 'Ramírez', '1991-08-28', 'F', 'Paseo de Gracia 159', 'Barcelona', '08007'),\r\n",
                "    (11, 'Andrés', 'Herrera', '1979-05-12', 'M', 'Calle del Prado 456', 'Madrid', '28002'),\r\n",
                "    (12, 'Marta', 'Jiménez', '1987-09-28', 'F', 'Avenida del Puerto 789', 'Valencia', '46002'),\r\n",
                "    (13, 'Luis', 'Moreno', '1981-03-05', 'M', 'Plaza Mayor 123', 'Sevilla', '41002'),\r\n",
                "    (14, 'Carla', 'Ruiz', '1993-11-18', 'F', 'Paseo de la Castellana 456', 'Madrid', '28003'),\r\n",
                "    (15, 'Diego', 'Álvarez', '1977-07-22', 'M', 'Calle Larga 789', 'Málaga', '29002'),\r\n",
                "    (16, 'Alicia', 'Gutiérrez', '1989-02-03', 'F', 'Rambla de Santa Mónica 123', 'Barcelona', '08004'),\r\n",
                "    (17, 'Raúl', 'Vázquez', '1984-10-15', 'M', 'Avenida del Mar 456', 'Alicante', '03002'),\r\n",
                "    (18, 'Lucía', 'Romero', '1991-06-27', 'F', 'Calle San Fermín 789', 'Pamplona', '31001'),\r\n",
                "    (19, 'Óscar', 'Ramos', '1986-04-09', 'M', 'Plaza del Pilar 123', 'Zaragoza', '50002'),\r\n",
                "    (20, 'Elena', 'Santos', '1994-12-31', 'F', 'Paseo de la Ribera 456', 'Bilbao', '48002'),\r\n",
                "    (21, 'Alejandro', 'Flores', '1980-08-17', 'M', 'Calle de la Montera 789', 'Madrid', '28004'),\r\n",
                "    (22, 'Cristina', 'Molina', '1988-03-10', 'F', 'Avenida de la Palmera 123', 'Sevilla', '41003'),\r\n",
                "    (23, 'Mario', 'Castillo', '1982-11-25', 'M', 'Paseo Marítimo 456', 'Barcelona', '08005'),\r\n",
                "    (24, 'Daniela', 'Cabrera', '1996-07-08', 'F', 'Calle de la Reina 789', 'Valencia', '46003'),\r\n",
                "    (25, 'Pablo', 'Ortega', '1979-02-20', 'M', 'Plaza de las Flores 123', 'Zaragoza', '50003'),\r\n",
                "    (26, 'Silvia', 'Vargas', '1985-09-03', 'F', 'Avenida de la Constitución 456', 'Sevilla', '41004'),\r\n",
                "    (27, 'Roberto', 'Sáez', '1991-05-16', 'M', 'Calle Mayor 789', 'Madrid', '28005'),\r\n",
                "    (28, 'Carolina', 'Pardo', '1993-01-29', 'F', 'Rambla de Cataluña 123', 'Barcelona', '08006'),\r\n",
                "    (29, 'David', 'Rojas', '1987-10-11', 'M', 'Paseo Marítimo 456', 'Alicante', '03003'),\r\n",
                "    (30, 'Claudia', 'Suárez', '1995-06-24', 'F', 'Plaza del Ayuntamiento 789', 'Valencia', '46004'),\r\n",
                "    (31, 'Francisco', 'Ríos', '1983-12-07', 'M', 'Calle de la Paz 123', 'Málaga', '29003'),\r\n",
                "    (32, 'Adriana', 'Guerrero', '1990-04-30', 'F', 'Avenida del Paralelo 456', 'Barcelona', '08007'),\r\n",
                "    (33, 'Ernesto', 'Montes', '1978-08-13', 'M', 'Calle Larios 789', 'Málaga', '29004'),\r\n",
                "    (34, 'Valeria', 'Espinosa', '1997-03-06', 'F', 'Paseo de la Castellana 123', 'Madrid', '28006'),\r\n",
                "    (35, 'Gustavo', 'Hidalgo', '1984-11-19', 'M', 'Rambla del Prat 456', 'Barcelona', '08008'),\r\n",
                "    (36, 'Natalia', 'Aguilar', '1992-07-02', 'F', 'Calle San Fernando 789', 'Sevilla', '41005'),\r\n",
                "    (37, 'Rodrigo', 'Serrano', '1980-05-25', 'M', 'Plaza de la Virgen 123', 'Valencia', '46005'),\r\n",
                "    (38, 'Gabriela', 'Arias', '1988-02-08', 'F', 'Avenida de la Ilustración 456', 'Zaragoza', '50004'),\r\n",
                "    (39, 'Mateo', 'Córdoba', '1986-09-21', 'M', 'Calle de las Huertas 789', 'Madrid', '28007'),\r\n",
                "    (40, 'Camila', 'Acosta', '1994-01-14', 'F', 'Paseo de Gracia 123', 'Barcelona', '08009'),\r\n",
                "    (41, 'Nicolás', 'Ledesma', '1981-06-27', 'M', 'Calle Larga 456', 'Sevilla', '41006'),\r\n",
                "    (42, 'Mariana', 'Pizarro', '1989-12-10', 'F', 'Plaza de la Reina 789', 'Valencia', '46006'),\r\n",
                "    (43, 'Leonardo', 'Escobar', '1983-04-03', 'M', 'Rambla de Cataluña 123', 'Barcelona', '08010'),\r\n",
                "    (44, 'Valentina', 'Piña', '1996-10-26', 'F', 'Calle Mayor 456', 'Madrid', '28008'),\r\n",
                "    (45, 'Damián', 'Arce', '1977-07-09', 'M', 'Paseo Marítimo 789', 'Málaga', '29005'),\r\n",
                "    (46, 'Rebeca', 'Cisneros', '1991-03-22', 'F', 'Avenida del Puerto 123', 'Alicante', '03004'),\r\n",
                "    (47, 'Samuel', 'Villalobos', '1985-11-05', 'M', 'Calle Colón 456', 'Sevilla', '41007'),\r\n",
                "    (48, 'Renata', 'Segovia', '1993-08-18', 'F', 'Plaza del Pilar 789', 'Zaragoza', '50005'),\r\n",
                "    (49, 'Emiliano', 'Salcedo', '1980-02-01', 'M', 'Rambla del Prat 123', 'Barcelona', '08011'),\r\n",
                "    (50, 'Isabella', 'Quintero', '1997-06-14', 'F', 'Calle de los Olivos 23', 'Madrid', '28019'),\r\n",
                "    (51, 'Tomás', 'Castañeda', '1982-09-27', 'M', 'Calle Bravo Murillo 456', 'Madrid', '28009'),\r\n",
                "    (52, 'Sofía', 'Uribe', '1990-05-10', 'F', 'Paseo de la Castellana 789', 'Madrid', '28010'),\r\n",
                "    (53, 'Martín', 'Salinas', '1986-12-03', 'M', 'Avenida Diagonal 123', 'Barcelona', '08012'),\r\n",
                "    (54, 'Antonella', 'Rincón', '1995-04-16', 'F', 'Calle Larios 456', 'Málaga', '29006'),\r\n",
                "    (55, 'Santiago', 'Estrada', '1979-11-29', 'M', 'Plaza de la Reina 789', 'Valencia', '46007'),\r\n",
                "    (56, 'Catalina', 'Solano', '1988-07-12', 'F', 'Rambla del Prat 123', 'Barcelona', '08013'),\r\n",
                "    (57, 'Benjamín', 'Carvajal', '1984-03-25', 'M', 'Paseo Marítimo 456', 'Alicante', '03005'),\r\n",
                "    (58, 'Constanza', 'Avendaño', '1992-10-08', 'F', 'Calle San Fernando 789', 'Sevilla', '41008'),\r\n",
                "    (59, 'Joaquín', 'Cáceres', '1981-06-21', 'M', 'Plaza del Pilar 123', 'Zaragoza', '50006'),\r\n",
                "    (60, 'Isadora', 'Echevarría', '1996-01-04', 'F', 'Avenida de la Palmera 456', 'Sevilla', '41009'),\r\n",
                "    (61, 'Lucas', 'Pizarro', '1979-08-17', 'M', 'Calle de la Montera 789', 'Madrid', '28011'),\r\n",
                "    (62, 'Antonia', 'Zúñiga', '1987-03-30', 'F', 'Paseo de Gracia 123', 'Barcelona', '08014'),\r\n",
                "    (63, 'Matías', 'Márquez', '1983-11-13', 'M', 'Rambla de Cataluña 456', 'Barcelona', '08015'),\r\n",
                "    (64, 'Rafaela', 'Acuña', '1991-07-26', 'F', 'Calle Mayor 789', 'Madrid', '28012'),\r\n",
                "    (65, 'Maximiliano', 'Yáñez', '1985-02-09', 'M', 'Plaza de las Flores 123', 'Zaragoza', '50007'),\r\n",
                "    (66, 'Julieta', 'Baeza', '1994-09-22', 'F', 'Avenida del Paralelo 456', 'Barcelona', '08016'),\r\n",
                "    (67, 'Ezequiel', 'Montero', '1980-05-05', 'M', 'Calle Larios 789', 'Málaga', '29007'),\r\n",
                "    (68, 'Florencia', 'Quintana', '1988-12-18', 'F', 'Paseo de la Castellana 123', 'Madrid', '28013'),\r\n",
                "    (69, 'Thiago', 'Olivares', '1986-08-01', 'M', 'Rambla del Prat 456', 'Barcelona', '08017'),\r\n",
                "    (70, 'Bianca', 'Rendón', '1993-04-14', 'F', 'Calle San Fernando 789', 'Sevilla', '41010'),\r\n",
                "    (71, 'Cristóbal', 'Palacios', '1979-10-27', 'M', 'Plaza de la Virgen 123', 'Valencia', '46008'),\r\n",
                "    (72, 'Amanda', 'Parra', '1991-06-09', 'F', 'Avenida de la Ilustración 456', 'Zaragoza', '50008'),\r\n",
                "    (73, 'Emilio', 'Crespo', '1984-01-22', 'M', 'Calle de las Huertas 789', 'Madrid', '28014'),\r\n",
                "    (74, 'Ariana', 'Henríquez', '1996-09-05', 'F', 'Paseo de Gracia 123', 'Barcelona', '08018'),\r\n",
                "    (75, 'Salvador', 'Morales', '1982-05-18', 'M', 'Calle Larga 456', 'Sevilla', '41011'),\r\n",
                "    (76, 'Fernanda', 'Tapia', '1989-11-01', 'F', 'Plaza de la Reina 789', 'Valencia', '46009'),\r\n",
                "    (77, 'Emmanuel', 'Concha', '1987-07-14', 'M', 'Rambla de Cataluña 123', 'Barcelona', '08019'),\r\n",
                "    (78, 'Dulce', 'Quintero', '1995-02-27', 'F', 'Calle Mayor 456', 'Madrid', '28015'),\r\n",
                "    (79, 'Lisandro', 'Peralta', '1981-09-10', 'M', 'Paseo Marítimo 789', 'Málaga', '29008'),\r\n",
                "    (80, 'Luana', 'Santamaría', '1993-06-23', 'F', 'Avenida del Puerto 123', 'Alicante', '03006'),\r\n",
                "    (81, 'Máximo', 'Saldivar', '1986-12-06', 'M', 'Calle Colón 456', 'Sevilla', '41012'),\r\n",
                "    (82, 'Violeta', 'Ugarte', '1990-04-19', 'F', 'Plaza del Pilar 789', 'Zaragoza', '50009'),\r\n",
                "    (83, 'Ignacio', 'Solís', '1978-11-02', 'M', 'Rambla del Prat 123', 'Barcelona', '08020'),\r\n",
                "    (84, 'Avril', 'Olmedo', '1997-07-15', 'F', 'Calle Bravo Murillo 456', 'Madrid', '28016'),\r\n",
                "    (85, 'Leonel', 'Urrutia', '1984-03-28', 'M', 'Paseo de la Castellana 789', 'Madrid', '28017'),\r\n",
                "    (86, 'Paloma', 'Espinoza', '1992-10-11', 'F', 'Avenida Diagonal 123', 'Barcelona', '08021'),\r\n",
                "    (87, 'Fabrizio', 'Mora', '1980-06-24', 'M', 'Calle Larios 456', 'Málaga', '29009'),\r\n",
                "    (88, 'Maite', 'Heredia', '1988-02-07', 'F', 'Plaza de la Reina 789', 'Valencia', '46010'),\r\n",
                "    (89, 'Gael', 'Bernal', '1986-09-20', 'M', 'Rambla del Prat 123', 'Barcelona', '08022'),\r\n",
                "    (90, 'Amelia', 'Polo', '1985-08-19', 'F', 'Calle de los Pintores 12', 'Málaga', '28025'),\r\n",
                "    (91, 'Amelia', 'Peña', '1994-05-03', 'F', 'Paseo Marítimo 456', 'Alicante', '03007'),\r\n",
                "    (92, 'Bautista', 'Contreras', '1981-12-16', 'M', 'Calle San Fernando 789', 'Sevilla', '41013'),\r\n",
                "    (93, 'Luciana', 'Velázquez', '1989-08-29', 'F', 'Plaza del Pilar 123', 'Zaragoza', '50010'),\r\n",
                "    (94, 'Tristán', 'Sepúlveda', '1987-04-12', 'M', 'Avenida de la Palmera 456', 'Sevilla', '41014'),\r\n",
                "    (95, 'Jimena', 'Galindo', '1995-11-25', 'F', 'Calle de la Montera 789', 'Madrid', '28018'),\r\n",
                "    (96, 'Álvaro', 'Leal', '1983-07-08', 'M', 'Paseo de Gracia 123', 'Barcelona', '08023'),\r\n",
                "    (97, 'Dafne', 'Robles', '1991-03-21', 'F', 'Rambla de Cataluña 456', 'Barcelona', '08024'),\r\n",
                "    (98, 'Ángel', 'Zepeda', '1979-10-04', 'M', 'Calle Mayor 789', 'Madrid', '28019'),\r\n",
                "    (99, 'Esmeralda', 'Vigil', '1987-06-17', 'F', 'Plaza de las Flores 123', 'Zaragoza', '50011'),\r\n",
                "    (100, 'Pascual', 'Betancourt', '1985-01-30', 'M', 'Avenida del Paralelo 456', 'Barcelona', '08025');\r\n",
                "*/"
            ],
            "metadata": {
                "language": "sql",
                "azdata_cell_guid": "f61a1d4b-1fef-41bb-b4d2-75037bd7ba5b"
            },
            "outputs": [],
            "execution_count": null
        },
        {
            "cell_type": "code",
            "source": [
                "/*\r\n",
                "INSERT INTO bank.Cuentas (CuentaID, ClienteID, TipoCuenta, FechaApertura, Saldo)\r\n",
                "VALUES\r\n",
                "    (1, 1, 'Ahorros', '2010-05-15', 5678.25),\r\n",
                "    (2, 1, 'Corriente', '2010-05-15', 2345.67),\r\n",
                "    (3, 2, 'Ahorros', '2015-03-20', 9876.54),\r\n",
                "    (4, 3, 'Corriente', '2008-11-01', 1234.56),\r\n",
                "    (5, 4, 'Ahorros', '2012-07-25', 7890.25),\r\n",
                "    (6, 5, 'Corriente', '2018-02-10', 3456.78),\r\n",
                "    (7, 6, 'Ahorros', '2014-09-05', 6789.01),\r\n",
                "    (8, 7, 'Corriente', '2011-04-18', 2345.67),\r\n",
                "    (9, 8, 'Ahorros', '2017-12-31', 8765.43),\r\n",
                "    (10, 9, 'Corriente', '2013-06-07', 4567.89),\r\n",
                "    (11, 10, 'Ahorros', '2019-01-15', 9012.34),\r\n",
                "    (12, 11, 'Corriente', '2009-08-22', 5678.90),\r\n",
                "    (13, 12, 'Ahorros', '2016-05-03', 7890.12),\r\n",
                "    (14, 13, 'Corriente', '2010-11-28', 3456.78),\r\n",
                "    (15, 14, 'Ahorros', '2018-07-10', 6789.34),\r\n",
                "    (16, 15, 'Corriente', '2014-03-15', 2345.67),\r\n",
                "    (17, 16, 'Ahorros', '2020-02-20', 8765.09),\r\n",
                "    (18, 17, 'Corriente', '2011-09-01', 4567.23),\r\n",
                "    (19, 18, 'Ahorros', '2017-04-25', 9012.45),\r\n",
                "    (20, 19, 'Corriente', '2013-12-08', 5678.67),\r\n",
                "    (21, 20, 'Ahorros', '2019-06-30', 7890.89),\r\n",
                "    (22, 21, 'Corriente', '2015-01-12', 3456.01),\r\n",
                "    (23, 22, 'Ahorros', '2012-08-05', 6789.12),\r\n",
                "    (24, 23, 'Corriente', '2016-11-18', 2345.34),\r\n",
                "    (25, 24, 'Ahorros', '2020-04-02', 8765.56),\r\n",
                "    (26, 25, 'Corriente', '2014-07-27', 4567.78),\r\n",
                "    (27, 26, 'Ahorros', '2018-03-10', 9012.90),\r\n",
                "    (28, 27, 'Corriente', '2011-10-15', 5678.12),\r\n",
                "    (29, 28, 'Ahorros', '2017-06-01', 7890.34),\r\n",
                "    (30, 29, 'Corriente', '2013-02-25', 3456.56),\r\n",
                "    (31, 30, 'Ahorros', '2019-09-08', 6789.78),\r\n",
                "    (32, 31, 'Corriente', '2015-04-20', 2345.90),\r\n",
                "    (33, 32, 'Ahorros', '2011-11-13', 8765.12),\r\n",
                "    (34, 33, 'Corriente', '2016-07-05', 4567.34),\r\n",
                "    (35, 34, 'Ahorros', '2020-02-28', 9012.56),\r\n",
                "    (36, 35, 'Corriente', '2012-09-22', 5678.78),\r\n",
                "    (37, 36, 'Ahorros', '2018-05-17', 7890.90),\r\n",
                "    (38, 37, 'Corriente', '2014-01-03', 3456.12),\r\n",
                "    (39, 38, 'Ahorros', '2019-10-25', 6789.34),\r\n",
                "    (40, 39, 'Corriente', '2015-07-11', 2345.56),\r\n",
                "    (41, 40, 'Ahorros', '2013-04-03', 8765.78),\r\n",
                "    (42, 41, 'Corriente', '2017-11-18', 4567.90),\r\n",
                "    (43, 42, 'Ahorros', '2020-06-01', 9012.12),\r\n",
                "    (44, 43, 'Corriente', '2016-02-14', 5678.34),\r\n",
                "    (45, 44, 'Ahorros', '2012-08-27', 7890.56),\r\n",
                "    (46, 45, 'Corriente', '2018-03-10', 3456.78),\r\n",
                "    (47, 46, 'Ahorros', '2014-10-05', 6789.90),\r\n",
                "    (48, 47, 'Corriente', '2019-05-22', 2345.12),\r\n",
                "    (49, 48, 'Ahorros', '2015-01-08', 8765.34),\r\n",
                "    (50, 49, 'Corriente', '2011-09-30', 4567.56),\r\n",
                "    (51, 50, 'Ahorros', '2017-06-15', 9012.78),\r\n",
                "    (52, 51, 'Corriente', '2013-03-01', 5678.90),\r\n",
                "    (53, 52, 'Ahorros', '2019-11-20', 7890.12),\r\n",
                "    (54, 53, 'Corriente', '2016-08-07', 3456.34),\r\n",
                "    (55, 54, 'Ahorros', '2014-04-25', 6789.56),\r\n",
                "    (56, 55, 'Corriente', '2020-01-10', 2345.78),\r\n",
                "    (57, 56, 'Ahorros', '2012-07-03', 8765.90),\r\n",
                "    (58, 57, 'Corriente', '2018-02-18', 4567.12),\r\n",
                "    (59, 58, 'Ahorros', '2015-09-01', 9012.34),\r\n",
                "    (60, 59, 'Corriente', '2011-05-27', 5678.56),\r\n",
                "    (61, 60, 'Ahorros', '2017-12-10', 7890.78),\r\n",
                "    (62, 61, 'Corriente', '2013-06-23', 3456.90),\r\n",
                "    (63, 62, 'Ahorros', '2019-03-08', 6789.12),\r\n",
                "    (64, 63, 'Corriente', '2015-10-31', 2345.34),\r\n",
                "    (65, 64, 'Ahorros', '2012-04-14', 8765.56),\r\n",
                "    (66, 65, 'Corriente', '2018-11-01', 4567.78),\r\n",
                "    (67, 66, 'Ahorros', '2016-06-25', 9012.90),\r\n",
                "    (68, 67, 'Corriente', '2014-02-09', 5678.12),\r\n",
                "    (69, 68, 'Ahorros', '2020-09-17', 7890.34),\r\n",
                "    (70, 69, 'Corriente', '2017-05-03', 3456.56),\r\n",
                "    (71, 70, 'Ahorros', '2013-12-20', 6789.78),\r\n",
                "    (72, 71, 'Corriente', '2019-07-15', 2345.90),\r\n",
                "    (73, 72, 'Ahorros', '2015-03-28', 8765.12),\r\n",
                "    (74, 73, 'Corriente', '2011-10-11', 4567.34),\r\n",
                "    (75, 74, 'Ahorros', '2018-04-24', 9012.56),\r\n",
                "    (76, 75, 'Corriente', '2016-01-07', 5678.78),\r\n",
                "    (77, 76, 'Ahorros', '2014-08-31', 7890.90),\r\n",
                "    (78, 77, 'Corriente', '2020-05-16', 3456.12),\r\n",
                "    (79, 78, 'Ahorros', '2012-11-03', 6789.34),\r\n",
                "    (80, 79, 'Corriente', '2019-06-29', 2345.56),\r\n",
                "    (81, 80, 'Ahorros', '2017-02-12', 8765.78),\r\n",
                "    (82, 81, 'Corriente', '2013-09-05', 4567.90),\r\n",
                "    (83, 82, 'Ahorros', '2015-04-20', 9012.12),\r\n",
                "    (84, 83, 'Corriente', '2011-11-14', 5678.34),\r\n",
                "    (85, 84, 'Ahorros', '2018-07-08', 7890.56),\r\n",
                "    (86, 85, 'Corriente', '2016-03-01', 3456.78),\r\n",
                "    (87, 86, 'Ahorros', '2014-10-25', 6789.90),\r\n",
                "    (88, 87, 'Corriente', '2020-06-18', 2345.12),\r\n",
                "    (89, 88, 'Ahorros', '2012-02-11', 8765.34),\r\n",
                "    (90, 89, 'Corriente', '2019-09-04', 4567.56),\r\n",
                "    (91, 90, 'Ahorros', '2017-05-27', 9012.78),\r\n",
                "    (92, 91, 'Corriente', '2013-12-10', 5678.90),\r\n",
                "    (93, 92, 'Ahorros', '2015-07-03', 7890.12),\r\n",
                "    (94, 93, 'Corriente', '2011-03-26', 3456.34),\r\n",
                "    (95, 94, 'Ahorros', '2018-10-09', 6789.56),\r\n",
                "    (96, 95, 'Corriente', '2016-05-22', 2345.78),\r\n",
                "    (97, 96, 'Ahorros', '2014-01-15', 8765.90),\r\n",
                "    (98, 97, 'Corriente', '2020-08-29', 4567.12),\r\n",
                "    (99, 98, 'Ahorros', '2012-04-03', 9012.34),\r\n",
                "    (100, 99, 'Corriente', '2019-11-17', 5678.56);\r\n",
                "*/"
            ],
            "metadata": {
                "language": "sql",
                "azdata_cell_guid": "f4ad4b4a-c802-45fa-871c-333260f94c75"
            },
            "outputs": [],
            "execution_count": null
        },
        {
            "cell_type": "code",
            "source": [
                "/*\r\n",
                "INSERT INTO bank.Transacciones (TransaccionID, CuentaID, Fecha, Tipo, Monto, Descripcion)\r\n",
                "VALUES\r\n",
                "    (1, 1, '2023-04-01', 'Depósito', 500.00, 'Depósito de nómina'),\r\n",
                "    (2, 2, '2023-04-05', 'Retiro', 200.00, 'Retiro en cajero automático'),\r\n",
                "    (3, 3, '2023-04-10', 'Transferencia', 1000.00, 'Transferencia desde otra cuenta'),\r\n",
                "    (4, 4, '2023-04-15', 'Pago', 300.00, 'Pago de servicios públicos'),\r\n",
                "    (5, 5, '2023-04-20', 'Depósito', 2000.00, 'Depósito de cheque'),\r\n",
                "    (6, 6, '2023-04-25', 'Retiro', 150.00, 'Retiro en cajero automático'),\r\n",
                "    (7, 7, '2023-04-30', 'Transferencia', 800.00, 'Transferencia a otra cuenta'),\r\n",
                "    (8, 8, '2023-05-05', 'Pago', 400.00, 'Pago de tarjeta de crédito'),\r\n",
                "    (9, 9, '2023-05-10', 'Depósito', 1500.00, 'Depósito de nómina'),\r\n",
                "    (10, 10, '2023-05-15', 'Retiro', 250.00, 'Retiro en cajero automático'),\r\n",
                "    (11, 11, '2023-05-20', 'Transferencia', 1200.00, 'Transferencia desde otra cuenta'),\r\n",
                "    (12, 12, '2023-05-25', 'Pago', 350.00, 'Pago de servicios públicos'),\r\n",
                "    (13, 13, '2023-05-30', 'Depósito', 2500.00, 'Depósito de cheque'),\r\n",
                "    (14, 14, '2023-06-04', 'Retiro', 180.00, 'Retiro en cajero automático'),\r\n",
                "    (15, 15, '2023-06-09', 'Transferencia', 900.00, 'Transferencia a otra cuenta'),\r\n",
                "    (16, 16, '2023-06-14', 'Pago', 450.00, 'Pago de tarjeta de crédito'),\r\n",
                "    (17, 17, '2023-06-19', 'Depósito', 1800.00, 'Depósito de nómina'),\r\n",
                "    (18, 18, '2023-06-24', 'Retiro', 220.00, 'Retiro en cajero automático'),\r\n",
                "    (19, 19, '2023-06-29', 'Transferencia', 1100.00, 'Transferencia desde otra cuenta'),\r\n",
                "    (20, 20, '2023-07-04', 'Pago', 380.00, 'Pago de servicios públicos'),\r\n",
                "    (21, 21, '2023-07-09', 'Depósito', 2200.00, 'Depósito de cheque'),\r\n",
                "    (22, 22, '2023-07-14', 'Retiro', 160.00, 'Retiro en cajero automático'),\r\n",
                "    (23, 23, '2023-07-19', 'Transferencia', 850.00, 'Transferencia a otra cuenta'),\r\n",
                "    (24, 24, '2023-07-24', 'Pago', 420.00, 'Pago de tarjeta de crédito'),\r\n",
                "    (25, 25, '2023-07-29', 'Depósito', 1900.00, 'Depósito de nómina'),\r\n",
                "    (26, 26, '2023-08-03', 'Retiro', 240.00, 'Retiro en cajero automático'),\r\n",
                "    (27, 27, '2023-08-08', 'Transferencia', 1300.00, 'Transferencia desde otra cuenta'),\r\n",
                "    (28, 28, '2023-08-13', 'Pago', 390.00, 'Pago de servicios públicos'),\r\n",
                "    (29, 29, '2023-08-18', 'Depósito', 2700.00, 'Depósito de cheque'),\r\n",
                "    (30, 30, '2023-08-23', 'Retiro', 170.00, 'Retiro en cajero automático'),\r\n",
                "    (31, 31, '2023-08-28', 'Transferencia', 950.00, 'Transferencia a otra cuenta'),\r\n",
                "    (32, 32, '2023-09-02', 'Pago', 460.00, 'Pago de tarjeta de crédito'),\r\n",
                "    (33, 33, '2023-09-07', 'Depósito', 2100.00, 'Depósito de nómina'),\r\n",
                "    (34, 34, '2023-09-12', 'Retiro', 280.00, 'Retiro en cajero automático'),\r\n",
                "    (35, 35, '2023-09-17', 'Transferencia', 1400.00, 'Transferencia desde otra cuenta'),\r\n",
                "    (36, 36, '2023-09-22', 'Pago', 330.00, 'Pago de servicios públicos'),\r\n",
                "    (37, 37, '2023-09-27', 'Depósito', 2300.00, 'Depósito de cheque'),\r\n",
                "    (38, 38, '2023-10-02', 'Retiro', 190.00, 'Retiro en cajero automático'),\r\n",
                "    (39, 39, '2023-10-07', 'Transferencia', 1000.00, 'Transferencia a otra cuenta'),\r\n",
                "    (40, 40, '2023-10-12', 'Pago', 480.00, 'Pago de tarjeta de crédito'),\r\n",
                "    (41, 41, '2023-10-17', 'Depósito', 2400.00, 'Depósito de nómina'),\r\n",
                "    (42, 42, '2023-10-22', 'Retiro', 260.00, 'Retiro en cajero automático'),\r\n",
                "    (43, 43, '2023-10-27', 'Transferencia', 1500.00, 'Transferencia desde otra cuenta'),\r\n",
                "    (44, 44, '2023-11-01', 'Pago', 360.00, 'Pago de servicios públicos'),\r\n",
                "    (45, 45, '2023-11-06', 'Depósito', 2800.00, 'Depósito de cheque'),\r\n",
                "    (46, 46, '2023-11-11', 'Retiro', 210.00, 'Retiro en cajero automático'),\r\n",
                "    (47, 47, '2023-11-16', 'Transferencia', 1100.00, 'Transferencia a otra cuenta'),\r\n",
                "    (48, 48, '2023-11-21', 'Pago', 490.00, 'Pago de tarjeta de crédito'),\r\n",
                "    (49, 49, '2023-11-26', 'Depósito', 2500.00, 'Depósito de nómina'),\r\n",
                "    (50, 50, '2023-12-01', 'Retiro', 290.00, 'Retiro en cajero automático'),\r\n",
                "    (51, 51, '2023-12-06', 'Transferencia', 1600.00, 'Transferencia desde otra cuenta'),\r\n",
                "    (52, 52, '2023-12-11', 'Pago', 370.00, 'Pago de servicios públicos'),\r\n",
                "    (53, 53, '2023-12-16', 'Depósito', 3000.00, 'Depósito de cheque'),\r\n",
                "    (54, 54, '2023-12-21', 'Retiro', 230.00, 'Retiro en cajero automático'),\r\n",
                "    (55, 55, '2023-12-26', 'Transferencia', 1200.00, 'Transferencia a otra cuenta'),\r\n",
                "    (56, 56, '2023-12-31', 'Pago', 520.00, 'Pago de tarjeta de crédito'),\r\n",
                "    (57, 1, '2024-01-05', 'Depósito', 2600.00, 'Depósito de nómina'),\r\n",
                "    (58, 2, '2024-01-10', 'Retiro', 300.00, 'Retiro en cajero automático'),\r\n",
                "    (59, 3, '2024-01-15', 'Transferencia', 1700.00, 'Transferencia desde otra cuenta'),\r\n",
                "    (60, 4, '2024-01-20', 'Pago', 400.00, 'Pago de servicios públicos'),\r\n",
                "    (61, 5, '2024-01-25', 'Depósito', 3200.00, 'Depósito de cheque'),\r\n",
                "    (62, 6, '2024-01-30', 'Retiro', 250.00, 'Retiro en cajero automático'),\r\n",
                "    (63, 7, '2024-02-04', 'Transferencia', 1300.00, 'Transferencia a otra cuenta'),\r\n",
                "    (64, 8, '2024-02-09', 'Pago', 530.00, 'Pago de tarjeta de crédito'),\r\n",
                "    (65, 9, '2024-02-14', 'Depósito', 2700.00, 'Depósito de nómina'),\r\n",
                "    (66, 10, '2024-02-19', 'Retiro', 320.00, 'Retiro en cajero automático'),\r\n",
                "    (67, 11, '2024-02-24', 'Transferencia', 1800.00, 'Transferencia desde otra cuenta'),\r\n",
                "    (68, 12, '2024-02-29', 'Pago', 430.00, 'Pago de servicios públicos'),\r\n",
                "    (69, 13, '2024-03-05', 'Depósito', 3400.00, 'Depósito de cheque'),\r\n",
                "    (70, 14, '2024-03-10', 'Retiro', 270.00, 'Retiro en cajero automático'),\r\n",
                "    (71, 15, '2024-03-15', 'Transferencia', 1400.00, 'Transferencia a otra cuenta'),\r\n",
                "    (72, 16, '2024-03-20', 'Pago', 560.00, 'Pago de tarjeta de crédito'),\r\n",
                "    (73, 17, '2024-03-25', 'Depósito', 2800.00, 'Depósito de nómina'),\r\n",
                "    (74, 18, '2024-03-30', 'Retiro', 340.00, 'Retiro en cajero automático'),\r\n",
                "    (75, 19, '2024-04-04', 'Transferencia', 1900.00, 'Transferencia desde otra cuenta'),\r\n",
                "    (76, 20, '2024-04-09', 'Pago', 460.00, 'Pago de servicios públicos'),\r\n",
                "    (77, 21, '2024-04-14', 'Depósito', 3500.00, 'Depósito de cheque'),\r\n",
                "    (78, 22, '2024-04-19', 'Retiro', 280.00, 'Retiro en cajero automático'),\r\n",
                "    (79, 23, '2024-04-24', 'Transferencia', 1500.00, 'Transferencia a otra cuenta'),\r\n",
                "    (80, 24, '2024-04-29', 'Pago', 590.00, 'Pago de tarjeta de crédito'),\r\n",
                "    (81, 25, '2024-05-04', 'Depósito', 2900.00, 'Depósito de nómina'),\r\n",
                "    (82, 26, '2024-05-09', 'Retiro', 360.00, 'Retiro en cajero automático'),\r\n",
                "    (83, 27, '2024-05-14', 'Transferencia', 2000.00, 'Transferencia desde otra cuenta'),\r\n",
                "    (84, 28, '2024-05-19', 'Pago', 470.00, 'Pago de servicios públicos'),\r\n",
                "    (85, 29, '2024-05-24', 'Depósito', 3600.00, 'Depósito de cheque'),\r\n",
                "    (86, 30, '2024-05-29', 'Retiro', 290.00, 'Retiro en cajero automático'),\r\n",
                "    (87, 31, '2024-06-03', 'Transferencia', 1600.00, 'Transferencia a otra cuenta'),\r\n",
                "    (88, 32, '2024-06-08', 'Pago', 620.00, 'Pago de tarjeta de crédito'),\r\n",
                "    (89, 33, '2024-06-13', 'Depósito', 3000.00, 'Depósito de nómina'),\r\n",
                "    (90, 34, '2024-06-18', 'Retiro', 380.00, 'Retiro en cajero automático'), \r\n",
                "    (91, 35, '2024-06-23', 'Transferencia', 2100.00, 'Transferencia desde otra cuenta'),\r\n",
                "    (92, 36, '2024-06-28', 'Pago', 500.00, 'Pago de servicios públicos'),\r\n",
                "    (93, 37, '2024-07-03', 'Depósito', 3700.00, 'Depósito de cheque'),\r\n",
                "    (94, 38, '2024-07-08', 'Retiro', 310.00, 'Retiro en cajero automático'),\r\n",
                "    (95, 39, '2024-07-13', 'Transferencia', 1700.00, 'Transferencia a otra cuenta'),\r\n",
                "    (96, 40, '2024-07-18', 'Pago', 630.00, 'Pago de tarjeta de crédito'),\r\n",
                "    (97, 41, '2024-07-23', 'Depósito', 3100.00, 'Depósito de nómina'),\r\n",
                "    (98, 42, '2024-07-28', 'Retiro', 390.00, 'Retiro en cajero automático'),\r\n",
                "    (99, 43, '2024-08-02', 'Transferencia', 2200.00, 'Transferencia desde otra cuenta'),\r\n",
                "    (100, 44, '2024-08-07', 'Pago', 530.00, 'Pago de servicios públicos');\r\n",
                "*/"
            ],
            "metadata": {
                "azdata_cell_guid": "8656ceac-c260-4ec1-b470-666b6c59da64",
                "language": "sql"
            },
            "outputs": [],
            "execution_count": null
        },
        {
            "cell_type": "code",
            "source": [
                ""
            ],
            "metadata": {
                "language": "sql",
                "azdata_cell_guid": "b7692937-e32f-4cc3-9251-28a66b858368"
            },
            "outputs": [],
            "execution_count": null
        },
        {
            "cell_type": "markdown",
            "source": [
                "1\\. ¿Cuántos clientes hay en la base de datos?"
            ],
            "metadata": {
                "azdata_cell_guid": "fe71a84c-e7ae-428d-ae6c-039f7780a924"
            },
            "attachments": {}
        },
        {
            "cell_type": "code",
            "source": [
                "SELECT distinct COUNT(*) FROM bank.Clientes;"
            ],
            "metadata": {
                "azdata_cell_guid": "6d994d6d-9195-44c1-8120-bd0b80d1211d",
                "language": "sql"
            },
            "outputs": [
                {
                    "output_type": "display_data",
                    "data": {
                        "text/html": "(1 row(s) affected)"
                    },
                    "metadata": {}
                },
                {
                    "output_type": "display_data",
                    "data": {
                        "text/html": "Total execution time: 00:00:01.018"
                    },
                    "metadata": {}
                },
                {
                    "output_type": "execute_result",
                    "execution_count": 3,
                    "data": {
                        "application/vnd.dataresource+json": {
                            "schema": {
                                "fields": [
                                    {
                                        "name": "COUNT(*)"
                                    }
                                ]
                            },
                            "data": [
                                {
                                    "COUNT(*)": "100"
                                }
                            ]
                        },
                        "text/html": "<table><tr><th>COUNT(*)</th></tr><tr><td>100</td></tr></table>"
                    },
                    "metadata": {}
                }
            ],
            "execution_count": 3
        },
        {
            "cell_type": "markdown",
            "source": [
                "2. ¿Cuál es el saldo total de todas las cuentas?"
            ],
            "metadata": {
                "language": "sql",
                "azdata_cell_guid": "61964765-2f28-4a13-8ffa-9dac280baeec"
            },
            "attachments": {}
        },
        {
            "cell_type": "code",
            "source": [
                "SELECT SUM(Saldo) AS 'Saldo Total' FROM bank.Cuentas;"
            ],
            "metadata": {
                "language": "sql",
                "azdata_cell_guid": "4c08c807-6b19-4b27-8719-4f020909fdff"
            },
            "outputs": [
                {
                    "output_type": "display_data",
                    "data": {
                        "text/html": "(1 row(s) affected)"
                    },
                    "metadata": {}
                },
                {
                    "output_type": "display_data",
                    "data": {
                        "text/html": "Total execution time: 00:00:01.019"
                    },
                    "metadata": {}
                },
                {
                    "output_type": "execute_result",
                    "execution_count": 5,
                    "data": {
                        "application/vnd.dataresource+json": {
                            "schema": {
                                "fields": [
                                    {
                                        "name": "Saldo Total"
                                    }
                                ]
                            },
                            "data": [
                                {
                                    "Saldo Total": "601209.06"
                                }
                            ]
                        },
                        "text/html": "<table><tr><th>Saldo Total</th></tr><tr><td>601209.06</td></tr></table>"
                    },
                    "metadata": {}
                }
            ],
            "execution_count": 5
        },
        {
            "cell_type": "markdown",
            "source": [
                "**3. ¿Cuál es el cliente con la cuenta de mayor saldo?**"
            ],
            "metadata": {
                "language": "sql",
                "azdata_cell_guid": "5ab6c7f3-a65a-4b3e-9e59-04b1f49371e5"
            },
            "attachments": {}
        },
        {
            "cell_type": "code",
            "source": [
                "SELECT Nombre, Apellido, Saldo\r\n",
                "FROM bank.Clientes c\r\n",
                "JOIN bank.Cuentas cu ON c.ClienteID = cu.ClienteID\r\n",
                "ORDER BY cu.Saldo DESC\r\n",
                "-- LIMIT 1;"
            ],
            "metadata": {
                "language": "sql",
                "azdata_cell_guid": "1635e420-5457-4263-a724-f2b51fb01334"
            },
            "outputs": [
                {
                    "output_type": "display_data",
                    "data": {
                        "text/html": "(100 row(s) affected)"
                    },
                    "metadata": {}
                },
                {
                    "output_type": "display_data",
                    "data": {
                        "text/html": "Total execution time: 00:00:01.017"
                    },
                    "metadata": {}
                },
                {
                    "output_type": "execute_result",
                    "execution_count": 18,
                    "data": {
                        "application/vnd.dataresource+json": {
                            "schema": {
                                "fields": [
                                    {
                                        "name": "Nombre"
                                    },
                                    {
                                        "name": "Apellido"
                                    },
                                    {
                                        "name": "Saldo"
                                    }
                                ]
                            },
                            "data": [
                                {
                                    "Nombre": "María",
                                    "Apellido": "García",
                                    "Saldo": "9876.54"
                                },
                                {
                                    "Nombre": "Julieta",
                                    "Apellido": "Baeza",
                                    "Saldo": "9012.90"
                                },
                                {
                                    "Nombre": "Silvia",
                                    "Apellido": "Vargas",
                                    "Saldo": "9012.90"
                                },
                                {
                                    "Nombre": "Amelia",
                                    "Apellido": "Polo",
                                    "Saldo": "9012.78"
                                },
                                {
                                    "Nombre": "Isabella",
                                    "Apellido": "Quintero",
                                    "Saldo": "9012.78"
                                },
                                {
                                    "Nombre": "Valeria",
                                    "Apellido": "Espinosa",
                                    "Saldo": "9012.56"
                                },
                                {
                                    "Nombre": "Ariana",
                                    "Apellido": "Henríquez",
                                    "Saldo": "9012.56"
                                },
                                {
                                    "Nombre": "Lucía",
                                    "Apellido": "Romero",
                                    "Saldo": "9012.45"
                                },
                                {
                                    "Nombre": "Isabel",
                                    "Apellido": "Ramírez",
                                    "Saldo": "9012.34"
                                },
                                {
                                    "Nombre": "Constanza",
                                    "Apellido": "Avendaño",
                                    "Saldo": "9012.34"
                                },
                                {
                                    "Nombre": "Ángel",
                                    "Apellido": "Zepeda",
                                    "Saldo": "9012.34"
                                },
                                {
                                    "Nombre": "Violeta",
                                    "Apellido": "Ugarte",
                                    "Saldo": "9012.12"
                                },
                                {
                                    "Nombre": "Mariana",
                                    "Apellido": "Pizarro",
                                    "Saldo": "9012.12"
                                },
                                {
                                    "Nombre": "Catalina",
                                    "Apellido": "Solano",
                                    "Saldo": "8765.90"
                                },
                                {
                                    "Nombre": "Álvaro",
                                    "Apellido": "Leal",
                                    "Saldo": "8765.90"
                                },
                                {
                                    "Nombre": "Luana",
                                    "Apellido": "Santamaría",
                                    "Saldo": "8765.78"
                                },
                                {
                                    "Nombre": "Camila",
                                    "Apellido": "Acosta",
                                    "Saldo": "8765.78"
                                },
                                {
                                    "Nombre": "Daniela",
                                    "Apellido": "Cabrera",
                                    "Saldo": "8765.56"
                                },
                                {
                                    "Nombre": "Rafaela",
                                    "Apellido": "Acuña",
                                    "Saldo": "8765.56"
                                },
                                {
                                    "Nombre": "Sofía",
                                    "Apellido": "Torres",
                                    "Saldo": "8765.43"
                                },
                                {
                                    "Nombre": "Renata",
                                    "Apellido": "Segovia",
                                    "Saldo": "8765.34"
                                },
                                {
                                    "Nombre": "Maite",
                                    "Apellido": "Heredia",
                                    "Saldo": "8765.34"
                                },
                                {
                                    "Nombre": "Amanda",
                                    "Apellido": "Parra",
                                    "Saldo": "8765.12"
                                },
                                {
                                    "Nombre": "Adriana",
                                    "Apellido": "Guerrero",
                                    "Saldo": "8765.12"
                                },
                                {
                                    "Nombre": "Alicia",
                                    "Apellido": "Gutiérrez",
                                    "Saldo": "8765.09"
                                },
                                {
                                    "Nombre": "Fernanda",
                                    "Apellido": "Tapia",
                                    "Saldo": "7890.90"
                                },
                                {
                                    "Nombre": "Natalia",
                                    "Apellido": "Aguilar",
                                    "Saldo": "7890.90"
                                },
                                {
                                    "Nombre": "Elena",
                                    "Apellido": "Santos",
                                    "Saldo": "7890.89"
                                },
                                {
                                    "Nombre": "Isadora",
                                    "Apellido": "Echevarría",
                                    "Saldo": "7890.78"
                                },
                                {
                                    "Nombre": "Valentina",
                                    "Apellido": "Piña",
                                    "Saldo": "7890.56"
                                },
                                {
                                    "Nombre": "Avril",
                                    "Apellido": "Olmedo",
                                    "Saldo": "7890.56"
                                },
                                {
                                    "Nombre": "Carolina",
                                    "Apellido": "Pardo",
                                    "Saldo": "7890.34"
                                },
                                {
                                    "Nombre": "Florencia",
                                    "Apellido": "Quintana",
                                    "Saldo": "7890.34"
                                },
                                {
                                    "Nombre": "Ana",
                                    "Apellido": "Martínez",
                                    "Saldo": "7890.25"
                                },
                                {
                                    "Nombre": "Bautista",
                                    "Apellido": "Contreras",
                                    "Saldo": "7890.12"
                                },
                                {
                                    "Nombre": "Sofía",
                                    "Apellido": "Uribe",
                                    "Saldo": "7890.12"
                                },
                                {
                                    "Nombre": "Marta",
                                    "Apellido": "Jiménez",
                                    "Saldo": "7890.12"
                                },
                                {
                                    "Nombre": "Rebeca",
                                    "Apellido": "Cisneros",
                                    "Saldo": "6789.90"
                                },
                                {
                                    "Nombre": "Paloma",
                                    "Apellido": "Espinoza",
                                    "Saldo": "6789.90"
                                },
                                {
                                    "Nombre": "Claudia",
                                    "Apellido": "Suárez",
                                    "Saldo": "6789.78"
                                },
                                {
                                    "Nombre": "Bianca",
                                    "Apellido": "Rendón",
                                    "Saldo": "6789.78"
                                },
                                {
                                    "Nombre": "Antonella",
                                    "Apellido": "Rincón",
                                    "Saldo": "6789.56"
                                },
                                {
                                    "Nombre": "Tristán",
                                    "Apellido": "Sepúlveda",
                                    "Saldo": "6789.56"
                                },
                                {
                                    "Nombre": "Carla",
                                    "Apellido": "Ruiz",
                                    "Saldo": "6789.34"
                                },
                                {
                                    "Nombre": "Gabriela",
                                    "Apellido": "Arias",
                                    "Saldo": "6789.34"
                                },
                                {
                                    "Nombre": "Dulce",
                                    "Apellido": "Quintero",
                                    "Saldo": "6789.34"
                                },
                                {
                                    "Nombre": "Cristina",
                                    "Apellido": "Molina",
                                    "Saldo": "6789.12"
                                },
                                {
                                    "Nombre": "Antonia",
                                    "Apellido": "Zúñiga",
                                    "Saldo": "6789.12"
                                },
                                {
                                    "Nombre": "Laura",
                                    "Apellido": "Fernández",
                                    "Saldo": "6789.01"
                                },
                                {
                                    "Nombre": "Tomás",
                                    "Apellido": "Castañeda",
                                    "Saldo": "5678.90"
                                },
                                {
                                    "Nombre": "Andrés",
                                    "Apellido": "Herrera",
                                    "Saldo": "5678.90"
                                },
                                {
                                    "Nombre": "Amelia",
                                    "Apellido": "Peña",
                                    "Saldo": "5678.90"
                                },
                                {
                                    "Nombre": "Salvador",
                                    "Apellido": "Morales",
                                    "Saldo": "5678.78"
                                },
                                {
                                    "Nombre": "Gustavo",
                                    "Apellido": "Hidalgo",
                                    "Saldo": "5678.78"
                                },
                                {
                                    "Nombre": "Óscar",
                                    "Apellido": "Ramos",
                                    "Saldo": "5678.67"
                                },
                                {
                                    "Nombre": "Esmeralda",
                                    "Apellido": "Vigil",
                                    "Saldo": "5678.56"
                                },
                                {
                                    "Nombre": "Joaquín",
                                    "Apellido": "Cáceres",
                                    "Saldo": "5678.56"
                                },
                                {
                                    "Nombre": "Leonardo",
                                    "Apellido": "Escobar",
                                    "Saldo": "5678.34"
                                },
                                {
                                    "Nombre": "Ignacio",
                                    "Apellido": "Solís",
                                    "Saldo": "5678.34"
                                },
                                {
                                    "Nombre": "Juan",
                                    "Apellido": "Pérez",
                                    "Saldo": "5678.25"
                                },
                                {
                                    "Nombre": "Roberto",
                                    "Apellido": "Sáez",
                                    "Saldo": "5678.12"
                                },
                                {
                                    "Nombre": "Ezequiel",
                                    "Apellido": "Montero",
                                    "Saldo": "5678.12"
                                },
                                {
                                    "Nombre": "Nicolás",
                                    "Apellido": "Ledesma",
                                    "Saldo": "4567.90"
                                },
                                {
                                    "Nombre": "Máximo",
                                    "Apellido": "Saldivar",
                                    "Saldo": "4567.90"
                                },
                                {
                                    "Nombre": "Sergio",
                                    "Apellido": "Navarro",
                                    "Saldo": "4567.89"
                                },
                                {
                                    "Nombre": "Maximiliano",
                                    "Apellido": "Yáñez",
                                    "Saldo": "4567.78"
                                },
                                {
                                    "Nombre": "Pablo",
                                    "Apellido": "Ortega",
                                    "Saldo": "4567.78"
                                },
                                {
                                    "Nombre": "Emiliano",
                                    "Apellido": "Salcedo",
                                    "Saldo": "4567.56"
                                },
                                {
                                    "Nombre": "Gael",
                                    "Apellido": "Bernal",
                                    "Saldo": "4567.56"
                                },
                                {
                                    "Nombre": "Emilio",
                                    "Apellido": "Crespo",
                                    "Saldo": "4567.34"
                                },
                                {
                                    "Nombre": "Ernesto",
                                    "Apellido": "Montes",
                                    "Saldo": "4567.34"
                                },
                                {
                                    "Nombre": "Raúl",
                                    "Apellido": "Vázquez",
                                    "Saldo": "4567.23"
                                },
                                {
                                    "Nombre": "Benjamín",
                                    "Apellido": "Carvajal",
                                    "Saldo": "4567.12"
                                },
                                {
                                    "Nombre": "Dafne",
                                    "Apellido": "Robles",
                                    "Saldo": "4567.12"
                                },
                                {
                                    "Nombre": "Lucas",
                                    "Apellido": "Pizarro",
                                    "Saldo": "3456.90"
                                },
                                {
                                    "Nombre": "Carlos",
                                    "Apellido": "Sánchez",
                                    "Saldo": "3456.78"
                                },
                                {
                                    "Nombre": "Leonel",
                                    "Apellido": "Urrutia",
                                    "Saldo": "3456.78"
                                },
                                {
                                    "Nombre": "Damián",
                                    "Apellido": "Arce",
                                    "Saldo": "3456.78"
                                },
                                {
                                    "Nombre": "Luis",
                                    "Apellido": "Moreno",
                                    "Saldo": "3456.78"
                                },
                                {
                                    "Nombre": "David",
                                    "Apellido": "Rojas",
                                    "Saldo": "3456.56"
                                },
                                {
                                    "Nombre": "Thiago",
                                    "Apellido": "Olivares",
                                    "Saldo": "3456.56"
                                },
                                {
                                    "Nombre": "Luciana",
                                    "Apellido": "Velázquez",
                                    "Saldo": "3456.34"
                                },
                                {
                                    "Nombre": "Martín",
                                    "Apellido": "Salinas",
                                    "Saldo": "3456.34"
                                },
                                {
                                    "Nombre": "Emmanuel",
                                    "Apellido": "Concha",
                                    "Saldo": "3456.12"
                                },
                                {
                                    "Nombre": "Rodrigo",
                                    "Apellido": "Serrano",
                                    "Saldo": "3456.12"
                                },
                                {
                                    "Nombre": "Alejandro",
                                    "Apellido": "Flores",
                                    "Saldo": "3456.01"
                                },
                                {
                                    "Nombre": "Francisco",
                                    "Apellido": "Ríos",
                                    "Saldo": "2345.90"
                                },
                                {
                                    "Nombre": "Cristóbal",
                                    "Apellido": "Palacios",
                                    "Saldo": "2345.90"
                                },
                                {
                                    "Nombre": "Santiago",
                                    "Apellido": "Estrada",
                                    "Saldo": "2345.78"
                                },
                                {
                                    "Nombre": "Jimena",
                                    "Apellido": "Galindo",
                                    "Saldo": "2345.78"
                                },
                                {
                                    "Nombre": "Javier",
                                    "Apellido": "Gómez",
                                    "Saldo": "2345.67"
                                },
                                {
                                    "Nombre": "Juan",
                                    "Apellido": "Pérez",
                                    "Saldo": "2345.67"
                                },
                                {
                                    "Nombre": "Diego",
                                    "Apellido": "Álvarez",
                                    "Saldo": "2345.67"
                                },
                                {
                                    "Nombre": "Lisandro",
                                    "Apellido": "Peralta",
                                    "Saldo": "2345.56"
                                },
                                {
                                    "Nombre": "Mateo",
                                    "Apellido": "Córdoba",
                                    "Saldo": "2345.56"
                                },
                                {
                                    "Nombre": "Matías",
                                    "Apellido": "Márquez",
                                    "Saldo": "2345.34"
                                },
                                {
                                    "Nombre": "Mario",
                                    "Apellido": "Castillo",
                                    "Saldo": "2345.34"
                                },
                                {
                                    "Nombre": "Samuel",
                                    "Apellido": "Villalobos",
                                    "Saldo": "2345.12"
                                },
                                {
                                    "Nombre": "Fabrizio",
                                    "Apellido": "Mora",
                                    "Saldo": "2345.12"
                                },
                                {
                                    "Nombre": "Pedro",
                                    "Apellido": "Rodríguez",
                                    "Saldo": "1234.56"
                                }
                            ]
                        },
                        "text/html": "<table><tr><th>Nombre</th><th>Apellido</th><th>Saldo</th></tr><tr><td>María</td><td>García</td><td>9876.54</td></tr><tr><td>Julieta</td><td>Baeza</td><td>9012.90</td></tr><tr><td>Silvia</td><td>Vargas</td><td>9012.90</td></tr><tr><td>Amelia</td><td>Polo</td><td>9012.78</td></tr><tr><td>Isabella</td><td>Quintero</td><td>9012.78</td></tr><tr><td>Valeria</td><td>Espinosa</td><td>9012.56</td></tr><tr><td>Ariana</td><td>Henríquez</td><td>9012.56</td></tr><tr><td>Lucía</td><td>Romero</td><td>9012.45</td></tr><tr><td>Isabel</td><td>Ramírez</td><td>9012.34</td></tr><tr><td>Constanza</td><td>Avendaño</td><td>9012.34</td></tr><tr><td>Ángel</td><td>Zepeda</td><td>9012.34</td></tr><tr><td>Violeta</td><td>Ugarte</td><td>9012.12</td></tr><tr><td>Mariana</td><td>Pizarro</td><td>9012.12</td></tr><tr><td>Catalina</td><td>Solano</td><td>8765.90</td></tr><tr><td>Álvaro</td><td>Leal</td><td>8765.90</td></tr><tr><td>Luana</td><td>Santamaría</td><td>8765.78</td></tr><tr><td>Camila</td><td>Acosta</td><td>8765.78</td></tr><tr><td>Daniela</td><td>Cabrera</td><td>8765.56</td></tr><tr><td>Rafaela</td><td>Acuña</td><td>8765.56</td></tr><tr><td>Sofía</td><td>Torres</td><td>8765.43</td></tr><tr><td>Renata</td><td>Segovia</td><td>8765.34</td></tr><tr><td>Maite</td><td>Heredia</td><td>8765.34</td></tr><tr><td>Amanda</td><td>Parra</td><td>8765.12</td></tr><tr><td>Adriana</td><td>Guerrero</td><td>8765.12</td></tr><tr><td>Alicia</td><td>Gutiérrez</td><td>8765.09</td></tr><tr><td>Fernanda</td><td>Tapia</td><td>7890.90</td></tr><tr><td>Natalia</td><td>Aguilar</td><td>7890.90</td></tr><tr><td>Elena</td><td>Santos</td><td>7890.89</td></tr><tr><td>Isadora</td><td>Echevarría</td><td>7890.78</td></tr><tr><td>Valentina</td><td>Piña</td><td>7890.56</td></tr><tr><td>Avril</td><td>Olmedo</td><td>7890.56</td></tr><tr><td>Carolina</td><td>Pardo</td><td>7890.34</td></tr><tr><td>Florencia</td><td>Quintana</td><td>7890.34</td></tr><tr><td>Ana</td><td>Martínez</td><td>7890.25</td></tr><tr><td>Bautista</td><td>Contreras</td><td>7890.12</td></tr><tr><td>Sofía</td><td>Uribe</td><td>7890.12</td></tr><tr><td>Marta</td><td>Jiménez</td><td>7890.12</td></tr><tr><td>Rebeca</td><td>Cisneros</td><td>6789.90</td></tr><tr><td>Paloma</td><td>Espinoza</td><td>6789.90</td></tr><tr><td>Claudia</td><td>Suárez</td><td>6789.78</td></tr><tr><td>Bianca</td><td>Rendón</td><td>6789.78</td></tr><tr><td>Antonella</td><td>Rincón</td><td>6789.56</td></tr><tr><td>Tristán</td><td>Sepúlveda</td><td>6789.56</td></tr><tr><td>Carla</td><td>Ruiz</td><td>6789.34</td></tr><tr><td>Gabriela</td><td>Arias</td><td>6789.34</td></tr><tr><td>Dulce</td><td>Quintero</td><td>6789.34</td></tr><tr><td>Cristina</td><td>Molina</td><td>6789.12</td></tr><tr><td>Antonia</td><td>Zúñiga</td><td>6789.12</td></tr><tr><td>Laura</td><td>Fernández</td><td>6789.01</td></tr><tr><td>Tomás</td><td>Castañeda</td><td>5678.90</td></tr><tr><td>Andrés</td><td>Herrera</td><td>5678.90</td></tr><tr><td>Amelia</td><td>Peña</td><td>5678.90</td></tr><tr><td>Salvador</td><td>Morales</td><td>5678.78</td></tr><tr><td>Gustavo</td><td>Hidalgo</td><td>5678.78</td></tr><tr><td>Óscar</td><td>Ramos</td><td>5678.67</td></tr><tr><td>Esmeralda</td><td>Vigil</td><td>5678.56</td></tr><tr><td>Joaquín</td><td>Cáceres</td><td>5678.56</td></tr><tr><td>Leonardo</td><td>Escobar</td><td>5678.34</td></tr><tr><td>Ignacio</td><td>Solís</td><td>5678.34</td></tr><tr><td>Juan</td><td>Pérez</td><td>5678.25</td></tr><tr><td>Roberto</td><td>Sáez</td><td>5678.12</td></tr><tr><td>Ezequiel</td><td>Montero</td><td>5678.12</td></tr><tr><td>Nicolás</td><td>Ledesma</td><td>4567.90</td></tr><tr><td>Máximo</td><td>Saldivar</td><td>4567.90</td></tr><tr><td>Sergio</td><td>Navarro</td><td>4567.89</td></tr><tr><td>Maximiliano</td><td>Yáñez</td><td>4567.78</td></tr><tr><td>Pablo</td><td>Ortega</td><td>4567.78</td></tr><tr><td>Emiliano</td><td>Salcedo</td><td>4567.56</td></tr><tr><td>Gael</td><td>Bernal</td><td>4567.56</td></tr><tr><td>Emilio</td><td>Crespo</td><td>4567.34</td></tr><tr><td>Ernesto</td><td>Montes</td><td>4567.34</td></tr><tr><td>Raúl</td><td>Vázquez</td><td>4567.23</td></tr><tr><td>Benjamín</td><td>Carvajal</td><td>4567.12</td></tr><tr><td>Dafne</td><td>Robles</td><td>4567.12</td></tr><tr><td>Lucas</td><td>Pizarro</td><td>3456.90</td></tr><tr><td>Carlos</td><td>Sánchez</td><td>3456.78</td></tr><tr><td>Leonel</td><td>Urrutia</td><td>3456.78</td></tr><tr><td>Damián</td><td>Arce</td><td>3456.78</td></tr><tr><td>Luis</td><td>Moreno</td><td>3456.78</td></tr><tr><td>David</td><td>Rojas</td><td>3456.56</td></tr><tr><td>Thiago</td><td>Olivares</td><td>3456.56</td></tr><tr><td>Luciana</td><td>Velázquez</td><td>3456.34</td></tr><tr><td>Martín</td><td>Salinas</td><td>3456.34</td></tr><tr><td>Emmanuel</td><td>Concha</td><td>3456.12</td></tr><tr><td>Rodrigo</td><td>Serrano</td><td>3456.12</td></tr><tr><td>Alejandro</td><td>Flores</td><td>3456.01</td></tr><tr><td>Francisco</td><td>Ríos</td><td>2345.90</td></tr><tr><td>Cristóbal</td><td>Palacios</td><td>2345.90</td></tr><tr><td>Santiago</td><td>Estrada</td><td>2345.78</td></tr><tr><td>Jimena</td><td>Galindo</td><td>2345.78</td></tr><tr><td>Javier</td><td>Gómez</td><td>2345.67</td></tr><tr><td>Juan</td><td>Pérez</td><td>2345.67</td></tr><tr><td>Diego</td><td>Álvarez</td><td>2345.67</td></tr><tr><td>Lisandro</td><td>Peralta</td><td>2345.56</td></tr><tr><td>Mateo</td><td>Córdoba</td><td>2345.56</td></tr><tr><td>Matías</td><td>Márquez</td><td>2345.34</td></tr><tr><td>Mario</td><td>Castillo</td><td>2345.34</td></tr><tr><td>Samuel</td><td>Villalobos</td><td>2345.12</td></tr><tr><td>Fabrizio</td><td>Mora</td><td>2345.12</td></tr><tr><td>Pedro</td><td>Rodríguez</td><td>1234.56</td></tr></table>"
                    },
                    "metadata": {}
                }
            ],
            "execution_count": 18
        },
        {
            "cell_type": "markdown",
            "source": [
                "**4. ¿Cuántas cuentas de ahorros hay en total?**"
            ],
            "metadata": {
                "language": "sql",
                "azdata_cell_guid": "9c7cf9a7-f26b-486f-a921-5cbf302fb0de"
            },
            "attachments": {}
        },
        {
            "cell_type": "code",
            "source": [
                "SELECT COUNT(*) AS 'Cuentas de Ahorros' FROM bank.Cuentas WHERE TipoCuenta = 'Ahorros';"
            ],
            "metadata": {
                "language": "sql",
                "azdata_cell_guid": "d7e68b92-56a0-4ece-9249-93c01c8069e2"
            },
            "outputs": [
                {
                    "output_type": "display_data",
                    "data": {
                        "text/html": "(1 row(s) affected)"
                    },
                    "metadata": {}
                },
                {
                    "output_type": "display_data",
                    "data": {
                        "text/html": "Total execution time: 00:00:01.005"
                    },
                    "metadata": {}
                },
                {
                    "output_type": "execute_result",
                    "execution_count": 11,
                    "data": {
                        "application/vnd.dataresource+json": {
                            "schema": {
                                "fields": [
                                    {
                                        "name": "Cuentas de Ahorros"
                                    }
                                ]
                            },
                            "data": [
                                {
                                    "Cuentas de Ahorros": "50"
                                }
                            ]
                        },
                        "text/html": "<table><tr><th>Cuentas de Ahorros</th></tr><tr><td>50</td></tr></table>"
                    },
                    "metadata": {}
                }
            ],
            "execution_count": 11
        },
        {
            "cell_type": "markdown",
            "source": [
                "**5. ¿Cuál es el monto total de depósitos realizados?**"
            ],
            "metadata": {
                "language": "sql",
                "azdata_cell_guid": "3c0bfcd9-91c1-4066-8e35-5b1f46d4ccf9"
            },
            "attachments": {}
        },
        {
            "cell_type": "code",
            "source": [
                "SELECT SUM(Monto) AS 'Total Depósitos' FROM bank.Transacciones WHERE Tipo = 'Depósito';"
            ],
            "metadata": {
                "language": "sql",
                "azdata_cell_guid": "a488a75f-4686-451b-bec9-51395773b8d4"
            },
            "outputs": [
                {
                    "output_type": "display_data",
                    "data": {
                        "text/html": "(1 row(s) affected)"
                    },
                    "metadata": {}
                },
                {
                    "output_type": "display_data",
                    "data": {
                        "text/html": "Total execution time: 00:00:01.008"
                    },
                    "metadata": {}
                },
                {
                    "output_type": "execute_result",
                    "execution_count": 13,
                    "data": {
                        "application/vnd.dataresource+json": {
                            "schema": {
                                "fields": [
                                    {
                                        "name": "Total Depósitos"
                                    }
                                ]
                            },
                            "data": [
                                {
                                    "Total Depósitos": "64700.00"
                                }
                            ]
                        },
                        "text/html": "<table><tr><th>Total Depósitos</th></tr><tr><td>64700.00</td></tr></table>"
                    },
                    "metadata": {}
                }
            ],
            "execution_count": 13
        },
        {
            "cell_type": "markdown",
            "source": [
                "**6. ¿Cuál es el cliente con la mayor cantidad de cuentas?**"
            ],
            "metadata": {
                "language": "sql",
                "azdata_cell_guid": "270047de-c4af-4277-bbdf-2cd42dea41ee"
            },
            "attachments": {}
        },
        {
            "cell_type": "code",
            "source": [
                "SELECT Nombre, Apellido, COUNT(CuentaID) AS 'Cantidad de Cuentas'\r\n",
                "FROM bank.Clientes c\r\n",
                "JOIN bank.Cuentas cu ON c.ClienteID = cu.ClienteID\r\n",
                "GROUP BY c.ClienteID\r\n",
                "ORDER BY 'Cantidad de Cuentas' DESC\r\n",
                "-- LIMIT 1;"
            ],
            "metadata": {
                "language": "sql",
                "azdata_cell_guid": "88d752cc-0ac3-4ad3-bb32-98ba1e368566"
            },
            "outputs": [
                {
                    "output_type": "display_data",
                    "data": {
                        "text/html": "(99 row(s) affected)"
                    },
                    "metadata": {}
                },
                {
                    "output_type": "display_data",
                    "data": {
                        "text/html": "Total execution time: 00:00:01.009"
                    },
                    "metadata": {}
                },
                {
                    "output_type": "execute_result",
                    "execution_count": 17,
                    "data": {
                        "application/vnd.dataresource+json": {
                            "schema": {
                                "fields": [
                                    {
                                        "name": "Nombre"
                                    },
                                    {
                                        "name": "Apellido"
                                    },
                                    {
                                        "name": "Cantidad de Cuentas"
                                    }
                                ]
                            },
                            "data": [
                                {
                                    "Nombre": "Juan",
                                    "Apellido": "Pérez",
                                    "Cantidad de Cuentas": "2"
                                },
                                {
                                    "Nombre": "María",
                                    "Apellido": "García",
                                    "Cantidad de Cuentas": "1"
                                },
                                {
                                    "Nombre": "Pedro",
                                    "Apellido": "Rodríguez",
                                    "Cantidad de Cuentas": "1"
                                },
                                {
                                    "Nombre": "Ana",
                                    "Apellido": "Martínez",
                                    "Cantidad de Cuentas": "1"
                                },
                                {
                                    "Nombre": "Carlos",
                                    "Apellido": "Sánchez",
                                    "Cantidad de Cuentas": "1"
                                },
                                {
                                    "Nombre": "Laura",
                                    "Apellido": "Fernández",
                                    "Cantidad de Cuentas": "1"
                                },
                                {
                                    "Nombre": "Javier",
                                    "Apellido": "Gómez",
                                    "Cantidad de Cuentas": "1"
                                },
                                {
                                    "Nombre": "Sofía",
                                    "Apellido": "Torres",
                                    "Cantidad de Cuentas": "1"
                                },
                                {
                                    "Nombre": "Sergio",
                                    "Apellido": "Navarro",
                                    "Cantidad de Cuentas": "1"
                                },
                                {
                                    "Nombre": "Isabel",
                                    "Apellido": "Ramírez",
                                    "Cantidad de Cuentas": "1"
                                },
                                {
                                    "Nombre": "Andrés",
                                    "Apellido": "Herrera",
                                    "Cantidad de Cuentas": "1"
                                },
                                {
                                    "Nombre": "Marta",
                                    "Apellido": "Jiménez",
                                    "Cantidad de Cuentas": "1"
                                },
                                {
                                    "Nombre": "Luis",
                                    "Apellido": "Moreno",
                                    "Cantidad de Cuentas": "1"
                                },
                                {
                                    "Nombre": "Carla",
                                    "Apellido": "Ruiz",
                                    "Cantidad de Cuentas": "1"
                                },
                                {
                                    "Nombre": "Diego",
                                    "Apellido": "Álvarez",
                                    "Cantidad de Cuentas": "1"
                                },
                                {
                                    "Nombre": "Alicia",
                                    "Apellido": "Gutiérrez",
                                    "Cantidad de Cuentas": "1"
                                },
                                {
                                    "Nombre": "Raúl",
                                    "Apellido": "Vázquez",
                                    "Cantidad de Cuentas": "1"
                                },
                                {
                                    "Nombre": "Lucía",
                                    "Apellido": "Romero",
                                    "Cantidad de Cuentas": "1"
                                },
                                {
                                    "Nombre": "Óscar",
                                    "Apellido": "Ramos",
                                    "Cantidad de Cuentas": "1"
                                },
                                {
                                    "Nombre": "Elena",
                                    "Apellido": "Santos",
                                    "Cantidad de Cuentas": "1"
                                },
                                {
                                    "Nombre": "Alejandro",
                                    "Apellido": "Flores",
                                    "Cantidad de Cuentas": "1"
                                },
                                {
                                    "Nombre": "Cristina",
                                    "Apellido": "Molina",
                                    "Cantidad de Cuentas": "1"
                                },
                                {
                                    "Nombre": "Mario",
                                    "Apellido": "Castillo",
                                    "Cantidad de Cuentas": "1"
                                },
                                {
                                    "Nombre": "Daniela",
                                    "Apellido": "Cabrera",
                                    "Cantidad de Cuentas": "1"
                                },
                                {
                                    "Nombre": "Pablo",
                                    "Apellido": "Ortega",
                                    "Cantidad de Cuentas": "1"
                                },
                                {
                                    "Nombre": "Silvia",
                                    "Apellido": "Vargas",
                                    "Cantidad de Cuentas": "1"
                                },
                                {
                                    "Nombre": "Roberto",
                                    "Apellido": "Sáez",
                                    "Cantidad de Cuentas": "1"
                                },
                                {
                                    "Nombre": "Carolina",
                                    "Apellido": "Pardo",
                                    "Cantidad de Cuentas": "1"
                                },
                                {
                                    "Nombre": "David",
                                    "Apellido": "Rojas",
                                    "Cantidad de Cuentas": "1"
                                },
                                {
                                    "Nombre": "Claudia",
                                    "Apellido": "Suárez",
                                    "Cantidad de Cuentas": "1"
                                },
                                {
                                    "Nombre": "Francisco",
                                    "Apellido": "Ríos",
                                    "Cantidad de Cuentas": "1"
                                },
                                {
                                    "Nombre": "Adriana",
                                    "Apellido": "Guerrero",
                                    "Cantidad de Cuentas": "1"
                                },
                                {
                                    "Nombre": "Ernesto",
                                    "Apellido": "Montes",
                                    "Cantidad de Cuentas": "1"
                                },
                                {
                                    "Nombre": "Valeria",
                                    "Apellido": "Espinosa",
                                    "Cantidad de Cuentas": "1"
                                },
                                {
                                    "Nombre": "Gustavo",
                                    "Apellido": "Hidalgo",
                                    "Cantidad de Cuentas": "1"
                                },
                                {
                                    "Nombre": "Natalia",
                                    "Apellido": "Aguilar",
                                    "Cantidad de Cuentas": "1"
                                },
                                {
                                    "Nombre": "Rodrigo",
                                    "Apellido": "Serrano",
                                    "Cantidad de Cuentas": "1"
                                },
                                {
                                    "Nombre": "Gabriela",
                                    "Apellido": "Arias",
                                    "Cantidad de Cuentas": "1"
                                },
                                {
                                    "Nombre": "Mateo",
                                    "Apellido": "Córdoba",
                                    "Cantidad de Cuentas": "1"
                                },
                                {
                                    "Nombre": "Camila",
                                    "Apellido": "Acosta",
                                    "Cantidad de Cuentas": "1"
                                },
                                {
                                    "Nombre": "Nicolás",
                                    "Apellido": "Ledesma",
                                    "Cantidad de Cuentas": "1"
                                },
                                {
                                    "Nombre": "Mariana",
                                    "Apellido": "Pizarro",
                                    "Cantidad de Cuentas": "1"
                                },
                                {
                                    "Nombre": "Leonardo",
                                    "Apellido": "Escobar",
                                    "Cantidad de Cuentas": "1"
                                },
                                {
                                    "Nombre": "Valentina",
                                    "Apellido": "Piña",
                                    "Cantidad de Cuentas": "1"
                                },
                                {
                                    "Nombre": "Damián",
                                    "Apellido": "Arce",
                                    "Cantidad de Cuentas": "1"
                                },
                                {
                                    "Nombre": "Rebeca",
                                    "Apellido": "Cisneros",
                                    "Cantidad de Cuentas": "1"
                                },
                                {
                                    "Nombre": "Samuel",
                                    "Apellido": "Villalobos",
                                    "Cantidad de Cuentas": "1"
                                },
                                {
                                    "Nombre": "Renata",
                                    "Apellido": "Segovia",
                                    "Cantidad de Cuentas": "1"
                                },
                                {
                                    "Nombre": "Emiliano",
                                    "Apellido": "Salcedo",
                                    "Cantidad de Cuentas": "1"
                                },
                                {
                                    "Nombre": "Isabella",
                                    "Apellido": "Quintero",
                                    "Cantidad de Cuentas": "1"
                                },
                                {
                                    "Nombre": "Tomás",
                                    "Apellido": "Castañeda",
                                    "Cantidad de Cuentas": "1"
                                },
                                {
                                    "Nombre": "Sofía",
                                    "Apellido": "Uribe",
                                    "Cantidad de Cuentas": "1"
                                },
                                {
                                    "Nombre": "Martín",
                                    "Apellido": "Salinas",
                                    "Cantidad de Cuentas": "1"
                                },
                                {
                                    "Nombre": "Antonella",
                                    "Apellido": "Rincón",
                                    "Cantidad de Cuentas": "1"
                                },
                                {
                                    "Nombre": "Santiago",
                                    "Apellido": "Estrada",
                                    "Cantidad de Cuentas": "1"
                                },
                                {
                                    "Nombre": "Catalina",
                                    "Apellido": "Solano",
                                    "Cantidad de Cuentas": "1"
                                },
                                {
                                    "Nombre": "Benjamín",
                                    "Apellido": "Carvajal",
                                    "Cantidad de Cuentas": "1"
                                },
                                {
                                    "Nombre": "Constanza",
                                    "Apellido": "Avendaño",
                                    "Cantidad de Cuentas": "1"
                                },
                                {
                                    "Nombre": "Joaquín",
                                    "Apellido": "Cáceres",
                                    "Cantidad de Cuentas": "1"
                                },
                                {
                                    "Nombre": "Isadora",
                                    "Apellido": "Echevarría",
                                    "Cantidad de Cuentas": "1"
                                },
                                {
                                    "Nombre": "Lucas",
                                    "Apellido": "Pizarro",
                                    "Cantidad de Cuentas": "1"
                                },
                                {
                                    "Nombre": "Antonia",
                                    "Apellido": "Zúñiga",
                                    "Cantidad de Cuentas": "1"
                                },
                                {
                                    "Nombre": "Matías",
                                    "Apellido": "Márquez",
                                    "Cantidad de Cuentas": "1"
                                },
                                {
                                    "Nombre": "Rafaela",
                                    "Apellido": "Acuña",
                                    "Cantidad de Cuentas": "1"
                                },
                                {
                                    "Nombre": "Maximiliano",
                                    "Apellido": "Yáñez",
                                    "Cantidad de Cuentas": "1"
                                },
                                {
                                    "Nombre": "Julieta",
                                    "Apellido": "Baeza",
                                    "Cantidad de Cuentas": "1"
                                },
                                {
                                    "Nombre": "Ezequiel",
                                    "Apellido": "Montero",
                                    "Cantidad de Cuentas": "1"
                                },
                                {
                                    "Nombre": "Florencia",
                                    "Apellido": "Quintana",
                                    "Cantidad de Cuentas": "1"
                                },
                                {
                                    "Nombre": "Thiago",
                                    "Apellido": "Olivares",
                                    "Cantidad de Cuentas": "1"
                                },
                                {
                                    "Nombre": "Bianca",
                                    "Apellido": "Rendón",
                                    "Cantidad de Cuentas": "1"
                                },
                                {
                                    "Nombre": "Cristóbal",
                                    "Apellido": "Palacios",
                                    "Cantidad de Cuentas": "1"
                                },
                                {
                                    "Nombre": "Amanda",
                                    "Apellido": "Parra",
                                    "Cantidad de Cuentas": "1"
                                },
                                {
                                    "Nombre": "Emilio",
                                    "Apellido": "Crespo",
                                    "Cantidad de Cuentas": "1"
                                },
                                {
                                    "Nombre": "Ariana",
                                    "Apellido": "Henríquez",
                                    "Cantidad de Cuentas": "1"
                                },
                                {
                                    "Nombre": "Salvador",
                                    "Apellido": "Morales",
                                    "Cantidad de Cuentas": "1"
                                },
                                {
                                    "Nombre": "Fernanda",
                                    "Apellido": "Tapia",
                                    "Cantidad de Cuentas": "1"
                                },
                                {
                                    "Nombre": "Emmanuel",
                                    "Apellido": "Concha",
                                    "Cantidad de Cuentas": "1"
                                },
                                {
                                    "Nombre": "Dulce",
                                    "Apellido": "Quintero",
                                    "Cantidad de Cuentas": "1"
                                },
                                {
                                    "Nombre": "Lisandro",
                                    "Apellido": "Peralta",
                                    "Cantidad de Cuentas": "1"
                                },
                                {
                                    "Nombre": "Luana",
                                    "Apellido": "Santamaría",
                                    "Cantidad de Cuentas": "1"
                                },
                                {
                                    "Nombre": "Máximo",
                                    "Apellido": "Saldivar",
                                    "Cantidad de Cuentas": "1"
                                },
                                {
                                    "Nombre": "Violeta",
                                    "Apellido": "Ugarte",
                                    "Cantidad de Cuentas": "1"
                                },
                                {
                                    "Nombre": "Ignacio",
                                    "Apellido": "Solís",
                                    "Cantidad de Cuentas": "1"
                                },
                                {
                                    "Nombre": "Avril",
                                    "Apellido": "Olmedo",
                                    "Cantidad de Cuentas": "1"
                                },
                                {
                                    "Nombre": "Leonel",
                                    "Apellido": "Urrutia",
                                    "Cantidad de Cuentas": "1"
                                },
                                {
                                    "Nombre": "Paloma",
                                    "Apellido": "Espinoza",
                                    "Cantidad de Cuentas": "1"
                                },
                                {
                                    "Nombre": "Fabrizio",
                                    "Apellido": "Mora",
                                    "Cantidad de Cuentas": "1"
                                },
                                {
                                    "Nombre": "Maite",
                                    "Apellido": "Heredia",
                                    "Cantidad de Cuentas": "1"
                                },
                                {
                                    "Nombre": "Gael",
                                    "Apellido": "Bernal",
                                    "Cantidad de Cuentas": "1"
                                },
                                {
                                    "Nombre": "Amelia",
                                    "Apellido": "Polo",
                                    "Cantidad de Cuentas": "1"
                                },
                                {
                                    "Nombre": "Amelia",
                                    "Apellido": "Peña",
                                    "Cantidad de Cuentas": "1"
                                },
                                {
                                    "Nombre": "Bautista",
                                    "Apellido": "Contreras",
                                    "Cantidad de Cuentas": "1"
                                },
                                {
                                    "Nombre": "Luciana",
                                    "Apellido": "Velázquez",
                                    "Cantidad de Cuentas": "1"
                                },
                                {
                                    "Nombre": "Tristán",
                                    "Apellido": "Sepúlveda",
                                    "Cantidad de Cuentas": "1"
                                },
                                {
                                    "Nombre": "Jimena",
                                    "Apellido": "Galindo",
                                    "Cantidad de Cuentas": "1"
                                },
                                {
                                    "Nombre": "Álvaro",
                                    "Apellido": "Leal",
                                    "Cantidad de Cuentas": "1"
                                },
                                {
                                    "Nombre": "Dafne",
                                    "Apellido": "Robles",
                                    "Cantidad de Cuentas": "1"
                                },
                                {
                                    "Nombre": "Ángel",
                                    "Apellido": "Zepeda",
                                    "Cantidad de Cuentas": "1"
                                },
                                {
                                    "Nombre": "Esmeralda",
                                    "Apellido": "Vigil",
                                    "Cantidad de Cuentas": "1"
                                }
                            ]
                        },
                        "text/html": "<table><tr><th>Nombre</th><th>Apellido</th><th>Cantidad de Cuentas</th></tr><tr><td>Juan</td><td>Pérez</td><td>2</td></tr><tr><td>María</td><td>García</td><td>1</td></tr><tr><td>Pedro</td><td>Rodríguez</td><td>1</td></tr><tr><td>Ana</td><td>Martínez</td><td>1</td></tr><tr><td>Carlos</td><td>Sánchez</td><td>1</td></tr><tr><td>Laura</td><td>Fernández</td><td>1</td></tr><tr><td>Javier</td><td>Gómez</td><td>1</td></tr><tr><td>Sofía</td><td>Torres</td><td>1</td></tr><tr><td>Sergio</td><td>Navarro</td><td>1</td></tr><tr><td>Isabel</td><td>Ramírez</td><td>1</td></tr><tr><td>Andrés</td><td>Herrera</td><td>1</td></tr><tr><td>Marta</td><td>Jiménez</td><td>1</td></tr><tr><td>Luis</td><td>Moreno</td><td>1</td></tr><tr><td>Carla</td><td>Ruiz</td><td>1</td></tr><tr><td>Diego</td><td>Álvarez</td><td>1</td></tr><tr><td>Alicia</td><td>Gutiérrez</td><td>1</td></tr><tr><td>Raúl</td><td>Vázquez</td><td>1</td></tr><tr><td>Lucía</td><td>Romero</td><td>1</td></tr><tr><td>Óscar</td><td>Ramos</td><td>1</td></tr><tr><td>Elena</td><td>Santos</td><td>1</td></tr><tr><td>Alejandro</td><td>Flores</td><td>1</td></tr><tr><td>Cristina</td><td>Molina</td><td>1</td></tr><tr><td>Mario</td><td>Castillo</td><td>1</td></tr><tr><td>Daniela</td><td>Cabrera</td><td>1</td></tr><tr><td>Pablo</td><td>Ortega</td><td>1</td></tr><tr><td>Silvia</td><td>Vargas</td><td>1</td></tr><tr><td>Roberto</td><td>Sáez</td><td>1</td></tr><tr><td>Carolina</td><td>Pardo</td><td>1</td></tr><tr><td>David</td><td>Rojas</td><td>1</td></tr><tr><td>Claudia</td><td>Suárez</td><td>1</td></tr><tr><td>Francisco</td><td>Ríos</td><td>1</td></tr><tr><td>Adriana</td><td>Guerrero</td><td>1</td></tr><tr><td>Ernesto</td><td>Montes</td><td>1</td></tr><tr><td>Valeria</td><td>Espinosa</td><td>1</td></tr><tr><td>Gustavo</td><td>Hidalgo</td><td>1</td></tr><tr><td>Natalia</td><td>Aguilar</td><td>1</td></tr><tr><td>Rodrigo</td><td>Serrano</td><td>1</td></tr><tr><td>Gabriela</td><td>Arias</td><td>1</td></tr><tr><td>Mateo</td><td>Córdoba</td><td>1</td></tr><tr><td>Camila</td><td>Acosta</td><td>1</td></tr><tr><td>Nicolás</td><td>Ledesma</td><td>1</td></tr><tr><td>Mariana</td><td>Pizarro</td><td>1</td></tr><tr><td>Leonardo</td><td>Escobar</td><td>1</td></tr><tr><td>Valentina</td><td>Piña</td><td>1</td></tr><tr><td>Damián</td><td>Arce</td><td>1</td></tr><tr><td>Rebeca</td><td>Cisneros</td><td>1</td></tr><tr><td>Samuel</td><td>Villalobos</td><td>1</td></tr><tr><td>Renata</td><td>Segovia</td><td>1</td></tr><tr><td>Emiliano</td><td>Salcedo</td><td>1</td></tr><tr><td>Isabella</td><td>Quintero</td><td>1</td></tr><tr><td>Tomás</td><td>Castañeda</td><td>1</td></tr><tr><td>Sofía</td><td>Uribe</td><td>1</td></tr><tr><td>Martín</td><td>Salinas</td><td>1</td></tr><tr><td>Antonella</td><td>Rincón</td><td>1</td></tr><tr><td>Santiago</td><td>Estrada</td><td>1</td></tr><tr><td>Catalina</td><td>Solano</td><td>1</td></tr><tr><td>Benjamín</td><td>Carvajal</td><td>1</td></tr><tr><td>Constanza</td><td>Avendaño</td><td>1</td></tr><tr><td>Joaquín</td><td>Cáceres</td><td>1</td></tr><tr><td>Isadora</td><td>Echevarría</td><td>1</td></tr><tr><td>Lucas</td><td>Pizarro</td><td>1</td></tr><tr><td>Antonia</td><td>Zúñiga</td><td>1</td></tr><tr><td>Matías</td><td>Márquez</td><td>1</td></tr><tr><td>Rafaela</td><td>Acuña</td><td>1</td></tr><tr><td>Maximiliano</td><td>Yáñez</td><td>1</td></tr><tr><td>Julieta</td><td>Baeza</td><td>1</td></tr><tr><td>Ezequiel</td><td>Montero</td><td>1</td></tr><tr><td>Florencia</td><td>Quintana</td><td>1</td></tr><tr><td>Thiago</td><td>Olivares</td><td>1</td></tr><tr><td>Bianca</td><td>Rendón</td><td>1</td></tr><tr><td>Cristóbal</td><td>Palacios</td><td>1</td></tr><tr><td>Amanda</td><td>Parra</td><td>1</td></tr><tr><td>Emilio</td><td>Crespo</td><td>1</td></tr><tr><td>Ariana</td><td>Henríquez</td><td>1</td></tr><tr><td>Salvador</td><td>Morales</td><td>1</td></tr><tr><td>Fernanda</td><td>Tapia</td><td>1</td></tr><tr><td>Emmanuel</td><td>Concha</td><td>1</td></tr><tr><td>Dulce</td><td>Quintero</td><td>1</td></tr><tr><td>Lisandro</td><td>Peralta</td><td>1</td></tr><tr><td>Luana</td><td>Santamaría</td><td>1</td></tr><tr><td>Máximo</td><td>Saldivar</td><td>1</td></tr><tr><td>Violeta</td><td>Ugarte</td><td>1</td></tr><tr><td>Ignacio</td><td>Solís</td><td>1</td></tr><tr><td>Avril</td><td>Olmedo</td><td>1</td></tr><tr><td>Leonel</td><td>Urrutia</td><td>1</td></tr><tr><td>Paloma</td><td>Espinoza</td><td>1</td></tr><tr><td>Fabrizio</td><td>Mora</td><td>1</td></tr><tr><td>Maite</td><td>Heredia</td><td>1</td></tr><tr><td>Gael</td><td>Bernal</td><td>1</td></tr><tr><td>Amelia</td><td>Polo</td><td>1</td></tr><tr><td>Amelia</td><td>Peña</td><td>1</td></tr><tr><td>Bautista</td><td>Contreras</td><td>1</td></tr><tr><td>Luciana</td><td>Velázquez</td><td>1</td></tr><tr><td>Tristán</td><td>Sepúlveda</td><td>1</td></tr><tr><td>Jimena</td><td>Galindo</td><td>1</td></tr><tr><td>Álvaro</td><td>Leal</td><td>1</td></tr><tr><td>Dafne</td><td>Robles</td><td>1</td></tr><tr><td>Ángel</td><td>Zepeda</td><td>1</td></tr><tr><td>Esmeralda</td><td>Vigil</td><td>1</td></tr></table>"
                    },
                    "metadata": {}
                }
            ],
            "execution_count": 17
        },
        {
            "cell_type": "markdown",
            "source": [
                "**7. ¿Cuál es la ciudad con más clientes?**"
            ],
            "metadata": {
                "language": "sql",
                "azdata_cell_guid": "c97d8e7a-052e-4258-830b-7fee292ebac4"
            },
            "attachments": {}
        },
        {
            "cell_type": "code",
            "source": [
                "SELECT Ciudad, COUNT(*) AS 'Cantidad de Clientes'\r\n",
                "FROM bank.Clientes\r\n",
                "GROUP BY Ciudad\r\n",
                "ORDER BY 'Cantidad de Clientes' DESC\r\n",
                "-- LIMIT 1;"
            ],
            "metadata": {
                "language": "sql",
                "azdata_cell_guid": "15e49192-1095-4b90-bd02-6d6fdf6d706d"
            },
            "outputs": [
                {
                    "output_type": "display_data",
                    "data": {
                        "text/html": "(10 row(s) affected)"
                    },
                    "metadata": {}
                },
                {
                    "output_type": "display_data",
                    "data": {
                        "text/html": "Total execution time: 00:00:01.004"
                    },
                    "metadata": {}
                },
                {
                    "output_type": "execute_result",
                    "execution_count": 19,
                    "data": {
                        "application/vnd.dataresource+json": {
                            "schema": {
                                "fields": [
                                    {
                                        "name": "Ciudad"
                                    },
                                    {
                                        "name": "Cantidad de Clientes"
                                    }
                                ]
                            },
                            "data": [
                                {
                                    "Ciudad": "Madrid",
                                    "Cantidad de Clientes": "20"
                                },
                                {
                                    "Ciudad": "Barcelona",
                                    "Cantidad de Clientes": "24"
                                },
                                {
                                    "Ciudad": "Sevilla",
                                    "Cantidad de Clientes": "14"
                                },
                                {
                                    "Ciudad": "Valencia",
                                    "Cantidad de Clientes": "10"
                                },
                                {
                                    "Ciudad": "Bilbao",
                                    "Cantidad de Clientes": "2"
                                },
                                {
                                    "Ciudad": "Málaga",
                                    "Cantidad de Clientes": "10"
                                },
                                {
                                    "Ciudad": "Alicante",
                                    "Cantidad de Clientes": "7"
                                },
                                {
                                    "Ciudad": "Palma de Mallorca",
                                    "Cantidad de Clientes": "1"
                                },
                                {
                                    "Ciudad": "Zaragoza",
                                    "Cantidad de Clientes": "11"
                                },
                                {
                                    "Ciudad": "Pamplona",
                                    "Cantidad de Clientes": "1"
                                }
                            ]
                        },
                        "text/html": "<table><tr><th>Ciudad</th><th>Cantidad de Clientes</th></tr><tr><td>Madrid</td><td>20</td></tr><tr><td>Barcelona</td><td>24</td></tr><tr><td>Sevilla</td><td>14</td></tr><tr><td>Valencia</td><td>10</td></tr><tr><td>Bilbao</td><td>2</td></tr><tr><td>Málaga</td><td>10</td></tr><tr><td>Alicante</td><td>7</td></tr><tr><td>Palma de Mallorca</td><td>1</td></tr><tr><td>Zaragoza</td><td>11</td></tr><tr><td>Pamplona</td><td>1</td></tr></table>"
                    },
                    "metadata": {}
                }
            ],
            "execution_count": 19
        },
        {
            "cell_type": "markdown",
            "source": [
                "**8. ¿Cuál es el monto promedio de los retiros?**"
            ],
            "metadata": {
                "language": "sql",
                "azdata_cell_guid": "e03254dc-ce67-4f5f-92f5-e529dcfda25c"
            },
            "attachments": {}
        },
        {
            "cell_type": "code",
            "source": [
                "SELECT AVG(Monto) AS 'Promedio de Retiros' FROM bank.Transacciones WHERE Tipo = 'Retiro';"
            ],
            "metadata": {
                "language": "sql",
                "azdata_cell_guid": "211b9f85-fe2d-481b-a634-461b1496c4ac"
            },
            "outputs": [
                {
                    "output_type": "display_data",
                    "data": {
                        "text/html": "(1 row(s) affected)"
                    },
                    "metadata": {}
                },
                {
                    "output_type": "display_data",
                    "data": {
                        "text/html": "Total execution time: 00:00:01.025"
                    },
                    "metadata": {}
                },
                {
                    "output_type": "execute_result",
                    "execution_count": 20,
                    "data": {
                        "application/vnd.dataresource+json": {
                            "schema": {
                                "fields": [
                                    {
                                        "name": "Promedio de Retiros"
                                    }
                                ]
                            },
                            "data": [
                                {
                                    "Promedio de Retiros": "260.800000"
                                }
                            ]
                        },
                        "text/html": "<table><tr><th>Promedio de Retiros</th></tr><tr><td>260.800000</td></tr></table>"
                    },
                    "metadata": {}
                }
            ],
            "execution_count": 20
        },
        {
            "cell_type": "markdown",
            "source": [
                "**9. ¿Cuáles son los clientes que no tienen cuentas?**"
            ],
            "metadata": {
                "language": "sql",
                "azdata_cell_guid": "d82115b1-34f9-4cfe-89d9-01b717adfcbe"
            },
            "attachments": {}
        },
        {
            "cell_type": "code",
            "source": [
                "SELECT c.Nombre, c.Apellido\r\n",
                "FROM bank.Clientes c\r\n",
                "LEFT JOIN bank.Cuentas cu ON c.ClienteID = cu.ClienteID\r\n",
                "WHERE cu.CuentaID IS NULL;"
            ],
            "metadata": {
                "language": "sql",
                "azdata_cell_guid": "5566ae89-5776-4b60-bb68-c951301a5717"
            },
            "outputs": [
                {
                    "output_type": "display_data",
                    "data": {
                        "text/html": "(1 row(s) affected)"
                    },
                    "metadata": {}
                },
                {
                    "output_type": "display_data",
                    "data": {
                        "text/html": "Total execution time: 00:00:01.008"
                    },
                    "metadata": {}
                },
                {
                    "output_type": "execute_result",
                    "execution_count": 21,
                    "data": {
                        "application/vnd.dataresource+json": {
                            "schema": {
                                "fields": [
                                    {
                                        "name": "Nombre"
                                    },
                                    {
                                        "name": "Apellido"
                                    }
                                ]
                            },
                            "data": [
                                {
                                    "Nombre": "Pascual",
                                    "Apellido": "Betancourt"
                                }
                            ]
                        },
                        "text/html": "<table><tr><th>Nombre</th><th>Apellido</th></tr><tr><td>Pascual</td><td>Betancourt</td></tr></table>"
                    },
                    "metadata": {}
                }
            ],
            "execution_count": 21
        },
        {
            "cell_type": "markdown",
            "source": [
                "**10. ¿Cuál es la cuenta con la mayor cantidad de transacciones?**"
            ],
            "metadata": {
                "language": "sql",
                "azdata_cell_guid": "df08c407-0830-427d-b20b-89fe31f70018"
            },
            "attachments": {}
        },
        {
            "cell_type": "code",
            "source": [
                "SELECT cu.CuentaID, COUNT(t.TransaccionID) AS 'Cantidad de Transacciones'\r\n",
                "FROM bank.Cuentas cu\r\n",
                "JOIN bank.Transacciones t ON cu.CuentaID = t.CuentaID\r\n",
                "GROUP BY cu.CuentaID\r\n",
                "ORDER BY 'Cantidad de Transacciones' DESC\r\n",
                "-- LIMIT 1;"
            ],
            "metadata": {
                "language": "sql",
                "azdata_cell_guid": "4b1aeb8d-ac40-414c-9ee6-6be65778fb33"
            },
            "outputs": [
                {
                    "output_type": "display_data",
                    "data": {
                        "text/html": "(56 row(s) affected)"
                    },
                    "metadata": {}
                },
                {
                    "output_type": "display_data",
                    "data": {
                        "text/html": "Total execution time: 00:00:01.018"
                    },
                    "metadata": {}
                },
                {
                    "output_type": "execute_result",
                    "execution_count": 22,
                    "data": {
                        "application/vnd.dataresource+json": {
                            "schema": {
                                "fields": [
                                    {
                                        "name": "CuentaID"
                                    },
                                    {
                                        "name": "Cantidad de Transacciones"
                                    }
                                ]
                            },
                            "data": [
                                {
                                    "CuentaID": "1",
                                    "Cantidad de Transacciones": "2"
                                },
                                {
                                    "CuentaID": "2",
                                    "Cantidad de Transacciones": "2"
                                },
                                {
                                    "CuentaID": "3",
                                    "Cantidad de Transacciones": "2"
                                },
                                {
                                    "CuentaID": "4",
                                    "Cantidad de Transacciones": "2"
                                },
                                {
                                    "CuentaID": "5",
                                    "Cantidad de Transacciones": "2"
                                },
                                {
                                    "CuentaID": "6",
                                    "Cantidad de Transacciones": "2"
                                },
                                {
                                    "CuentaID": "7",
                                    "Cantidad de Transacciones": "2"
                                },
                                {
                                    "CuentaID": "8",
                                    "Cantidad de Transacciones": "2"
                                },
                                {
                                    "CuentaID": "9",
                                    "Cantidad de Transacciones": "2"
                                },
                                {
                                    "CuentaID": "10",
                                    "Cantidad de Transacciones": "2"
                                },
                                {
                                    "CuentaID": "11",
                                    "Cantidad de Transacciones": "2"
                                },
                                {
                                    "CuentaID": "12",
                                    "Cantidad de Transacciones": "2"
                                },
                                {
                                    "CuentaID": "13",
                                    "Cantidad de Transacciones": "2"
                                },
                                {
                                    "CuentaID": "14",
                                    "Cantidad de Transacciones": "2"
                                },
                                {
                                    "CuentaID": "15",
                                    "Cantidad de Transacciones": "2"
                                },
                                {
                                    "CuentaID": "16",
                                    "Cantidad de Transacciones": "2"
                                },
                                {
                                    "CuentaID": "17",
                                    "Cantidad de Transacciones": "2"
                                },
                                {
                                    "CuentaID": "18",
                                    "Cantidad de Transacciones": "2"
                                },
                                {
                                    "CuentaID": "19",
                                    "Cantidad de Transacciones": "2"
                                },
                                {
                                    "CuentaID": "20",
                                    "Cantidad de Transacciones": "2"
                                },
                                {
                                    "CuentaID": "21",
                                    "Cantidad de Transacciones": "2"
                                },
                                {
                                    "CuentaID": "22",
                                    "Cantidad de Transacciones": "2"
                                },
                                {
                                    "CuentaID": "23",
                                    "Cantidad de Transacciones": "2"
                                },
                                {
                                    "CuentaID": "24",
                                    "Cantidad de Transacciones": "2"
                                },
                                {
                                    "CuentaID": "25",
                                    "Cantidad de Transacciones": "2"
                                },
                                {
                                    "CuentaID": "26",
                                    "Cantidad de Transacciones": "2"
                                },
                                {
                                    "CuentaID": "27",
                                    "Cantidad de Transacciones": "2"
                                },
                                {
                                    "CuentaID": "28",
                                    "Cantidad de Transacciones": "2"
                                },
                                {
                                    "CuentaID": "29",
                                    "Cantidad de Transacciones": "2"
                                },
                                {
                                    "CuentaID": "30",
                                    "Cantidad de Transacciones": "2"
                                },
                                {
                                    "CuentaID": "31",
                                    "Cantidad de Transacciones": "2"
                                },
                                {
                                    "CuentaID": "32",
                                    "Cantidad de Transacciones": "2"
                                },
                                {
                                    "CuentaID": "33",
                                    "Cantidad de Transacciones": "2"
                                },
                                {
                                    "CuentaID": "34",
                                    "Cantidad de Transacciones": "2"
                                },
                                {
                                    "CuentaID": "35",
                                    "Cantidad de Transacciones": "2"
                                },
                                {
                                    "CuentaID": "36",
                                    "Cantidad de Transacciones": "2"
                                },
                                {
                                    "CuentaID": "37",
                                    "Cantidad de Transacciones": "2"
                                },
                                {
                                    "CuentaID": "38",
                                    "Cantidad de Transacciones": "2"
                                },
                                {
                                    "CuentaID": "39",
                                    "Cantidad de Transacciones": "2"
                                },
                                {
                                    "CuentaID": "40",
                                    "Cantidad de Transacciones": "2"
                                },
                                {
                                    "CuentaID": "41",
                                    "Cantidad de Transacciones": "2"
                                },
                                {
                                    "CuentaID": "42",
                                    "Cantidad de Transacciones": "2"
                                },
                                {
                                    "CuentaID": "43",
                                    "Cantidad de Transacciones": "2"
                                },
                                {
                                    "CuentaID": "44",
                                    "Cantidad de Transacciones": "2"
                                },
                                {
                                    "CuentaID": "45",
                                    "Cantidad de Transacciones": "1"
                                },
                                {
                                    "CuentaID": "46",
                                    "Cantidad de Transacciones": "1"
                                },
                                {
                                    "CuentaID": "47",
                                    "Cantidad de Transacciones": "1"
                                },
                                {
                                    "CuentaID": "48",
                                    "Cantidad de Transacciones": "1"
                                },
                                {
                                    "CuentaID": "49",
                                    "Cantidad de Transacciones": "1"
                                },
                                {
                                    "CuentaID": "50",
                                    "Cantidad de Transacciones": "1"
                                },
                                {
                                    "CuentaID": "51",
                                    "Cantidad de Transacciones": "1"
                                },
                                {
                                    "CuentaID": "52",
                                    "Cantidad de Transacciones": "1"
                                },
                                {
                                    "CuentaID": "53",
                                    "Cantidad de Transacciones": "1"
                                },
                                {
                                    "CuentaID": "54",
                                    "Cantidad de Transacciones": "1"
                                },
                                {
                                    "CuentaID": "55",
                                    "Cantidad de Transacciones": "1"
                                },
                                {
                                    "CuentaID": "56",
                                    "Cantidad de Transacciones": "1"
                                }
                            ]
                        },
                        "text/html": "<table><tr><th>CuentaID</th><th>Cantidad de Transacciones</th></tr><tr><td>1</td><td>2</td></tr><tr><td>2</td><td>2</td></tr><tr><td>3</td><td>2</td></tr><tr><td>4</td><td>2</td></tr><tr><td>5</td><td>2</td></tr><tr><td>6</td><td>2</td></tr><tr><td>7</td><td>2</td></tr><tr><td>8</td><td>2</td></tr><tr><td>9</td><td>2</td></tr><tr><td>10</td><td>2</td></tr><tr><td>11</td><td>2</td></tr><tr><td>12</td><td>2</td></tr><tr><td>13</td><td>2</td></tr><tr><td>14</td><td>2</td></tr><tr><td>15</td><td>2</td></tr><tr><td>16</td><td>2</td></tr><tr><td>17</td><td>2</td></tr><tr><td>18</td><td>2</td></tr><tr><td>19</td><td>2</td></tr><tr><td>20</td><td>2</td></tr><tr><td>21</td><td>2</td></tr><tr><td>22</td><td>2</td></tr><tr><td>23</td><td>2</td></tr><tr><td>24</td><td>2</td></tr><tr><td>25</td><td>2</td></tr><tr><td>26</td><td>2</td></tr><tr><td>27</td><td>2</td></tr><tr><td>28</td><td>2</td></tr><tr><td>29</td><td>2</td></tr><tr><td>30</td><td>2</td></tr><tr><td>31</td><td>2</td></tr><tr><td>32</td><td>2</td></tr><tr><td>33</td><td>2</td></tr><tr><td>34</td><td>2</td></tr><tr><td>35</td><td>2</td></tr><tr><td>36</td><td>2</td></tr><tr><td>37</td><td>2</td></tr><tr><td>38</td><td>2</td></tr><tr><td>39</td><td>2</td></tr><tr><td>40</td><td>2</td></tr><tr><td>41</td><td>2</td></tr><tr><td>42</td><td>2</td></tr><tr><td>43</td><td>2</td></tr><tr><td>44</td><td>2</td></tr><tr><td>45</td><td>1</td></tr><tr><td>46</td><td>1</td></tr><tr><td>47</td><td>1</td></tr><tr><td>48</td><td>1</td></tr><tr><td>49</td><td>1</td></tr><tr><td>50</td><td>1</td></tr><tr><td>51</td><td>1</td></tr><tr><td>52</td><td>1</td></tr><tr><td>53</td><td>1</td></tr><tr><td>54</td><td>1</td></tr><tr><td>55</td><td>1</td></tr><tr><td>56</td><td>1</td></tr></table>"
                    },
                    "metadata": {}
                }
            ],
            "execution_count": 22
        },
        {
            "cell_type": "markdown",
            "source": [
                "11. **¿Cuáles son los clientes que tienen cuentas de ahorros y corrientes?**"
            ],
            "metadata": {
                "language": "sql",
                "azdata_cell_guid": "e0d766b1-a3c0-47da-8cfc-afe16fefe6a9"
            },
            "attachments": {}
        },
        {
            "cell_type": "code",
            "source": [
                "SELECT Nombre, Apellido\r\n",
                "FROM bank.Clientes c\r\n",
                "JOIN bank.Cuentas cu1 ON c.ClienteID = cu1.ClienteID AND cu1.TipoCuenta = 'Ahorros'\r\n",
                "JOIN bank.Cuentas cu2 ON c.ClienteID = cu2.ClienteID AND cu2.TipoCuenta = 'Corriente'\r\n",
                "GROUP BY c.ClienteID;"
            ],
            "metadata": {
                "language": "sql",
                "azdata_cell_guid": "6a71fc93-8202-4934-9854-9d774a4d92ff",
                "tags": []
            },
            "outputs": [
                {
                    "output_type": "display_data",
                    "data": {
                        "text/html": "(1 row(s) affected)"
                    },
                    "metadata": {}
                },
                {
                    "output_type": "display_data",
                    "data": {
                        "text/html": "Total execution time: 00:00:01.023"
                    },
                    "metadata": {}
                },
                {
                    "output_type": "execute_result",
                    "execution_count": 23,
                    "data": {
                        "application/vnd.dataresource+json": {
                            "schema": {
                                "fields": [
                                    {
                                        "name": "Nombre"
                                    },
                                    {
                                        "name": "Apellido"
                                    }
                                ]
                            },
                            "data": [
                                {
                                    "Nombre": "Juan",
                                    "Apellido": "Pérez"
                                }
                            ]
                        },
                        "text/html": "<table><tr><th>Nombre</th><th>Apellido</th></tr><tr><td>Juan</td><td>Pérez</td></tr></table>"
                    },
                    "metadata": {}
                }
            ],
            "execution_count": 23
        },
        {
            "cell_type": "markdown",
            "source": [
                "**12\\. ¿Cuál es el monto total de transacciones por tipo (depósito, retiro, transferencia, pago)?**"
            ],
            "metadata": {
                "language": "sql",
                "azdata_cell_guid": "dfc452dc-9452-45cc-8b37-6f1b708b8902"
            },
            "attachments": {}
        },
        {
            "cell_type": "code",
            "source": [
                "SELECT Tipo, SUM(Monto) AS 'Monto Total'\r\n",
                "FROM bank.Transacciones\r\n",
                "GROUP BY Tipo;"
            ],
            "metadata": {
                "language": "sql",
                "azdata_cell_guid": "a1a07b29-8542-47c0-abb2-bb80148bd806"
            },
            "outputs": [
                {
                    "output_type": "display_data",
                    "data": {
                        "text/html": "(4 row(s) affected)"
                    },
                    "metadata": {}
                },
                {
                    "output_type": "display_data",
                    "data": {
                        "text/html": "Total execution time: 00:00:01.036"
                    },
                    "metadata": {}
                },
                {
                    "output_type": "execute_result",
                    "execution_count": 24,
                    "data": {
                        "application/vnd.dataresource+json": {
                            "schema": {
                                "fields": [
                                    {
                                        "name": "Tipo"
                                    },
                                    {
                                        "name": "Monto Total"
                                    }
                                ]
                            },
                            "data": [
                                {
                                    "Tipo": "Depósito",
                                    "Monto Total": "64700.00"
                                },
                                {
                                    "Tipo": "Retiro",
                                    "Monto Total": "6520.00"
                                },
                                {
                                    "Tipo": "Transferencia",
                                    "Monto Total": "35100.00"
                                },
                                {
                                    "Tipo": "Pago",
                                    "Monto Total": "11420.00"
                                }
                            ]
                        },
                        "text/html": "<table><tr><th>Tipo</th><th>Monto Total</th></tr><tr><td>Depósito</td><td>64700.00</td></tr><tr><td>Retiro</td><td>6520.00</td></tr><tr><td>Transferencia</td><td>35100.00</td></tr><tr><td>Pago</td><td>11420.00</td></tr></table>"
                    },
                    "metadata": {}
                }
            ],
            "execution_count": 24
        },
        {
            "cell_type": "markdown",
            "source": [
                "**13. ¿Cuál es la cuenta con el saldo más bajo?**"
            ],
            "metadata": {
                "language": "sql",
                "azdata_cell_guid": "baddb33c-f50c-4d53-bfab-8b9a6c6f7916"
            },
            "attachments": {}
        },
        {
            "cell_type": "code",
            "source": [
                "SELECT CuentaID, Saldo\r\n",
                "FROM bank.Cuentas\r\n",
                "ORDER BY Saldo ASC\r\n",
                "-- LIMIT 1;"
            ],
            "metadata": {
                "language": "sql",
                "azdata_cell_guid": "a9410cf5-9df9-452c-94cf-0a1680857f31"
            },
            "outputs": [
                {
                    "output_type": "display_data",
                    "data": {
                        "text/html": "(100 row(s) affected)"
                    },
                    "metadata": {}
                },
                {
                    "output_type": "display_data",
                    "data": {
                        "text/html": "Total execution time: 00:00:01.007"
                    },
                    "metadata": {}
                },
                {
                    "output_type": "execute_result",
                    "execution_count": 25,
                    "data": {
                        "application/vnd.dataresource+json": {
                            "schema": {
                                "fields": [
                                    {
                                        "name": "CuentaID"
                                    },
                                    {
                                        "name": "Saldo"
                                    }
                                ]
                            },
                            "data": [
                                {
                                    "CuentaID": "4",
                                    "Saldo": "1234.56"
                                },
                                {
                                    "CuentaID": "88",
                                    "Saldo": "2345.12"
                                },
                                {
                                    "CuentaID": "48",
                                    "Saldo": "2345.12"
                                },
                                {
                                    "CuentaID": "24",
                                    "Saldo": "2345.34"
                                },
                                {
                                    "CuentaID": "64",
                                    "Saldo": "2345.34"
                                },
                                {
                                    "CuentaID": "80",
                                    "Saldo": "2345.56"
                                },
                                {
                                    "CuentaID": "40",
                                    "Saldo": "2345.56"
                                },
                                {
                                    "CuentaID": "2",
                                    "Saldo": "2345.67"
                                },
                                {
                                    "CuentaID": "8",
                                    "Saldo": "2345.67"
                                },
                                {
                                    "CuentaID": "16",
                                    "Saldo": "2345.67"
                                },
                                {
                                    "CuentaID": "56",
                                    "Saldo": "2345.78"
                                },
                                {
                                    "CuentaID": "96",
                                    "Saldo": "2345.78"
                                },
                                {
                                    "CuentaID": "72",
                                    "Saldo": "2345.90"
                                },
                                {
                                    "CuentaID": "32",
                                    "Saldo": "2345.90"
                                },
                                {
                                    "CuentaID": "22",
                                    "Saldo": "3456.01"
                                },
                                {
                                    "CuentaID": "78",
                                    "Saldo": "3456.12"
                                },
                                {
                                    "CuentaID": "38",
                                    "Saldo": "3456.12"
                                },
                                {
                                    "CuentaID": "54",
                                    "Saldo": "3456.34"
                                },
                                {
                                    "CuentaID": "94",
                                    "Saldo": "3456.34"
                                },
                                {
                                    "CuentaID": "70",
                                    "Saldo": "3456.56"
                                },
                                {
                                    "CuentaID": "30",
                                    "Saldo": "3456.56"
                                },
                                {
                                    "CuentaID": "86",
                                    "Saldo": "3456.78"
                                },
                                {
                                    "CuentaID": "6",
                                    "Saldo": "3456.78"
                                },
                                {
                                    "CuentaID": "14",
                                    "Saldo": "3456.78"
                                },
                                {
                                    "CuentaID": "46",
                                    "Saldo": "3456.78"
                                },
                                {
                                    "CuentaID": "62",
                                    "Saldo": "3456.90"
                                },
                                {
                                    "CuentaID": "58",
                                    "Saldo": "4567.12"
                                },
                                {
                                    "CuentaID": "98",
                                    "Saldo": "4567.12"
                                },
                                {
                                    "CuentaID": "18",
                                    "Saldo": "4567.23"
                                },
                                {
                                    "CuentaID": "34",
                                    "Saldo": "4567.34"
                                },
                                {
                                    "CuentaID": "74",
                                    "Saldo": "4567.34"
                                },
                                {
                                    "CuentaID": "90",
                                    "Saldo": "4567.56"
                                },
                                {
                                    "CuentaID": "50",
                                    "Saldo": "4567.56"
                                },
                                {
                                    "CuentaID": "66",
                                    "Saldo": "4567.78"
                                },
                                {
                                    "CuentaID": "26",
                                    "Saldo": "4567.78"
                                },
                                {
                                    "CuentaID": "10",
                                    "Saldo": "4567.89"
                                },
                                {
                                    "CuentaID": "82",
                                    "Saldo": "4567.90"
                                },
                                {
                                    "CuentaID": "42",
                                    "Saldo": "4567.90"
                                },
                                {
                                    "CuentaID": "68",
                                    "Saldo": "5678.12"
                                },
                                {
                                    "CuentaID": "28",
                                    "Saldo": "5678.12"
                                },
                                {
                                    "CuentaID": "1",
                                    "Saldo": "5678.25"
                                },
                                {
                                    "CuentaID": "44",
                                    "Saldo": "5678.34"
                                },
                                {
                                    "CuentaID": "84",
                                    "Saldo": "5678.34"
                                },
                                {
                                    "CuentaID": "60",
                                    "Saldo": "5678.56"
                                },
                                {
                                    "CuentaID": "100",
                                    "Saldo": "5678.56"
                                },
                                {
                                    "CuentaID": "20",
                                    "Saldo": "5678.67"
                                },
                                {
                                    "CuentaID": "36",
                                    "Saldo": "5678.78"
                                },
                                {
                                    "CuentaID": "76",
                                    "Saldo": "5678.78"
                                },
                                {
                                    "CuentaID": "12",
                                    "Saldo": "5678.90"
                                },
                                {
                                    "CuentaID": "52",
                                    "Saldo": "5678.90"
                                },
                                {
                                    "CuentaID": "92",
                                    "Saldo": "5678.90"
                                },
                                {
                                    "CuentaID": "7",
                                    "Saldo": "6789.01"
                                },
                                {
                                    "CuentaID": "63",
                                    "Saldo": "6789.12"
                                },
                                {
                                    "CuentaID": "23",
                                    "Saldo": "6789.12"
                                },
                                {
                                    "CuentaID": "79",
                                    "Saldo": "6789.34"
                                },
                                {
                                    "CuentaID": "15",
                                    "Saldo": "6789.34"
                                },
                                {
                                    "CuentaID": "39",
                                    "Saldo": "6789.34"
                                },
                                {
                                    "CuentaID": "95",
                                    "Saldo": "6789.56"
                                },
                                {
                                    "CuentaID": "55",
                                    "Saldo": "6789.56"
                                },
                                {
                                    "CuentaID": "31",
                                    "Saldo": "6789.78"
                                },
                                {
                                    "CuentaID": "71",
                                    "Saldo": "6789.78"
                                },
                                {
                                    "CuentaID": "87",
                                    "Saldo": "6789.90"
                                },
                                {
                                    "CuentaID": "47",
                                    "Saldo": "6789.90"
                                },
                                {
                                    "CuentaID": "13",
                                    "Saldo": "7890.12"
                                },
                                {
                                    "CuentaID": "53",
                                    "Saldo": "7890.12"
                                },
                                {
                                    "CuentaID": "93",
                                    "Saldo": "7890.12"
                                },
                                {
                                    "CuentaID": "5",
                                    "Saldo": "7890.25"
                                },
                                {
                                    "CuentaID": "69",
                                    "Saldo": "7890.34"
                                },
                                {
                                    "CuentaID": "29",
                                    "Saldo": "7890.34"
                                },
                                {
                                    "CuentaID": "85",
                                    "Saldo": "7890.56"
                                },
                                {
                                    "CuentaID": "45",
                                    "Saldo": "7890.56"
                                },
                                {
                                    "CuentaID": "61",
                                    "Saldo": "7890.78"
                                },
                                {
                                    "CuentaID": "21",
                                    "Saldo": "7890.89"
                                },
                                {
                                    "CuentaID": "37",
                                    "Saldo": "7890.90"
                                },
                                {
                                    "CuentaID": "77",
                                    "Saldo": "7890.90"
                                },
                                {
                                    "CuentaID": "17",
                                    "Saldo": "8765.09"
                                },
                                {
                                    "CuentaID": "33",
                                    "Saldo": "8765.12"
                                },
                                {
                                    "CuentaID": "73",
                                    "Saldo": "8765.12"
                                },
                                {
                                    "CuentaID": "49",
                                    "Saldo": "8765.34"
                                },
                                {
                                    "CuentaID": "89",
                                    "Saldo": "8765.34"
                                },
                                {
                                    "CuentaID": "9",
                                    "Saldo": "8765.43"
                                },
                                {
                                    "CuentaID": "65",
                                    "Saldo": "8765.56"
                                },
                                {
                                    "CuentaID": "25",
                                    "Saldo": "8765.56"
                                },
                                {
                                    "CuentaID": "41",
                                    "Saldo": "8765.78"
                                },
                                {
                                    "CuentaID": "81",
                                    "Saldo": "8765.78"
                                },
                                {
                                    "CuentaID": "97",
                                    "Saldo": "8765.90"
                                },
                                {
                                    "CuentaID": "57",
                                    "Saldo": "8765.90"
                                },
                                {
                                    "CuentaID": "83",
                                    "Saldo": "9012.12"
                                },
                                {
                                    "CuentaID": "43",
                                    "Saldo": "9012.12"
                                },
                                {
                                    "CuentaID": "59",
                                    "Saldo": "9012.34"
                                },
                                {
                                    "CuentaID": "11",
                                    "Saldo": "9012.34"
                                },
                                {
                                    "CuentaID": "99",
                                    "Saldo": "9012.34"
                                },
                                {
                                    "CuentaID": "19",
                                    "Saldo": "9012.45"
                                },
                                {
                                    "CuentaID": "75",
                                    "Saldo": "9012.56"
                                },
                                {
                                    "CuentaID": "35",
                                    "Saldo": "9012.56"
                                },
                                {
                                    "CuentaID": "91",
                                    "Saldo": "9012.78"
                                },
                                {
                                    "CuentaID": "51",
                                    "Saldo": "9012.78"
                                },
                                {
                                    "CuentaID": "27",
                                    "Saldo": "9012.90"
                                },
                                {
                                    "CuentaID": "67",
                                    "Saldo": "9012.90"
                                },
                                {
                                    "CuentaID": "3",
                                    "Saldo": "9876.54"
                                }
                            ]
                        },
                        "text/html": "<table><tr><th>CuentaID</th><th>Saldo</th></tr><tr><td>4</td><td>1234.56</td></tr><tr><td>88</td><td>2345.12</td></tr><tr><td>48</td><td>2345.12</td></tr><tr><td>24</td><td>2345.34</td></tr><tr><td>64</td><td>2345.34</td></tr><tr><td>80</td><td>2345.56</td></tr><tr><td>40</td><td>2345.56</td></tr><tr><td>2</td><td>2345.67</td></tr><tr><td>8</td><td>2345.67</td></tr><tr><td>16</td><td>2345.67</td></tr><tr><td>56</td><td>2345.78</td></tr><tr><td>96</td><td>2345.78</td></tr><tr><td>72</td><td>2345.90</td></tr><tr><td>32</td><td>2345.90</td></tr><tr><td>22</td><td>3456.01</td></tr><tr><td>78</td><td>3456.12</td></tr><tr><td>38</td><td>3456.12</td></tr><tr><td>54</td><td>3456.34</td></tr><tr><td>94</td><td>3456.34</td></tr><tr><td>70</td><td>3456.56</td></tr><tr><td>30</td><td>3456.56</td></tr><tr><td>86</td><td>3456.78</td></tr><tr><td>6</td><td>3456.78</td></tr><tr><td>14</td><td>3456.78</td></tr><tr><td>46</td><td>3456.78</td></tr><tr><td>62</td><td>3456.90</td></tr><tr><td>58</td><td>4567.12</td></tr><tr><td>98</td><td>4567.12</td></tr><tr><td>18</td><td>4567.23</td></tr><tr><td>34</td><td>4567.34</td></tr><tr><td>74</td><td>4567.34</td></tr><tr><td>90</td><td>4567.56</td></tr><tr><td>50</td><td>4567.56</td></tr><tr><td>66</td><td>4567.78</td></tr><tr><td>26</td><td>4567.78</td></tr><tr><td>10</td><td>4567.89</td></tr><tr><td>82</td><td>4567.90</td></tr><tr><td>42</td><td>4567.90</td></tr><tr><td>68</td><td>5678.12</td></tr><tr><td>28</td><td>5678.12</td></tr><tr><td>1</td><td>5678.25</td></tr><tr><td>44</td><td>5678.34</td></tr><tr><td>84</td><td>5678.34</td></tr><tr><td>60</td><td>5678.56</td></tr><tr><td>100</td><td>5678.56</td></tr><tr><td>20</td><td>5678.67</td></tr><tr><td>36</td><td>5678.78</td></tr><tr><td>76</td><td>5678.78</td></tr><tr><td>12</td><td>5678.90</td></tr><tr><td>52</td><td>5678.90</td></tr><tr><td>92</td><td>5678.90</td></tr><tr><td>7</td><td>6789.01</td></tr><tr><td>63</td><td>6789.12</td></tr><tr><td>23</td><td>6789.12</td></tr><tr><td>79</td><td>6789.34</td></tr><tr><td>15</td><td>6789.34</td></tr><tr><td>39</td><td>6789.34</td></tr><tr><td>95</td><td>6789.56</td></tr><tr><td>55</td><td>6789.56</td></tr><tr><td>31</td><td>6789.78</td></tr><tr><td>71</td><td>6789.78</td></tr><tr><td>87</td><td>6789.90</td></tr><tr><td>47</td><td>6789.90</td></tr><tr><td>13</td><td>7890.12</td></tr><tr><td>53</td><td>7890.12</td></tr><tr><td>93</td><td>7890.12</td></tr><tr><td>5</td><td>7890.25</td></tr><tr><td>69</td><td>7890.34</td></tr><tr><td>29</td><td>7890.34</td></tr><tr><td>85</td><td>7890.56</td></tr><tr><td>45</td><td>7890.56</td></tr><tr><td>61</td><td>7890.78</td></tr><tr><td>21</td><td>7890.89</td></tr><tr><td>37</td><td>7890.90</td></tr><tr><td>77</td><td>7890.90</td></tr><tr><td>17</td><td>8765.09</td></tr><tr><td>33</td><td>8765.12</td></tr><tr><td>73</td><td>8765.12</td></tr><tr><td>49</td><td>8765.34</td></tr><tr><td>89</td><td>8765.34</td></tr><tr><td>9</td><td>8765.43</td></tr><tr><td>65</td><td>8765.56</td></tr><tr><td>25</td><td>8765.56</td></tr><tr><td>41</td><td>8765.78</td></tr><tr><td>81</td><td>8765.78</td></tr><tr><td>97</td><td>8765.90</td></tr><tr><td>57</td><td>8765.90</td></tr><tr><td>83</td><td>9012.12</td></tr><tr><td>43</td><td>9012.12</td></tr><tr><td>59</td><td>9012.34</td></tr><tr><td>11</td><td>9012.34</td></tr><tr><td>99</td><td>9012.34</td></tr><tr><td>19</td><td>9012.45</td></tr><tr><td>75</td><td>9012.56</td></tr><tr><td>35</td><td>9012.56</td></tr><tr><td>91</td><td>9012.78</td></tr><tr><td>51</td><td>9012.78</td></tr><tr><td>27</td><td>9012.90</td></tr><tr><td>67</td><td>9012.90</td></tr><tr><td>3</td><td>9876.54</td></tr></table>"
                    },
                    "metadata": {}
                }
            ],
            "execution_count": 25
        },
        {
            "cell_type": "markdown",
            "source": [
                "**14. ¿Cuáles son los clientes que no han realizado transacciones?**"
            ],
            "metadata": {
                "language": "sql",
                "azdata_cell_guid": "331cbe62-6a02-4ae5-af91-a091d55268b7"
            },
            "attachments": {}
        },
        {
            "cell_type": "code",
            "source": [
                "SELECT Nombre, Apellido\r\n",
                "FROM bank.Clientes c\r\n",
                "LEFT JOIN bank.Cuentas cu ON c.ClienteID = cu.ClienteID\r\n",
                "LEFT JOIN bank.Transacciones t ON cu.CuentaID = t.CuentaID\r\n",
                "WHERE t.TransaccionID IS NULL\r\n",
                "GROUP BY c.ClienteID;"
            ],
            "metadata": {
                "language": "sql",
                "azdata_cell_guid": "766c666c-be64-45ee-9440-4590462ed69b"
            },
            "outputs": [
                {
                    "output_type": "display_data",
                    "data": {
                        "text/html": "(45 row(s) affected)"
                    },
                    "metadata": {}
                },
                {
                    "output_type": "display_data",
                    "data": {
                        "text/html": "Total execution time: 00:00:01.011"
                    },
                    "metadata": {}
                },
                {
                    "output_type": "execute_result",
                    "execution_count": 27,
                    "data": {
                        "application/vnd.dataresource+json": {
                            "schema": {
                                "fields": [
                                    {
                                        "name": "Nombre"
                                    },
                                    {
                                        "name": "Apellido"
                                    }
                                ]
                            },
                            "data": [
                                {
                                    "Nombre": "Catalina",
                                    "Apellido": "Solano"
                                },
                                {
                                    "Nombre": "Benjamín",
                                    "Apellido": "Carvajal"
                                },
                                {
                                    "Nombre": "Constanza",
                                    "Apellido": "Avendaño"
                                },
                                {
                                    "Nombre": "Joaquín",
                                    "Apellido": "Cáceres"
                                },
                                {
                                    "Nombre": "Isadora",
                                    "Apellido": "Echevarría"
                                },
                                {
                                    "Nombre": "Lucas",
                                    "Apellido": "Pizarro"
                                },
                                {
                                    "Nombre": "Antonia",
                                    "Apellido": "Zúñiga"
                                },
                                {
                                    "Nombre": "Matías",
                                    "Apellido": "Márquez"
                                },
                                {
                                    "Nombre": "Rafaela",
                                    "Apellido": "Acuña"
                                },
                                {
                                    "Nombre": "Maximiliano",
                                    "Apellido": "Yáñez"
                                },
                                {
                                    "Nombre": "Julieta",
                                    "Apellido": "Baeza"
                                },
                                {
                                    "Nombre": "Ezequiel",
                                    "Apellido": "Montero"
                                },
                                {
                                    "Nombre": "Florencia",
                                    "Apellido": "Quintana"
                                },
                                {
                                    "Nombre": "Thiago",
                                    "Apellido": "Olivares"
                                },
                                {
                                    "Nombre": "Bianca",
                                    "Apellido": "Rendón"
                                },
                                {
                                    "Nombre": "Cristóbal",
                                    "Apellido": "Palacios"
                                },
                                {
                                    "Nombre": "Amanda",
                                    "Apellido": "Parra"
                                },
                                {
                                    "Nombre": "Emilio",
                                    "Apellido": "Crespo"
                                },
                                {
                                    "Nombre": "Ariana",
                                    "Apellido": "Henríquez"
                                },
                                {
                                    "Nombre": "Salvador",
                                    "Apellido": "Morales"
                                },
                                {
                                    "Nombre": "Fernanda",
                                    "Apellido": "Tapia"
                                },
                                {
                                    "Nombre": "Emmanuel",
                                    "Apellido": "Concha"
                                },
                                {
                                    "Nombre": "Dulce",
                                    "Apellido": "Quintero"
                                },
                                {
                                    "Nombre": "Lisandro",
                                    "Apellido": "Peralta"
                                },
                                {
                                    "Nombre": "Luana",
                                    "Apellido": "Santamaría"
                                },
                                {
                                    "Nombre": "Máximo",
                                    "Apellido": "Saldivar"
                                },
                                {
                                    "Nombre": "Violeta",
                                    "Apellido": "Ugarte"
                                },
                                {
                                    "Nombre": "Ignacio",
                                    "Apellido": "Solís"
                                },
                                {
                                    "Nombre": "Avril",
                                    "Apellido": "Olmedo"
                                },
                                {
                                    "Nombre": "Leonel",
                                    "Apellido": "Urrutia"
                                },
                                {
                                    "Nombre": "Paloma",
                                    "Apellido": "Espinoza"
                                },
                                {
                                    "Nombre": "Fabrizio",
                                    "Apellido": "Mora"
                                },
                                {
                                    "Nombre": "Maite",
                                    "Apellido": "Heredia"
                                },
                                {
                                    "Nombre": "Gael",
                                    "Apellido": "Bernal"
                                },
                                {
                                    "Nombre": "Amelia",
                                    "Apellido": "Polo"
                                },
                                {
                                    "Nombre": "Amelia",
                                    "Apellido": "Peña"
                                },
                                {
                                    "Nombre": "Bautista",
                                    "Apellido": "Contreras"
                                },
                                {
                                    "Nombre": "Luciana",
                                    "Apellido": "Velázquez"
                                },
                                {
                                    "Nombre": "Tristán",
                                    "Apellido": "Sepúlveda"
                                },
                                {
                                    "Nombre": "Jimena",
                                    "Apellido": "Galindo"
                                },
                                {
                                    "Nombre": "Álvaro",
                                    "Apellido": "Leal"
                                },
                                {
                                    "Nombre": "Dafne",
                                    "Apellido": "Robles"
                                },
                                {
                                    "Nombre": "Ángel",
                                    "Apellido": "Zepeda"
                                },
                                {
                                    "Nombre": "Esmeralda",
                                    "Apellido": "Vigil"
                                },
                                {
                                    "Nombre": "Pascual",
                                    "Apellido": "Betancourt"
                                }
                            ]
                        },
                        "text/html": "<table><tr><th>Nombre</th><th>Apellido</th></tr><tr><td>Catalina</td><td>Solano</td></tr><tr><td>Benjamín</td><td>Carvajal</td></tr><tr><td>Constanza</td><td>Avendaño</td></tr><tr><td>Joaquín</td><td>Cáceres</td></tr><tr><td>Isadora</td><td>Echevarría</td></tr><tr><td>Lucas</td><td>Pizarro</td></tr><tr><td>Antonia</td><td>Zúñiga</td></tr><tr><td>Matías</td><td>Márquez</td></tr><tr><td>Rafaela</td><td>Acuña</td></tr><tr><td>Maximiliano</td><td>Yáñez</td></tr><tr><td>Julieta</td><td>Baeza</td></tr><tr><td>Ezequiel</td><td>Montero</td></tr><tr><td>Florencia</td><td>Quintana</td></tr><tr><td>Thiago</td><td>Olivares</td></tr><tr><td>Bianca</td><td>Rendón</td></tr><tr><td>Cristóbal</td><td>Palacios</td></tr><tr><td>Amanda</td><td>Parra</td></tr><tr><td>Emilio</td><td>Crespo</td></tr><tr><td>Ariana</td><td>Henríquez</td></tr><tr><td>Salvador</td><td>Morales</td></tr><tr><td>Fernanda</td><td>Tapia</td></tr><tr><td>Emmanuel</td><td>Concha</td></tr><tr><td>Dulce</td><td>Quintero</td></tr><tr><td>Lisandro</td><td>Peralta</td></tr><tr><td>Luana</td><td>Santamaría</td></tr><tr><td>Máximo</td><td>Saldivar</td></tr><tr><td>Violeta</td><td>Ugarte</td></tr><tr><td>Ignacio</td><td>Solís</td></tr><tr><td>Avril</td><td>Olmedo</td></tr><tr><td>Leonel</td><td>Urrutia</td></tr><tr><td>Paloma</td><td>Espinoza</td></tr><tr><td>Fabrizio</td><td>Mora</td></tr><tr><td>Maite</td><td>Heredia</td></tr><tr><td>Gael</td><td>Bernal</td></tr><tr><td>Amelia</td><td>Polo</td></tr><tr><td>Amelia</td><td>Peña</td></tr><tr><td>Bautista</td><td>Contreras</td></tr><tr><td>Luciana</td><td>Velázquez</td></tr><tr><td>Tristán</td><td>Sepúlveda</td></tr><tr><td>Jimena</td><td>Galindo</td></tr><tr><td>Álvaro</td><td>Leal</td></tr><tr><td>Dafne</td><td>Robles</td></tr><tr><td>Ángel</td><td>Zepeda</td></tr><tr><td>Esmeralda</td><td>Vigil</td></tr><tr><td>Pascual</td><td>Betancourt</td></tr></table>"
                    },
                    "metadata": {}
                }
            ],
            "execution_count": 27
        },
        {
            "cell_type": "markdown",
            "source": [
                "**15. ¿Cuál es la fecha de la transacción más antigua?**"
            ],
            "metadata": {
                "language": "sql",
                "azdata_cell_guid": "fd92c5b3-5a4e-49a9-8304-35c9b0c5c594"
            },
            "attachments": {}
        },
        {
            "cell_type": "code",
            "source": [
                "SELECT MIN(Fecha) AS 'Fecha más Antigua'\r\n",
                "FROM bank.Transacciones;"
            ],
            "metadata": {
                "language": "sql",
                "azdata_cell_guid": "5edc82a6-fbd3-4e99-aa83-ae00f956f1fb"
            },
            "outputs": [
                {
                    "output_type": "display_data",
                    "data": {
                        "text/html": "(1 row(s) affected)"
                    },
                    "metadata": {}
                },
                {
                    "output_type": "display_data",
                    "data": {
                        "text/html": "Total execution time: 00:00:01.006"
                    },
                    "metadata": {}
                },
                {
                    "output_type": "execute_result",
                    "execution_count": 28,
                    "data": {
                        "application/vnd.dataresource+json": {
                            "schema": {
                                "fields": [
                                    {
                                        "name": "Fecha más Antigua"
                                    }
                                ]
                            },
                            "data": [
                                {
                                    "Fecha más Antigua": "2023-04-01"
                                }
                            ]
                        },
                        "text/html": "<table><tr><th>Fecha más Antigua</th></tr><tr><td>2023-04-01</td></tr></table>"
                    },
                    "metadata": {}
                }
            ],
            "execution_count": 28
        },
        {
            "cell_type": "markdown",
            "source": [
                "**16. ¿Cuáles son las 10 cuentas con mayor saldo?**"
            ],
            "metadata": {
                "language": "sql",
                "azdata_cell_guid": "2ac2895d-2287-436f-a353-56ec4ffa01d2"
            },
            "attachments": {}
        },
        {
            "cell_type": "code",
            "source": [
                "SELECT CuentaID, Saldo\r\n",
                "FROM bank.Cuentas\r\n",
                "ORDER BY Saldo DESC\r\n",
                "LIMIT 10;"
            ],
            "metadata": {
                "language": "sql",
                "azdata_cell_guid": "7456285e-ecdf-4c28-b45c-ef95edddc578"
            },
            "outputs": [
                {
                    "output_type": "display_data",
                    "data": {
                        "text/html": "(10 row(s) affected)"
                    },
                    "metadata": {}
                },
                {
                    "output_type": "display_data",
                    "data": {
                        "text/html": "Total execution time: 00:00:01.014"
                    },
                    "metadata": {}
                },
                {
                    "output_type": "execute_result",
                    "execution_count": 29,
                    "data": {
                        "application/vnd.dataresource+json": {
                            "schema": {
                                "fields": [
                                    {
                                        "name": "CuentaID"
                                    },
                                    {
                                        "name": "Saldo"
                                    }
                                ]
                            },
                            "data": [
                                {
                                    "CuentaID": "3",
                                    "Saldo": "9876.54"
                                },
                                {
                                    "CuentaID": "27",
                                    "Saldo": "9012.90"
                                },
                                {
                                    "CuentaID": "67",
                                    "Saldo": "9012.90"
                                },
                                {
                                    "CuentaID": "91",
                                    "Saldo": "9012.78"
                                },
                                {
                                    "CuentaID": "51",
                                    "Saldo": "9012.78"
                                },
                                {
                                    "CuentaID": "75",
                                    "Saldo": "9012.56"
                                },
                                {
                                    "CuentaID": "35",
                                    "Saldo": "9012.56"
                                },
                                {
                                    "CuentaID": "19",
                                    "Saldo": "9012.45"
                                },
                                {
                                    "CuentaID": "59",
                                    "Saldo": "9012.34"
                                },
                                {
                                    "CuentaID": "11",
                                    "Saldo": "9012.34"
                                }
                            ]
                        },
                        "text/html": "<table><tr><th>CuentaID</th><th>Saldo</th></tr><tr><td>3</td><td>9876.54</td></tr><tr><td>27</td><td>9012.90</td></tr><tr><td>67</td><td>9012.90</td></tr><tr><td>91</td><td>9012.78</td></tr><tr><td>51</td><td>9012.78</td></tr><tr><td>75</td><td>9012.56</td></tr><tr><td>35</td><td>9012.56</td></tr><tr><td>19</td><td>9012.45</td></tr><tr><td>59</td><td>9012.34</td></tr><tr><td>11</td><td>9012.34</td></tr></table>"
                    },
                    "metadata": {}
                }
            ],
            "execution_count": 29
        },
        {
            "cell_type": "markdown",
            "source": [
                "**17. ¿Cuál es el cliente con la mayor cantidad de transacciones?**"
            ],
            "metadata": {
                "language": "sql",
                "azdata_cell_guid": "59af31f9-17cb-478f-8609-2f32119662b9"
            },
            "attachments": {}
        },
        {
            "cell_type": "code",
            "source": [
                "SELECT c.Nombre, c.Apellido, COUNT(t.TransaccionID) AS 'Cantidad de Transacciones'\r\n",
                "FROM bank.Clientes c\r\n",
                "JOIN bank.Cuentas cu ON c.ClienteID = cu.ClienteID\r\n",
                "JOIN bank.Transacciones t ON cu.CuentaID = t.CuentaID\r\n",
                "GROUP BY c.ClienteID\r\n",
                "ORDER BY 'Cantidad de Transacciones' DESC\r\n",
                "LIMIT 1;"
            ],
            "metadata": {
                "language": "sql",
                "azdata_cell_guid": "87975c39-a45c-4184-b097-8cf7f2e3c141"
            },
            "outputs": [
                {
                    "output_type": "display_data",
                    "data": {
                        "text/html": "(1 row(s) affected)"
                    },
                    "metadata": {}
                },
                {
                    "output_type": "display_data",
                    "data": {
                        "text/html": "Total execution time: 00:00:01.011"
                    },
                    "metadata": {}
                },
                {
                    "output_type": "execute_result",
                    "execution_count": 30,
                    "data": {
                        "application/vnd.dataresource+json": {
                            "schema": {
                                "fields": [
                                    {
                                        "name": "Nombre"
                                    },
                                    {
                                        "name": "Apellido"
                                    },
                                    {
                                        "name": "Cantidad de Transacciones"
                                    }
                                ]
                            },
                            "data": [
                                {
                                    "Nombre": "Juan",
                                    "Apellido": "Pérez",
                                    "Cantidad de Transacciones": "4"
                                }
                            ]
                        },
                        "text/html": "<table><tr><th>Nombre</th><th>Apellido</th><th>Cantidad de Transacciones</th></tr><tr><td>Juan</td><td>Pérez</td><td>4</td></tr></table>"
                    },
                    "metadata": {}
                }
            ],
            "execution_count": 30
        },
        {
            "cell_type": "markdown",
            "source": [
                "**18. ¿Cuáles son las 5 ciudades con más clientes?**"
            ],
            "metadata": {
                "language": "sql",
                "azdata_cell_guid": "dcfb06f8-908d-4b25-9b41-23e0b42c2798"
            },
            "attachments": {}
        },
        {
            "cell_type": "code",
            "source": [
                "SELECT Ciudad, COUNT(*) AS 'Cantidad de Clientes'\r\n",
                "FROM bank.Clientes\r\n",
                "GROUP BY Ciudad\r\n",
                "ORDER BY 'Cantidad de Clientes' DESC\r\n",
                "LIMIT 5;"
            ],
            "metadata": {
                "language": "sql",
                "azdata_cell_guid": "4f8eb0ea-2407-4de0-bf15-79137b70eb9a"
            },
            "outputs": [
                {
                    "output_type": "display_data",
                    "data": {
                        "text/html": "(5 row(s) affected)"
                    },
                    "metadata": {}
                },
                {
                    "output_type": "display_data",
                    "data": {
                        "text/html": "Total execution time: 00:00:01.007"
                    },
                    "metadata": {}
                },
                {
                    "output_type": "execute_result",
                    "execution_count": 32,
                    "data": {
                        "application/vnd.dataresource+json": {
                            "schema": {
                                "fields": [
                                    {
                                        "name": "Ciudad"
                                    },
                                    {
                                        "name": "Cantidad de Clientes"
                                    }
                                ]
                            },
                            "data": [
                                {
                                    "Ciudad": "Madrid",
                                    "Cantidad de Clientes": "20"
                                },
                                {
                                    "Ciudad": "Barcelona",
                                    "Cantidad de Clientes": "24"
                                },
                                {
                                    "Ciudad": "Sevilla",
                                    "Cantidad de Clientes": "14"
                                },
                                {
                                    "Ciudad": "Valencia",
                                    "Cantidad de Clientes": "10"
                                },
                                {
                                    "Ciudad": "Bilbao",
                                    "Cantidad de Clientes": "2"
                                }
                            ]
                        },
                        "text/html": "<table><tr><th>Ciudad</th><th>Cantidad de Clientes</th></tr><tr><td>Madrid</td><td>20</td></tr><tr><td>Barcelona</td><td>24</td></tr><tr><td>Sevilla</td><td>14</td></tr><tr><td>Valencia</td><td>10</td></tr><tr><td>Bilbao</td><td>2</td></tr></table>"
                    },
                    "metadata": {}
                }
            ],
            "execution_count": 32
        },
        {
            "cell_type": "markdown",
            "source": [
                "**19. ¿Cuál es el monto promedio de las transferencias?**"
            ],
            "metadata": {
                "language": "sql",
                "azdata_cell_guid": "c210aca2-4a0d-42e7-aaff-33b461151fc1"
            },
            "attachments": {}
        },
        {
            "cell_type": "code",
            "source": [
                "SELECT AVG(Monto) AS 'Promedio de Transferencias'\r\n",
                "FROM bank.Transacciones\r\n",
                "WHERE Tipo = 'Transferencia';"
            ],
            "metadata": {
                "language": "sql",
                "azdata_cell_guid": "039480fd-f026-478c-8ef2-bda189dde3ee"
            },
            "outputs": [
                {
                    "output_type": "display_data",
                    "data": {
                        "text/html": "(1 row(s) affected)"
                    },
                    "metadata": {}
                },
                {
                    "output_type": "display_data",
                    "data": {
                        "text/html": "Total execution time: 00:00:01.016"
                    },
                    "metadata": {}
                },
                {
                    "output_type": "execute_result",
                    "execution_count": 33,
                    "data": {
                        "application/vnd.dataresource+json": {
                            "schema": {
                                "fields": [
                                    {
                                        "name": "Promedio de Transferencias"
                                    }
                                ]
                            },
                            "data": [
                                {
                                    "Promedio de Transferencias": "1404.000000"
                                }
                            ]
                        },
                        "text/html": "<table><tr><th>Promedio de Transferencias</th></tr><tr><td>1404.000000</td></tr></table>"
                    },
                    "metadata": {}
                }
            ],
            "execution_count": 33
        },
        {
            "cell_type": "markdown",
            "source": [
                "**20. ¿Cuáles son los clientes que tienen cuentas abiertas en los últimos 6 meses?**"
            ],
            "metadata": {
                "language": "sql",
                "azdata_cell_guid": "2df3c828-ee2c-419e-aad0-404ea3c65346"
            },
            "attachments": {}
        },
        {
            "cell_type": "code",
            "source": [
                "SELECT Nombre, Apellido\r\n",
                "FROM bank.Clientes c\r\n",
                "JOIN bank.Cuentas cu ON c.ClienteID = cu.ClienteID\r\n",
                "WHERE cu.FechaApertura >= DATE_SUB(CURDATE(), INTERVAL 6 MONTH);"
            ],
            "metadata": {
                "language": "sql",
                "azdata_cell_guid": "e18d6c10-c841-4c6a-bb74-4f133cd0179f"
            },
            "outputs": [
                {
                    "output_type": "display_data",
                    "data": {
                        "text/html": "(0 row(s) affected)"
                    },
                    "metadata": {}
                },
                {
                    "output_type": "display_data",
                    "data": {
                        "text/html": "Total execution time: 00:00:01.010"
                    },
                    "metadata": {}
                },
                {
                    "output_type": "execute_result",
                    "execution_count": 37,
                    "data": {
                        "application/vnd.dataresource+json": {
                            "schema": {
                                "fields": [
                                    {
                                        "name": "Nombre"
                                    },
                                    {
                                        "name": "Apellido"
                                    }
                                ]
                            },
                            "data": []
                        },
                        "text/html": "<table><tr><th>Nombre</th><th>Apellido</th></tr></table>"
                    },
                    "metadata": {}
                }
            ],
            "execution_count": 37
        },
        {
            "cell_type": "markdown",
            "source": [
                "**21. ¿Cuál es el monto total de pagos realizados?**"
            ],
            "metadata": {
                "language": "sql",
                "azdata_cell_guid": "7a716ab0-042e-4366-893b-1279b8f614ca"
            },
            "attachments": {}
        },
        {
            "cell_type": "code",
            "source": [
                "SELECT SUM(Monto) AS 'Total Pagos'\r\n",
                "FROM bank.Transacciones\r\n",
                "WHERE Tipo = 'Pago';"
            ],
            "metadata": {
                "language": "sql",
                "azdata_cell_guid": "36e6e6a1-3cfd-41d4-8455-ca319a96d797"
            },
            "outputs": [
                {
                    "output_type": "display_data",
                    "data": {
                        "text/html": "(1 row(s) affected)"
                    },
                    "metadata": {}
                },
                {
                    "output_type": "display_data",
                    "data": {
                        "text/html": "Total execution time: 00:00:01.016"
                    },
                    "metadata": {}
                },
                {
                    "output_type": "execute_result",
                    "execution_count": 38,
                    "data": {
                        "application/vnd.dataresource+json": {
                            "schema": {
                                "fields": [
                                    {
                                        "name": "Total Pagos"
                                    }
                                ]
                            },
                            "data": [
                                {
                                    "Total Pagos": "11420.00"
                                }
                            ]
                        },
                        "text/html": "<table><tr><th>Total Pagos</th></tr><tr><td>11420.00</td></tr></table>"
                    },
                    "metadata": {}
                }
            ],
            "execution_count": 38
        },
        {
            "cell_type": "markdown",
            "source": [
                "**22. ¿Cuáles son los clientes que tienen cuentas inactivas (sin transacciones en los últimos 3 meses)?**"
            ],
            "metadata": {
                "language": "sql",
                "azdata_cell_guid": "6cec3b9c-ec0c-4f46-b3bf-62d35c6090c0"
            },
            "attachments": {}
        },
        {
            "cell_type": "code",
            "source": [
                "SELECT c.Nombre, c.Apellido\r\n",
                "FROM bank.Clientes c\r\n",
                "JOIN bank.Cuentas cu ON c.ClienteID = cu.ClienteID\r\n",
                "LEFT JOIN bank.Transacciones t ON cu.CuentaID = t.CuentaID AND t.Fecha >= DATE_SUB(CURDATE(), INTERVAL 3 MONTH)\r\n",
                "WHERE t.TransaccionID IS NULL\r\n",
                "GROUP BY c.ClienteID;"
            ],
            "metadata": {
                "language": "sql",
                "azdata_cell_guid": "0ea48d65-d316-4237-a212-d1b04b8ebc4f"
            },
            "outputs": [
                {
                    "output_type": "display_data",
                    "data": {
                        "text/html": "(64 row(s) affected)"
                    },
                    "metadata": {}
                },
                {
                    "output_type": "display_data",
                    "data": {
                        "text/html": "Total execution time: 00:00:01.013"
                    },
                    "metadata": {}
                },
                {
                    "output_type": "execute_result",
                    "execution_count": 39,
                    "data": {
                        "application/vnd.dataresource+json": {
                            "schema": {
                                "fields": [
                                    {
                                        "name": "Nombre"
                                    },
                                    {
                                        "name": "Apellido"
                                    }
                                ]
                            },
                            "data": [
                                {
                                    "Nombre": "Juan",
                                    "Apellido": "Pérez"
                                },
                                {
                                    "Nombre": "María",
                                    "Apellido": "García"
                                },
                                {
                                    "Nombre": "Pedro",
                                    "Apellido": "Rodríguez"
                                },
                                {
                                    "Nombre": "Ana",
                                    "Apellido": "Martínez"
                                },
                                {
                                    "Nombre": "Carlos",
                                    "Apellido": "Sánchez"
                                },
                                {
                                    "Nombre": "Laura",
                                    "Apellido": "Fernández"
                                },
                                {
                                    "Nombre": "Javier",
                                    "Apellido": "Gómez"
                                },
                                {
                                    "Nombre": "Sofía",
                                    "Apellido": "Torres"
                                },
                                {
                                    "Nombre": "Valentina",
                                    "Apellido": "Piña"
                                },
                                {
                                    "Nombre": "Damián",
                                    "Apellido": "Arce"
                                },
                                {
                                    "Nombre": "Rebeca",
                                    "Apellido": "Cisneros"
                                },
                                {
                                    "Nombre": "Samuel",
                                    "Apellido": "Villalobos"
                                },
                                {
                                    "Nombre": "Renata",
                                    "Apellido": "Segovia"
                                },
                                {
                                    "Nombre": "Emiliano",
                                    "Apellido": "Salcedo"
                                },
                                {
                                    "Nombre": "Isabella",
                                    "Apellido": "Quintero"
                                },
                                {
                                    "Nombre": "Tomás",
                                    "Apellido": "Castañeda"
                                },
                                {
                                    "Nombre": "Sofía",
                                    "Apellido": "Uribe"
                                },
                                {
                                    "Nombre": "Martín",
                                    "Apellido": "Salinas"
                                },
                                {
                                    "Nombre": "Antonella",
                                    "Apellido": "Rincón"
                                },
                                {
                                    "Nombre": "Santiago",
                                    "Apellido": "Estrada"
                                },
                                {
                                    "Nombre": "Catalina",
                                    "Apellido": "Solano"
                                },
                                {
                                    "Nombre": "Benjamín",
                                    "Apellido": "Carvajal"
                                },
                                {
                                    "Nombre": "Constanza",
                                    "Apellido": "Avendaño"
                                },
                                {
                                    "Nombre": "Joaquín",
                                    "Apellido": "Cáceres"
                                },
                                {
                                    "Nombre": "Isadora",
                                    "Apellido": "Echevarría"
                                },
                                {
                                    "Nombre": "Lucas",
                                    "Apellido": "Pizarro"
                                },
                                {
                                    "Nombre": "Antonia",
                                    "Apellido": "Zúñiga"
                                },
                                {
                                    "Nombre": "Matías",
                                    "Apellido": "Márquez"
                                },
                                {
                                    "Nombre": "Rafaela",
                                    "Apellido": "Acuña"
                                },
                                {
                                    "Nombre": "Maximiliano",
                                    "Apellido": "Yáñez"
                                },
                                {
                                    "Nombre": "Julieta",
                                    "Apellido": "Baeza"
                                },
                                {
                                    "Nombre": "Ezequiel",
                                    "Apellido": "Montero"
                                },
                                {
                                    "Nombre": "Florencia",
                                    "Apellido": "Quintana"
                                },
                                {
                                    "Nombre": "Thiago",
                                    "Apellido": "Olivares"
                                },
                                {
                                    "Nombre": "Bianca",
                                    "Apellido": "Rendón"
                                },
                                {
                                    "Nombre": "Cristóbal",
                                    "Apellido": "Palacios"
                                },
                                {
                                    "Nombre": "Amanda",
                                    "Apellido": "Parra"
                                },
                                {
                                    "Nombre": "Emilio",
                                    "Apellido": "Crespo"
                                },
                                {
                                    "Nombre": "Ariana",
                                    "Apellido": "Henríquez"
                                },
                                {
                                    "Nombre": "Salvador",
                                    "Apellido": "Morales"
                                },
                                {
                                    "Nombre": "Fernanda",
                                    "Apellido": "Tapia"
                                },
                                {
                                    "Nombre": "Emmanuel",
                                    "Apellido": "Concha"
                                },
                                {
                                    "Nombre": "Dulce",
                                    "Apellido": "Quintero"
                                },
                                {
                                    "Nombre": "Lisandro",
                                    "Apellido": "Peralta"
                                },
                                {
                                    "Nombre": "Luana",
                                    "Apellido": "Santamaría"
                                },
                                {
                                    "Nombre": "Máximo",
                                    "Apellido": "Saldivar"
                                },
                                {
                                    "Nombre": "Violeta",
                                    "Apellido": "Ugarte"
                                },
                                {
                                    "Nombre": "Ignacio",
                                    "Apellido": "Solís"
                                },
                                {
                                    "Nombre": "Avril",
                                    "Apellido": "Olmedo"
                                },
                                {
                                    "Nombre": "Leonel",
                                    "Apellido": "Urrutia"
                                },
                                {
                                    "Nombre": "Paloma",
                                    "Apellido": "Espinoza"
                                },
                                {
                                    "Nombre": "Fabrizio",
                                    "Apellido": "Mora"
                                },
                                {
                                    "Nombre": "Maite",
                                    "Apellido": "Heredia"
                                },
                                {
                                    "Nombre": "Gael",
                                    "Apellido": "Bernal"
                                },
                                {
                                    "Nombre": "Amelia",
                                    "Apellido": "Polo"
                                },
                                {
                                    "Nombre": "Amelia",
                                    "Apellido": "Peña"
                                },
                                {
                                    "Nombre": "Bautista",
                                    "Apellido": "Contreras"
                                },
                                {
                                    "Nombre": "Luciana",
                                    "Apellido": "Velázquez"
                                },
                                {
                                    "Nombre": "Tristán",
                                    "Apellido": "Sepúlveda"
                                },
                                {
                                    "Nombre": "Jimena",
                                    "Apellido": "Galindo"
                                },
                                {
                                    "Nombre": "Álvaro",
                                    "Apellido": "Leal"
                                },
                                {
                                    "Nombre": "Dafne",
                                    "Apellido": "Robles"
                                },
                                {
                                    "Nombre": "Ángel",
                                    "Apellido": "Zepeda"
                                },
                                {
                                    "Nombre": "Esmeralda",
                                    "Apellido": "Vigil"
                                }
                            ]
                        },
                        "text/html": "<table><tr><th>Nombre</th><th>Apellido</th></tr><tr><td>Juan</td><td>Pérez</td></tr><tr><td>María</td><td>García</td></tr><tr><td>Pedro</td><td>Rodríguez</td></tr><tr><td>Ana</td><td>Martínez</td></tr><tr><td>Carlos</td><td>Sánchez</td></tr><tr><td>Laura</td><td>Fernández</td></tr><tr><td>Javier</td><td>Gómez</td></tr><tr><td>Sofía</td><td>Torres</td></tr><tr><td>Valentina</td><td>Piña</td></tr><tr><td>Damián</td><td>Arce</td></tr><tr><td>Rebeca</td><td>Cisneros</td></tr><tr><td>Samuel</td><td>Villalobos</td></tr><tr><td>Renata</td><td>Segovia</td></tr><tr><td>Emiliano</td><td>Salcedo</td></tr><tr><td>Isabella</td><td>Quintero</td></tr><tr><td>Tomás</td><td>Castañeda</td></tr><tr><td>Sofía</td><td>Uribe</td></tr><tr><td>Martín</td><td>Salinas</td></tr><tr><td>Antonella</td><td>Rincón</td></tr><tr><td>Santiago</td><td>Estrada</td></tr><tr><td>Catalina</td><td>Solano</td></tr><tr><td>Benjamín</td><td>Carvajal</td></tr><tr><td>Constanza</td><td>Avendaño</td></tr><tr><td>Joaquín</td><td>Cáceres</td></tr><tr><td>Isadora</td><td>Echevarría</td></tr><tr><td>Lucas</td><td>Pizarro</td></tr><tr><td>Antonia</td><td>Zúñiga</td></tr><tr><td>Matías</td><td>Márquez</td></tr><tr><td>Rafaela</td><td>Acuña</td></tr><tr><td>Maximiliano</td><td>Yáñez</td></tr><tr><td>Julieta</td><td>Baeza</td></tr><tr><td>Ezequiel</td><td>Montero</td></tr><tr><td>Florencia</td><td>Quintana</td></tr><tr><td>Thiago</td><td>Olivares</td></tr><tr><td>Bianca</td><td>Rendón</td></tr><tr><td>Cristóbal</td><td>Palacios</td></tr><tr><td>Amanda</td><td>Parra</td></tr><tr><td>Emilio</td><td>Crespo</td></tr><tr><td>Ariana</td><td>Henríquez</td></tr><tr><td>Salvador</td><td>Morales</td></tr><tr><td>Fernanda</td><td>Tapia</td></tr><tr><td>Emmanuel</td><td>Concha</td></tr><tr><td>Dulce</td><td>Quintero</td></tr><tr><td>Lisandro</td><td>Peralta</td></tr><tr><td>Luana</td><td>Santamaría</td></tr><tr><td>Máximo</td><td>Saldivar</td></tr><tr><td>Violeta</td><td>Ugarte</td></tr><tr><td>Ignacio</td><td>Solís</td></tr><tr><td>Avril</td><td>Olmedo</td></tr><tr><td>Leonel</td><td>Urrutia</td></tr><tr><td>Paloma</td><td>Espinoza</td></tr><tr><td>Fabrizio</td><td>Mora</td></tr><tr><td>Maite</td><td>Heredia</td></tr><tr><td>Gael</td><td>Bernal</td></tr><tr><td>Amelia</td><td>Polo</td></tr><tr><td>Amelia</td><td>Peña</td></tr><tr><td>Bautista</td><td>Contreras</td></tr><tr><td>Luciana</td><td>Velázquez</td></tr><tr><td>Tristán</td><td>Sepúlveda</td></tr><tr><td>Jimena</td><td>Galindo</td></tr><tr><td>Álvaro</td><td>Leal</td></tr><tr><td>Dafne</td><td>Robles</td></tr><tr><td>Ángel</td><td>Zepeda</td></tr><tr><td>Esmeralda</td><td>Vigil</td></tr></table>"
                    },
                    "metadata": {}
                }
            ],
            "execution_count": 39
        },
        {
            "cell_type": "markdown",
            "source": [
                "**23. ¿Cuál es el monto promedio de depósitos por ciudad?**"
            ],
            "metadata": {
                "language": "sql",
                "azdata_cell_guid": "05191c35-2c36-438f-90c2-a294db0c4450"
            },
            "attachments": {}
        },
        {
            "cell_type": "code",
            "source": [
                "SELECT c.Ciudad, AVG(t.Monto) AS 'Promedio de Depósitos'\r\n",
                "FROM bank.Clientes c\r\n",
                "JOIN bank.Cuentas cu ON c.ClienteID = cu.ClienteID\r\n",
                "JOIN bank.Transacciones t ON cu.CuentaID = t.CuentaID AND t.Tipo = 'Depósito'\r\n",
                "GROUP BY c.Ciudad;"
            ],
            "metadata": {
                "language": "sql",
                "azdata_cell_guid": "c0880800-0ae1-40b0-a62b-0725c26089c7"
            },
            "outputs": [
                {
                    "output_type": "display_data",
                    "data": {
                        "text/html": "(7 row(s) affected)"
                    },
                    "metadata": {}
                },
                {
                    "output_type": "display_data",
                    "data": {
                        "text/html": "Total execution time: 00:00:01.010"
                    },
                    "metadata": {}
                },
                {
                    "output_type": "execute_result",
                    "execution_count": 40,
                    "data": {
                        "application/vnd.dataresource+json": {
                            "schema": {
                                "fields": [
                                    {
                                        "name": "Ciudad"
                                    },
                                    {
                                        "name": "Promedio de Depósitos"
                                    }
                                ]
                            },
                            "data": [
                                {
                                    "Ciudad": "Madrid",
                                    "Promedio de Depósitos": "2225.000000"
                                },
                                {
                                    "Ciudad": "Valencia",
                                    "Promedio de Depósitos": "2650.000000"
                                },
                                {
                                    "Ciudad": "Palma de Mallorca",
                                    "Promedio de Depósitos": "2100.000000"
                                },
                                {
                                    "Ciudad": "Barcelona",
                                    "Promedio de Depósitos": "2687.500000"
                                },
                                {
                                    "Ciudad": "Bilbao",
                                    "Promedio de Depósitos": "2850.000000"
                                },
                                {
                                    "Ciudad": "Sevilla",
                                    "Promedio de Depósitos": "3000.000000"
                                },
                                {
                                    "Ciudad": "Zaragoza",
                                    "Promedio de Depósitos": "2500.000000"
                                }
                            ]
                        },
                        "text/html": "<table><tr><th>Ciudad</th><th>Promedio de Depósitos</th></tr><tr><td>Madrid</td><td>2225.000000</td></tr><tr><td>Valencia</td><td>2650.000000</td></tr><tr><td>Palma de Mallorca</td><td>2100.000000</td></tr><tr><td>Barcelona</td><td>2687.500000</td></tr><tr><td>Bilbao</td><td>2850.000000</td></tr><tr><td>Sevilla</td><td>3000.000000</td></tr><tr><td>Zaragoza</td><td>2500.000000</td></tr></table>"
                    },
                    "metadata": {}
                }
            ],
            "execution_count": 40
        },
        {
            "cell_type": "markdown",
            "source": [
                "**24. ¿Cuáles son las 10 cuentas con más transacciones?**"
            ],
            "metadata": {
                "language": "sql",
                "azdata_cell_guid": "a345cd99-d06a-4a9a-9c56-4ee1b0e0af9e"
            },
            "attachments": {}
        },
        {
            "cell_type": "code",
            "source": [
                "SELECT cu.CuentaID, COUNT(t.TransaccionID) AS 'Cantidad de Transacciones'\r\n",
                "FROM bank.Cuentas cu\r\n",
                "JOIN bank.Transacciones t ON cu.CuentaID = t.CuentaID\r\n",
                "GROUP BY cu.CuentaID\r\n",
                "ORDER BY 'Cantidad de Transacciones' DESC\r\n",
                "LIMIT 10;"
            ],
            "metadata": {
                "language": "sql",
                "azdata_cell_guid": "a43543e5-19c6-450b-b153-a126d7d61e39"
            },
            "outputs": [
                {
                    "output_type": "display_data",
                    "data": {
                        "text/html": "(10 row(s) affected)"
                    },
                    "metadata": {}
                },
                {
                    "output_type": "display_data",
                    "data": {
                        "text/html": "Total execution time: 00:00:01.014"
                    },
                    "metadata": {}
                },
                {
                    "output_type": "execute_result",
                    "execution_count": 41,
                    "data": {
                        "application/vnd.dataresource+json": {
                            "schema": {
                                "fields": [
                                    {
                                        "name": "CuentaID"
                                    },
                                    {
                                        "name": "Cantidad de Transacciones"
                                    }
                                ]
                            },
                            "data": [
                                {
                                    "CuentaID": "1",
                                    "Cantidad de Transacciones": "2"
                                },
                                {
                                    "CuentaID": "2",
                                    "Cantidad de Transacciones": "2"
                                },
                                {
                                    "CuentaID": "3",
                                    "Cantidad de Transacciones": "2"
                                },
                                {
                                    "CuentaID": "4",
                                    "Cantidad de Transacciones": "2"
                                },
                                {
                                    "CuentaID": "5",
                                    "Cantidad de Transacciones": "2"
                                },
                                {
                                    "CuentaID": "6",
                                    "Cantidad de Transacciones": "2"
                                },
                                {
                                    "CuentaID": "7",
                                    "Cantidad de Transacciones": "2"
                                },
                                {
                                    "CuentaID": "8",
                                    "Cantidad de Transacciones": "2"
                                },
                                {
                                    "CuentaID": "9",
                                    "Cantidad de Transacciones": "2"
                                },
                                {
                                    "CuentaID": "10",
                                    "Cantidad de Transacciones": "2"
                                }
                            ]
                        },
                        "text/html": "<table><tr><th>CuentaID</th><th>Cantidad de Transacciones</th></tr><tr><td>1</td><td>2</td></tr><tr><td>2</td><td>2</td></tr><tr><td>3</td><td>2</td></tr><tr><td>4</td><td>2</td></tr><tr><td>5</td><td>2</td></tr><tr><td>6</td><td>2</td></tr><tr><td>7</td><td>2</td></tr><tr><td>8</td><td>2</td></tr><tr><td>9</td><td>2</td></tr><tr><td>10</td><td>2</td></tr></table>"
                    },
                    "metadata": {}
                }
            ],
            "execution_count": 41
        },
        {
            "cell_type": "markdown",
            "source": [
                "**25. ¿Cuáles son los clientes que tienen un saldo total (sumando todas sus cuentas) superior a $9000?**"
            ],
            "metadata": {
                "language": "sql",
                "azdata_cell_guid": "05362bd0-ab76-4bcb-9838-fcc9856b4005"
            },
            "attachments": {}
        },
        {
            "cell_type": "code",
            "source": [
                "SELECT c.Nombre, c.Apellido\r\n",
                "FROM bank.Clientes c\r\n",
                "JOIN bank.Cuentas cu ON c.ClienteID = cu.ClienteID\r\n",
                "GROUP BY c.ClienteID\r\n",
                "HAVING SUM(cu.Saldo) > 9500;"
            ],
            "metadata": {
                "language": "sql",
                "azdata_cell_guid": "ccde126e-8faf-419f-a99b-580b0df0be54"
            },
            "outputs": [
                {
                    "output_type": "display_data",
                    "data": {
                        "text/html": "(1 row(s) affected)"
                    },
                    "metadata": {}
                },
                {
                    "output_type": "display_data",
                    "data": {
                        "text/html": "Total execution time: 00:00:01.008"
                    },
                    "metadata": {}
                },
                {
                    "output_type": "execute_result",
                    "execution_count": 49,
                    "data": {
                        "application/vnd.dataresource+json": {
                            "schema": {
                                "fields": [
                                    {
                                        "name": "Nombre"
                                    },
                                    {
                                        "name": "Apellido"
                                    }
                                ]
                            },
                            "data": [
                                {
                                    "Nombre": "María",
                                    "Apellido": "García"
                                }
                            ]
                        },
                        "text/html": "<table><tr><th>Nombre</th><th>Apellido</th></tr><tr><td>María</td><td>García</td></tr></table>"
                    },
                    "metadata": {}
                }
            ],
            "execution_count": 49
        },
        {
            "cell_type": "markdown",
            "source": [
                "**26. ¿Cuáles son las cuentas que han tenido transacciones en todas las fechas del último mes?**"
            ],
            "metadata": {
                "language": "sql",
                "azdata_cell_guid": "60dcae03-40c8-4e6e-83f3-034d09ad5352"
            },
            "attachments": {}
        },
        {
            "cell_type": "code",
            "source": [
                "SELECT cu.CuentaID\r\n",
                "FROM bank.Cuentas cu\r\n",
                "JOIN bank.Transacciones t ON cu.CuentaID = t.CuentaID\r\n",
                "WHERE t.Fecha >= DATE_SUB(CURDATE(), INTERVAL 1 MONTH)\r\n",
                "GROUP BY cu.CuentaID\r\n",
                "HAVING COUNT(DISTINCT DATE(t.Fecha)) = (SELECT COUNT(DISTINCT DATE(Fecha)) FROM bank.Transacciones WHERE Fecha >= DATE_SUB(CURDATE(), INTERVAL 1 MONTH));"
            ],
            "metadata": {
                "language": "sql",
                "azdata_cell_guid": "e2b45c31-eb43-480e-a7ce-cad457f02cf3"
            },
            "outputs": [
                {
                    "output_type": "display_data",
                    "data": {
                        "text/html": "(0 row(s) affected)"
                    },
                    "metadata": {}
                },
                {
                    "output_type": "display_data",
                    "data": {
                        "text/html": "Total execution time: 00:00:01.014"
                    },
                    "metadata": {}
                },
                {
                    "output_type": "execute_result",
                    "execution_count": 53,
                    "data": {
                        "application/vnd.dataresource+json": {
                            "schema": {
                                "fields": [
                                    {
                                        "name": "CuentaID"
                                    }
                                ]
                            },
                            "data": []
                        },
                        "text/html": "<table><tr><th>CuentaID</th></tr></table>"
                    },
                    "metadata": {}
                }
            ],
            "execution_count": 53
        },
        {
            "cell_type": "markdown",
            "source": [
                "**27. ¿Cuál es el monto promedio de transacciones por tipo de cuenta?**"
            ],
            "metadata": {
                "language": "sql",
                "azdata_cell_guid": "60164589-175f-4f7c-81c4-4036e3c44e20"
            },
            "attachments": {}
        },
        {
            "cell_type": "code",
            "source": [
                "SELECT cu.TipoCuenta, AVG(t.Monto) AS 'Promedio de Transacciones'\r\n",
                "FROM bank.Cuentas cu\r\n",
                "JOIN bank.Transacciones t ON cu.CuentaID = t.CuentaID\r\n",
                "GROUP BY cu.TipoCuenta;"
            ],
            "metadata": {
                "language": "sql",
                "azdata_cell_guid": "c4857777-4329-47c5-86ab-b73cdaa98da1"
            },
            "outputs": [
                {
                    "output_type": "display_data",
                    "data": {
                        "text/html": "(2 row(s) affected)"
                    },
                    "metadata": {}
                },
                {
                    "output_type": "display_data",
                    "data": {
                        "text/html": "Total execution time: 00:00:01.018"
                    },
                    "metadata": {}
                },
                {
                    "output_type": "execute_result",
                    "execution_count": 54,
                    "data": {
                        "application/vnd.dataresource+json": {
                            "schema": {
                                "fields": [
                                    {
                                        "name": "TipoCuenta"
                                    },
                                    {
                                        "name": "Promedio de Transacciones"
                                    }
                                ]
                            },
                            "data": [
                                {
                                    "TipoCuenta": "Ahorros",
                                    "Promedio de Transacciones": "1996.000000"
                                },
                                {
                                    "TipoCuenta": "Corriente",
                                    "Promedio de Transacciones": "358.800000"
                                }
                            ]
                        },
                        "text/html": "<table><tr><th>TipoCuenta</th><th>Promedio de Transacciones</th></tr><tr><td>Ahorros</td><td>1996.000000</td></tr><tr><td>Corriente</td><td>358.800000</td></tr></table>"
                    },
                    "metadata": {}
                }
            ],
            "execution_count": 54
        },
        {
            "cell_type": "markdown",
            "source": [
                "**28. ¿Cuáles son los clientes que tienen cuentas con saldo superior al saldo promedio de todas las cuentas?**"
            ],
            "metadata": {
                "language": "sql",
                "azdata_cell_guid": "47eae5bb-7488-4093-84a2-b9c961eef65c"
            },
            "attachments": {}
        },
        {
            "cell_type": "code",
            "source": [
                "SELECT c.Nombre, c.Apellido\r\n",
                "FROM bank.Clientes c\r\n",
                "JOIN bank.Cuentas cu ON c.ClienteID = cu.ClienteID\r\n",
                "WHERE cu.Saldo > (SELECT AVG(Saldo) FROM bank.Cuentas);"
            ],
            "metadata": {
                "language": "sql",
                "azdata_cell_guid": "f5fbb32e-4a48-4ca0-aefc-4e4973d1be1f"
            },
            "outputs": [
                {
                    "output_type": "display_data",
                    "data": {
                        "text/html": "(49 row(s) affected)"
                    },
                    "metadata": {}
                },
                {
                    "output_type": "display_data",
                    "data": {
                        "text/html": "Total execution time: 00:00:01.020"
                    },
                    "metadata": {}
                },
                {
                    "output_type": "execute_result",
                    "execution_count": 56,
                    "data": {
                        "application/vnd.dataresource+json": {
                            "schema": {
                                "fields": [
                                    {
                                        "name": "Nombre"
                                    },
                                    {
                                        "name": "Apellido"
                                    }
                                ]
                            },
                            "data": [
                                {
                                    "Nombre": "María",
                                    "Apellido": "García"
                                },
                                {
                                    "Nombre": "Ana",
                                    "Apellido": "Martínez"
                                },
                                {
                                    "Nombre": "Laura",
                                    "Apellido": "Fernández"
                                },
                                {
                                    "Nombre": "Sofía",
                                    "Apellido": "Torres"
                                },
                                {
                                    "Nombre": "Isabel",
                                    "Apellido": "Ramírez"
                                },
                                {
                                    "Nombre": "Marta",
                                    "Apellido": "Jiménez"
                                },
                                {
                                    "Nombre": "Carla",
                                    "Apellido": "Ruiz"
                                },
                                {
                                    "Nombre": "Alicia",
                                    "Apellido": "Gutiérrez"
                                },
                                {
                                    "Nombre": "Lucía",
                                    "Apellido": "Romero"
                                },
                                {
                                    "Nombre": "Elena",
                                    "Apellido": "Santos"
                                },
                                {
                                    "Nombre": "Cristina",
                                    "Apellido": "Molina"
                                },
                                {
                                    "Nombre": "Daniela",
                                    "Apellido": "Cabrera"
                                },
                                {
                                    "Nombre": "Silvia",
                                    "Apellido": "Vargas"
                                },
                                {
                                    "Nombre": "Carolina",
                                    "Apellido": "Pardo"
                                },
                                {
                                    "Nombre": "Claudia",
                                    "Apellido": "Suárez"
                                },
                                {
                                    "Nombre": "Adriana",
                                    "Apellido": "Guerrero"
                                },
                                {
                                    "Nombre": "Valeria",
                                    "Apellido": "Espinosa"
                                },
                                {
                                    "Nombre": "Natalia",
                                    "Apellido": "Aguilar"
                                },
                                {
                                    "Nombre": "Gabriela",
                                    "Apellido": "Arias"
                                },
                                {
                                    "Nombre": "Camila",
                                    "Apellido": "Acosta"
                                },
                                {
                                    "Nombre": "Mariana",
                                    "Apellido": "Pizarro"
                                },
                                {
                                    "Nombre": "Valentina",
                                    "Apellido": "Piña"
                                },
                                {
                                    "Nombre": "Rebeca",
                                    "Apellido": "Cisneros"
                                },
                                {
                                    "Nombre": "Renata",
                                    "Apellido": "Segovia"
                                },
                                {
                                    "Nombre": "Isabella",
                                    "Apellido": "Quintero"
                                },
                                {
                                    "Nombre": "Sofía",
                                    "Apellido": "Uribe"
                                },
                                {
                                    "Nombre": "Antonella",
                                    "Apellido": "Rincón"
                                },
                                {
                                    "Nombre": "Catalina",
                                    "Apellido": "Solano"
                                },
                                {
                                    "Nombre": "Constanza",
                                    "Apellido": "Avendaño"
                                },
                                {
                                    "Nombre": "Isadora",
                                    "Apellido": "Echevarría"
                                },
                                {
                                    "Nombre": "Antonia",
                                    "Apellido": "Zúñiga"
                                },
                                {
                                    "Nombre": "Rafaela",
                                    "Apellido": "Acuña"
                                },
                                {
                                    "Nombre": "Julieta",
                                    "Apellido": "Baeza"
                                },
                                {
                                    "Nombre": "Florencia",
                                    "Apellido": "Quintana"
                                },
                                {
                                    "Nombre": "Bianca",
                                    "Apellido": "Rendón"
                                },
                                {
                                    "Nombre": "Amanda",
                                    "Apellido": "Parra"
                                },
                                {
                                    "Nombre": "Ariana",
                                    "Apellido": "Henríquez"
                                },
                                {
                                    "Nombre": "Fernanda",
                                    "Apellido": "Tapia"
                                },
                                {
                                    "Nombre": "Dulce",
                                    "Apellido": "Quintero"
                                },
                                {
                                    "Nombre": "Luana",
                                    "Apellido": "Santamaría"
                                },
                                {
                                    "Nombre": "Violeta",
                                    "Apellido": "Ugarte"
                                },
                                {
                                    "Nombre": "Avril",
                                    "Apellido": "Olmedo"
                                },
                                {
                                    "Nombre": "Paloma",
                                    "Apellido": "Espinoza"
                                },
                                {
                                    "Nombre": "Maite",
                                    "Apellido": "Heredia"
                                },
                                {
                                    "Nombre": "Amelia",
                                    "Apellido": "Polo"
                                },
                                {
                                    "Nombre": "Bautista",
                                    "Apellido": "Contreras"
                                },
                                {
                                    "Nombre": "Tristán",
                                    "Apellido": "Sepúlveda"
                                },
                                {
                                    "Nombre": "Álvaro",
                                    "Apellido": "Leal"
                                },
                                {
                                    "Nombre": "Ángel",
                                    "Apellido": "Zepeda"
                                }
                            ]
                        },
                        "text/html": "<table><tr><th>Nombre</th><th>Apellido</th></tr><tr><td>María</td><td>García</td></tr><tr><td>Ana</td><td>Martínez</td></tr><tr><td>Laura</td><td>Fernández</td></tr><tr><td>Sofía</td><td>Torres</td></tr><tr><td>Isabel</td><td>Ramírez</td></tr><tr><td>Marta</td><td>Jiménez</td></tr><tr><td>Carla</td><td>Ruiz</td></tr><tr><td>Alicia</td><td>Gutiérrez</td></tr><tr><td>Lucía</td><td>Romero</td></tr><tr><td>Elena</td><td>Santos</td></tr><tr><td>Cristina</td><td>Molina</td></tr><tr><td>Daniela</td><td>Cabrera</td></tr><tr><td>Silvia</td><td>Vargas</td></tr><tr><td>Carolina</td><td>Pardo</td></tr><tr><td>Claudia</td><td>Suárez</td></tr><tr><td>Adriana</td><td>Guerrero</td></tr><tr><td>Valeria</td><td>Espinosa</td></tr><tr><td>Natalia</td><td>Aguilar</td></tr><tr><td>Gabriela</td><td>Arias</td></tr><tr><td>Camila</td><td>Acosta</td></tr><tr><td>Mariana</td><td>Pizarro</td></tr><tr><td>Valentina</td><td>Piña</td></tr><tr><td>Rebeca</td><td>Cisneros</td></tr><tr><td>Renata</td><td>Segovia</td></tr><tr><td>Isabella</td><td>Quintero</td></tr><tr><td>Sofía</td><td>Uribe</td></tr><tr><td>Antonella</td><td>Rincón</td></tr><tr><td>Catalina</td><td>Solano</td></tr><tr><td>Constanza</td><td>Avendaño</td></tr><tr><td>Isadora</td><td>Echevarría</td></tr><tr><td>Antonia</td><td>Zúñiga</td></tr><tr><td>Rafaela</td><td>Acuña</td></tr><tr><td>Julieta</td><td>Baeza</td></tr><tr><td>Florencia</td><td>Quintana</td></tr><tr><td>Bianca</td><td>Rendón</td></tr><tr><td>Amanda</td><td>Parra</td></tr><tr><td>Ariana</td><td>Henríquez</td></tr><tr><td>Fernanda</td><td>Tapia</td></tr><tr><td>Dulce</td><td>Quintero</td></tr><tr><td>Luana</td><td>Santamaría</td></tr><tr><td>Violeta</td><td>Ugarte</td></tr><tr><td>Avril</td><td>Olmedo</td></tr><tr><td>Paloma</td><td>Espinoza</td></tr><tr><td>Maite</td><td>Heredia</td></tr><tr><td>Amelia</td><td>Polo</td></tr><tr><td>Bautista</td><td>Contreras</td></tr><tr><td>Tristán</td><td>Sepúlveda</td></tr><tr><td>Álvaro</td><td>Leal</td></tr><tr><td>Ángel</td><td>Zepeda</td></tr></table>"
                    },
                    "metadata": {}
                }
            ],
            "execution_count": 56
        },
        {
            "cell_type": "markdown",
            "source": [
                "**29. ¿Cuál es el monto total de transacciones por cliente y tipo de transacción?**"
            ],
            "metadata": {
                "language": "sql",
                "azdata_cell_guid": "4a5a3c24-293c-436a-9d3d-f0010430986f"
            },
            "attachments": {}
        },
        {
            "cell_type": "code",
            "source": [
                "SELECT c.Nombre, c.Apellido, t.Tipo, SUM(t.Monto) AS 'Monto Total'\r\n",
                "FROM bank.Clientes c\r\n",
                "JOIN bank.Cuentas cu ON c.ClienteID = cu.ClienteID\r\n",
                "JOIN bank.Transacciones t ON cu.CuentaID = t.CuentaID\r\n",
                "GROUP BY c.ClienteID, t.Tipo;"
            ],
            "metadata": {
                "language": "sql",
                "azdata_cell_guid": "f4bb5d45-be5e-4aef-8e5c-a2cdd0a16c8a"
            },
            "outputs": [
                {
                    "output_type": "display_data",
                    "data": {
                        "text/html": "(56 row(s) affected)"
                    },
                    "metadata": {}
                },
                {
                    "output_type": "display_data",
                    "data": {
                        "text/html": "Total execution time: 00:00:01.015"
                    },
                    "metadata": {}
                },
                {
                    "output_type": "execute_result",
                    "execution_count": 57,
                    "data": {
                        "application/vnd.dataresource+json": {
                            "schema": {
                                "fields": [
                                    {
                                        "name": "Nombre"
                                    },
                                    {
                                        "name": "Apellido"
                                    },
                                    {
                                        "name": "Tipo"
                                    },
                                    {
                                        "name": "Monto Total"
                                    }
                                ]
                            },
                            "data": [
                                {
                                    "Nombre": "Juan",
                                    "Apellido": "Pérez",
                                    "Tipo": "Depósito",
                                    "Monto Total": "3100.00"
                                },
                                {
                                    "Nombre": "Juan",
                                    "Apellido": "Pérez",
                                    "Tipo": "Retiro",
                                    "Monto Total": "500.00"
                                },
                                {
                                    "Nombre": "María",
                                    "Apellido": "García",
                                    "Tipo": "Transferencia",
                                    "Monto Total": "2700.00"
                                },
                                {
                                    "Nombre": "Pedro",
                                    "Apellido": "Rodríguez",
                                    "Tipo": "Pago",
                                    "Monto Total": "700.00"
                                },
                                {
                                    "Nombre": "Ana",
                                    "Apellido": "Martínez",
                                    "Tipo": "Depósito",
                                    "Monto Total": "5200.00"
                                },
                                {
                                    "Nombre": "Carlos",
                                    "Apellido": "Sánchez",
                                    "Tipo": "Retiro",
                                    "Monto Total": "400.00"
                                },
                                {
                                    "Nombre": "Laura",
                                    "Apellido": "Fernández",
                                    "Tipo": "Transferencia",
                                    "Monto Total": "2100.00"
                                },
                                {
                                    "Nombre": "Javier",
                                    "Apellido": "Gómez",
                                    "Tipo": "Pago",
                                    "Monto Total": "930.00"
                                },
                                {
                                    "Nombre": "Sofía",
                                    "Apellido": "Torres",
                                    "Tipo": "Depósito",
                                    "Monto Total": "4200.00"
                                },
                                {
                                    "Nombre": "Sergio",
                                    "Apellido": "Navarro",
                                    "Tipo": "Retiro",
                                    "Monto Total": "570.00"
                                },
                                {
                                    "Nombre": "Isabel",
                                    "Apellido": "Ramírez",
                                    "Tipo": "Transferencia",
                                    "Monto Total": "3000.00"
                                },
                                {
                                    "Nombre": "Andrés",
                                    "Apellido": "Herrera",
                                    "Tipo": "Pago",
                                    "Monto Total": "780.00"
                                },
                                {
                                    "Nombre": "Marta",
                                    "Apellido": "Jiménez",
                                    "Tipo": "Depósito",
                                    "Monto Total": "5900.00"
                                },
                                {
                                    "Nombre": "Luis",
                                    "Apellido": "Moreno",
                                    "Tipo": "Retiro",
                                    "Monto Total": "450.00"
                                },
                                {
                                    "Nombre": "Carla",
                                    "Apellido": "Ruiz",
                                    "Tipo": "Transferencia",
                                    "Monto Total": "2300.00"
                                },
                                {
                                    "Nombre": "Diego",
                                    "Apellido": "Álvarez",
                                    "Tipo": "Pago",
                                    "Monto Total": "1010.00"
                                },
                                {
                                    "Nombre": "Alicia",
                                    "Apellido": "Gutiérrez",
                                    "Tipo": "Depósito",
                                    "Monto Total": "4600.00"
                                },
                                {
                                    "Nombre": "Raúl",
                                    "Apellido": "Vázquez",
                                    "Tipo": "Retiro",
                                    "Monto Total": "560.00"
                                },
                                {
                                    "Nombre": "Lucía",
                                    "Apellido": "Romero",
                                    "Tipo": "Transferencia",
                                    "Monto Total": "3000.00"
                                },
                                {
                                    "Nombre": "Óscar",
                                    "Apellido": "Ramos",
                                    "Tipo": "Pago",
                                    "Monto Total": "840.00"
                                },
                                {
                                    "Nombre": "Elena",
                                    "Apellido": "Santos",
                                    "Tipo": "Depósito",
                                    "Monto Total": "5700.00"
                                },
                                {
                                    "Nombre": "Alejandro",
                                    "Apellido": "Flores",
                                    "Tipo": "Retiro",
                                    "Monto Total": "440.00"
                                },
                                {
                                    "Nombre": "Cristina",
                                    "Apellido": "Molina",
                                    "Tipo": "Transferencia",
                                    "Monto Total": "2350.00"
                                },
                                {
                                    "Nombre": "Mario",
                                    "Apellido": "Castillo",
                                    "Tipo": "Pago",
                                    "Monto Total": "1010.00"
                                },
                                {
                                    "Nombre": "Daniela",
                                    "Apellido": "Cabrera",
                                    "Tipo": "Depósito",
                                    "Monto Total": "4800.00"
                                },
                                {
                                    "Nombre": "Pablo",
                                    "Apellido": "Ortega",
                                    "Tipo": "Retiro",
                                    "Monto Total": "600.00"
                                },
                                {
                                    "Nombre": "Silvia",
                                    "Apellido": "Vargas",
                                    "Tipo": "Transferencia",
                                    "Monto Total": "3300.00"
                                },
                                {
                                    "Nombre": "Roberto",
                                    "Apellido": "Sáez",
                                    "Tipo": "Pago",
                                    "Monto Total": "860.00"
                                },
                                {
                                    "Nombre": "Carolina",
                                    "Apellido": "Pardo",
                                    "Tipo": "Depósito",
                                    "Monto Total": "6300.00"
                                },
                                {
                                    "Nombre": "David",
                                    "Apellido": "Rojas",
                                    "Tipo": "Retiro",
                                    "Monto Total": "460.00"
                                },
                                {
                                    "Nombre": "Claudia",
                                    "Apellido": "Suárez",
                                    "Tipo": "Transferencia",
                                    "Monto Total": "2550.00"
                                },
                                {
                                    "Nombre": "Francisco",
                                    "Apellido": "Ríos",
                                    "Tipo": "Pago",
                                    "Monto Total": "1080.00"
                                },
                                {
                                    "Nombre": "Adriana",
                                    "Apellido": "Guerrero",
                                    "Tipo": "Depósito",
                                    "Monto Total": "5100.00"
                                },
                                {
                                    "Nombre": "Ernesto",
                                    "Apellido": "Montes",
                                    "Tipo": "Retiro",
                                    "Monto Total": "660.00"
                                },
                                {
                                    "Nombre": "Valeria",
                                    "Apellido": "Espinosa",
                                    "Tipo": "Transferencia",
                                    "Monto Total": "3500.00"
                                },
                                {
                                    "Nombre": "Gustavo",
                                    "Apellido": "Hidalgo",
                                    "Tipo": "Pago",
                                    "Monto Total": "830.00"
                                },
                                {
                                    "Nombre": "Natalia",
                                    "Apellido": "Aguilar",
                                    "Tipo": "Depósito",
                                    "Monto Total": "6000.00"
                                },
                                {
                                    "Nombre": "Rodrigo",
                                    "Apellido": "Serrano",
                                    "Tipo": "Retiro",
                                    "Monto Total": "500.00"
                                },
                                {
                                    "Nombre": "Gabriela",
                                    "Apellido": "Arias",
                                    "Tipo": "Transferencia",
                                    "Monto Total": "2700.00"
                                },
                                {
                                    "Nombre": "Mateo",
                                    "Apellido": "Córdoba",
                                    "Tipo": "Pago",
                                    "Monto Total": "1110.00"
                                },
                                {
                                    "Nombre": "Camila",
                                    "Apellido": "Acosta",
                                    "Tipo": "Depósito",
                                    "Monto Total": "5500.00"
                                },
                                {
                                    "Nombre": "Nicolás",
                                    "Apellido": "Ledesma",
                                    "Tipo": "Retiro",
                                    "Monto Total": "650.00"
                                },
                                {
                                    "Nombre": "Mariana",
                                    "Apellido": "Pizarro",
                                    "Tipo": "Transferencia",
                                    "Monto Total": "3700.00"
                                },
                                {
                                    "Nombre": "Leonardo",
                                    "Apellido": "Escobar",
                                    "Tipo": "Pago",
                                    "Monto Total": "890.00"
                                },
                                {
                                    "Nombre": "Valentina",
                                    "Apellido": "Piña",
                                    "Tipo": "Depósito",
                                    "Monto Total": "2800.00"
                                },
                                {
                                    "Nombre": "Damián",
                                    "Apellido": "Arce",
                                    "Tipo": "Retiro",
                                    "Monto Total": "210.00"
                                },
                                {
                                    "Nombre": "Rebeca",
                                    "Apellido": "Cisneros",
                                    "Tipo": "Transferencia",
                                    "Monto Total": "1100.00"
                                },
                                {
                                    "Nombre": "Samuel",
                                    "Apellido": "Villalobos",
                                    "Tipo": "Pago",
                                    "Monto Total": "490.00"
                                },
                                {
                                    "Nombre": "Renata",
                                    "Apellido": "Segovia",
                                    "Tipo": "Depósito",
                                    "Monto Total": "2500.00"
                                },
                                {
                                    "Nombre": "Emiliano",
                                    "Apellido": "Salcedo",
                                    "Tipo": "Retiro",
                                    "Monto Total": "290.00"
                                },
                                {
                                    "Nombre": "Isabella",
                                    "Apellido": "Quintero",
                                    "Tipo": "Transferencia",
                                    "Monto Total": "1600.00"
                                },
                                {
                                    "Nombre": "Tomás",
                                    "Apellido": "Castañeda",
                                    "Tipo": "Pago",
                                    "Monto Total": "370.00"
                                },
                                {
                                    "Nombre": "Sofía",
                                    "Apellido": "Uribe",
                                    "Tipo": "Depósito",
                                    "Monto Total": "3000.00"
                                },
                                {
                                    "Nombre": "Martín",
                                    "Apellido": "Salinas",
                                    "Tipo": "Retiro",
                                    "Monto Total": "230.00"
                                },
                                {
                                    "Nombre": "Antonella",
                                    "Apellido": "Rincón",
                                    "Tipo": "Transferencia",
                                    "Monto Total": "1200.00"
                                },
                                {
                                    "Nombre": "Santiago",
                                    "Apellido": "Estrada",
                                    "Tipo": "Pago",
                                    "Monto Total": "520.00"
                                }
                            ]
                        },
                        "text/html": "<table><tr><th>Nombre</th><th>Apellido</th><th>Tipo</th><th>Monto Total</th></tr><tr><td>Juan</td><td>Pérez</td><td>Depósito</td><td>3100.00</td></tr><tr><td>Juan</td><td>Pérez</td><td>Retiro</td><td>500.00</td></tr><tr><td>María</td><td>García</td><td>Transferencia</td><td>2700.00</td></tr><tr><td>Pedro</td><td>Rodríguez</td><td>Pago</td><td>700.00</td></tr><tr><td>Ana</td><td>Martínez</td><td>Depósito</td><td>5200.00</td></tr><tr><td>Carlos</td><td>Sánchez</td><td>Retiro</td><td>400.00</td></tr><tr><td>Laura</td><td>Fernández</td><td>Transferencia</td><td>2100.00</td></tr><tr><td>Javier</td><td>Gómez</td><td>Pago</td><td>930.00</td></tr><tr><td>Sofía</td><td>Torres</td><td>Depósito</td><td>4200.00</td></tr><tr><td>Sergio</td><td>Navarro</td><td>Retiro</td><td>570.00</td></tr><tr><td>Isabel</td><td>Ramírez</td><td>Transferencia</td><td>3000.00</td></tr><tr><td>Andrés</td><td>Herrera</td><td>Pago</td><td>780.00</td></tr><tr><td>Marta</td><td>Jiménez</td><td>Depósito</td><td>5900.00</td></tr><tr><td>Luis</td><td>Moreno</td><td>Retiro</td><td>450.00</td></tr><tr><td>Carla</td><td>Ruiz</td><td>Transferencia</td><td>2300.00</td></tr><tr><td>Diego</td><td>Álvarez</td><td>Pago</td><td>1010.00</td></tr><tr><td>Alicia</td><td>Gutiérrez</td><td>Depósito</td><td>4600.00</td></tr><tr><td>Raúl</td><td>Vázquez</td><td>Retiro</td><td>560.00</td></tr><tr><td>Lucía</td><td>Romero</td><td>Transferencia</td><td>3000.00</td></tr><tr><td>Óscar</td><td>Ramos</td><td>Pago</td><td>840.00</td></tr><tr><td>Elena</td><td>Santos</td><td>Depósito</td><td>5700.00</td></tr><tr><td>Alejandro</td><td>Flores</td><td>Retiro</td><td>440.00</td></tr><tr><td>Cristina</td><td>Molina</td><td>Transferencia</td><td>2350.00</td></tr><tr><td>Mario</td><td>Castillo</td><td>Pago</td><td>1010.00</td></tr><tr><td>Daniela</td><td>Cabrera</td><td>Depósito</td><td>4800.00</td></tr><tr><td>Pablo</td><td>Ortega</td><td>Retiro</td><td>600.00</td></tr><tr><td>Silvia</td><td>Vargas</td><td>Transferencia</td><td>3300.00</td></tr><tr><td>Roberto</td><td>Sáez</td><td>Pago</td><td>860.00</td></tr><tr><td>Carolina</td><td>Pardo</td><td>Depósito</td><td>6300.00</td></tr><tr><td>David</td><td>Rojas</td><td>Retiro</td><td>460.00</td></tr><tr><td>Claudia</td><td>Suárez</td><td>Transferencia</td><td>2550.00</td></tr><tr><td>Francisco</td><td>Ríos</td><td>Pago</td><td>1080.00</td></tr><tr><td>Adriana</td><td>Guerrero</td><td>Depósito</td><td>5100.00</td></tr><tr><td>Ernesto</td><td>Montes</td><td>Retiro</td><td>660.00</td></tr><tr><td>Valeria</td><td>Espinosa</td><td>Transferencia</td><td>3500.00</td></tr><tr><td>Gustavo</td><td>Hidalgo</td><td>Pago</td><td>830.00</td></tr><tr><td>Natalia</td><td>Aguilar</td><td>Depósito</td><td>6000.00</td></tr><tr><td>Rodrigo</td><td>Serrano</td><td>Retiro</td><td>500.00</td></tr><tr><td>Gabriela</td><td>Arias</td><td>Transferencia</td><td>2700.00</td></tr><tr><td>Mateo</td><td>Córdoba</td><td>Pago</td><td>1110.00</td></tr><tr><td>Camila</td><td>Acosta</td><td>Depósito</td><td>5500.00</td></tr><tr><td>Nicolás</td><td>Ledesma</td><td>Retiro</td><td>650.00</td></tr><tr><td>Mariana</td><td>Pizarro</td><td>Transferencia</td><td>3700.00</td></tr><tr><td>Leonardo</td><td>Escobar</td><td>Pago</td><td>890.00</td></tr><tr><td>Valentina</td><td>Piña</td><td>Depósito</td><td>2800.00</td></tr><tr><td>Damián</td><td>Arce</td><td>Retiro</td><td>210.00</td></tr><tr><td>Rebeca</td><td>Cisneros</td><td>Transferencia</td><td>1100.00</td></tr><tr><td>Samuel</td><td>Villalobos</td><td>Pago</td><td>490.00</td></tr><tr><td>Renata</td><td>Segovia</td><td>Depósito</td><td>2500.00</td></tr><tr><td>Emiliano</td><td>Salcedo</td><td>Retiro</td><td>290.00</td></tr><tr><td>Isabella</td><td>Quintero</td><td>Transferencia</td><td>1600.00</td></tr><tr><td>Tomás</td><td>Castañeda</td><td>Pago</td><td>370.00</td></tr><tr><td>Sofía</td><td>Uribe</td><td>Depósito</td><td>3000.00</td></tr><tr><td>Martín</td><td>Salinas</td><td>Retiro</td><td>230.00</td></tr><tr><td>Antonella</td><td>Rincón</td><td>Transferencia</td><td>1200.00</td></tr><tr><td>Santiago</td><td>Estrada</td><td>Pago</td><td>520.00</td></tr></table>"
                    },
                    "metadata": {}
                }
            ],
            "execution_count": 57
        },
        {
            "cell_type": "markdown",
            "source": [
                "**30. ¿Cuáles son las cuentas que no han tenido transacciones en los últimos 6 meses?**"
            ],
            "metadata": {
                "language": "sql",
                "azdata_cell_guid": "8cf2fe81-b3f2-4d18-9b8c-35fa4036635d"
            },
            "attachments": {}
        },
        {
            "cell_type": "code",
            "source": [
                "SELECT cu.CuentaID\r\n",
                "FROM bank.Cuentas cu\r\n",
                "LEFT JOIN bank.Transacciones t ON cu.CuentaID = t.CuentaID AND t.Fecha >= DATE_SUB(CURDATE(), INTERVAL 6 MONTH)\r\n",
                "WHERE t.TransaccionID IS NULL\r\n",
                "GROUP BY cu.CuentaID;"
            ],
            "metadata": {
                "language": "sql",
                "azdata_cell_guid": "e3289924-fed9-4e63-8103-9801e790cae2"
            },
            "outputs": [
                {
                    "output_type": "display_data",
                    "data": {
                        "text/html": "(46 row(s) affected)"
                    },
                    "metadata": {}
                },
                {
                    "output_type": "display_data",
                    "data": {
                        "text/html": "Total execution time: 00:00:01.021"
                    },
                    "metadata": {}
                },
                {
                    "output_type": "execute_result",
                    "execution_count": 58,
                    "data": {
                        "application/vnd.dataresource+json": {
                            "schema": {
                                "fields": [
                                    {
                                        "name": "CuentaID"
                                    }
                                ]
                            },
                            "data": [
                                {
                                    "CuentaID": "45"
                                },
                                {
                                    "CuentaID": "46"
                                },
                                {
                                    "CuentaID": "57"
                                },
                                {
                                    "CuentaID": "58"
                                },
                                {
                                    "CuentaID": "59"
                                },
                                {
                                    "CuentaID": "60"
                                },
                                {
                                    "CuentaID": "61"
                                },
                                {
                                    "CuentaID": "62"
                                },
                                {
                                    "CuentaID": "63"
                                },
                                {
                                    "CuentaID": "64"
                                },
                                {
                                    "CuentaID": "65"
                                },
                                {
                                    "CuentaID": "66"
                                },
                                {
                                    "CuentaID": "67"
                                },
                                {
                                    "CuentaID": "68"
                                },
                                {
                                    "CuentaID": "69"
                                },
                                {
                                    "CuentaID": "70"
                                },
                                {
                                    "CuentaID": "71"
                                },
                                {
                                    "CuentaID": "72"
                                },
                                {
                                    "CuentaID": "73"
                                },
                                {
                                    "CuentaID": "74"
                                },
                                {
                                    "CuentaID": "75"
                                },
                                {
                                    "CuentaID": "76"
                                },
                                {
                                    "CuentaID": "77"
                                },
                                {
                                    "CuentaID": "78"
                                },
                                {
                                    "CuentaID": "79"
                                },
                                {
                                    "CuentaID": "80"
                                },
                                {
                                    "CuentaID": "81"
                                },
                                {
                                    "CuentaID": "82"
                                },
                                {
                                    "CuentaID": "83"
                                },
                                {
                                    "CuentaID": "84"
                                },
                                {
                                    "CuentaID": "85"
                                },
                                {
                                    "CuentaID": "86"
                                },
                                {
                                    "CuentaID": "87"
                                },
                                {
                                    "CuentaID": "88"
                                },
                                {
                                    "CuentaID": "89"
                                },
                                {
                                    "CuentaID": "90"
                                },
                                {
                                    "CuentaID": "91"
                                },
                                {
                                    "CuentaID": "92"
                                },
                                {
                                    "CuentaID": "93"
                                },
                                {
                                    "CuentaID": "94"
                                },
                                {
                                    "CuentaID": "95"
                                },
                                {
                                    "CuentaID": "96"
                                },
                                {
                                    "CuentaID": "97"
                                },
                                {
                                    "CuentaID": "98"
                                },
                                {
                                    "CuentaID": "99"
                                },
                                {
                                    "CuentaID": "100"
                                }
                            ]
                        },
                        "text/html": "<table><tr><th>CuentaID</th></tr><tr><td>45</td></tr><tr><td>46</td></tr><tr><td>57</td></tr><tr><td>58</td></tr><tr><td>59</td></tr><tr><td>60</td></tr><tr><td>61</td></tr><tr><td>62</td></tr><tr><td>63</td></tr><tr><td>64</td></tr><tr><td>65</td></tr><tr><td>66</td></tr><tr><td>67</td></tr><tr><td>68</td></tr><tr><td>69</td></tr><tr><td>70</td></tr><tr><td>71</td></tr><tr><td>72</td></tr><tr><td>73</td></tr><tr><td>74</td></tr><tr><td>75</td></tr><tr><td>76</td></tr><tr><td>77</td></tr><tr><td>78</td></tr><tr><td>79</td></tr><tr><td>80</td></tr><tr><td>81</td></tr><tr><td>82</td></tr><tr><td>83</td></tr><tr><td>84</td></tr><tr><td>85</td></tr><tr><td>86</td></tr><tr><td>87</td></tr><tr><td>88</td></tr><tr><td>89</td></tr><tr><td>90</td></tr><tr><td>91</td></tr><tr><td>92</td></tr><tr><td>93</td></tr><tr><td>94</td></tr><tr><td>95</td></tr><tr><td>96</td></tr><tr><td>97</td></tr><tr><td>98</td></tr><tr><td>99</td></tr><tr><td>100</td></tr></table>"
                    },
                    "metadata": {}
                }
            ],
            "execution_count": 58
        },
        {
            "cell_type": "markdown",
            "source": [
                "**31. ¿Cuál es el monto promedio de transacciones por rango de edad de los clientes?**"
            ],
            "metadata": {
                "language": "sql",
                "azdata_cell_guid": "02fe62cc-829d-4238-a8bf-a593af4be586"
            },
            "attachments": {}
        },
        {
            "cell_type": "code",
            "source": [
                "SELECT\r\n",
                "    RangoDeEdad,\r\n",
                "    AVG(Monto) AS 'Promedio de Transacciones'\r\n",
                "FROM (\r\n",
                "    SELECT\r\n",
                "        c.ClienteID,\r\n",
                "        t.Monto,\r\n",
                "        CASE\r\n",
                "            WHEN YEAR(CURDATE()) - YEAR(c.FechaNacimiento) < 30 THEN '18-29'\r\n",
                "            WHEN YEAR(CURDATE()) - YEAR(c.FechaNacimiento) BETWEEN 30 AND 39 THEN '30-39'\r\n",
                "            WHEN YEAR(CURDATE()) - YEAR(c.FechaNacimiento) BETWEEN 40 AND 49 THEN '40-49'\r\n",
                "            WHEN YEAR(CURDATE()) - YEAR(c.FechaNacimiento) BETWEEN 50 AND 59 THEN '50-59'\r\n",
                "            ELSE '60+'\r\n",
                "        END AS RangoDeEdad\r\n",
                "    FROM bank.Clientes c\r\n",
                "    JOIN bank.Cuentas cu ON c.ClienteID = cu.ClienteID\r\n",
                "    JOIN bank.Transacciones t ON cu.CuentaID = t.CuentaID\r\n",
                ") AS Subconsulta\r\n",
                "GROUP BY RangoDeEdad;\r\n",
                ""
            ],
            "metadata": {
                "language": "sql",
                "azdata_cell_guid": "4e3e3bae-42d8-44bc-8a51-89c1bc56f578"
            },
            "outputs": [
                {
                    "output_type": "display_data",
                    "data": {
                        "text/html": "(3 row(s) affected)"
                    },
                    "metadata": {}
                },
                {
                    "output_type": "display_data",
                    "data": {
                        "text/html": "Total execution time: 00:00:01.010"
                    },
                    "metadata": {}
                },
                {
                    "output_type": "execute_result",
                    "execution_count": 67,
                    "data": {
                        "application/vnd.dataresource+json": {
                            "schema": {
                                "fields": [
                                    {
                                        "name": "RangoDeEdad"
                                    },
                                    {
                                        "name": "Promedio de Transacciones"
                                    }
                                ]
                            },
                            "data": [
                                {
                                    "RangoDeEdad": "30-39",
                                    "Promedio de Transacciones": "1617.058824"
                                },
                                {
                                    "RangoDeEdad": "40-49",
                                    "Promedio de Transacciones": "440.000000"
                                },
                                {
                                    "RangoDeEdad": "18-29",
                                    "Promedio de Transacciones": "1686.363636"
                                }
                            ]
                        },
                        "text/html": "<table><tr><th>RangoDeEdad</th><th>Promedio de Transacciones</th></tr><tr><td>30-39</td><td>1617.058824</td></tr><tr><td>40-49</td><td>440.000000</td></tr><tr><td>18-29</td><td>1686.363636</td></tr></table>"
                    },
                    "metadata": {}
                }
            ],
            "execution_count": 67
        },
        {
            "cell_type": "markdown",
            "source": [
                "32. **¿Cuáles son los clientes que tienen cuentas con un saldo superior a la mitad **del saldo promedio de todas las cuentas?**  \n",
                "    **"
            ],
            "metadata": {
                "azdata_cell_guid": "400579c4-3dbe-4ee8-ad95-ac92985f2ef9"
            },
            "attachments": {}
        },
        {
            "cell_type": "code",
            "source": [
                "SELECT c.Nombre, c.Apellido\r\n",
                "FROM bank.Clientes c\r\n",
                "JOIN bank.Cuentas cu ON c.ClienteID = cu.ClienteID\r\n",
                "WHERE cu.Saldo > (SELECT 2 * AVG(Saldo) FROM bank.Cuentas);"
            ],
            "metadata": {
                "azdata_cell_guid": "eec32fce-5d72-450a-a7eb-e06e366f191f",
                "language": "sql"
            },
            "outputs": [
                {
                    "output_type": "display_data",
                    "data": {
                        "text/html": "(0 row(s) affected)"
                    },
                    "metadata": {}
                },
                {
                    "output_type": "display_data",
                    "data": {
                        "text/html": "Total execution time: 00:00:01.011"
                    },
                    "metadata": {}
                },
                {
                    "output_type": "execute_result",
                    "execution_count": 70,
                    "data": {
                        "application/vnd.dataresource+json": {
                            "schema": {
                                "fields": [
                                    {
                                        "name": "Nombre"
                                    },
                                    {
                                        "name": "Apellido"
                                    }
                                ]
                            },
                            "data": []
                        },
                        "text/html": "<table><tr><th>Nombre</th><th>Apellido</th></tr></table>"
                    },
                    "metadata": {}
                }
            ],
            "execution_count": 70
        },
        {
            "cell_type": "markdown",
            "source": [
                "**33. ¿Cuál es el monto total de transacciones por mes y año?**"
            ],
            "metadata": {
                "language": "sql",
                "azdata_cell_guid": "041cd756-fa24-442f-abfb-912f99a9fa5a"
            },
            "attachments": {}
        },
        {
            "cell_type": "code",
            "source": [
                "SELECT YEAR(Fecha) AS 'Año', MONTH(Fecha) AS 'Mes', SUM(Monto) AS 'Monto Total'\r\n",
                "FROM bank.Transacciones\r\n",
                "GROUP BY YEAR(Fecha), MONTH(Fecha)\r\n",
                "ORDER BY YEAR(Fecha), MONTH(Fecha);"
            ],
            "metadata": {
                "language": "sql",
                "azdata_cell_guid": "52726c21-6dd2-4a3b-b651-fcef789e094c"
            },
            "outputs": [
                {
                    "output_type": "display_data",
                    "data": {
                        "text/html": "(17 row(s) affected)"
                    },
                    "metadata": {}
                },
                {
                    "output_type": "display_data",
                    "data": {
                        "text/html": "Total execution time: 00:00:01.023"
                    },
                    "metadata": {}
                },
                {
                    "output_type": "execute_result",
                    "execution_count": 73,
                    "data": {
                        "application/vnd.dataresource+json": {
                            "schema": {
                                "fields": [
                                    {
                                        "name": "Año"
                                    },
                                    {
                                        "name": "Mes"
                                    },
                                    {
                                        "name": "Monto Total"
                                    }
                                ]
                            },
                            "data": [
                                {
                                    "Año": "2023",
                                    "Mes": "4",
                                    "Monto Total": "4950.00"
                                },
                                {
                                    "Año": "2023",
                                    "Mes": "5",
                                    "Monto Total": "6200.00"
                                },
                                {
                                    "Año": "2023",
                                    "Mes": "6",
                                    "Monto Total": "4650.00"
                                },
                                {
                                    "Año": "2023",
                                    "Mes": "7",
                                    "Monto Total": "5910.00"
                                },
                                {
                                    "Año": "2023",
                                    "Mes": "8",
                                    "Monto Total": "5750.00"
                                },
                                {
                                    "Año": "2023",
                                    "Mes": "9",
                                    "Monto Total": "6870.00"
                                },
                                {
                                    "Año": "2023",
                                    "Mes": "10",
                                    "Monto Total": "5830.00"
                                },
                                {
                                    "Año": "2023",
                                    "Mes": "11",
                                    "Monto Total": "7460.00"
                                },
                                {
                                    "Año": "2023",
                                    "Mes": "12",
                                    "Monto Total": "7210.00"
                                },
                                {
                                    "Año": "2024",
                                    "Mes": "1",
                                    "Monto Total": "8450.00"
                                },
                                {
                                    "Año": "2024",
                                    "Mes": "2",
                                    "Monto Total": "7080.00"
                                },
                                {
                                    "Año": "2024",
                                    "Mes": "3",
                                    "Monto Total": "8770.00"
                                },
                                {
                                    "Año": "2024",
                                    "Mes": "4",
                                    "Monto Total": "8230.00"
                                },
                                {
                                    "Año": "2024",
                                    "Mes": "5",
                                    "Monto Total": "9620.00"
                                },
                                {
                                    "Año": "2024",
                                    "Mes": "6",
                                    "Monto Total": "8200.00"
                                },
                                {
                                    "Año": "2024",
                                    "Mes": "7",
                                    "Monto Total": "9830.00"
                                },
                                {
                                    "Año": "2024",
                                    "Mes": "8",
                                    "Monto Total": "2730.00"
                                }
                            ]
                        },
                        "text/html": "<table><tr><th>Año</th><th>Mes</th><th>Monto Total</th></tr><tr><td>2023</td><td>4</td><td>4950.00</td></tr><tr><td>2023</td><td>5</td><td>6200.00</td></tr><tr><td>2023</td><td>6</td><td>4650.00</td></tr><tr><td>2023</td><td>7</td><td>5910.00</td></tr><tr><td>2023</td><td>8</td><td>5750.00</td></tr><tr><td>2023</td><td>9</td><td>6870.00</td></tr><tr><td>2023</td><td>10</td><td>5830.00</td></tr><tr><td>2023</td><td>11</td><td>7460.00</td></tr><tr><td>2023</td><td>12</td><td>7210.00</td></tr><tr><td>2024</td><td>1</td><td>8450.00</td></tr><tr><td>2024</td><td>2</td><td>7080.00</td></tr><tr><td>2024</td><td>3</td><td>8770.00</td></tr><tr><td>2024</td><td>4</td><td>8230.00</td></tr><tr><td>2024</td><td>5</td><td>9620.00</td></tr><tr><td>2024</td><td>6</td><td>8200.00</td></tr><tr><td>2024</td><td>7</td><td>9830.00</td></tr><tr><td>2024</td><td>8</td><td>2730.00</td></tr></table>"
                    },
                    "metadata": {}
                }
            ],
            "execution_count": 73
        },
        {
            "cell_type": "markdown",
            "source": [
                "**34. ¿Cuáles son las cuentas que han tenido transacciones en todas las fechas del último trimestre?**"
            ],
            "metadata": {
                "language": "sql",
                "azdata_cell_guid": "7c92ceab-2bed-4cc0-93c7-dce1f309b89d"
            },
            "attachments": {}
        },
        {
            "cell_type": "code",
            "source": [
                "SELECT cu.CuentaID\r\n",
                "FROM bank.Cuentas cu\r\n",
                "JOIN bank.Transacciones t ON cu.CuentaID = t.CuentaID\r\n",
                "WHERE t.Fecha >= DATE_SUB(CURDATE(), INTERVAL 3 MONTH)\r\n",
                "GROUP BY cu.CuentaID\r\n",
                "HAVING COUNT(DISTINCT DATE(t.Fecha)) = (SELECT COUNT(DISTINCT DATE(Fecha)) FROM bank.Transacciones WHERE Fecha >= DATE_SUB(CURDATE(), INTERVAL 3 MONTH));"
            ],
            "metadata": {
                "language": "sql",
                "azdata_cell_guid": "d1307b4a-4be9-412c-bee1-529646e0a5c2"
            },
            "outputs": [
                {
                    "output_type": "display_data",
                    "data": {
                        "text/html": "(0 row(s) affected)"
                    },
                    "metadata": {}
                },
                {
                    "output_type": "display_data",
                    "data": {
                        "text/html": "Total execution time: 00:00:01.012"
                    },
                    "metadata": {}
                },
                {
                    "output_type": "execute_result",
                    "execution_count": 74,
                    "data": {
                        "application/vnd.dataresource+json": {
                            "schema": {
                                "fields": [
                                    {
                                        "name": "CuentaID"
                                    }
                                ]
                            },
                            "data": []
                        },
                        "text/html": "<table><tr><th>CuentaID</th></tr></table>"
                    },
                    "metadata": {}
                }
            ],
            "execution_count": 74
        },
        {
            "cell_type": "markdown",
            "source": [
                "**35. ¿Cuál es el monto promedio de depósitos por rango de saldo de las cuentas?**"
            ],
            "metadata": {
                "language": "sql",
                "azdata_cell_guid": "4b845cb4-b3d1-461c-963f-ef1ccaa8ca10"
            },
            "attachments": {}
        },
        {
            "cell_type": "code",
            "source": [
                "SELECT\r\n",
                "    RangoDeSaldo,\r\n",
                "    AVG(Monto) AS 'Promedio de Depósitos'\r\n",
                "FROM (\r\n",
                "    SELECT\r\n",
                "        cu.CuentaID,\r\n",
                "        cu.Saldo,\r\n",
                "        t.Monto,\r\n",
                "        CASE\r\n",
                "            WHEN cu.Saldo < 5000 THEN 'Menor a $5,000'\r\n",
                "            WHEN cu.Saldo BETWEEN 5000 AND 10000 THEN '$5,000 - $10,000'\r\n",
                "            WHEN cu.Saldo BETWEEN 10000 AND 20000 THEN '$10,000 - $20,000'\r\n",
                "            ELSE 'Mayor a $20,000'\r\n",
                "        END AS RangoDeSaldo\r\n",
                "    FROM bank.Cuentas cu\r\n",
                "    JOIN bank.Transacciones t ON cu.CuentaID = t.CuentaID\r\n",
                "    WHERE t.Tipo = 'Depósito'\r\n",
                ") AS Subconsulta\r\n",
                "GROUP BY RangoDeSaldo;\r\n",
                ""
            ],
            "metadata": {
                "language": "sql",
                "azdata_cell_guid": "4ae4e0d9-b248-42ca-b603-3ec594f842f9"
            },
            "outputs": [
                {
                    "output_type": "display_data",
                    "data": {
                        "text/html": "(1 row(s) affected)"
                    },
                    "metadata": {}
                },
                {
                    "output_type": "display_data",
                    "data": {
                        "text/html": "Total execution time: 00:00:01.020"
                    },
                    "metadata": {}
                },
                {
                    "output_type": "execute_result",
                    "execution_count": 78,
                    "data": {
                        "application/vnd.dataresource+json": {
                            "schema": {
                                "fields": [
                                    {
                                        "name": "RangoDeSaldo"
                                    },
                                    {
                                        "name": "Promedio de Depósitos"
                                    }
                                ]
                            },
                            "data": [
                                {
                                    "RangoDeSaldo": "$5,000 - $10,000",
                                    "Promedio de Depósitos": "2588.000000"
                                }
                            ]
                        },
                        "text/html": "<table><tr><th>RangoDeSaldo</th><th>Promedio de Depósitos</th></tr><tr><td>$5,000 - $10,000</td><td>2588.000000</td></tr></table>"
                    },
                    "metadata": {}
                }
            ],
            "execution_count": 78
        },
        {
            "cell_type": "markdown",
            "source": [
                "**36. ¿Cuáles son los clientes que tienen cuentas con un saldo superior al saldo máximo de todas las cuentas de ahorros?**"
            ],
            "metadata": {
                "language": "sql",
                "azdata_cell_guid": "7054d970-8fb9-442b-b330-632a93b2bff3"
            },
            "attachments": {}
        },
        {
            "cell_type": "code",
            "source": [
                "SELECT c.Nombre, c.Apellido\r\n",
                "FROM bank.Clientes c\r\n",
                "JOIN bank.Cuentas cu ON c.ClienteID = cu.ClienteID\r\n",
                "WHERE cu.Saldo > (SELECT MAX(Saldo) FROM bank.Cuentas WHERE TipoCuenta = 'Ahorros');"
            ],
            "metadata": {
                "language": "sql",
                "azdata_cell_guid": "b58e60eb-ec2e-44fa-a929-cb5182da5c87"
            },
            "outputs": [
                {
                    "output_type": "display_data",
                    "data": {
                        "text/html": "(0 row(s) affected)"
                    },
                    "metadata": {}
                },
                {
                    "output_type": "display_data",
                    "data": {
                        "text/html": "Total execution time: 00:00:01.009"
                    },
                    "metadata": {}
                },
                {
                    "output_type": "execute_result",
                    "execution_count": 79,
                    "data": {
                        "application/vnd.dataresource+json": {
                            "schema": {
                                "fields": [
                                    {
                                        "name": "Nombre"
                                    },
                                    {
                                        "name": "Apellido"
                                    }
                                ]
                            },
                            "data": []
                        },
                        "text/html": "<table><tr><th>Nombre</th><th>Apellido</th></tr></table>"
                    },
                    "metadata": {}
                }
            ],
            "execution_count": 79
        },
        {
            "cell_type": "markdown",
            "source": [
                "**37. ¿Cuál es el monto total de transacciones por día de la semana?**"
            ],
            "metadata": {
                "language": "sql",
                "azdata_cell_guid": "350b365e-7fbf-4309-8918-d74f8d3a8b63"
            },
            "attachments": {}
        },
        {
            "cell_type": "code",
            "source": [
                "SELECT DAYNAME(Fecha) AS 'Día de la Semana', SUM(Monto) AS 'Monto Total'\r\n",
                "FROM bank.Transacciones\r\n",
                "GROUP BY DAYNAME(Fecha), DAYOFWEEK(Fecha)\r\n",
                "ORDER BY DAYOFWEEK(Fecha);"
            ],
            "metadata": {
                "language": "sql",
                "azdata_cell_guid": "f453a349-e478-4194-bace-507edbfe0cec"
            },
            "outputs": [
                {
                    "output_type": "display_data",
                    "data": {
                        "text/html": "(7 row(s) affected)"
                    },
                    "metadata": {}
                },
                {
                    "output_type": "display_data",
                    "data": {
                        "text/html": "Total execution time: 00:00:01.013"
                    },
                    "metadata": {}
                },
                {
                    "output_type": "execute_result",
                    "execution_count": 81,
                    "data": {
                        "application/vnd.dataresource+json": {
                            "schema": {
                                "fields": [
                                    {
                                        "name": "Día de la Semana"
                                    },
                                    {
                                        "name": "Monto Total"
                                    }
                                ]
                            },
                            "data": [
                                {
                                    "Día de la Semana": "Sunday",
                                    "Monto Total": "16280.00"
                                },
                                {
                                    "Día de la Semana": "Monday",
                                    "Monto Total": "15100.00"
                                },
                                {
                                    "Día de la Semana": "Tuesday",
                                    "Monto Total": "18290.00"
                                },
                                {
                                    "Día de la Semana": "Wednesday",
                                    "Monto Total": "17010.00"
                                },
                                {
                                    "Día de la Semana": "Thursday",
                                    "Monto Total": "17120.00"
                                },
                                {
                                    "Día de la Semana": "Friday",
                                    "Monto Total": "17390.00"
                                },
                                {
                                    "Día de la Semana": "Saturday",
                                    "Monto Total": "16550.00"
                                }
                            ]
                        },
                        "text/html": "<table><tr><th>Día de la Semana</th><th>Monto Total</th></tr><tr><td>Sunday</td><td>16280.00</td></tr><tr><td>Monday</td><td>15100.00</td></tr><tr><td>Tuesday</td><td>18290.00</td></tr><tr><td>Wednesday</td><td>17010.00</td></tr><tr><td>Thursday</td><td>17120.00</td></tr><tr><td>Friday</td><td>17390.00</td></tr><tr><td>Saturday</td><td>16550.00</td></tr></table>"
                    },
                    "metadata": {}
                }
            ],
            "execution_count": 81
        },
        {
            "cell_type": "markdown",
            "source": [
                "38. ¿Cuáles son las cuentas que han tenido transacciones en todos los meses del año en curso?"
            ],
            "metadata": {
                "language": "sql",
                "azdata_cell_guid": "127badba-3f91-4cf8-af10-fd8f2147d5a2"
            },
            "attachments": {}
        },
        {
            "cell_type": "code",
            "source": [
                "SELECT cu.CuentaID\r\n",
                "FROM bank.Cuentas cu\r\n",
                "JOIN bank.Transacciones t ON cu.CuentaID = t.CuentaID\r\n",
                "WHERE YEAR(t.Fecha) = YEAR(CURDATE())\r\n",
                "GROUP BY cu.CuentaID\r\n",
                "HAVING COUNT(DISTINCT MONTH(t.Fecha)) = 12;"
            ],
            "metadata": {
                "language": "sql",
                "azdata_cell_guid": "b628e8a8-fa59-44dc-91c2-1c3b1be3921c"
            },
            "outputs": [
                {
                    "output_type": "display_data",
                    "data": {
                        "text/html": "(0 row(s) affected)"
                    },
                    "metadata": {}
                },
                {
                    "output_type": "display_data",
                    "data": {
                        "text/html": "Total execution time: 00:00:01.011"
                    },
                    "metadata": {}
                },
                {
                    "output_type": "execute_result",
                    "execution_count": 82,
                    "data": {
                        "application/vnd.dataresource+json": {
                            "schema": {
                                "fields": [
                                    {
                                        "name": "CuentaID"
                                    }
                                ]
                            },
                            "data": []
                        },
                        "text/html": "<table><tr><th>CuentaID</th></tr></table>"
                    },
                    "metadata": {}
                }
            ],
            "execution_count": 82
        },
        {
            "cell_type": "markdown",
            "source": [
                "**39. ¿Cuál es el monto promedio de retiros por rango de edad de los clientes?**"
            ],
            "metadata": {
                "language": "sql",
                "azdata_cell_guid": "8d8f89b7-1f4e-4d3b-b2ef-435929e6790f"
            },
            "attachments": {}
        },
        {
            "cell_type": "code",
            "source": [
                "SELECT\r\n",
                "    RangoDeEdad,\r\n",
                "    AVG(Monto) AS 'Promedio de Retiros'\r\n",
                "FROM (\r\n",
                "    SELECT\r\n",
                "        c.ClienteID,\r\n",
                "        t.Monto,\r\n",
                "        CASE\r\n",
                "            WHEN YEAR(CURDATE()) - YEAR(c.FechaNacimiento) < 30 THEN 'Menor de 30'\r\n",
                "            WHEN YEAR(CURDATE()) - YEAR(c.FechaNacimiento) BETWEEN 30 AND 39 THEN '30-39'\r\n",
                "            WHEN YEAR(CURDATE()) - YEAR(c.FechaNacimiento) BETWEEN 40 AND 49 THEN '40-49'\r\n",
                "            WHEN YEAR(CURDATE()) - YEAR(c.FechaNacimiento) BETWEEN 50 AND 59 THEN '50-59'\r\n",
                "            ELSE '60 o más'\r\n",
                "        END AS RangoDeEdad\r\n",
                "    FROM bank.Clientes c\r\n",
                "    JOIN bank.Transacciones t ON c.ClienteID = t.CuentaID  \r\n",
                "    WHERE t.Tipo = 'Retiro'\r\n",
                ") AS Subconsulta\r\n",
                "GROUP BY RangoDeEdad;"
            ],
            "metadata": {
                "language": "sql",
                "azdata_cell_guid": "34fcd6b9-ec41-4f53-aa61-01c7538fb068"
            },
            "outputs": [
                {
                    "output_type": "display_data",
                    "data": {
                        "text/html": "(2 row(s) affected)"
                    },
                    "metadata": {}
                },
                {
                    "output_type": "display_data",
                    "data": {
                        "text/html": "Total execution time: 00:00:01.010"
                    },
                    "metadata": {}
                },
                {
                    "output_type": "execute_result",
                    "execution_count": 86,
                    "data": {
                        "application/vnd.dataresource+json": {
                            "schema": {
                                "fields": [
                                    {
                                        "name": "RangoDeEdad"
                                    },
                                    {
                                        "name": "Promedio de Retiros"
                                    }
                                ]
                            },
                            "data": [
                                {
                                    "RangoDeEdad": "30-39",
                                    "Promedio de Retiros": "263.529412"
                                },
                                {
                                    "RangoDeEdad": "Menor de 30",
                                    "Promedio de Retiros": "255.000000"
                                }
                            ]
                        },
                        "text/html": "<table><tr><th>RangoDeEdad</th><th>Promedio de Retiros</th></tr><tr><td>30-39</td><td>263.529412</td></tr><tr><td>Menor de 30</td><td>255.000000</td></tr></table>"
                    },
                    "metadata": {}
                }
            ],
            "execution_count": 86
        },
        {
            "cell_type": "markdown",
            "source": [
                "40. ¿Cuáles son los clientes que tienen cuentas con un saldo inferior al saldo mínimo de todas las cuentas corrientes?"
            ],
            "metadata": {
                "language": "sql",
                "azdata_cell_guid": "f3fca739-b2f4-4e1c-ab79-8e9c050d5d51"
            },
            "attachments": {}
        },
        {
            "cell_type": "code",
            "source": [
                "SELECT c.Nombre, c.Apellido\r\n",
                "FROM bank.Clientes c\r\n",
                "JOIN bank.Cuentas cu ON c.ClienteID = cu.ClienteID\r\n",
                "WHERE cu.Saldo < (SELECT MIN(Saldo) FROM bank.Cuentas WHERE TipoCuenta = 'Corriente');"
            ],
            "metadata": {
                "language": "sql",
                "azdata_cell_guid": "1349aa05-d736-4082-ae11-f44deed80f4b"
            },
            "outputs": [
                {
                    "output_type": "display_data",
                    "data": {
                        "text/html": "(0 row(s) affected)"
                    },
                    "metadata": {}
                },
                {
                    "output_type": "display_data",
                    "data": {
                        "text/html": "Total execution time: 00:00:01.008"
                    },
                    "metadata": {}
                },
                {
                    "output_type": "execute_result",
                    "execution_count": 87,
                    "data": {
                        "application/vnd.dataresource+json": {
                            "schema": {
                                "fields": [
                                    {
                                        "name": "Nombre"
                                    },
                                    {
                                        "name": "Apellido"
                                    }
                                ]
                            },
                            "data": []
                        },
                        "text/html": "<table><tr><th>Nombre</th><th>Apellido</th></tr></table>"
                    },
                    "metadata": {}
                }
            ],
            "execution_count": 87
        },
        {
            "cell_type": "markdown",
            "source": [
                "41. ¿Cuál es el monto total de transacciones por cliente, ordenado de mayor a menor?"
            ],
            "metadata": {
                "language": "sql",
                "azdata_cell_guid": "869a1914-3b73-4ea0-902e-c13e05c21d23"
            },
            "attachments": {}
        },
        {
            "cell_type": "code",
            "source": [
                "SELECT c.Nombre, c.Apellido, SUM(t.Monto) AS 'Monto Total'\r\n",
                "FROM bank.Clientes c\r\n",
                "JOIN bank.Cuentas cu ON c.ClienteID = cu.ClienteID\r\n",
                "JOIN bank.Transacciones t ON cu.CuentaID = t.CuentaID\r\n",
                "GROUP BY c.ClienteID\r\n",
                "ORDER BY 'Monto Total' DESC;"
            ],
            "metadata": {
                "language": "sql",
                "azdata_cell_guid": "ab1c8b3f-60bb-466a-b611-7e3794b24376",
                "tags": [
                    "hide_input"
                ]
            },
            "outputs": [
                {
                    "output_type": "display_data",
                    "data": {
                        "text/html": "(55 row(s) affected)"
                    },
                    "metadata": {}
                },
                {
                    "output_type": "display_data",
                    "data": {
                        "text/html": "Total execution time: 00:00:01.007"
                    },
                    "metadata": {}
                },
                {
                    "output_type": "execute_result",
                    "execution_count": 88,
                    "data": {
                        "application/vnd.dataresource+json": {
                            "schema": {
                                "fields": [
                                    {
                                        "name": "Nombre"
                                    },
                                    {
                                        "name": "Apellido"
                                    },
                                    {
                                        "name": "Monto Total"
                                    }
                                ]
                            },
                            "data": [
                                {
                                    "Nombre": "Juan",
                                    "Apellido": "Pérez",
                                    "Monto Total": "3600.00"
                                },
                                {
                                    "Nombre": "María",
                                    "Apellido": "García",
                                    "Monto Total": "2700.00"
                                },
                                {
                                    "Nombre": "Pedro",
                                    "Apellido": "Rodríguez",
                                    "Monto Total": "700.00"
                                },
                                {
                                    "Nombre": "Ana",
                                    "Apellido": "Martínez",
                                    "Monto Total": "5200.00"
                                },
                                {
                                    "Nombre": "Carlos",
                                    "Apellido": "Sánchez",
                                    "Monto Total": "400.00"
                                },
                                {
                                    "Nombre": "Laura",
                                    "Apellido": "Fernández",
                                    "Monto Total": "2100.00"
                                },
                                {
                                    "Nombre": "Javier",
                                    "Apellido": "Gómez",
                                    "Monto Total": "930.00"
                                },
                                {
                                    "Nombre": "Sofía",
                                    "Apellido": "Torres",
                                    "Monto Total": "4200.00"
                                },
                                {
                                    "Nombre": "Sergio",
                                    "Apellido": "Navarro",
                                    "Monto Total": "570.00"
                                },
                                {
                                    "Nombre": "Isabel",
                                    "Apellido": "Ramírez",
                                    "Monto Total": "3000.00"
                                },
                                {
                                    "Nombre": "Andrés",
                                    "Apellido": "Herrera",
                                    "Monto Total": "780.00"
                                },
                                {
                                    "Nombre": "Marta",
                                    "Apellido": "Jiménez",
                                    "Monto Total": "5900.00"
                                },
                                {
                                    "Nombre": "Luis",
                                    "Apellido": "Moreno",
                                    "Monto Total": "450.00"
                                },
                                {
                                    "Nombre": "Carla",
                                    "Apellido": "Ruiz",
                                    "Monto Total": "2300.00"
                                },
                                {
                                    "Nombre": "Diego",
                                    "Apellido": "Álvarez",
                                    "Monto Total": "1010.00"
                                },
                                {
                                    "Nombre": "Alicia",
                                    "Apellido": "Gutiérrez",
                                    "Monto Total": "4600.00"
                                },
                                {
                                    "Nombre": "Raúl",
                                    "Apellido": "Vázquez",
                                    "Monto Total": "560.00"
                                },
                                {
                                    "Nombre": "Lucía",
                                    "Apellido": "Romero",
                                    "Monto Total": "3000.00"
                                },
                                {
                                    "Nombre": "Óscar",
                                    "Apellido": "Ramos",
                                    "Monto Total": "840.00"
                                },
                                {
                                    "Nombre": "Elena",
                                    "Apellido": "Santos",
                                    "Monto Total": "5700.00"
                                },
                                {
                                    "Nombre": "Alejandro",
                                    "Apellido": "Flores",
                                    "Monto Total": "440.00"
                                },
                                {
                                    "Nombre": "Cristina",
                                    "Apellido": "Molina",
                                    "Monto Total": "2350.00"
                                },
                                {
                                    "Nombre": "Mario",
                                    "Apellido": "Castillo",
                                    "Monto Total": "1010.00"
                                },
                                {
                                    "Nombre": "Daniela",
                                    "Apellido": "Cabrera",
                                    "Monto Total": "4800.00"
                                },
                                {
                                    "Nombre": "Pablo",
                                    "Apellido": "Ortega",
                                    "Monto Total": "600.00"
                                },
                                {
                                    "Nombre": "Silvia",
                                    "Apellido": "Vargas",
                                    "Monto Total": "3300.00"
                                },
                                {
                                    "Nombre": "Roberto",
                                    "Apellido": "Sáez",
                                    "Monto Total": "860.00"
                                },
                                {
                                    "Nombre": "Carolina",
                                    "Apellido": "Pardo",
                                    "Monto Total": "6300.00"
                                },
                                {
                                    "Nombre": "David",
                                    "Apellido": "Rojas",
                                    "Monto Total": "460.00"
                                },
                                {
                                    "Nombre": "Claudia",
                                    "Apellido": "Suárez",
                                    "Monto Total": "2550.00"
                                },
                                {
                                    "Nombre": "Francisco",
                                    "Apellido": "Ríos",
                                    "Monto Total": "1080.00"
                                },
                                {
                                    "Nombre": "Adriana",
                                    "Apellido": "Guerrero",
                                    "Monto Total": "5100.00"
                                },
                                {
                                    "Nombre": "Ernesto",
                                    "Apellido": "Montes",
                                    "Monto Total": "660.00"
                                },
                                {
                                    "Nombre": "Valeria",
                                    "Apellido": "Espinosa",
                                    "Monto Total": "3500.00"
                                },
                                {
                                    "Nombre": "Gustavo",
                                    "Apellido": "Hidalgo",
                                    "Monto Total": "830.00"
                                },
                                {
                                    "Nombre": "Natalia",
                                    "Apellido": "Aguilar",
                                    "Monto Total": "6000.00"
                                },
                                {
                                    "Nombre": "Rodrigo",
                                    "Apellido": "Serrano",
                                    "Monto Total": "500.00"
                                },
                                {
                                    "Nombre": "Gabriela",
                                    "Apellido": "Arias",
                                    "Monto Total": "2700.00"
                                },
                                {
                                    "Nombre": "Mateo",
                                    "Apellido": "Córdoba",
                                    "Monto Total": "1110.00"
                                },
                                {
                                    "Nombre": "Camila",
                                    "Apellido": "Acosta",
                                    "Monto Total": "5500.00"
                                },
                                {
                                    "Nombre": "Nicolás",
                                    "Apellido": "Ledesma",
                                    "Monto Total": "650.00"
                                },
                                {
                                    "Nombre": "Mariana",
                                    "Apellido": "Pizarro",
                                    "Monto Total": "3700.00"
                                },
                                {
                                    "Nombre": "Leonardo",
                                    "Apellido": "Escobar",
                                    "Monto Total": "890.00"
                                },
                                {
                                    "Nombre": "Valentina",
                                    "Apellido": "Piña",
                                    "Monto Total": "2800.00"
                                },
                                {
                                    "Nombre": "Damián",
                                    "Apellido": "Arce",
                                    "Monto Total": "210.00"
                                },
                                {
                                    "Nombre": "Rebeca",
                                    "Apellido": "Cisneros",
                                    "Monto Total": "1100.00"
                                },
                                {
                                    "Nombre": "Samuel",
                                    "Apellido": "Villalobos",
                                    "Monto Total": "490.00"
                                },
                                {
                                    "Nombre": "Renata",
                                    "Apellido": "Segovia",
                                    "Monto Total": "2500.00"
                                },
                                {
                                    "Nombre": "Emiliano",
                                    "Apellido": "Salcedo",
                                    "Monto Total": "290.00"
                                },
                                {
                                    "Nombre": "Isabella",
                                    "Apellido": "Quintero",
                                    "Monto Total": "1600.00"
                                },
                                {
                                    "Nombre": "Tomás",
                                    "Apellido": "Castañeda",
                                    "Monto Total": "370.00"
                                },
                                {
                                    "Nombre": "Sofía",
                                    "Apellido": "Uribe",
                                    "Monto Total": "3000.00"
                                },
                                {
                                    "Nombre": "Martín",
                                    "Apellido": "Salinas",
                                    "Monto Total": "230.00"
                                },
                                {
                                    "Nombre": "Antonella",
                                    "Apellido": "Rincón",
                                    "Monto Total": "1200.00"
                                },
                                {
                                    "Nombre": "Santiago",
                                    "Apellido": "Estrada",
                                    "Monto Total": "520.00"
                                }
                            ]
                        },
                        "text/html": "<table><tr><th>Nombre</th><th>Apellido</th><th>Monto Total</th></tr><tr><td>Juan</td><td>Pérez</td><td>3600.00</td></tr><tr><td>María</td><td>García</td><td>2700.00</td></tr><tr><td>Pedro</td><td>Rodríguez</td><td>700.00</td></tr><tr><td>Ana</td><td>Martínez</td><td>5200.00</td></tr><tr><td>Carlos</td><td>Sánchez</td><td>400.00</td></tr><tr><td>Laura</td><td>Fernández</td><td>2100.00</td></tr><tr><td>Javier</td><td>Gómez</td><td>930.00</td></tr><tr><td>Sofía</td><td>Torres</td><td>4200.00</td></tr><tr><td>Sergio</td><td>Navarro</td><td>570.00</td></tr><tr><td>Isabel</td><td>Ramírez</td><td>3000.00</td></tr><tr><td>Andrés</td><td>Herrera</td><td>780.00</td></tr><tr><td>Marta</td><td>Jiménez</td><td>5900.00</td></tr><tr><td>Luis</td><td>Moreno</td><td>450.00</td></tr><tr><td>Carla</td><td>Ruiz</td><td>2300.00</td></tr><tr><td>Diego</td><td>Álvarez</td><td>1010.00</td></tr><tr><td>Alicia</td><td>Gutiérrez</td><td>4600.00</td></tr><tr><td>Raúl</td><td>Vázquez</td><td>560.00</td></tr><tr><td>Lucía</td><td>Romero</td><td>3000.00</td></tr><tr><td>Óscar</td><td>Ramos</td><td>840.00</td></tr><tr><td>Elena</td><td>Santos</td><td>5700.00</td></tr><tr><td>Alejandro</td><td>Flores</td><td>440.00</td></tr><tr><td>Cristina</td><td>Molina</td><td>2350.00</td></tr><tr><td>Mario</td><td>Castillo</td><td>1010.00</td></tr><tr><td>Daniela</td><td>Cabrera</td><td>4800.00</td></tr><tr><td>Pablo</td><td>Ortega</td><td>600.00</td></tr><tr><td>Silvia</td><td>Vargas</td><td>3300.00</td></tr><tr><td>Roberto</td><td>Sáez</td><td>860.00</td></tr><tr><td>Carolina</td><td>Pardo</td><td>6300.00</td></tr><tr><td>David</td><td>Rojas</td><td>460.00</td></tr><tr><td>Claudia</td><td>Suárez</td><td>2550.00</td></tr><tr><td>Francisco</td><td>Ríos</td><td>1080.00</td></tr><tr><td>Adriana</td><td>Guerrero</td><td>5100.00</td></tr><tr><td>Ernesto</td><td>Montes</td><td>660.00</td></tr><tr><td>Valeria</td><td>Espinosa</td><td>3500.00</td></tr><tr><td>Gustavo</td><td>Hidalgo</td><td>830.00</td></tr><tr><td>Natalia</td><td>Aguilar</td><td>6000.00</td></tr><tr><td>Rodrigo</td><td>Serrano</td><td>500.00</td></tr><tr><td>Gabriela</td><td>Arias</td><td>2700.00</td></tr><tr><td>Mateo</td><td>Córdoba</td><td>1110.00</td></tr><tr><td>Camila</td><td>Acosta</td><td>5500.00</td></tr><tr><td>Nicolás</td><td>Ledesma</td><td>650.00</td></tr><tr><td>Mariana</td><td>Pizarro</td><td>3700.00</td></tr><tr><td>Leonardo</td><td>Escobar</td><td>890.00</td></tr><tr><td>Valentina</td><td>Piña</td><td>2800.00</td></tr><tr><td>Damián</td><td>Arce</td><td>210.00</td></tr><tr><td>Rebeca</td><td>Cisneros</td><td>1100.00</td></tr><tr><td>Samuel</td><td>Villalobos</td><td>490.00</td></tr><tr><td>Renata</td><td>Segovia</td><td>2500.00</td></tr><tr><td>Emiliano</td><td>Salcedo</td><td>290.00</td></tr><tr><td>Isabella</td><td>Quintero</td><td>1600.00</td></tr><tr><td>Tomás</td><td>Castañeda</td><td>370.00</td></tr><tr><td>Sofía</td><td>Uribe</td><td>3000.00</td></tr><tr><td>Martín</td><td>Salinas</td><td>230.00</td></tr><tr><td>Antonella</td><td>Rincón</td><td>1200.00</td></tr><tr><td>Santiago</td><td>Estrada</td><td>520.00</td></tr></table>"
                    },
                    "metadata": {}
                }
            ],
            "execution_count": 88
        },
        {
            "cell_type": "markdown",
            "source": [
                "42. ¿Cuáles son las cuentas que han tenido al menos una transacción en cada uno de los últimos 12 meses?"
            ],
            "metadata": {
                "language": "sql",
                "azdata_cell_guid": "d339f813-d44a-4658-bc7c-2a8b2150fde1"
            },
            "attachments": {}
        },
        {
            "cell_type": "code",
            "source": [
                "SELECT cu.CuentaID\r\n",
                "FROM bank.Cuentas cu\r\n",
                "JOIN bank.Transacciones t ON cu.CuentaID = t.CuentaID\r\n",
                "WHERE t.Fecha >= DATE_SUB(CURDATE(), INTERVAL 12 MONTH)\r\n",
                "GROUP BY cu.CuentaID\r\n",
                "HAVING COUNT(DISTINCT MONTH(t.Fecha)) = 12;"
            ],
            "metadata": {
                "language": "sql",
                "azdata_cell_guid": "56c62e22-be6c-4af2-ae02-75d74cf8504c"
            },
            "outputs": [
                {
                    "output_type": "display_data",
                    "data": {
                        "text/html": "(0 row(s) affected)"
                    },
                    "metadata": {}
                },
                {
                    "output_type": "display_data",
                    "data": {
                        "text/html": "Total execution time: 00:00:01.005"
                    },
                    "metadata": {}
                },
                {
                    "output_type": "execute_result",
                    "execution_count": 89,
                    "data": {
                        "application/vnd.dataresource+json": {
                            "schema": {
                                "fields": [
                                    {
                                        "name": "CuentaID"
                                    }
                                ]
                            },
                            "data": []
                        },
                        "text/html": "<table><tr><th>CuentaID</th></tr></table>"
                    },
                    "metadata": {}
                }
            ],
            "execution_count": 89
        },
        {
            "cell_type": "markdown",
            "source": [
                "43. ¿Cuál es el monto promedio de transferencias por ciudad de los clientes?"
            ],
            "metadata": {
                "language": "sql",
                "azdata_cell_guid": "f78ac673-e7e0-479e-b064-198bc43ec8e9"
            },
            "attachments": {}
        },
        {
            "cell_type": "code",
            "source": [
                "SELECT c.Ciudad, AVG(t.Monto) AS 'Promedio de Transferencias'\r\n",
                "FROM bank.Clientes c\r\n",
                "JOIN bank.Cuentas cu ON c.ClienteID = cu.ClienteID\r\n",
                "JOIN bank.Transacciones t ON cu.CuentaID = t.CuentaID AND t.Tipo = 'Transferencia'\r\n",
                "GROUP BY c.Ciudad;"
            ],
            "metadata": {
                "language": "sql",
                "azdata_cell_guid": "44a85e69-51f0-4a21-894a-748c6ee86731"
            },
            "outputs": [
                {
                    "output_type": "display_data",
                    "data": {
                        "text/html": "(8 row(s) affected)"
                    },
                    "metadata": {}
                },
                {
                    "output_type": "display_data",
                    "data": {
                        "text/html": "Total execution time: 00:00:01.012"
                    },
                    "metadata": {}
                },
                {
                    "output_type": "execute_result",
                    "execution_count": 90,
                    "data": {
                        "application/vnd.dataresource+json": {
                            "schema": {
                                "fields": [
                                    {
                                        "name": "Ciudad"
                                    },
                                    {
                                        "name": "Promedio de Transferencias"
                                    }
                                ]
                            },
                            "data": [
                                {
                                    "Ciudad": "Barcelona",
                                    "Promedio de Transferencias": "1425.000000"
                                },
                                {
                                    "Ciudad": "Málaga",
                                    "Promedio de Transferencias": "1100.000000"
                                },
                                {
                                    "Ciudad": "Madrid",
                                    "Promedio de Transferencias": "1480.000000"
                                },
                                {
                                    "Ciudad": "Pamplona",
                                    "Promedio de Transferencias": "1500.000000"
                                },
                                {
                                    "Ciudad": "Sevilla",
                                    "Promedio de Transferencias": "1412.500000"
                                },
                                {
                                    "Ciudad": "Valencia",
                                    "Promedio de Transferencias": "1562.500000"
                                },
                                {
                                    "Ciudad": "Zaragoza",
                                    "Promedio de Transferencias": "1350.000000"
                                },
                                {
                                    "Ciudad": "Alicante",
                                    "Promedio de Transferencias": "1100.000000"
                                }
                            ]
                        },
                        "text/html": "<table><tr><th>Ciudad</th><th>Promedio de Transferencias</th></tr><tr><td>Barcelona</td><td>1425.000000</td></tr><tr><td>Málaga</td><td>1100.000000</td></tr><tr><td>Madrid</td><td>1480.000000</td></tr><tr><td>Pamplona</td><td>1500.000000</td></tr><tr><td>Sevilla</td><td>1412.500000</td></tr><tr><td>Valencia</td><td>1562.500000</td></tr><tr><td>Zaragoza</td><td>1350.000000</td></tr><tr><td>Alicante</td><td>1100.000000</td></tr></table>"
                    },
                    "metadata": {}
                }
            ],
            "execution_count": 90
        },
        {
            "cell_type": "markdown",
            "source": [
                "44. ¿Cuáles son los clientes que tienen cuentas con un saldo superior al saldo promedio de todas las cuentas del mismo tipo?"
            ],
            "metadata": {
                "language": "sql",
                "azdata_cell_guid": "02403e76-42cb-457c-974a-3a0ebfec61ab"
            },
            "attachments": {}
        },
        {
            "cell_type": "code",
            "source": [
                "SELECT c.Nombre, c.Apellido\r\n",
                "FROM bank.Clientes c\r\n",
                "JOIN bank.Cuentas cu ON c.ClienteID = cu.ClienteID\r\n",
                "WHERE cu.Saldo > (\r\n",
                "    SELECT AVG(Saldo)\r\n",
                "    FROM bank.Cuentas\r\n",
                "    WHERE TipoCuenta = cu.TipoCuenta\r\n",
                ");"
            ],
            "metadata": {
                "language": "sql",
                "azdata_cell_guid": "b409ba10-8e2d-488e-8faa-5f8da6069085"
            },
            "outputs": [
                {
                    "output_type": "display_data",
                    "data": {
                        "text/html": "(49 row(s) affected)"
                    },
                    "metadata": {}
                },
                {
                    "output_type": "display_data",
                    "data": {
                        "text/html": "Total execution time: 00:00:01.015"
                    },
                    "metadata": {}
                },
                {
                    "output_type": "execute_result",
                    "execution_count": 91,
                    "data": {
                        "application/vnd.dataresource+json": {
                            "schema": {
                                "fields": [
                                    {
                                        "name": "Nombre"
                                    },
                                    {
                                        "name": "Apellido"
                                    }
                                ]
                            },
                            "data": [
                                {
                                    "Nombre": "María",
                                    "Apellido": "García"
                                },
                                {
                                    "Nombre": "Sofía",
                                    "Apellido": "Torres"
                                },
                                {
                                    "Nombre": "Sergio",
                                    "Apellido": "Navarro"
                                },
                                {
                                    "Nombre": "Isabel",
                                    "Apellido": "Ramírez"
                                },
                                {
                                    "Nombre": "Andrés",
                                    "Apellido": "Herrera"
                                },
                                {
                                    "Nombre": "Alicia",
                                    "Apellido": "Gutiérrez"
                                },
                                {
                                    "Nombre": "Raúl",
                                    "Apellido": "Vázquez"
                                },
                                {
                                    "Nombre": "Lucía",
                                    "Apellido": "Romero"
                                },
                                {
                                    "Nombre": "Óscar",
                                    "Apellido": "Ramos"
                                },
                                {
                                    "Nombre": "Daniela",
                                    "Apellido": "Cabrera"
                                },
                                {
                                    "Nombre": "Pablo",
                                    "Apellido": "Ortega"
                                },
                                {
                                    "Nombre": "Silvia",
                                    "Apellido": "Vargas"
                                },
                                {
                                    "Nombre": "Roberto",
                                    "Apellido": "Sáez"
                                },
                                {
                                    "Nombre": "Adriana",
                                    "Apellido": "Guerrero"
                                },
                                {
                                    "Nombre": "Ernesto",
                                    "Apellido": "Montes"
                                },
                                {
                                    "Nombre": "Valeria",
                                    "Apellido": "Espinosa"
                                },
                                {
                                    "Nombre": "Gustavo",
                                    "Apellido": "Hidalgo"
                                },
                                {
                                    "Nombre": "Camila",
                                    "Apellido": "Acosta"
                                },
                                {
                                    "Nombre": "Nicolás",
                                    "Apellido": "Ledesma"
                                },
                                {
                                    "Nombre": "Mariana",
                                    "Apellido": "Pizarro"
                                },
                                {
                                    "Nombre": "Leonardo",
                                    "Apellido": "Escobar"
                                },
                                {
                                    "Nombre": "Renata",
                                    "Apellido": "Segovia"
                                },
                                {
                                    "Nombre": "Emiliano",
                                    "Apellido": "Salcedo"
                                },
                                {
                                    "Nombre": "Isabella",
                                    "Apellido": "Quintero"
                                },
                                {
                                    "Nombre": "Tomás",
                                    "Apellido": "Castañeda"
                                },
                                {
                                    "Nombre": "Catalina",
                                    "Apellido": "Solano"
                                },
                                {
                                    "Nombre": "Benjamín",
                                    "Apellido": "Carvajal"
                                },
                                {
                                    "Nombre": "Constanza",
                                    "Apellido": "Avendaño"
                                },
                                {
                                    "Nombre": "Joaquín",
                                    "Apellido": "Cáceres"
                                },
                                {
                                    "Nombre": "Rafaela",
                                    "Apellido": "Acuña"
                                },
                                {
                                    "Nombre": "Maximiliano",
                                    "Apellido": "Yáñez"
                                },
                                {
                                    "Nombre": "Julieta",
                                    "Apellido": "Baeza"
                                },
                                {
                                    "Nombre": "Ezequiel",
                                    "Apellido": "Montero"
                                },
                                {
                                    "Nombre": "Amanda",
                                    "Apellido": "Parra"
                                },
                                {
                                    "Nombre": "Emilio",
                                    "Apellido": "Crespo"
                                },
                                {
                                    "Nombre": "Ariana",
                                    "Apellido": "Henríquez"
                                },
                                {
                                    "Nombre": "Salvador",
                                    "Apellido": "Morales"
                                },
                                {
                                    "Nombre": "Luana",
                                    "Apellido": "Santamaría"
                                },
                                {
                                    "Nombre": "Máximo",
                                    "Apellido": "Saldivar"
                                },
                                {
                                    "Nombre": "Violeta",
                                    "Apellido": "Ugarte"
                                },
                                {
                                    "Nombre": "Ignacio",
                                    "Apellido": "Solís"
                                },
                                {
                                    "Nombre": "Maite",
                                    "Apellido": "Heredia"
                                },
                                {
                                    "Nombre": "Gael",
                                    "Apellido": "Bernal"
                                },
                                {
                                    "Nombre": "Amelia",
                                    "Apellido": "Polo"
                                },
                                {
                                    "Nombre": "Amelia",
                                    "Apellido": "Peña"
                                },
                                {
                                    "Nombre": "Álvaro",
                                    "Apellido": "Leal"
                                },
                                {
                                    "Nombre": "Dafne",
                                    "Apellido": "Robles"
                                },
                                {
                                    "Nombre": "Ángel",
                                    "Apellido": "Zepeda"
                                },
                                {
                                    "Nombre": "Esmeralda",
                                    "Apellido": "Vigil"
                                }
                            ]
                        },
                        "text/html": "<table><tr><th>Nombre</th><th>Apellido</th></tr><tr><td>María</td><td>García</td></tr><tr><td>Sofía</td><td>Torres</td></tr><tr><td>Sergio</td><td>Navarro</td></tr><tr><td>Isabel</td><td>Ramírez</td></tr><tr><td>Andrés</td><td>Herrera</td></tr><tr><td>Alicia</td><td>Gutiérrez</td></tr><tr><td>Raúl</td><td>Vázquez</td></tr><tr><td>Lucía</td><td>Romero</td></tr><tr><td>Óscar</td><td>Ramos</td></tr><tr><td>Daniela</td><td>Cabrera</td></tr><tr><td>Pablo</td><td>Ortega</td></tr><tr><td>Silvia</td><td>Vargas</td></tr><tr><td>Roberto</td><td>Sáez</td></tr><tr><td>Adriana</td><td>Guerrero</td></tr><tr><td>Ernesto</td><td>Montes</td></tr><tr><td>Valeria</td><td>Espinosa</td></tr><tr><td>Gustavo</td><td>Hidalgo</td></tr><tr><td>Camila</td><td>Acosta</td></tr><tr><td>Nicolás</td><td>Ledesma</td></tr><tr><td>Mariana</td><td>Pizarro</td></tr><tr><td>Leonardo</td><td>Escobar</td></tr><tr><td>Renata</td><td>Segovia</td></tr><tr><td>Emiliano</td><td>Salcedo</td></tr><tr><td>Isabella</td><td>Quintero</td></tr><tr><td>Tomás</td><td>Castañeda</td></tr><tr><td>Catalina</td><td>Solano</td></tr><tr><td>Benjamín</td><td>Carvajal</td></tr><tr><td>Constanza</td><td>Avendaño</td></tr><tr><td>Joaquín</td><td>Cáceres</td></tr><tr><td>Rafaela</td><td>Acuña</td></tr><tr><td>Maximiliano</td><td>Yáñez</td></tr><tr><td>Julieta</td><td>Baeza</td></tr><tr><td>Ezequiel</td><td>Montero</td></tr><tr><td>Amanda</td><td>Parra</td></tr><tr><td>Emilio</td><td>Crespo</td></tr><tr><td>Ariana</td><td>Henríquez</td></tr><tr><td>Salvador</td><td>Morales</td></tr><tr><td>Luana</td><td>Santamaría</td></tr><tr><td>Máximo</td><td>Saldivar</td></tr><tr><td>Violeta</td><td>Ugarte</td></tr><tr><td>Ignacio</td><td>Solís</td></tr><tr><td>Maite</td><td>Heredia</td></tr><tr><td>Gael</td><td>Bernal</td></tr><tr><td>Amelia</td><td>Polo</td></tr><tr><td>Amelia</td><td>Peña</td></tr><tr><td>Álvaro</td><td>Leal</td></tr><tr><td>Dafne</td><td>Robles</td></tr><tr><td>Ángel</td><td>Zepeda</td></tr><tr><td>Esmeralda</td><td>Vigil</td></tr></table>"
                    },
                    "metadata": {}
                }
            ],
            "execution_count": 91
        },
        {
            "cell_type": "markdown",
            "source": [
                "45. **¿Cuál es el monto total de transacciones por trimestre y año?**"
            ],
            "metadata": {
                "language": "sql",
                "azdata_cell_guid": "e790fcc2-75aa-41ce-92a8-046732a7d789"
            },
            "attachments": {}
        },
        {
            "cell_type": "code",
            "source": [
                "SELECT YEAR(Fecha) AS 'Año', QUARTER(Fecha) AS 'Trimestre', SUM(Monto) AS 'Monto Total'\r\n",
                "FROM bank.Transacciones\r\n",
                "GROUP BY YEAR(Fecha), QUARTER(Fecha)\r\n",
                "ORDER BY YEAR(Fecha), QUARTER(Fecha);"
            ],
            "metadata": {
                "language": "sql",
                "azdata_cell_guid": "f6954ccf-cd1a-4fc1-9e79-150478594609"
            },
            "outputs": [
                {
                    "output_type": "display_data",
                    "data": {
                        "text/html": "(6 row(s) affected)"
                    },
                    "metadata": {}
                },
                {
                    "output_type": "display_data",
                    "data": {
                        "text/html": "Total execution time: 00:00:01.028"
                    },
                    "metadata": {}
                },
                {
                    "output_type": "execute_result",
                    "execution_count": 92,
                    "data": {
                        "application/vnd.dataresource+json": {
                            "schema": {
                                "fields": [
                                    {
                                        "name": "Año"
                                    },
                                    {
                                        "name": "Trimestre"
                                    },
                                    {
                                        "name": "Monto Total"
                                    }
                                ]
                            },
                            "data": [
                                {
                                    "Año": "2023",
                                    "Trimestre": "2",
                                    "Monto Total": "15800.00"
                                },
                                {
                                    "Año": "2023",
                                    "Trimestre": "3",
                                    "Monto Total": "18530.00"
                                },
                                {
                                    "Año": "2023",
                                    "Trimestre": "4",
                                    "Monto Total": "20500.00"
                                },
                                {
                                    "Año": "2024",
                                    "Trimestre": "1",
                                    "Monto Total": "24300.00"
                                },
                                {
                                    "Año": "2024",
                                    "Trimestre": "2",
                                    "Monto Total": "26050.00"
                                },
                                {
                                    "Año": "2024",
                                    "Trimestre": "3",
                                    "Monto Total": "12560.00"
                                }
                            ]
                        },
                        "text/html": "<table><tr><th>Año</th><th>Trimestre</th><th>Monto Total</th></tr><tr><td>2023</td><td>2</td><td>15800.00</td></tr><tr><td>2023</td><td>3</td><td>18530.00</td></tr><tr><td>2023</td><td>4</td><td>20500.00</td></tr><tr><td>2024</td><td>1</td><td>24300.00</td></tr><tr><td>2024</td><td>2</td><td>26050.00</td></tr><tr><td>2024</td><td>3</td><td>12560.00</td></tr></table>"
                    },
                    "metadata": {}
                }
            ],
            "execution_count": 92
        },
        {
            "cell_type": "markdown",
            "source": [
                "46. ¿Cuáles son las cuentas que han tenido transacciones en todos los años desde su apertura?"
            ],
            "metadata": {
                "language": "sql",
                "azdata_cell_guid": "cac91ddb-5c31-435e-b544-7873a4284793"
            },
            "attachments": {}
        },
        {
            "cell_type": "code",
            "source": [
                "SELECT cu.CuentaID,\r\n",
                "       (YEAR(CURDATE()) - YEAR(cu.FechaApertura)) + 1 AS AñosDesdeApertura\r\n",
                "FROM bank.Cuentas cu\r\n",
                "JOIN bank.Transacciones t ON cu.CuentaID = t.CuentaID\r\n",
                "GROUP BY cu.CuentaID, AñosDesdeApertura\r\n",
                "HAVING COUNT(DISTINCT YEAR(t.Fecha)) = AñosDesdeApertura;\r\n",
                ""
            ],
            "metadata": {
                "language": "sql",
                "azdata_cell_guid": "36996bdd-6cc2-484d-b439-89eecffaf598"
            },
            "outputs": [
                {
                    "output_type": "display_data",
                    "data": {
                        "text/html": "(0 row(s) affected)"
                    },
                    "metadata": {}
                },
                {
                    "output_type": "display_data",
                    "data": {
                        "text/html": "Total execution time: 00:00:01.010"
                    },
                    "metadata": {}
                },
                {
                    "output_type": "execute_result",
                    "execution_count": 99,
                    "data": {
                        "application/vnd.dataresource+json": {
                            "schema": {
                                "fields": [
                                    {
                                        "name": "CuentaID"
                                    },
                                    {
                                        "name": "AñosDesdeApertura"
                                    }
                                ]
                            },
                            "data": []
                        },
                        "text/html": "<table><tr><th>CuentaID</th><th>AñosDesdeApertura</th></tr></table>"
                    },
                    "metadata": {}
                }
            ],
            "execution_count": 99
        },
        {
            "cell_type": "markdown",
            "source": [
                "47. ¿Cuál es el monto promedio de pagos por rango de saldo de las cuentas?"
            ],
            "metadata": {
                "language": "sql",
                "azdata_cell_guid": "2760236e-f35a-44e6-aa0a-78310d254a5b"
            },
            "attachments": {}
        },
        {
            "cell_type": "code",
            "source": [
                "SELECT\r\n",
                "    RangoDeSaldo,\r\n",
                "    AVG(Monto) AS 'Promedio de Pagos'\r\n",
                "FROM (\r\n",
                "    SELECT\r\n",
                "        cu.Saldo,\r\n",
                "        t.Monto,\r\n",
                "        CASE\r\n",
                "            WHEN cu.Saldo < 5000 THEN 'Menor a $5,000'\r\n",
                "            WHEN cu.Saldo BETWEEN 5000 AND 10000 THEN '$5,000 - $10,000'\r\n",
                "            WHEN cu.Saldo BETWEEN 10000 AND 20000 THEN '$10,000 - $20,000'\r\n",
                "            ELSE 'Mayor a $20,000'\r\n",
                "        END AS RangoDeSaldo\r\n",
                "    FROM bank.Cuentas cu\r\n",
                "    JOIN bank.Transacciones t ON cu.CuentaID = t.CuentaID AND t.Tipo = 'Pago'\r\n",
                ") AS Subconsulta\r\n",
                "GROUP BY RangoDeSaldo;\r\n",
                ""
            ],
            "metadata": {
                "language": "sql",
                "azdata_cell_guid": "8518fa1f-271f-40ec-b10f-40e3b6bcbd7e"
            },
            "outputs": [
                {
                    "output_type": "display_data",
                    "data": {
                        "text/html": "(2 row(s) affected)"
                    },
                    "metadata": {}
                },
                {
                    "output_type": "display_data",
                    "data": {
                        "text/html": "Total execution time: 00:00:01.041"
                    },
                    "metadata": {}
                },
                {
                    "output_type": "execute_result",
                    "execution_count": 102,
                    "data": {
                        "application/vnd.dataresource+json": {
                            "schema": {
                                "fields": [
                                    {
                                        "name": "RangoDeSaldo"
                                    },
                                    {
                                        "name": "Promedio de Pagos"
                                    }
                                ]
                            },
                            "data": [
                                {
                                    "RangoDeSaldo": "Menor a $5,000",
                                    "Promedio de Pagos": "489.285714"
                                },
                                {
                                    "RangoDeSaldo": "$5,000 - $10,000",
                                    "Promedio de Pagos": "415.454545"
                                }
                            ]
                        },
                        "text/html": "<table><tr><th>RangoDeSaldo</th><th>Promedio de Pagos</th></tr><tr><td>Menor a $5,000</td><td>489.285714</td></tr><tr><td>$5,000 - $10,000</td><td>415.454545</td></tr></table>"
                    },
                    "metadata": {}
                }
            ],
            "execution_count": 102
        },
        {
            "cell_type": "markdown",
            "source": [
                "**48. ¿Cuáles son los clientes que tienen cuentas con un saldo superior al saldo máximo de todas las cuentas corrientes?**"
            ],
            "metadata": {
                "language": "sql",
                "azdata_cell_guid": "be60c31f-b27e-4411-accf-fbb3a5bd706d"
            },
            "attachments": {}
        },
        {
            "cell_type": "code",
            "source": [
                "SELECT c.Nombre, c.Apellido\r\n",
                "FROM bank.Clientes c\r\n",
                "JOIN bank.Cuentas cu ON c.ClienteID = cu.ClienteID\r\n",
                "WHERE cu.Saldo > (SELECT MAX(Saldo) FROM bank.Cuentas WHERE TipoCuenta = 'Corriente');"
            ],
            "metadata": {
                "language": "sql",
                "azdata_cell_guid": "6ad601c3-5093-492c-bf99-8d9972e5b37c"
            },
            "outputs": [
                {
                    "output_type": "display_data",
                    "data": {
                        "text/html": "(49 row(s) affected)"
                    },
                    "metadata": {}
                },
                {
                    "output_type": "display_data",
                    "data": {
                        "text/html": "Total execution time: 00:00:01.013"
                    },
                    "metadata": {}
                },
                {
                    "output_type": "execute_result",
                    "execution_count": 104,
                    "data": {
                        "application/vnd.dataresource+json": {
                            "schema": {
                                "fields": [
                                    {
                                        "name": "Nombre"
                                    },
                                    {
                                        "name": "Apellido"
                                    }
                                ]
                            },
                            "data": [
                                {
                                    "Nombre": "María",
                                    "Apellido": "García"
                                },
                                {
                                    "Nombre": "Ana",
                                    "Apellido": "Martínez"
                                },
                                {
                                    "Nombre": "Laura",
                                    "Apellido": "Fernández"
                                },
                                {
                                    "Nombre": "Sofía",
                                    "Apellido": "Torres"
                                },
                                {
                                    "Nombre": "Isabel",
                                    "Apellido": "Ramírez"
                                },
                                {
                                    "Nombre": "Marta",
                                    "Apellido": "Jiménez"
                                },
                                {
                                    "Nombre": "Carla",
                                    "Apellido": "Ruiz"
                                },
                                {
                                    "Nombre": "Alicia",
                                    "Apellido": "Gutiérrez"
                                },
                                {
                                    "Nombre": "Lucía",
                                    "Apellido": "Romero"
                                },
                                {
                                    "Nombre": "Elena",
                                    "Apellido": "Santos"
                                },
                                {
                                    "Nombre": "Cristina",
                                    "Apellido": "Molina"
                                },
                                {
                                    "Nombre": "Daniela",
                                    "Apellido": "Cabrera"
                                },
                                {
                                    "Nombre": "Silvia",
                                    "Apellido": "Vargas"
                                },
                                {
                                    "Nombre": "Carolina",
                                    "Apellido": "Pardo"
                                },
                                {
                                    "Nombre": "Claudia",
                                    "Apellido": "Suárez"
                                },
                                {
                                    "Nombre": "Adriana",
                                    "Apellido": "Guerrero"
                                },
                                {
                                    "Nombre": "Valeria",
                                    "Apellido": "Espinosa"
                                },
                                {
                                    "Nombre": "Natalia",
                                    "Apellido": "Aguilar"
                                },
                                {
                                    "Nombre": "Gabriela",
                                    "Apellido": "Arias"
                                },
                                {
                                    "Nombre": "Camila",
                                    "Apellido": "Acosta"
                                },
                                {
                                    "Nombre": "Mariana",
                                    "Apellido": "Pizarro"
                                },
                                {
                                    "Nombre": "Valentina",
                                    "Apellido": "Piña"
                                },
                                {
                                    "Nombre": "Rebeca",
                                    "Apellido": "Cisneros"
                                },
                                {
                                    "Nombre": "Renata",
                                    "Apellido": "Segovia"
                                },
                                {
                                    "Nombre": "Isabella",
                                    "Apellido": "Quintero"
                                },
                                {
                                    "Nombre": "Sofía",
                                    "Apellido": "Uribe"
                                },
                                {
                                    "Nombre": "Antonella",
                                    "Apellido": "Rincón"
                                },
                                {
                                    "Nombre": "Catalina",
                                    "Apellido": "Solano"
                                },
                                {
                                    "Nombre": "Constanza",
                                    "Apellido": "Avendaño"
                                },
                                {
                                    "Nombre": "Isadora",
                                    "Apellido": "Echevarría"
                                },
                                {
                                    "Nombre": "Antonia",
                                    "Apellido": "Zúñiga"
                                },
                                {
                                    "Nombre": "Rafaela",
                                    "Apellido": "Acuña"
                                },
                                {
                                    "Nombre": "Julieta",
                                    "Apellido": "Baeza"
                                },
                                {
                                    "Nombre": "Florencia",
                                    "Apellido": "Quintana"
                                },
                                {
                                    "Nombre": "Bianca",
                                    "Apellido": "Rendón"
                                },
                                {
                                    "Nombre": "Amanda",
                                    "Apellido": "Parra"
                                },
                                {
                                    "Nombre": "Ariana",
                                    "Apellido": "Henríquez"
                                },
                                {
                                    "Nombre": "Fernanda",
                                    "Apellido": "Tapia"
                                },
                                {
                                    "Nombre": "Dulce",
                                    "Apellido": "Quintero"
                                },
                                {
                                    "Nombre": "Luana",
                                    "Apellido": "Santamaría"
                                },
                                {
                                    "Nombre": "Violeta",
                                    "Apellido": "Ugarte"
                                },
                                {
                                    "Nombre": "Avril",
                                    "Apellido": "Olmedo"
                                },
                                {
                                    "Nombre": "Paloma",
                                    "Apellido": "Espinoza"
                                },
                                {
                                    "Nombre": "Maite",
                                    "Apellido": "Heredia"
                                },
                                {
                                    "Nombre": "Amelia",
                                    "Apellido": "Polo"
                                },
                                {
                                    "Nombre": "Bautista",
                                    "Apellido": "Contreras"
                                },
                                {
                                    "Nombre": "Tristán",
                                    "Apellido": "Sepúlveda"
                                },
                                {
                                    "Nombre": "Álvaro",
                                    "Apellido": "Leal"
                                },
                                {
                                    "Nombre": "Ángel",
                                    "Apellido": "Zepeda"
                                }
                            ]
                        },
                        "text/html": "<table><tr><th>Nombre</th><th>Apellido</th></tr><tr><td>María</td><td>García</td></tr><tr><td>Ana</td><td>Martínez</td></tr><tr><td>Laura</td><td>Fernández</td></tr><tr><td>Sofía</td><td>Torres</td></tr><tr><td>Isabel</td><td>Ramírez</td></tr><tr><td>Marta</td><td>Jiménez</td></tr><tr><td>Carla</td><td>Ruiz</td></tr><tr><td>Alicia</td><td>Gutiérrez</td></tr><tr><td>Lucía</td><td>Romero</td></tr><tr><td>Elena</td><td>Santos</td></tr><tr><td>Cristina</td><td>Molina</td></tr><tr><td>Daniela</td><td>Cabrera</td></tr><tr><td>Silvia</td><td>Vargas</td></tr><tr><td>Carolina</td><td>Pardo</td></tr><tr><td>Claudia</td><td>Suárez</td></tr><tr><td>Adriana</td><td>Guerrero</td></tr><tr><td>Valeria</td><td>Espinosa</td></tr><tr><td>Natalia</td><td>Aguilar</td></tr><tr><td>Gabriela</td><td>Arias</td></tr><tr><td>Camila</td><td>Acosta</td></tr><tr><td>Mariana</td><td>Pizarro</td></tr><tr><td>Valentina</td><td>Piña</td></tr><tr><td>Rebeca</td><td>Cisneros</td></tr><tr><td>Renata</td><td>Segovia</td></tr><tr><td>Isabella</td><td>Quintero</td></tr><tr><td>Sofía</td><td>Uribe</td></tr><tr><td>Antonella</td><td>Rincón</td></tr><tr><td>Catalina</td><td>Solano</td></tr><tr><td>Constanza</td><td>Avendaño</td></tr><tr><td>Isadora</td><td>Echevarría</td></tr><tr><td>Antonia</td><td>Zúñiga</td></tr><tr><td>Rafaela</td><td>Acuña</td></tr><tr><td>Julieta</td><td>Baeza</td></tr><tr><td>Florencia</td><td>Quintana</td></tr><tr><td>Bianca</td><td>Rendón</td></tr><tr><td>Amanda</td><td>Parra</td></tr><tr><td>Ariana</td><td>Henríquez</td></tr><tr><td>Fernanda</td><td>Tapia</td></tr><tr><td>Dulce</td><td>Quintero</td></tr><tr><td>Luana</td><td>Santamaría</td></tr><tr><td>Violeta</td><td>Ugarte</td></tr><tr><td>Avril</td><td>Olmedo</td></tr><tr><td>Paloma</td><td>Espinoza</td></tr><tr><td>Maite</td><td>Heredia</td></tr><tr><td>Amelia</td><td>Polo</td></tr><tr><td>Bautista</td><td>Contreras</td></tr><tr><td>Tristán</td><td>Sepúlveda</td></tr><tr><td>Álvaro</td><td>Leal</td></tr><tr><td>Ángel</td><td>Zepeda</td></tr></table>"
                    },
                    "metadata": {}
                }
            ],
            "execution_count": 104
        },
        {
            "cell_type": "markdown",
            "source": [
                "49\\. ¿Cuál es el monto total de transacciones por semana y año?"
            ],
            "metadata": {
                "language": "sql",
                "azdata_cell_guid": "9d533856-53c5-4237-af76-663a746d6955"
            },
            "attachments": {}
        },
        {
            "cell_type": "code",
            "source": [
                "SELECT YEAR(Fecha) AS 'Año', WEEK(Fecha) AS 'Semana', SUM(Monto) AS 'Monto Total'\r\n",
                "FROM bank.Transacciones\r\n",
                "GROUP BY YEAR(Fecha), WEEK(Fecha)\r\n",
                "ORDER BY YEAR(Fecha), WEEK(Fecha);"
            ],
            "metadata": {
                "language": "sql",
                "azdata_cell_guid": "9e828c2f-40a3-432b-bb0c-8aca9344b9ad"
            },
            "outputs": [
                {
                    "output_type": "display_data",
                    "data": {
                        "text/html": "(73 row(s) affected)"
                    },
                    "metadata": {}
                },
                {
                    "output_type": "display_data",
                    "data": {
                        "text/html": "Total execution time: 00:00:01.023"
                    },
                    "metadata": {}
                },
                {
                    "output_type": "execute_result",
                    "execution_count": 105,
                    "data": {
                        "application/vnd.dataresource+json": {
                            "schema": {
                                "fields": [
                                    {
                                        "name": "Año"
                                    },
                                    {
                                        "name": "Semana"
                                    },
                                    {
                                        "name": "Monto Total"
                                    }
                                ]
                            },
                            "data": [
                                {
                                    "Año": "2023",
                                    "Semana": "13",
                                    "Monto Total": "500.00"
                                },
                                {
                                    "Año": "2023",
                                    "Semana": "14",
                                    "Monto Total": "200.00"
                                },
                                {
                                    "Año": "2023",
                                    "Semana": "15",
                                    "Monto Total": "1300.00"
                                },
                                {
                                    "Año": "2023",
                                    "Semana": "16",
                                    "Monto Total": "2000.00"
                                },
                                {
                                    "Año": "2023",
                                    "Semana": "17",
                                    "Monto Total": "150.00"
                                },
                                {
                                    "Año": "2023",
                                    "Semana": "18",
                                    "Monto Total": "1200.00"
                                },
                                {
                                    "Año": "2023",
                                    "Semana": "19",
                                    "Monto Total": "1500.00"
                                },
                                {
                                    "Año": "2023",
                                    "Semana": "20",
                                    "Monto Total": "1450.00"
                                },
                                {
                                    "Año": "2023",
                                    "Semana": "21",
                                    "Monto Total": "350.00"
                                },
                                {
                                    "Año": "2023",
                                    "Semana": "22",
                                    "Monto Total": "2500.00"
                                },
                                {
                                    "Año": "2023",
                                    "Semana": "23",
                                    "Monto Total": "1080.00"
                                },
                                {
                                    "Año": "2023",
                                    "Semana": "24",
                                    "Monto Total": "450.00"
                                },
                                {
                                    "Año": "2023",
                                    "Semana": "25",
                                    "Monto Total": "2020.00"
                                },
                                {
                                    "Año": "2023",
                                    "Semana": "26",
                                    "Monto Total": "1100.00"
                                },
                                {
                                    "Año": "2023",
                                    "Semana": "27",
                                    "Monto Total": "380.00"
                                },
                                {
                                    "Año": "2023",
                                    "Semana": "28",
                                    "Monto Total": "2360.00"
                                },
                                {
                                    "Año": "2023",
                                    "Semana": "29",
                                    "Monto Total": "850.00"
                                },
                                {
                                    "Año": "2023",
                                    "Semana": "30",
                                    "Monto Total": "2320.00"
                                },
                                {
                                    "Año": "2023",
                                    "Semana": "31",
                                    "Monto Total": "240.00"
                                },
                                {
                                    "Año": "2023",
                                    "Semana": "32",
                                    "Monto Total": "1300.00"
                                },
                                {
                                    "Año": "2023",
                                    "Semana": "33",
                                    "Monto Total": "3090.00"
                                },
                                {
                                    "Año": "2023",
                                    "Semana": "34",
                                    "Monto Total": "170.00"
                                },
                                {
                                    "Año": "2023",
                                    "Semana": "35",
                                    "Monto Total": "1410.00"
                                },
                                {
                                    "Año": "2023",
                                    "Semana": "36",
                                    "Monto Total": "2100.00"
                                },
                                {
                                    "Año": "2023",
                                    "Semana": "37",
                                    "Monto Total": "280.00"
                                },
                                {
                                    "Año": "2023",
                                    "Semana": "38",
                                    "Monto Total": "1730.00"
                                },
                                {
                                    "Año": "2023",
                                    "Semana": "39",
                                    "Monto Total": "2300.00"
                                },
                                {
                                    "Año": "2023",
                                    "Semana": "40",
                                    "Monto Total": "1190.00"
                                },
                                {
                                    "Año": "2023",
                                    "Semana": "41",
                                    "Monto Total": "480.00"
                                },
                                {
                                    "Año": "2023",
                                    "Semana": "42",
                                    "Monto Total": "2400.00"
                                },
                                {
                                    "Año": "2023",
                                    "Semana": "43",
                                    "Monto Total": "1760.00"
                                },
                                {
                                    "Año": "2023",
                                    "Semana": "44",
                                    "Monto Total": "360.00"
                                },
                                {
                                    "Año": "2023",
                                    "Semana": "45",
                                    "Monto Total": "3010.00"
                                },
                                {
                                    "Año": "2023",
                                    "Semana": "46",
                                    "Monto Total": "1100.00"
                                },
                                {
                                    "Año": "2023",
                                    "Semana": "47",
                                    "Monto Total": "490.00"
                                },
                                {
                                    "Año": "2023",
                                    "Semana": "48",
                                    "Monto Total": "2790.00"
                                },
                                {
                                    "Año": "2023",
                                    "Semana": "49",
                                    "Monto Total": "1600.00"
                                },
                                {
                                    "Año": "2023",
                                    "Semana": "50",
                                    "Monto Total": "3370.00"
                                },
                                {
                                    "Año": "2023",
                                    "Semana": "51",
                                    "Monto Total": "230.00"
                                },
                                {
                                    "Año": "2023",
                                    "Semana": "52",
                                    "Monto Total": "1200.00"
                                },
                                {
                                    "Año": "2023",
                                    "Semana": "53",
                                    "Monto Total": "520.00"
                                },
                                {
                                    "Año": "2024",
                                    "Semana": "0",
                                    "Monto Total": "2600.00"
                                },
                                {
                                    "Año": "2024",
                                    "Semana": "1",
                                    "Monto Total": "300.00"
                                },
                                {
                                    "Año": "2024",
                                    "Semana": "2",
                                    "Monto Total": "2100.00"
                                },
                                {
                                    "Año": "2024",
                                    "Semana": "3",
                                    "Monto Total": "3200.00"
                                },
                                {
                                    "Año": "2024",
                                    "Semana": "4",
                                    "Monto Total": "250.00"
                                },
                                {
                                    "Año": "2024",
                                    "Semana": "5",
                                    "Monto Total": "1830.00"
                                },
                                {
                                    "Año": "2024",
                                    "Semana": "6",
                                    "Monto Total": "2700.00"
                                },
                                {
                                    "Año": "2024",
                                    "Semana": "7",
                                    "Monto Total": "2120.00"
                                },
                                {
                                    "Año": "2024",
                                    "Semana": "8",
                                    "Monto Total": "430.00"
                                },
                                {
                                    "Año": "2024",
                                    "Semana": "9",
                                    "Monto Total": "3400.00"
                                },
                                {
                                    "Año": "2024",
                                    "Semana": "10",
                                    "Monto Total": "1670.00"
                                },
                                {
                                    "Año": "2024",
                                    "Semana": "11",
                                    "Monto Total": "560.00"
                                },
                                {
                                    "Año": "2024",
                                    "Semana": "12",
                                    "Monto Total": "3140.00"
                                },
                                {
                                    "Año": "2024",
                                    "Semana": "13",
                                    "Monto Total": "1900.00"
                                },
                                {
                                    "Año": "2024",
                                    "Semana": "14",
                                    "Monto Total": "460.00"
                                },
                                {
                                    "Año": "2024",
                                    "Semana": "15",
                                    "Monto Total": "3780.00"
                                },
                                {
                                    "Año": "2024",
                                    "Semana": "16",
                                    "Monto Total": "1500.00"
                                },
                                {
                                    "Año": "2024",
                                    "Semana": "17",
                                    "Monto Total": "3490.00"
                                },
                                {
                                    "Año": "2024",
                                    "Semana": "18",
                                    "Monto Total": "360.00"
                                },
                                {
                                    "Año": "2024",
                                    "Semana": "19",
                                    "Monto Total": "2000.00"
                                },
                                {
                                    "Año": "2024",
                                    "Semana": "20",
                                    "Monto Total": "4070.00"
                                },
                                {
                                    "Año": "2024",
                                    "Semana": "21",
                                    "Monto Total": "290.00"
                                },
                                {
                                    "Año": "2024",
                                    "Semana": "22",
                                    "Monto Total": "2220.00"
                                },
                                {
                                    "Año": "2024",
                                    "Semana": "23",
                                    "Monto Total": "3000.00"
                                },
                                {
                                    "Año": "2024",
                                    "Semana": "24",
                                    "Monto Total": "380.00"
                                },
                                {
                                    "Año": "2024",
                                    "Semana": "25",
                                    "Monto Total": "2600.00"
                                },
                                {
                                    "Año": "2024",
                                    "Semana": "26",
                                    "Monto Total": "3700.00"
                                },
                                {
                                    "Año": "2024",
                                    "Semana": "27",
                                    "Monto Total": "2010.00"
                                },
                                {
                                    "Año": "2024",
                                    "Semana": "28",
                                    "Monto Total": "630.00"
                                },
                                {
                                    "Año": "2024",
                                    "Semana": "29",
                                    "Monto Total": "3100.00"
                                },
                                {
                                    "Año": "2024",
                                    "Semana": "30",
                                    "Monto Total": "2590.00"
                                },
                                {
                                    "Año": "2024",
                                    "Semana": "31",
                                    "Monto Total": "530.00"
                                }
                            ]
                        },
                        "text/html": "<table><tr><th>Año</th><th>Semana</th><th>Monto Total</th></tr><tr><td>2023</td><td>13</td><td>500.00</td></tr><tr><td>2023</td><td>14</td><td>200.00</td></tr><tr><td>2023</td><td>15</td><td>1300.00</td></tr><tr><td>2023</td><td>16</td><td>2000.00</td></tr><tr><td>2023</td><td>17</td><td>150.00</td></tr><tr><td>2023</td><td>18</td><td>1200.00</td></tr><tr><td>2023</td><td>19</td><td>1500.00</td></tr><tr><td>2023</td><td>20</td><td>1450.00</td></tr><tr><td>2023</td><td>21</td><td>350.00</td></tr><tr><td>2023</td><td>22</td><td>2500.00</td></tr><tr><td>2023</td><td>23</td><td>1080.00</td></tr><tr><td>2023</td><td>24</td><td>450.00</td></tr><tr><td>2023</td><td>25</td><td>2020.00</td></tr><tr><td>2023</td><td>26</td><td>1100.00</td></tr><tr><td>2023</td><td>27</td><td>380.00</td></tr><tr><td>2023</td><td>28</td><td>2360.00</td></tr><tr><td>2023</td><td>29</td><td>850.00</td></tr><tr><td>2023</td><td>30</td><td>2320.00</td></tr><tr><td>2023</td><td>31</td><td>240.00</td></tr><tr><td>2023</td><td>32</td><td>1300.00</td></tr><tr><td>2023</td><td>33</td><td>3090.00</td></tr><tr><td>2023</td><td>34</td><td>170.00</td></tr><tr><td>2023</td><td>35</td><td>1410.00</td></tr><tr><td>2023</td><td>36</td><td>2100.00</td></tr><tr><td>2023</td><td>37</td><td>280.00</td></tr><tr><td>2023</td><td>38</td><td>1730.00</td></tr><tr><td>2023</td><td>39</td><td>2300.00</td></tr><tr><td>2023</td><td>40</td><td>1190.00</td></tr><tr><td>2023</td><td>41</td><td>480.00</td></tr><tr><td>2023</td><td>42</td><td>2400.00</td></tr><tr><td>2023</td><td>43</td><td>1760.00</td></tr><tr><td>2023</td><td>44</td><td>360.00</td></tr><tr><td>2023</td><td>45</td><td>3010.00</td></tr><tr><td>2023</td><td>46</td><td>1100.00</td></tr><tr><td>2023</td><td>47</td><td>490.00</td></tr><tr><td>2023</td><td>48</td><td>2790.00</td></tr><tr><td>2023</td><td>49</td><td>1600.00</td></tr><tr><td>2023</td><td>50</td><td>3370.00</td></tr><tr><td>2023</td><td>51</td><td>230.00</td></tr><tr><td>2023</td><td>52</td><td>1200.00</td></tr><tr><td>2023</td><td>53</td><td>520.00</td></tr><tr><td>2024</td><td>0</td><td>2600.00</td></tr><tr><td>2024</td><td>1</td><td>300.00</td></tr><tr><td>2024</td><td>2</td><td>2100.00</td></tr><tr><td>2024</td><td>3</td><td>3200.00</td></tr><tr><td>2024</td><td>4</td><td>250.00</td></tr><tr><td>2024</td><td>5</td><td>1830.00</td></tr><tr><td>2024</td><td>6</td><td>2700.00</td></tr><tr><td>2024</td><td>7</td><td>2120.00</td></tr><tr><td>2024</td><td>8</td><td>430.00</td></tr><tr><td>2024</td><td>9</td><td>3400.00</td></tr><tr><td>2024</td><td>10</td><td>1670.00</td></tr><tr><td>2024</td><td>11</td><td>560.00</td></tr><tr><td>2024</td><td>12</td><td>3140.00</td></tr><tr><td>2024</td><td>13</td><td>1900.00</td></tr><tr><td>2024</td><td>14</td><td>460.00</td></tr><tr><td>2024</td><td>15</td><td>3780.00</td></tr><tr><td>2024</td><td>16</td><td>1500.00</td></tr><tr><td>2024</td><td>17</td><td>3490.00</td></tr><tr><td>2024</td><td>18</td><td>360.00</td></tr><tr><td>2024</td><td>19</td><td>2000.00</td></tr><tr><td>2024</td><td>20</td><td>4070.00</td></tr><tr><td>2024</td><td>21</td><td>290.00</td></tr><tr><td>2024</td><td>22</td><td>2220.00</td></tr><tr><td>2024</td><td>23</td><td>3000.00</td></tr><tr><td>2024</td><td>24</td><td>380.00</td></tr><tr><td>2024</td><td>25</td><td>2600.00</td></tr><tr><td>2024</td><td>26</td><td>3700.00</td></tr><tr><td>2024</td><td>27</td><td>2010.00</td></tr><tr><td>2024</td><td>28</td><td>630.00</td></tr><tr><td>2024</td><td>29</td><td>3100.00</td></tr><tr><td>2024</td><td>30</td><td>2590.00</td></tr><tr><td>2024</td><td>31</td><td>530.00</td></tr></table>"
                    },
                    "metadata": {}
                }
            ],
            "execution_count": 105
        },
        {
            "cell_type": "markdown",
            "source": [
                "**50. ¿Cuáles son las cuentas que han tenido transacciones en todas las semanas del año en curso?**"
            ],
            "metadata": {
                "language": "sql",
                "azdata_cell_guid": "68fb7ade-cf4f-473a-aa39-4f93a252192c"
            },
            "attachments": {}
        },
        {
            "cell_type": "code",
            "source": [
                "SELECT cu.CuentaID\r\n",
                "FROM bank.Cuentas cu\r\n",
                "JOIN bank.Transacciones t ON cu.CuentaID = t.CuentaID\r\n",
                "WHERE YEAR(t.Fecha) = YEAR(CURDATE())\r\n",
                "GROUP BY cu.CuentaID\r\n",
                "HAVING COUNT(DISTINCT WEEK(t.Fecha)) = (SELECT COUNT(DISTINCT WEEK(Fecha)) FROM bank.Transacciones WHERE YEAR(Fecha) = YEAR(CURDATE()));"
            ],
            "metadata": {
                "language": "sql",
                "azdata_cell_guid": "af879f48-1f23-46d3-aaf4-e82743511c5d"
            },
            "outputs": [
                {
                    "output_type": "display_data",
                    "data": {
                        "text/html": "(0 row(s) affected)"
                    },
                    "metadata": {}
                },
                {
                    "output_type": "display_data",
                    "data": {
                        "text/html": "Total execution time: 00:00:01.019"
                    },
                    "metadata": {}
                },
                {
                    "output_type": "execute_result",
                    "execution_count": 106,
                    "data": {
                        "application/vnd.dataresource+json": {
                            "schema": {
                                "fields": [
                                    {
                                        "name": "CuentaID"
                                    }
                                ]
                            },
                            "data": []
                        },
                        "text/html": "<table><tr><th>CuentaID</th></tr></table>"
                    },
                    "metadata": {}
                }
            ],
            "execution_count": 106
        },
        {
            "cell_type": "markdown",
            "source": [
                "51. ¿Cuál es la cuenta con el monto máximo de depósito?"
            ],
            "metadata": {
                "language": "sql",
                "azdata_cell_guid": "11dddc55-816b-47bc-b821-c5b5fde4b39e"
            },
            "attachments": {}
        },
        {
            "cell_type": "code",
            "source": [
                "SELECT cu.CuentaID, MAX(t.Monto) AS 'Máximo Depósito'\r\n",
                "FROM bank.Cuentas cu\r\n",
                "JOIN bank.Transacciones t ON cu.CuentaID = t.CuentaID AND t.Tipo = 'Depósito'\r\n",
                "GROUP BY cu.CuentaID\r\n",
                "ORDER BY 'Máximo Depósito' DESC\r\n",
                "LIMIT 1;"
            ],
            "metadata": {
                "language": "sql",
                "azdata_cell_guid": "b1afe557-7cc7-4197-af0e-135ccbe19804"
            },
            "outputs": [
                {
                    "output_type": "display_data",
                    "data": {
                        "text/html": "(1 row(s) affected)"
                    },
                    "metadata": {}
                },
                {
                    "output_type": "display_data",
                    "data": {
                        "text/html": "Total execution time: 00:00:01.013"
                    },
                    "metadata": {}
                },
                {
                    "output_type": "execute_result",
                    "execution_count": 107,
                    "data": {
                        "application/vnd.dataresource+json": {
                            "schema": {
                                "fields": [
                                    {
                                        "name": "CuentaID"
                                    },
                                    {
                                        "name": "Máximo Depósito"
                                    }
                                ]
                            },
                            "data": [
                                {
                                    "CuentaID": "1",
                                    "Máximo Depósito": "2600.00"
                                }
                            ]
                        },
                        "text/html": "<table><tr><th>CuentaID</th><th>Máximo Depósito</th></tr><tr><td>1</td><td>2600.00</td></tr></table>"
                    },
                    "metadata": {}
                }
            ],
            "execution_count": 107
        },
        {
            "cell_type": "markdown",
            "source": [
                "52. ¿Cuál es el cliente con la edad máxima?"
            ],
            "metadata": {
                "language": "sql",
                "azdata_cell_guid": "b005749f-2665-4d3e-9615-59428ce3e52b"
            },
            "attachments": {}
        },
        {
            "cell_type": "code",
            "source": [
                "SELECT Nombre, Apellido, YEAR(CURDATE()) - YEAR(FechaNacimiento) AS 'Edad'\r\n",
                "FROM bank.Clientes\r\n",
                "ORDER BY Edad DESC\r\n",
                "LIMIT 1;\r\n",
                ""
            ],
            "metadata": {
                "language": "sql",
                "azdata_cell_guid": "413936ae-0783-4482-bdb2-cc98fce04563"
            },
            "outputs": [
                {
                    "output_type": "display_data",
                    "data": {
                        "text/html": "(1 row(s) affected)"
                    },
                    "metadata": {}
                },
                {
                    "output_type": "display_data",
                    "data": {
                        "text/html": "Total execution time: 00:00:01.015"
                    },
                    "metadata": {}
                },
                {
                    "output_type": "execute_result",
                    "execution_count": 109,
                    "data": {
                        "application/vnd.dataresource+json": {
                            "schema": {
                                "fields": [
                                    {
                                        "name": "Nombre"
                                    },
                                    {
                                        "name": "Apellido"
                                    },
                                    {
                                        "name": "Edad"
                                    }
                                ]
                            },
                            "data": [
                                {
                                    "Nombre": "Sofía",
                                    "Apellido": "Torres",
                                    "Edad": "49"
                                }
                            ]
                        },
                        "text/html": "<table><tr><th>Nombre</th><th>Apellido</th><th>Edad</th></tr><tr><td>Sofía</td><td>Torres</td><td>49</td></tr></table>"
                    },
                    "metadata": {}
                }
            ],
            "execution_count": 109
        }
    ]
}