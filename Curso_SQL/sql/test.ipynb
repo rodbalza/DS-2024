{
    "metadata": {
        "kernelspec": {
            "name": "SQL",
            "display_name": "SQL",
            "language": "sql"
        },
        "language_info": {
            "name": "sql",
            "version": ""
        }
    },
    "nbformat_minor": 2,
    "nbformat": 4,
    "cells": [
        {
            "cell_type": "code",
            "source": [
                "SELECT * FROM comprasp6.order_table;"
            ],
            "metadata": {
                "azdata_cell_guid": "c4a8bc64-5732-43b6-b27c-056db84cb195",
                "language": "sql"
            },
            "outputs": [
                {
                    "output_type": "display_data",
                    "data": {
                        "text/html": "(3 row(s) affected)"
                    },
                    "metadata": {}
                },
                {
                    "output_type": "display_data",
                    "data": {
                        "text/html": "Total execution time: 00:00:01.010"
                    },
                    "metadata": {}
                },
                {
                    "output_type": "execute_result",
                    "metadata": {},
                    "execution_count": 2,
                    "data": {
                        "application/vnd.dataresource+json": {
                            "schema": {
                                "fields": [
                                    {
                                        "name": "user_id"
                                    },
                                    {
                                        "name": "order_id"
                                    }
                                ]
                            },
                            "data": [
                                {
                                    "user_id": "123",
                                    "order_id": "222"
                                },
                                {
                                    "user_id": "123",
                                    "order_id": "333"
                                },
                                {
                                    "user_id": "126",
                                    "order_id": "111"
                                }
                            ]
                        },
                        "text/html": [
                            "<table>",
                            "<tr><th>user_id</th><th>order_id</th></tr>",
                            "<tr><td>123</td><td>222</td></tr>",
                            "<tr><td>123</td><td>333</td></tr>",
                            "<tr><td>126</td><td>111</td></tr>",
                            "</table>"
                        ]
                    }
                }
            ],
            "execution_count": 2
        }
    ]
}