{
 "cells": [
  {
   "cell_type": "code",
   "execution_count": 1,
   "id": "223a452d-52c8-4f64-a4fe-6fafa20936da",
   "metadata": {},
   "outputs": [],
   "source": [
    "import numpy as np\n",
    "import pandas as pd\n",
    "import matplotlib as plt\n",
    "import seaborn as sns"
   ]
  },
  {
   "cell_type": "code",
   "execution_count": 2,
   "id": "4fb5b060-62bb-4958-8666-30663754c296",
   "metadata": {},
   "outputs": [
    {
     "name": "stdout",
     "output_type": "stream",
     "text": [
      "Requirement already satisfied: scipy in c:\\users\\juanj\\anaconda3\\envs\\pandas_2024\\lib\\site-packages (1.14.0)\n",
      "Requirement already satisfied: numpy<2.3,>=1.23.5 in c:\\users\\juanj\\anaconda3\\envs\\pandas_2024\\lib\\site-packages (from scipy) (2.0.0)\n"
     ]
    }
   ],
   "source": [
    "# !pip install scipy\n",
    "# !pip install statsmodels\n",
    "# !pip install pingouin"
   ]
  },
  {
   "cell_type": "code",
   "execution_count": 3,
   "id": "af82fb1a-8e5d-43d9-87f3-f143816834d2",
   "metadata": {},
   "outputs": [],
   "source": [
    "from scipy import stats \n",
    "import statsmodels as sm\n",
    "import pingouin as pg"
   ]
  },
  {
   "cell_type": "markdown",
   "id": "e19b13c4-22c4-470d-84a4-670ff1067f10",
   "metadata": {},
   "source": [
    "# Estadistica para ciencia de Datos"
   ]
  },
  {
   "cell_type": "markdown",
   "id": "8dbb52be-e37a-4a8e-8a8d-764f3ae2f1ca",
   "metadata": {},
   "source": [
    "# 1. Estadistica Descriptiva "
   ]
  },
  {
   "cell_type": "markdown",
   "id": "a34fc12a-4f10-4315-ae37-e3511a681b59",
   "metadata": {},
   "source": [
    "## Conceptos básicos"
   ]
  },
  {
   "cell_type": "markdown",
   "id": "c72e1fcf-542f-4455-ba44-d6d782031dba",
   "metadata": {},
   "source": [
    "## Introducción\n",
    "\n",
    "La estadística clásica se enfocó casi exclusivamente en la inferencia, un conjunto a veces complejo de procedimientos para sacar conclusiones sobre grandes poblaciones basadas en muestras pequeñas. En 1962, John W. Tukey llamó a una reforma de la estadística en su artículo seminal \"The Future of Data Analysis\" [Tukey-1962]. Propuso una nueva disciplina científica llamada análisis de datos que incluía la inferencia estadística como un componente más. Tukey presentó gráficos simples (por ejemplo, diagramas de caja, diagramas de dispersión) que, junto con estadísticas resumen (media, mediana, cuantiles, etc.), ayudan a pintar un cuadro de un conjunto de datos."
   ]
  },
  {
   "cell_type": "markdown",
   "id": "64f1c82b-da0f-4b9d-8c84-8d80ec6ddd40",
   "metadata": {},
   "source": [
    "## Tipos Básicos de Datos Estructurados  \n",
    "\n",
    "Hay dos tipos básicos de datos estructurados: `numéricos` y `categóricos`.  \n",
    "Los datos numéricos vienen en dos formas: `continuos`, como la velocidad del viento o la duración del tiempo, y `discretos`, como el conteo de la ocurrencia de un evento.  \n",
    "Los datos categóricos solo toman un conjunto fijo de valores, como el tipo de pantalla de TV (plasma, LCD, LED, etc.) o el nombre de un estado (Alabama, Alaska, etc.).  \n",
    "Los datos binarios son un caso especial de datos categóricos que toman solo uno de dos valores, como 0/1, sí/no, o verdadero/falso.  \n",
    "Otro tipo útil de datos categóricos son los datos ordinales en los que las categorías están ordenadas; un ejemplo de esto es una calificación numérica (1, 2, 3, 4 o 5), los grados en la ESO pueden clasificarse como ordinales.\n",
    "\n",
    "\n",
    "## Términos Clave para Tipos de Datos\n",
    "\n",
    "- **Numeric (Numérico)**: Datos que se expresan en una escala numérica.\n",
    "\n",
    "- **Continuous (Continuos)**: Datos que pueden tomar cualquier valor en un intervalo. (Sinónimos: intervalo, flotante, numérico)\n",
    "\n",
    "- **Discrete (Discretos)**: Datos que solo pueden tomar valores enteros, como conteos. (Sinónimos: entero, conteo)\n",
    "\n",
    "- **Categorical (Categóricos)**: Datos que solo pueden tomar un conjunto específico de valores que representan un conjunto de posibles categorías. (Sinónimos: enums, enumerados, factores, nominales)\n",
    "\n",
    "- **Binary (Binarios)**: Un caso especial de datos categóricos con solo dos categorías de valores, por ejemplo, 0/1, verdadero/falso. (Sinónimos: dicotómicos, lógicos, indicadores, booleanos)\n",
    "\n",
    "- **Ordinal (Ordinales)**: Datos categóricos que tienen un orden explícito. (Sinónimo: factor ordenado)\n",
    "\n",
    "\n"
   ]
  },
  {
   "cell_type": "markdown",
   "id": "b4c61129-4cbc-407f-9814-5d8e5c38471e",
   "metadata": {},
   "source": [
    "# Rectangular Data  \n",
    "\n",
    "Los datos rectangulares son el término general para un array bidimensional con filas que indican registros (casos) y columnas que indican características (features),  (variables); el data frame es el formato específico en R y Python.  \n",
    "Los datos no siempre comienzan en esta forma: los datos no estructurados (por ejemplo, texto) deben ser procesados y manipulados para que puedan ser representados como un conjunto de características en los datos rectangulares.  \n",
    "Los datos en bases de datos relacionales deben ser extraídos y puestos en una sola tabla para la mayoría de las tareas de análisis y modelado de datos.\n"
   ]
  },
  {
   "cell_type": "markdown",
   "id": "47303319-780f-4aa3-a89a-92660412af84",
   "metadata": {},
   "source": [
    "## Términos Clave para Datos Rectangulares\n",
    "\n",
    "- **Data frame**: Los datos rectangulares (como una hoja de cálculo) son la estructura de datos básica para modelos estadísticos y de aprendizaje automático.\n",
    "\n",
    "- **Feature**: Una columna dentro de una tabla es comúnmente referida como una característica.\n",
    "\n",
    "  - **Sinónimos**: atributo, input, predictor, variable\n",
    "\n",
    "- **Outcome**: Muchos proyectos de ciencia de datos involucran predecir un resultado, a menudo un resultado sí/no (en la Tabla 1-1, es \"auction was competitive or not\"). Las características a veces se utilizan para predecir el resultado en un experimento o estudio.\n",
    "\n",
    "  - **Sinónimos**: variable dependiente, respuesta, objetivo, output\n",
    "\n",
    "- **Records**: Una fila dentro de una tabla es comúnmente referida como un registro.\n",
    "\n",
    "  - **Sinónimos**: caso, ejemplo, instancia, observación, patrón, muestra"
   ]
  },
  {
   "cell_type": "markdown",
   "id": "a71c3b45-e485-4ce8-962f-1f48d7ca4771",
   "metadata": {},
   "source": [
    "### Tabla 1-1. Formato típico de un data frame\n",
    "\n",
    "| Category               | Currency | SellerRating | Duration | EndDay | ClosePrice | OpenPrice | Competitive? |\n",
    "|------------------------|----------|--------------|----------|--------|------------|-----------|--------------|\n",
    "| Music/Movie/Game       | US       | 3249         | 5        | Mon    | 0.01       | 0.01      | 0            |\n",
    "| Music/Movie/Game       | US       | 3249         | 5        | Mon    | 0.01       | 0.01      | 0            |\n",
    "| Automotive             | US       | 3115         | 7        | Tue    | 0.01       | 0.01      | 0            |\n",
    "| Automotive             | US       | 3115         | 7        | Tue    | 0.01       | 0.01      | 0            |\n",
    "| Automotive             | US       | 3115         | 7        | Tue    | 0.01       | 0.01      | 0            |\n",
    "| Automotive             | US       | 3115         | 7        | Tue    | 0.01       | 0.01      | 0            |\n",
    "| Automotive             | US       | 3115         | 7        | Tue    | 0.01       | 0.01      | 1            |\n",
    "| Automotive             | US       | 3115         | 7        | Tue    | 0.01       | 0.01      | 1            |\n",
    "| Automotive             | US       | 3115         | 7        | Tue    | 0.01       | 0.01      | 1            |\n",
    "| Automotive             | US       | 3115         | 7        | Tue    | 0.01       | 0.01      | 1            |\n",
    "\n",
    "En la Tabla 1-1, hay una mezcla de datos medidos o contados (por ejemplo, duración y precio) y datos categóricos (por ejemplo, categoría y moneda). Como se mencionó anteriormente, una forma especial de variable categórica es una variable binaria (sí/no o 0/1), vista en la columna más a la derecha en la Tabla 1-1: una variable indicadora que muestra si una subasta fue competitiva (tuvo múltiples postores) o no. Esta variable indicadora también resulta ser una variable de resultado, cuando el escenario es predecir si una subasta es competitiva o no."
   ]
  },
  {
   "cell_type": "markdown",
   "id": "74b02c63-a57d-4a82-ac20-6d496563cc3e",
   "metadata": {},
   "source": [
    "## Estructuras de Datos No Rectangulares\n",
    "\n",
    "Los **datos de series temporales** registran mediciones sucesivas de la misma variable. Es la materia prima para los métodos de pronóstico estadístico y también es un componente clave de los datos producidos por dispositivos: el Internet de las Cosas.\n",
    "\n",
    "Las **estructuras de datos espaciales**, que se utilizan en el mapeo y análisis de localización, son más complejas y variadas que las estructuras de datos rectangulares.   \n",
    "\n",
    "En la **representación de objetos**, el foco de los datos es un objeto (por ejemplo, una casa) y sus coordenadas espaciales. La vista de campo, por el contrario, se centra en pequeñas unidades de espacio y el valor de una métrica relevante (por ejemplo, el brillo de un píxel).\n",
    "\n",
    "Las **estructuras de datos de grafos (o redes)** se utilizan para representar relaciones físicas, sociales y abstractas. Por ejemplo, un grafo de una red social, como Facebook o LinkedIn, puede representar conexiones entre personas en la red. Los centros de distribución conectados por carreteras son un ejemplo de una red física. Las estructuras de grafos son útiles para ciertos tipos de problemas, como la optimización de redes y los sistemas de recomendación.\n",
    "\n"
   ]
  },
  {
   "cell_type": "markdown",
   "id": "84f16daf-1194-46e9-8879-4175e76e7409",
   "metadata": {},
   "source": [
    "# 1.1 Estimaciones de Ubicación (o medidas de tendencia central)\n",
    "\n",
    "Las variables con datos medidos o contados pueden tener miles de valores distintos. Un paso básico en la exploración de tus datos es obtener un \"valor típico\" para cada característica (variable): una estimación de dónde se encuentra la mayor parte de los datos (es decir, su tendencia central).\n",
    "\n",
    "## Términos Clave para Estimaciones de Ubicación\n",
    "\n",
    "- **Media**: La suma de todos los valores dividida por el número de valores.\n",
    "  - Sinónimo: promedio\n",
    "\n",
    "- **Media ponderada**: La suma de todos los valores multiplicados por un peso dividida por la suma de los pesos.\n",
    "  - Sinónimo: promedio ponderado\n",
    "\n",
    "- **Mediana**: El valor tal que la mitad de los datos está por encima y por debajo.\n",
    "  - Sinónimo: percentil 50\n",
    "\n",
    "- **Percentil**: El valor tal que P por ciento de los datos está por debajo.\n",
    "  - Sinónimo: cuantil\n",
    "\n",
    "- **Mediana ponderada**: El valor tal que la mitad de la suma de los pesos está por encima y por debajo de los datos ordenados.\n",
    "\n",
    "- **Media recortada**: El promedio de todos los valores después de eliminar un número fijo de valores extremos.\n",
    "  - Sinónimo: media truncada\n",
    "\n",
    "- **Robusto**: No sensible a valores extremos.\n",
    "  - Sinónimo: resistente\n",
    "\n",
    "- **Valor atípico**: Un valor de datos que es muy diferente de la mayoría de los datos.\n",
    "  - Sinónimo: valor extremo\n",
    "\n",
    "A primera vista, resumir los datos podría parecer bastante trivial: simplemente toma la media de los datos. De hecho, aunque la media es fácil de calcular y expedita de usar, puede que no siempre sea la mejor medida para un valor central. Por esta razón, los estadísticos han desarrollado y promovido varias estimaciones alternativas a la media.\n",
    "\n",
    "## Métricas y Estimaciones\n",
    "\n",
    "Los estadísticos a menudo usan el término estimación para un valor calculado a partir de los datos a la mano, para hacer una distinción entre lo que vemos en los datos y el estado teórico verdadero o exacto. Los científicos de datos y los analistas de negocios son más propensos a referirse a dicho valor como una métrica. "
   ]
  },
  {
   "cell_type": "markdown",
   "id": "0759fe5c-c3cb-498d-95bb-0e16765d7710",
   "metadata": {},
   "source": [
    "### Media\n",
    "\n",
    "La estimación más básica de la ubicación es la media, o valor promedio. La media es la suma de todos los valores dividida por el número de valores. Considera el siguiente conjunto de números: {3, 5, 1, 2}. La media es:\n",
    "\n",
    "$ \\text{Media} = \\frac{3 + 5 + 1 + 2}{4} = \\frac{11}{4} = 2.75 $\n",
    "\n",
    "Verás que se usa el símbolo $\\bar{x}$ (pronunciado \"x-barra\") para representar la media de una muestra de una población. La fórmula para calcular la media para un conjunto de $n$ valores $x_1, x_2, \\ldots, x_n$ es:\n",
    "\n",
    "$ \\bar{x} = \\frac{1}{n} \\sum_{i=1}^n x_i $"
   ]
  },
  {
   "cell_type": "markdown",
   "id": "e3baf9fd-b7c7-48f9-ab90-25a78cd30aa7",
   "metadata": {},
   "source": [
    "**Ejemplos**"
   ]
  },
  {
   "cell_type": "markdown",
   "id": "7e07b130-91a9-47e4-9592-7c74cbb24529",
   "metadata": {},
   "source": [
    "#### Con SciPy"
   ]
  },
  {
   "cell_type": "code",
   "execution_count": 7,
   "id": "81ddb98b-49a9-4ecb-9cba-87ecc039ddbb",
   "metadata": {},
   "outputs": [
    {
     "data": {
      "text/plain": [
       "array([ 3,  5,  1,  2,  7,  8, 10,  6,  4,  9])"
      ]
     },
     "execution_count": 7,
     "metadata": {},
     "output_type": "execute_result"
    }
   ],
   "source": [
    "import numpy as np\n",
    "from scipy import stats\n",
    "\n",
    "# Crear un conjunto de datos de ejemplo\n",
    "data = np.array([3, 5, 1, 2, 7, 8, 10, 6, 4, 9])\n",
    "data"
   ]
  },
  {
   "cell_type": "code",
   "execution_count": 8,
   "id": "aec66746-a3be-4488-9851-1f8528694c4b",
   "metadata": {},
   "outputs": [
    {
     "name": "stdout",
     "output_type": "stream",
     "text": [
      "Media usando SciPy: 5.5\n"
     ]
    }
   ],
   "source": [
    "# Calcular la media usando scipy\n",
    "mean_scipy = np.mean(data)\n",
    "print(\"Media usando SciPy:\", mean_scipy)"
   ]
  },
  {
   "cell_type": "markdown",
   "id": "9c3a4646-35b9-4962-919c-1f75f9e5fa34",
   "metadata": {},
   "source": [
    "#### Usando Pandas"
   ]
  },
  {
   "cell_type": "code",
   "execution_count": 9,
   "id": "3e0cc2e6-6f93-4b52-b629-8240a3e0f574",
   "metadata": {},
   "outputs": [
    {
     "data": {
      "text/html": [
       "<div>\n",
       "<style scoped>\n",
       "    .dataframe tbody tr th:only-of-type {\n",
       "        vertical-align: middle;\n",
       "    }\n",
       "\n",
       "    .dataframe tbody tr th {\n",
       "        vertical-align: top;\n",
       "    }\n",
       "\n",
       "    .dataframe thead th {\n",
       "        text-align: right;\n",
       "    }\n",
       "</style>\n",
       "<table border=\"1\" class=\"dataframe\">\n",
       "  <thead>\n",
       "    <tr style=\"text-align: right;\">\n",
       "      <th></th>\n",
       "      <th>values</th>\n",
       "    </tr>\n",
       "  </thead>\n",
       "  <tbody>\n",
       "    <tr>\n",
       "      <th>0</th>\n",
       "      <td>3</td>\n",
       "    </tr>\n",
       "    <tr>\n",
       "      <th>1</th>\n",
       "      <td>5</td>\n",
       "    </tr>\n",
       "    <tr>\n",
       "      <th>2</th>\n",
       "      <td>1</td>\n",
       "    </tr>\n",
       "    <tr>\n",
       "      <th>3</th>\n",
       "      <td>2</td>\n",
       "    </tr>\n",
       "    <tr>\n",
       "      <th>4</th>\n",
       "      <td>7</td>\n",
       "    </tr>\n",
       "    <tr>\n",
       "      <th>5</th>\n",
       "      <td>8</td>\n",
       "    </tr>\n",
       "    <tr>\n",
       "      <th>6</th>\n",
       "      <td>10</td>\n",
       "    </tr>\n",
       "    <tr>\n",
       "      <th>7</th>\n",
       "      <td>6</td>\n",
       "    </tr>\n",
       "    <tr>\n",
       "      <th>8</th>\n",
       "      <td>4</td>\n",
       "    </tr>\n",
       "    <tr>\n",
       "      <th>9</th>\n",
       "      <td>9</td>\n",
       "    </tr>\n",
       "  </tbody>\n",
       "</table>\n",
       "</div>"
      ],
      "text/plain": [
       "   values\n",
       "0       3\n",
       "1       5\n",
       "2       1\n",
       "3       2\n",
       "4       7\n",
       "5       8\n",
       "6      10\n",
       "7       6\n",
       "8       4\n",
       "9       9"
      ]
     },
     "execution_count": 9,
     "metadata": {},
     "output_type": "execute_result"
    }
   ],
   "source": [
    "import pandas as pd\n",
    "\n",
    "# Crear un DataFrame de ejemplo\n",
    "df = pd.DataFrame({'values': [3, 5, 1, 2, 7, 8, 10, 6, 4, 9]})\n",
    "df"
   ]
  },
  {
   "cell_type": "code",
   "execution_count": 10,
   "id": "8d3ff1e5-66c3-43d4-b39a-99f9b02334be",
   "metadata": {},
   "outputs": [
    {
     "name": "stdout",
     "output_type": "stream",
     "text": [
      "Media usando Pandas: 5.5\n"
     ]
    }
   ],
   "source": [
    "# Calcular la media usando pandas\n",
    "mean_pandas = df['values'].mean()\n",
    "print(\"Media usando Pandas:\", mean_pandas)"
   ]
  },
  {
   "cell_type": "markdown",
   "id": "631edfff-84c7-4fcc-b5bb-b6c43e27e077",
   "metadata": {},
   "source": [
    "#### Usando Statsmodels"
   ]
  },
  {
   "cell_type": "code",
   "execution_count": 12,
   "id": "70e7d66d-465c-4496-8686-9a6bd4dac0ec",
   "metadata": {},
   "outputs": [
    {
     "name": "stdout",
     "output_type": "stream",
     "text": [
      "Media usando Statsmodels: 5.500000000000001\n"
     ]
    }
   ],
   "source": [
    "import statsmodels.api as sm\n",
    "import pandas as pd\n",
    "\n",
    "# Crear un DataFrame de ejemplo\n",
    "df = pd.DataFrame({'values': [3, 5, 1, 2, 7, 8, 10, 6, 4, 9]})\n",
    "\n",
    "# Agregar una columna de unos para representar el intercepto\n",
    "df['intercept'] = 1\n",
    "\n",
    "# Ajustar un modelo de regresión sin variables explicativas, solo el intercepto\n",
    "model = sm.OLS(df['values'], df['intercept']).fit()\n",
    "\n",
    "# La media es el valor del intercepto\n",
    "mean_statsmodels = model.params['intercept']\n",
    "print(\"Media usando Statsmodels:\", mean_statsmodels)"
   ]
  },
  {
   "cell_type": "markdown",
   "id": "07eb5976-60d7-4da4-aade-9ddaae4a9dde",
   "metadata": {},
   "source": [
    "**Calcula la media de los mismos datos dados arriba pero esta vez usando la libreria pingouine**"
   ]
  },
  {
   "cell_type": "markdown",
   "id": "92d7383f-03b9-4086-8ebd-03a90adf795f",
   "metadata": {},
   "source": [
    "Una variación de la media es una media recortada (trimmed mean), que se calcula eliminando un número fijo de valores ordenados en cada extremo y luego tomando un promedio de los valores restantes. Representando los valores ordenados por $x_1, x_2, \\ldots, x_n$ donde $x_1$ es el valor más pequeño y $x_n$ el más grande, la fórmula para calcular la media recortada con $p$ valores más pequeños y más grandes omitidos es:\n",
    "\n",
    "$\\bar{x}_{\\text{recortada}} = \\frac{1}{n - 2p} \\sum_{i=p+1}^{n-p} x_i$\n",
    "\n",
    "Una media recortada elimina la influencia de valores extremos. Por ejemplo, en el buceo internacional se eliminan la puntuación más alta y más baja de cinco jueces, y la puntuación final es el promedio de las puntuaciones de los tres jueces restantes. Esto hace que sea difícil para un solo juez manipular la puntuación, quizás para favorecer al concursante de su país. Las medias recortadas se utilizan ampliamente y, en muchos casos, son preferibles a usar la media ordinaria."
   ]
  },
  {
   "cell_type": "markdown",
   "id": "c92a863a-8e24-461e-93c0-5e85a9a2e069",
   "metadata": {},
   "source": [
    "**Ejempos con Python**"
   ]
  },
  {
   "cell_type": "markdown",
   "id": "1df54d01-ffc0-4e2c-ba73-04161079049d",
   "metadata": {},
   "source": [
    "#### SciPy"
   ]
  },
  {
   "cell_type": "code",
   "execution_count": 14,
   "id": "76a53f2c-6308-4984-a05a-f1fc721bc968",
   "metadata": {},
   "outputs": [
    {
     "name": "stdout",
     "output_type": "stream",
     "text": [
      "Media recortada usando SciPy: 5.5\n"
     ]
    }
   ],
   "source": [
    "import numpy as np\n",
    "from scipy.stats import trim_mean\n",
    "\n",
    "# Crear un conjunto de datos de ejemplo\n",
    "data = np.array([3, 5, 1, 2, 7, 8, 10, 6, 4, 9])\n",
    "\n",
    "# Calcular la media recortada usando scipy\n",
    "trimmed_mean_scipy = trim_mean(data, 0.1)  # Recorta el 10% de cada extremo\n",
    "print(\"Media recortada usando SciPy:\", trimmed_mean_scipy)"
   ]
  },
  {
   "cell_type": "markdown",
   "id": "11b25b05-5ef9-443c-a78e-54024b3829c1",
   "metadata": {},
   "source": [
    "#### Pandas"
   ]
  },
  {
   "cell_type": "code",
   "execution_count": 16,
   "id": "6aace7ae-5426-429f-8316-b3442814db64",
   "metadata": {},
   "outputs": [
    {
     "name": "stdout",
     "output_type": "stream",
     "text": [
      "Media recortada usando Pandas: 5.5\n"
     ]
    }
   ],
   "source": [
    "import pandas as pd\n",
    "\n",
    "# Crear un DataFrame de ejemplo\n",
    "df = pd.DataFrame({'values': [3, 5, 1, 2, 7, 8, 10, 6, 4, 9]})\n",
    "\n",
    "# Calcular la media recortada usando pandas\n",
    "trimmed_df = df['values'].sort_values().iloc[int(0.1*len(df)):int(0.9*len(df))]\n",
    "trimmed_mean_pandas = trimmed_df.mean()\n",
    "print(\"Media recortada usando Pandas:\", trimmed_mean_pandas)"
   ]
  },
  {
   "cell_type": "markdown",
   "id": "d82bf026-35aa-440a-bcbd-17bc8e204a47",
   "metadata": {},
   "source": [
    "**Explique el código de arriba**"
   ]
  },
  {
   "cell_type": "markdown",
   "id": "385aa47c-e4d7-4a18-b4f2-3c808dab369e",
   "metadata": {},
   "source": [
    "#### Statsmodels  \n",
    "No tiene un método directo. Se calcula de forma indirecta."
   ]
  },
  {
   "cell_type": "code",
   "execution_count": 19,
   "id": "2f6a3a67-0a53-473c-95fd-d86c59dbb766",
   "metadata": {},
   "outputs": [
    {
     "name": "stdout",
     "output_type": "stream",
     "text": [
      "Media recortada usando una función personalizada con Statsmodels: 5.5\n"
     ]
    }
   ],
   "source": [
    "import statsmodels.api as sm\n",
    "import pandas as pd\n",
    "import numpy as np\n",
    "\n",
    "# Crear un DataFrame de ejemplo\n",
    "df = pd.DataFrame({'values': [3, 5, 1, 2, 7, 8, 10, 6, 4, 9]})\n",
    "\n",
    "# Usar una función personalizada para calcular la media recortada\n",
    "def trimmed_mean(data, proportiontocut):\n",
    "    n = len(data)\n",
    "    k = int(n * proportiontocut)\n",
    "    trimmed_data = np.sort(data)[k:n-k]\n",
    "    return np.mean(trimmed_data)\n",
    "\n",
    "# Calcular la media recortada usando la función personalizada\n",
    "trimmed_mean_statsmodels = trimmed_mean(df['values'], 0.1)\n",
    "print(\"Media recortada usando una función personalizada con Statsmodels:\", trimmed_mean_statsmodels)\n"
   ]
  },
  {
   "cell_type": "markdown",
   "id": "782ee632-2c57-42f5-a529-dd074c553b40",
   "metadata": {},
   "source": [
    "**Explique el código de arriba**"
   ]
  },
  {
   "cell_type": "markdown",
   "id": "fbfbb928-69cd-4d3d-ada5-d80b5af09755",
   "metadata": {},
   "source": [
    "### Investigar como se calcula la media recortada con pingouine"
   ]
  },
  {
   "cell_type": "markdown",
   "id": "8bbe904a-af0f-44e8-bb72-832023540ed1",
   "metadata": {},
   "source": [
    "Otro tipo de media es una `media ponderada (weighted mean)`, que se calcula multiplicando cada valor de datos $x_i$ por un peso especificado por el usuario $w_i$ y dividiendo su suma por la suma de los pesos. La fórmula para una media ponderada es:\n",
    "\n",
    "$\\bar{x}_w = \\frac{\\sum_{i=1}^n w_i x_i}{\\sum_{i=1}^n w_i}$\n",
    "\n",
    "Hay dos motivaciones principales para usar una media ponderada:\n",
    "\n",
    "- Algunos valores son intrínsecamente más variables que otros, y las observaciones altamente variables se les da un peso menor. Por ejemplo, si estamos tomando el promedio de múltiples sensores y uno de los sensores es menos preciso, entonces podríamos darle menos peso a los datos de ese sensor.\n",
    "- Los datos recopilados no representan igualmente a los diferentes grupos que estamos interesados en medir. Por ejemplo, debido a la forma en que se realizó un experimento en línea, es posible que no tengamos un conjunto de datos que refleje con precisión todos los grupos en la base de usuarios. Para corregir eso, podemos dar un mayor peso a los valores de los grupos que estaban subrepresentados."
   ]
  },
  {
   "cell_type": "markdown",
   "id": "16ecbb43-ff32-46e3-9d4d-052a4e00458d",
   "metadata": {},
   "source": [
    "**Ejemplos con Python**"
   ]
  },
  {
   "cell_type": "markdown",
   "id": "dcd311b9-5328-41aa-becf-079ee86c6e10",
   "metadata": {},
   "source": [
    "Vamos a utilizar un conjunto de datos simple donde cada valor tiene un peso asociado:"
   ]
  },
  {
   "cell_type": "code",
   "execution_count": 21,
   "id": "11dbfea1-c847-4328-9d80-f2d4444db395",
   "metadata": {},
   "outputs": [],
   "source": [
    "values = np.array([3, 5, 1, 2, 7, 8, 10, 6, 4, 9])\n",
    "weights = np.array([1, 2, 1, 1, 2, 1, 3, 2, 1, 2])"
   ]
  },
  {
   "cell_type": "markdown",
   "id": "d163a237-2e7b-4da4-9c17-ed7fb05aff74",
   "metadata": {},
   "source": [
    "#### Scipy"
   ]
  },
  {
   "cell_type": "code",
   "execution_count": 22,
   "id": "eac09d93-5aec-45da-93c5-cfd434319827",
   "metadata": {},
   "outputs": [
    {
     "name": "stdout",
     "output_type": "stream",
     "text": [
      "Media ponderada usando SciPy: 6.375\n"
     ]
    }
   ],
   "source": [
    "import numpy as np\n",
    "from scipy.stats import describe\n",
    "\n",
    "# Crear un conjunto de datos de ejemplo\n",
    "values = np.array([3, 5, 1, 2, 7, 8, 10, 6, 4, 9])\n",
    "weights = np.array([1, 2, 1, 1, 2, 1, 3, 2, 1, 2])\n",
    "\n",
    "# Calcular la media ponderada usando scipy\n",
    "weighted_mean_scipy = np.average(values, weights=weights)\n",
    "print(\"Media ponderada usando SciPy:\", weighted_mean_scipy)"
   ]
  },
  {
   "cell_type": "markdown",
   "id": "fd803f53-90ba-49d9-99bb-6ff72ed012ff",
   "metadata": {},
   "source": [
    "#### Pandas"
   ]
  },
  {
   "cell_type": "code",
   "execution_count": 23,
   "id": "acc677ee-b86d-4be2-9167-26db9ac620a0",
   "metadata": {},
   "outputs": [
    {
     "name": "stdout",
     "output_type": "stream",
     "text": [
      "Media ponderada usando Pandas: 6.375\n"
     ]
    }
   ],
   "source": [
    "import pandas as pd\n",
    "\n",
    "# Crear un DataFrame de ejemplo\n",
    "df = pd.DataFrame({'values': [3, 5, 1, 2, 7, 8, 10, 6, 4, 9],\n",
    "                   'weights': [1, 2, 1, 1, 2, 1, 3, 2, 1, 2]})\n",
    "\n",
    "# Calcular la media ponderada usando pandas\n",
    "weighted_mean_pandas = np.average(df['values'], weights=df['weights'])\n",
    "print(\"Media ponderada usando Pandas:\", weighted_mean_pandas)"
   ]
  },
  {
   "cell_type": "markdown",
   "id": "ff222b57-a07c-4e3b-a44f-c2daa0f2370f",
   "metadata": {},
   "source": [
    "#### Statsmodels"
   ]
  },
  {
   "cell_type": "code",
   "execution_count": 25,
   "id": "854e5b70-c98a-4428-ad2d-ab69866adf6d",
   "metadata": {},
   "outputs": [
    {
     "name": "stdout",
     "output_type": "stream",
     "text": [
      "Media ponderada usando Statsmodels: 6.3750000000000036\n"
     ]
    }
   ],
   "source": [
    "import statsmodels.api as sm\n",
    "import pandas as pd\n",
    "import numpy as np\n",
    "\n",
    "# Crear un DataFrame de ejemplo\n",
    "df = pd.DataFrame({'values': [3, 5, 1, 2, 7, 8, 10, 6, 4, 9],\n",
    "                   'weights': [1, 2, 1, 1, 2, 1, 3, 2, 1, 2]})\n",
    "\n",
    "# Añadir una columna de unos para representar el intercepto\n",
    "df['intercept'] = 1\n",
    "\n",
    "# Ajustar un modelo de regresión ponderado\n",
    "model = sm.WLS(df['values'], df[['intercept']], weights=df['weights']).fit()\n",
    "\n",
    "# La media ponderada es el valor del intercepto\n",
    "weighted_mean_statsmodels = model.params['intercept']\n",
    "print(\"Media ponderada usando Statsmodels:\", weighted_mean_statsmodels)"
   ]
  },
  {
   "cell_type": "markdown",
   "id": "04335797-aca7-427f-817e-5c3e00752535",
   "metadata": {},
   "source": [
    "**Explicar código de arriba**"
   ]
  },
  {
   "cell_type": "markdown",
   "id": "a58a7bad-3dbe-4813-857d-22180569acf5",
   "metadata": {},
   "source": [
    "#### Investigar cómo se calcula media ponderada usando pingouine"
   ]
  },
  {
   "cell_type": "markdown",
   "id": "cb5804cd-5762-4548-a860-3dea0cade866",
   "metadata": {},
   "source": [
    "### Mediana y Estimaciones Robustas\n",
    "\n",
    "La mediana es el número central en una lista ordenada de los datos. Si hay un número par de valores de datos, el valor central es uno que no está realmente en el conjunto de datos, sino el promedio de los dos valores que dividen los datos ordenados en mitades superior e inferior. En comparación con la media, que utiliza todas las observaciones, la mediana depende solo de los valores en el centro de los datos ordenados. Aunque esto podría parecer una desventaja, ya que la media es mucho más sensible a los datos, hay muchos casos en los que la mediana es una mejor métrica para la ubicación.\n",
    "\n",
    "Supongamos que queremos observar los ingresos familiares típicos en vecindarios alrededor del Lago Washington en Seattle. Al comparar el vecindario de Medina con el de Windermere, usar la media produciría resultados muy diferentes porque Bill Gates vive en Medina. Si usamos la mediana, no importará cuán rico sea Bill Gates, la posición de la observación central seguirá siendo la misma.\n",
    "\n",
    "Por las mismas razones que se usa una media ponderada, también es posible calcular una mediana ponderada. Al igual que con la mediana, primero ordenamos los datos, aunque cada valor de datos tiene un peso asociado. En lugar del número central, la mediana ponderada es un valor tal que la suma de los pesos es igual para las mitades inferior y superior de la lista ordenada. Al igual que la mediana, la mediana ponderada es robusta frente a valores atípicos."
   ]
  },
  {
   "cell_type": "markdown",
   "id": "8e501458-7ae3-4542-bce8-736108c0efd2",
   "metadata": {},
   "source": [
    "**Ejemplos con Python**"
   ]
  },
  {
   "cell_type": "markdown",
   "id": "6f5d5570-3598-4b2a-98f7-74e97a761504",
   "metadata": {},
   "source": [
    "#### SciPy (Numpy)"
   ]
  },
  {
   "cell_type": "code",
   "execution_count": 31,
   "id": "db7a76e2-7f41-4121-a155-c2031ff9b2b7",
   "metadata": {},
   "outputs": [
    {
     "name": "stdout",
     "output_type": "stream",
     "text": [
      "Mediana usando 'SciPy': 5.5\n"
     ]
    }
   ],
   "source": [
    "import numpy as np\n",
    "\n",
    "# Crear un conjunto de datos de ejemplo\n",
    "data = np.array([3, 5, 1, 2, 7, 8, 10, 6, 4, 9])\n",
    "\n",
    "# Calcular la mediana usando numpy (parte de scipy)\n",
    "median_scipy = np.median(data)\n",
    "print(\"Mediana usando 'SciPy':\", median_scipy)"
   ]
  },
  {
   "cell_type": "markdown",
   "id": "48071243-8a94-47cb-8a56-a9adc6d0c3a9",
   "metadata": {},
   "source": [
    "#### Pandas (completar)"
   ]
  },
  {
   "cell_type": "code",
   "execution_count": null,
   "id": "8a9763a9-6dde-420e-826c-1c627a2e664e",
   "metadata": {},
   "outputs": [],
   "source": []
  },
  {
   "cell_type": "markdown",
   "id": "6fdc6429-6ec2-4f6d-99c0-ac03215e33dc",
   "metadata": {},
   "source": [
    "#### pingouine (completar)"
   ]
  },
  {
   "cell_type": "code",
   "execution_count": null,
   "id": "f9f1e25a-a1ae-4077-a0e7-8be78fd06d10",
   "metadata": {},
   "outputs": [],
   "source": []
  },
  {
   "cell_type": "markdown",
   "id": "51291386-61b3-4082-a1ea-dad31084848f",
   "metadata": {},
   "source": [
    "#### Statsmodels"
   ]
  },
  {
   "cell_type": "markdown",
   "id": "6e873bf2-9ff9-4493-9212-72d518b7e91a",
   "metadata": {},
   "source": [
    "Statsmodels no tiene una función directa para calcular la mediana. Sin embargo, podemos usar una `regresión cuantílica` para calcularla, ya que la mediana es el cuantil 0.5."
   ]
  },
  {
   "cell_type": "code",
   "execution_count": 33,
   "id": "8717b63f-a27e-4b39-9b7f-98ada92bd0a2",
   "metadata": {},
   "outputs": [
    {
     "name": "stdout",
     "output_type": "stream",
     "text": [
      "Mediana usando Statsmodels: 5.499999999999998\n"
     ]
    },
    {
     "name": "stderr",
     "output_type": "stream",
     "text": [
      "C:\\Users\\juanj\\AppData\\Local\\Temp\\ipykernel_3528\\768756127.py:13: FutureWarning: Series.__getitem__ treating keys as positions is deprecated. In a future version, integer keys will always be treated as labels (consistent with DataFrame behavior). To access a value by position, use `ser.iloc[pos]`\n",
      "  median_statsmodels = res.params[0]\n"
     ]
    }
   ],
   "source": [
    "import statsmodels.api as sm\n",
    "import pandas as pd\n",
    "import numpy as np\n",
    "\n",
    "# Crear un DataFrame de ejemplo\n",
    "df = pd.DataFrame({'values': [3, 5, 1, 2, 7, 8, 10, 6, 4, 9]})\n",
    "\n",
    "# Ajustar un modelo de regresión cuantílica para calcular la mediana\n",
    "quant_reg = sm.QuantReg(df['values'], np.ones(len(df['values'])))\n",
    "res = quant_reg.fit(q=0.5)\n",
    "\n",
    "# La mediana es el coeficiente del modelo\n",
    "median_statsmodels = res.params[0]\n",
    "print(\"Mediana usando Statsmodels:\", median_statsmodels)"
   ]
  },
  {
   "cell_type": "markdown",
   "id": "7cff792a-ae6b-42bc-bfdd-96295225c473",
   "metadata": {},
   "source": [
    "### Valores Atípicos\n",
    "\n",
    "La mediana se refiere como una estimación robusta de la ubicación ya que no se ve influenciada por valores atípicos (casos extremos) que podrían sesgar los resultados. Un valor atípico es cualquier valor que está muy distante de los otros valores en un conjunto de datos. La definición exacta de un valor atípico es algo subjetiva, aunque ciertas convenciones se utilizan en varios resúmenes de datos y gráficos. Ser un valor atípico en sí mismo no hace que un valor de datos sea inválido o erróneo. Aun así, los valores atípicos a menudo son el resultado de errores de datos como mezclar datos de diferentes unidades (kilómetros frente a metros) o lecturas incorrectas de un sensor. Cuando los valores atípicos son el resultado de datos incorrectos, la media dará lugar a una mala estimación de la ubicación, mientras que la mediana seguirá siendo válida. En cualquier caso, los valores atípicos deben ser identificados y generalmente merecen una investigación adicional."
   ]
  },
  {
   "cell_type": "markdown",
   "id": "740e1529-d72b-4596-826f-2d163b696b25",
   "metadata": {},
   "source": [
    "#### Detección de Anomalías\n",
    "\n",
    "En contraste con el análisis típico de datos, donde los valores atípicos son a veces informativos y otras veces una molestia, en la detección de anomalías los puntos de interés son los valores atípicos, y la mayor parte de los datos sirve principalmente para definir lo \"normal\" contra lo cual se miden las anomalías.\n",
    "\n",
    "La mediana no es la única estimación robusta de la ubicación. De hecho, una media recortada se utiliza ampliamente para evitar la influencia de valores atípicos. Por ejemplo, recortar el 10% inferior y superior (una elección común) de los datos proporcionará protección contra valores atípicos en todos los conjuntos de datos, excepto en los más pequeños. La media recortada puede considerarse un compromiso entre la mediana y la media: es robusta frente a valores extremos en los datos, pero utiliza más datos para calcular la estimación de la ubicación. "
   ]
  },
  {
   "cell_type": "markdown",
   "id": "d5c17fb6-0f2d-4e48-b6b7-dc97693dcce8",
   "metadata": {},
   "source": [
    "#### Ejercicio 1: Estimaciones de Ubicación de la Población y las Tasas de Homicidios\n",
    "\n",
    "La Tabla 1-2 muestra las primeras filas del conjunto de datos que contiene la población y las tasas de homicidios (en unidades de asesinatos por cada 100,000 personas por año) para cada estado de EE. UU. (Censo de 2010).\n",
    "\n",
    "| Estado       | Población  | Tasa de Homicidios | Abreviatura |\n",
    "|--------------|-------------|-------------------|-------------|\n",
    "| Alabama      | 4,779,736   | 5.7               | AL          |\n",
    "| Alaska       | 710,231     | 5.6               | AK          |\n",
    "| Arizona      | 6,392,017   | 4.7               | AZ          |\n",
    "| Arkansas     | 2,915,918   | 5.6               | AR          |\n",
    "| California   | 37,253,956  | 4.4               | CA          |\n",
    "| Colorado     | 5,029,196   | 2.8               | CO          |\n",
    "| Connecticut  | 3,574,097   | 2.4               | CT          |\n",
    "| Delaware     | 897,934     | 5.8               | DE          |\n",
    "\n",
    "Calcula la media, la media recortada, la media ponderada y la mediana para la población usando Pandas, Scipy y Pingouine (Opcional: Statsmodels). Utilice el fichero `state.csv`"
   ]
  },
  {
   "cell_type": "markdown",
   "id": "ad80e081-e27c-46b5-8a3e-e286e9e898eb",
   "metadata": {},
   "source": [
    "#### Ejercicio 2. Investigar cómo se interpreta estadísticamente la medida de tendecia central: `moda`.  \n",
    "Buscar ejemplos concretos donde se aplique la moda. Desarrolle un ejemplo con Pandas, Scipy, Statsmodels y Pingouine"
   ]
  },
  {
   "cell_type": "markdown",
   "id": "5c5f5770-8ccc-49dd-b8f5-2687d06bd10a",
   "metadata": {},
   "source": [
    "### (Siguiente clase) 1.2 Estimaciones de Variabilidad o medidas de variación"
   ]
  },
  {
   "cell_type": "markdown",
   "id": "80fe8b26-9234-4aab-8148-f2a39243fdb7",
   "metadata": {},
   "source": [
    "La ubicación es solo una dimensión para resumir una característica. Una segunda dimensión, la variabilidad, también conocida como dispersión, mide si los valores de los datos están estrechamente agrupados o dispersos. En el corazón de la estadística se encuentra la variabilidad: medirla, reducirla, distinguir la variabilidad aleatoria de la real, identificar las diversas fuentes de variabilidad real y tomar decisiones en su presencia."
   ]
  },
  {
   "cell_type": "code",
   "execution_count": null,
   "id": "80148216-83e7-42b8-a7a2-ef09496c34da",
   "metadata": {},
   "outputs": [],
   "source": []
  },
  {
   "cell_type": "markdown",
   "id": "4ca4db42-e86f-4c39-b62a-662a6ef634d7",
   "metadata": {},
   "source": [
    "## Términos Clave para Métricas de Variabilidad\n",
    "\n",
    "- **Desviaciones**: La diferencia entre los valores observados y la estimación de ubicación.\n",
    "  - Sinónimos: errores, residuales.\n",
    "  \n",
    "- **Varianza**: La suma de las desviaciones al cuadrado con respecto a la media, dividida por n - 1, donde n es el número de valores de datos.\n",
    "  - Sinónimo: error cuadrático medio.\n",
    "  \n",
    "- **Desviación estándar**: La raíz cuadrada de la varianza.\n",
    "  \n",
    "- **Desviación absoluta media**: La media de los valores absolutos de las desviaciones con respecto a la media.\n",
    "  - Sinónimos: norma L1, norma Manhattan.\n",
    "  \n",
    "- **Desviación absoluta mediana desde la mediana**: La mediana de los valores absolutos de las desviaciones con respecto a la mediana.\n",
    "  \n",
    "- **Rango**: La diferencia entre el valor más grande y el más pequeño en un conjunto de datos.\n",
    "  \n",
    "- **Estadísticas de orden**: Métricas basadas en los valores de los datos ordenados de menor a mayor.\n",
    "  - Sinónimo: rangos.\n",
    "  \n",
    "- **Percentil**: El valor tal que P por ciento de los valores toman este valor o menos y (100 - P) por ciento toman este valor o más.\n",
    "  - Sinónimo: cuantil.\n",
    "  \n",
    "- **Rango intercuartílico (IQR)**: La diferencia entre el percentil 75 y el percentil 25.\n",
    "  - Sinónimo: IQR.\n",
    "\n",
    "Así como hay diferentes formas de medir la ubicación (media, mediana, etc.), también hay diferentes formas de medir la variabilidad."
   ]
  },
  {
   "cell_type": "markdown",
   "id": "1b7fc6fe-182b-4903-ba17-0bfb92799c12",
   "metadata": {},
   "source": [
    "## Desviación Estándar y Estimaciones Relacionadas\n",
    "\n",
    "Las estimaciones de variación más utilizadas se basan en las diferencias, o desviaciones, entre la estimación de la ubicación y los datos observados. Para un conjunto de datos {1, 4, 4}, la media es 3 y la mediana es 4. Las desviaciones con respecto a la media son las diferencias: 1 - 3 = -2, 4 - 3 = 1, 4 - 3 = 1. Estas desviaciones nos dicen cuán dispersos están los datos alrededor del valor central.\n",
    "\n",
    "Una forma de medir la variabilidad es estimar un valor típico para estas desviaciones. Promediar las desviaciones en sí mismas no nos diría mucho: las desviaciones negativas compensan las positivas. De hecho, la suma de las desviaciones con respecto a la media es precisamente cero. En cambio, un enfoque simple es tomar el promedio de los valores absolutos de las desviaciones con respecto a la media. En el ejemplo anterior, el valor absoluto de las desviaciones es {2, 1, 1}, y su promedio es (2 + 1 + 1) / 3 = 1.33. Esto se conoce como desviación absoluta media y se calcula con la fórmula:\n",
    "\n",
    "$\n",
    "\\text{Desviación absoluta media} = \\frac{\\sum_{i=1}^{n} |x_i - \\bar{x}|}{n}\n",
    "$\n",
    "\n",
    "donde $\\bar{x}$ es la media de la muestra.\n",
    "\n",
    "Las estimaciones más conocidas de la variabilidad son la varianza y la desviación estándar, que se basan en desviaciones al cuadrado. La varianza es un promedio de las desviaciones al cuadrado y la desviación estándar es la raíz cuadrada de la varianza:\n",
    "\n",
    "$\n",
    "\\text{Varianza} = s^2 = \\frac{\\sum_{i=1}^{n} (x_i - \\bar{x})^2}{n - 1}\n",
    "$\n",
    "\n",
    "$\n",
    "\\text{Desviación estándar} = s = \\sqrt{\\text{Varianza}}\n",
    "$\n",
    "\n",
    "La desviación estándar es mucho más fácil de interpretar que la varianza, ya que está en la misma escala que los datos originales. Aún así, con su fórmula más complicada y menos intuitiva, podría parecer peculiar que la desviación estándar sea preferida en estadística sobre la desviación absoluta media. Debe su preeminencia a la teoría estadística: matemáticamente, trabajar con valores al cuadrado es mucho más conveniente que con valores absolutos, especialmente para modelos estadísticos."
   ]
  },
  {
   "cell_type": "code",
   "execution_count": null,
   "id": "6aee6ca2-67f1-45ae-90fa-74c0b279d37b",
   "metadata": {},
   "outputs": [],
   "source": []
  }
 ],
 "metadata": {
  "kernelspec": {
   "display_name": "Python 3 (ipykernel)",
   "language": "python",
   "name": "python3"
  },
  "language_info": {
   "codemirror_mode": {
    "name": "ipython",
    "version": 3
   },
   "file_extension": ".py",
   "mimetype": "text/x-python",
   "name": "python",
   "nbconvert_exporter": "python",
   "pygments_lexer": "ipython3",
   "version": "3.11.9"
  }
 },
 "nbformat": 4,
 "nbformat_minor": 5
}
