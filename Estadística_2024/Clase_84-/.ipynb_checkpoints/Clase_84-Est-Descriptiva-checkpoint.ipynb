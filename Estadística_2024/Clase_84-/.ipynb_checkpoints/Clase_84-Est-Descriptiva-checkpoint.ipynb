{
 "cells": [
  {
   "cell_type": "code",
   "execution_count": 1,
   "id": "223a452d-52c8-4f64-a4fe-6fafa20936da",
   "metadata": {},
   "outputs": [],
   "source": [
    "import numpy as np\n",
    "import pandas as pd\n",
    "import matplotlib as plt\n",
    "import seaborn as sns"
   ]
  },
  {
   "cell_type": "code",
   "execution_count": 2,
   "id": "4fb5b060-62bb-4958-8666-30663754c296",
   "metadata": {},
   "outputs": [],
   "source": [
    "# !pip install scipy\n",
    "# !pip install statsmodels\n",
    "# !pip install pingouin"
   ]
  },
  {
   "cell_type": "code",
   "execution_count": 3,
   "id": "af82fb1a-8e5d-43d9-87f3-f143816834d2",
   "metadata": {},
   "outputs": [],
   "source": [
    "from scipy import stats \n",
    "import statsmodels as sm\n",
    "import pingouin as pg"
   ]
  },
  {
   "cell_type": "markdown",
   "id": "e19b13c4-22c4-470d-84a4-670ff1067f10",
   "metadata": {},
   "source": [
    "# Estadistica para ciencia de Datos"
   ]
  },
  {
   "cell_type": "markdown",
   "id": "8dbb52be-e37a-4a8e-8a8d-764f3ae2f1ca",
   "metadata": {},
   "source": [
    "# 1. Estadistica Descriptiva "
   ]
  },
  {
   "cell_type": "markdown",
   "id": "a34fc12a-4f10-4315-ae37-e3511a681b59",
   "metadata": {},
   "source": [
    "## Conceptos básicos"
   ]
  },
  {
   "cell_type": "markdown",
   "id": "c72e1fcf-542f-4455-ba44-d6d782031dba",
   "metadata": {},
   "source": [
    "## Introducción\n",
    "\n",
    "La estadística clásica se enfocó casi exclusivamente en la inferencia, un conjunto a veces complejo de procedimientos para sacar conclusiones sobre grandes poblaciones basadas en muestras pequeñas. En 1962, John W. Tukey llamó a una reforma de la estadística en su artículo seminal \"The Future of Data Analysis\" [Tukey-1962]. Propuso una nueva disciplina científica llamada análisis de datos que incluía la inferencia estadística como un componente más. Tukey presentó gráficos simples (por ejemplo, diagramas de caja, diagramas de dispersión) que, junto con estadísticas resumen (media, mediana, cuantiles, etc.), ayudan a pintar un cuadro de un conjunto de datos."
   ]
  },
  {
   "cell_type": "markdown",
   "id": "64f1c82b-da0f-4b9d-8c84-8d80ec6ddd40",
   "metadata": {},
   "source": [
    "## Tipos Básicos de Datos Estructurados  \n",
    "\n",
    "Hay dos tipos básicos de datos estructurados: `numéricos` y `categóricos`.  \n",
    "Los datos numéricos vienen en dos formas: `continuos`, como la velocidad del viento o la duración del tiempo, y `discretos`, como el conteo de la ocurrencia de un evento.  \n",
    "Los datos categóricos solo toman un conjunto fijo de valores, como el tipo de pantalla de TV (plasma, LCD, LED, etc.) o el nombre de un estado (Alabama, Alaska, etc.).  \n",
    "Los datos binarios son un caso especial de datos categóricos que toman solo uno de dos valores, como 0/1, sí/no, o verdadero/falso.  \n",
    "Otro tipo útil de datos categóricos son los datos ordinales en los que las categorías están ordenadas; un ejemplo de esto es una calificación numérica (1, 2, 3, 4 o 5), los grados en la ESO pueden clasificarse como ordinales.\n",
    "\n",
    "\n",
    "## Términos Clave para Tipos de Datos\n",
    "\n",
    "- **Numeric (Numérico)**: Datos que se expresan en una escala numérica.\n",
    "\n",
    "- **Continuous (Continuos)**: Datos que pueden tomar cualquier valor en un intervalo. (Sinónimos: intervalo, flotante, numérico)\n",
    "\n",
    "- **Discrete (Discretos)**: Datos que solo pueden tomar valores enteros, como conteos. (Sinónimos: entero, conteo)\n",
    "\n",
    "- **Categorical (Categóricos)**: Datos que solo pueden tomar un conjunto específico de valores que representan un conjunto de posibles categorías. (Sinónimos: enums, enumerados, factores, nominales)\n",
    "\n",
    "- **Binary (Binarios)**: Un caso especial de datos categóricos con solo dos categorías de valores, por ejemplo, 0/1, verdadero/falso. (Sinónimos: dicotómicos, lógicos, indicadores, booleanos)\n",
    "\n",
    "- **Ordinal (Ordinales)**: Datos categóricos que tienen un orden explícito. (Sinónimo: factor ordenado)\n",
    "\n",
    "\n"
   ]
  },
  {
   "cell_type": "markdown",
   "id": "b4c61129-4cbc-407f-9814-5d8e5c38471e",
   "metadata": {},
   "source": [
    "# Rectangular Data  \n",
    "\n",
    "Los datos rectangulares son el término general para un array bidimensional con filas que indican registros (casos) y columnas que indican características (features),  (variables); el data frame es el formato específico en R y Python.  \n",
    "Los datos no siempre comienzan en esta forma: los datos no estructurados (por ejemplo, texto) deben ser procesados y manipulados para que puedan ser representados como un conjunto de características en los datos rectangulares.  \n",
    "Los datos en bases de datos relacionales deben ser extraídos y puestos en una sola tabla para la mayoría de las tareas de análisis y modelado de datos.\n"
   ]
  },
  {
   "cell_type": "markdown",
   "id": "47303319-780f-4aa3-a89a-92660412af84",
   "metadata": {},
   "source": [
    "## Términos Clave para Datos Rectangulares\n",
    "\n",
    "- **Data frame**: Los datos rectangulares (como una hoja de cálculo) son la estructura de datos básica para modelos estadísticos y de aprendizaje automático.\n",
    "\n",
    "- **Feature**: Una columna dentro de una tabla es comúnmente referida como una característica.\n",
    "\n",
    "  - **Sinónimos**: atributo, input, predictor, variable\n",
    "\n",
    "- **Outcome**: Muchos proyectos de ciencia de datos involucran predecir un resultado, a menudo un resultado sí/no (en la Tabla 1-1, es \"auction was competitive or not\"). Las características a veces se utilizan para predecir el resultado en un experimento o estudio.\n",
    "\n",
    "  - **Sinónimos**: variable dependiente, respuesta, objetivo, output\n",
    "\n",
    "- **Records**: Una fila dentro de una tabla es comúnmente referida como un registro.\n",
    "\n",
    "  - **Sinónimos**: caso, ejemplo, instancia, observación, patrón, muestra"
   ]
  },
  {
   "cell_type": "markdown",
   "id": "a71c3b45-e485-4ce8-962f-1f48d7ca4771",
   "metadata": {},
   "source": [
    "### Tabla 1-1. Formato típico de un data frame\n",
    "\n",
    "| Category               | Currency | SellerRating | Duration | EndDay | ClosePrice | OpenPrice | Competitive? |\n",
    "|------------------------|----------|--------------|----------|--------|------------|-----------|--------------|\n",
    "| Music/Movie/Game       | US       | 3249         | 5        | Mon    | 0.01       | 0.01      | 0            |\n",
    "| Music/Movie/Game       | US       | 3249         | 5        | Mon    | 0.01       | 0.01      | 0            |\n",
    "| Automotive             | US       | 3115         | 7        | Tue    | 0.01       | 0.01      | 0            |\n",
    "| Automotive             | US       | 3115         | 7        | Tue    | 0.01       | 0.01      | 0            |\n",
    "| Automotive             | US       | 3115         | 7        | Tue    | 0.01       | 0.01      | 0            |\n",
    "| Automotive             | US       | 3115         | 7        | Tue    | 0.01       | 0.01      | 0            |\n",
    "| Automotive             | US       | 3115         | 7        | Tue    | 0.01       | 0.01      | 1            |\n",
    "| Automotive             | US       | 3115         | 7        | Tue    | 0.01       | 0.01      | 1            |\n",
    "| Automotive             | US       | 3115         | 7        | Tue    | 0.01       | 0.01      | 1            |\n",
    "| Automotive             | US       | 3115         | 7        | Tue    | 0.01       | 0.01      | 1            |\n",
    "\n",
    "En la Tabla 1-1, hay una mezcla de datos medidos o contados (por ejemplo, duración y precio) y datos categóricos (por ejemplo, categoría y moneda). Como se mencionó anteriormente, una forma especial de variable categórica es una variable binaria (sí/no o 0/1), vista en la columna más a la derecha en la Tabla 1-1: una variable indicadora que muestra si una subasta fue competitiva (tuvo múltiples postores) o no. Esta variable indicadora también resulta ser una variable de resultado, cuando el escenario es predecir si una subasta es competitiva o no."
   ]
  },
  {
   "cell_type": "markdown",
   "id": "74b02c63-a57d-4a82-ac20-6d496563cc3e",
   "metadata": {},
   "source": [
    "## Estructuras de Datos No Rectangulares\n",
    "\n",
    "Los **datos de series temporales** registran mediciones sucesivas de la misma variable. Es la materia prima para los métodos de pronóstico estadístico y también es un componente clave de los datos producidos por dispositivos: el Internet de las Cosas.\n",
    "\n",
    "Las **estructuras de datos espaciales**, que se utilizan en el mapeo y análisis de localización, son más complejas y variadas que las estructuras de datos rectangulares.   \n",
    "\n",
    "En la **representación de objetos**, el foco de los datos es un objeto (por ejemplo, una casa) y sus coordenadas espaciales. La vista de campo, por el contrario, se centra en pequeñas unidades de espacio y el valor de una métrica relevante (por ejemplo, el brillo de un píxel).\n",
    "\n",
    "Las **estructuras de datos de grafos (o redes)** se utilizan para representar relaciones físicas, sociales y abstractas. Por ejemplo, un grafo de una red social, como Facebook o LinkedIn, puede representar conexiones entre personas en la red. Los centros de distribución conectados por carreteras son un ejemplo de una red física. Las estructuras de grafos son útiles para ciertos tipos de problemas, como la optimización de redes y los sistemas de recomendación.\n",
    "\n"
   ]
  },
  {
   "cell_type": "markdown",
   "id": "84f16daf-1194-46e9-8879-4175e76e7409",
   "metadata": {},
   "source": [
    "# 1.1 Estimaciones de Ubicación (o medidas de tendencia central)\n",
    "\n",
    "Las variables con datos medidos o contados pueden tener miles de valores distintos. Un paso básico en la exploración de tus datos es obtener un \"valor típico\" para cada característica (variable): una estimación de dónde se encuentra la mayor parte de los datos (es decir, su tendencia central).\n",
    "\n",
    "## Términos Clave para Estimaciones de Ubicación\n",
    "\n",
    "- **Media**: La suma de todos los valores dividida por el número de valores.\n",
    "  - Sinónimo: promedio\n",
    "\n",
    "- **Media ponderada**: La suma de todos los valores multiplicados por un peso dividida por la suma de los pesos.\n",
    "  - Sinónimo: promedio ponderado\n",
    "\n",
    "- **Mediana**: El valor tal que la mitad de los datos está por encima y por debajo.\n",
    "  - Sinónimo: percentil 50\n",
    "\n",
    "- **Percentil**: El valor tal que P por ciento de los datos está por debajo.\n",
    "  - Sinónimo: cuantil\n",
    "\n",
    "- **Mediana ponderada**: El valor tal que la mitad de la suma de los pesos está por encima y por debajo de los datos ordenados.\n",
    "\n",
    "- **Media recortada**: El promedio de todos los valores después de eliminar un número fijo de valores extremos.\n",
    "  - Sinónimo: media truncada\n",
    "\n",
    "- **Robusto**: No sensible a valores extremos.\n",
    "  - Sinónimo: resistente\n",
    "\n",
    "- **Valor atípico**: Un valor de datos que es muy diferente de la mayoría de los datos.\n",
    "  - Sinónimo: valor extremo\n",
    "\n",
    "A primera vista, resumir los datos podría parecer bastante trivial: simplemente toma la media de los datos. De hecho, aunque la media es fácil de calcular y expedita de usar, puede que no siempre sea la mejor medida para un valor central. Por esta razón, los estadísticos han desarrollado y promovido varias estimaciones alternativas a la media.\n",
    "\n",
    "## Métricas y Estimaciones\n",
    "\n",
    "Los estadísticos a menudo usan el término estimación para un valor calculado a partir de los datos a la mano, para hacer una distinción entre lo que vemos en los datos y el estado teórico verdadero o exacto. Los científicos de datos y los analistas de negocios son más propensos a referirse a dicho valor como una métrica. "
   ]
  },
  {
   "cell_type": "markdown",
   "id": "0759fe5c-c3cb-498d-95bb-0e16765d7710",
   "metadata": {},
   "source": [
    "### Media\n",
    "\n",
    "La estimación más básica de la ubicación es la media, o valor promedio. La media es la suma de todos los valores dividida por el número de valores. Considera el siguiente conjunto de números: {3, 5, 1, 2}. La media es:\n",
    "\n",
    "$ \\text{Media} = \\frac{3 + 5 + 1 + 2}{4} = \\frac{11}{4} = 2.75 $\n",
    "\n",
    "Verás que se usa el símbolo $\\bar{x}$ (pronunciado \"x-barra\") para representar la media de una muestra de una población. La fórmula para calcular la media para un conjunto de $n$ valores $x_1, x_2, \\ldots, x_n$ es:\n",
    "\n",
    "$ \\bar{x} = \\frac{1}{n} \\sum_{i=1}^n x_i $"
   ]
  },
  {
   "cell_type": "markdown",
   "id": "e3baf9fd-b7c7-48f9-ab90-25a78cd30aa7",
   "metadata": {},
   "source": [
    "**Ejemplos**"
   ]
  },
  {
   "cell_type": "markdown",
   "id": "7e07b130-91a9-47e4-9592-7c74cbb24529",
   "metadata": {},
   "source": [
    "#### Con SciPy"
   ]
  },
  {
   "cell_type": "code",
   "execution_count": 4,
   "id": "81ddb98b-49a9-4ecb-9cba-87ecc039ddbb",
   "metadata": {},
   "outputs": [
    {
     "data": {
      "text/plain": [
       "array([ 3,  5,  1,  2,  7,  8, 10,  6,  4,  9])"
      ]
     },
     "execution_count": 4,
     "metadata": {},
     "output_type": "execute_result"
    }
   ],
   "source": [
    "import numpy as np\n",
    "from scipy import stats\n",
    "\n",
    "# Crear un conjunto de datos de ejemplo\n",
    "data = np.array([3, 5, 1, 2, 7, 8, 10, 6, 4, 9])\n",
    "data"
   ]
  },
  {
   "cell_type": "code",
   "execution_count": 5,
   "id": "aec66746-a3be-4488-9851-1f8528694c4b",
   "metadata": {},
   "outputs": [
    {
     "name": "stdout",
     "output_type": "stream",
     "text": [
      "Media usando SciPy: 5.5\n"
     ]
    }
   ],
   "source": [
    "# Calcular la media usando scipy\n",
    "mean_scipy = np.mean(data)\n",
    "print(\"Media usando SciPy:\", mean_scipy)"
   ]
  },
  {
   "cell_type": "markdown",
   "id": "9c3a4646-35b9-4962-919c-1f75f9e5fa34",
   "metadata": {},
   "source": [
    "#### Usando Pandas"
   ]
  },
  {
   "cell_type": "code",
   "execution_count": 6,
   "id": "3e0cc2e6-6f93-4b52-b629-8240a3e0f574",
   "metadata": {},
   "outputs": [
    {
     "data": {
      "text/html": [
       "<div>\n",
       "<style scoped>\n",
       "    .dataframe tbody tr th:only-of-type {\n",
       "        vertical-align: middle;\n",
       "    }\n",
       "\n",
       "    .dataframe tbody tr th {\n",
       "        vertical-align: top;\n",
       "    }\n",
       "\n",
       "    .dataframe thead th {\n",
       "        text-align: right;\n",
       "    }\n",
       "</style>\n",
       "<table border=\"1\" class=\"dataframe\">\n",
       "  <thead>\n",
       "    <tr style=\"text-align: right;\">\n",
       "      <th></th>\n",
       "      <th>values</th>\n",
       "    </tr>\n",
       "  </thead>\n",
       "  <tbody>\n",
       "    <tr>\n",
       "      <th>0</th>\n",
       "      <td>3</td>\n",
       "    </tr>\n",
       "    <tr>\n",
       "      <th>1</th>\n",
       "      <td>5</td>\n",
       "    </tr>\n",
       "    <tr>\n",
       "      <th>2</th>\n",
       "      <td>1</td>\n",
       "    </tr>\n",
       "    <tr>\n",
       "      <th>3</th>\n",
       "      <td>2</td>\n",
       "    </tr>\n",
       "    <tr>\n",
       "      <th>4</th>\n",
       "      <td>7</td>\n",
       "    </tr>\n",
       "    <tr>\n",
       "      <th>5</th>\n",
       "      <td>8</td>\n",
       "    </tr>\n",
       "    <tr>\n",
       "      <th>6</th>\n",
       "      <td>10</td>\n",
       "    </tr>\n",
       "    <tr>\n",
       "      <th>7</th>\n",
       "      <td>6</td>\n",
       "    </tr>\n",
       "    <tr>\n",
       "      <th>8</th>\n",
       "      <td>4</td>\n",
       "    </tr>\n",
       "    <tr>\n",
       "      <th>9</th>\n",
       "      <td>9</td>\n",
       "    </tr>\n",
       "  </tbody>\n",
       "</table>\n",
       "</div>"
      ],
      "text/plain": [
       "   values\n",
       "0       3\n",
       "1       5\n",
       "2       1\n",
       "3       2\n",
       "4       7\n",
       "5       8\n",
       "6      10\n",
       "7       6\n",
       "8       4\n",
       "9       9"
      ]
     },
     "execution_count": 6,
     "metadata": {},
     "output_type": "execute_result"
    }
   ],
   "source": [
    "import pandas as pd\n",
    "\n",
    "# Crear un DataFrame de ejemplo\n",
    "df = pd.DataFrame({'values': [3, 5, 1, 2, 7, 8, 10, 6, 4, 9]})\n",
    "df"
   ]
  },
  {
   "cell_type": "code",
   "execution_count": 7,
   "id": "8d3ff1e5-66c3-43d4-b39a-99f9b02334be",
   "metadata": {},
   "outputs": [
    {
     "name": "stdout",
     "output_type": "stream",
     "text": [
      "Media usando Pandas: 5.5\n"
     ]
    }
   ],
   "source": [
    "# Calcular la media usando pandas\n",
    "mean_pandas = df['values'].mean()\n",
    "print(\"Media usando Pandas:\", mean_pandas)"
   ]
  },
  {
   "cell_type": "markdown",
   "id": "631edfff-84c7-4fcc-b5bb-b6c43e27e077",
   "metadata": {},
   "source": [
    "#### Usando Statsmodels"
   ]
  },
  {
   "cell_type": "code",
   "execution_count": 8,
   "id": "70e7d66d-465c-4496-8686-9a6bd4dac0ec",
   "metadata": {},
   "outputs": [
    {
     "name": "stdout",
     "output_type": "stream",
     "text": [
      "Media usando Statsmodels: 5.500000000000001\n"
     ]
    }
   ],
   "source": [
    "import statsmodels.api as sm\n",
    "import pandas as pd\n",
    "\n",
    "# Crear un DataFrame de ejemplo\n",
    "df = pd.DataFrame({'values': [3, 5, 1, 2, 7, 8, 10, 6, 4, 9]})\n",
    "\n",
    "# Agregar una columna de unos para representar el intercepto\n",
    "df['intercept'] = 1\n",
    "\n",
    "# Ajustar un modelo de regresión sin variables explicativas, solo el intercepto\n",
    "model = sm.OLS(df['values'], df['intercept']).fit()\n",
    "\n",
    "# La media es el valor del intercepto\n",
    "mean_statsmodels = model.params['intercept']\n",
    "print(\"Media usando Statsmodels:\", mean_statsmodels)"
   ]
  },
  {
   "cell_type": "markdown",
   "id": "07eb5976-60d7-4da4-aade-9ddaae4a9dde",
   "metadata": {},
   "source": [
    "**Calcula la media de los mismos datos dados arriba pero esta vez usando la libreria pingouine**"
   ]
  },
  {
   "cell_type": "markdown",
   "id": "92d7383f-03b9-4086-8ebd-03a90adf795f",
   "metadata": {},
   "source": [
    "Una variación de la media es una media recortada (trimmed mean), que se calcula eliminando un número fijo de valores ordenados en cada extremo y luego tomando un promedio de los valores restantes. Representando los valores ordenados por $x_1, x_2, \\ldots, x_n$ donde $x_1$ es el valor más pequeño y $x_n$ el más grande, la fórmula para calcular la media recortada con $p$ valores más pequeños y más grandes omitidos es:\n",
    "\n",
    "$\\bar{x}_{\\text{recortada}} = \\frac{1}{n - 2p} \\sum_{i=p+1}^{n-p} x_i$\n",
    "\n",
    "Una media recortada elimina la influencia de valores extremos. Por ejemplo, en el buceo internacional se eliminan la puntuación más alta y más baja de cinco jueces, y la puntuación final es el promedio de las puntuaciones de los tres jueces restantes. Esto hace que sea difícil para un solo juez manipular la puntuación, quizás para favorecer al concursante de su país. Las medias recortadas se utilizan ampliamente y, en muchos casos, son preferibles a usar la media ordinaria."
   ]
  },
  {
   "cell_type": "markdown",
   "id": "c92a863a-8e24-461e-93c0-5e85a9a2e069",
   "metadata": {},
   "source": [
    "**Ejempos con Python**"
   ]
  },
  {
   "cell_type": "markdown",
   "id": "1df54d01-ffc0-4e2c-ba73-04161079049d",
   "metadata": {},
   "source": [
    "#### SciPy"
   ]
  },
  {
   "cell_type": "code",
   "execution_count": 9,
   "id": "76a53f2c-6308-4984-a05a-f1fc721bc968",
   "metadata": {},
   "outputs": [
    {
     "name": "stdout",
     "output_type": "stream",
     "text": [
      "Media recortada usando SciPy: 5.5\n"
     ]
    }
   ],
   "source": [
    "import numpy as np\n",
    "from scipy.stats import trim_mean\n",
    "\n",
    "# Crear un conjunto de datos de ejemplo\n",
    "data = np.array([3, 5, 1, 2, 7, 8, 10, 6, 4, 9])\n",
    "\n",
    "# Calcular la media recortada usando scipy\n",
    "trimmed_mean_scipy = trim_mean(data, 0.1)  # Recorta el 10% de cada extremo\n",
    "print(\"Media recortada usando SciPy:\", trimmed_mean_scipy)"
   ]
  },
  {
   "cell_type": "markdown",
   "id": "11b25b05-5ef9-443c-a78e-54024b3829c1",
   "metadata": {},
   "source": [
    "#### Pandas"
   ]
  },
  {
   "cell_type": "code",
   "execution_count": 10,
   "id": "6aace7ae-5426-429f-8316-b3442814db64",
   "metadata": {},
   "outputs": [
    {
     "name": "stdout",
     "output_type": "stream",
     "text": [
      "Media recortada usando Pandas: 5.5\n"
     ]
    }
   ],
   "source": [
    "import pandas as pd\n",
    "\n",
    "# Crear un DataFrame de ejemplo\n",
    "df = pd.DataFrame({'values': [3, 5, 1, 2, 7, 8, 10, 6, 4, 9]})\n",
    "\n",
    "# Calcular la media recortada usando pandas\n",
    "trimmed_df = df['values'].sort_values().iloc[int(0.1*len(df)):int(0.9*len(df))]\n",
    "trimmed_mean_pandas = trimmed_df.mean()\n",
    "print(\"Media recortada usando Pandas:\", trimmed_mean_pandas)"
   ]
  },
  {
   "cell_type": "markdown",
   "id": "d82bf026-35aa-440a-bcbd-17bc8e204a47",
   "metadata": {},
   "source": [
    "**Explique el código de arriba**"
   ]
  },
  {
   "cell_type": "markdown",
   "id": "385aa47c-e4d7-4a18-b4f2-3c808dab369e",
   "metadata": {},
   "source": [
    "#### Statsmodels  \n",
    "No tiene un método directo. Se calcula de forma indirecta."
   ]
  },
  {
   "cell_type": "code",
   "execution_count": 11,
   "id": "2f6a3a67-0a53-473c-95fd-d86c59dbb766",
   "metadata": {},
   "outputs": [
    {
     "name": "stdout",
     "output_type": "stream",
     "text": [
      "Media recortada usando una función personalizada con Statsmodels: 5.5\n"
     ]
    }
   ],
   "source": [
    "import statsmodels.api as sm\n",
    "import pandas as pd\n",
    "import numpy as np\n",
    "\n",
    "# Crear un DataFrame de ejemplo\n",
    "df = pd.DataFrame({'values': [3, 5, 1, 2, 7, 8, 10, 6, 4, 9]})\n",
    "\n",
    "# Usar una función personalizada para calcular la media recortada\n",
    "def trimmed_mean(data, proportiontocut):\n",
    "    n = len(data)\n",
    "    k = int(n * proportiontocut)\n",
    "    trimmed_data = np.sort(data)[k:n-k]\n",
    "    return np.mean(trimmed_data)\n",
    "\n",
    "# Calcular la media recortada usando la función personalizada\n",
    "trimmed_mean_statsmodels = trimmed_mean(df['values'], 0.1)\n",
    "print(\"Media recortada usando una función personalizada con Statsmodels:\", trimmed_mean_statsmodels)\n"
   ]
  },
  {
   "cell_type": "markdown",
   "id": "782ee632-2c57-42f5-a529-dd074c553b40",
   "metadata": {},
   "source": [
    "**Explique el código de arriba**"
   ]
  },
  {
   "cell_type": "markdown",
   "id": "fbfbb928-69cd-4d3d-ada5-d80b5af09755",
   "metadata": {},
   "source": [
    "### Investigar como se calcula la media recortada con pingouine"
   ]
  },
  {
   "cell_type": "markdown",
   "id": "8bbe904a-af0f-44e8-bb72-832023540ed1",
   "metadata": {},
   "source": [
    "Otro tipo de media es una `media ponderada (weighted mean)`, que se calcula multiplicando cada valor de datos $x_i$ por un peso especificado por el usuario $w_i$ y dividiendo su suma por la suma de los pesos. La fórmula para una media ponderada es:\n",
    "\n",
    "$\\bar{x}_w = \\frac{\\sum_{i=1}^n w_i x_i}{\\sum_{i=1}^n w_i}$\n",
    "\n",
    "Hay dos motivaciones principales para usar una media ponderada:\n",
    "\n",
    "- Algunos valores son intrínsecamente más variables que otros, y las observaciones altamente variables se les da un peso menor. Por ejemplo, si estamos tomando el promedio de múltiples sensores y uno de los sensores es menos preciso, entonces podríamos darle menos peso a los datos de ese sensor.\n",
    "- Los datos recopilados no representan igualmente a los diferentes grupos que estamos interesados en medir. Por ejemplo, debido a la forma en que se realizó un experimento en línea, es posible que no tengamos un conjunto de datos que refleje con precisión todos los grupos en la base de usuarios. Para corregir eso, podemos dar un mayor peso a los valores de los grupos que estaban subrepresentados."
   ]
  },
  {
   "cell_type": "markdown",
   "id": "16ecbb43-ff32-46e3-9d4d-052a4e00458d",
   "metadata": {},
   "source": [
    "**Ejemplos con Python**"
   ]
  },
  {
   "cell_type": "markdown",
   "id": "dcd311b9-5328-41aa-becf-079ee86c6e10",
   "metadata": {},
   "source": [
    "Vamos a utilizar un conjunto de datos simple donde cada valor tiene un peso asociado:"
   ]
  },
  {
   "cell_type": "code",
   "execution_count": 12,
   "id": "11dbfea1-c847-4328-9d80-f2d4444db395",
   "metadata": {},
   "outputs": [],
   "source": [
    "values = np.array([3, 5, 1, 2, 7, 8, 10, 6, 4, 9])\n",
    "weights = np.array([1, 2, 1, 1, 2, 1, 3, 2, 1, 2])"
   ]
  },
  {
   "cell_type": "markdown",
   "id": "d163a237-2e7b-4da4-9c17-ed7fb05aff74",
   "metadata": {},
   "source": [
    "#### Scipy"
   ]
  },
  {
   "cell_type": "code",
   "execution_count": 13,
   "id": "eac09d93-5aec-45da-93c5-cfd434319827",
   "metadata": {},
   "outputs": [
    {
     "name": "stdout",
     "output_type": "stream",
     "text": [
      "Media ponderada usando SciPy: 6.375\n"
     ]
    }
   ],
   "source": [
    "import numpy as np\n",
    "from scipy.stats import describe\n",
    "\n",
    "# Crear un conjunto de datos de ejemplo\n",
    "values = np.array([3, 5, 1, 2, 7, 8, 10, 6, 4, 9])\n",
    "weights = np.array([1, 2, 1, 1, 2, 1, 3, 2, 1, 2])\n",
    "\n",
    "# Calcular la media ponderada usando scipy\n",
    "weighted_mean_scipy = np.average(values, weights=weights)\n",
    "print(\"Media ponderada usando SciPy:\", weighted_mean_scipy)"
   ]
  },
  {
   "cell_type": "markdown",
   "id": "fd803f53-90ba-49d9-99bb-6ff72ed012ff",
   "metadata": {},
   "source": [
    "#### Pandas"
   ]
  },
  {
   "cell_type": "code",
   "execution_count": 14,
   "id": "acc677ee-b86d-4be2-9167-26db9ac620a0",
   "metadata": {},
   "outputs": [
    {
     "name": "stdout",
     "output_type": "stream",
     "text": [
      "Media ponderada usando Pandas: 6.375\n"
     ]
    }
   ],
   "source": [
    "import pandas as pd\n",
    "\n",
    "# Crear un DataFrame de ejemplo\n",
    "df = pd.DataFrame({'values': [3, 5, 1, 2, 7, 8, 10, 6, 4, 9],\n",
    "                   'weights': [1, 2, 1, 1, 2, 1, 3, 2, 1, 2]})\n",
    "\n",
    "# Calcular la media ponderada usando pandas\n",
    "weighted_mean_pandas = np.average(df['values'], weights=df['weights'])\n",
    "print(\"Media ponderada usando Pandas:\", weighted_mean_pandas)"
   ]
  },
  {
   "cell_type": "markdown",
   "id": "ff222b57-a07c-4e3b-a44f-c2daa0f2370f",
   "metadata": {},
   "source": [
    "#### Statsmodels"
   ]
  },
  {
   "cell_type": "code",
   "execution_count": 15,
   "id": "854e5b70-c98a-4428-ad2d-ab69866adf6d",
   "metadata": {},
   "outputs": [
    {
     "name": "stdout",
     "output_type": "stream",
     "text": [
      "Media ponderada usando Statsmodels: 6.3750000000000036\n"
     ]
    }
   ],
   "source": [
    "import statsmodels.api as sm\n",
    "import pandas as pd\n",
    "import numpy as np\n",
    "\n",
    "# Crear un DataFrame de ejemplo\n",
    "df = pd.DataFrame({'values': [3, 5, 1, 2, 7, 8, 10, 6, 4, 9],\n",
    "                   'weights': [1, 2, 1, 1, 2, 1, 3, 2, 1, 2]})\n",
    "\n",
    "# Añadir una columna de unos para representar el intercepto\n",
    "df['intercept'] = 1\n",
    "\n",
    "# Ajustar un modelo de regresión ponderado\n",
    "model = sm.WLS(df['values'], df[['intercept']], weights=df['weights']).fit()\n",
    "\n",
    "# La media ponderada es el valor del intercepto\n",
    "weighted_mean_statsmodels = model.params['intercept']\n",
    "print(\"Media ponderada usando Statsmodels:\", weighted_mean_statsmodels)"
   ]
  },
  {
   "cell_type": "markdown",
   "id": "04335797-aca7-427f-817e-5c3e00752535",
   "metadata": {},
   "source": [
    "**Explicar código de arriba**"
   ]
  },
  {
   "cell_type": "markdown",
   "id": "a58a7bad-3dbe-4813-857d-22180569acf5",
   "metadata": {},
   "source": [
    "#### Investigar cómo se calcula media ponderada usando pingouine"
   ]
  },
  {
   "cell_type": "markdown",
   "id": "cb5804cd-5762-4548-a860-3dea0cade866",
   "metadata": {},
   "source": [
    "### Mediana y Estimaciones Robustas\n",
    "\n",
    "La mediana es el número central en una lista ordenada de los datos. Si hay un número par de valores de datos, el valor central es uno que no está realmente en el conjunto de datos, sino el promedio de los dos valores que dividen los datos ordenados en mitades superior e inferior. En comparación con la media, que utiliza todas las observaciones, la mediana depende solo de los valores en el centro de los datos ordenados. Aunque esto podría parecer una desventaja, ya que la media es mucho más sensible a los datos, hay muchos casos en los que la mediana es una mejor métrica para la ubicación.\n",
    "\n",
    "Supongamos que queremos observar los ingresos familiares típicos en vecindarios alrededor del Lago Washington en Seattle. Al comparar el vecindario de Medina con el de Windermere, usar la media produciría resultados muy diferentes porque Bill Gates vive en Medina. Si usamos la mediana, no importará cuán rico sea Bill Gates, la posición de la observación central seguirá siendo la misma.\n",
    "\n",
    "Por las mismas razones que se usa una media ponderada, también es posible calcular una mediana ponderada. Al igual que con la mediana, primero ordenamos los datos, aunque cada valor de datos tiene un peso asociado. En lugar del número central, la mediana ponderada es un valor tal que la suma de los pesos es igual para las mitades inferior y superior de la lista ordenada. Al igual que la mediana, la mediana ponderada es robusta frente a valores atípicos."
   ]
  },
  {
   "cell_type": "markdown",
   "id": "8e501458-7ae3-4542-bce8-736108c0efd2",
   "metadata": {},
   "source": [
    "**Ejemplos con Python**"
   ]
  },
  {
   "cell_type": "markdown",
   "id": "6f5d5570-3598-4b2a-98f7-74e97a761504",
   "metadata": {},
   "source": [
    "#### SciPy (Numpy)"
   ]
  },
  {
   "cell_type": "code",
   "execution_count": 16,
   "id": "db7a76e2-7f41-4121-a155-c2031ff9b2b7",
   "metadata": {},
   "outputs": [
    {
     "name": "stdout",
     "output_type": "stream",
     "text": [
      "Mediana usando 'SciPy': 5.5\n"
     ]
    }
   ],
   "source": [
    "import numpy as np\n",
    "\n",
    "# Crear un conjunto de datos de ejemplo\n",
    "data = np.array([3, 5, 1, 2, 7, 8, 10, 6, 4, 9])\n",
    "\n",
    "# Calcular la mediana usando numpy (parte de scipy)\n",
    "median_scipy = np.median(data)\n",
    "print(\"Mediana usando 'SciPy':\", median_scipy)"
   ]
  },
  {
   "cell_type": "markdown",
   "id": "48071243-8a94-47cb-8a56-a9adc6d0c3a9",
   "metadata": {},
   "source": [
    "#### Pandas (completar)"
   ]
  },
  {
   "cell_type": "code",
   "execution_count": null,
   "id": "8a9763a9-6dde-420e-826c-1c627a2e664e",
   "metadata": {},
   "outputs": [],
   "source": []
  },
  {
   "cell_type": "markdown",
   "id": "6fdc6429-6ec2-4f6d-99c0-ac03215e33dc",
   "metadata": {},
   "source": [
    "#### pingouine (completar)"
   ]
  },
  {
   "cell_type": "code",
   "execution_count": null,
   "id": "f9f1e25a-a1ae-4077-a0e7-8be78fd06d10",
   "metadata": {},
   "outputs": [],
   "source": []
  },
  {
   "cell_type": "markdown",
   "id": "51291386-61b3-4082-a1ea-dad31084848f",
   "metadata": {},
   "source": [
    "#### Statsmodels"
   ]
  },
  {
   "cell_type": "markdown",
   "id": "6e873bf2-9ff9-4493-9212-72d518b7e91a",
   "metadata": {},
   "source": [
    "Statsmodels no tiene una función directa para calcular la mediana. Sin embargo, podemos usar una `regresión cuantílica` para calcularla, ya que la mediana es el cuantil 0.5."
   ]
  },
  {
   "cell_type": "code",
   "execution_count": 17,
   "id": "8717b63f-a27e-4b39-9b7f-98ada92bd0a2",
   "metadata": {},
   "outputs": [
    {
     "name": "stdout",
     "output_type": "stream",
     "text": [
      "Mediana usando Statsmodels: 5.499999999999998\n"
     ]
    },
    {
     "name": "stderr",
     "output_type": "stream",
     "text": [
      "C:\\Users\\juanj\\AppData\\Local\\Temp\\ipykernel_11180\\768756127.py:13: FutureWarning: Series.__getitem__ treating keys as positions is deprecated. In a future version, integer keys will always be treated as labels (consistent with DataFrame behavior). To access a value by position, use `ser.iloc[pos]`\n",
      "  median_statsmodels = res.params[0]\n"
     ]
    }
   ],
   "source": [
    "import statsmodels.api as sm\n",
    "import pandas as pd\n",
    "import numpy as np\n",
    "\n",
    "# Crear un DataFrame de ejemplo\n",
    "df = pd.DataFrame({'values': [3, 5, 1, 2, 7, 8, 10, 6, 4, 9]})\n",
    "\n",
    "# Ajustar un modelo de regresión cuantílica para calcular la mediana\n",
    "quant_reg = sm.QuantReg(df['values'], np.ones(len(df['values'])))\n",
    "res = quant_reg.fit(q=0.5)\n",
    "\n",
    "# La mediana es el coeficiente del modelo\n",
    "median_statsmodels = res.params[0]\n",
    "print(\"Mediana usando Statsmodels:\", median_statsmodels)"
   ]
  },
  {
   "cell_type": "markdown",
   "id": "7cff792a-ae6b-42bc-bfdd-96295225c473",
   "metadata": {},
   "source": [
    "### Valores Atípicos\n",
    "\n",
    "La mediana se refiere como una estimación robusta de la ubicación ya que no se ve influenciada por valores atípicos (casos extremos) que podrían sesgar los resultados. Un valor atípico es cualquier valor que está muy distante de los otros valores en un conjunto de datos. La definición exacta de un valor atípico es algo subjetiva, aunque ciertas convenciones se utilizan en varios resúmenes de datos y gráficos. Ser un valor atípico en sí mismo no hace que un valor de datos sea inválido o erróneo. Aun así, los valores atípicos a menudo son el resultado de errores de datos como mezclar datos de diferentes unidades (kilómetros frente a metros) o lecturas incorrectas de un sensor. Cuando los valores atípicos son el resultado de datos incorrectos, la media dará lugar a una mala estimación de la ubicación, mientras que la mediana seguirá siendo válida. En cualquier caso, los valores atípicos deben ser identificados y generalmente merecen una investigación adicional."
   ]
  },
  {
   "cell_type": "markdown",
   "id": "740e1529-d72b-4596-826f-2d163b696b25",
   "metadata": {},
   "source": [
    "#### Detección de Anomalías\n",
    "\n",
    "En contraste con el análisis típico de datos, donde los valores atípicos son a veces informativos y otras veces una molestia, en la detección de anomalías los puntos de interés son los valores atípicos, y la mayor parte de los datos sirve principalmente para definir lo \"normal\" contra lo cual se miden las anomalías.\n",
    "\n",
    "La mediana no es la única estimación robusta de la ubicación. De hecho, una media recortada se utiliza ampliamente para evitar la influencia de valores atípicos. Por ejemplo, recortar el 10% inferior y superior (una elección común) de los datos proporcionará protección contra valores atípicos en todos los conjuntos de datos, excepto en los más pequeños. La media recortada puede considerarse un compromiso entre la mediana y la media: es robusta frente a valores extremos en los datos, pero utiliza más datos para calcular la estimación de la ubicación. "
   ]
  },
  {
   "cell_type": "markdown",
   "id": "d5c17fb6-0f2d-4e48-b6b7-dc97693dcce8",
   "metadata": {},
   "source": [
    "#### Ejercicio 1: Estimaciones de Ubicación de la Población y las Tasas de Homicidios\n",
    "\n",
    "La Tabla 1-2 muestra las primeras filas del conjunto de datos que contiene la población y las tasas de homicidios (en unidades de asesinatos por cada 100,000 personas por año) para cada estado de EE. UU. (Censo de 2010).\n",
    "\n",
    "| Estado       | Población  | Tasa de Homicidios | Abreviatura |\n",
    "|--------------|-------------|-------------------|-------------|\n",
    "| Alabama      | 4,779,736   | 5.7               | AL          |\n",
    "| Alaska       | 710,231     | 5.6               | AK          |\n",
    "| Arizona      | 6,392,017   | 4.7               | AZ          |\n",
    "| Arkansas     | 2,915,918   | 5.6               | AR          |\n",
    "| California   | 37,253,956  | 4.4               | CA          |\n",
    "| Colorado     | 5,029,196   | 2.8               | CO          |\n",
    "| Connecticut  | 3,574,097   | 2.4               | CT          |\n",
    "| Delaware     | 897,934     | 5.8               | DE          |\n",
    "\n",
    "Calcula la media, la media recortada, la media ponderada y la mediana para la población usando Pandas, Scipy y Pingouine (Opcional: Statsmodels). Utilice el fichero `state.csv`"
   ]
  },
  {
   "cell_type": "markdown",
   "id": "ad80e081-e27c-46b5-8a3e-e286e9e898eb",
   "metadata": {},
   "source": [
    "#### Ejercicio 2. Investigar cómo se interpreta estadísticamente la medida de tendecia central: `moda`.  \n",
    "Buscar ejemplos concretos donde se aplique la moda. Desarrolle un ejemplo con Pandas, Scipy, Statsmodels y Pingouine"
   ]
  },
  {
   "cell_type": "markdown",
   "id": "5c5f5770-8ccc-49dd-b8f5-2687d06bd10a",
   "metadata": {},
   "source": [
    "### 1.2 Estimaciones de Variabilidad o medidas de variación"
   ]
  },
  {
   "cell_type": "markdown",
   "id": "80fe8b26-9234-4aab-8148-f2a39243fdb7",
   "metadata": {},
   "source": [
    "La ubicación es solo una dimensión para resumir una característica. Una segunda dimensión, la variabilidad, también conocida como dispersión, mide si los valores de los datos están estrechamente agrupados o dispersos. En el corazón de la estadística se encuentra la variabilidad: medirla, reducirla, distinguir la variabilidad aleatoria de la real, identificar las diversas fuentes de variabilidad real y tomar decisiones en su presencia."
   ]
  },
  {
   "cell_type": "markdown",
   "id": "4ca4db42-e86f-4c39-b62a-662a6ef634d7",
   "metadata": {},
   "source": [
    "## Términos Clave para Métricas de Variabilidad\n",
    "\n",
    "- **Desviaciones (error absoluto)**: La diferencia entre los valores observados y la estimación de ubicación.\n",
    "  - Sinónimos: errores, residuales.\n",
    "  \n",
    "- **Varianza $s^{2}$**: La suma de las desviaciones al cuadrado con respecto a la media, dividida por n - 1, donde n es el número de valores de datos.\n",
    "  - Sinónimo: error cuadrático medio.\n",
    "  \n",
    "- **Desviación estándar**: La raíz cuadrada de la varianza.\n",
    "  \n",
    "- **Desviación absoluta media**: La media de los valores absolutos de las desviaciones con respecto a la media.\n",
    "  - Sinónimos: norma L1, norma Manhattan.\n",
    "  \n",
    "- **Desviación absoluta mediana desde la mediana**: La mediana de los valores absolutos de las desviaciones con respecto a la mediana.\n",
    "  \n",
    "- **Rango**: La diferencia entre el valor más grande y el más pequeño en un conjunto de datos.\n",
    "  \n",
    "- **Estadísticas de orden**: Métricas basadas en los valores de los datos ordenados de menor a mayor.\n",
    "  - Sinónimo: rangos.\n",
    "  \n",
    "- **Percentil**: El valor tal que P por ciento de los valores toman este valor o menos y (100 - P) por ciento toman este valor o más.\n",
    "  - Sinónimo: cuantil.\n",
    "  \n",
    "- **Rango intercuartílico (IQR)**: La diferencia entre el percentil 75 y el percentil 25.\n",
    "  - Sinónimo: IQR.\n",
    "\n",
    "Así como hay diferentes formas de medir la ubicación (media, mediana, etc.), también hay diferentes formas de medir la variabilidad."
   ]
  },
  {
   "cell_type": "markdown",
   "id": "1b7fc6fe-182b-4903-ba17-0bfb92799c12",
   "metadata": {},
   "source": [
    "## Desviación Estándar y Estimaciones Relacionadas\n",
    "\n",
    "Las estimaciones de variación más utilizadas se basan en las diferencias, o desviaciones, entre la estimación de la ubicación y los datos observados. Para un conjunto de datos {1, 4, 4}, la media es 3 y la mediana es 4. Las desviaciones con respecto a la media son las diferencias: 1 - 3 = -2, 4 - 3 = 1, 4 - 3 = 1. Estas desviaciones nos dicen cuán dispersos están los datos alrededor del valor central.\n",
    "\n",
    "Una forma de medir la variabilidad es estimar un valor típico para estas desviaciones. Promediar las desviaciones en sí mismas no nos diría mucho: las desviaciones negativas compensan las positivas. De hecho, la suma de las desviaciones con respecto a la media es precisamente cero. En cambio, un enfoque simple es tomar el promedio de los valores absolutos de las desviaciones con respecto a la media. En el ejemplo anterior, el valor absoluto de las desviaciones es {2, 1, 1}, y su promedio es (2 + 1 + 1) / 3 = 1.33. Esto se conoce como desviación absoluta media y se calcula con la fórmula:\n",
    "\n",
    "$\n",
    "\\text{Desviación absoluta media} = \\frac{\\sum_{i=1}^{n} |x_i - \\bar{x}|}{n}\n",
    "$\n",
    "\n",
    "donde $\\bar{x}$ es la media de la muestra."
   ]
  },
  {
   "cell_type": "markdown",
   "id": "c7b24f4b-e909-401c-b03b-f37250539a2d",
   "metadata": {},
   "source": [
    "### Ejemplo de Cálculo de la Desviación Absoluta Media.  \n",
    "\n",
    "Supongamos que tenemos los siguientes datos de ejemplo:  \n",
    "<div style=\"text-align: center;\">\n",
    "$x = [1, 2, 3, 4, 5, 6, 7, 8, 100]$  \n",
    "</div>\n",
    "\n",
    "1. **Calcular la Media**:\n",
    "   <div style=\"text-align: center;\">\n",
    "   \\[\n",
    "   \\text{media} = \\frac{1 + 2 + 3 + 4 + 5 + 6 + 7 + 8 + 100}{9} = \\frac{136}{9} \\approx 15.11\n",
    "   \\]\n",
    "   </div>\n",
    "\n",
    "2. **Calcular las Desviaciones Absolutas de la Media**:\n",
    "   <div style=\"text-align: center;\">\n",
    "   \\[\n",
    "   |1 - 15.11|, |2 - 15.11|, |3 - 15.11|, |4 - 15.11|, |5 - 15.11|, |6 - 15.11|, |7 - 15.11|, |8 - 15.11|, |100 - 15.11|\n",
    "   \\]\n",
    "   \\[\n",
    "   \\approx 14.11, 13.11, 12.11, 11.11, 10.11, 9.11, 8.11, 7.11, 84.89\n",
    "   \\]\n",
    "   </div>\n",
    "\n",
    "3. **Calcular la Media de las Desviaciones Absolutas (MAD)**:\n",
    "   <div style=\"text-align: center;\">\n",
    "   \\[\n",
    "   \\text{MAD} = \\frac{14.11 + 13.11 + 12.11 + 11.11 + 10.11 + 9.11 + 8.11 + 7.11 + 84.89}{9} \\approx 18.31\n",
    "   \\]\n",
    "   </div>\n",
    "\n",
    "### Interpretación\n",
    "\n",
    "En este ejemplo, la MAD es aproximadamente 18.31. Esto significa que, en promedio, las desviaciones absolutas de los datos respecto a la media son de 18.31 unidades. La MAD indica la dispersión promedio de los datos alrededor de la media y puede ser influenciada por valores atípicos."
   ]
  },
  {
   "cell_type": "markdown",
   "id": "6a1f6490-7ac5-4c05-b362-7ad4fa7cf125",
   "metadata": {},
   "source": [
    "### Ejemplos con Python"
   ]
  },
  {
   "cell_type": "markdown",
   "id": "ed688987-a44b-47ec-bf38-23fecb88881c",
   "metadata": {},
   "source": [
    "#### Con Scipy (Numpy)"
   ]
  },
  {
   "cell_type": "code",
   "execution_count": 68,
   "id": "78def68c-da38-4dfc-9cdc-a72614e52df2",
   "metadata": {},
   "outputs": [
    {
     "name": "stdout",
     "output_type": "stream",
     "text": [
      "Desviación absoluta media usando SciPy: 18.864197530864196\n"
     ]
    }
   ],
   "source": [
    "import numpy as np\n",
    "\n",
    "# Crear un conjunto de datos de ejemplo\n",
    "data = np.array([1, 2, 3, 4, 5, 6, 7, 8, 100])\n",
    "\n",
    "# Calcular la desviación absoluta media usando numpy (parte de scipy)\n",
    "mean = np.mean(data)\n",
    "mad_scipy = np.mean(np.abs(data - mean))\n",
    "print(\"Desviación absoluta media usando SciPy:\", mad_scipy)"
   ]
  },
  {
   "cell_type": "markdown",
   "id": "83baaed2-5217-4c2b-9b22-95b1b8d7ad5b",
   "metadata": {},
   "source": [
    "#### Con Pandas"
   ]
  },
  {
   "cell_type": "code",
   "execution_count": 69,
   "id": "109a32e7-3ad5-4bbd-b0f4-7414a7d7532d",
   "metadata": {},
   "outputs": [
    {
     "name": "stdout",
     "output_type": "stream",
     "text": [
      "Desviación absoluta media usando Pandas: 18.864197530864196\n"
     ]
    }
   ],
   "source": [
    "import pandas as pd\n",
    "import numpy as np\n",
    "\n",
    "# Crear un DataFrame de ejemplo\n",
    "df = pd.DataFrame({'values': [1, 2, 3, 4, 5, 6, 7, 8, 100]})\n",
    "\n",
    "# Calcular la desviación absoluta media usando pandas\n",
    "mean = df['values'].mean()\n",
    "mad_pandas = np.mean(np.abs(df['values'] - mean))\n",
    "print(\"Desviación absoluta media usando Pandas:\", mad_pandas)"
   ]
  },
  {
   "cell_type": "markdown",
   "id": "dcbf47fd-dc09-4aed-9d93-a4906be8561e",
   "metadata": {},
   "source": [
    "#### Con Statsmodels"
   ]
  },
  {
   "cell_type": "code",
   "execution_count": 70,
   "id": "a0dba792-f80e-40c9-8ac3-1e7a32995903",
   "metadata": {},
   "outputs": [
    {
     "name": "stdout",
     "output_type": "stream",
     "text": [
      "Desviación absoluta media usando Statsmodels (manual): 18.864197530864196\n"
     ]
    }
   ],
   "source": [
    "import statsmodels.api as sm\n",
    "import pandas as pd\n",
    "import numpy as np\n",
    "\n",
    "df = pd.DataFrame({'values': [1, 2, 3, 4, 5, 6, 7, 8, 100]})\n",
    "\n",
    "# Calcular la media\n",
    "mean = df['values'].mean()\n",
    "\n",
    "# Calcular la desviación absoluta media manualmente\n",
    "mad_mean_statsmodels = np.mean(np.abs(df['values'] - mean))\n",
    "print(\"Desviación absoluta media usando Statsmodels (manual):\", mad_mean_statsmodels)"
   ]
  },
  {
   "cell_type": "markdown",
   "id": "f7e65a8c-46a9-4039-8559-be6552684067",
   "metadata": {},
   "source": [
    "#### Calcular usando pingouine"
   ]
  },
  {
   "cell_type": "code",
   "execution_count": null,
   "id": "ac709e3d-96fd-4de1-93b3-d17e734a20b1",
   "metadata": {},
   "outputs": [],
   "source": []
  },
  {
   "cell_type": "markdown",
   "id": "1a1778f7-1e79-4399-ab70-78c1ef66e645",
   "metadata": {},
   "source": [
    "### Varianza"
   ]
  },
  {
   "cell_type": "markdown",
   "id": "891c3407-619d-4db7-98ab-ed0565aa857c",
   "metadata": {},
   "source": [
    "Las estimaciones más conocidas de la variabilidad son la varianza y la desviación estándar, que se basan en desviaciones al cuadrado. La varianza es un promedio de las desviaciones al cuadrado y la desviación estándar es la raíz cuadrada de la varianza:\n",
    "\n",
    "$\n",
    "\\text{Varianza} = s^2 = \\frac{\\sum_{i=1}^{n} (x_i - \\bar{x})^2}{n - 1}\n",
    "$  \n",
    "\n",
    "La varianza es una medida de dispersión que indica cuánto varían los datos respecto a su media. Se calcula como el promedio de las desviaciones al cuadrado de cada valor con respecto a la media.\n"
   ]
  },
  {
   "cell_type": "markdown",
   "id": "30db1804-1b9a-45dc-afe8-ec980ce96c2c",
   "metadata": {},
   "source": [
    "1. **Calcular la Media**:\n",
    "   <div style=\"text-align: center;\">\n",
    "   \\[\n",
    "   \\text{media} = \\frac{1}{n} \\sum_{i=1}^{n} x_i\n",
    "   \\]\n",
    "   </div>\n",
    "\n",
    "2. **Calcular las Desviaciones al Cuadrado**:\n",
    "   <div style=\"text-align: center;\">\n",
    "   \\[\n",
    "   (x_i - \\text{media})^2\n",
    "   \\]\n",
    "   </div>\n",
    "\n",
    "3. **Calcular la Varianza**:\n",
    "   <div style=\"text-align: center;\">\n",
    "   \\[\n",
    "   \\text{Varianza} = \\frac{1}{n} \\sum_{i=1}^{n} (x_i - \\text{media})^2\n",
    "   \\]\n",
    "   </div>\n",
    "\n",
    "### Interpretación de la Varianza\n",
    "\n",
    "- **Medida de Dispersión**: La varianza mide cuánto se dispersan los valores en un conjunto de datos en relación con la media. Valores de varianza más altos indican mayor dispersión.\n",
    "- **Sensibilidad a Outliers**: La varianza es sensible a valores atípicos porque las desviaciones al cuadrado pueden aumentar significativamente debido a valores extremos.\n",
    "- **Unidades Cuadradas**: La varianza se expresa en las mismas unidades que los datos originales, pero al cuadrado. Esto puede dificultar la interpretación directa de la varianza en comparación con la desviación estándar, que está en las mismas unidades que los datos originales."
   ]
  },
  {
   "cell_type": "markdown",
   "id": "60e3fede-aaba-41d0-b1e9-e176ae8dad07",
   "metadata": {},
   "source": [
    "### Ejemplo Numérico\n",
    "\n",
    "Supongamos que tenemos los siguientes datos de ejemplo:  \n",
    "\n",
    "<div style=\"text-align: center;\">\n",
    "\\[ x = [1, 2, 3, 4, 5, 6, 7, 8, 100] \\]\n",
    "</div>  \n",
    "\n",
    "**Calcular la Media**:\n",
    "\n",
    "<div style=\"text-align: center;\">\n",
    "\\[\n",
    "\\text{media} = \\frac{1 + 2 + 3 + 4 + 5 + 6 + 7 + 8 + 100}{9} = \\frac{136}{9} \\approx 15.11\n",
    "\\]\n",
    "</div>  \n",
    "\n",
    "**Calcular las Desviaciones al Cuadrado**:\n",
    "\n",
    "<div style=\"text-align: center;\">\n",
    "\\[\n",
    "(1 - 15.11)^2, (2 - 15.11)^2, (3 - 15.11)^2, (4 - 15.11)^2, (5 - 15.11)^2, (6 - 15.11)^2, (7 - 15.11)^2, (8 - 15.11)^2, (100 - 15.11)^2\n",
    "\\]\n",
    "\\[\n",
    "\\approx 198.24, 171.14, 145.03, 119.93, 95.82, 72.72, 50.61, 29.51, 7205.45\n",
    "\\]\n",
    "</div>  \n",
    "\n",
    "**Calcular la Varianza**:\n",
    "\n",
    "<div style=\"text-align: center;\">\n",
    "\\[\n",
    "\\text{Varianza} = \\frac{198.24 + 171.14 + 145.03 + 119.93 + 95.82 + 72.72 + 50.61 + 29.51 + 7205.45}{9} \\approx 905.27\n",
    "\\]\n",
    "</div>"
   ]
  },
  {
   "cell_type": "markdown",
   "id": "89a53e7e-ec22-49f3-9397-07a4612414bc",
   "metadata": {},
   "source": [
    "#### Ejemplos en Python"
   ]
  },
  {
   "cell_type": "markdown",
   "id": "86967a53-3b81-4bf3-b5a7-43f9e8f32019",
   "metadata": {},
   "source": [
    "#### Con Pandas"
   ]
  },
  {
   "cell_type": "code",
   "execution_count": 73,
   "id": "199ea9f7-e7bd-4be4-9baf-48e4dd78584b",
   "metadata": {},
   "outputs": [
    {
     "name": "stdout",
     "output_type": "stream",
     "text": [
      "Varianza usando Pandas: 905.4320987654321\n"
     ]
    }
   ],
   "source": [
    "import pandas as pd\n",
    "\n",
    "# Crear un DataFrame de ejemplo\n",
    "df = pd.DataFrame({'values': [1, 2, 3, 4, 5, 6, 7, 8, 100]})\n",
    "\n",
    "# Calcular la varianza usando pandas\n",
    "var_pandas = df['values'].var(ddof=0)  # ddof=0 para la varianza de la población\n",
    "print(\"Varianza usando Pandas:\", var_pandas)"
   ]
  },
  {
   "cell_type": "markdown",
   "id": "c4072aa9-b2b3-49f6-8da6-11d3e6f87a1e",
   "metadata": {},
   "source": [
    "#### Con SciPy"
   ]
  },
  {
   "cell_type": "code",
   "execution_count": 74,
   "id": "8ea1ecbd-13a8-425d-8bd0-a0b6a981eba0",
   "metadata": {},
   "outputs": [
    {
     "name": "stdout",
     "output_type": "stream",
     "text": [
      "Varianza usando SciPy: 905.4320987654321\n"
     ]
    }
   ],
   "source": [
    "from scipy import stats\n",
    "\n",
    "# Calcular la varianza usando scipy\n",
    "var_scipy = stats.tvar(data, ddof=0)  # ddof=0 para la varianza de la población\n",
    "print(\"Varianza usando SciPy:\", var_scipy)"
   ]
  },
  {
   "cell_type": "markdown",
   "id": "97449822-6925-42dd-91d1-7d3e25bf14bb",
   "metadata": {},
   "source": [
    "#### Con Statsmodels (Numpy)  "
   ]
  },
  {
   "cell_type": "code",
   "execution_count": 78,
   "id": "5f7dedf3-b91b-43cc-8108-6eddca14b8e9",
   "metadata": {},
   "outputs": [
    {
     "name": "stdout",
     "output_type": "stream",
     "text": [
      "Varianza usando Statsmodels: 905.4320987654321\n"
     ]
    }
   ],
   "source": [
    "import statsmodels.api as sm\n",
    "import numpy as np\n",
    "import pandas as pd\n",
    "\n",
    "# Crear un conjunto de datos de ejemplo\n",
    "data = np.array([1, 2, 3, 4, 5, 6, 7, 8, 100])\n",
    "df = pd.DataFrame({'values': data})\n",
    "\n",
    "# Calcular la media\n",
    "mean = df['values'].mean()\n",
    "\n",
    "# Calcular la varianza manualmente usando statsmodels\n",
    "var_statsmodels = np.mean((df['values'] - mean) ** 2)\n",
    "print(\"Varianza usando Statsmodels:\", var_statsmodels)\n"
   ]
  },
  {
   "cell_type": "markdown",
   "id": "090194c1-ffd5-40fb-8312-2b3cd48f421c",
   "metadata": {},
   "source": [
    "#### Con pingouine (Completar)"
   ]
  },
  {
   "cell_type": "code",
   "execution_count": null,
   "id": "b873c508-4a1b-4870-9c2c-7b4b0d7840f7",
   "metadata": {},
   "outputs": [],
   "source": []
  },
  {
   "cell_type": "markdown",
   "id": "fddc7a12-8073-4469-bc85-bd081dd34c28",
   "metadata": {},
   "source": [
    "### Desviación estándar o típica."
   ]
  },
  {
   "cell_type": "markdown",
   "id": "0f85f78e-db97-4467-ae89-bd47e51c74a7",
   "metadata": {},
   "source": [
    "$\n",
    "\\text{Desviación estándar} = s = \\sqrt{\\text{Varianza}}\n",
    "$\n",
    "\n",
    "La desviación estándar es mucho más fácil de interpretar que la varianza, ya que está en la misma escala que los datos originales. Aún así, con su fórmula más complicada y menos intuitiva, podría parecer peculiar que la desviación estándar sea preferida en estadística sobre la desviación absoluta media. Debe su preeminencia a la teoría estadística: matemáticamente, trabajar con valores al cuadrado es mucho más conveniente que con valores absolutos, especialmente para modelos estadísticos."
   ]
  },
  {
   "cell_type": "markdown",
   "id": "88a6f84a-b4bf-49a8-bdef-ef1d2193d1d9",
   "metadata": {},
   "source": [
    "**Para un conjunto de datos**:  \n",
    "\n",
    "<div style=\"text-align: center;\">\n",
    "$x = [x_1, x_2, \\ldots, x_n]$:  \n",
    "</div>  \n",
    "\n",
    "1. **Calcular la Media**:\n",
    "   <div style=\"text-align: center;\">\n",
    "   \\[\n",
    "   \\text{media} = \\frac{1}{n} \\sum_{i=1}^{n} x_i\n",
    "   \\]\n",
    "   </div>\n",
    "\n",
    "2. **Calcular las Desviaciones al Cuadrado**:\n",
    "   <div style=\"text-align: center;\">\n",
    "   \\[\n",
    "   (x_i - \\text{media})^2\n",
    "   \\]\n",
    "   </div>\n",
    "\n",
    "3. **Calcular la Varianza**:\n",
    "   <div style=\"text-align: center;\">\n",
    "   \\[\n",
    "   \\text{Varianza} = \\frac{1}{n} \\sum_{i=1}^{n} (x_i - \\text{media})^2\n",
    "   \\]\n",
    "   </div>\n",
    "\n",
    "4. **Calcular la Desviación Estándar**:\n",
    "   <div style=\"text-align: center;\">\n",
    "   \\[\n",
    "   \\text{Desviación Estándar} = \\sqrt{\\text{Varianza}}\n",
    "   \\]\n",
    "   </div>"
   ]
  },
  {
   "cell_type": "markdown",
   "id": "59e171db-ade6-4fa5-af98-821b6e029c01",
   "metadata": {},
   "source": [
    "### Interpretación de la Desviación Estándar\n",
    "\n",
    "- **Medida de Dispersión**: La desviación estándar mide cuánto se dispersan los valores en un conjunto de datos en relación con la media. Valores de desviación estándar más altos indican mayor dispersión.\n",
    "- **Comparabilidad**: A diferencia de la varianza, la desviación estándar se expresa en las mismas unidades que los datos originales, lo que facilita su interpretación.\n",
    "- **Sensibilidad a Outliers**: Al igual que la varianza, la desviación estándar es sensible a valores atípicos porque se basa en las desviaciones al cuadrado."
   ]
  },
  {
   "cell_type": "markdown",
   "id": "befe33c3-2744-40fe-9e7e-e044ff3d8e5a",
   "metadata": {},
   "source": [
    "### Ejemplo Numérico\n",
    "\n",
    "Supongamos que tenemos los siguientes datos de ejemplo:  \n",
    "<div style=\"text-align: center;\">\n",
    "\\[ x = [1, 2, 3, 4, 5, 6, 7, 8, 100] \\]\n",
    "</div>\n",
    "\n",
    "1. **Calcular la Media**:\n",
    "   <div style=\"text-align: center;\">\n",
    "   \\[\n",
    "   \\text{media} = \\frac{1 + 2 + 3 + 4 + 5 + 6 + 7 + 8 + 100}{9} = \\frac{136}{9} \\approx 15.11\n",
    "   \\]\n",
    "   </div>\n",
    "\n",
    "2. **Calcular las Desviaciones al Cuadrado**:\n",
    "   <div style=\"text-align: center;\">\n",
    "   \\[\n",
    "   (1 - 15.11)^2, (2 - 15.11)^2, (3 - 15.11)^2, (4 - 15.11)^2, (5 - 15.11)^2, (6 - 15.11)^2, (7 - 15.11)^2, (8 - 15.11)^2, (100 - 15.11)^2\n",
    "   \\]\n",
    "   \\[\n",
    "   \\approx 198.24, 171.14, 145.03, 119.93, 95.82, 72.72, 50.61, 29.51, 7205.45\n",
    "   \\]\n",
    "   </div>\n",
    "\n",
    "3. **Calcular la Varianza**:\n",
    "   <div style=\"text-align: center;\">\n",
    "   \\[\n",
    "   \\text{Varianza} = \\frac{198.24 + 171.14 + 145.03 + 119.93 + 95.82 + 72.72 + 50.61 + 29.51 + 7205.45}{9} \\approx 905.27\n",
    "   \\]\n",
    "   </div>\n",
    "\n",
    "4. **Calcular la Desviación Estándar**:\n",
    "   <div style=\"text-align: center;\">\n",
    "   \\[\n",
    "   \\text{Desviación Estándar} = \\sqrt{905.27} \\approx 30.08\n",
    "   \\]\n",
    "   </div>\n"
   ]
  },
  {
   "cell_type": "markdown",
   "id": "52b02ce8-d8ea-4b6f-962f-05a8c3960f77",
   "metadata": {},
   "source": [
    "#### SciPy (Numpy)"
   ]
  },
  {
   "cell_type": "code",
   "execution_count": 80,
   "id": "125d520a-6f76-459b-8d37-9fb4b53ba3c6",
   "metadata": {},
   "outputs": [
    {
     "name": "stdout",
     "output_type": "stream",
     "text": [
      "Desviación estándar usando SciPy: 31.915687539376478\n"
     ]
    }
   ],
   "source": [
    "import numpy as np\n",
    "from scipy import stats\n",
    "\n",
    "# Crear un conjunto de datos de ejemplo\n",
    "data = np.array([1, 2, 3, 4, 5, 6, 7, 8, 100])\n",
    "\n",
    "# Calcular la desviación estándar usando numpy (parte de scipy)\n",
    "std_dev_scipy = np.std(data, ddof=1)  # ddof=1 para una muestra\n",
    "print(\"Desviación estándar usando SciPy:\", std_dev_scipy)"
   ]
  },
  {
   "cell_type": "markdown",
   "id": "ed7543b1-e852-47e2-a2fe-ba44e0cfbe23",
   "metadata": {},
   "source": [
    "#### Pandas"
   ]
  },
  {
   "cell_type": "code",
   "execution_count": 81,
   "id": "800686c0-0f5e-4444-9570-f00e771f7864",
   "metadata": {},
   "outputs": [
    {
     "name": "stdout",
     "output_type": "stream",
     "text": [
      "Desviación estándar usando Pandas: 31.915687539376478\n"
     ]
    }
   ],
   "source": [
    "import pandas as pd\n",
    "\n",
    "# Crear un DataFrame de ejemplo\n",
    "df = pd.DataFrame({'values': [1, 2, 3, 4, 5, 6, 7, 8, 100]})\n",
    "\n",
    "# Calcular la desviación estándar usando pandas\n",
    "std_dev_pandas = df['values'].std()\n",
    "print(\"Desviación estándar usando Pandas:\", std_dev_pandas)"
   ]
  },
  {
   "cell_type": "markdown",
   "id": "38c5c4f9-e510-4bb6-ae11-6238d25697b1",
   "metadata": {},
   "source": [
    "#### Statsmodels"
   ]
  },
  {
   "cell_type": "code",
   "execution_count": 82,
   "id": "6676d56c-65fb-4f4d-a710-97bd9cc11425",
   "metadata": {},
   "outputs": [
    {
     "name": "stdout",
     "output_type": "stream",
     "text": [
      "Desviación estándar usando Statsmodels (de los residuales): 31.915687539376478\n"
     ]
    }
   ],
   "source": [
    "import statsmodels.api as sm\n",
    "import pandas as pd\n",
    "import numpy as np\n",
    "\n",
    "# Crear un DataFrame de ejemplo\n",
    "df = pd.DataFrame({'values': [1, 2, 3, 4, 5, 6, 7, 8, 100]})\n",
    "\n",
    "# Agregar una columna de unos para representar el intercepto\n",
    "df['intercept'] = 1\n",
    "\n",
    "# Ajustar un modelo OLS (mínimos cuadrados ordinarios)\n",
    "model = sm.OLS(df['values'], df['intercept']).fit()\n",
    "\n",
    "# Calcular la desviación estándar de los residuales\n",
    "residuals = model.resid\n",
    "std_dev_statsmodels = np.std(residuals, ddof=1)  # ddof=1 para una muestra\n",
    "print(\"Desviación estándar usando Statsmodels (de los residuales):\", std_dev_statsmodels)"
   ]
  },
  {
   "cell_type": "markdown",
   "id": "fa808b23-f1a9-492c-a404-901c9f3151d6",
   "metadata": {},
   "source": [
    "#### Pingouin (completar)"
   ]
  },
  {
   "cell_type": "code",
   "execution_count": null,
   "id": "b1704a23-4307-445f-9b3e-5c0a92bd1ece",
   "metadata": {},
   "outputs": [],
   "source": []
  },
  {
   "cell_type": "markdown",
   "id": "13ec562d-639a-4af9-a989-fd78559421aa",
   "metadata": {},
   "source": [
    "### Desviación absoluta mediana"
   ]
  },
  {
   "cell_type": "markdown",
   "id": "66dd2898-aadb-4374-95d4-5088bc6a6821",
   "metadata": {},
   "source": [
    "Ni la varianza, ni la desviación estándar, ni la desviación absoluta media son robustas frente a valores atípicos y extremos . La varianza y la desviación estándar son especialmente sensibles a los valores atípicos.  \n",
    "Una estimación robusta de la variabilidad es la desviación absoluta mediana :  \n",
    "<div style=\"text-align: center;\">\n",
    "$\\text{Desviación absoluta mediana} = \\text{Mediana} \\left( |x_1 - m|, |x_2 - m|, \\ldots, |x_N - m| \\right)$    \n",
    "</div>  \n",
    "\n",
    "donde $m$ es la mediana. Al igual que la mediana, el MAD no se ve influenciado por valores extremos.  \n",
    "\n",
    "Se utiliza para detectar valores atípicos (outliers) en un conjunto de datos . La detección de outliers se basan en establecer un valor umbral. Si los valores superan dicho umbral entonces se consideran outliers (Ver ejemplo 2). "
   ]
  },
  {
   "cell_type": "markdown",
   "id": "731c9ea1-0957-4c86-b547-5d3cca94c930",
   "metadata": {},
   "source": [
    "#### Ejemplos en Python"
   ]
  },
  {
   "cell_type": "markdown",
   "id": "fdf8125b-4784-4fa9-9a5d-e2dafbc69cf0",
   "metadata": {},
   "source": [
    "#### SciPy"
   ]
  },
  {
   "cell_type": "code",
   "execution_count": 28,
   "id": "d5c7009e-cd92-49a7-a11c-67015c8fe135",
   "metadata": {},
   "outputs": [
    {
     "name": "stdout",
     "output_type": "stream",
     "text": [
      "Desviación absoluta mediana usando NumPy: 2.5\n"
     ]
    }
   ],
   "source": [
    "import numpy as np\n",
    "\n",
    "# Crear un conjunto de datos de ejemplo\n",
    "data = np.array([3, 5, 1, 2, 7, 8, 10, 6, 4, 9])\n",
    "\n",
    "# Calcular la mediana\n",
    "median = np.median(data)\n",
    "\n",
    "# Calcular la desviación absoluta mediana (MAD) usando numpy\n",
    "mad_numpy = np.median(np.abs(data - median))\n",
    "print(\"Desviación absoluta mediana usando NumPy:\", mad_numpy)\n"
   ]
  },
  {
   "cell_type": "markdown",
   "id": "94de3640-a3ab-441d-b423-9efa85f8d59f",
   "metadata": {},
   "source": [
    "#### Pandas"
   ]
  },
  {
   "cell_type": "code",
   "execution_count": 29,
   "id": "cd74d5e0-8a86-46d6-adff-13e2aabaa030",
   "metadata": {},
   "outputs": [
    {
     "name": "stdout",
     "output_type": "stream",
     "text": [
      "Desviación absoluta mediana usando Pandas: 2.5\n"
     ]
    }
   ],
   "source": [
    "import pandas as pd\n",
    "import numpy as np\n",
    "\n",
    "# Crear un DataFrame de ejemplo\n",
    "df = pd.DataFrame({'values': data})\n",
    "\n",
    "# Calcular la mediana\n",
    "median = df['values'].median()\n",
    "\n",
    "# Calcular la desviación absoluta mediana (MAD) usando pandas\n",
    "mad_pandas = np.median(np.abs(df['values'] - median))\n",
    "print(\"Desviación absoluta mediana usando Pandas:\", mad_pandas)"
   ]
  },
  {
   "cell_type": "code",
   "execution_count": 31,
   "id": "29d44196-97dc-453f-8bf0-58e0d244d90c",
   "metadata": {},
   "outputs": [
    {
     "name": "stdout",
     "output_type": "stream",
     "text": [
      "Desviación absoluta mediana usando Statsmodels: 2.5\n"
     ]
    }
   ],
   "source": [
    "import statsmodels.api as sm\n",
    "import pandas as pd\n",
    "import numpy as np\n",
    "\n",
    "# Crear un DataFrame de ejemplo\n",
    "df = pd.DataFrame({'values': data})\n",
    "\n",
    "# Calcular la desviación absoluta mediana (MAD) usando statsmodels sin escala\n",
    "mad_statsmodels = sm.robust.scale.mad(df['values'], c=1)\n",
    "print(\"Desviación absoluta mediana usando Statsmodels:\", mad_statsmodels)"
   ]
  },
  {
   "cell_type": "markdown",
   "id": "6d364d0e-e361-4a76-8fc5-d8d193801dba",
   "metadata": {},
   "source": [
    "#### Detección de ouliers usando MAD (similar a z-score modificado)"
   ]
  },
  {
   "cell_type": "markdown",
   "id": "1fb42300-7229-41f9-a375-974642f9d04c",
   "metadata": {},
   "source": [
    "##### Caso simple: Detección de outliers en precios de casas"
   ]
  },
  {
   "cell_type": "markdown",
   "id": "74cc58ae-3661-4ec4-91aa-b11980e5bbee",
   "metadata": {},
   "source": [
    "#### Dataset:"
   ]
  },
  {
   "cell_type": "code",
   "execution_count": 34,
   "id": "ed012046-33e2-4be4-afc3-9f910dc99c90",
   "metadata": {},
   "outputs": [
    {
     "name": "stdout",
     "output_type": "stream",
     "text": [
      "    precio_casa\n",
      "0        250000\n",
      "1        300000\n",
      "2        150000\n",
      "3        200000\n",
      "4        500000\n",
      "5        230000\n",
      "6        260000\n",
      "7        270000\n",
      "8        280000\n",
      "9        220000\n",
      "10      1000000\n"
     ]
    }
   ],
   "source": [
    "import pandas as pd\n",
    "import numpy as np\n",
    "\n",
    "data = {\n",
    "    'precio_casa': [250000, 300000, 150000, 200000, 500000, 230000, 260000, 270000, 280000, 220000, 1000000]  \n",
    "# Incluye un outlier: 1000000\n",
    "}\n",
    "df = pd.DataFrame(data)\n",
    "print(df)"
   ]
  },
  {
   "cell_type": "markdown",
   "id": "3db0d249-976a-43a7-9f30-6a7d0e4f6fe1",
   "metadata": {},
   "source": [
    "**1- Calcular la Mediana y la Desviación Absoluta Mediana (MAD)**"
   ]
  },
  {
   "cell_type": "code",
   "execution_count": 35,
   "id": "d1e9c32e-0051-4784-af8b-b63030086b27",
   "metadata": {},
   "outputs": [
    {
     "name": "stdout",
     "output_type": "stream",
     "text": [
      "Mediana del precio de las casas: 260000.0\n",
      "Desviación absoluta mediana (MAD): 40000.0\n"
     ]
    }
   ],
   "source": [
    "# Calcular la mediana\n",
    "mediana = df['precio_casa'].median()\n",
    "print(f\"Mediana del precio de las casas: {mediana}\")\n",
    "\n",
    "# Calcular la desviación absoluta mediana (MAD)\n",
    "mad = np.median(np.abs(df['precio_casa'] - mediana))\n",
    "print(f\"Desviación absoluta mediana (MAD): {mad}\")\n"
   ]
  },
  {
   "cell_type": "markdown",
   "id": "d201d663-9f7f-4677-aae7-02cbab30fd9f",
   "metadata": {},
   "source": [
    "**2-Detectar Outliers usando la MAD**"
   ]
  },
  {
   "cell_type": "markdown",
   "id": "eccaf378-4442-4b91-8cbc-33598364551c",
   "metadata": {},
   "source": [
    "Establecemos un umbral basado en la MAD para detectar outliers. Un umbral común es **3 veces** la MAD."
   ]
  },
  {
   "cell_type": "code",
   "execution_count": 36,
   "id": "d7d8675c-f717-4c9c-a590-96f7082364e7",
   "metadata": {},
   "outputs": [
    {
     "name": "stdout",
     "output_type": "stream",
     "text": [
      "Umbral para detectar outliers: 120000.0\n",
      "Outliers detectados usando MAD:\n",
      "    precio_casa\n",
      "4        500000\n",
      "10      1000000\n"
     ]
    }
   ],
   "source": [
    "# Establecer el umbral para detectar outliers\n",
    "umbral = 3 * mad\n",
    "print(f\"Umbral para detectar outliers: {umbral}\")\n",
    "\n",
    "# Detectar outliers\n",
    "outliers = df[np.abs(df['precio_casa'] - mediana) > umbral]\n",
    "print(\"Outliers detectados usando MAD:\")\n",
    "print(outliers)"
   ]
  },
  {
   "cell_type": "markdown",
   "id": "56a38a29-2ec8-4ca4-847a-bfe7af54883c",
   "metadata": {},
   "source": [
    "### Cálculo del Umbral para Detectar Outliers\r\n",
    "\r\n",
    "La fórmula para calcular el umbral es:\r\n",
    "\r\n",
    "<div style=\"text-align: center;\">\r\n",
    "  \\[\r\n",
    "  \\text{Umbral} = k \\times \\text{MAD}\r\n",
    "  \\]\r\n",
    "</div>\r\n",
    "\r\n",
    "donde \\( k \\) es un factor de escala (comúnmente 3).\r\n",
    "\r\n",
    "#### Pasos para Calcular el Umbral y Detectar Outliers\r\n",
    "\r\n",
    "1. **Calcular la Mediana (\\( m \\)) del Conjunto de Datos**:\r\n",
    "\r\n",
    "<div style=\"text-align: center;\">\r\n",
    "  \\[\r\n",
    "  m = \\text{mediana}(x_1, x_2, \\ldots, x_n)\r\n",
    "  \\]\r\n",
    "</div>\r\n",
    "\r\n",
    "2. **Calcular las Desviaciones Absolutas respecto a la Mediana**:\r\n",
    "\r\n",
    "<div style=\"text-align: center;\">\r\n",
    "  \\[\r\n",
    "  |x_i - m|\r\n",
    "  \\]\r\n",
    "</div>\r\n",
    "\r\n",
    "3. **Calcular la Mediana de las Desviaciones Absolutas (MAD)**:\r\n",
    "\r\n",
    "<div style=\"text-align: center;\">\r\n",
    "  \\[\r\n",
    "  \\text{MAD} = \\text{mediana}(|x_1 - m|, |x_2 - m|, \\ldots, |x_n - m|)\r\n",
    "  \\]\r\n",
    "</div>\r\n",
    "\r\n",
    "4. **Establecer el Umbral para Detectar Outliers**:\r\n",
    "\r\n",
    "<div style=\"text-align: center;\">\r\n",
    "  \\[\r\n",
    "  \\text{Umbral} = k \\times \\text{MAD}\r\n",
    "  \\]\r\n",
    "</div>\r\n",
    "\r\n",
    "5. **Identificar Valores que Exceden el Umbral**:\r\n",
    "\r\n",
    "   Los valores que se consideran outliers son aquellos donde:\r\n",
    "\r\n",
    "<div style=\"text-align: center;\">\r\n",
    "  \\[\r\n",
    "  |x_i - m| > \\text{Umbral}\r\n",
    "  \\]\r\n",
    "</div>\r\n"
   ]
  },
  {
   "cell_type": "markdown",
   "id": "f3554e8e-6065-4bd3-abf6-79f5ea988ac5",
   "metadata": {},
   "source": [
    "### Ajuste del Factor de Escala \\( k \\)\n",
    "\n",
    "El factor de escala \\( k \\) es crucial en la detección de outliers. Tradicionalmente, se utiliza \\( k = 3 \\) porque en una distribución normal aproximadamente el 99.7% de los datos se encuentran dentro de tres desviaciones estándar de la media. Sin embargo, el valor óptimo de \\( k \\) puede variar según la naturaleza y distribución de los datos. Es posible que para datos con distribuciones no normales o con una cantidad significativa de ruido, un \\( k \\) diferente sea más adecuado."
   ]
  },
  {
   "cell_type": "markdown",
   "id": "d0103708-bd67-434c-a3b0-2ec5884799ee",
   "metadata": {},
   "source": [
    "#### Caso donde $k = 3$ no es conveniente\n"
   ]
  },
  {
   "cell_type": "markdown",
   "id": "207d0c0e-3b45-40b8-a247-16c3d7d9b0dc",
   "metadata": {},
   "source": [
    "Consideremos un conjunto de datos de temperaturas diarias en una ciudad a lo largo de un año, con algunos días extremadamente cálidos o fríos que podrían ser considerados outliers."
   ]
  },
  {
   "cell_type": "code",
   "execution_count": 60,
   "id": "8d37a333-b87d-4e2c-bbc1-f0b04f67e9cc",
   "metadata": {},
   "outputs": [
    {
     "data": {
      "text/html": [
       "<div>\n",
       "<style scoped>\n",
       "    .dataframe tbody tr th:only-of-type {\n",
       "        vertical-align: middle;\n",
       "    }\n",
       "\n",
       "    .dataframe tbody tr th {\n",
       "        vertical-align: top;\n",
       "    }\n",
       "\n",
       "    .dataframe thead th {\n",
       "        text-align: right;\n",
       "    }\n",
       "</style>\n",
       "<table border=\"1\" class=\"dataframe\">\n",
       "  <thead>\n",
       "    <tr style=\"text-align: right;\">\n",
       "      <th></th>\n",
       "      <th>temperatura</th>\n",
       "    </tr>\n",
       "  </thead>\n",
       "  <tbody>\n",
       "    <tr>\n",
       "      <th>0</th>\n",
       "      <td>28.820262</td>\n",
       "    </tr>\n",
       "    <tr>\n",
       "      <th>1</th>\n",
       "      <td>22.000786</td>\n",
       "    </tr>\n",
       "    <tr>\n",
       "      <th>2</th>\n",
       "      <td>24.893690</td>\n",
       "    </tr>\n",
       "    <tr>\n",
       "      <th>3</th>\n",
       "      <td>31.204466</td>\n",
       "    </tr>\n",
       "    <tr>\n",
       "      <th>4</th>\n",
       "      <td>29.337790</td>\n",
       "    </tr>\n",
       "    <tr>\n",
       "      <th>...</th>\n",
       "      <td>...</td>\n",
       "    </tr>\n",
       "    <tr>\n",
       "      <th>364</th>\n",
       "      <td>19.921589</td>\n",
       "    </tr>\n",
       "    <tr>\n",
       "      <th>365</th>\n",
       "      <td>40.000000</td>\n",
       "    </tr>\n",
       "    <tr>\n",
       "      <th>366</th>\n",
       "      <td>42.000000</td>\n",
       "    </tr>\n",
       "    <tr>\n",
       "      <th>367</th>\n",
       "      <td>-10.000000</td>\n",
       "    </tr>\n",
       "    <tr>\n",
       "      <th>368</th>\n",
       "      <td>-12.000000</td>\n",
       "    </tr>\n",
       "  </tbody>\n",
       "</table>\n",
       "<p>369 rows × 1 columns</p>\n",
       "</div>"
      ],
      "text/plain": [
       "     temperatura\n",
       "0      28.820262\n",
       "1      22.000786\n",
       "2      24.893690\n",
       "3      31.204466\n",
       "4      29.337790\n",
       "..           ...\n",
       "364    19.921589\n",
       "365    40.000000\n",
       "366    42.000000\n",
       "367   -10.000000\n",
       "368   -12.000000\n",
       "\n",
       "[369 rows x 1 columns]"
      ]
     },
     "execution_count": 60,
     "metadata": {},
     "output_type": "execute_result"
    }
   ],
   "source": [
    "import pandas as pd\n",
    "import numpy as np\n",
    "\n",
    "# Crear un DataFrame de ejemplo con temperaturas\n",
    "np.random.seed(0)\n",
    "temperaturas = np.random.normal(loc=20, scale=5, size=365).tolist()  # Temperaturas normales\n",
    "temperaturas.extend([40, 42, -10, -12])  # Añadir algunos outliers\n",
    "data = {\n",
    "    'temperatura': temperaturas\n",
    "}\n",
    "df = pd.DataFrame(data)\n",
    "df"
   ]
  },
  {
   "cell_type": "code",
   "execution_count": 61,
   "id": "201b58e6-c254-4197-9c1b-865573f1c6ba",
   "metadata": {},
   "outputs": [
    {
     "name": "stdout",
     "output_type": "stream",
     "text": [
      "Mediana de las temperaturas: 19.73716351865227\n",
      "Desviación absoluta mediana (MAD): 3.390552282976394\n"
     ]
    }
   ],
   "source": [
    "# Calcular la mediana\n",
    "mediana = df['temperatura'].median()\n",
    "print(f\"Mediana de las temperaturas: {mediana}\")\n",
    "\n",
    "# Calcular la desviación absoluta mediana (MAD)\n",
    "mad = np.median(np.abs(df['temperatura'] - mediana))\n",
    "print(f\"Desviación absoluta mediana (MAD): {mad}\")\n"
   ]
  },
  {
   "cell_type": "markdown",
   "id": "0992c15d-c7cd-4f7e-8e5a-9c5d57cf07cf",
   "metadata": {},
   "source": [
    "#### Ajuste del factor de $k$"
   ]
  },
  {
   "cell_type": "markdown",
   "id": "985b690e-2c72-4ad3-87cf-c36703dfac7d",
   "metadata": {},
   "source": [
    "Podemos utilizar técnicas exploratorias o basarnos en conocimientos específicos del dominio. En este ejemplo, ajustaremos \n",
    "𝑘 empíricamente."
   ]
  },
  {
   "cell_type": "code",
   "execution_count": 62,
   "id": "3b4925ab-fc1b-4a13-b60d-ca4cdba1ffd3",
   "metadata": {},
   "outputs": [
    {
     "name": "stdout",
     "output_type": "stream",
     "text": [
      "Con k = 1, el umbral es 3.390552282976394. Outliers detectados:\n",
      "     temperatura\n",
      "0      28.820262\n",
      "2      24.893690\n",
      "3      31.204466\n",
      "4      29.337790\n",
      "5      15.113611\n",
      "..           ...\n",
      "362    24.659242\n",
      "365    40.000000\n",
      "366    42.000000\n",
      "367   -10.000000\n",
      "368   -12.000000\n",
      "\n",
      "[184 rows x 1 columns]\n",
      "Con k = 2, el umbral es 6.781104565952788. Outliers detectados:\n",
      "     temperatura\n",
      "0      28.820262\n",
      "3      31.204466\n",
      "4      29.337790\n",
      "11     27.271368\n",
      "16     27.470395\n",
      "..           ...\n",
      "356    10.784652\n",
      "365    40.000000\n",
      "366    42.000000\n",
      "367   -10.000000\n",
      "368   -12.000000\n",
      "\n",
      "[67 rows x 1 columns]\n",
      "Con k = 3, el umbral es 10.171656848929182. Outliers detectados:\n",
      "     temperatura\n",
      "3      31.204466\n",
      "20      7.235051\n",
      "24     31.348773\n",
      "144    31.915724\n",
      "183     8.882984\n",
      "198    30.816180\n",
      "218    31.296545\n",
      "271     6.137036\n",
      "279    30.322464\n",
      "292    31.519583\n",
      "327    31.283617\n",
      "334     6.704139\n",
      "365    40.000000\n",
      "366    42.000000\n",
      "367   -10.000000\n",
      "368   -12.000000\n",
      "Con k = 4, el umbral es 13.562209131905576. Outliers detectados:\n",
      "     temperatura\n",
      "271     6.137036\n",
      "365    40.000000\n",
      "366    42.000000\n",
      "367   -10.000000\n",
      "368   -12.000000\n",
      "Con k = 5, el umbral es 16.95276141488197. Outliers detectados:\n",
      "     temperatura\n",
      "365         40.0\n",
      "366         42.0\n",
      "367        -10.0\n",
      "368        -12.0\n"
     ]
    }
   ],
   "source": [
    "# Ajustar el factor k empíricamente\n",
    "for k in [1, 2, 3, 4, 5]:\n",
    "    umbral = k * mad\n",
    "    outliers = df[np.abs(df['temperatura'] - mediana) > umbral]\n",
    "    print(f\"Con k = {k}, el umbral es {umbral}. Outliers detectados:\")\n",
    "    print(outliers)\n"
   ]
  },
  {
   "cell_type": "markdown",
   "id": "a504505e-7861-4307-a5a8-f872a57be13e",
   "metadata": {},
   "source": [
    "Para este conjunto de datos, **\\( k = 5 \\)** es el valor más adecuado. Detecta las temperaturas inusualmente altas y bajas"
   ]
  },
  {
   "cell_type": "markdown",
   "id": "86727cb8-e995-480c-9ca5-9fc381c787a0",
   "metadata": {},
   "source": [
    "#### Otras técnicas de detección de outliers:"
   ]
  },
  {
   "cell_type": "markdown",
   "id": "8158bf48-bc2e-4aa0-a20c-1d6b352df427",
   "metadata": {},
   "source": [
    "- `Gráficos de Caja (Boxplots)`: Visualizan la dispersión y los outliers en los datos.  \n",
    "- `Histogramas`: Muestran la distribución de los datos y pueden ayudar a identificar si hay colas largas o distribuciones sesgadas.  \n",
    "- `Validación Cruzada`: La validación cruzada puede ayudar a evaluar el impacto de diferentes valores de \n",
    "𝑘 en el rendimiento de un modelo predictivo. Se puede entrenar un modelo con diferentes conjuntos de datos y comparar los resultados.  \n",
    "- `Métodos Estadísticos Robustos`:  \n",
    "      - `Regresión Robust (e.g., RANSAC, Theil-Sen)`: Técnicas de regresión que son menos sensibles a outliers.  \n",
    "      - `Estimadores de M-Estimación`: Se ajustan iterativamente para reducir la influencia de outliers.\n",
    "- `Análisis de Componentes Principales (PCA)`: El PCA puede ayudar a identificar outliers en datos multivariados reduciendo la dimensionalidad y visualizando las observaciones en el espacio de componentes principales."
   ]
  },
  {
   "cell_type": "markdown",
   "id": "c53f94b3-3a54-4b43-b7de-b82c3c0873c8",
   "metadata": {},
   "source": [
    "### (Próxima clase) Estimaciones Basadas en Percentiles\n",
    "\n",
    "Un enfoque diferente para estimar la dispersión se basa en observar la extensión de los datos ordenados. Las estadísticas basadas en datos ordenados (clasificados) se denominan `estadísticas de orden`. La medida más básica es el `rango`: la diferencia entre los números más grandes y más pequeños. Los valores mínimos y máximos en sí mismos son útiles y ayudan a identificar valores atípicos, pero el rango es extremadamente sensible a los valores atípicos y no es muy útil como una medida general de dispersión en los datos.  \n",
    "\n"
   ]
  },
  {
   "cell_type": "markdown",
   "id": "c9fd2ada-2642-476c-9ac6-159232e2a876",
   "metadata": {},
   "source": [
    "### Ejemplo Numérico de Cálculo de Percentiles, Rango y Rango Intercuartílico\n",
    "\n",
    "Supongamos que tenemos los siguientes datos de ejemplo:  \n",
    "\n",
    "<div style=\"text-align: center;\">\n",
    "\\[ x = [3, 1, 5, 3, 6, 7, 2, 9] \\]\n",
    "</div>   \n",
    "\n",
    "#### Ordenar los Datos\n",
    "\n",
    "Primero, ordenamos los datos en orden ascendente:  \n",
    "\n",
    "<div style=\"text-align: center;\">\n",
    "\\[ x_{\\text{ordenado}} = [1, 2, 3, 3, 5, 6, 7, 9] \\]\n",
    "</div>    \n",
    "\n",
    "#### Calcular los Percentiles\n",
    "\n",
    "Un percentil es un valor tal que al menos el P por ciento de los valores tienen este valor o menos y al menos (100 - P) por ciento de los valores tienen este valor o más.\n",
    "\n",
    "- **Percentil 25 (P25)**:\n",
    "  - Hay 8 datos en total.\n",
    "  - La posición del percentil 25 se calcula como $ 0.25 \\times (n + 1) $:\n",
    "      \n",
    "    $P_{25} = 0.25 \\times (8 + 1) = 0.25 \\times 9 = 2.25$  \n",
    "    \n",
    "  - Interpolamos entre los valores en las posiciones 2 y 3:\n",
    "       \n",
    "    $\n",
    "    P_{25} = 2 + 0.25 \\times (3 - 2) = 2 + 0.25 \\times 1 = 2.25\n",
    "    $\n",
    "\n",
    "    La fórmula de interpolación lineal para calcular un percentil 𝑃 se puede expresar como:\n",
    "    <div style=\"text-align: center;\">\n",
    "    \\[ P = x_j + w \\times (x_{j+1} - x_j) \\]\n",
    "    </div>\n",
    "donde:\n",
    "-  $x_j$ es el valor en la posición entera inferior.\n",
    "- $ x_{j+1}$ es el valor en la posición entera superior.\n",
    "- $w$ es la parte fraccionaria de la posición del percentil.\n",
    "\n",
    "Para calcular la posición del percentil, se utiliza:\n",
    "\n",
    "$\\text{posición} = P \\times (n + 1)$\n",
    "\n",
    "donde:\n",
    "- $P$ es el percentil expresado como una fracción (por ejemplo, 0.25 para el percentil 25).\n",
    "- $n$ es el número de datos.\n",
    "\n",
    "El peso $w$ es la parte fraccionaria de la posición:\n",
    "\n",
    "$w = \\text{posición} - \\lfloor \\text{posición} \\rfloor$\n",
    "\n",
    "donde $\\lfloor \\text{posición} \\rfloor$ es la parte entera de la posición.\n",
    "\n",
    "- **Percentil 50 (P50 o Mediana)**:\n",
    "  \n",
    "  - La posición del percentil 50 se calcula como $ 0.50 \\times (n + 1)$:\n",
    "    \n",
    "    $P_{50} = 0.50 \\times (8 + 1) = 0.50 \\times 9 = 4.5$\n",
    "    \n",
    "  - Interpolamos entre los valores en las posiciones 4 y 5:\n",
    "    \n",
    "    $P_{50} = 3 + 0.5 \\times (5 - 3) = 3 + 0.5 \\times 2 = 4$\n",
    "    \n",
    "- **Percentil 75 (P75)**:\n",
    "  - La posición del percentil 75 se calcula como $0.75 \\times (n + 1)$:\n",
    "     \n",
    "    $P_{75} = 0.75 \\times (8 + 1) = 0.75 \\times 9 = 6.75$\n",
    "    \n",
    "  - Interpolamos entre los valores en las posiciones 6 y 7:\n",
    "    \n",
    "    $P_{75} = 6 + 0.75 \\times (7 - 6) = 6 + 0.75 \\times 1 = 6.75$\n",
    "\n",
    "\n",
    "#### Calcular el Rango Intercuartílico (IQR)\n",
    "\n",
    "El rango intercuartílico es la diferencia entre el percentil 75 y el percentil 25:\n",
    "<div style=\"text-align: center;\">\n",
    "\\[\n",
    "\\text{IQR} = P_{75} - P_{25}\n",
    "\\]\n",
    "</div>  \n",
    "<div style=\"text-align: center;\">\n",
    "\\[\n",
    "\\text{IQR} = 6.75 - 2.25 = 4.5\n",
    "\\]  \n",
    "</div>\n",
    "\n",
    "### Interpretación Estadística\n",
    "\n",
    "- **Percentiles**:\n",
    "  - Los percentiles dividen los datos en partes iguales. Por ejemplo, el percentil 25 (P25) indica que el 25% de los datos son menores o iguales a 2.25. El percentil 50 (P50 o mediana) indica que el 50% de los datos son menores o iguales a 4. El percentil 75 (P75) indica que el 75% de los datos son menores o iguales a 6.75.\n",
    "  - Los percentiles son útiles para entender la distribución de los datos y para identificar valores extremos.\n",
    "\n",
    "- **Rango**:\n",
    "  - El rango es la diferencia entre el valor máximo y el valor mínimo de los datos. En este ejemplo, el rango es 8. Esto nos da una idea de la amplitud de los datos, pero es muy sensible a los valores atípicos.\n",
    "\n",
    "- **Rango Intercuartílico (IQR)**:\n",
    "  - El IQR es la diferencia entre el percentil 75 y el percentil 25. En este ejemplo, el IQR es 4.5. El IQR es una medida de dispersión que es menos sensible a los valores atípicos que el rango. Proporciona una medida de la variabilidad de los datos en el rango intermedio.\n",
    "\n",
    "### Resumen\n",
    "\n",
    "- **Percentil 25 (P25)**: 2.25\n",
    "- **Mediana (P50)**: 4\n",
    "- **Percentil 75 (P75)**: 6.75\n",
    "- **Rango**: 8\n",
    "- **Rango Intercuartílico (IQR)**: 4.5"
   ]
  },
  {
   "cell_type": "markdown",
   "id": "8ffb1441-cd85-4e4e-a4cc-4ac20158ca30",
   "metadata": {},
   "source": [
    "Ejemplos en Python"
   ]
  },
  {
   "cell_type": "markdown",
   "id": "7ffcb123-47c4-48dd-bd7c-eedc24c04a3d",
   "metadata": {},
   "source": [
    "#### Pandas"
   ]
  },
  {
   "cell_type": "code",
   "execution_count": 85,
   "id": "dc2edbcc-c834-4c14-adc6-91daf5ec4d34",
   "metadata": {},
   "outputs": [
    {
     "name": "stdout",
     "output_type": "stream",
     "text": [
      "Percentil 25 (P25): 2.75\n",
      "Mediana (P50): 4.0\n",
      "Percentil 75 (P75): 6.25\n",
      "Rango Intercuartílico (IQR): 3.5\n"
     ]
    }
   ],
   "source": [
    "import pandas as pd\n",
    "\n",
    "# Crear el DataFrame\n",
    "data = [3, 1, 5, 3, 6, 7, 2, 9]\n",
    "df = pd.DataFrame(data, columns=['values'])\n",
    "\n",
    "# Calcular los percentiles 25, 50 y 75\n",
    "p25 = df['values'].quantile(0.25)\n",
    "p50 = df['values'].quantile(0.50)\n",
    "p75 = df['values'].quantile(0.75)\n",
    "\n",
    "# Calcular el rango intercuartílico (IQR)\n",
    "iqr = p75 - p25\n",
    "\n",
    "print(f\"Percentil 25 (P25): {p25}\")\n",
    "print(f\"Mediana (P50): {p50}\")\n",
    "print(f\"Percentil 75 (P75): {p75}\")\n",
    "print(f\"Rango Intercuartílico (IQR): {iqr}\")\n"
   ]
  },
  {
   "cell_type": "markdown",
   "id": "dd5ec484-bb57-4d87-9402-fc0c73f0c444",
   "metadata": {},
   "source": [
    "#### SciPy"
   ]
  },
  {
   "cell_type": "code",
   "execution_count": 86,
   "id": "0acdb0a0-259e-439b-8b0c-fca7843cc245",
   "metadata": {},
   "outputs": [
    {
     "name": "stdout",
     "output_type": "stream",
     "text": [
      "Percentil 25 (P25): 2.75\n",
      "Mediana (P50): 4.0\n",
      "Percentil 75 (P75): 6.25\n",
      "Rango Intercuartílico (IQR): 3.5\n"
     ]
    }
   ],
   "source": [
    "import numpy as np\n",
    "from scipy import stats\n",
    "\n",
    "# Crear el array de datos\n",
    "data = np.array([3, 1, 5, 3, 6, 7, 2, 9])\n",
    "\n",
    "# Calcular los percentiles 25, 50 y 75\n",
    "p25 = np.percentile(data, 25)\n",
    "p50 = np.percentile(data, 50)\n",
    "p75 = np.percentile(data, 75)\n",
    "\n",
    "# Calcular el rango intercuartílico (IQR)\n",
    "iqr = stats.iqr(data)\n",
    "\n",
    "print(f\"Percentil 25 (P25): {p25}\")\n",
    "print(f\"Mediana (P50): {p50}\")\n",
    "print(f\"Percentil 75 (P75): {p75}\")\n",
    "print(f\"Rango Intercuartílico (IQR): {iqr}\")"
   ]
  },
  {
   "cell_type": "markdown",
   "id": "f09fce3f-8c2b-4cfe-b0be-fb57923f8a00",
   "metadata": {},
   "source": [
    "#### Statsmodels"
   ]
  },
  {
   "cell_type": "code",
   "execution_count": 92,
   "id": "aa98bbd1-fd69-465e-8002-95bc5c657500",
   "metadata": {},
   "outputs": [
    {
     "name": "stdout",
     "output_type": "stream",
     "text": [
      "Percentil 25 (P25): 2.75\n",
      "Mediana (P50): 4.0\n",
      "Percentil 75 (P75): 6.25\n",
      "Rango Intercuartílico (IQR): 3.5\n"
     ]
    }
   ],
   "source": [
    "import numpy as np\n",
    "import statsmodels.api as sm\n",
    "\n",
    "# Crear el array de datos\n",
    "data = np.array([3, 1, 5, 3, 6, 7, 2, 9])\n",
    "\n",
    "# Calcular los percentiles 25, 50 y 75 usando numpy\n",
    "p25, p50, p75 = np.percentile(data, [25, 50, 75])\n",
    "\n",
    "# Calcular el rango intercuartílico (IQR) manualmente\n",
    "iqr = p75 - p25\n",
    "\n",
    "print(f\"Percentil 25 (P25): {p25}\")\n",
    "print(f\"Mediana (P50): {p50}\")\n",
    "print(f\"Percentil 75 (P75): {p75}\")\n",
    "print(f\"Rango Intercuartílico (IQR): {iqr}\")\n"
   ]
  },
  {
   "cell_type": "code",
   "execution_count": null,
   "id": "115ef17c-17d3-4ac2-b2ca-c356d0880522",
   "metadata": {},
   "outputs": [],
   "source": []
  }
 ],
 "metadata": {
  "kernelspec": {
   "display_name": "Python 3 (ipykernel)",
   "language": "python",
   "name": "python3"
  },
  "language_info": {
   "codemirror_mode": {
    "name": "ipython",
    "version": 3
   },
   "file_extension": ".py",
   "mimetype": "text/x-python",
   "name": "python",
   "nbconvert_exporter": "python",
   "pygments_lexer": "ipython3",
   "version": "3.11.9"
  }
 },
 "nbformat": 4,
 "nbformat_minor": 5
}
