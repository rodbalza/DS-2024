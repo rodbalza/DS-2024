{
 "cells": [
  {
   "cell_type": "code",
   "execution_count": null,
   "id": "34ceba03-a1f5-4d1e-94ca-6379a2a8173d",
   "metadata": {},
   "outputs": [],
   "source": []
  },
  {
   "cell_type": "markdown",
   "id": "4944f572-3c12-49f5-95b5-4fd9cd701f58",
   "metadata": {},
   "source": [
    "### Fórmula de Interpolación Lineal\n",
    "\n",
    "Para calcular un percentil \\( P \\) usando interpolación lineal, se utiliza la siguiente fórmula:\n",
    "\n",
    "\\[ P = x_j + w \\times (x_{j+1} - x_j) \\]\n",
    "\n",
    "donde:\n",
    "- \\( x_j \\) es el valor en la posición entera inferior.\n",
    "- \\( x_{j+1} \\) es el valor en la posición entera superior.\n",
    "- \\( w \\) es la parte fraccionaria de la posición del percentil.\n",
    "\n",
    "Para calcular la posición del percentil, se utiliza:\n",
    "\n",
    "\\[ \\text{posición} = P \\times (n + 1) \\]\n",
    "\n",
    "donde:\n",
    "- \\( P \\) es el percentil expresado como una fracción (por ejemplo, 0.25 para el percentil 25).\n",
    "- \\( n \\) es el número de datos.\n",
    "\n",
    "El peso \\( w \\) es la parte fraccionaria de la posición:\n",
    "\n",
    "\\[ w = \\text{posición} - \\lfloor \\text{posición} \\rfloor \\]\n",
    "\n",
    "donde \\( \\lfloor \\text{posición} \\rfloor \\) es la parte entera de la posición.\n"
   ]
  },
  {
   "cell_type": "markdown",
   "id": "d6038e3e-b6ed-4d68-b739-86b10f7a2bd2",
   "metadata": {},
   "source": [
    "### Percentil: Definición Precisa\r\n",
    "\r\n",
    "Si tenemos un número par de datos (n es par), entonces el percentil es ambiguo según la definición anterior. De hecho, podríamos tomar cualquier valor entre las estadísticas de orden \\( x_j \\) y \\( x_{j+1} \\) donde \\( j \\) satisface:\r\n",
    "\r\n",
    "<div style=\"text-align: center;\">\r\n",
    "\\[ 100 \\cdot \\frac{j}{n} \\leq P < 100 \\cdot \\frac{j+1}{n} \\]\r\n",
    "</div>\r\n",
    "\r\n",
    "Formalmente, el percentil es el promedio ponderado:\r\n",
    "\r\n",
    "<div style=\"text-align: center;\">\r\n",
    "\\[ \\text{Percentil P} = (1 - w) \\cdot x_j + w \\cdot x_{j+1} \\]\r\n",
    "</div>\r\n",
    "\r\n",
    "para algún peso \\( w \\) entre 0 y 1. El software estadístico tiene enfoques ligeramente diferentes para elegir \\( w \\). De hecho, la función `quantile` de R ofrece nueve alternativas diferentes para calcular el cuantil. Excepto para conjuntos de datos pequeños, generalmente no necesitas preocuparte por la forma precisa en que se calcula un percentil. Al momento de escribir esto, `numpy.quantile` de Python admite solo un enfoque, la interpolación lineal.\r\n"
   ]
  },
  {
   "cell_type": "code",
   "execution_count": null,
   "id": "760bbacc-7316-4418-ac66-cb0ad07dc3ec",
   "metadata": {},
   "outputs": [],
   "source": []
  }
 ],
 "metadata": {
  "kernelspec": {
   "display_name": "Python 3 (ipykernel)",
   "language": "python",
   "name": "python3"
  },
  "language_info": {
   "codemirror_mode": {
    "name": "ipython",
    "version": 3
   },
   "file_extension": ".py",
   "mimetype": "text/x-python",
   "name": "python",
   "nbconvert_exporter": "python",
   "pygments_lexer": "ipython3",
   "version": "3.11.9"
  }
 },
 "nbformat": 4,
 "nbformat_minor": 5
}
