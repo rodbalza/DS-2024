{
 "cells": [
  {
   "cell_type": "code",
   "execution_count": 1,
   "id": "223a452d-52c8-4f64-a4fe-6fafa20936da",
   "metadata": {},
   "outputs": [],
   "source": [
    "import numpy as np\n",
    "import pandas as pd\n",
    "import matplotlib as plt\n",
    "import seaborn as sns"
   ]
  },
  {
   "cell_type": "code",
   "execution_count": 2,
   "id": "4fb5b060-62bb-4958-8666-30663754c296",
   "metadata": {},
   "outputs": [],
   "source": [
    "# !pip install scipy\n",
    "# !pip install statsmodels\n",
    "# !pip install pingouin"
   ]
  },
  {
   "cell_type": "code",
   "execution_count": 2,
   "id": "af82fb1a-8e5d-43d9-87f3-f143816834d2",
   "metadata": {},
   "outputs": [],
   "source": [
    "from scipy import stats \n",
    "import statsmodels as sm\n",
    "import pingouin as pg"
   ]
  },
  {
   "cell_type": "markdown",
   "id": "e19b13c4-22c4-470d-84a4-670ff1067f10",
   "metadata": {},
   "source": [
    "# Estadistica para Ciencia de Datos"
   ]
  },
  {
   "cell_type": "markdown",
   "id": "8dbb52be-e37a-4a8e-8a8d-764f3ae2f1ca",
   "metadata": {},
   "source": [
    "# 1. Estadistica Descriptiva "
   ]
  },
  {
   "cell_type": "markdown",
   "id": "a34fc12a-4f10-4315-ae37-e3511a681b59",
   "metadata": {},
   "source": [
    "## Conceptos básicos"
   ]
  },
  {
   "cell_type": "markdown",
   "id": "c72e1fcf-542f-4455-ba44-d6d782031dba",
   "metadata": {},
   "source": [
    "## Introducción\n",
    "\n",
    "La estadística clásica se enfocó casi exclusivamente en la inferencia, un conjunto a veces complejo de procedimientos para sacar conclusiones sobre grandes poblaciones basadas en muestras pequeñas. En 1962, John W. Tukey llamó a una reforma de la estadística en su artículo seminal \"The Future of Data Analysis\" [Tukey-1962]. Propuso una nueva disciplina científica llamada análisis de datos que incluía la inferencia estadística como un componente más. Tukey presentó gráficos simples (por ejemplo, diagramas de caja, diagramas de dispersión) que, junto con estadísticas resumen (media, mediana, cuantiles, etc.), ayudan a pintar un cuadro de un conjunto de datos."
   ]
  },
  {
   "cell_type": "markdown",
   "id": "64f1c82b-da0f-4b9d-8c84-8d80ec6ddd40",
   "metadata": {},
   "source": [
    "## Tipos Básicos de Datos Estructurados  \n",
    "\n",
    "Hay dos tipos básicos de datos estructurados: `numéricos` y `categóricos`.  \n",
    "Los datos numéricos vienen en dos formas: `continuos`, como la velocidad del viento o la duración del tiempo, y `discretos`, como el conteo de la ocurrencia de un evento.  \n",
    "Los datos categóricos solo toman un conjunto fijo de valores, como el tipo de pantalla de TV (plasma, LCD, LED, etc.) o el nombre de un estado (Alabama, Alaska, etc.).  \n",
    "Los datos binarios son un caso especial de datos categóricos que toman solo uno de dos valores, como 0/1, sí/no, o verdadero/falso.  \n",
    "Otro tipo útil de datos categóricos son los datos ordinales en los que las categorías están ordenadas; un ejemplo de esto es una calificación numérica (1, 2, 3, 4 o 5), los grados en la ESO pueden clasificarse como ordinales.\n",
    "\n",
    "\n",
    "## Términos Clave para Tipos de Datos\n",
    "\n",
    "- **Numeric (Numérico)**: Datos que se expresan en una escala numérica.\n",
    "\n",
    "- **Continuous (Continuos)**: Datos que pueden tomar cualquier valor en un intervalo. (Sinónimos: intervalo, flotante, numérico)\n",
    "\n",
    "- **Discrete (Discretos)**: Datos que solo pueden tomar valores enteros, como conteos. (Sinónimos: entero, conteo)\n",
    "\n",
    "- **Categorical (Categóricos)**: Datos que solo pueden tomar un conjunto específico de valores que representan un conjunto de posibles categorías. (Sinónimos: enums, enumerados, factores, nominales)\n",
    "\n",
    "- **Binary (Binarios)**: Un caso especial de datos categóricos con solo dos categorías de valores, por ejemplo, 0/1, verdadero/falso. (Sinónimos: dicotómicos, lógicos, indicadores, booleanos)\n",
    "\n",
    "- **Ordinal (Ordinales)**: Datos categóricos que tienen un orden explícito. (Sinónimo: factor ordenado)\n",
    "\n",
    "\n"
   ]
  },
  {
   "cell_type": "markdown",
   "id": "b4c61129-4cbc-407f-9814-5d8e5c38471e",
   "metadata": {},
   "source": [
    "# Rectangular Data  \n",
    "\n",
    "Los datos rectangulares son el término general para un array bidimensional con filas que indican registros (casos) y columnas que indican características (features),  (variables); el data frame es el formato específico en R y Python.  \n",
    "Los datos no siempre comienzan en esta forma: los datos no estructurados (por ejemplo, texto) deben ser procesados y manipulados para que puedan ser representados como un conjunto de características en los datos rectangulares.  \n",
    "Los datos en bases de datos relacionales deben ser extraídos y puestos en una sola tabla para la mayoría de las tareas de análisis y modelado de datos.\n"
   ]
  },
  {
   "cell_type": "markdown",
   "id": "47303319-780f-4aa3-a89a-92660412af84",
   "metadata": {},
   "source": [
    "## Términos Clave para Datos Rectangulares\n",
    "\n",
    "- **Data frame**: Los datos rectangulares (como una hoja de cálculo) son la estructura de datos básica para modelos estadísticos y de aprendizaje automático.\n",
    "\n",
    "- **Feature**: Una columna dentro de una tabla es comúnmente referida como una característica.\n",
    "\n",
    "  - **Sinónimos**: atributo, input, predictor, variable\n",
    "\n",
    "- **Outcome**: Muchos proyectos de ciencia de datos involucran predecir un resultado, a menudo un resultado sí/no (en la Tabla 1-1, es \"auction was competitive or not\"). Las características a veces se utilizan para predecir el resultado en un experimento o estudio.\n",
    "\n",
    "  - **Sinónimos**: variable dependiente, respuesta, objetivo, output\n",
    "\n",
    "- **Records**: Una fila dentro de una tabla es comúnmente referida como un registro.\n",
    "\n",
    "  - **Sinónimos**: caso, ejemplo, instancia, observación, patrón, muestra"
   ]
  },
  {
   "cell_type": "markdown",
   "id": "a71c3b45-e485-4ce8-962f-1f48d7ca4771",
   "metadata": {},
   "source": [
    "### Tabla 1-1. Formato típico de un data frame\n",
    "\n",
    "| Category               | Currency | SellerRating | Duration | EndDay | ClosePrice | OpenPrice | Competitive? |\n",
    "|------------------------|----------|--------------|----------|--------|------------|-----------|--------------|\n",
    "| Music/Movie/Game       | US       | 3249         | 5        | Mon    | 0.01       | 0.01      | 0            |\n",
    "| Music/Movie/Game       | US       | 3249         | 5        | Mon    | 0.01       | 0.01      | 0            |\n",
    "| Automotive             | US       | 3115         | 7        | Tue    | 0.01       | 0.01      | 0            |\n",
    "| Automotive             | US       | 3115         | 7        | Tue    | 0.01       | 0.01      | 0            |\n",
    "| Automotive             | US       | 3115         | 7        | Tue    | 0.01       | 0.01      | 0            |\n",
    "| Automotive             | US       | 3115         | 7        | Tue    | 0.01       | 0.01      | 0            |\n",
    "| Automotive             | US       | 3115         | 7        | Tue    | 0.01       | 0.01      | 1            |\n",
    "| Automotive             | US       | 3115         | 7        | Tue    | 0.01       | 0.01      | 1            |\n",
    "| Automotive             | US       | 3115         | 7        | Tue    | 0.01       | 0.01      | 1            |\n",
    "| Automotive             | US       | 3115         | 7        | Tue    | 0.01       | 0.01      | 1            |\n",
    "\n",
    "En la Tabla 1-1, hay una mezcla de datos medidos o contados (por ejemplo, duración y precio) y datos categóricos (por ejemplo, categoría y moneda). Como se mencionó anteriormente, una forma especial de variable categórica es una variable binaria (sí/no o 0/1), vista en la columna más a la derecha en la Tabla 1-1: una variable indicadora que muestra si una subasta fue competitiva (tuvo múltiples postores) o no. Esta variable indicadora también resulta ser una variable de resultado, cuando el escenario es predecir si una subasta es competitiva o no."
   ]
  },
  {
   "cell_type": "markdown",
   "id": "74b02c63-a57d-4a82-ac20-6d496563cc3e",
   "metadata": {},
   "source": [
    "## Estructuras de Datos No Rectangulares\n",
    "\n",
    "Los **datos de series temporales** registran mediciones sucesivas de la misma variable. Es la materia prima para los métodos de pronóstico estadístico y también es un componente clave de los datos producidos por dispositivos: el Internet de las Cosas.\n",
    "\n",
    "Las **estructuras de datos espaciales**, que se utilizan en el mapeo y análisis de localización, son más complejas y variadas que las estructuras de datos rectangulares.   \n",
    "\n",
    "En la **representación de objetos**, el foco de los datos es un objeto (por ejemplo, una casa) y sus coordenadas espaciales. La vista de campo, por el contrario, se centra en pequeñas unidades de espacio y el valor de una métrica relevante (por ejemplo, el brillo de un píxel).\n",
    "\n",
    "Las **estructuras de datos de grafos (o redes)** se utilizan para representar relaciones físicas, sociales y abstractas. Por ejemplo, un grafo de una red social, como Facebook o LinkedIn, puede representar conexiones entre personas en la red. Los centros de distribución conectados por carreteras son un ejemplo de una red física. Las estructuras de grafos son útiles para ciertos tipos de problemas, como la optimización de redes y los sistemas de recomendación.\n",
    "\n"
   ]
  },
  {
   "cell_type": "markdown",
   "id": "84f16daf-1194-46e9-8879-4175e76e7409",
   "metadata": {},
   "source": [
    "# 1.1 Estimaciones de Ubicación (o medidas de tendencia central)\n",
    "\n",
    "Las variables con datos medidos o contados pueden tener miles de valores distintos. Un paso básico en la exploración de tus datos es obtener un \"valor típico\" para cada característica (variable): una estimación de dónde se encuentra la mayor parte de los datos (es decir, su tendencia central).\n",
    "\n",
    "## Términos Clave para Estimaciones de Ubicación\n",
    "\n",
    "- **Media**: La suma de todos los valores dividida por el número de valores.\n",
    "  - Sinónimo: promedio\n",
    "\n",
    "- **Media ponderada**: La suma de todos los valores multiplicados por un peso dividida por la suma de los pesos.\n",
    "  - Sinónimo: promedio ponderado\n",
    "\n",
    "- **Mediana**: El valor tal que la mitad de los datos está por encima y por debajo.\n",
    "  - Sinónimo: percentil 50\n",
    "\n",
    "- **Percentil**: El valor tal que P por ciento de los datos está por debajo.\n",
    "  - Sinónimo: cuantil\n",
    "\n",
    "- **Mediana ponderada**: El valor tal que la mitad de la suma de los pesos está por encima y por debajo de los datos ordenados.\n",
    "\n",
    "- **Media recortada**: El promedio de todos los valores después de eliminar un número fijo de valores extremos.\n",
    "  - Sinónimo: media truncada\n",
    "\n",
    "- **Robusto**: No sensible a valores extremos.\n",
    "  - Sinónimo: resistente\n",
    "\n",
    "- **Valor atípico**: Un valor de datos que es muy diferente de la mayoría de los datos.\n",
    "  - Sinónimo: valor extremo\n",
    "\n",
    "A primera vista, resumir los datos podría parecer bastante trivial: simplemente toma la media de los datos. De hecho, aunque la media es fácil de calcular y expedita de usar, puede que no siempre sea la mejor medida para un valor central. Por esta razón, los estadísticos han desarrollado y promovido varias estimaciones alternativas a la media.\n",
    "\n",
    "## Métricas y Estimaciones\n",
    "\n",
    "Los estadísticos a menudo usan el término estimación para un valor calculado a partir de los datos a la mano, para hacer una distinción entre lo que vemos en los datos y el estado teórico verdadero o exacto. Los científicos de datos y los analistas de negocios son más propensos a referirse a dicho valor como una métrica. "
   ]
  },
  {
   "cell_type": "markdown",
   "id": "0759fe5c-c3cb-498d-95bb-0e16765d7710",
   "metadata": {},
   "source": [
    "### Media\n",
    "\n",
    "La estimación más básica de la ubicación es la media, o valor promedio. La media es la suma de todos los valores dividida por el número de valores. Considera el siguiente conjunto de números: {3, 5, 1, 2}. La media es:\n",
    "\n",
    "$ \\text{Media} = \\frac{3 + 5 + 1 + 2}{4} = \\frac{11}{4} = 2.75 $\n",
    "\n",
    "Verás que se usa el símbolo $\\bar{x}$ (pronunciado \"x-barra\") para representar la media de una muestra de una población. La fórmula para calcular la media para un conjunto de $n$ valores $x_1, x_2, \\ldots, x_n$ es:\n",
    "\n",
    "$ \\bar{x} = \\frac{1}{n} \\sum_{i=1}^n x_i $"
   ]
  },
  {
   "cell_type": "markdown",
   "id": "e3baf9fd-b7c7-48f9-ab90-25a78cd30aa7",
   "metadata": {},
   "source": [
    "**Ejemplos**"
   ]
  },
  {
   "cell_type": "markdown",
   "id": "7e07b130-91a9-47e4-9592-7c74cbb24529",
   "metadata": {},
   "source": [
    "#### Con SciPy"
   ]
  },
  {
   "cell_type": "code",
   "execution_count": 4,
   "id": "81ddb98b-49a9-4ecb-9cba-87ecc039ddbb",
   "metadata": {},
   "outputs": [
    {
     "data": {
      "text/plain": [
       "array([ 3,  5,  1,  2,  7,  8, 10,  6,  4,  9])"
      ]
     },
     "execution_count": 4,
     "metadata": {},
     "output_type": "execute_result"
    }
   ],
   "source": [
    "import numpy as np\n",
    "from scipy import stats\n",
    "\n",
    "# Crear un conjunto de datos de ejemplo\n",
    "data = np.array([3, 5, 1, 2, 7, 8, 10, 6, 4, 9])\n",
    "data"
   ]
  },
  {
   "cell_type": "code",
   "execution_count": 5,
   "id": "aec66746-a3be-4488-9851-1f8528694c4b",
   "metadata": {},
   "outputs": [
    {
     "name": "stdout",
     "output_type": "stream",
     "text": [
      "Media usando SciPy: 5.5\n"
     ]
    }
   ],
   "source": [
    "# Calcular la media usando scipy\n",
    "mean_scipy = np.mean(data)\n",
    "print(\"Media usando SciPy:\", mean_scipy)"
   ]
  },
  {
   "cell_type": "markdown",
   "id": "9c3a4646-35b9-4962-919c-1f75f9e5fa34",
   "metadata": {},
   "source": [
    "#### Usando Pandas"
   ]
  },
  {
   "cell_type": "code",
   "execution_count": 6,
   "id": "3e0cc2e6-6f93-4b52-b629-8240a3e0f574",
   "metadata": {},
   "outputs": [
    {
     "data": {
      "text/html": [
       "<div>\n",
       "<style scoped>\n",
       "    .dataframe tbody tr th:only-of-type {\n",
       "        vertical-align: middle;\n",
       "    }\n",
       "\n",
       "    .dataframe tbody tr th {\n",
       "        vertical-align: top;\n",
       "    }\n",
       "\n",
       "    .dataframe thead th {\n",
       "        text-align: right;\n",
       "    }\n",
       "</style>\n",
       "<table border=\"1\" class=\"dataframe\">\n",
       "  <thead>\n",
       "    <tr style=\"text-align: right;\">\n",
       "      <th></th>\n",
       "      <th>values</th>\n",
       "    </tr>\n",
       "  </thead>\n",
       "  <tbody>\n",
       "    <tr>\n",
       "      <th>0</th>\n",
       "      <td>3</td>\n",
       "    </tr>\n",
       "    <tr>\n",
       "      <th>1</th>\n",
       "      <td>5</td>\n",
       "    </tr>\n",
       "    <tr>\n",
       "      <th>2</th>\n",
       "      <td>1</td>\n",
       "    </tr>\n",
       "    <tr>\n",
       "      <th>3</th>\n",
       "      <td>2</td>\n",
       "    </tr>\n",
       "    <tr>\n",
       "      <th>4</th>\n",
       "      <td>7</td>\n",
       "    </tr>\n",
       "    <tr>\n",
       "      <th>5</th>\n",
       "      <td>8</td>\n",
       "    </tr>\n",
       "    <tr>\n",
       "      <th>6</th>\n",
       "      <td>10</td>\n",
       "    </tr>\n",
       "    <tr>\n",
       "      <th>7</th>\n",
       "      <td>6</td>\n",
       "    </tr>\n",
       "    <tr>\n",
       "      <th>8</th>\n",
       "      <td>4</td>\n",
       "    </tr>\n",
       "    <tr>\n",
       "      <th>9</th>\n",
       "      <td>9</td>\n",
       "    </tr>\n",
       "  </tbody>\n",
       "</table>\n",
       "</div>"
      ],
      "text/plain": [
       "   values\n",
       "0       3\n",
       "1       5\n",
       "2       1\n",
       "3       2\n",
       "4       7\n",
       "5       8\n",
       "6      10\n",
       "7       6\n",
       "8       4\n",
       "9       9"
      ]
     },
     "execution_count": 6,
     "metadata": {},
     "output_type": "execute_result"
    }
   ],
   "source": [
    "import pandas as pd\n",
    "\n",
    "# Crear un DataFrame de ejemplo\n",
    "df = pd.DataFrame({'values': [3, 5, 1, 2, 7, 8, 10, 6, 4, 9]})\n",
    "df"
   ]
  },
  {
   "cell_type": "code",
   "execution_count": 7,
   "id": "8d3ff1e5-66c3-43d4-b39a-99f9b02334be",
   "metadata": {},
   "outputs": [
    {
     "name": "stdout",
     "output_type": "stream",
     "text": [
      "Media usando Pandas: 5.5\n"
     ]
    }
   ],
   "source": [
    "# Calcular la media usando pandas\n",
    "mean_pandas = df['values'].mean()\n",
    "print(\"Media usando Pandas:\", mean_pandas)"
   ]
  },
  {
   "cell_type": "markdown",
   "id": "631edfff-84c7-4fcc-b5bb-b6c43e27e077",
   "metadata": {},
   "source": [
    "#### Usando Statsmodels"
   ]
  },
  {
   "cell_type": "code",
   "execution_count": 8,
   "id": "70e7d66d-465c-4496-8686-9a6bd4dac0ec",
   "metadata": {},
   "outputs": [
    {
     "name": "stdout",
     "output_type": "stream",
     "text": [
      "Media usando Statsmodels: 5.500000000000001\n"
     ]
    }
   ],
   "source": [
    "import statsmodels.api as sm\n",
    "import pandas as pd\n",
    "\n",
    "# Crear un DataFrame de ejemplo\n",
    "df = pd.DataFrame({'values': [3, 5, 1, 2, 7, 8, 10, 6, 4, 9]})\n",
    "\n",
    "# Agregar una columna de unos para representar el intercepto\n",
    "df['intercept'] = 1\n",
    "\n",
    "# Ajustar un modelo de regresión sin variables explicativas, solo el intercepto\n",
    "model = sm.OLS(df['values'], df['intercept']).fit()\n",
    "\n",
    "# La media es el valor del intercepto\n",
    "mean_statsmodels = model.params['intercept']\n",
    "print(\"Media usando Statsmodels:\", mean_statsmodels)"
   ]
  },
  {
   "cell_type": "markdown",
   "id": "07eb5976-60d7-4da4-aade-9ddaae4a9dde",
   "metadata": {},
   "source": [
    "**Calcula la media de los mismos datos dados arriba pero esta vez usando la libreria pingouine**"
   ]
  },
  {
   "cell_type": "markdown",
   "id": "92d7383f-03b9-4086-8ebd-03a90adf795f",
   "metadata": {},
   "source": [
    "Una variación de la media es una media recortada (trimmed mean), que se calcula eliminando un número fijo de valores ordenados en cada extremo y luego tomando un promedio de los valores restantes. Representando los valores ordenados por $x_1, x_2, \\ldots, x_n$ donde $x_1$ es el valor más pequeño y $x_n$ el más grande, la fórmula para calcular la media recortada con $p$ valores más pequeños y más grandes omitidos es:\n",
    "\n",
    "$\\bar{x}_{\\text{recortada}} = \\frac{1}{n - 2p} \\sum_{i=p+1}^{n-p} x_i$\n",
    "\n",
    "Una media recortada elimina la influencia de valores extremos. Por ejemplo, en el buceo internacional se eliminan la puntuación más alta y más baja de cinco jueces, y la puntuación final es el promedio de las puntuaciones de los tres jueces restantes. Esto hace que sea difícil para un solo juez manipular la puntuación, quizás para favorecer al concursante de su país. Las medias recortadas se utilizan ampliamente y, en muchos casos, son preferibles a usar la media ordinaria."
   ]
  },
  {
   "cell_type": "markdown",
   "id": "c92a863a-8e24-461e-93c0-5e85a9a2e069",
   "metadata": {},
   "source": [
    "**Ejempos con Python**"
   ]
  },
  {
   "cell_type": "markdown",
   "id": "1df54d01-ffc0-4e2c-ba73-04161079049d",
   "metadata": {},
   "source": [
    "#### SciPy"
   ]
  },
  {
   "cell_type": "code",
   "execution_count": 9,
   "id": "76a53f2c-6308-4984-a05a-f1fc721bc968",
   "metadata": {},
   "outputs": [
    {
     "name": "stdout",
     "output_type": "stream",
     "text": [
      "Media recortada usando SciPy: 5.5\n"
     ]
    }
   ],
   "source": [
    "import numpy as np\n",
    "from scipy.stats import trim_mean\n",
    "\n",
    "# Crear un conjunto de datos de ejemplo\n",
    "data = np.array([3, 5, 1, 2, 7, 8, 10, 6, 4, 9])\n",
    "\n",
    "# Calcular la media recortada usando scipy\n",
    "trimmed_mean_scipy = trim_mean(data, 0.1)  # Recorta el 10% de cada extremo\n",
    "print(\"Media recortada usando SciPy:\", trimmed_mean_scipy)"
   ]
  },
  {
   "cell_type": "markdown",
   "id": "11b25b05-5ef9-443c-a78e-54024b3829c1",
   "metadata": {},
   "source": [
    "#### Pandas"
   ]
  },
  {
   "cell_type": "code",
   "execution_count": 10,
   "id": "6aace7ae-5426-429f-8316-b3442814db64",
   "metadata": {},
   "outputs": [
    {
     "name": "stdout",
     "output_type": "stream",
     "text": [
      "Media recortada usando Pandas: 5.5\n"
     ]
    }
   ],
   "source": [
    "import pandas as pd\n",
    "\n",
    "# Crear un DataFrame de ejemplo\n",
    "df = pd.DataFrame({'values': [3, 5, 1, 2, 7, 8, 10, 6, 4, 9]})\n",
    "\n",
    "# Calcular la media recortada usando pandas\n",
    "trimmed_df = df['values'].sort_values().iloc[int(0.1*len(df)):int(0.9*len(df))]\n",
    "trimmed_mean_pandas = trimmed_df.mean()\n",
    "print(\"Media recortada usando Pandas:\", trimmed_mean_pandas)"
   ]
  },
  {
   "cell_type": "markdown",
   "id": "d82bf026-35aa-440a-bcbd-17bc8e204a47",
   "metadata": {},
   "source": [
    "**Explique el código de arriba**"
   ]
  },
  {
   "cell_type": "markdown",
   "id": "385aa47c-e4d7-4a18-b4f2-3c808dab369e",
   "metadata": {},
   "source": [
    "#### Statsmodels  \n",
    "No tiene un método directo. Se calcula de forma indirecta."
   ]
  },
  {
   "cell_type": "code",
   "execution_count": 11,
   "id": "2f6a3a67-0a53-473c-95fd-d86c59dbb766",
   "metadata": {},
   "outputs": [
    {
     "name": "stdout",
     "output_type": "stream",
     "text": [
      "Media recortada usando una función personalizada con Statsmodels: 5.5\n"
     ]
    }
   ],
   "source": [
    "import statsmodels.api as sm\n",
    "import pandas as pd\n",
    "import numpy as np\n",
    "\n",
    "# Crear un DataFrame de ejemplo\n",
    "df = pd.DataFrame({'values': [3, 5, 1, 2, 7, 8, 10, 6, 4, 9]})\n",
    "\n",
    "# Usar una función personalizada para calcular la media recortada\n",
    "def trimmed_mean(data, proportiontocut):\n",
    "    n = len(data)\n",
    "    k = int(n * proportiontocut)\n",
    "    trimmed_data = np.sort(data)[k:n-k]\n",
    "    return np.mean(trimmed_data)\n",
    "\n",
    "# Calcular la media recortada usando la función personalizada\n",
    "trimmed_mean_statsmodels = trimmed_mean(df['values'], 0.1)\n",
    "print(\"Media recortada usando una función personalizada con Statsmodels:\", trimmed_mean_statsmodels)\n"
   ]
  },
  {
   "cell_type": "markdown",
   "id": "782ee632-2c57-42f5-a529-dd074c553b40",
   "metadata": {},
   "source": [
    "**Explique el código de arriba**"
   ]
  },
  {
   "cell_type": "markdown",
   "id": "fbfbb928-69cd-4d3d-ada5-d80b5af09755",
   "metadata": {},
   "source": [
    "### Investigar como se calcula la media recortada con pingouine"
   ]
  },
  {
   "cell_type": "markdown",
   "id": "8bbe904a-af0f-44e8-bb72-832023540ed1",
   "metadata": {},
   "source": [
    "Otro tipo de media es una `media ponderada (weighted mean)`, que se calcula multiplicando cada valor de datos $x_i$ por un peso especificado por el usuario $w_i$ y dividiendo su suma por la suma de los pesos. La fórmula para una media ponderada es:\n",
    "\n",
    "$\\bar{x}_w = \\frac{\\sum_{i=1}^n w_i x_i}{\\sum_{i=1}^n w_i}$\n",
    "\n",
    "Hay dos motivaciones principales para usar una media ponderada:\n",
    "\n",
    "- Algunos valores son intrínsecamente más variables que otros, y las observaciones altamente variables se les da un peso menor. Por ejemplo, si estamos tomando el promedio de múltiples sensores y uno de los sensores es menos preciso, entonces podríamos darle menos peso a los datos de ese sensor.\n",
    "- Los datos recopilados no representan igualmente a los diferentes grupos que estamos interesados en medir. Por ejemplo, debido a la forma en que se realizó un experimento en línea, es posible que no tengamos un conjunto de datos que refleje con precisión todos los grupos en la base de usuarios. Para corregir eso, podemos dar un mayor peso a los valores de los grupos que estaban subrepresentados."
   ]
  },
  {
   "cell_type": "markdown",
   "id": "16ecbb43-ff32-46e3-9d4d-052a4e00458d",
   "metadata": {},
   "source": [
    "**Ejemplos con Python**"
   ]
  },
  {
   "cell_type": "markdown",
   "id": "dcd311b9-5328-41aa-becf-079ee86c6e10",
   "metadata": {},
   "source": [
    "Vamos a utilizar un conjunto de datos simple donde cada valor tiene un peso asociado:"
   ]
  },
  {
   "cell_type": "code",
   "execution_count": 12,
   "id": "11dbfea1-c847-4328-9d80-f2d4444db395",
   "metadata": {},
   "outputs": [],
   "source": [
    "values = np.array([3, 5, 1, 2, 7, 8, 10, 6, 4, 9])\n",
    "weights = np.array([1, 2, 1, 1, 2, 1, 3, 2, 1, 2])"
   ]
  },
  {
   "cell_type": "markdown",
   "id": "d163a237-2e7b-4da4-9c17-ed7fb05aff74",
   "metadata": {},
   "source": [
    "#### Scipy"
   ]
  },
  {
   "cell_type": "code",
   "execution_count": 13,
   "id": "eac09d93-5aec-45da-93c5-cfd434319827",
   "metadata": {},
   "outputs": [
    {
     "name": "stdout",
     "output_type": "stream",
     "text": [
      "Media ponderada usando SciPy: 6.375\n"
     ]
    }
   ],
   "source": [
    "import numpy as np\n",
    "from scipy.stats import describe\n",
    "\n",
    "# Crear un conjunto de datos de ejemplo\n",
    "values = np.array([3, 5, 1, 2, 7, 8, 10, 6, 4, 9])\n",
    "weights = np.array([1, 2, 1, 1, 2, 1, 3, 2, 1, 2])\n",
    "\n",
    "# Calcular la media ponderada usando scipy\n",
    "weighted_mean_scipy = np.average(values, weights=weights)\n",
    "print(\"Media ponderada usando SciPy:\", weighted_mean_scipy)"
   ]
  },
  {
   "cell_type": "markdown",
   "id": "fd803f53-90ba-49d9-99bb-6ff72ed012ff",
   "metadata": {},
   "source": [
    "#### Pandas"
   ]
  },
  {
   "cell_type": "code",
   "execution_count": 14,
   "id": "acc677ee-b86d-4be2-9167-26db9ac620a0",
   "metadata": {},
   "outputs": [
    {
     "name": "stdout",
     "output_type": "stream",
     "text": [
      "Media ponderada usando Pandas: 6.375\n"
     ]
    }
   ],
   "source": [
    "import pandas as pd\n",
    "\n",
    "# Crear un DataFrame de ejemplo\n",
    "df = pd.DataFrame({'values': [3, 5, 1, 2, 7, 8, 10, 6, 4, 9],\n",
    "                   'weights': [1, 2, 1, 1, 2, 1, 3, 2, 1, 2]})\n",
    "\n",
    "# Calcular la media ponderada usando pandas\n",
    "weighted_mean_pandas = np.average(df['values'], weights=df['weights'])\n",
    "print(\"Media ponderada usando Pandas:\", weighted_mean_pandas)"
   ]
  },
  {
   "cell_type": "markdown",
   "id": "ff222b57-a07c-4e3b-a44f-c2daa0f2370f",
   "metadata": {},
   "source": [
    "#### Statsmodels"
   ]
  },
  {
   "cell_type": "code",
   "execution_count": 15,
   "id": "854e5b70-c98a-4428-ad2d-ab69866adf6d",
   "metadata": {},
   "outputs": [
    {
     "name": "stdout",
     "output_type": "stream",
     "text": [
      "Media ponderada usando Statsmodels: 6.3750000000000036\n"
     ]
    }
   ],
   "source": [
    "import statsmodels.api as sm\n",
    "import pandas as pd\n",
    "import numpy as np\n",
    "\n",
    "# Crear un DataFrame de ejemplo\n",
    "df = pd.DataFrame({'values': [3, 5, 1, 2, 7, 8, 10, 6, 4, 9],\n",
    "                   'weights': [1, 2, 1, 1, 2, 1, 3, 2, 1, 2]})\n",
    "\n",
    "# Añadir una columna de unos para representar el intercepto\n",
    "df['intercept'] = 1\n",
    "\n",
    "# Ajustar un modelo de regresión ponderado\n",
    "model = sm.WLS(df['values'], df[['intercept']], weights=df['weights']).fit()\n",
    "\n",
    "# La media ponderada es el valor del intercepto\n",
    "weighted_mean_statsmodels = model.params['intercept']\n",
    "print(\"Media ponderada usando Statsmodels:\", weighted_mean_statsmodels)"
   ]
  },
  {
   "cell_type": "markdown",
   "id": "04335797-aca7-427f-817e-5c3e00752535",
   "metadata": {},
   "source": [
    "**Explicar código de arriba**"
   ]
  },
  {
   "cell_type": "markdown",
   "id": "a58a7bad-3dbe-4813-857d-22180569acf5",
   "metadata": {},
   "source": [
    "#### Investigar cómo se calcula media ponderada usando pingouine"
   ]
  },
  {
   "cell_type": "markdown",
   "id": "cb5804cd-5762-4548-a860-3dea0cade866",
   "metadata": {},
   "source": [
    "### Mediana y Estimaciones Robustas\n",
    "\n",
    "La mediana es el número central en una lista ordenada de los datos. Si hay un número par de valores de datos, el valor central es uno que no está realmente en el conjunto de datos, sino el promedio de los dos valores que dividen los datos ordenados en mitades superior e inferior. En comparación con la media, que utiliza todas las observaciones, la mediana depende solo de los valores en el centro de los datos ordenados. Aunque esto podría parecer una desventaja, ya que la media es mucho más sensible a los datos, hay muchos casos en los que la mediana es una mejor métrica para la ubicación.\n",
    "\n",
    "Supongamos que queremos observar los ingresos familiares típicos en vecindarios alrededor del Lago Washington en Seattle. Al comparar el vecindario de Medina con el de Windermere, usar la media produciría resultados muy diferentes porque Bill Gates vive en Medina. Si usamos la mediana, no importará cuán rico sea Bill Gates, la posición de la observación central seguirá siendo la misma.\n",
    "\n",
    "Por las mismas razones que se usa una media ponderada, también es posible calcular una mediana ponderada. Al igual que con la mediana, primero ordenamos los datos, aunque cada valor de datos tiene un peso asociado. En lugar del número central, la mediana ponderada es un valor tal que la suma de los pesos es igual para las mitades inferior y superior de la lista ordenada. Al igual que la mediana, la mediana ponderada es robusta frente a valores atípicos."
   ]
  },
  {
   "cell_type": "markdown",
   "id": "8e501458-7ae3-4542-bce8-736108c0efd2",
   "metadata": {},
   "source": [
    "**Ejemplos con Python**"
   ]
  },
  {
   "cell_type": "markdown",
   "id": "6f5d5570-3598-4b2a-98f7-74e97a761504",
   "metadata": {},
   "source": [
    "#### SciPy (Numpy)"
   ]
  },
  {
   "cell_type": "code",
   "execution_count": 16,
   "id": "db7a76e2-7f41-4121-a155-c2031ff9b2b7",
   "metadata": {},
   "outputs": [
    {
     "name": "stdout",
     "output_type": "stream",
     "text": [
      "Mediana usando 'SciPy': 5.5\n"
     ]
    }
   ],
   "source": [
    "import numpy as np\n",
    "\n",
    "# Crear un conjunto de datos de ejemplo\n",
    "data = np.array([3, 5, 1, 2, 7, 8, 10, 6, 4, 9])\n",
    "\n",
    "# Calcular la mediana usando numpy (parte de scipy)\n",
    "median_scipy = np.median(data)\n",
    "print(\"Mediana usando 'SciPy':\", median_scipy)"
   ]
  },
  {
   "cell_type": "markdown",
   "id": "48071243-8a94-47cb-8a56-a9adc6d0c3a9",
   "metadata": {},
   "source": [
    "#### Pandas (completar)"
   ]
  },
  {
   "cell_type": "code",
   "execution_count": null,
   "id": "8a9763a9-6dde-420e-826c-1c627a2e664e",
   "metadata": {},
   "outputs": [],
   "source": []
  },
  {
   "cell_type": "markdown",
   "id": "6fdc6429-6ec2-4f6d-99c0-ac03215e33dc",
   "metadata": {},
   "source": [
    "#### pingouine (completar)"
   ]
  },
  {
   "cell_type": "code",
   "execution_count": null,
   "id": "f9f1e25a-a1ae-4077-a0e7-8be78fd06d10",
   "metadata": {},
   "outputs": [],
   "source": []
  },
  {
   "cell_type": "markdown",
   "id": "51291386-61b3-4082-a1ea-dad31084848f",
   "metadata": {},
   "source": [
    "#### Statsmodels"
   ]
  },
  {
   "cell_type": "markdown",
   "id": "6e873bf2-9ff9-4493-9212-72d518b7e91a",
   "metadata": {},
   "source": [
    "Statsmodels no tiene una función directa para calcular la mediana. Sin embargo, podemos usar una `regresión cuantílica` para calcularla, ya que la mediana es el cuantil 0.5."
   ]
  },
  {
   "cell_type": "code",
   "execution_count": 17,
   "id": "8717b63f-a27e-4b39-9b7f-98ada92bd0a2",
   "metadata": {},
   "outputs": [
    {
     "name": "stdout",
     "output_type": "stream",
     "text": [
      "Mediana usando Statsmodels: 5.499999999999998\n"
     ]
    },
    {
     "name": "stderr",
     "output_type": "stream",
     "text": [
      "C:\\Users\\juanj\\AppData\\Local\\Temp\\ipykernel_11180\\768756127.py:13: FutureWarning: Series.__getitem__ treating keys as positions is deprecated. In a future version, integer keys will always be treated as labels (consistent with DataFrame behavior). To access a value by position, use `ser.iloc[pos]`\n",
      "  median_statsmodels = res.params[0]\n"
     ]
    }
   ],
   "source": [
    "import statsmodels.api as sm\n",
    "import pandas as pd\n",
    "import numpy as np\n",
    "\n",
    "# Crear un DataFrame de ejemplo\n",
    "df = pd.DataFrame({'values': [3, 5, 1, 2, 7, 8, 10, 6, 4, 9]})\n",
    "\n",
    "# Ajustar un modelo de regresión cuantílica para calcular la mediana\n",
    "quant_reg = sm.QuantReg(df['values'], np.ones(len(df['values'])))\n",
    "res = quant_reg.fit(q=0.5)\n",
    "\n",
    "# La mediana es el coeficiente del modelo\n",
    "median_statsmodels = res.params[0]\n",
    "print(\"Mediana usando Statsmodels:\", median_statsmodels)"
   ]
  },
  {
   "cell_type": "markdown",
   "id": "7cff792a-ae6b-42bc-bfdd-96295225c473",
   "metadata": {},
   "source": [
    "### Valores Atípicos\n",
    "\n",
    "La mediana se refiere como una estimación robusta de la ubicación ya que no se ve influenciada por valores atípicos (casos extremos) que podrían sesgar los resultados. Un valor atípico es cualquier valor que está muy distante de los otros valores en un conjunto de datos. La definición exacta de un valor atípico es algo subjetiva, aunque ciertas convenciones se utilizan en varios resúmenes de datos y gráficos. Ser un valor atípico en sí mismo no hace que un valor de datos sea inválido o erróneo. Aun así, los valores atípicos a menudo son el resultado de errores de datos como mezclar datos de diferentes unidades (kilómetros frente a metros) o lecturas incorrectas de un sensor. Cuando los valores atípicos son el resultado de datos incorrectos, la media dará lugar a una mala estimación de la ubicación, mientras que la mediana seguirá siendo válida. En cualquier caso, los valores atípicos deben ser identificados y generalmente merecen una investigación adicional."
   ]
  },
  {
   "cell_type": "markdown",
   "id": "740e1529-d72b-4596-826f-2d163b696b25",
   "metadata": {},
   "source": [
    "#### Detección de Anomalías\n",
    "\n",
    "En contraste con el análisis típico de datos, donde los valores atípicos son a veces informativos y otras veces una molestia, en la detección de anomalías los puntos de interés son los valores atípicos, y la mayor parte de los datos sirve principalmente para definir lo \"normal\" contra lo cual se miden las anomalías.\n",
    "\n",
    "La mediana no es la única estimación robusta de la ubicación. De hecho, una media recortada se utiliza ampliamente para evitar la influencia de valores atípicos. Por ejemplo, recortar el 10% inferior y superior (una elección común) de los datos proporcionará protección contra valores atípicos en todos los conjuntos de datos, excepto en los más pequeños. La media recortada puede considerarse un compromiso entre la mediana y la media: es robusta frente a valores extremos en los datos, pero utiliza más datos para calcular la estimación de la ubicación. "
   ]
  },
  {
   "cell_type": "markdown",
   "id": "d5c17fb6-0f2d-4e48-b6b7-dc97693dcce8",
   "metadata": {},
   "source": [
    "#### Ejercicio 1: Estimaciones de Ubicación de la Población y las Tasas de Homicidios\n",
    "\n",
    "La Tabla 1-2 muestra las primeras filas del conjunto de datos que contiene la población y las tasas de homicidios (en unidades de asesinatos por cada 100,000 personas por año) para cada estado de EE. UU. (Censo de 2010).\n",
    "\n",
    "| Estado       | Población  | Tasa de Homicidios | Abreviatura |\n",
    "|--------------|-------------|-------------------|-------------|\n",
    "| Alabama      | 4,779,736   | 5.7               | AL          |\n",
    "| Alaska       | 710,231     | 5.6               | AK          |\n",
    "| Arizona      | 6,392,017   | 4.7               | AZ          |\n",
    "| Arkansas     | 2,915,918   | 5.6               | AR          |\n",
    "| California   | 37,253,956  | 4.4               | CA          |\n",
    "| Colorado     | 5,029,196   | 2.8               | CO          |\n",
    "| Connecticut  | 3,574,097   | 2.4               | CT          |\n",
    "| Delaware     | 897,934     | 5.8               | DE          |\n",
    "\n",
    "Calcula la media, la media recortada, la media ponderada y la mediana para la población usando Pandas, Scipy y Pingouine (Opcional: Statsmodels). Utilice el fichero `state.csv`"
   ]
  },
  {
   "cell_type": "markdown",
   "id": "ad80e081-e27c-46b5-8a3e-e286e9e898eb",
   "metadata": {},
   "source": [
    "#### Ejercicio 2. Investigar cómo se interpreta estadísticamente la medida de tendecia central: `moda`.  \n",
    "Buscar ejemplos concretos donde se aplique la moda. Desarrolle un ejemplo con Pandas, Scipy, Statsmodels y Pingouine"
   ]
  },
  {
   "cell_type": "markdown",
   "id": "5c5f5770-8ccc-49dd-b8f5-2687d06bd10a",
   "metadata": {},
   "source": [
    "### 1.2 Estimaciones de Variabilidad o medidas de variación"
   ]
  },
  {
   "cell_type": "markdown",
   "id": "80fe8b26-9234-4aab-8148-f2a39243fdb7",
   "metadata": {},
   "source": [
    "La ubicación es solo una dimensión para resumir una característica. Una segunda dimensión, la variabilidad, también conocida como dispersión, mide si los valores de los datos están estrechamente agrupados o dispersos. En el corazón de la estadística se encuentra la variabilidad: medirla, reducirla, distinguir la variabilidad aleatoria de la real, identificar las diversas fuentes de variabilidad real y tomar decisiones en su presencia."
   ]
  },
  {
   "cell_type": "markdown",
   "id": "4ca4db42-e86f-4c39-b62a-662a6ef634d7",
   "metadata": {},
   "source": [
    "## Términos Clave para Métricas de Variabilidad\n",
    "\n",
    "- **Desviaciones (error absoluto)**: La diferencia entre los valores observados y la estimación de ubicación.\n",
    "  - Sinónimos: errores, residuales.\n",
    "  \n",
    "- **Varianza $s^{2}$**: La suma de las desviaciones al cuadrado con respecto a la media, dividida por n - 1, donde n es el número de valores de datos.\n",
    "  - Sinónimo: error cuadrático medio.\n",
    "  \n",
    "- **Desviación estándar**: La raíz cuadrada de la varianza.\n",
    "  \n",
    "- **Desviación absoluta media**: La media de los valores absolutos de las desviaciones con respecto a la media.\n",
    "  - Sinónimos: norma L1, norma Manhattan.\n",
    "  \n",
    "- **Desviación absoluta mediana desde la mediana**: La mediana de los valores absolutos de las desviaciones con respecto a la mediana.\n",
    "  \n",
    "- **Rango**: La diferencia entre el valor más grande y el más pequeño en un conjunto de datos.\n",
    "  \n",
    "- **Estadísticas de orden**: Métricas basadas en los valores de los datos ordenados de menor a mayor.\n",
    "  - Sinónimo: rangos.\n",
    "  \n",
    "- **Percentil**: El valor tal que P por ciento de los valores toman este valor o menos y (100 - P) por ciento toman este valor o más.\n",
    "  - Sinónimo: cuantil.\n",
    "  \n",
    "- **Rango intercuartílico (IQR)**: La diferencia entre el percentil 75 y el percentil 25.\n",
    "  - Sinónimo: IQR.\n",
    "\n",
    "Así como hay diferentes formas de medir la ubicación (media, mediana, etc.), también hay diferentes formas de medir la variabilidad."
   ]
  },
  {
   "cell_type": "markdown",
   "id": "1b7fc6fe-182b-4903-ba17-0bfb92799c12",
   "metadata": {},
   "source": [
    "## Desviación Estándar y Estimaciones Relacionadas\n",
    "\n",
    "Las estimaciones de variación más utilizadas se basan en las diferencias, o desviaciones, entre la estimación de la ubicación y los datos observados. Para un conjunto de datos {1, 4, 4}, la media es 3 y la mediana es 4. Las desviaciones con respecto a la media son las diferencias: 1 - 3 = -2, 4 - 3 = 1, 4 - 3 = 1. Estas desviaciones nos dicen cuán dispersos están los datos alrededor del valor central.\n",
    "\n",
    "Una forma de medir la variabilidad es estimar un valor típico para estas desviaciones. Promediar las desviaciones en sí mismas no nos diría mucho: las desviaciones negativas compensan las positivas. De hecho, la suma de las desviaciones con respecto a la media es precisamente cero. En cambio, un enfoque simple es tomar el promedio de los valores absolutos de las desviaciones con respecto a la media. En el ejemplo anterior, el valor absoluto de las desviaciones es {2, 1, 1}, y su promedio es (2 + 1 + 1) / 3 = 1.33. Esto se conoce como desviación absoluta media y se calcula con la fórmula:\n",
    "\n",
    "$\n",
    "\\text{Desviación absoluta media} = \\frac{\\sum_{i=1}^{n} |x_i - \\bar{x}|}{n}\n",
    "$\n",
    "\n",
    "donde $\\bar{x}$ es la media de la muestra."
   ]
  },
  {
   "cell_type": "markdown",
   "id": "c7b24f4b-e909-401c-b03b-f37250539a2d",
   "metadata": {},
   "source": [
    "### Ejemplo de Cálculo de la Desviación Absoluta Media.  \n",
    "\n",
    "Supongamos que tenemos los siguientes datos de ejemplo:  \n",
    "<div style=\"text-align: center;\">\n",
    "$x = [1, 2, 3, 4, 5, 6, 7, 8, 100]$  \n",
    "</div>\n",
    "\n",
    "1. **Calcular la Media**:\n",
    "   <div style=\"text-align: center;\">\n",
    "   \\[\n",
    "   \\text{media} = \\frac{1 + 2 + 3 + 4 + 5 + 6 + 7 + 8 + 100}{9} = \\frac{136}{9} \\approx 15.11\n",
    "   \\]\n",
    "   </div>\n",
    "\n",
    "2. **Calcular las Desviaciones Absolutas de la Media**:\n",
    "   <div style=\"text-align: center;\">\n",
    "   \\[\n",
    "   |1 - 15.11|, |2 - 15.11|, |3 - 15.11|, |4 - 15.11|, |5 - 15.11|, |6 - 15.11|, |7 - 15.11|, |8 - 15.11|, |100 - 15.11|\n",
    "   \\]\n",
    "   \\[\n",
    "   \\approx 14.11, 13.11, 12.11, 11.11, 10.11, 9.11, 8.11, 7.11, 84.89\n",
    "   \\]\n",
    "   </div>\n",
    "\n",
    "3. **Calcular la Media de las Desviaciones Absolutas (MAD)**:\n",
    "   <div style=\"text-align: center;\">\n",
    "   \\[\n",
    "   \\text{MAD} = \\frac{14.11 + 13.11 + 12.11 + 11.11 + 10.11 + 9.11 + 8.11 + 7.11 + 84.89}{9} \\approx 18.31\n",
    "   \\]\n",
    "   </div>\n",
    "\n",
    "### Interpretación\n",
    "\n",
    "En este ejemplo, la MAD es aproximadamente 18.31. Esto significa que, en promedio, las desviaciones absolutas de los datos respecto a la media son de 18.31 unidades. La MAD indica la dispersión promedio de los datos alrededor de la media y puede ser influenciada por valores atípicos."
   ]
  },
  {
   "cell_type": "markdown",
   "id": "6a1f6490-7ac5-4c05-b362-7ad4fa7cf125",
   "metadata": {},
   "source": [
    "### Ejemplos con Python"
   ]
  },
  {
   "cell_type": "markdown",
   "id": "ed688987-a44b-47ec-bf38-23fecb88881c",
   "metadata": {},
   "source": [
    "#### Con Scipy (Numpy)"
   ]
  },
  {
   "cell_type": "code",
   "execution_count": 68,
   "id": "78def68c-da38-4dfc-9cdc-a72614e52df2",
   "metadata": {},
   "outputs": [
    {
     "name": "stdout",
     "output_type": "stream",
     "text": [
      "Desviación absoluta media usando SciPy: 18.864197530864196\n"
     ]
    }
   ],
   "source": [
    "import numpy as np\n",
    "\n",
    "# Crear un conjunto de datos de ejemplo\n",
    "data = np.array([1, 2, 3, 4, 5, 6, 7, 8, 100])\n",
    "\n",
    "# Calcular la desviación absoluta media usando numpy (parte de scipy)\n",
    "mean = np.mean(data)\n",
    "mad_scipy = np.mean(np.abs(data - mean))\n",
    "print(\"Desviación absoluta media usando SciPy:\", mad_scipy)"
   ]
  },
  {
   "cell_type": "markdown",
   "id": "83baaed2-5217-4c2b-9b22-95b1b8d7ad5b",
   "metadata": {},
   "source": [
    "#### Con Pandas"
   ]
  },
  {
   "cell_type": "code",
   "execution_count": 69,
   "id": "109a32e7-3ad5-4bbd-b0f4-7414a7d7532d",
   "metadata": {},
   "outputs": [
    {
     "name": "stdout",
     "output_type": "stream",
     "text": [
      "Desviación absoluta media usando Pandas: 18.864197530864196\n"
     ]
    }
   ],
   "source": [
    "import pandas as pd\n",
    "import numpy as np\n",
    "\n",
    "# Crear un DataFrame de ejemplo\n",
    "df = pd.DataFrame({'values': [1, 2, 3, 4, 5, 6, 7, 8, 100]})\n",
    "\n",
    "# Calcular la desviación absoluta media usando pandas\n",
    "mean = df['values'].mean()\n",
    "mad_pandas = np.mean(np.abs(df['values'] - mean))\n",
    "print(\"Desviación absoluta media usando Pandas:\", mad_pandas)"
   ]
  },
  {
   "cell_type": "markdown",
   "id": "dcbf47fd-dc09-4aed-9d93-a4906be8561e",
   "metadata": {},
   "source": [
    "#### Con Statsmodels"
   ]
  },
  {
   "cell_type": "code",
   "execution_count": 70,
   "id": "a0dba792-f80e-40c9-8ac3-1e7a32995903",
   "metadata": {},
   "outputs": [
    {
     "name": "stdout",
     "output_type": "stream",
     "text": [
      "Desviación absoluta media usando Statsmodels (manual): 18.864197530864196\n"
     ]
    }
   ],
   "source": [
    "import statsmodels.api as sm\n",
    "import pandas as pd\n",
    "import numpy as np\n",
    "\n",
    "df = pd.DataFrame({'values': [1, 2, 3, 4, 5, 6, 7, 8, 100]})\n",
    "\n",
    "# Calcular la media\n",
    "mean = df['values'].mean()\n",
    "\n",
    "# Calcular la desviación absoluta media manualmente\n",
    "mad_mean_statsmodels = np.mean(np.abs(df['values'] - mean))\n",
    "print(\"Desviación absoluta media usando Statsmodels (manual):\", mad_mean_statsmodels)"
   ]
  },
  {
   "cell_type": "markdown",
   "id": "f7e65a8c-46a9-4039-8559-be6552684067",
   "metadata": {},
   "source": [
    "#### Calcular usando pingouine"
   ]
  },
  {
   "cell_type": "code",
   "execution_count": null,
   "id": "ac709e3d-96fd-4de1-93b3-d17e734a20b1",
   "metadata": {},
   "outputs": [],
   "source": []
  },
  {
   "cell_type": "markdown",
   "id": "1a1778f7-1e79-4399-ab70-78c1ef66e645",
   "metadata": {},
   "source": [
    "### Varianza"
   ]
  },
  {
   "cell_type": "markdown",
   "id": "891c3407-619d-4db7-98ab-ed0565aa857c",
   "metadata": {},
   "source": [
    "Las estimaciones más conocidas de la variabilidad son la varianza y la desviación estándar, que se basan en desviaciones al cuadrado. La varianza es un promedio de las desviaciones al cuadrado y la desviación estándar es la raíz cuadrada de la varianza:\n",
    "\n",
    "$\n",
    "\\text{Varianza} = s^2 = \\frac{\\sum_{i=1}^{n} (x_i - \\bar{x})^2}{n - 1}\n",
    "$  \n",
    "\n",
    "La varianza es una medida de dispersión que indica cuánto varían los datos respecto a su media. Se calcula como el promedio de las desviaciones al cuadrado de cada valor con respecto a la media.\n"
   ]
  },
  {
   "cell_type": "markdown",
   "id": "30db1804-1b9a-45dc-afe8-ec980ce96c2c",
   "metadata": {},
   "source": [
    "1. **Calcular la Media**:\n",
    "   <div style=\"text-align: center;\">\n",
    "   \\[\n",
    "   \\text{media} = \\frac{1}{n} \\sum_{i=1}^{n} x_i\n",
    "   \\]\n",
    "   </div>\n",
    "\n",
    "2. **Calcular las Desviaciones al Cuadrado**:\n",
    "   <div style=\"text-align: center;\">\n",
    "   \\[\n",
    "   (x_i - \\text{media})^2\n",
    "   \\]\n",
    "   </div>\n",
    "\n",
    "3. **Calcular la Varianza**:\n",
    "   <div style=\"text-align: center;\">\n",
    "   \\[\n",
    "   \\text{Varianza} = \\frac{1}{n} \\sum_{i=1}^{n} (x_i - \\text{media})^2\n",
    "   \\]\n",
    "   </div>\n",
    "\n",
    "### Interpretación de la Varianza\n",
    "\n",
    "- **Medida de Dispersión**: La varianza mide cuánto se dispersan los valores en un conjunto de datos en relación con la media. Valores de varianza más altos indican mayor dispersión.\n",
    "- **Sensibilidad a Outliers**: La varianza es sensible a valores atípicos porque las desviaciones al cuadrado pueden aumentar significativamente debido a valores extremos.\n",
    "- **Unidades Cuadradas**: La varianza se expresa en las mismas unidades que los datos originales, pero al cuadrado. Esto puede dificultar la interpretación directa de la varianza en comparación con la desviación estándar, que está en las mismas unidades que los datos originales."
   ]
  },
  {
   "cell_type": "markdown",
   "id": "60e3fede-aaba-41d0-b1e9-e176ae8dad07",
   "metadata": {},
   "source": [
    "### Ejemplo Numérico\n",
    "\n",
    "Supongamos que tenemos los siguientes datos de ejemplo:  \n",
    "\n",
    "<div style=\"text-align: center;\">\n",
    "\\[ x = [1, 2, 3, 4, 5, 6, 7, 8, 100] \\]\n",
    "</div>  \n",
    "\n",
    "**Calcular la Media**:\n",
    "\n",
    "<div style=\"text-align: center;\">\n",
    "\\[\n",
    "\\text{media} = \\frac{1 + 2 + 3 + 4 + 5 + 6 + 7 + 8 + 100}{9} = \\frac{136}{9} \\approx 15.11\n",
    "\\]\n",
    "</div>  \n",
    "\n",
    "**Calcular las Desviaciones al Cuadrado**:\n",
    "\n",
    "<div style=\"text-align: center;\">\n",
    "\\[\n",
    "(1 - 15.11)^2, (2 - 15.11)^2, (3 - 15.11)^2, (4 - 15.11)^2, (5 - 15.11)^2, (6 - 15.11)^2, (7 - 15.11)^2, (8 - 15.11)^2, (100 - 15.11)^2\n",
    "\\]\n",
    "\\[\n",
    "\\approx 198.24, 171.14, 145.03, 119.93, 95.82, 72.72, 50.61, 29.51, 7205.45\n",
    "\\]\n",
    "</div>  \n",
    "\n",
    "**Calcular la Varianza**:\n",
    "\n",
    "<div style=\"text-align: center;\">\n",
    "\\[\n",
    "\\text{Varianza} = \\frac{198.24 + 171.14 + 145.03 + 119.93 + 95.82 + 72.72 + 50.61 + 29.51 + 7205.45}{9} \\approx 905.27\n",
    "\\]\n",
    "</div>"
   ]
  },
  {
   "cell_type": "markdown",
   "id": "89a53e7e-ec22-49f3-9397-07a4612414bc",
   "metadata": {},
   "source": [
    "#### Ejemplos en Python"
   ]
  },
  {
   "cell_type": "markdown",
   "id": "86967a53-3b81-4bf3-b5a7-43f9e8f32019",
   "metadata": {},
   "source": [
    "#### Con Pandas"
   ]
  },
  {
   "cell_type": "code",
   "execution_count": 73,
   "id": "199ea9f7-e7bd-4be4-9baf-48e4dd78584b",
   "metadata": {},
   "outputs": [
    {
     "name": "stdout",
     "output_type": "stream",
     "text": [
      "Varianza usando Pandas: 905.4320987654321\n"
     ]
    }
   ],
   "source": [
    "import pandas as pd\n",
    "\n",
    "# Crear un DataFrame de ejemplo\n",
    "df = pd.DataFrame({'values': [1, 2, 3, 4, 5, 6, 7, 8, 100]})\n",
    "\n",
    "# Calcular la varianza usando pandas\n",
    "var_pandas = df['values'].var(ddof=0)  # ddof=0 para la varianza de la población\n",
    "print(\"Varianza usando Pandas:\", var_pandas)"
   ]
  },
  {
   "cell_type": "markdown",
   "id": "c4072aa9-b2b3-49f6-8da6-11d3e6f87a1e",
   "metadata": {},
   "source": [
    "#### Con SciPy"
   ]
  },
  {
   "cell_type": "code",
   "execution_count": 74,
   "id": "8ea1ecbd-13a8-425d-8bd0-a0b6a981eba0",
   "metadata": {},
   "outputs": [
    {
     "name": "stdout",
     "output_type": "stream",
     "text": [
      "Varianza usando SciPy: 905.4320987654321\n"
     ]
    }
   ],
   "source": [
    "from scipy import stats\n",
    "\n",
    "# Calcular la varianza usando scipy\n",
    "var_scipy = stats.tvar(data, ddof=0)  # ddof=0 para la varianza de la población\n",
    "print(\"Varianza usando SciPy:\", var_scipy)"
   ]
  },
  {
   "cell_type": "markdown",
   "id": "97449822-6925-42dd-91d1-7d3e25bf14bb",
   "metadata": {},
   "source": [
    "#### Con Statsmodels (Numpy)  "
   ]
  },
  {
   "cell_type": "code",
   "execution_count": 78,
   "id": "5f7dedf3-b91b-43cc-8108-6eddca14b8e9",
   "metadata": {},
   "outputs": [
    {
     "name": "stdout",
     "output_type": "stream",
     "text": [
      "Varianza usando Statsmodels: 905.4320987654321\n"
     ]
    }
   ],
   "source": [
    "import statsmodels.api as sm\n",
    "import numpy as np\n",
    "import pandas as pd\n",
    "\n",
    "# Crear un conjunto de datos de ejemplo\n",
    "data = np.array([1, 2, 3, 4, 5, 6, 7, 8, 100])\n",
    "df = pd.DataFrame({'values': data})\n",
    "\n",
    "# Calcular la media\n",
    "mean = df['values'].mean()\n",
    "\n",
    "# Calcular la varianza manualmente usando statsmodels\n",
    "var_statsmodels = np.mean((df['values'] - mean) ** 2)\n",
    "print(\"Varianza usando Statsmodels:\", var_statsmodels)\n"
   ]
  },
  {
   "cell_type": "markdown",
   "id": "090194c1-ffd5-40fb-8312-2b3cd48f421c",
   "metadata": {},
   "source": [
    "#### Con pingouine (Completar)"
   ]
  },
  {
   "cell_type": "code",
   "execution_count": null,
   "id": "b873c508-4a1b-4870-9c2c-7b4b0d7840f7",
   "metadata": {},
   "outputs": [],
   "source": []
  },
  {
   "cell_type": "markdown",
   "id": "fddc7a12-8073-4469-bc85-bd081dd34c28",
   "metadata": {},
   "source": [
    "### Desviación estándar o típica."
   ]
  },
  {
   "cell_type": "markdown",
   "id": "0f85f78e-db97-4467-ae89-bd47e51c74a7",
   "metadata": {},
   "source": [
    "$\n",
    "\\text{Desviación estándar} = s = \\sqrt{\\text{Varianza}}\n",
    "$\n",
    "\n",
    "La desviación estándar es mucho más fácil de interpretar que la varianza, ya que está en la misma escala que los datos originales. Aún así, con su fórmula más complicada y menos intuitiva, podría parecer peculiar que la desviación estándar sea preferida en estadística sobre la desviación absoluta media. Debe su preeminencia a la teoría estadística: matemáticamente, trabajar con valores al cuadrado es mucho más conveniente que con valores absolutos, especialmente para modelos estadísticos."
   ]
  },
  {
   "cell_type": "markdown",
   "id": "88a6f84a-b4bf-49a8-bdef-ef1d2193d1d9",
   "metadata": {},
   "source": [
    "**Para un conjunto de datos**:  \n",
    "\n",
    "<div style=\"text-align: center;\">\n",
    "$x = [x_1, x_2, \\ldots, x_n]$:  \n",
    "</div>  \n",
    "\n",
    "1. **Calcular la Media**:\n",
    "   <div style=\"text-align: center;\">\n",
    "   \\[\n",
    "   \\text{media} = \\frac{1}{n} \\sum_{i=1}^{n} x_i\n",
    "   \\]\n",
    "   </div>\n",
    "\n",
    "2. **Calcular las Desviaciones al Cuadrado**:\n",
    "   <div style=\"text-align: center;\">\n",
    "   \\[\n",
    "   (x_i - \\text{media})^2\n",
    "   \\]\n",
    "   </div>\n",
    "\n",
    "3. **Calcular la Varianza**:\n",
    "   <div style=\"text-align: center;\">\n",
    "   \\[\n",
    "   \\text{Varianza} = \\frac{1}{n} \\sum_{i=1}^{n} (x_i - \\text{media})^2\n",
    "   \\]\n",
    "   </div>\n",
    "\n",
    "4. **Calcular la Desviación Estándar**:\n",
    "   <div style=\"text-align: center;\">\n",
    "   \\[\n",
    "   \\text{Desviación Estándar} = \\sqrt{\\text{Varianza}}\n",
    "   \\]\n",
    "   </div>"
   ]
  },
  {
   "cell_type": "markdown",
   "id": "59e171db-ade6-4fa5-af98-821b6e029c01",
   "metadata": {},
   "source": [
    "### Interpretación de la Desviación Estándar\n",
    "\n",
    "- **Medida de Dispersión**: La desviación estándar mide cuánto se dispersan los valores en un conjunto de datos en relación con la media. Valores de desviación estándar más altos indican mayor dispersión.\n",
    "- **Comparabilidad**: A diferencia de la varianza, la desviación estándar se expresa en las mismas unidades que los datos originales, lo que facilita su interpretación.\n",
    "- **Sensibilidad a Outliers**: Al igual que la varianza, la desviación estándar es sensible a valores atípicos porque se basa en las desviaciones al cuadrado."
   ]
  },
  {
   "cell_type": "markdown",
   "id": "befe33c3-2744-40fe-9e7e-e044ff3d8e5a",
   "metadata": {},
   "source": [
    "### Ejemplo Numérico\n",
    "\n",
    "Supongamos que tenemos los siguientes datos de ejemplo:  \n",
    "<div style=\"text-align: center;\">\n",
    "\\[ x = [1, 2, 3, 4, 5, 6, 7, 8, 100] \\]\n",
    "</div>\n",
    "\n",
    "1. **Calcular la Media**:\n",
    "   <div style=\"text-align: center;\">\n",
    "   \\[\n",
    "   \\text{media} = \\frac{1 + 2 + 3 + 4 + 5 + 6 + 7 + 8 + 100}{9} = \\frac{136}{9} \\approx 15.11\n",
    "   \\]\n",
    "   </div>\n",
    "\n",
    "2. **Calcular las Desviaciones al Cuadrado**:\n",
    "   <div style=\"text-align: center;\">\n",
    "   \\[\n",
    "   (1 - 15.11)^2, (2 - 15.11)^2, (3 - 15.11)^2, (4 - 15.11)^2, (5 - 15.11)^2, (6 - 15.11)^2, (7 - 15.11)^2, (8 - 15.11)^2, (100 - 15.11)^2\n",
    "   \\]\n",
    "   \\[\n",
    "   \\approx 198.24, 171.14, 145.03, 119.93, 95.82, 72.72, 50.61, 29.51, 7205.45\n",
    "   \\]\n",
    "   </div>\n",
    "\n",
    "3. **Calcular la Varianza**:\n",
    "   <div style=\"text-align: center;\">\n",
    "   \\[\n",
    "   \\text{Varianza} = \\frac{198.24 + 171.14 + 145.03 + 119.93 + 95.82 + 72.72 + 50.61 + 29.51 + 7205.45}{9} \\approx 905.27\n",
    "   \\]\n",
    "   </div>\n",
    "\n",
    "4. **Calcular la Desviación Estándar**:\n",
    "   <div style=\"text-align: center;\">\n",
    "   \\[\n",
    "   \\text{Desviación Estándar} = \\sqrt{905.27} \\approx 30.08\n",
    "   \\]\n",
    "   </div>\n"
   ]
  },
  {
   "cell_type": "markdown",
   "id": "52b02ce8-d8ea-4b6f-962f-05a8c3960f77",
   "metadata": {},
   "source": [
    "#### SciPy (Numpy)"
   ]
  },
  {
   "cell_type": "code",
   "execution_count": 80,
   "id": "125d520a-6f76-459b-8d37-9fb4b53ba3c6",
   "metadata": {},
   "outputs": [
    {
     "name": "stdout",
     "output_type": "stream",
     "text": [
      "Desviación estándar usando SciPy: 31.915687539376478\n"
     ]
    }
   ],
   "source": [
    "import numpy as np\n",
    "from scipy import stats\n",
    "\n",
    "# Crear un conjunto de datos de ejemplo\n",
    "data = np.array([1, 2, 3, 4, 5, 6, 7, 8, 100])\n",
    "\n",
    "# Calcular la desviación estándar usando numpy (parte de scipy)\n",
    "std_dev_scipy = np.std(data, ddof=1)  # ddof=1 para una muestra\n",
    "print(\"Desviación estándar usando SciPy:\", std_dev_scipy)"
   ]
  },
  {
   "cell_type": "markdown",
   "id": "ed7543b1-e852-47e2-a2fe-ba44e0cfbe23",
   "metadata": {},
   "source": [
    "#### Pandas"
   ]
  },
  {
   "cell_type": "code",
   "execution_count": 81,
   "id": "800686c0-0f5e-4444-9570-f00e771f7864",
   "metadata": {},
   "outputs": [
    {
     "name": "stdout",
     "output_type": "stream",
     "text": [
      "Desviación estándar usando Pandas: 31.915687539376478\n"
     ]
    }
   ],
   "source": [
    "import pandas as pd\n",
    "\n",
    "# Crear un DataFrame de ejemplo\n",
    "df = pd.DataFrame({'values': [1, 2, 3, 4, 5, 6, 7, 8, 100]})\n",
    "\n",
    "# Calcular la desviación estándar usando pandas\n",
    "std_dev_pandas = df['values'].std()\n",
    "print(\"Desviación estándar usando Pandas:\", std_dev_pandas)"
   ]
  },
  {
   "cell_type": "markdown",
   "id": "38c5c4f9-e510-4bb6-ae11-6238d25697b1",
   "metadata": {},
   "source": [
    "#### Statsmodels"
   ]
  },
  {
   "cell_type": "code",
   "execution_count": 82,
   "id": "6676d56c-65fb-4f4d-a710-97bd9cc11425",
   "metadata": {},
   "outputs": [
    {
     "name": "stdout",
     "output_type": "stream",
     "text": [
      "Desviación estándar usando Statsmodels (de los residuales): 31.915687539376478\n"
     ]
    }
   ],
   "source": [
    "import statsmodels.api as sm\n",
    "import pandas as pd\n",
    "import numpy as np\n",
    "\n",
    "# Crear un DataFrame de ejemplo\n",
    "df = pd.DataFrame({'values': [1, 2, 3, 4, 5, 6, 7, 8, 100]})\n",
    "\n",
    "# Agregar una columna de unos para representar el intercepto\n",
    "df['intercept'] = 1\n",
    "\n",
    "# Ajustar un modelo OLS (mínimos cuadrados ordinarios)\n",
    "model = sm.OLS(df['values'], df['intercept']).fit()\n",
    "\n",
    "# Calcular la desviación estándar de los residuales\n",
    "residuals = model.resid\n",
    "std_dev_statsmodels = np.std(residuals, ddof=1)  # ddof=1 para una muestra\n",
    "print(\"Desviación estándar usando Statsmodels (de los residuales):\", std_dev_statsmodels)"
   ]
  },
  {
   "cell_type": "markdown",
   "id": "fa808b23-f1a9-492c-a404-901c9f3151d6",
   "metadata": {},
   "source": [
    "#### Pingouin (completar)"
   ]
  },
  {
   "cell_type": "code",
   "execution_count": null,
   "id": "b1704a23-4307-445f-9b3e-5c0a92bd1ece",
   "metadata": {},
   "outputs": [],
   "source": []
  },
  {
   "cell_type": "markdown",
   "id": "13ec562d-639a-4af9-a989-fd78559421aa",
   "metadata": {},
   "source": [
    "### Desviación absoluta mediana"
   ]
  },
  {
   "cell_type": "markdown",
   "id": "66dd2898-aadb-4374-95d4-5088bc6a6821",
   "metadata": {},
   "source": [
    "Ni la varianza, ni la desviación estándar, ni la desviación absoluta media son robustas frente a valores atípicos y extremos . La varianza y la desviación estándar son especialmente sensibles a los valores atípicos.  \n",
    "Una estimación robusta de la variabilidad es la desviación absoluta mediana :  \n",
    "<div style=\"text-align: center;\">\n",
    "$\\text{Desviación absoluta mediana} = \\text{Mediana} \\left( |x_1 - m|, |x_2 - m|, \\ldots, |x_N - m| \\right)$    \n",
    "</div>  \n",
    "\n",
    "donde $m$ es la mediana. Al igual que la mediana, el MAD no se ve influenciado por valores extremos.  \n",
    "\n",
    "Se utiliza para detectar valores atípicos (outliers) en un conjunto de datos . La detección de outliers se basan en establecer un valor umbral. Si los valores superan dicho umbral entonces se consideran outliers (Ver ejemplo 2). "
   ]
  },
  {
   "cell_type": "markdown",
   "id": "3e012cc6-e7b9-4fa7-969b-8d49085f88fa",
   "metadata": {},
   "source": [
    "### Ejemplo Numérico de Cálculo de la Desviación Absoluta de la Mediana (MAD)"
   ]
  },
  {
   "cell_type": "markdown",
   "id": "ec9fd9e2-9976-45e4-9758-200f9ef9f9f0",
   "metadata": {},
   "source": [
    "Supongamos que tenemos el siguiente conjunto de datos:  \n",
    "\n",
    "<div style=\"text-align: center;\">\n",
    "\\[ x = [3, 1, 5, 3, 6, 7, 2, 9, 150] \\]\n",
    "</div> "
   ]
  },
  {
   "cell_type": "markdown",
   "id": "8ed878c0-dcf3-4215-acc8-17eab9eafff9",
   "metadata": {},
   "source": [
    "#### Paso 1: Calcular la Mediana\n",
    "\n",
    "Primero, ordenamos los datos en orden ascendente:  \n",
    "\n",
    "<div style=\"text-align: center;\">\n",
    "\\[ x_{\\text{ordenado}} = [1, 2, 3, 3, 5, 6, 7, 9, 150] \\]\n",
    "</div>  \n",
    "La mediana es el valor que divide el conjunto de datos en dos partes iguales. Dado que tenemos un número impar de observaciones (9), la mediana es la observación central:  \n",
    "<div style=\"text-align: center;\">\n",
    "\\[ \\text{Mediana} = x_5 = 5 \\]\n",
    "</div>"
   ]
  },
  {
   "cell_type": "markdown",
   "id": "c4d20f8f-873a-4fb4-b282-5819a4925c99",
   "metadata": {},
   "source": [
    "#### Paso 2: Calcular las Desviaciones Absolutas respecto a la Mediana  \n",
    "\n",
    "Calculamos la desviación absoluta de cada valor respecto a la mediana:  \n",
    "\n",
    "<div style=\"text-align: center;\">\n",
    "\\[\n",
    "\\begin{align*}\n",
    "|1 - 5| &= 4 \\\\\n",
    "|2 - 5| &= 3 \\\\\n",
    "|3 - 5| &= 2 \\\\\n",
    "|3 - 5| &= 2 \\\\\n",
    "|5 - 5| &= 0 \\\\\n",
    "|6 - 5| &= 1 \\\\\n",
    "|7 - 5| &= 2 \\\\\n",
    "|9 - 5| &= 4 \\\\\n",
    "|150 - 5| &= 145 \\\\\n",
    "\\end{align*}\n",
    "\\]\n",
    "</div>  \n",
    "\n",
    "Las desviaciones absolutas son:  \n",
    "\n",
    "<div style=\"text-align: center;\">\n",
    "\\[ \\text{Desviaciones Absolutas} = [4, 3, 2, 2, 0, 1, 2, 4, 145] \\]\n",
    "</div> "
   ]
  },
  {
   "cell_type": "markdown",
   "id": "0689d1ac-d780-478b-9fe5-59c509217bb4",
   "metadata": {},
   "source": [
    "#### Paso 3: Calcular la Mediana de las Desviaciones Absolutas  \n",
    "\n",
    "Ordenamos las desviaciones absolutas en orden ascendente:  \n",
    "\n",
    "<div style=\"text-align: center;\">\n",
    "\\[ \\text{Desviaciones Absolutas Ordenadas} = [0, 1, 2, 2, 2, 3, 4, 4, 145] \\]\n",
    "</div>  \n",
    "\n",
    "La mediana de las desviaciones absolutas es la observación central (dado que hay un número impar de observaciones):  \n",
    "\n",
    "<div style=\"text-align: center;\">\n",
    "\\[ \\text{MAD} = 2 \\]\n",
    "</div>  "
   ]
  },
  {
   "cell_type": "markdown",
   "id": "89030622-ac3a-40a4-b9e8-5f0c3901513c",
   "metadata": {},
   "source": [
    "### Interpretación\n",
    "\n",
    "La Desviación Absoluta Mediana (MAD) es una medida robusta de la variabilidad de los datos, que no se ve influenciada por valores atípicos. En este ejemplo, la MAD es 2."
   ]
  },
  {
   "cell_type": "markdown",
   "id": "731c9ea1-0957-4c86-b547-5d3cca94c930",
   "metadata": {},
   "source": [
    "#### Ejemplos en Python"
   ]
  },
  {
   "cell_type": "markdown",
   "id": "fdf8125b-4784-4fa9-9a5d-e2dafbc69cf0",
   "metadata": {},
   "source": [
    "#### SciPy"
   ]
  },
  {
   "cell_type": "code",
   "execution_count": 1,
   "id": "d5c7009e-cd92-49a7-a11c-67015c8fe135",
   "metadata": {},
   "outputs": [
    {
     "name": "stdout",
     "output_type": "stream",
     "text": [
      "Desviación absoluta mediana usando NumPy: 2.0\n"
     ]
    }
   ],
   "source": [
    "import numpy as np\n",
    "\n",
    "# Crear un conjunto de datos de ejemplo\n",
    "data = np.array([3, 1, 5, 3, 6, 7, 2, 9, 150])\n",
    "\n",
    "# Calcular la mediana\n",
    "median = np.median(data)\n",
    "\n",
    "# Calcular la desviación absoluta mediana (MAD) usando numpy\n",
    "mad_numpy = np.median(np.abs(data - median))\n",
    "print(\"Desviación absoluta mediana usando NumPy:\", mad_numpy)\n"
   ]
  },
  {
   "cell_type": "markdown",
   "id": "94de3640-a3ab-441d-b423-9efa85f8d59f",
   "metadata": {},
   "source": [
    "#### Pandas"
   ]
  },
  {
   "cell_type": "code",
   "execution_count": 2,
   "id": "cd74d5e0-8a86-46d6-adff-13e2aabaa030",
   "metadata": {},
   "outputs": [
    {
     "name": "stdout",
     "output_type": "stream",
     "text": [
      "Desviación absoluta mediana usando Pandas: 2.0\n"
     ]
    }
   ],
   "source": [
    "import pandas as pd\n",
    "import numpy as np\n",
    "\n",
    "# Crear un DataFrame de ejemplo\n",
    "df = pd.DataFrame({'values': data})\n",
    "\n",
    "# Calcular la mediana\n",
    "median = df['values'].median()\n",
    "\n",
    "# Calcular la desviación absoluta mediana (MAD) usando pandas\n",
    "mad_pandas = np.median(np.abs(df['values'] - median))\n",
    "print(\"Desviación absoluta mediana usando Pandas:\", mad_pandas)"
   ]
  },
  {
   "cell_type": "code",
   "execution_count": 3,
   "id": "29d44196-97dc-453f-8bf0-58e0d244d90c",
   "metadata": {},
   "outputs": [
    {
     "name": "stdout",
     "output_type": "stream",
     "text": [
      "Desviación absoluta mediana usando Statsmodels: 2.0\n"
     ]
    }
   ],
   "source": [
    "import statsmodels.api as sm\n",
    "import pandas as pd\n",
    "import numpy as np\n",
    "\n",
    "# Crear un DataFrame de ejemplo\n",
    "df = pd.DataFrame({'values': data})\n",
    "\n",
    "# Calcular la desviación absoluta mediana (MAD) usando statsmodels sin escala\n",
    "mad_statsmodels = sm.robust.scale.mad(df['values'], c=1)\n",
    "print(\"Desviación absoluta mediana usando Statsmodels:\", mad_statsmodels)"
   ]
  },
  {
   "cell_type": "markdown",
   "id": "6d364d0e-e361-4a76-8fc5-d8d193801dba",
   "metadata": {},
   "source": [
    "#### Detección de ouliers usando MAD (similar a z-score modificado)"
   ]
  },
  {
   "cell_type": "markdown",
   "id": "1fb42300-7229-41f9-a375-974642f9d04c",
   "metadata": {},
   "source": [
    "##### Caso simple: Detección de outliers en precios de casas"
   ]
  },
  {
   "cell_type": "markdown",
   "id": "74cc58ae-3661-4ec4-91aa-b11980e5bbee",
   "metadata": {},
   "source": [
    "#### Dataset:"
   ]
  },
  {
   "cell_type": "code",
   "execution_count": 34,
   "id": "ed012046-33e2-4be4-afc3-9f910dc99c90",
   "metadata": {},
   "outputs": [
    {
     "name": "stdout",
     "output_type": "stream",
     "text": [
      "    precio_casa\n",
      "0        250000\n",
      "1        300000\n",
      "2        150000\n",
      "3        200000\n",
      "4        500000\n",
      "5        230000\n",
      "6        260000\n",
      "7        270000\n",
      "8        280000\n",
      "9        220000\n",
      "10      1000000\n"
     ]
    }
   ],
   "source": [
    "import pandas as pd\n",
    "import numpy as np\n",
    "\n",
    "data = {\n",
    "    'precio_casa': [250000, 300000, 150000, 200000, 500000, 230000, 260000, 270000, 280000, 220000, 1000000]  \n",
    "# Incluye un outlier: 1000000\n",
    "}\n",
    "df = pd.DataFrame(data)\n",
    "print(df)"
   ]
  },
  {
   "cell_type": "markdown",
   "id": "3db0d249-976a-43a7-9f30-6a7d0e4f6fe1",
   "metadata": {},
   "source": [
    "**1- Calcular la Mediana y la Desviación Absoluta Mediana (MAD)**"
   ]
  },
  {
   "cell_type": "code",
   "execution_count": 35,
   "id": "d1e9c32e-0051-4784-af8b-b63030086b27",
   "metadata": {},
   "outputs": [
    {
     "name": "stdout",
     "output_type": "stream",
     "text": [
      "Mediana del precio de las casas: 260000.0\n",
      "Desviación absoluta mediana (MAD): 40000.0\n"
     ]
    }
   ],
   "source": [
    "# Calcular la mediana\n",
    "mediana = df['precio_casa'].median()\n",
    "print(f\"Mediana del precio de las casas: {mediana}\")\n",
    "\n",
    "# Calcular la desviación absoluta mediana (MAD)\n",
    "mad = np.median(np.abs(df['precio_casa'] - mediana))\n",
    "print(f\"Desviación absoluta mediana (MAD): {mad}\")\n"
   ]
  },
  {
   "cell_type": "markdown",
   "id": "d201d663-9f7f-4677-aae7-02cbab30fd9f",
   "metadata": {},
   "source": [
    "**2-Detectar Outliers usando la MAD**"
   ]
  },
  {
   "cell_type": "markdown",
   "id": "eccaf378-4442-4b91-8cbc-33598364551c",
   "metadata": {},
   "source": [
    "Establecemos un umbral basado en la MAD para detectar outliers. Un umbral común es **3 veces** la MAD."
   ]
  },
  {
   "cell_type": "code",
   "execution_count": 36,
   "id": "d7d8675c-f717-4c9c-a590-96f7082364e7",
   "metadata": {},
   "outputs": [
    {
     "name": "stdout",
     "output_type": "stream",
     "text": [
      "Umbral para detectar outliers: 120000.0\n",
      "Outliers detectados usando MAD:\n",
      "    precio_casa\n",
      "4        500000\n",
      "10      1000000\n"
     ]
    }
   ],
   "source": [
    "# Establecer el umbral para detectar outliers\n",
    "umbral = 3 * mad\n",
    "print(f\"Umbral para detectar outliers: {umbral}\")\n",
    "\n",
    "# Detectar outliers\n",
    "outliers = df[np.abs(df['precio_casa'] - mediana) > umbral]\n",
    "print(\"Outliers detectados usando MAD:\")\n",
    "print(outliers)"
   ]
  },
  {
   "cell_type": "markdown",
   "id": "56a38a29-2ec8-4ca4-847a-bfe7af54883c",
   "metadata": {},
   "source": [
    "### Cálculo del Umbral para Detectar Outliers\r\n",
    "\r\n",
    "La fórmula para calcular el umbral es:\r\n",
    "\r\n",
    "<div style=\"text-align: center;\">\r\n",
    "  \\[\r\n",
    "  \\text{Umbral} = k \\times \\text{MAD}\r\n",
    "  \\]\r\n",
    "</div>\r\n",
    "\r\n",
    "donde \\( k \\) es un factor de escala (comúnmente 3).\r\n",
    "\r\n",
    "#### Pasos para Calcular el Umbral y Detectar Outliers\r\n",
    "\r\n",
    "1. **Calcular la Mediana (\\( m \\)) del Conjunto de Datos**:\r\n",
    "\r\n",
    "<div style=\"text-align: center;\">\r\n",
    "  \\[\r\n",
    "  m = \\text{mediana}(x_1, x_2, \\ldots, x_n)\r\n",
    "  \\]\r\n",
    "</div>\r\n",
    "\r\n",
    "2. **Calcular las Desviaciones Absolutas respecto a la Mediana**:\r\n",
    "\r\n",
    "<div style=\"text-align: center;\">\r\n",
    "  \\[\r\n",
    "  |x_i - m|\r\n",
    "  \\]\r\n",
    "</div>\r\n",
    "\r\n",
    "3. **Calcular la Mediana de las Desviaciones Absolutas (MAD)**:\r\n",
    "\r\n",
    "<div style=\"text-align: center;\">\r\n",
    "  \\[\r\n",
    "  \\text{MAD} = \\text{mediana}(|x_1 - m|, |x_2 - m|, \\ldots, |x_n - m|)\r\n",
    "  \\]\r\n",
    "</div>\r\n",
    "\r\n",
    "4. **Establecer el Umbral para Detectar Outliers**:\r\n",
    "\r\n",
    "<div style=\"text-align: center;\">\r\n",
    "  \\[\r\n",
    "  \\text{Umbral} = k \\times \\text{MAD}\r\n",
    "  \\]\r\n",
    "</div>\r\n",
    "\r\n",
    "5. **Identificar Valores que Exceden el Umbral**:\r\n",
    "\r\n",
    "   Los valores que se consideran outliers son aquellos donde:\r\n",
    "\r\n",
    "<div style=\"text-align: center;\">\r\n",
    "  \\[\r\n",
    "  |x_i - m| > \\text{Umbral}\r\n",
    "  \\]\r\n",
    "</div>\r\n"
   ]
  },
  {
   "cell_type": "markdown",
   "id": "2efbf4b7-eaf8-4a6b-ad47-90bbc20eef80",
   "metadata": {},
   "source": [
    "### Ejemplo numérico para detectar outliers."
   ]
  },
  {
   "cell_type": "markdown",
   "id": "eecd00f5-37be-4f96-a96a-568fda606686",
   "metadata": {},
   "source": [
    "Partiendo del mismo conjunto de datos:  \n",
    "<div style=\"text-align: center;\">\n",
    "\\[ x = [3, 1, 5, 3, 6, 7, 2, 9, 150] \\]\n",
    "</div>"
   ]
  },
  {
   "cell_type": "markdown",
   "id": "fcaabdf8-a63e-40ba-9b85-3226a1404c0e",
   "metadata": {},
   "source": [
    "#### Paso 1: Calcular la Mediana"
   ]
  },
  {
   "cell_type": "markdown",
   "id": "68d8f6c3-73f2-489c-890c-e1aa46fe1a1e",
   "metadata": {},
   "source": [
    "<div style=\"text-align: center;\">\n",
    "  \\[\n",
    "  m = x_5 = 5\n",
    "  \\]\n",
    "</div>"
   ]
  },
  {
   "cell_type": "markdown",
   "id": "d959732a-7363-4164-be48-d52ecc82e45c",
   "metadata": {},
   "source": [
    "#### Paso 2: Calcular las Desviaciones Absolutas respecto a la Mediana"
   ]
  },
  {
   "cell_type": "markdown",
   "id": "4d5bc69b-e01d-45e5-954b-3ab9508f9dfc",
   "metadata": {},
   "source": [
    "Las desviaciones absolutas son:\n",
    "<div style=\"text-align: center;\">\n",
    "\\[ \\text{Desviaciones Absolutas} = [4, 3, 2, 2, 0, 1, 2, 4, 145] \\]\n",
    "</div>"
   ]
  },
  {
   "cell_type": "markdown",
   "id": "47de1aa3-7b78-4b48-978f-8882ded906ab",
   "metadata": {},
   "source": [
    "#### Paso 3: Calcular la Mediana de las Desviaciones Absolutas (MAD)"
   ]
  },
  {
   "cell_type": "markdown",
   "id": "fffc528a-de43-4b2a-8df4-d32109c5cc8a",
   "metadata": {},
   "source": [
    "Sabemos por el ejemplo anterior que la mediana de las desviaciones absolutas es:  \n",
    "<div style=\"text-align: center;\">\n",
    "\\[ \\text{MAD} = 2 \\]\n",
    "</div>"
   ]
  },
  {
   "cell_type": "markdown",
   "id": "584b684a-024f-4b1f-86a0-5aaedfcf2070",
   "metadata": {},
   "source": [
    "#### Paso 4: Establecer el Umbral para Detectar Outliers"
   ]
  },
  {
   "cell_type": "markdown",
   "id": "ae5bc4c1-88b6-41e1-9929-35fa850f2a33",
   "metadata": {},
   "source": [
    "Usamos \\( **k = 3** \\) para calcular el umbral:"
   ]
  },
  {
   "cell_type": "markdown",
   "id": "d7b6332a-48cc-4c7c-a479-4b00c68a53be",
   "metadata": {},
   "source": [
    "<div style=\"text-align: center;\">\n",
    "  \\[\n",
    "  \\text{Umbral} = k \\times \\text{MAD} = 3 \\times 2 = 6\n",
    "  \\]\n",
    "</div>"
   ]
  },
  {
   "cell_type": "markdown",
   "id": "a2b2800b-3350-47f6-9cfb-d45e28c2ae49",
   "metadata": {},
   "source": [
    "#### Paso 5: Identificar Valores que Exceden el Umbral"
   ]
  },
  {
   "cell_type": "markdown",
   "id": "835d376e-82bd-4009-a0aa-0a477a7bbfae",
   "metadata": {},
   "source": [
    "Los valores que se consideran outliers son aquellos donde:\n",
    "\n",
    "<div style=\"text-align: center;\">\n",
    "  \\[\n",
    "  |x_i - m| > \\text{Umbral}\n",
    "  \\]\n",
    "</div>\n",
    "\n",
    "Aplicamos esto a nuestras desviaciones absolutas:\n",
    "<div style=\"text-align: center;\">\n",
    "\\[\n",
    "\\begin{align*}\n",
    "|1 - 5| &= 4 &\\quad (\\text{No es outlier}) \\\\\n",
    "|2 - 5| &= 3 &\\quad (\\text{No es outlier}) \\\\\n",
    "|3 - 5| &= 2 &\\quad (\\text{No es outlier}) \\\\\n",
    "|3 - 5| &= 2 &\\quad (\\text{No es outlier}) \\\\\n",
    "|5 - 5| &= 0 &\\quad (\\text{No es outlier}) \\\\\n",
    "|6 - 5| &= 1 &\\quad (\\text{No es outlier}) \\\\\n",
    "|7 - 5| &= 2 &\\quad (\\text{No es outlier}) \\\\\n",
    "|9 - 5| &= 4 &\\quad (\\text{No es outlier}) \\\\\n",
    "|150 - 5| &= 145 &\\quad (\\text{Es outlier}) \\\\\n",
    "\\end{align*}\n",
    "\\]\n",
    "</div>\n",
    "El valor que excede el umbral de 6 es 150, por lo que se considera un outlier."
   ]
  },
  {
   "cell_type": "markdown",
   "id": "f3554e8e-6065-4bd3-abf6-79f5ea988ac5",
   "metadata": {},
   "source": [
    "### Ajuste del Factor de Escala \\( k \\)\n",
    "\n",
    "El factor de escala \\( k \\) es crucial en la detección de outliers. Tradicionalmente, se utiliza \\( k = 3 \\) porque en una distribución normal aproximadamente el 99.7% de los datos se encuentran dentro de tres desviaciones estándar de la media. Sin embargo, el valor óptimo de \\( k \\) puede variar según la naturaleza y distribución de los datos. Es posible que para datos con distribuciones no normales o con una cantidad significativa de ruido, un \\( k \\) diferente sea más adecuado."
   ]
  },
  {
   "cell_type": "markdown",
   "id": "d0103708-bd67-434c-a3b0-2ec5884799ee",
   "metadata": {},
   "source": [
    "#### Caso donde $k = 3$ no es conveniente\n"
   ]
  },
  {
   "cell_type": "markdown",
   "id": "207d0c0e-3b45-40b8-a247-16c3d7d9b0dc",
   "metadata": {},
   "source": [
    "Consideremos un conjunto de datos de temperaturas diarias en una ciudad a lo largo de un año, con algunos días extremadamente cálidos o fríos que podrían ser considerados outliers."
   ]
  },
  {
   "cell_type": "code",
   "execution_count": 8,
   "id": "8d37a333-b87d-4e2c-bbc1-f0b04f67e9cc",
   "metadata": {},
   "outputs": [
    {
     "data": {
      "text/html": [
       "<div>\n",
       "<style scoped>\n",
       "    .dataframe tbody tr th:only-of-type {\n",
       "        vertical-align: middle;\n",
       "    }\n",
       "\n",
       "    .dataframe tbody tr th {\n",
       "        vertical-align: top;\n",
       "    }\n",
       "\n",
       "    .dataframe thead th {\n",
       "        text-align: right;\n",
       "    }\n",
       "</style>\n",
       "<table border=\"1\" class=\"dataframe\">\n",
       "  <thead>\n",
       "    <tr style=\"text-align: right;\">\n",
       "      <th></th>\n",
       "      <th>temperatura</th>\n",
       "    </tr>\n",
       "  </thead>\n",
       "  <tbody>\n",
       "    <tr>\n",
       "      <th>0</th>\n",
       "      <td>28.820262</td>\n",
       "    </tr>\n",
       "    <tr>\n",
       "      <th>1</th>\n",
       "      <td>22.000786</td>\n",
       "    </tr>\n",
       "    <tr>\n",
       "      <th>2</th>\n",
       "      <td>24.893690</td>\n",
       "    </tr>\n",
       "    <tr>\n",
       "      <th>3</th>\n",
       "      <td>31.204466</td>\n",
       "    </tr>\n",
       "    <tr>\n",
       "      <th>4</th>\n",
       "      <td>29.337790</td>\n",
       "    </tr>\n",
       "    <tr>\n",
       "      <th>...</th>\n",
       "      <td>...</td>\n",
       "    </tr>\n",
       "    <tr>\n",
       "      <th>364</th>\n",
       "      <td>19.921589</td>\n",
       "    </tr>\n",
       "    <tr>\n",
       "      <th>365</th>\n",
       "      <td>40.000000</td>\n",
       "    </tr>\n",
       "    <tr>\n",
       "      <th>366</th>\n",
       "      <td>42.000000</td>\n",
       "    </tr>\n",
       "    <tr>\n",
       "      <th>367</th>\n",
       "      <td>-10.000000</td>\n",
       "    </tr>\n",
       "    <tr>\n",
       "      <th>368</th>\n",
       "      <td>-12.000000</td>\n",
       "    </tr>\n",
       "  </tbody>\n",
       "</table>\n",
       "<p>369 rows × 1 columns</p>\n",
       "</div>"
      ],
      "text/plain": [
       "     temperatura\n",
       "0      28.820262\n",
       "1      22.000786\n",
       "2      24.893690\n",
       "3      31.204466\n",
       "4      29.337790\n",
       "..           ...\n",
       "364    19.921589\n",
       "365    40.000000\n",
       "366    42.000000\n",
       "367   -10.000000\n",
       "368   -12.000000\n",
       "\n",
       "[369 rows x 1 columns]"
      ]
     },
     "execution_count": 8,
     "metadata": {},
     "output_type": "execute_result"
    }
   ],
   "source": [
    "import pandas as pd\n",
    "import numpy as np\n",
    "\n",
    "# Crear un DataFrame de ejemplo con temperaturas\n",
    "np.random.seed(0)\n",
    "temperaturas = np.random.normal(loc=20, scale=5, size=365).tolist()  # Temperaturas normales\n",
    "temperaturas.extend([40, 42, -10, -12])  # Añadir algunos outliers\n",
    "data = {\n",
    "    'temperatura': temperaturas\n",
    "}\n",
    "df = pd.DataFrame(data)\n",
    "df"
   ]
  },
  {
   "cell_type": "code",
   "execution_count": 9,
   "id": "201b58e6-c254-4197-9c1b-865573f1c6ba",
   "metadata": {},
   "outputs": [
    {
     "name": "stdout",
     "output_type": "stream",
     "text": [
      "Mediana de las temperaturas: 19.73716351865227\n",
      "Desviación absoluta mediana (MAD): 3.390552282976394\n"
     ]
    }
   ],
   "source": [
    "# Calcular la mediana\n",
    "mediana = df['temperatura'].median()\n",
    "print(f\"Mediana de las temperaturas: {mediana}\")\n",
    "\n",
    "# Calcular la desviación absoluta mediana (MAD)\n",
    "mad = np.median(np.abs(df['temperatura'] - mediana))\n",
    "print(f\"Desviación absoluta mediana (MAD): {mad}\")\n"
   ]
  },
  {
   "cell_type": "markdown",
   "id": "0992c15d-c7cd-4f7e-8e5a-9c5d57cf07cf",
   "metadata": {},
   "source": [
    "#### Ajuste del factor de $k$"
   ]
  },
  {
   "cell_type": "markdown",
   "id": "985b690e-2c72-4ad3-87cf-c36703dfac7d",
   "metadata": {},
   "source": [
    "Podemos utilizar técnicas exploratorias o basarnos en conocimientos específicos del dominio. En este ejemplo, ajustaremos \n",
    "𝑘 empíricamente."
   ]
  },
  {
   "cell_type": "code",
   "execution_count": 10,
   "id": "3b4925ab-fc1b-4a13-b60d-ca4cdba1ffd3",
   "metadata": {},
   "outputs": [
    {
     "name": "stdout",
     "output_type": "stream",
     "text": [
      "Con k = 1, el umbral es 3.390552282976394. Outliers detectados:\n",
      "     temperatura\n",
      "0      28.820262\n",
      "2      24.893690\n",
      "3      31.204466\n",
      "4      29.337790\n",
      "5      15.113611\n",
      "..           ...\n",
      "362    24.659242\n",
      "365    40.000000\n",
      "366    42.000000\n",
      "367   -10.000000\n",
      "368   -12.000000\n",
      "\n",
      "[184 rows x 1 columns]\n",
      "Con k = 2, el umbral es 6.781104565952788. Outliers detectados:\n",
      "     temperatura\n",
      "0      28.820262\n",
      "3      31.204466\n",
      "4      29.337790\n",
      "11     27.271368\n",
      "16     27.470395\n",
      "..           ...\n",
      "356    10.784652\n",
      "365    40.000000\n",
      "366    42.000000\n",
      "367   -10.000000\n",
      "368   -12.000000\n",
      "\n",
      "[67 rows x 1 columns]\n",
      "Con k = 3, el umbral es 10.171656848929182. Outliers detectados:\n",
      "     temperatura\n",
      "3      31.204466\n",
      "20      7.235051\n",
      "24     31.348773\n",
      "144    31.915724\n",
      "183     8.882984\n",
      "198    30.816180\n",
      "218    31.296545\n",
      "271     6.137036\n",
      "279    30.322464\n",
      "292    31.519583\n",
      "327    31.283617\n",
      "334     6.704139\n",
      "365    40.000000\n",
      "366    42.000000\n",
      "367   -10.000000\n",
      "368   -12.000000\n",
      "Con k = 4, el umbral es 13.562209131905576. Outliers detectados:\n",
      "     temperatura\n",
      "271     6.137036\n",
      "365    40.000000\n",
      "366    42.000000\n",
      "367   -10.000000\n",
      "368   -12.000000\n",
      "Con k = 5, el umbral es 16.95276141488197. Outliers detectados:\n",
      "     temperatura\n",
      "365         40.0\n",
      "366         42.0\n",
      "367        -10.0\n",
      "368        -12.0\n"
     ]
    }
   ],
   "source": [
    "# Ajustar el factor k empíricamente\n",
    "for k in [1, 2, 3, 4, 5]:\n",
    "    umbral = k * mad\n",
    "    outliers = df[np.abs(df['temperatura'] - mediana) > umbral]\n",
    "    print(f\"Con k = {k}, el umbral es {umbral}. Outliers detectados:\")\n",
    "    print(outliers)\n"
   ]
  },
  {
   "cell_type": "markdown",
   "id": "a504505e-7861-4307-a5a8-f872a57be13e",
   "metadata": {},
   "source": [
    "Para este conjunto de datos, **\\( k = 5 \\)** es el valor más adecuado. Detecta las temperaturas inusualmente altas y bajas"
   ]
  },
  {
   "cell_type": "markdown",
   "id": "86727cb8-e995-480c-9ca5-9fc381c787a0",
   "metadata": {},
   "source": [
    "#### Otras técnicas de detección de outliers:"
   ]
  },
  {
   "cell_type": "markdown",
   "id": "8158bf48-bc2e-4aa0-a20c-1d6b352df427",
   "metadata": {},
   "source": [
    "- `Gráficos de Caja (Boxplots)`: Visualizan la dispersión y los outliers en los datos.  \n",
    "- `Histogramas`: Muestran la distribución de los datos y pueden ayudar a identificar si hay colas largas o distribuciones sesgadas.  \n",
    "- `Validación Cruzada`: La validación cruzada puede ayudar a evaluar el impacto de diferentes valores de \n",
    "𝑘 en el rendimiento de un modelo predictivo. Se puede entrenar un modelo con diferentes conjuntos de datos y comparar los resultados.  \n",
    "- `Métodos Estadísticos Robustos`:  \n",
    "      - `Regresión Robust (e.g., RANSAC, Theil-Sen)`: Técnicas de regresión que son menos sensibles a outliers.  \n",
    "      - `Estimadores de M-Estimación`: Se ajustan iterativamente para reducir la influencia de outliers.\n",
    "- `Análisis de Componentes Principales (PCA)`: El PCA puede ayudar a identificar outliers en datos multivariados reduciendo la dimensionalidad y visualizando las observaciones en el espacio de componentes principales."
   ]
  },
  {
   "cell_type": "markdown",
   "id": "947f38f6-4d32-4919-9d8a-869287262a7b",
   "metadata": {},
   "source": [
    ">   **Ejercicio 3**. Con la misma dataset del ejercicio 2 (`state.csv`) calcule todas las medidas de dispersión dadas en esta en clase (incluyendo el cálculo del umbral para detectar outliers usando la desviación absoluta mediana) sobre la variable Población. Utilizar Pandas, Numpy y SciPy. Interpretar resultados."
   ]
  },
  {
   "cell_type": "markdown",
   "id": "c53f94b3-3a54-4b43-b7de-b82c3c0873c8",
   "metadata": {},
   "source": [
    "###  Estimaciones Basadas en Percentiles\n",
    "\n",
    "Un enfoque diferente para estimar la dispersión se basa en observar la extensión de los datos ordenados. Las estadísticas basadas en datos ordenados (clasificados) se denominan `estadísticas de orden`. La medida más básica es el `rango`: la diferencia entre los números más grandes y más pequeños. Los valores mínimos y máximos en sí mismos son útiles y ayudan a identificar valores atípicos, pero el rango es extremadamente sensible a los valores atípicos y no es muy útil como una medida general de dispersión en los datos.  \n",
    "\n"
   ]
  },
  {
   "cell_type": "markdown",
   "id": "d92bf791-cb4d-4a7c-a58a-a5f6aec104a3",
   "metadata": {},
   "source": [
    "### Ejemplo Numérico de Cálculo de Percentiles y Rango Intercuartílico\n",
    "\n",
    "Supongamos que tenemos los siguientes datos de ejemplo:  \n",
    "\n",
    "<div style=\"text-align: center;\">\n",
    "\\[ x = [3, 1, 5, 3, 6, 7, 2, 9] \\]\n",
    "</div>   \n",
    "\n",
    "#### Ordenar los Datos\n",
    "\n",
    "Primero, ordenamos los datos en orden ascendente:  \n",
    "\n",
    "<div style=\"text-align: center;\">\n",
    "\\[ x_{\\text{ordenado}} = [1, 2, 3, 3, 5, 6, 7, 9] \\]\n",
    "</div>    \n",
    "\n",
    "#### Calcular los Percentiles\n",
    "\n",
    "Un percentil es un valor tal que al menos el P por ciento (por ejemplo 25%) de los valores tienen este valor o menos y al menos (100 - P) [100-25=75%] por ciento de los valores tienen este valor o más.  \n",
    "\n",
    "- **Percentil 25 (P25)**:\n",
    "  - Hay 8 datos en total.\n",
    "  - La posición del percentil 25 se calcula como:\n",
    "      $\\text{posición} = P \\times (n + 1)$  \n",
    "donde:\n",
    "- $P$ es el percentil expresado como una fracción (por ejemplo, 0.25 para el percentil 25).  \n",
    "- $n$ es el número de datos. Por lo tanto:\n",
    "  \n",
    "<div style=\"text-align: center;\">    \n",
    "$\\text{posición} = 0.25 \\times (n + 1) $  \n",
    "</div>  \n",
    "\n",
    "<div style=\"text-align: center;\">     \n",
    "$P_{25} = 0.25 \\times (8 + 1) = 0.25 \\times 9 = 2.25$  \n",
    "</div>\n",
    "\n",
    "- Interpolamos entre los valores en las posiciones 2 y 3:\n",
    "<div style=\"text-align: center;\"> \n",
    "$P_{25} = 2 + 0.25 \\times (3 - 2) = 2 + 0.25 \\times 1 = 2.25$  \n",
    "</div>"
   ]
  },
  {
   "cell_type": "markdown",
   "id": "3007fcb2-563c-4725-922a-4b94c0adfacd",
   "metadata": {},
   "source": [
    "La fórmula de interpolación lineal para calcular un percentil 𝑃 se puede expresar como:  \n",
    "\n",
    "<div style=\"text-align: center;\">  \n",
    "\\[ P = x_j + w \\times (x_{j+1} - x_j) \\]  \n",
    "</div>  \n",
    "donde:  \n",
    "\n",
    "- $x_j$: es el valor en la posición entera inferior.  \n",
    "\n",
    "- $x_{j+1}$: es el valor en la posición entera superior.\n",
    "      \n",
    "- $w$: es la parte fraccionaria de la posición del percentil.\n",
    "\n",
    "El peso $w$ es la parte fraccionaria de la posición:\n",
    "<div style=\"text-align: center;\">\n",
    "$w = \\text{posición} - \\lfloor \\text{posición} \\rfloor$\n",
    "</div>\n",
    "donde $\\lfloor \\text{posición} \\rfloor$ es la parte entera de la posición."
   ]
  },
  {
   "cell_type": "markdown",
   "id": "37a14bd5-c02d-4a25-bfcf-886a97bad5ad",
   "metadata": {},
   "source": [
    "- **Percentil 50 (P50 o Mediana)**:\n",
    "  \n",
    "  - La posición del percentil 50 se calcula como $ 0.50 \\times (n + 1)$:\n",
    "   <div style=\"text-align: center;\"> \n",
    "    $P_{50} = 0.50 \\times (8 + 1) = 0.50 \\times 9 = 4.5$\n",
    "   </div> \n",
    "  - Interpolamos entre los valores en las posiciones 4 y 5:\n",
    "   <div style=\"text-align: center;\"> \n",
    "    $P_{50} = 3 + 0.5 \\times (5 - 3) = 3 + 0.5 \\times 2 = 4$\n",
    "   </div> \n",
    "- **Percentil 75 (P75)**:\n",
    "  - La posición del percentil 75 se calcula como $0.75 \\times (n + 1)$:\n",
    "   <div style=\"text-align: center;\"> \n",
    "    $P_{75} = 0.75 \\times (8 + 1) = 0.75 \\times 9 = 6.75$\n",
    "   </div> \n",
    "  - Interpolamos entre los valores en las posiciones 6 y 7  :\n",
    "   <div style=\"text-align: center;\"> \n",
    "    $P_{75} = 6 + 0.75 \\times (7 - 6) = 6 + 0.75 \\times 1 = 6.75$    </div>\n",
    "\n",
    "\n",
    "#### Calcular el Rango Intercuartílico (IQR)\n",
    "\n",
    "El rango intercuartílico es la diferencia entre el percentil 75 y el percentil 25:\n",
    "<div style=\"text-align: center;\">\n",
    "\\[\n",
    "\\text{IQR} = P_{75} - P_{25}\n",
    "\\]\n",
    "</div>  \n",
    "<div style=\"text-align: center;\">\n",
    "\\[\n",
    "\\text{IQR} = 6.75 - 2.25 = 4.5\n",
    "\\]  \n",
    "</div>\n",
    "\n",
    "### Interpretación Estadística\n",
    "\n",
    "- **Percentiles**:\n",
    "  - Los percentiles dividen los datos en partes iguales. Por ejemplo, el percentil 25 (P25) indica que el 25% de los datos son menores o iguales a 2.25. El percentil 50 (P50 o mediana) indica que el 50% de los datos son menores o iguales a 4. El percentil 75 (P75) indica que el 75% de los datos son menores o iguales a 6.75.\n",
    "  - Los percentiles son útiles para entender la distribución de los datos y para identificar valores extremos.\n",
    "\n",
    "- **Rango**:\n",
    "  - El rango es la diferencia entre el valor máximo y el valor mínimo de los datos. En este ejemplo, el rango es 8. Esto nos da una idea de la amplitud de los datos, pero es muy sensible a los valores atípicos.\n",
    "\n",
    "- **Rango Intercuartílico (IQR)**:\n",
    "  - El IQR es la diferencia entre el percentil 75 y el percentil 25. En este ejemplo, el IQR es 4.5. El IQR es una medida de dispersión que es menos sensible a los valores atípicos que el rango. Proporciona una medida de la variabilidad de los datos en el rango intermedio.\n",
    "\n",
    "### Resumen\n",
    "\n",
    "- **Percentil 25 (P25)**: 2.25\n",
    "- **Mediana (P50)**: 4\n",
    "- **Percentil 75 (P75)**: 6.75\n",
    "- **Rango**: 8\n",
    "- **Rango Intercuartílico (IQR)**: 4.5"
   ]
  },
  {
   "cell_type": "markdown",
   "id": "8ffb1441-cd85-4e4e-a4cc-4ac20158ca30",
   "metadata": {},
   "source": [
    "Ejemplos en Python"
   ]
  },
  {
   "cell_type": "markdown",
   "id": "7ffcb123-47c4-48dd-bd7c-eedc24c04a3d",
   "metadata": {},
   "source": [
    "#### Pandas"
   ]
  },
  {
   "cell_type": "code",
   "execution_count": 11,
   "id": "dc2edbcc-c834-4c14-adc6-91daf5ec4d34",
   "metadata": {},
   "outputs": [
    {
     "name": "stdout",
     "output_type": "stream",
     "text": [
      "Percentil 25 (P25): 2.75\n",
      "Mediana (P50): 4.0\n",
      "Percentil 75 (P75): 6.25\n",
      "Rango Intercuartílico (IQR): 3.5\n"
     ]
    }
   ],
   "source": [
    "import pandas as pd\n",
    "\n",
    "# Crear el DataFrame\n",
    "data = [3, 1, 5, 3, 6, 7, 2, 9]\n",
    "df = pd.DataFrame(data, columns=['values'])\n",
    "\n",
    "# Calcular los percentiles 25, 50 y 75\n",
    "p25 = df['values'].quantile(0.25)\n",
    "p50 = df['values'].quantile(0.50)\n",
    "p75 = df['values'].quantile(0.75)\n",
    "\n",
    "# Calcular el rango intercuartílico (IQR)\n",
    "iqr = p75 - p25\n",
    "\n",
    "print(f\"Percentil 25 (P25): {p25}\")\n",
    "print(f\"Mediana (P50): {p50}\")\n",
    "print(f\"Percentil 75 (P75): {p75}\")\n",
    "print(f\"Rango Intercuartílico (IQR): {iqr}\")\n"
   ]
  },
  {
   "cell_type": "markdown",
   "id": "dd5ec484-bb57-4d87-9402-fc0c73f0c444",
   "metadata": {},
   "source": [
    "#### SciPy"
   ]
  },
  {
   "cell_type": "code",
   "execution_count": 12,
   "id": "0acdb0a0-259e-439b-8b0c-fca7843cc245",
   "metadata": {},
   "outputs": [
    {
     "name": "stdout",
     "output_type": "stream",
     "text": [
      "Percentil 25 (P25): 2.75\n",
      "Mediana (P50): 4.0\n",
      "Percentil 75 (P75): 6.25\n",
      "Rango Intercuartílico (IQR): 3.5\n"
     ]
    }
   ],
   "source": [
    "import numpy as np\n",
    "from scipy import stats\n",
    "\n",
    "# Crear el array de datos\n",
    "data = np.array([3, 1, 5, 3, 6, 7, 2, 9])\n",
    "\n",
    "# Calcular los percentiles 25, 50 y 75\n",
    "p25 = np.percentile(data, 25)\n",
    "p50 = np.percentile(data, 50)\n",
    "p75 = np.percentile(data, 75)\n",
    "\n",
    "# Calcular el rango intercuartílico (IQR)\n",
    "iqr = stats.iqr(data)\n",
    "\n",
    "print(f\"Percentil 25 (P25): {p25}\")\n",
    "print(f\"Mediana (P50): {p50}\")\n",
    "print(f\"Percentil 75 (P75): {p75}\")\n",
    "print(f\"Rango Intercuartílico (IQR): {iqr}\")"
   ]
  },
  {
   "cell_type": "markdown",
   "id": "f09fce3f-8c2b-4cfe-b0be-fb57923f8a00",
   "metadata": {},
   "source": [
    "#### Statsmodels"
   ]
  },
  {
   "cell_type": "code",
   "execution_count": 13,
   "id": "aa98bbd1-fd69-465e-8002-95bc5c657500",
   "metadata": {},
   "outputs": [
    {
     "name": "stdout",
     "output_type": "stream",
     "text": [
      "Percentil 25 (P25): 2.75\n",
      "Mediana (P50): 4.0\n",
      "Percentil 75 (P75): 6.25\n",
      "Rango Intercuartílico (IQR): 3.5\n"
     ]
    }
   ],
   "source": [
    "import numpy as np\n",
    "import statsmodels.api as sm\n",
    "\n",
    "# Crear el array de datos\n",
    "data = np.array([3, 1, 5, 3, 6, 7, 2, 9])\n",
    "\n",
    "# Calcular los percentiles 25, 50 y 75 usando numpy\n",
    "p25, p50, p75 = np.percentile(data, [25, 50, 75])\n",
    "\n",
    "# Calcular el rango intercuartílico (IQR) manualmente\n",
    "iqr = p75 - p25\n",
    "\n",
    "print(f\"Percentil 25 (P25): {p25}\")\n",
    "print(f\"Mediana (P50): {p50}\")\n",
    "print(f\"Percentil 75 (P75): {p75}\")\n",
    "print(f\"Rango Intercuartílico (IQR): {iqr}\")\n"
   ]
  },
  {
   "cell_type": "markdown",
   "id": "470484f3-31a2-47b1-a660-59a448d2b6c9",
   "metadata": {},
   "source": [
    "### Características de los Percentiles\n",
    "\n",
    "#### Independencia de la Distribución\n",
    "\n",
    "Los percentiles son una medida no paramétrica, lo que significa que no dependen de la forma de la distribución de los datos. Pueden ser utilizados para describir cualquier conjunto de datos, independientemente de su distribución.\n",
    "\n",
    "#### Robustez frente a Valores Atípicos\n",
    "\n",
    "Los percentiles no son tan sensibles a los valores atípicos como otras medidas de dispersión, como la varianza y la desviación estándar. Esto los hace útiles en distribuciones con outliers o distribuciones sesgadas.\n",
    "\n",
    "#### Descriptivos de Posición\n",
    "\n",
    "Los percentiles proporcionan una descripción clara de la posición de un dato en el contexto del conjunto de datos. Por ejemplo, el percentil 50 (la mediana) indica el punto medio de los datos."
   ]
  },
  {
   "cell_type": "markdown",
   "id": "1ee77f7e-6af4-4146-95d4-5d898e93624f",
   "metadata": {},
   "source": [
    "### Aplicabilidad en Diferentes Distribuciones"
   ]
  },
  {
   "cell_type": "markdown",
   "id": "1b80f6c0-5f09-4cb3-a318-4a2d5e15bcbb",
   "metadata": {},
   "source": [
    "#### Distribuciones Normales\n",
    "\n",
    "En una distribución normal, los percentiles tienen interpretaciones específicas debido a la simetría y las propiedades de la campana de Gauss. Por ejemplo, el percentil 50 corresponde a la media, y los percentiles 25 y 75 corresponden a una desviación estándar a cada lado de la media."
   ]
  },
  {
   "cell_type": "markdown",
   "id": "5f44ed7b-440a-4e43-820f-e7d8dfbcc529",
   "metadata": {},
   "source": [
    "#### Distribuciones Sesgadas\n",
    "\n",
    "Los percentiles siguen siendo útiles en distribuciones sesgadas porque no dependen de la media y la desviación estándar. En una distribución sesgada, la mediana (percentil 50) es una mejor medida de tendencia central que la media."
   ]
  },
  {
   "cell_type": "markdown",
   "id": "503f3c18-36ef-4613-b9a3-433d644afe3f",
   "metadata": {},
   "source": [
    "#### Distribuciones Multimodales\n",
    "\n",
    "En distribuciones con múltiples modos, los percentiles ayudan a describir la posición de los datos en relación con cada modo. Esto es útil para entender la estructura de la distribución."
   ]
  },
  {
   "cell_type": "markdown",
   "id": "3a16db42-63fd-43a4-a564-d168ee835dff",
   "metadata": {},
   "source": [
    "#### Distribuciones Asimétricas\n",
    "Los percentiles son adecuados para distribuciones asimétricas, ya que no se ven afectados por la falta de simetría. La mediana y el rango intercuartílico son especialmente útiles en estos casos."
   ]
  },
  {
   "cell_type": "markdown",
   "id": "010c9dbf-7cc3-4198-a9fa-b363093a5cc2",
   "metadata": {},
   "source": [
    "### Ejemplo Práctico\n",
    "\n",
    "Imaginemos tres conjuntos de datos diferentes: uno con una distribución normal, otro con una distribución sesgada y otro con una distribución multimodal. En cada caso, los percentiles pueden proporcionar información valiosa sobre la distribución de los datos.es."
   ]
  },
  {
   "cell_type": "markdown",
   "id": "35b31281-6258-40c3-8de5-7ed42f19393c",
   "metadata": {},
   "source": [
    "#### Distribución Normal\n",
    "\n",
    "Datos:  \n",
    "<div style=\"text-align: center;\">\n",
    "\\[ x = [3, 5, 7, 9, 11, 13, 15, 17, 19] \\]\n",
    "</div>  \n",
    "\n",
    "Percentil 25:  \n",
    "<div style=\"text-align: center;\">\n",
    "\\[ P_{25} \\approx 7 \\]\n",
    "</div>\n",
    "Mediana (P50):  \n",
    "<div style=\"text-align: center;\">\n",
    "\\[ P_{50} = 11 \\]\n",
    "</div>\n",
    "Percentil 75:  \n",
    "<div style=\"text-align: center;\">\n",
    "\\[ P_{75} \\approx 15 \\]\n",
    "</div>"
   ]
  },
  {
   "cell_type": "markdown",
   "id": "1b5785f2-63d3-4594-8335-2b5c6058c743",
   "metadata": {},
   "source": [
    "#### Distribución Sesgada\n",
    "\n",
    "Datos:  \n",
    "<div style=\"text-align: center;\">\n",
    "\\[ x = [1, 2, 3, 4, 5, 6, 7, 8, 20] \\]\n",
    "</div>\n",
    "Percentil 25:  \n",
    "<div style=\"text-align: center;\">\n",
    "\\[ P_{25} \\approx 3 \\]\n",
    "</div>\n",
    "Mediana (P50):  \n",
    "<div style=\"text-align: center;\">\n",
    "\\[ P_{50} = 5 \\]\n",
    "</div>\n",
    "Percentil 75:  \n",
    "<div style=\"text-align: center;\">\n",
    "\\[ P_{75} \\approx 7 \\]\n",
    "</div>"
   ]
  },
  {
   "cell_type": "markdown",
   "id": "f2ade469-14d7-4950-8fee-367a5e1c7538",
   "metadata": {},
   "source": [
    "#### Distribución Multimodal\n",
    "\n",
    "Datos:  \n",
    "<div style=\"text-align: center;\">\n",
    "\\[ x = [1, 1, 2, 2, 9, 9, 10, 10] \\]\n",
    "</div>\n",
    "Percentil 25:  \n",
    "<div style=\"text-align: center;\">\n",
    "\\[ P_{25} \\approx 2 \\]\n",
    "</div>\n",
    "\n",
    "Mediana (P50):  \n",
    "<div style=\"text-align: center;\">\n",
    "\\[ P_{50} = 5.5 \\]\n",
    "</div>\n",
    "\n",
    "Percentil 75:  \n",
    "<div style=\"text-align: center;\">\n",
    "\\[ P_{75} \\approx 9.5 \\]\n",
    "</div>"
   ]
  },
  {
   "cell_type": "markdown",
   "id": "1fc2da3c-d1a6-4c4d-bfce-29ed1ad5ae44",
   "metadata": {},
   "source": [
    "### Interpretación Estadística\n",
    "\n",
    "#### Distribución Normal\n",
    "\n",
    "Los percentiles muestran la simetría de la distribución alrededor de la mediana."
   ]
  },
  {
   "cell_type": "code",
   "execution_count": 6,
   "id": "6d3a7210-c60c-4de9-97b2-6e67573ca2e6",
   "metadata": {},
   "outputs": [
    {
     "data": {
      "image/png": "[encoded data removed]",
      "text/plain": [
       "<Figure size 640x480 with 1 Axes>"
      ]
     },
     "metadata": {},
     "output_type": "display_data"
    }
   ],
   "source": [
    "import numpy as np\n",
    "import matplotlib.pyplot as plt\n",
    "\n",
    "# Configuración de la semilla para reproducibilidad\n",
    "np.random.seed(42)\n",
    "\n",
    "# Generar datos para una distribución normal\n",
    "data_normal = np.random.normal(loc=0, scale=1, size=1000)\n",
    "\n",
    "# Calcular los percentiles 25, 50 y 75\n",
    "Q1 = np.percentile(data_normal, 25)\n",
    "Q2 = np.percentile(data_normal, 50)  # Mediana\n",
    "Q3 = np.percentile(data_normal, 75)\n",
    "\n",
    "# Calcular el IQR\n",
    "IQR = Q3 - Q1\n",
    "\n",
    "# Crear el histograma\n",
    "plt.hist(data_normal, bins=30, edgecolor='black', alpha=0.7)\n",
    "plt.axvline(Q1, color='r', linestyle='dashed', linewidth=1, label=f'P25 = {Q1:.2f}')\n",
    "plt.axvline(Q2, color='g', linestyle='dashed', linewidth=1, label=f'P50 = {Q2:.2f}')\n",
    "plt.axvline(Q3, color='b', linestyle='dashed', linewidth=1, label=f'P75 = {Q3:.2f}')\n",
    "\n",
    "# Mostrar el IQR\n",
    "plt.axvspan(Q1, Q3, alpha=0.2, color='yellow', label=f'IQR = {IQR:.2f}')\n",
    "\n",
    "# Añadir etiquetas y título\n",
    "plt.xlabel('Valor')\n",
    "plt.ylabel('Frecuencia')\n",
    "plt.title('Distribución Normal con Percentiles e IQR')\n",
    "plt.legend()\n",
    "\n",
    "# Mostrar el gráfico\n",
    "plt.show()\n"
   ]
  },
  {
   "cell_type": "markdown",
   "id": "e5ed5f00-fc8d-4abc-bb77-82a90c1aa293",
   "metadata": {},
   "source": [
    "#### Distribución Sesgada\n",
    "\n",
    "La mediana es una mejor medida de la tendencia central que la media, y el rango intercuartílico proporciona una buena medida de la dispersión."
   ]
  },
  {
   "cell_type": "code",
   "execution_count": 5,
   "id": "5e7f9ed8-e5b4-429e-85cf-17dd4ee29386",
   "metadata": {},
   "outputs": [
    {
     "data": {
      "image/png": "[encoded data removed]",
      "text/plain": [
       "<Figure size 640x480 with 1 Axes>"
      ]
     },
     "metadata": {},
     "output_type": "display_data"
    }
   ],
   "source": [
    "import numpy as np\n",
    "import matplotlib.pyplot as plt\n",
    "\n",
    "# Configuración de la semilla para reproducibilidad\n",
    "np.random.seed(42)\n",
    "\n",
    "# Generar datos para una distribución muy sesgada (exponencial)\n",
    "data_skewed = np.random.exponential(scale=2, size=1000)\n",
    "\n",
    "# Calcular los percentiles 25, 50 y 75\n",
    "Q1 = np.percentile(data_skewed, 25)\n",
    "Q2 = np.percentile(data_skewed, 50)  # Mediana\n",
    "Q3 = np.percentile(data_skewed, 75)\n",
    "\n",
    "# Calcular el IQR\n",
    "IQR = Q3 - Q1\n",
    "\n",
    "# Crear el histograma\n",
    "plt.hist(data_skewed, bins=30, edgecolor='black', alpha=0.7)\n",
    "plt.axvline(Q1, color='r', linestyle='dashed', linewidth=1, label=f'P25 = {Q1:.2f}')\n",
    "plt.axvline(Q2, color='g', linestyle='dashed', linewidth=1, label=f'P50 = {Q2:.2f}')\n",
    "plt.axvline(Q3, color='b', linestyle='dashed', linewidth=1, label=f'P75 = {Q3:.2f}')\n",
    "\n",
    "# Mostrar el IQR\n",
    "plt.axvspan(Q1, Q3, alpha=0.2, color='yellow', label=f'IQR = {IQR:.2f}')\n",
    "\n",
    "# Añadir etiquetas y título\n",
    "plt.xlabel('Valor')\n",
    "plt.ylabel('Frecuencia')\n",
    "plt.title('Distribución Muy Sesgada con Percentiles e IQR')\n",
    "plt.legend()\n",
    "\n",
    "# Mostrar el gráfico\n",
    "plt.show()\n"
   ]
  },
  {
   "cell_type": "markdown",
   "id": "5fd90a59-a9f4-4992-a059-3b8554b8f844",
   "metadata": {},
   "source": [
    "#### Distribución Multimodal\n",
    "\n",
    "Los percentiles ayudan a entender cómo se distribuyen los datos en torno a los diferentes modos."
   ]
  },
  {
   "cell_type": "code",
   "execution_count": 15,
   "id": "9c7d272a-df6b-4d90-9a28-237bccfad6dd",
   "metadata": {},
   "outputs": [
    {
     "data": {
      "image/png": "[encoded data removed]",
      "text/plain": [
       "<Figure size 640x480 with 1 Axes>"
      ]
     },
     "metadata": {},
     "output_type": "display_data"
    }
   ],
   "source": [
    "import numpy as np\r\n",
    "import matplotlib.pyplot as plt\r\n",
    "\r\n",
    "# Configuración de la semilla para reproducibilidad\r\n",
    "np.random.seed(42)\r\n",
    "\r\n",
    "# Generar datos multimodales\r\n",
    "data1 = np.random.normal(loc=0, scale=1, size=500)\r\n",
    "data2 = np.random.normal(loc=5, scale=1, size=500)\r\n",
    "data3 = np.random.normal(loc=10, scale=1, size=500)\r\n",
    "\r\n",
    "# Combinar los datos\r\n",
    "data = np.concatenate([data1, data2, data3])\r\n",
    "\r\n",
    "# Calcular los percentiles\r\n",
    "p25 = np.percentile(data, 25)\r\n",
    "p50 = np.percentile(data, 50)\r\n",
    "p75 = np.percentile(data, 75)\r\n",
    "\r\n",
    "# Crear el histograma\r\n",
    "plt.hist(data, bins=30, edgecolor='black', alpha=0.7)\r\n",
    "plt.axvline(p25, color='r', linestyle='dashed', linewidth=1, label=f'P25 = {p25:.2f}')\r\n",
    "plt.axvline(p50, color='g', linestyle='dashed', linewidth=1, label=f'P50 = {p50:.2f}')\r\n",
    "plt.axvline(p75, color='b', linestyle='dashed', linewidth=1, label=f'P75 = {p75:.2f}')\r\n",
    "\r\n",
    "# Añadir etiquetas y título\r\n",
    "plt.xlabel('Valor')\r\n",
    "plt.ylabel('Frecuencia')\r\n",
    "plt.title('Distribución Multimodal')\r\n",
    "plt.legend()\r\n",
    "\r\n",
    "# Mostrar el gráfico\r\n",
    "plt.show()\r\n"
   ]
  },
  {
   "cell_type": "markdown",
   "id": "addc4320-2d36-4983-aa90-fbdd77df93b1",
   "metadata": {},
   "source": [
    "### Boxplots"
   ]
  },
  {
   "cell_type": "code",
   "execution_count": null,
   "id": "c47b0685-09af-40a0-840e-e901d21e6281",
   "metadata": {},
   "outputs": [],
   "source": []
  },
  {
   "cell_type": "code",
   "execution_count": 7,
   "id": "58e9372f-3524-48a6-b002-7453ebab8ddc",
   "metadata": {},
   "outputs": [
    {
     "data": {
      "image/png": "[encoded data removed]",
      "text/plain": [
       "<Figure size 1800x600 with 3 Axes>"
      ]
     },
     "metadata": {},
     "output_type": "display_data"
    }
   ],
   "source": [
    "import numpy as np\n",
    "import matplotlib.pyplot as plt\n",
    "\n",
    "# Configuración de la semilla para reproducibilidad\n",
    "np.random.seed(42)\n",
    "\n",
    "# Generar datos\n",
    "# Distribución Normal\n",
    "data_normal = np.random.normal(loc=0, scale=1, size=1000)\n",
    "\n",
    "# Distribución Muy Sesgada (Exponencial)\n",
    "data_skewed = np.random.exponential(scale=2, size=1000)\n",
    "\n",
    "# Distribución Multimodal más pronunciada\n",
    "data1 = np.random.normal(loc=-5, scale=1, size=500)\n",
    "data2 = np.random.normal(loc=0, scale=1, size=500)\n",
    "data3 = np.random.normal(loc=5, scale=1, size=500)\n",
    "data_multimodal = np.concatenate([data1, data2, data3])\n",
    "\n",
    "# Calcular percentiles y IQR para cada distribución\n",
    "def calculate_iqr_percentiles(data):\n",
    "    Q1 = np.percentile(data, 25)\n",
    "    Q2 = np.percentile(data, 50)  # Mediana\n",
    "    Q3 = np.percentile(data, 75)\n",
    "    IQR = Q3 - Q1\n",
    "    return Q1, Q2, Q3, IQR\n",
    "\n",
    "Q1_normal, Q2_normal, Q3_normal, IQR_normal = calculate_iqr_percentiles(data_normal)\n",
    "Q1_skewed, Q2_skewed, Q3_skewed, IQR_skewed = calculate_iqr_percentiles(data_skewed)\n",
    "Q1_multimodal, Q2_multimodal, Q3_multimodal, IQR_multimodal = calculate_iqr_percentiles(data_multimodal)\n",
    "\n",
    "# Crear los boxplots\n",
    "fig, axs = plt.subplots(1, 3, figsize=(18, 6))\n",
    "\n",
    "# Boxplot para la Distribución Normal\n",
    "axs[0].boxplot(data_normal, vert=False)\n",
    "axs[0].axvline(Q1_normal, color='r', linestyle='dashed', linewidth=1, label=f'P25 = {Q1_normal:.2f}')\n",
    "axs[0].axvline(Q2_normal, color='g', linestyle='dashed', linewidth=1, label=f'P50 = {Q2_normal:.2f}')\n",
    "axs[0].axvline(Q3_normal, color='b', linestyle='dashed', linewidth=1, label=f'P75 = {Q3_normal:.2f}')\n",
    "axs[0].axvspan(Q1_normal, Q3_normal, alpha=0.2, color='yellow', label=f'IQR = {IQR_normal:.2f}')\n",
    "axs[0].set_title('Distribución Normal')\n",
    "axs[0].set_xlabel('Valor')\n",
    "axs[0].legend()\n",
    "\n",
    "# Boxplot para la Distribución Muy Sesgada\n",
    "axs[1].boxplot(data_skewed, vert=False)\n",
    "axs[1].axvline(Q1_skewed, color='r', linestyle='dashed', linewidth=1, label=f'P25 = {Q1_skewed:.2f}')\n",
    "axs[1].axvline(Q2_skewed, color='g', linestyle='dashed', linewidth=1, label=f'P50 = {Q2_skewed:.2f}')\n",
    "axs[1].axvline(Q3_skewed, color='b', linestyle='dashed', linewidth=1, label=f'P75 = {Q3_skewed:.2f}')\n",
    "axs[1].axvspan(Q1_skewed, Q3_skewed, alpha=0.2, color='yellow', label=f'IQR = {IQR_skewed:.2f}')\n",
    "axs[1].set_title('Distribución Muy Sesgada')\n",
    "axs[1].set_xlabel('Valor')\n",
    "axs[1].legend()\n",
    "\n",
    "# Boxplot para la Distribución Multimodal\n",
    "axs[2].boxplot(data_multimodal, vert=False)\n",
    "axs[2].axvline(Q1_multimodal, color='r', linestyle='dashed', linewidth=1, label=f'P25 = {Q1_multimodal:.2f}')\n",
    "axs[2].axvline(Q2_multimodal, color='g', linestyle='dashed', linewidth=1, label=f'P50 = {Q2_multimodal:.2f}')\n",
    "axs[2].axvline(Q3_multimodal, color='b', linestyle='dashed', linewidth=1, label=f'P75 = {Q3_multimodal:.2f}')\n",
    "axs[2].axvspan(Q1_multimodal, Q3_multimodal, alpha=0.2, color='yellow', label=f'IQR = {IQR_multimodal:.2f}')\n",
    "axs[2].set_title('Distribución Multimodal')\n",
    "axs[2].set_xlabel('Valor')\n",
    "axs[2].legend()\n",
    "\n",
    "# Mostrar los gráficos\n",
    "plt.tight_layout()\n",
    "plt.show()\n"
   ]
  },
  {
   "cell_type": "markdown",
   "id": "8a6a5124-ac17-4b4d-ac3b-3564e74d6f12",
   "metadata": {},
   "source": [
    ">  **Ejercicio 4** Con la misma dataset de los ejercicios anteriores (`states.csv`), calcular los percentiles 25, 50 y 75. Calcular tambien el rango y el IQR para la variable población. Calcular/detectar outliers usando MAD y usando el criterio de Tukey (investigar)  Realizar dos gráficos. El primero: Un histograma que muestre los percentiles y el IQR. El segundo gráfico un boxplot (diagrama de caja y bigote) que muestre los outliers. "
   ]
  },
  {
   "cell_type": "code",
   "execution_count": 21,
   "id": "564ad211-e508-4258-9a43-315bf63c4808",
   "metadata": {},
   "outputs": [],
   "source": [
    "import pandas as pd\n",
    "import matplotlib.pyplot as plt\n",
    "state = pd.read_csv('state.csv')"
   ]
  },
  {
   "cell_type": "markdown",
   "id": "04705a74-9eed-4bcb-8df7-ecbe270fa584",
   "metadata": {},
   "source": [
    "## Explorando la Distribución de los Datos\n",
    "\n",
    "### Percentiles y Diagramas de Caja\n",
    "\n",
    "En la sección anterior, exploramos cómo los percentiles pueden usarse para medir la dispersión de los datos. Los percentiles también son valiosos para resumir la distribución completa. Es común reportar los cuartiles (percentiles 25, 50 y 75) y los deciles (percentiles 10, 20, ..., 90). Los percentiles son especialmente valiosos para resumir los extremos (la gama exterior) de la distribución. La cultura popular ha acuñado el término \"one-percenters\" para referirse a las personas en el percentil 99 superior de riqueza.\n",
    "\n",
    "La Tabla 1-4 muestra algunos percentiles de la tasa de asesinatos por estado.\n",
    "\n",
    "```python\n",
    "state['Murder.Rate'].quantile([0.05, 0.25, 0.5, 0.75, 0.95])\n"
   ]
  },
  {
   "cell_type": "markdown",
   "id": "ec38915d-fca1-44e8-98d5-8babc4fe158f",
   "metadata": {},
   "source": [
    "| 5%   | 25%  | 50%  | 75%  | 95%  |\n",
    "|------|------|------|------|------|\n",
    "| 1.60 | 2.42 | 4.00 | 5.55 | 6.51 |\n"
   ]
  },
  {
   "cell_type": "markdown",
   "id": "9dee07e8-6fe9-455f-b2dc-0e3914c3563d",
   "metadata": {},
   "source": [
    "La mediana es de 4 asesinatos por cada 100,000 personas, aunque hay bastante variabilidad: el percentil 5 es solo 1.6 y el percentil 95 es 6.51.\r\n",
    "\r\n",
    "Los diagramas de caja, introducidos por Tukey, se basan en percentiles y ofrecen una forma rápida de visualizar la distribución de los datos. La Figura 1-2 muestra un diagrama de caja de la población por estado.\r\n"
   ]
  },
  {
   "cell_type": "code",
   "execution_count": 22,
   "id": "1b470ca0-9f14-478f-962d-615e31a69d1d",
   "metadata": {},
   "outputs": [
    {
     "data": {
      "image/png": "[encoded data removed]",
      "text/plain": [
       "<Figure size 640x480 with 1 Axes>"
      ]
     },
     "metadata": {},
     "output_type": "display_data"
    }
   ],
   "source": [
    "import pandas as pd\n",
    "import matplotlib.pyplot as plt\n",
    "\n",
    "boxprops = dict(linestyle='-', linewidth=1.5, color='blue')\n",
    "whiskerprops = dict(linestyle='--', linewidth=1.5, color='blue')\n",
    "ax = (state['Population'] / 1_000_000).plot.box(boxprops=boxprops, whiskerprops=whiskerprops)\n",
    "ax.set_ylabel('Population (millions)')\n",
    "ax.set_title('Fig. 1-2')\n",
    "plt.show()"
   ]
  },
  {
   "cell_type": "markdown",
   "id": "4b99160b-0026-4895-9130-a8747686bff1",
   "metadata": {},
   "source": [
    "A partir de este diagrama de caja, podemos ver inmediatamente que la mediana de la población estatal es de aproximadamente 5 millones, la mitad de los estados se encuentran entre aproximadamente 2 millones y 7 millones, y hay algunos outliers con alta población. La parte superior e inferior de la caja son los percentiles 75 y 25, respectivamente. La mediana se muestra mediante la línea horizontal en la caja. Las líneas discontinuas, denominadas \"bigotes\", se extienden desde la parte superior e inferior de la caja para indicar el rango de la mayor parte de los datos. \r\n"
   ]
  },
  {
   "cell_type": "markdown",
   "id": "f07db8ce-c1a8-43ae-a392-4905f29230b3",
   "metadata": {},
   "source": [
    "### Tablas de Frecuencia e Histogramas\n",
    "\n",
    "Una tabla de frecuencia de una variable divide el rango de la variable en intervalos igualmente espaciados y nos dice cuántos valores caen dentro de cada intervalo. La siguiente serie muestra los intervalos junto al conteo de estados."
   ]
  },
  {
   "cell_type": "code",
   "execution_count": 19,
   "id": "102c41ba-27a0-499a-a50b-348a5b0cd54b",
   "metadata": {},
   "outputs": [
    {
     "data": {
      "text/plain": [
       "Population\n",
       "(526935.67, 4232659.0]      24\n",
       "(4232659.0, 7901692.0]      14\n",
       "(7901692.0, 11570725.0]      6\n",
       "(11570725.0, 15239758.0]     2\n",
       "(15239758.0, 18908791.0]     1\n",
       "(18908791.0, 22577824.0]     1\n",
       "(22577824.0, 26246857.0]     1\n",
       "(33584923.0, 37253956.0]     1\n",
       "(26246857.0, 29915890.0]     0\n",
       "(29915890.0, 33584923.0]     0\n",
       "Name: count, dtype: int64"
      ]
     },
     "execution_count": 19,
     "metadata": {},
     "output_type": "execute_result"
    }
   ],
   "source": [
    "binnedPopulation = pd.cut(state['Population'], 10)\n",
    "binnedPopulation.value_counts()"
   ]
  },
  {
   "cell_type": "markdown",
   "id": "deef9c83-0925-4af5-8efb-5228776a6121",
   "metadata": {},
   "source": [
    "> **Ejercicio 5**. Convertir la serie de arriba en un dataframe con indices enteros"
   ]
  },
  {
   "cell_type": "code",
   "execution_count": 24,
   "id": "d05e7adf-05aa-4071-b566-eb0ba08bf8ee",
   "metadata": {},
   "outputs": [
    {
     "data": {
      "text/plain": [
       "Population\n",
       "(526935.67, 2398142.5]      15\n",
       "(2398142.5, 4232659.0]       9\n",
       "(4232659.0, 6067175.5]       9\n",
       "(6067175.5, 7901692.0]       5\n",
       "(7901692.0, 9736208.5]       4\n",
       "(9736208.5, 11570725.0]      2\n",
       "(11570725.0, 13405241.5]     2\n",
       "(17074274.5, 18908791.0]     1\n",
       "(18908791.0, 20743307.5]     1\n",
       "(24412340.5, 26246857.0]     1\n",
       "(35419439.5, 37253956.0]     1\n",
       "(13405241.5, 15239758.0]     0\n",
       "(20743307.5, 22577824.0]     0\n",
       "(15239758.0, 17074274.5]     0\n",
       "(26246857.0, 28081373.5]     0\n",
       "(22577824.0, 24412340.5]     0\n",
       "(28081373.5, 29915890.0]     0\n",
       "(29915890.0, 31750406.5]     0\n",
       "(31750406.5, 33584923.0]     0\n",
       "(33584923.0, 35419439.5]     0\n",
       "Name: count, dtype: int64"
      ]
     },
     "execution_count": 24,
     "metadata": {},
     "output_type": "execute_result"
    }
   ],
   "source": [
    "binnedPopulation = pd.cut(state['Population'], 20)\n",
    "binnedPopulation.value_counts()"
   ]
  },
  {
   "cell_type": "markdown",
   "id": "435f1784-c578-4bf4-ad84-981e172c60c9",
   "metadata": {},
   "source": [
    "La Tabla 1-5 muestra una tabla de frecuencia de la población por estado:"
   ]
  },
  {
   "cell_type": "markdown",
   "id": "98e5d49f-764d-4c6b-a539-3dbb961841ed",
   "metadata": {},
   "source": [
    "| BinNumber | BinRange                 | Count | States                                                                                       |\r\n",
    "|-----------|--------------------------|-------|----------------------------------------------------------------------------------------------|\r\n",
    "| 1         | (526935.67, 4232659.0]   | 24    | Alaska, Arkansas, Connecticut, Delaware, Hawaii, Idaho, Iowa, Kansas, Maine, Mississippi, Montana, Nebraska, Nevada, New Hampshire, New Mexico, North Dakota, Rhode Island, South Dakota, Utah, Vermont, West Virginia, Wyoming, Oklahoma, Oregon |\r\n",
    "| 2         | (4232659.0, 7901692.0]   | 14    | Alabama, Arizona, Colorado, Indiana, Kentucky, Louisiana, Maryland, Minnesota, Missouri, South Carolina, Tennessee, Washington, Wisconsin, Massachusetts |\r\n",
    "| 3         | (7901692.0, 11570725.0]  | 6     | Georgia, Michigan, New Jersey, North Carolina, Ohio, Virginia                                                                       |\r\n",
    "| 4         | (11570725.0, 15239758.0] | 2     | Illinois, Pennsylvania                                                                                       |\r\n",
    "| 5         | (15239758.0, 18908791.0] | 1     | Florida                                                                                           |\r\n",
    "| 6         | (18908791.0, 22577824.0] | 1     | New York                                                                                           |\r\n",
    "| 7         | (22577824.0, 26246857.0] | 1     | Texas                                                                                           |\r\n",
    "| 8         | (33584923.0, 37253956.0] | 1     | California                                                                                           |\r\n",
    "| 9         | (26246857.0, 29915890.0] | 0     |                                                                                              |\r\n",
    "| 10        | (29915890.0, 33584923.0] | 0     |                                                                                              |\r\n"
   ]
  },
  {
   "cell_type": "markdown",
   "id": "ee9b3f01-3c0a-4b27-af5a-b0bd588d348d",
   "metadata": {},
   "source": [
    "> **Ejercicio 6**. Utilice Pandas para obtener la tabla 1-5 dada arriba."
   ]
  },
  {
   "cell_type": "markdown",
   "id": "6236a719-6a32-4796-a506-1d2d2768e9b7",
   "metadata": {},
   "source": [
    "El estado menos poblado es Wyoming, con 563,626 personas, y el más poblado es California, con 37,253,956 personas. Esto nos da un rango de 37,253,956 – 563,626 = 36,690,330, que debemos dividir en bins de tamaño igual—digamos 10 bins. Con 10 bins de tamaño igual, cada bin tendrá un ancho de 3,669,033, por lo que el primer bin abarcará de 563,626 a 4,232,658. Por el contrario, el bin superior, de 33,584,923 a 37,253,956, tiene solo un estado: California. Los dos bins inmediatamente debajo de California están vacíos, hasta que llegamos a Texas. Es importante incluir los bins vacíos; el hecho de que no haya valores en esos bins es información útil. También puede ser útil experimentar con diferentes tamaños de bins. Si son demasiado grandes, se pueden ocultar características importantes de la distribución. Si son demasiado pequeños, el resultado es demasiado granular y se pierde la capacidad de ver el panorama general.\n",
    "\n",
    "Tanto las tablas de frecuencia como los percentiles resumen los datos creando bins. En general, los cuartiles y deciles tendrán el mismo conteo en cada bin (bins de conteo igual), pero los tamaños de los bins serán diferentes. La tabla de frecuencia, por el contrario, tendrá diferentes conteos en los bins (bins de tamaño igual), y los tamaños de los bins serán los mismos.\n",
    "\n",
    "Un histograma es una forma de visualizar una tabla de frecuencia, con bins en el eje x y el conteo de datos en el eje y. Por ejemplo, el bin centrado en 10 millones (1e+07) va desde aproximadamente 8 millones hasta 12 millones, y hay seis estados en ese bin. pandas soporta histogramas para data frames con el método `DataFrame.plot.hist`. Use el argumento bins para definir el número de bins. Los diversos métodos de trazado devuelven un objeto de eje que permite ajustar aún más la visualización usando `Matplotlib`:  "
   ]
  },
  {
   "cell_type": "code",
   "execution_count": 50,
   "id": "85f64fe5-e7e0-4ac4-92fa-57fda55bd0ba",
   "metadata": {},
   "outputs": [
    {
     "data": {
      "text/plain": [
       "Text(0.5, 1.0, 'Fig. 1-3')"
      ]
     },
     "execution_count": 50,
     "metadata": {},
     "output_type": "execute_result"
    },
    {
     "data": {
      "image/png": "[encoded data removed]",
      "text/plain": [
       "<Figure size 400x400 with 1 Axes>"
      ]
     },
     "metadata": {},
     "output_type": "display_data"
    }
   ],
   "source": [
    "ax = (state['Population'] / 1_000_000).plot.hist(figsize=(4, 4))\n",
    "ax.set_xlabel('Population (millions)')\n",
    "ax.set_title('Fig. 1-3')"
   ]
  },
  {
   "cell_type": "markdown",
   "id": "b64d4fb3-dd3d-4434-a716-b70022e02360",
   "metadata": {},
   "source": [
    "El histograma que se muestra en la figura de arriba (Figura 1-3) se trazan de tal manera que:\r\n",
    "\r\n",
    "- Se incluyen bins vacíos en el gráfico.\r\n",
    "- Los bins tienen el mismo ancho.\r\n",
    "- El número de bins (o, de manera equivalente, el tamaño del bin) depende del usuario.\r\n",
    "- Las barras son contiguas—no hay espacio vacío entre las barras, a menos que haya un bin vacío.\r\n"
   ]
  },
  {
   "cell_type": "markdown",
   "id": "f12ca9fa-3b30-49ac-9d6d-5ef432a711da",
   "metadata": {},
   "source": [
    "### Momentos Estadísticos\n",
    "\n",
    "En la teoría estadística, la ubicación y la variabilidad se refieren a los primeros y segundos momentos de una distribución. Los terceros y cuartos momentos se denominan asimetría (`skewness`) y curtosis (`kurtosis`). La asimetría se refiere a si los datos están sesgados hacia valores más grandes o más pequeños, y la curtosis indica la propensión de los datos a tener valores extremos. Generalmente, no se utilizan métricas para medir la asimetría y la curtosis; en su lugar, se descubren a través de representaciones visuales como las Figuras 1-2 y 1-3."
   ]
  },
  {
   "cell_type": "markdown",
   "id": "ea2c6493-ee9b-420f-935a-ebe447319fef",
   "metadata": {},
   "source": [
    "### Gráficas de Densidad y Estimaciones\n",
    "\n",
    "Relacionado con el histograma está la gráfica de densidad, que muestra la distribución de los valores de los datos como una línea continua. Una gráfica de densidad puede considerarse como un histograma suavizado, aunque típicamente se calcula directamente a partir de los datos a través de una estimación de densidad del kernel (KDE). La Figura 1-4 muestra una estimación de densidad superpuesta a un histograma.\n"
   ]
  },
  {
   "cell_type": "markdown",
   "id": "dff50e0f-6b91-4ae4-85be-3b7b1b51509b",
   "metadata": {},
   "source": [
    "Pandas proporciona el método `density` para crear una gráfica de densidad. Use el argumento `bw_method` para controlar la suavidad de la curva de densidad:"
   ]
  },
  {
   "cell_type": "code",
   "execution_count": 7,
   "id": "f4014686-4aae-454b-8b72-d2115c6e6d39",
   "metadata": {},
   "outputs": [
    {
     "data": {
      "text/plain": [
       "Text(0.5, 1.0, 'Fig 1-4')"
      ]
     },
     "execution_count": 7,
     "metadata": {},
     "output_type": "execute_result"
    },
    {
     "data": {
      "image/png": "[encoded data removed]",
      "text/plain": [
       "<Figure size 640x480 with 1 Axes>"
      ]
     },
     "metadata": {},
     "output_type": "display_data"
    }
   ],
   "source": [
    "ax = state['Murder.Rate'].plot.hist(density=True, xlim=[0,12], bins=range(1,12))\n",
    "state['Murder.Rate'].plot.density(ax=ax)\n",
    "# Las funciones de trazado a menudo toman un argumento opcional de eje (ax), \n",
    "# lo que hará que el gráfico se añada al mismo plot (histograma).\n",
    "\n",
    "ax.set_xlabel('Murder Rate (per 100,000)')\n",
    "ax.set_title('Fig 1-4')\n"
   ]
  },
  {
   "cell_type": "markdown",
   "id": "07383fc6-6c47-485e-8968-18e635cd5f67",
   "metadata": {},
   "source": [
    "## Histograma vs. Gráfica de Densidad\n",
    "\n",
    "### Histograma:\n",
    "\n",
    "- Un histograma es una representación gráfica de la distribución de datos mediante barras.\n",
    "- En el histograma, el eje `y` representa los conteos de frecuencia, es decir, cuántos datos caen en cada bin.\n",
    "- Por ejemplo, si tienes un bin que cubre valores de 1 a 2 y hay 5 datos en ese rango, la altura de la barra para ese bin será 5.\n",
    "\n",
    "### Gráfica de Densidad:\n",
    "\n",
    "- Una gráfica de densidad es una versión suavizada del histograma, que muestra una línea continua en lugar de barras.\n",
    "- En una gráfica de densidad, el eje y representa la densidad de probabilidad, no los conteos de frecuencia.\n",
    "- La densidad de probabilidad es una medida que indica la probabilidad de que una variable aleatoria tome un valor dentro de un intervalo determinado.\n",
    "- La clave aquí es que el área total bajo la curva de densidad es igual a 1. Esto significa que si sumas todas las áreas bajo la curva, obtendrás 1, lo que representa el 100% de la probabilidad."
   ]
  },
  {
   "cell_type": "code",
   "execution_count": 25,
   "id": "fdc6f8f7-4864-4031-9724-0cc046da2692",
   "metadata": {},
   "outputs": [
    {
     "data": {
      "image/png": "[encoded data removed]",
      "text/plain": [
       "<Figure size 600x400 with 1 Axes>"
      ]
     },
     "metadata": {},
     "output_type": "display_data"
    },
    {
     "data": {
      "image/png": "[encoded data removed]",
      "text/plain": [
       "<Figure size 600x400 with 1 Axes>"
      ]
     },
     "metadata": {},
     "output_type": "display_data"
    }
   ],
   "source": [
    "import pandas as pd\n",
    "import matplotlib.pyplot as plt\n",
    "\n",
    "# Cargar el archivo CSV\n",
    "state = pd.read_csv('state.csv')\n",
    "\n",
    "# Crear el histograma\n",
    "ax_hist = (state['Population'] / 1_000_000).plot.hist(figsize=(6, 4))\n",
    "ax_hist.set_xlabel('Population (millions)')\n",
    "ax_hist.set_ylabel('Frequency')\n",
    "ax_hist.set_title('Histograma de la Población')\n",
    "plt.show()\n",
    "\n",
    "# Crear la gráfica de densidad\n",
    "ax_density = (state['Population'] / 1_000_000).plot.density(figsize=(6, 4))\n",
    "ax_density.set_xlabel('Population (millions)')\n",
    "ax_density.set_ylabel('Density')\n",
    "ax_density.set_title('Gráfica de Densidad de la Población')\n",
    "plt.show()"
   ]
  },
  {
   "cell_type": "markdown",
   "id": "59ee7334-a475-4fb7-b2e1-56d50c503a64",
   "metadata": {},
   "source": [
    "### Resumen\n",
    "Un histograma de frecuencias traza los conteos de frecuencia en el eje y y los valores de la variable en el eje x; proporciona una idea de la distribución de los datos de un vistazo.\r\n",
    "- Una tabla de frecuencias es una versión tabular de los conteos de frecuencia que se encuentran en un histograma.\r\n",
    "- Un diagrama de ca en cambio, a, con la parte superior e inferior de la caja en los percentiles 75 y 25, respectivamente, también proporciona una idea rápida de la distribución de los datos; a menudo se utiliza en pantallas lado a lado para comparar distribuciones.\r\n",
    "- Una gráfica de densidad es una versión suavizada de un histograma; requiere una función para estimar una gráfica basada en los datos (por supuesto, son posibles múltiples estimaciones).\r\n"
   ]
  },
  {
   "cell_type": "markdown",
   "id": "01f35f69-8a6c-4bd0-bbbd-d7dd040c669a",
   "metadata": {},
   "source": [
    "## Representación de Datos Binarios y Categóricos\r\n",
    "\r\n",
    "Para los datos categóricos, las proporciones o porcentajes simples cuentan la historia de los datos.\r\n",
    "\r\n",
    "### Términos Clave para Explorar Datos Categóricos\r\n",
    "\r\n",
    "**Moda**  \r\n",
    "La categoría o valor que ocurre con mayor frecuencia en un conjunto de datos.\r\n",
    "\r\n",
    "**Valor Esperado**  \r\n",
    "Cuando las categorías pueden asociarse con un valor numérico, esto proporciona un valor promedio basado en la probabilidad de ocurrencia de una categoría.\r\n",
    "\r\n",
    "**Gráficos de Barras**  \r\n",
    "La frecuencia o proporción de cada categoría trazada como barras.\r\n",
    "\r\n",
    "**Gráficos de Pastel**  \r\n",
    "La frecuencia o proporción de cada categoría trazada como cuñas en un pastel.\r\n",
    "\r\n",
    "Obtener un resumen de una variable binaria o una variable categórica con algunas categorías es una cuestión bastante sencilla: solo necesitamos averiguar la proporción de 1s, o las proporciones de las categorías importantes. Por ejemplo, la Tabla 1-6 muestra el porcentaje de vuelos retrasados por la causa del retraso en el Aeropuerto de Dallas/Fort Worth desde 2010. Los retrasos se categorizan como debidos a factores bajo el control del transportista, retrasos del sistema de control del tráfico aéreo (ATC), clima, seguridad, o una aeronave entrante tardía.\r\n"
   ]
  },
  {
   "cell_type": "markdown",
   "id": "b6e61b7c-6c3c-4416-b36f-d0e3dc59f8b2",
   "metadata": {},
   "source": [
    "### Tabla 1-6. Porcentaje de retrasos por causa en el Aeropuerto de Dallas/Fort Worth\r\n",
    "\r\n",
    "| Carrier | ATC   | Weather | Security | Inbound |\r\n",
    "|---------|-------|---------|----------|---------|\r\n",
    "| 23.02%  | 30.40%| 4.03%   | 0.12%    | 42.43%  |\r\n"
   ]
  },
  {
   "cell_type": "code",
   "execution_count": 30,
   "id": "34f8dc08-b17b-4ab0-b716-4f3923470229",
   "metadata": {},
   "outputs": [
    {
     "name": "stdout",
     "output_type": "stream",
     "text": [
      "     Carrier        ATC   Weather  Security    Inbound\n",
      "0  23.022989  30.400781  4.025214  0.122937  42.428079\n"
     ]
    }
   ],
   "source": [
    "dfw = pd.read_csv('dfw_airline.csv')\n",
    "print(100 * dfw / dfw.values.sum())"
   ]
  },
  {
   "cell_type": "markdown",
   "id": "a919a9f9-639e-4575-b4eb-f85b8a966805",
   "metadata": {},
   "source": [
    "- **Carrier (Transportista)**:\n",
    "  - Esta columna muestra el porcentaje de retrasos causados por factores bajo el control de la aerolínea o transportista. Esto puede incluir problemas operacionales, personal, mantenimiento, etc. En este caso, el 23.02% de los retrasos son atribuibles al transportista.\n",
    "\n",
    "- **ATC (Control de Tráfico Aéreo)**:\n",
    "  - Esta columna representa el porcentaje de retrasos causados por el sistema de control de tráfico aéreo. Estos retrasos pueden ocurrir debido a congestión en el espacio aéreo, problemas de gestión del tráfico aéreo, etc. Aquí, el 30.40% de los retrasos son debido a ATC.\n",
    "\n",
    "- **Weather (Clima)**:\n",
    "  - Esta columna indica el porcentaje de retrasos causados por condiciones meteorológicas adversas, como tormentas, niebla, nieve, etc. En este caso, el 4.03% de los retrasos son atribuibles al clima.\n",
    "\n",
    "- **Security (Seguridad)**:\n",
    "  - Esta columna muestra el porcentaje de retrasos causados por medidas de seguridad, como inspecciones adicionales, procedimientos de seguridad, amenazas de seguridad, etc. En este caso, el 0.12% de los retrasos son debido a problemas de seguridad.\n",
    "\n",
    "- **Inbound (Aeronave Entrante)**:\n",
    "  - Esta columna representa el porcentaje de retrasos causados por la llegada tardía de la aeronave entrante. Esto puede suceder si un vuelo anterior llega tarde, afectando la salida programada del siguiente vuelo. Aquí, el 42.43% de los retrasos son debido a aeronaves entrantes tardías."
   ]
  },
  {
   "cell_type": "markdown",
   "id": "21c0cf96-a894-4aa2-8407-cd90f04d5851",
   "metadata": {},
   "source": [
    "Los gráficos de barras (bar charts), que se ven a menudo en la prensa popular, son una herramienta visual común para mostrar una única variable categórica. Las categorías se enumeran en el eje x y las frecuencias o proporciones en el eje y. Pandas también admite gráficos de barras para data frames:\r\n",
    "\r\n"
   ]
  },
  {
   "cell_type": "code",
   "execution_count": 49,
   "id": "5007e75a-3c3c-4ef9-89b5-d572a7e10493",
   "metadata": {},
   "outputs": [
    {
     "data": {
      "image/png": "[encoded data removed]",
      "text/plain": [
       "<Figure size 400x400 with 1 Axes>"
      ]
     },
     "metadata": {},
     "output_type": "display_data"
    },
    {
     "data": {
      "text/plain": [
       "Text(0.5, 1.0, 'Fig 1-5')"
      ]
     },
     "execution_count": 49,
     "metadata": {},
     "output_type": "execute_result"
    }
   ],
   "source": [
    "ax = dfw.transpose().plot.bar(figsize=(4, 4), legend=False)\n",
    "ax.set_xlabel('Cause of delay')\n",
    "ax.set_ylabel('Count')\n",
    "\n",
    "plt.tight_layout()\n",
    "plt.show()\n",
    "ax.set_title('Fig 1-5')"
   ]
  },
  {
   "cell_type": "markdown",
   "id": "30345584-642d-48ae-ab33-65b84717e2e0",
   "metadata": {},
   "source": [
    "Tenga en cuenta que un gráfico de barras se asemeja a un histograma; en un gráfico de barras, el eje x representa diferentes categorías de una variable de factor, mientras que en un histograma, el eje x representa valores de una sola variable en una escala numérica. En un histograma, las barras generalmente se muestran tocándose entre sí, con espacios que indican valores que no ocurrieron en los datos. En un gráfico de barras, las barras se muestran separadas entre sí.\n"
   ]
  },
  {
   "cell_type": "markdown",
   "id": "67add187-7535-40eb-a8c6-07e147e28b47",
   "metadata": {},
   "source": [
    "### Moda\n",
    "\n",
    "La moda es el valor—o valores en caso de empate—que aparece con mayor frecuencia en los datos. Por ejemplo, la moda de la causa de retraso en el aeropuerto de Dallas/Fort Worth es `\"Inbound\"`. Como otro ejemplo, en la mayoría de las partes de los Estados Unidos, la moda para la preferencia religiosa sería cristiana. La moda es una estadística resumida simple para datos categóricos y, en general, no se utiliza para datos numéricos."
   ]
  },
  {
   "cell_type": "markdown",
   "id": "de4ac48d-383c-428c-9a80-ccc8b31c0100",
   "metadata": {},
   "source": [
    "### Valor Esperado\n",
    "\n",
    "Un tipo especial de datos categóricos es aquel en el que las categorías representan o pueden asignarse a valores discretos en la misma escala. Un comercializador de una nueva tecnología en la nube, por ejemplo, ofrece dos niveles de servicio, uno con un precio de $300\\$/mes$ y otro con un precio de $50\\$/mes$.  \n",
    "El comercializador ofrece seminarios web gratuitos para generar clientes potenciales, y la empresa calcula que el $5\\%$ de los asistentes se suscribirá al servicio de 300 dolares, el $15\\%$ se suscribirá al servicio de 50 dólares y el $80\\%$ no se suscribirá a nada. Estos datos pueden resumirse, para fines financieros, en un único \"valor esperado\", que es una forma de media ponderada, en la que los pesos son probabilidades."
   ]
  },
  {
   "cell_type": "markdown",
   "id": "a9ca92df-1ee0-4616-bb35-48acb41d230f",
   "metadata": {},
   "source": [
    "### Valor Esperado\n",
    "\n",
    "El valor esperado se calcula de la siguiente manera:\n",
    "1. Multiplicar cada resultado por su probabilidad de ocurrencia.\n",
    "2. Sumar estos valores.\n",
    "\n",
    "En el ejemplo del servicio en la nube, el valor esperado de un asistente a un seminario web es de $22.50 por mes, calculado de la siguiente manera:\n",
    "\n",
    "<div style=\"text-align: center;\">\n",
    "\\[ EV = 0.05 \\times 300 + 0.15 \\times 50 + 0.80 \\times 0 = 22.5 \\]\n",
    "</div>\n",
    "\n",
    "El valor esperado es realmente una forma de media ponderada: añade las ideas de expectativas futuras y pesos de probabilidad, a menudo basados en el juicio subjetivo. El valor esperado es un concepto fundamental en la valoración empresarial y la planificación de inversiones, por ejemplo, el valor esperado de cinco años de beneficios de una nueva adquisición o los ahorros de costos esperados de un nuevo software de gestión de pacientes en una clínica.\n"
   ]
  },
  {
   "cell_type": "markdown",
   "id": "6687f76c-bac0-4f9b-b440-27d4149b2422",
   "metadata": {},
   "source": [
    "El valor esperado es una medida fundamental en probabilidad y estadísticas que se utiliza para predecir el resultado promedio de un conjunto de eventos probabilísticos. Se calcula ponderando cada posible resultado por su probabilidad de ocurrencia y sumando estos valores ponderados.\n",
    "\n",
    "#### Pasos para Calcular el Valor Esperado\n",
    "\n",
    "1. **Identificar los Resultados y sus Probabilidades**:\n",
    "   - Cada posible resultado de un experimento o evento debe tener una probabilidad asociada.\n",
    "\n",
    "2. **Multiplicar Cada Resultado por su Probabilidad de Ocurrencia**:\n",
    "   - Para cada resultado, multiplicamos su valor por la probabilidad de que ocurra.\n",
    "\n",
    "3. **Sumar los Valores Ponderados**:\n",
    "   - Sumamos todos los valores ponderados obtenidos en el paso anterior para obtener el valor esperado.\n",
    "\n",
    "### Ejemplo Detallado: Juego de Lotería\n",
    "\n",
    "Supongamos que estamos analizando un simple juego de lotería. El costo de un boleto es $10, y hay tres posibles premios:\n",
    "- Un premio de \\$100 con una probabilidad de 1\\%.\n",
    "- Un premio de \\$50 con una probabilidad de 2\\%.\n",
    "- Un premio de \\$20 con una probabilidad de 5\\%.\n",
    "- No ganar nada con una probabilidad de 92\\%.\n",
    "\n",
    "Queremos calcular el valor esperado de las ganancias por boleto."
   ]
  },
  {
   "cell_type": "markdown",
   "id": "954218f4-914e-45ca-aee8-cafe36109c9b",
   "metadata": {},
   "source": [
    "#### Paso 1: Identificar los Resultados y sus Probabilidades\n",
    "\n",
    "- Ganar \\$100: Probabilidad = 0.01\n",
    "- Ganar \\$50: Probabilidad = 0.02\n",
    "- Ganar \\$20: Probabilidad = 0.05\n",
    "- Ganar \\$0: Probabilidad = 0.92"
   ]
  },
  {
   "cell_type": "markdown",
   "id": "098e38ce-cf74-4596-8949-6be11211f69e",
   "metadata": {},
   "source": [
    "#### Paso 2: Multiplicar Cada Resultado por su Probabilidad de Ocurrencia"
   ]
  },
  {
   "cell_type": "markdown",
   "id": "404e4a92-a113-4a64-9802-681a362986db",
   "metadata": {},
   "source": [
    "- Ganancia ponderada por ganar \\$100:\n",
    "<div style=\"text-align: center;\">\n",
    "  \\[   100 \\times 0.01 = 1   \\]  \n",
    "</div>\n",
    "- Ganancia ponderada por ganar \\$50:\n",
    "<div style=\"text-align: center;\">\n",
    "    \\[   50 \\times 0.02 = 1   \\]\n",
    "</div>\n",
    "- Ganancia ponderada por ganar \\$20:\n",
    "<div style=\"text-align: center;\">\n",
    "      \\[   20 \\times 0.05 = 1   \\]\n",
    "</div>\n",
    "\n",
    "- Ganancia ponderada por ganar \\$0:\n",
    "<div style=\"text-align: center;\">\n",
    "    \\[ 0 \\times 0.92 = 0   \\]\n",
    "</div>"
   ]
  },
  {
   "cell_type": "markdown",
   "id": "ee0daf71-a7f1-4357-a9dd-8872fb41300d",
   "metadata": {},
   "source": [
    "#### Paso 2: Multiplicar Cada Resultado por su Probabilidad de Ocurrencia\n",
    "\n",
    "- Ganancia ponderada por ganar \\$100:\n",
    "<div style=\"text-align: center;\">\n",
    "  \\[   100 \\times 0.01 = 1   \\]  \n",
    "</div>\n",
    "- Ganancia ponderada por ganar \\$50:\n",
    "<div style=\"text-align: center;\">\n",
    "    \\[   50 \\times 0.02 = 1   \\]\n",
    "</div>\n",
    "- Ganancia ponderada por ganar \\$20:\n",
    "<div style=\"text-align: center;\">\n",
    "      \\[   20 \\times 0.05 = 1   \\]\n",
    "</div>\n",
    "\n",
    "- Ganancia ponderada por ganar \\$0:\n",
    "<div style=\"text-align: center;\">\n",
    "    \\[ 0 \\times 0.92 = 0   \\]\n",
    "</div>"
   ]
  },
  {
   "cell_type": "markdown",
   "id": "d924d96c-2960-449f-b022-7c454adcff9c",
   "metadata": {},
   "source": [
    "#### Paso 3: Sumar los Valores Ponderados\n",
    "\n",
    "Sumamos todas las ganancias ponderadas para obtener el valor esperado:\n",
    "\n",
    "<div style=\"text-align: center;\">\n",
    "\\[ EV = 1 + 1 + 1 + 0 = 3 \\]\n",
    "</div>\n",
    "\n",
    "Finalmente, para obtener la ganancia neta esperada, restamos el costo del boleto ($10):\n",
    "\n",
    "<div style=\"text-align: center;\">\n",
    "\\[ EV_{\\text{neto}} = 3 - 10 = -7 \\]\n",
    "</div>"
   ]
  },
  {
   "cell_type": "markdown",
   "id": "7ffdd7f3-ccc4-48b0-9018-8d363b74b79d",
   "metadata": {},
   "source": [
    "### Interpretación del Resultado\n",
    "\n",
    "El valor esperado neto de `-7 dolares` significa que, en promedio, se espera perder \\$7 por cada boleto comprado en este juego de lotería. Aunque es posible ganar dinero, las probabilidades están estructuradas de tal manera que las pérdidas promedio superan las ganancias promedio."
   ]
  },
  {
   "cell_type": "markdown",
   "id": "33c68c60-af9c-42e7-ae2d-9350a50af615",
   "metadata": {},
   "source": [
    "\n",
    "### Aplicación del Valor Esperado en Negocios\n",
    "\n",
    "El valor esperado se utiliza ampliamente en negocios y finanzas para la toma de decisiones. Algunos ejemplos incluyen:\n",
    "- **Valoración de Proyectos**: Estimar los ingresos esperados de un nuevo proyecto o inversión.\n",
    "- **Gestión de Riesgos**: Calcular el valor esperado de pérdidas en escenarios de riesgo.\n",
    "- **Planificación de Presupuestos**: Prever los costos y beneficios futuros esperados para la planificación financiera.\n",
    "\n",
    "El valor esperado es una herramienta poderosa que ayuda a tomar decisiones informadas basadas en probabilidades y resultados ponderados."
   ]
  },
  {
   "cell_type": "markdown",
   "id": "9cc8e3e6-1987-4b10-8174-c2bd89b87cc8",
   "metadata": {},
   "source": [
    "### Correlación\r\n",
    "\r\n",
    "El análisis exploratorio de dat `EDA`os en muchos proyectos de modelado (ya sea en ciencia de datos o en investigación) implica examinar la correlación entre predictor, ees decir correlación y entre predictores y una variable objetivo. Se dice que las variables X e Y (cada una con datos medidos) están positivamente correlacionadas si los valores altos de X van acompañados de valores altos de Y, y los valores bajos de X van acompañados de valores bajos de Y. Si los valores altos de X van acompañados de valores bajos de Y, y viceversa, las variables están negativamente correlacionada.\r\n"
   ]
  },
  {
   "cell_type": "markdown",
   "id": "439f4e4f-4df6-459d-96c1-3e1ba50b70dd",
   "metadata": {},
   "source": [
    "### Términos Clave para la Correlación\n",
    "\n",
    "**Coeficiente de Correlación**\n",
    "Una métrica que mide la magnitud en la que las variables numéricas están asociadas entre sí (rango de –1 a +1).\n",
    "\n",
    "El coeficiente de correlación es una métrica que cuantifica la relación entre dos variables numéricas, se usa para determinar tanto la fuerza como la dirección de la relación lineal entre las variables.\n",
    "\n",
    "#### Valores del Coeficiente de Correlación\n",
    "\n",
    "- **+1**: Indica una correlación perfectamente positiva. A medida que una variable aumenta, la otra también aumenta en proporción constante. Todos los puntos en un gráfico de dispersión caerían exactamente en una línea recta ascendente.\n",
    "- **0**: Indica que no hay correlación lineal entre las variables. Los puntos en un gráfico de dispersión estarían dispersos de manera que no formarían ningún patrón lineal.\n",
    "- **-1**: Indica una correlación perfectamente negativa. A medida que una variable aumenta, la otra disminuye en proporción constante. Todos los puntos en un gráfico de dispersión caerían exactamente en una línea recta descendente.\n",
    "\n",
    "#### Interpretación de la Magnitud del Coeficiente de Correlación\n",
    "\n",
    "- **0.9 a 1.0 (o -0.9 a -1.0)**: Correlación muy fuerte\n",
    "- **0.7 a 0.9 (o -0.7 a -0.9)**: Correlación fuerte\n",
    "- **0.5 a 0.7 (o -0.5 a -0.7)**: Correlación moderada\n",
    "- **0.3 a 0.5 (o -0.3 a -0.5)**: Correlación débil\n",
    "- **0.0 a 0.3 (o 0.0 a -0.3)**: Correlación muy débil o inexistente"
   ]
  },
  {
   "cell_type": "markdown",
   "id": "8d332624-10d0-4c50-bcdf-00206c607d05",
   "metadata": {},
   "source": [
    "#### Fórmula del Coeficiente de Correlación de Pearson\n",
    "\n",
    "El coeficiente de correlación más comúnmente usado es el coeficiente de correlación de Pearson, que se calcula usando la siguiente fórmula:\n",
    "\n",
    "<div style=\"text-align: center;\">\n",
    "  \\[\n",
    "  r = \\frac{\\sum (x_i - \\bar{x})(y_i - \\bar{y})}{\\sqrt{\\sum (x_i - \\bar{x})^2 \\sum (y_i - \\bar{y})^2}}\n",
    "  \\]\n",
    "</div>\n",
    "\n",
    "donde:\n",
    "- \\( $r$ \\) es el coeficiente de correlación de Pearson.\n",
    "- \\( $x_i$ \\) y \\( $y_i$ \\) son los valores individuales de las variables \\( X \\) e \\( Y \\).\n",
    "- \\( $\\bar{x}$ \\) y \\( $\\bar{y}$ \\) son las medias de las variables \\( X \\) e \\( Y \\), respectivamente."
   ]
  },
  {
   "cell_type": "markdown",
   "id": "17913093-4c07-410f-98ef-9a98253c0bb7",
   "metadata": {},
   "source": [
    "**Matriz de Correlación**\n",
    "Una tabla donde las variables se muestran tanto en las filas como en las columnas, y los valores de las celdas son las correlaciones entre las variables.  \n",
    "\n",
    "La Tabla 1-7, llamada matriz de correlación, muestra la correlación entre los rendimientos diarios de las acciones de telecomunicaciones desde julio de 2012 hasta junio de 2015. En la tabla, se puede ver que Verizon (VZ) y ATT (T) tienen la correlación más alta. Level 3 (LVLT), que es una empresa de infraestructura, tiene la correlación más baja con las demás. Nota la diagonal de 1s (la correlación de una acción consigo misma es 1) y la redundancia de la información por encima y por debajo de la diagonal.\n",
    "\n",
    "### Tabla 1-7. Correlación entre los rendimientos de las acciones de telecomunicaciones\n",
    "\n",
    "|       | T     | CTL   | FTR   | VZ    | LVLT  |\n",
    "|-------|-------|-------|-------|-------|-------|\n",
    "| **T**   | 1.000 | 0.475 | 0.328 | 0.678 | 0.279 |\n",
    "| **CTL** | 0.475 | 1.000 | 0.420 | 0.417 | 0.287 |\n",
    "| **FTR** | 0.328 | 0.420 | 1.000 | 0.287 | 0.260 |\n",
    "| **VZ**  | 0.678 | 0.417 | 0.287 | 1.000 | 0.242 |\n",
    "| **LVLT**| 0.279 | 0.287 | 0.260 | 0.242 | 1.000 |\n",
    "\n",
    "\n",
    "\n",
    "La Tabla 1-7 muestra la correlación entre los rendimientos diarios de varias acciones de telecomunicaciones. A continuación se explican las siglas de las empresas que aparecen en la tabla:\n",
    "\n",
    "- **T**: AT&T Inc.\n",
    "  - AT&T es una de las compañías de telecomunicaciones más grandes del mundo, ofreciendo servicios de telefonía fija y móvil, así como servicios de internet y televisión.\n",
    "\n",
    "- **CTL**: CenturyLink, Inc.\n",
    "  - CenturyLink, ahora conocido como Lumen Technologies, es una empresa de telecomunicaciones que proporciona servicios de voz, datos y video en todo el mundo.\n",
    "\n",
    "- **FTR**: Frontier Communications Corporation\n",
    "  - Frontier Communications es una empresa de telecomunicaciones que ofrece servicios de voz, banda ancha y video, principalmente en áreas rurales y suburbanas de los Estados Unidos.\n",
    "\n",
    "- **VZ**: Verizon Communications Inc.\n",
    "  - Verizon es una empresa de telecomunicaciones que proporciona servicios de comunicación y tecnología, incluyendo servicios de telefonía móvil y fija, internet y televisión.\n",
    "\n",
    "- **LVLT**: Level 3 Communications, Inc.\n",
    "  - Level 3 Communications, ahora parte de CenturyLink (Lumen Technologies), es una empresa de infraestructura que ofrece servicios de red y datos a empresas, gobiernos y otros operadores de telecomunicaciones.\n",
    "\n",
    "Estas siglas representan algunas de las principales compañías de telecomunicaciones, y la tabla muestra cómo los rendimientos diarios de sus acciones están correlacionados entre sí.  "
   ]
  },
  {
   "cell_type": "markdown",
   "id": "1df55a77-0046-49a8-8a55-255582896097",
   "metadata": {},
   "source": [
    "Una tabla de correlaciones como la Tabla 1-7 se traza comúnmente para mostrar visualmente la relación entre múltiples variables. La Figura 1-6 muestra la correlación entre los rendimientos diarios de los principales fondos cotizados en bolsa (ETFs). El siguiente código demuestra esto utilizando el paquete `seaborn.heatmap`. \n"
   ]
  },
  {
   "cell_type": "code",
   "execution_count": 34,
   "id": "51d35261-6edf-4ab1-b7d9-4a6faf8970f2",
   "metadata": {},
   "outputs": [],
   "source": [
    "import seaborn as sns\n",
    "sp500_sym = pd.read_csv('sp500_sectors.csv')\n",
    "sp500_px = pd.read_csv('sp500_data.csv.gz', index_col=0)\n",
    "\n"
   ]
  },
  {
   "cell_type": "code",
   "execution_count": 35,
   "id": "24a9869a-54a8-4f35-9147-843af59bd0ca",
   "metadata": {},
   "outputs": [
    {
     "name": "stdout",
     "output_type": "stream",
     "text": [
      "                   T       CTL       FTR        VZ      LVLT\n",
      "2012-07-02  0.422496  0.140847  0.070879  0.554180 -0.519998\n",
      "2012-07-03 -0.177448  0.066280  0.070879 -0.025976 -0.049999\n",
      "2012-07-05 -0.160548 -0.132563  0.055128 -0.051956 -0.180000\n",
      "2012-07-06  0.342205  0.132563  0.007875  0.140106 -0.359999\n",
      "2012-07-09  0.136883  0.124279 -0.023626  0.253943  0.180000\n",
      "...              ...       ...       ...       ...       ...\n",
      "2015-06-25  0.049342 -1.600000 -0.040000 -0.187790 -0.330002\n",
      "2015-06-26 -0.256586  0.039999 -0.070000  0.029650 -0.739998\n",
      "2015-06-29 -0.098685 -0.559999 -0.060000 -0.504063 -1.360000\n",
      "2015-06-30 -0.503298 -0.420000 -0.070000 -0.523829  0.199997\n",
      "2015-07-01 -0.019737  0.080000 -0.050000  0.355811  0.139999\n",
      "\n",
      "[754 rows x 5 columns]\n"
     ]
    }
   ],
   "source": [
    "# Table 1-7\n",
    "# Determine telecommunications symbols\n",
    "telecomSymbols = sp500_sym[sp500_sym['sector'] == 'telecommunications_services']['symbol']\n",
    "\n",
    "# Filter data for dates July 2012 through June 2015\n",
    "telecom = sp500_px.loc[sp500_px.index >= '2012-07-01', telecomSymbols]\n",
    "telecom.corr()\n",
    "print(telecom)\n",
    "\n"
   ]
  },
  {
   "cell_type": "markdown",
   "id": "49759796-e13c-490d-b558-53b908ee6035",
   "metadata": {},
   "source": [
    "A continuación, nos enfocamos en los fondos negociados en las principales bolsas (sector == 'etf').\n"
   ]
  },
  {
   "cell_type": "code",
   "execution_count": 40,
   "id": "18e402a6-8527-4c5b-b793-b49e8a96ad17",
   "metadata": {},
   "outputs": [
    {
     "name": "stdout",
     "output_type": "stream",
     "text": [
      "                 XLI       QQQ       SPY       DIA       GLD    VXX       USO  \\\n",
      "2012-07-02 -0.376098  0.096313  0.028223 -0.242796  0.419998 -10.40  0.000000   \n",
      "2012-07-03  0.376099  0.481576  0.874936  0.728405  0.490006  -3.52  0.250000   \n",
      "2012-07-05  0.150440  0.096313 -0.103487  0.149420  0.239991   6.56 -0.070000   \n",
      "2012-07-06 -0.141040 -0.491201  0.018819 -0.205449 -0.519989  -8.80 -0.180000   \n",
      "2012-07-09  0.244465 -0.048160 -0.056445 -0.168094  0.429992  -0.48  0.459999   \n",
      "\n",
      "                 IWM       XLE       XLY       XLU       XLB       XTL  \\\n",
      "2012-07-02  0.534641  0.028186  0.095759  0.098311 -0.093713  0.019076   \n",
      "2012-07-03  0.926067  0.995942  0.000000 -0.044686  0.337373  0.000000   \n",
      "2012-07-05 -0.171848 -0.460387  0.306431 -0.151938  0.103086  0.019072   \n",
      "2012-07-06 -0.229128  0.206706  0.153214  0.080437  0.018744 -0.429213   \n",
      "2012-07-09 -0.190939 -0.234892 -0.201098 -0.035751 -0.168687  0.000000   \n",
      "\n",
      "                 XLV       XLP       XLF       XLK  \n",
      "2012-07-02 -0.009529  0.313499  0.018999  0.075668  \n",
      "2012-07-03  0.000000  0.129087  0.104492  0.236462  \n",
      "2012-07-05 -0.142955 -0.073766 -0.142490  0.066211  \n",
      "2012-07-06 -0.095304  0.119865  0.066495 -0.227003  \n",
      "2012-07-09  0.352630 -0.064548  0.018999  0.009457  \n"
     ]
    }
   ],
   "source": [
    "etfs = sp500_px.loc[sp500_px.index > '2012-07-01', sp500_sym[sp500_sym['sector'] == 'etf']['symbol']]\n",
    "print(etfs.head())"
   ]
  },
  {
   "cell_type": "code",
   "execution_count": 41,
   "id": "da2e5760-c9c2-465d-af7f-aba29a6409e1",
   "metadata": {},
   "outputs": [
    {
     "data": {
      "image/png": "[encoded data removed]",
      "text/plain": [
       "<Figure size 500x400 with 2 Axes>"
      ]
     },
     "metadata": {},
     "output_type": "display_data"
    }
   ],
   "source": [
    "fig, ax = plt.subplots(figsize=(5, 4))\n",
    "ax = sns.heatmap(etfs.corr(), vmin=-1, vmax=1, \n",
    "                 cmap=sns.diverging_palette(20, 220, as_cmap=True),\n",
    "                 ax=ax)\n",
    "\n",
    "plt.tight_layout()\n",
    "plt.show()"
   ]
  },
  {
   "cell_type": "markdown",
   "id": "e396492f-d28c-436d-9cb6-c335dc0b9e00",
   "metadata": {},
   "source": [
    "Los ETFs para el S&P 500 (SPY) y el índice Dow Jones (DIA) tienen una alta correlación. Del mismo modo, el QQQ y el XLK, compuestos principalmente por empresas tecnológicas, están positivamente correlacionados. Los ETFs defensivos, como los que rastrean los precios del oro (GLD), los precios del petróleo (USO) o la volatilidad del mercado (VXX), tienden a estar débilmente o negativamente correlacionados con los otros ETFs. "
   ]
  },
  {
   "cell_type": "code",
   "execution_count": 42,
   "id": "16fdd8f8-c85a-4f71-b68f-67faca8eb0ba",
   "metadata": {},
   "outputs": [
    {
     "name": "stderr",
     "output_type": "stream",
     "text": [
      "C:\\Users\\juanj\\AppData\\Local\\Temp\\ipykernel_29716\\1398409197.py:39: UserWarning: Adding colorbar to a different Figure <Figure size 500x400 with 2 Axes> than <Figure size 500x400 with 2 Axes> which fig.colorbar is called on.\n",
      "  cb = fig.colorbar(m, ax=ax)\n"
     ]
    },
    {
     "data": {
      "image/png": "[encoded data removed]",
      "text/plain": [
       "<Figure size 500x400 with 2 Axes>"
      ]
     },
     "metadata": {},
     "output_type": "display_data"
    }
   ],
   "source": [
    "import numpy as np\n",
    "from matplotlib.collections import EllipseCollection\n",
    "from matplotlib.colors import Normalize\n",
    "\n",
    "def plot_corr_ellipses(data, figsize=None, **kwargs):\n",
    "    ''' https://stackoverflow.com/a/34558488 '''\n",
    "    M = np.array(data)\n",
    "    if not M.ndim == 2:\n",
    "        raise ValueError('data must be a 2D array')\n",
    "    fig, ax = plt.subplots(1, 1, figsize=figsize, subplot_kw={'aspect':'equal'})\n",
    "    ax.set_xlim(-0.5, M.shape[1] - 0.5)\n",
    "    ax.set_ylim(-0.5, M.shape[0] - 0.5)\n",
    "    ax.invert_yaxis()\n",
    "\n",
    "    # xy locations of each ellipse center\n",
    "    xy = np.indices(M.shape)[::-1].reshape(2, -1).T\n",
    "\n",
    "    # set the relative sizes of the major/minor axes according to the strength of\n",
    "    # the positive/negative correlation\n",
    "    w = np.ones_like(M).ravel() + 0.01\n",
    "    h = 1 - np.abs(M).ravel() - 0.01\n",
    "    a = 45 * np.sign(M).ravel()\n",
    "\n",
    "    ec = EllipseCollection(widths=w, heights=h, angles=a, units='x', offsets=xy,\n",
    "                           norm=Normalize(vmin=-1, vmax=1),\n",
    "                           transOffset=ax.transData, array=M.ravel(), **kwargs)\n",
    "    ax.add_collection(ec)\n",
    "\n",
    "    # if data is a DataFrame, use the row/column names as tick labels\n",
    "    if isinstance(data, pd.DataFrame):\n",
    "        ax.set_xticks(np.arange(M.shape[1]))\n",
    "        ax.set_xticklabels(data.columns, rotation=90)\n",
    "        ax.set_yticks(np.arange(M.shape[0]))\n",
    "        ax.set_yticklabels(data.index)\n",
    "\n",
    "    return ec, ax\n",
    "\n",
    "m, ax = plot_corr_ellipses(etfs.corr(), figsize=(5, 4), cmap='bwr_r')\n",
    "cb = fig.colorbar(m, ax=ax)\n",
    "cb.set_label('Correlation coefficient')\n",
    "\n",
    "plt.tight_layout()\n",
    "plt.show()"
   ]
  },
  {
   "cell_type": "markdown",
   "id": "7601c4d8-543d-4e5f-9de1-b2844b8965de",
   "metadata": {},
   "source": [
    "La orientación de la elipse indica si dos variables están positivamente correlacionadas (la elipse apunta hacia la parte superior derecha) o negativamente correlacionadas (la elipse apunta hacia la parte superior izquierda). El sombreado y el ancho de la elipse indican la fuerza de la asociación: las elipses más delgadas y oscuras corresponden a relaciones más fuertes.\r\n"
   ]
  },
  {
   "cell_type": "markdown",
   "id": "4a89b024-2568-46df-8e8e-0b2b312eb9fa",
   "metadata": {},
   "source": [
    "Al igual que la media y la desviación estándar, el coeficiente de correlación es sensible a los valores atípicos en los datos. Los paquetes de software ofrecen alternativas robustas al coeficiente de correlación clásico.Los métodos en el módulo sklearn.covariance de scikit-learn implementan una variedad de enfoques.\n"
   ]
  },
  {
   "cell_type": "markdown",
   "id": "93997a74-b07f-4584-b24d-abf25c15a355",
   "metadata": {},
   "source": [
    "Los estadísticos propusieron otros tipos de coeficientes de correlación, como el rho de Spearman o el tau de Kendall. Estos son coeficientes de correlación basados en el rango de los datos.Los rangos son posiciones de los datos cuando se ordenan de menor a mayor. Dado que trabajan con rangos en lugar de valores, estas estimaciones son robustas frente a valores atípicos y pueden manejar ciertos tipos de no linealidades. Sin embargo, los científicos de datos generalmente pueden ceñirse al coeficiente de correlación de Pearson y sus alternativas robustas para el análisis exploratorio. El atractivo de las estimaciones basadas en rangos es principalmente para conjuntos de datos más pequeños y pruebas de hipótesis específicas.\r\n"
   ]
  },
  {
   "cell_type": "markdown",
   "id": "22f33141-add4-4253-bcba-632e56e1f4e4",
   "metadata": {},
   "source": [
    "**Gráfico de Dispersión (Scatterplot)**\n",
    "Un gráfico en el que el eje x representa el valor de una variable, y el eje y representa el valor de otra variable. Vea la Figura 1-7 para un gráfico de la correlación entre los rendimientos diarios de ATT y Verizon."
   ]
  },
  {
   "cell_type": "markdown",
   "id": "4797c3ea-2f50-44e8-8e08-6b3c52dbd4b0",
   "metadata": {},
   "source": [
    "Los gráficos de dispersión simples son compatibles con pandas. Especificar el marcador como `$\\u25EF$` usa un círculo abierto para cada punto.\r\n"
   ]
  },
  {
   "cell_type": "code",
   "execution_count": 47,
   "id": "533ada7a-82f6-41d3-b373-84c645dd65de",
   "metadata": {},
   "outputs": [
    {
     "data": {
      "image/png": "[encoded data removed]",
      "text/plain": [
       "<Figure size 400x400 with 1 Axes>"
      ]
     },
     "metadata": {},
     "output_type": "display_data"
    },
    {
     "data": {
      "text/plain": [
       "Text(0.5, 1.0, 'Fig 1-7')"
      ]
     },
     "execution_count": 47,
     "metadata": {},
     "output_type": "execute_result"
    }
   ],
   "source": [
    "ax = telecom.plot.scatter(x='T', y='VZ', figsize=(4, 4), marker='$\\u25EF$')\n",
    "ax.set_xlabel('ATT (T)')\n",
    "ax.set_ylabel('Verizon (VZ)')\n",
    "ax.axhline(0, color='grey', lw=1)\n",
    "ax.axvline(0, color='grey', lw=1)\n",
    "\n",
    "plt.tight_layout()\n",
    "plt.show()\n",
    "ax.set_title('Fig 1-7')"
   ]
  },
  {
   "cell_type": "code",
   "execution_count": null,
   "id": "77080274-d9b7-42a8-8f67-cd7065252f96",
   "metadata": {},
   "outputs": [],
   "source": []
  }
 ],
 "metadata": {
  "kernelspec": {
   "display_name": "Python 3 (ipykernel)",
   "language": "python",
   "name": "python3"
  },
  "language_info": {
   "codemirror_mode": {
    "name": "ipython",
    "version": 3
   },
   "file_extension": ".py",
   "mimetype": "text/x-python",
   "name": "python",
   "nbconvert_exporter": "python",
   "pygments_lexer": "ipython3",
   "version": "3.11.9"
  }
 },
 "nbformat": 4,
 "nbformat_minor": 5
}
