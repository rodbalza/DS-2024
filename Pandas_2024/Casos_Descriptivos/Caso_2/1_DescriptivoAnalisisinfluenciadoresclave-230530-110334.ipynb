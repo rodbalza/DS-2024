{
 "cells": [
  {
   "cell_type": "markdown",
   "id": "15e48603",
   "metadata": {},
   "source": [
    "## Análisis Descriptivo de la Gestión del negocio: Influenciadores clave"
   ]
  },
  {
   "cell_type": "markdown",
   "id": "efa149e6",
   "metadata": {},
   "source": [
    "Un análisis descriptivo es un tipo de análisis que se utiliza para explorar y describir los datos, identificar patrones y tendencias y para generar estadísticas y visualizaciones que permitan entender los datos de manera más clara. En este caso, se utilizan las técnicas de correlación y pruebas estadísticas para identificar las variables que influyen en las ventas de la empresa ***AdventureWorks***.\n",
    "\n",
    "Un análisis descriptivo no pretende hacer predicciones o recomendaciones, sino simplemente brindar una descripción más detallada de los datos y su relación entre ellos."
   ]
  },
  {
   "cell_type": "markdown",
   "id": "edcc13a5",
   "metadata": {},
   "source": [
    "### Carga de las librerías de python necesarias"
   ]
  },
  {
   "cell_type": "code",
   "execution_count": 1,
   "id": "428fa9f2",
   "metadata": {},
   "outputs": [],
   "source": [
    "import pyodbc\n",
    "import pandas as pd\n",
    "import numpy as np\n",
    "import matplotlib.pyplot as plt\n",
    "import seaborn as sns\n",
    "from scipy import stats\n",
    "import statsmodels.api as sm\n",
    "\n",
    "plt.rcParams['figure.figsize'] = [12, 8]"
   ]
  },
  {
   "cell_type": "markdown",
   "id": "70c4aaac",
   "metadata": {},
   "source": [
    "Las librerías de Python son conjuntos de código predefinido que se utilizan para realizar tareas específicas en el lenguaje de programación Python.\n",
    "Las librerías se utilizan para diferentes propósitos, como manipulación de datos, análisis de datos, visualización de datos, aprendizaje automático, desarrollo web, entre otros. "
   ]
  },
  {
   "cell_type": "markdown",
   "id": "dc23f79f",
   "metadata": {},
   "source": [
    "### Extracción de los datos desde SQL Server"
   ]
  },
  {
   "cell_type": "code",
   "execution_count": 2,
   "id": "fd1f531c",
   "metadata": {},
   "outputs": [
    {
     "name": "stderr",
     "output_type": "stream",
     "text": [
      "C:\\Users\\juanj\\AppData\\Local\\Temp\\ipykernel_11084\\164933949.py:19: UserWarning: pandas only supports SQLAlchemy connectable (engine/connection) or database string URI or sqlite3 DBAPI2 connection. Other DBAPI2 objects are not tested. Please consider using SQLAlchemy.\n",
      "  sales_data = pd.read_sql(input_query, conn_str)\n"
     ]
    }
   ],
   "source": [
    "conn_str = pyodbc.connect('Driver={SQL Server};' 'Server=BALRODJJ;''Database=AdventureWorks2019;''Trusted_Connection=yes;')\n",
    "input_query = '''select\n",
    "\t CONCAT_WS('-',YEAR(t1.OrderDate), MONTH(t1.OrderDate)) as 'fecha',\n",
    "\t sum(t1.TotalDue) as 'ventas',\n",
    "\t sum(t2.OrderQty) as 'cantidad',\n",
    "\t count(distinct t1.SalesOrderID) as 'transacciones',\n",
    "\t sum(t1.TotalDue)/count(distinct t1.SalesOrderID) as 'monto_promedio',\n",
    "\t sum(t2.OrderQty)/count(distinct t1.SalesOrderID) as 'cantidad_promedio',\n",
    "\t count(distinct t2.ProductID) as 'variedad',\n",
    "\t count(distinct t1.CustomerID) as 'clientes',\n",
    "\t CASE \n",
    "\t\tWHEN count(distinct t1.SalesPersonID)<1 THEN 1 ELSE count(distinct t1.SalesPersonID)\n",
    "\t\tend as 'vendedores'\n",
    "from Sales.SalesOrderHeader as t1\n",
    "\tInner join Sales.SalesOrderDetail as t2 on t1.SalesOrderID = t2.SalesOrderID\n",
    "\tgroup by YEAR(t1.OrderDate), MONTH(t1.OrderDate) \n",
    "\torder by YEAR(t1.OrderDate), MONTH(t1.OrderDate)'''\n",
    "\n",
    "sales_data = pd.read_sql(input_query, conn_str)"
   ]
  },
  {
   "cell_type": "markdown",
   "id": "4eb62cbf",
   "metadata": {},
   "source": [
    "#### Exploración del dataset extraído"
   ]
  },
  {
   "cell_type": "markdown",
   "id": "5acf3c2e",
   "metadata": {},
   "source": [
    "Se presentan las dimensiones y las variables que contiene el dataset extraído de la base de datos transaccional de la empresa"
   ]
  },
  {
   "cell_type": "code",
   "execution_count": 5,
   "id": "5ad35e2b",
   "metadata": {},
   "outputs": [
    {
     "data": {
      "text/plain": [
       "(38, 9)"
      ]
     },
     "execution_count": 5,
     "metadata": {},
     "output_type": "execute_result"
    }
   ],
   "source": [
    "sales_data.shape"
   ]
  },
  {
   "cell_type": "code",
   "execution_count": 6,
   "id": "84439d18",
   "metadata": {},
   "outputs": [
    {
     "data": {
      "text/plain": [
       "Index(['fecha', 'ventas', 'cantidad', 'transacciones', 'monto_promedio',\n",
       "       'cantidad_promedio', 'variedad', 'clientes', 'vendedores'],\n",
       "      dtype='object')"
      ]
     },
     "execution_count": 6,
     "metadata": {},
     "output_type": "execute_result"
    }
   ],
   "source": [
    "sales_data.columns"
   ]
  },
  {
   "cell_type": "code",
   "execution_count": 7,
   "id": "251e9597",
   "metadata": {},
   "outputs": [
    {
     "data": {
      "text/html": [
       "<div>\n",
       "<style scoped>\n",
       "    .dataframe tbody tr th:only-of-type {\n",
       "        vertical-align: middle;\n",
       "    }\n",
       "\n",
       "    .dataframe tbody tr th {\n",
       "        vertical-align: top;\n",
       "    }\n",
       "\n",
       "    .dataframe thead th {\n",
       "        text-align: right;\n",
       "    }\n",
       "</style>\n",
       "<table border=\"1\" class=\"dataframe\">\n",
       "  <thead>\n",
       "    <tr style=\"text-align: right;\">\n",
       "      <th></th>\n",
       "      <th>fecha</th>\n",
       "      <th>ventas</th>\n",
       "      <th>cantidad</th>\n",
       "      <th>transacciones</th>\n",
       "      <th>monto_promedio</th>\n",
       "      <th>cantidad_promedio</th>\n",
       "      <th>variedad</th>\n",
       "      <th>clientes</th>\n",
       "      <th>vendedores</th>\n",
       "    </tr>\n",
       "  </thead>\n",
       "  <tbody>\n",
       "    <tr>\n",
       "      <th>0</th>\n",
       "      <td>2011-5</td>\n",
       "      <td>8.094970e+06</td>\n",
       "      <td>825</td>\n",
       "      <td>43</td>\n",
       "      <td>188255.1210</td>\n",
       "      <td>19</td>\n",
       "      <td>47</td>\n",
       "      <td>43</td>\n",
       "      <td>9</td>\n",
       "    </tr>\n",
       "    <tr>\n",
       "      <th>1</th>\n",
       "      <td>2011-6</td>\n",
       "      <td>5.070965e+05</td>\n",
       "      <td>141</td>\n",
       "      <td>141</td>\n",
       "      <td>3596.4288</td>\n",
       "      <td>1</td>\n",
       "      <td>21</td>\n",
       "      <td>141</td>\n",
       "      <td>1</td>\n",
       "    </tr>\n",
       "    <tr>\n",
       "      <th>2</th>\n",
       "      <td>2011-7</td>\n",
       "      <td>2.608142e+07</td>\n",
       "      <td>2209</td>\n",
       "      <td>231</td>\n",
       "      <td>112906.5844</td>\n",
       "      <td>9</td>\n",
       "      <td>51</td>\n",
       "      <td>231</td>\n",
       "      <td>10</td>\n",
       "    </tr>\n",
       "    <tr>\n",
       "      <th>3</th>\n",
       "      <td>2011-8</td>\n",
       "      <td>3.800996e+07</td>\n",
       "      <td>2904</td>\n",
       "      <td>250</td>\n",
       "      <td>152039.8384</td>\n",
       "      <td>11</td>\n",
       "      <td>59</td>\n",
       "      <td>250</td>\n",
       "      <td>10</td>\n",
       "    </tr>\n",
       "    <tr>\n",
       "      <th>4</th>\n",
       "      <td>2011-9</td>\n",
       "      <td>5.547916e+05</td>\n",
       "      <td>157</td>\n",
       "      <td>157</td>\n",
       "      <td>3533.7045</td>\n",
       "      <td>1</td>\n",
       "      <td>22</td>\n",
       "      <td>157</td>\n",
       "      <td>1</td>\n",
       "    </tr>\n",
       "  </tbody>\n",
       "</table>\n",
       "</div>"
      ],
      "text/plain": [
       "    fecha        ventas  cantidad  transacciones  monto_promedio  \\\n",
       "0  2011-5  8.094970e+06       825             43     188255.1210   \n",
       "1  2011-6  5.070965e+05       141            141       3596.4288   \n",
       "2  2011-7  2.608142e+07      2209            231     112906.5844   \n",
       "3  2011-8  3.800996e+07      2904            250     152039.8384   \n",
       "4  2011-9  5.547916e+05       157            157       3533.7045   \n",
       "\n",
       "   cantidad_promedio  variedad  clientes  vendedores  \n",
       "0                 19        47        43           9  \n",
       "1                  1        21       141           1  \n",
       "2                  9        51       231          10  \n",
       "3                 11        59       250          10  \n",
       "4                  1        22       157           1  "
      ]
     },
     "execution_count": 7,
     "metadata": {},
     "output_type": "execute_result"
    }
   ],
   "source": [
    "sales_data.head()"
   ]
  },
  {
   "cell_type": "markdown",
   "id": "1e566558-9ea8-4641-a348-6bca23cb680f",
   "metadata": {},
   "source": [
    "### AL"
   ]
  },
  {
   "cell_type": "markdown",
   "id": "d338cca7",
   "metadata": {},
   "source": [
    "### Procesamiento de los datos: Cálculo de la correlación entre las variables"
   ]
  },
  {
   "cell_type": "code",
   "execution_count": 8,
   "id": "cddcf130",
   "metadata": {},
   "outputs": [
    {
     "ename": "ValueError",
     "evalue": "could not convert string to float: '2011-5'",
     "output_type": "error",
     "traceback": [
      "\u001b[1;31m---------------------------------------------------------------------------\u001b[0m",
      "\u001b[1;31mValueError\u001b[0m                                Traceback (most recent call last)",
      "Cell \u001b[1;32mIn[8], line 1\u001b[0m\n\u001b[1;32m----> 1\u001b[0m correlation \u001b[38;5;241m=\u001b[39m \u001b[43msales_data\u001b[49m\u001b[38;5;241;43m.\u001b[39;49m\u001b[43mcorr\u001b[49m\u001b[43m(\u001b[49m\u001b[43m)\u001b[49m\n",
      "File \u001b[1;32m~\\anaconda3\\envs\\Pandas_2024\\Lib\\site-packages\\pandas\\core\\frame.py:11049\u001b[0m, in \u001b[0;36mDataFrame.corr\u001b[1;34m(self, method, min_periods, numeric_only)\u001b[0m\n\u001b[0;32m  11047\u001b[0m cols \u001b[38;5;241m=\u001b[39m data\u001b[38;5;241m.\u001b[39mcolumns\n\u001b[0;32m  11048\u001b[0m idx \u001b[38;5;241m=\u001b[39m cols\u001b[38;5;241m.\u001b[39mcopy()\n\u001b[1;32m> 11049\u001b[0m mat \u001b[38;5;241m=\u001b[39m \u001b[43mdata\u001b[49m\u001b[38;5;241;43m.\u001b[39;49m\u001b[43mto_numpy\u001b[49m\u001b[43m(\u001b[49m\u001b[43mdtype\u001b[49m\u001b[38;5;241;43m=\u001b[39;49m\u001b[38;5;28;43mfloat\u001b[39;49m\u001b[43m,\u001b[49m\u001b[43m \u001b[49m\u001b[43mna_value\u001b[49m\u001b[38;5;241;43m=\u001b[39;49m\u001b[43mnp\u001b[49m\u001b[38;5;241;43m.\u001b[39;49m\u001b[43mnan\u001b[49m\u001b[43m,\u001b[49m\u001b[43m \u001b[49m\u001b[43mcopy\u001b[49m\u001b[38;5;241;43m=\u001b[39;49m\u001b[38;5;28;43;01mFalse\u001b[39;49;00m\u001b[43m)\u001b[49m\n\u001b[0;32m  11051\u001b[0m \u001b[38;5;28;01mif\u001b[39;00m method \u001b[38;5;241m==\u001b[39m \u001b[38;5;124m\"\u001b[39m\u001b[38;5;124mpearson\u001b[39m\u001b[38;5;124m\"\u001b[39m:\n\u001b[0;32m  11052\u001b[0m     correl \u001b[38;5;241m=\u001b[39m libalgos\u001b[38;5;241m.\u001b[39mnancorr(mat, minp\u001b[38;5;241m=\u001b[39mmin_periods)\n",
      "File \u001b[1;32m~\\anaconda3\\envs\\Pandas_2024\\Lib\\site-packages\\pandas\\core\\frame.py:1993\u001b[0m, in \u001b[0;36mDataFrame.to_numpy\u001b[1;34m(self, dtype, copy, na_value)\u001b[0m\n\u001b[0;32m   1991\u001b[0m \u001b[38;5;28;01mif\u001b[39;00m dtype \u001b[38;5;129;01mis\u001b[39;00m \u001b[38;5;129;01mnot\u001b[39;00m \u001b[38;5;28;01mNone\u001b[39;00m:\n\u001b[0;32m   1992\u001b[0m     dtype \u001b[38;5;241m=\u001b[39m np\u001b[38;5;241m.\u001b[39mdtype(dtype)\n\u001b[1;32m-> 1993\u001b[0m result \u001b[38;5;241m=\u001b[39m \u001b[38;5;28;43mself\u001b[39;49m\u001b[38;5;241;43m.\u001b[39;49m\u001b[43m_mgr\u001b[49m\u001b[38;5;241;43m.\u001b[39;49m\u001b[43mas_array\u001b[49m\u001b[43m(\u001b[49m\u001b[43mdtype\u001b[49m\u001b[38;5;241;43m=\u001b[39;49m\u001b[43mdtype\u001b[49m\u001b[43m,\u001b[49m\u001b[43m \u001b[49m\u001b[43mcopy\u001b[49m\u001b[38;5;241;43m=\u001b[39;49m\u001b[43mcopy\u001b[49m\u001b[43m,\u001b[49m\u001b[43m \u001b[49m\u001b[43mna_value\u001b[49m\u001b[38;5;241;43m=\u001b[39;49m\u001b[43mna_value\u001b[49m\u001b[43m)\u001b[49m\n\u001b[0;32m   1994\u001b[0m \u001b[38;5;28;01mif\u001b[39;00m result\u001b[38;5;241m.\u001b[39mdtype \u001b[38;5;129;01mis\u001b[39;00m \u001b[38;5;129;01mnot\u001b[39;00m dtype:\n\u001b[0;32m   1995\u001b[0m     result \u001b[38;5;241m=\u001b[39m np\u001b[38;5;241m.\u001b[39masarray(result, dtype\u001b[38;5;241m=\u001b[39mdtype)\n",
      "File \u001b[1;32m~\\anaconda3\\envs\\Pandas_2024\\Lib\\site-packages\\pandas\\core\\internals\\managers.py:1694\u001b[0m, in \u001b[0;36mBlockManager.as_array\u001b[1;34m(self, dtype, copy, na_value)\u001b[0m\n\u001b[0;32m   1692\u001b[0m         arr\u001b[38;5;241m.\u001b[39mflags\u001b[38;5;241m.\u001b[39mwriteable \u001b[38;5;241m=\u001b[39m \u001b[38;5;28;01mFalse\u001b[39;00m\n\u001b[0;32m   1693\u001b[0m \u001b[38;5;28;01melse\u001b[39;00m:\n\u001b[1;32m-> 1694\u001b[0m     arr \u001b[38;5;241m=\u001b[39m \u001b[38;5;28;43mself\u001b[39;49m\u001b[38;5;241;43m.\u001b[39;49m\u001b[43m_interleave\u001b[49m\u001b[43m(\u001b[49m\u001b[43mdtype\u001b[49m\u001b[38;5;241;43m=\u001b[39;49m\u001b[43mdtype\u001b[49m\u001b[43m,\u001b[49m\u001b[43m \u001b[49m\u001b[43mna_value\u001b[49m\u001b[38;5;241;43m=\u001b[39;49m\u001b[43mna_value\u001b[49m\u001b[43m)\u001b[49m\n\u001b[0;32m   1695\u001b[0m     \u001b[38;5;66;03m# The underlying data was copied within _interleave, so no need\u001b[39;00m\n\u001b[0;32m   1696\u001b[0m     \u001b[38;5;66;03m# to further copy if copy=True or setting na_value\u001b[39;00m\n\u001b[0;32m   1698\u001b[0m \u001b[38;5;28;01mif\u001b[39;00m na_value \u001b[38;5;129;01mis\u001b[39;00m lib\u001b[38;5;241m.\u001b[39mno_default:\n",
      "File \u001b[1;32m~\\anaconda3\\envs\\Pandas_2024\\Lib\\site-packages\\pandas\\core\\internals\\managers.py:1753\u001b[0m, in \u001b[0;36mBlockManager._interleave\u001b[1;34m(self, dtype, na_value)\u001b[0m\n\u001b[0;32m   1751\u001b[0m     \u001b[38;5;28;01melse\u001b[39;00m:\n\u001b[0;32m   1752\u001b[0m         arr \u001b[38;5;241m=\u001b[39m blk\u001b[38;5;241m.\u001b[39mget_values(dtype)\n\u001b[1;32m-> 1753\u001b[0m     \u001b[43mresult\u001b[49m\u001b[43m[\u001b[49m\u001b[43mrl\u001b[49m\u001b[38;5;241;43m.\u001b[39;49m\u001b[43mindexer\u001b[49m\u001b[43m]\u001b[49m \u001b[38;5;241m=\u001b[39m arr\n\u001b[0;32m   1754\u001b[0m     itemmask[rl\u001b[38;5;241m.\u001b[39mindexer] \u001b[38;5;241m=\u001b[39m \u001b[38;5;241m1\u001b[39m\n\u001b[0;32m   1756\u001b[0m \u001b[38;5;28;01mif\u001b[39;00m \u001b[38;5;129;01mnot\u001b[39;00m itemmask\u001b[38;5;241m.\u001b[39mall():\n",
      "\u001b[1;31mValueError\u001b[0m: could not convert string to float: '2011-5'"
     ]
    }
   ],
   "source": [
    "correlation = sales_data.corr()"
   ]
  },
  {
   "cell_type": "markdown",
   "id": "dbf19deb",
   "metadata": {},
   "source": [
    "#### Gráfica de las variables más correlacionadas"
   ]
  },
  {
   "cell_type": "code",
   "execution_count": null,
   "id": "d4c3c83a",
   "metadata": {},
   "outputs": [],
   "source": [
    "plt.figure(figsize=(10,5))\n",
    "sns.heatmap(sales_data[correlation.index].corr(), annot=True)\n",
    "plt.show()"
   ]
  },
  {
   "cell_type": "markdown",
   "id": "d9d9fcd4",
   "metadata": {},
   "source": [
    "#### Selección de las variables más correlacionadas con las ventas"
   ]
  },
  {
   "cell_type": "code",
   "execution_count": 3,
   "id": "c5f8c853",
   "metadata": {},
   "outputs": [
    {
     "ename": "NameError",
     "evalue": "name 'correlation' is not defined",
     "output_type": "error",
     "traceback": [
      "\u001b[1;31m---------------------------------------------------------------------------\u001b[0m",
      "\u001b[1;31mNameError\u001b[0m                                 Traceback (most recent call last)",
      "Cell \u001b[1;32mIn[3], line 1\u001b[0m\n\u001b[1;32m----> 1\u001b[0m correlation \u001b[38;5;241m=\u001b[39m \u001b[43mcorrelation\u001b[49m[\u001b[38;5;124m\"\u001b[39m\u001b[38;5;124mventas\u001b[39m\u001b[38;5;124m\"\u001b[39m]\u001b[38;5;241m.\u001b[39msort_values(ascending\u001b[38;5;241m=\u001b[39m\u001b[38;5;28;01mFalse\u001b[39;00m)\n",
      "\u001b[1;31mNameError\u001b[0m: name 'correlation' is not defined"
     ]
    }
   ],
   "source": [
    "correlation = correlation[\"ventas\"].sort_values(ascending=False)"
   ]
  },
  {
   "cell_type": "markdown",
   "id": "e73662bb",
   "metadata": {},
   "source": [
    "#### Visualización gráfica de las variable correlacionadas"
   ]
  },
  {
   "cell_type": "code",
   "execution_count": null,
   "id": "122f929c",
   "metadata": {},
   "outputs": [],
   "source": [
    "plt.figure(figsize=(10,5))\n",
    "sns.barplot(x=correlation.values, y=correlation.index)\n",
    "plt.title(\"Correlación con las ventas\")\n",
    "plt.xlabel(\"Correlación\")\n",
    "plt.ylabel(\"Variable\")\n",
    "plt.show()"
   ]
  },
  {
   "cell_type": "markdown",
   "id": "c3ce1d1b",
   "metadata": {},
   "source": [
    "#### Pruebas formales para determinar la influencia de cada variable en las ventas"
   ]
  },
  {
   "cell_type": "markdown",
   "id": "9485f397",
   "metadata": {},
   "source": [
    "Las pruebas formales se refieren a un conjunto de técnicas estadísticas y matemáticas que se utilizan para validar las hipótesis y afirmaciones hechas sobre los datos en un estudio o análisis.\n",
    "\n",
    "Asimismo, las pruebas formales son una parte importante del análisis de datos ya que permiten tomar decisiones basadas en evidencia sólida en lugar de basarse únicamente en la intuición o el juicio subjetivo. \n",
    "\n",
    "Estas pruebas ayudan a los investigadores a determinar si los patrones o relaciones observados en los datos son estadísticamente significativos o simplemente el resultado del azar."
   ]
  },
  {
   "cell_type": "code",
   "execution_count": null,
   "id": "753651a7",
   "metadata": {},
   "outputs": [],
   "source": [
    "influencers = []\n",
    "for variable in correlation.index:\n",
    "    p_value, corr = stats.pearsonr(sales_data[\"ventas\"], sales_data[variable])\n",
    "    if p_value <= 0.05:\n",
    "        influencers.append((variable, corr))\n",
    "    elif p_value > 0.05:\n",
    "        influencers.append((variable, corr, \"No significativo\"))"
   ]
  },
  {
   "cell_type": "markdown",
   "id": "d4991dcb",
   "metadata": {},
   "source": [
    "#### Impresión de los resultados"
   ]
  },
  {
   "cell_type": "code",
   "execution_count": null,
   "id": "57b50995",
   "metadata": {},
   "outputs": [],
   "source": [
    "print(\"Variables influyentes en las ventas:\")\n",
    "for variable, corr, significance in influencers:\n",
    "    if len(influencers) > 2:\n",
    "        print(f\"{variable}: correlación = {corr:.2f} ({significance})\")\n",
    "    else:\n",
    "        print(f\"{variable}: correlación = {corr:.2f}\")"
   ]
  },
  {
   "cell_type": "markdown",
   "id": "cd2b713f",
   "metadata": {},
   "source": [
    "Se agregó una comprobación de la hipótesis nula antes de imprimir los resultados de la prueba de correlación. La hipótesis nula establece que no existe una correlación entre las variables, y se rechaza si el **valor p es menor que 0,05**. "
   ]
  },
  {
   "cell_type": "markdown",
   "id": "dda653c3",
   "metadata": {},
   "source": [
    "## Conclusiones"
   ]
  },
  {
   "cell_type": "markdown",
   "id": "76400b46",
   "metadata": {},
   "source": [
    "Las conclusiones que se pueden sacar de estos resultados son que ninguna de las variables analizadas tiene una correlación significativa con las ventas de la empresa. En otras palabras, el análisis indica que no hay una relación clara entre las variables y las ventas de la empresa. \n",
    "\n",
    "Es importante tener en cuenta que la falta de correlación no necesariamente significa que las variables no son importantes para el negocio, ya que pueden haber otros factores que afecten las ventas que no se están considerando en este análisis. \n",
    "\n",
    "Por lo tanto, es necesario realizar más análisis y considerar otros factores para comprender mejor las tendencias de las ventas de la empresa."
   ]
  },
  {
   "cell_type": "markdown",
   "id": "c5dcc5f1",
   "metadata": {},
   "source": [
    "## Recomendaciones"
   ]
  },
  {
   "cell_type": "markdown",
   "id": "b42a0872",
   "metadata": {},
   "source": [
    "A partir de los resultados y las conclusiones de que ninguna de las variables analizadas tiene una correlación significativa con las ventas de la empresa, se pueden dar las siguientes recomendaciones:\n",
    "\n",
    "* *Ampliar el análisis*: Es importante considerar que el análisis realizado solo incluyó un conjunto limitado de variables y no consideró otros factores importantes que podrían estar influyendo en las ventas de la empresa. Se recomienda realizar un análisis más amplio e incluir otras variables relevantes que puedan tener un impacto en las ventas, como la satisfacción del cliente, la calidad de los productos, la competencia en el mercado, entre otros.\n",
    "\n",
    "* *Realizar encuestas a los clientes*: Realizar encuestas a los clientes puede ser una buena manera de obtener información sobre los factores que los motivan a comprar y los aspectos que consideran importantes al momento de realizar una compra. Esta información puede ayudar a la empresa a identificar áreas de oportunidad y mejorar su estrategia de ventas.\n",
    "\n",
    "* *Realizar análisis de la competencia*: Analizar a la competencia puede ser útil para entender mejor el mercado y conocer las tendencias del mismo. Además, puede ayudar a la empresa a identificar estrategias exitosas de la competencia que puedan ser aplicables a su negocio.\n",
    "\n",
    "* *Implementar estrategias de marketing*: Aunque las variables analizadas no mostraron una correlación significativa con las ventas, implementar estrategias de marketing puede ser útil para incrementar la exposición de la empresa y atraer a nuevos clientes. Las estrategias de marketing pueden incluir publicidad en línea, redes sociales, promociones y descuentos, entre otros."
   ]
  },
  {
   "cell_type": "code",
   "execution_count": null,
   "id": "34cc4c29-73b6-495e-8037-e224526e9022",
   "metadata": {},
   "outputs": [],
   "source": []
  },
  {
   "cell_type": "code",
   "execution_count": null,
   "id": "1c948480-c611-4bc4-85a3-33cb6651ef19",
   "metadata": {},
   "outputs": [],
   "source": []
  }
 ],
 "metadata": {
  "kernelspec": {
   "display_name": "Python 3 (ipykernel)",
   "language": "python",
   "name": "python3"
  },
  "language_info": {
   "codemirror_mode": {
    "name": "ipython",
    "version": 3
   },
   "file_extension": ".py",
   "mimetype": "text/x-python",
   "name": "python",
   "nbconvert_exporter": "python",
   "pygments_lexer": "ipython3",
   "version": "3.11.9"
  }
 },
 "nbformat": 4,
 "nbformat_minor": 5
}
