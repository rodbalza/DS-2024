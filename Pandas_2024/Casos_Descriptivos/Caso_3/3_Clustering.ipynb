{
 "cells": [
  {
   "cell_type": "markdown",
   "id": "30bd0764",
   "metadata": {},
   "source": [
    "# Análisis Descriptivo del resultado de la gestión del negocio: Segmentación de tipos de productos"
   ]
  },
  {
   "cell_type": "markdown",
   "id": "941e9505",
   "metadata": {},
   "source": [
    "## Clustering de productos por la cantidad vendida y la rentabilidad generada"
   ]
  },
  {
   "cell_type": "markdown",
   "id": "687a0aa1",
   "metadata": {},
   "source": [
    "El análisis de clustering, también conocido como análisis de conglomerados, es una técnica de análisis exploratorio de datos que se utiliza para identificar grupos o \"clusters\" de objetos o datos similares en un conjunto de datos.\n",
    "\n",
    "El objetivo del análisis de clustering es dividir un conjunto de datos en grupos o clusters homogéneos, es decir, grupos de objetos o datos que son similares entre sí en algún sentido y diferentes de los demás objetos o datos en el conjunto. En otras palabras, se trata de agrupar datos similares y separar datos diferentes."
   ]
  },
  {
   "cell_type": "markdown",
   "id": "9c462c99",
   "metadata": {},
   "source": [
    "#### Carga de las librerías de Python necesarias\n"
   ]
  },
  {
   "cell_type": "markdown",
   "id": "e734be11",
   "metadata": {},
   "source": [
    "Las librerías de Python son conjuntos de código predefinido que se utilizan para realizar tareas específicas en el lenguaje de programación Python.\n",
    "Las librerías se utilizan para diferentes propósitos, como manipulación de datos, análisis de datos, visualización de datos, aprendizaje automático, desarrollo web, entre otros. \n"
   ]
  },
  {
   "cell_type": "code",
   "execution_count": 3,
   "id": "c771fb86",
   "metadata": {},
   "outputs": [],
   "source": [
    "import pyodbc\n",
    "import pandas as pd\n",
    "import numpy as np\n",
    "import matplotlib.pyplot as plt\n",
    "from sklearn.cluster import KMeans\n",
    "from sklearn.metrics import silhouette_score\n",
    "from sklearn.preprocessing import LabelEncoder\n",
    "\n",
    "plt.rcParams['figure.figsize'] = [12, 8]\n",
    "\n",
    "# import warnings\n",
    "# warnings.filterwarnings('ignore')"
   ]
  },
  {
   "cell_type": "markdown",
   "id": "964c611e",
   "metadata": {},
   "source": [
    "#### Conexión a la base de datos "
   ]
  },
  {
   "cell_type": "markdown",
   "id": "dfe54fb1",
   "metadata": {},
   "source": [
    "El análisis es realizado sobre los datos transaccionales de la empresa alojados en la base de datos del ERP, en este caso usamos la empresa **AdventureWorks**. Al ser realizado de esta manera al ejecutar el script traerá datos actualizados."
   ]
  },
  {
   "cell_type": "code",
   "execution_count": 4,
   "id": "66722b06",
   "metadata": {},
   "outputs": [],
   "source": [
    "conn_str = pyodbc.connect('Driver={SQL Server};' 'Server=BALRODJJ;''Database=AdventureWorks2019;''Trusted_Connection=yes;')\n",
    "input_query = '''select \n",
    "convert(varchar, t3.OrderDate,103) as fecha,\n",
    "t2.Name as 'producto',\n",
    "sum(t1.OrderQty) as 'cantidad',\n",
    "sum(t1.OrderQty) * (avg(t1.UnitPrice) - avg(t2.StandardCost)) as ganancia\n",
    "from Sales.SalesOrderDetail as t1\n",
    "inner join Production.Product as t2 on t1.ProductID = t2.ProductID\n",
    "inner join Sales.SalesOrderHeader as t3 on t1.SalesOrderID = t3.SalesOrderID\n",
    "group by t3.OrderDate, t1.ProductID, t2.Name'''\n",
    "\n",
    "data = pd.read_sql(input_query, conn_str)"
   ]
  },
  {
   "cell_type": "code",
   "execution_count": null,
   "id": "2d2a35ef-4680-4c8c-952a-787ddcc5ac55",
   "metadata": {},
   "outputs": [],
   "source": []
  },
  {
   "cell_type": "markdown",
   "id": "fd747414",
   "metadata": {},
   "source": [
    "#### Exploramos el dataset"
   ]
  },
  {
   "cell_type": "markdown",
   "id": "1c820ea1",
   "metadata": {},
   "source": [
    "Se presentan las variables que contiene el dataset extraído de la base de datos transaccional de la empresa."
   ]
  },
  {
   "cell_type": "code",
   "execution_count": 6,
   "id": "426c42fe",
   "metadata": {},
   "outputs": [
    {
     "data": {
      "text/plain": [
       "(26878, 4)"
      ]
     },
     "execution_count": 6,
     "metadata": {},
     "output_type": "execute_result"
    }
   ],
   "source": [
    "data.shape"
   ]
  },
  {
   "cell_type": "code",
   "execution_count": 7,
   "id": "84709ee8",
   "metadata": {},
   "outputs": [
    {
     "data": {
      "text/plain": [
       "Index(['fecha', 'producto', 'cantidad', 'ganancia'], dtype='object')"
      ]
     },
     "execution_count": 7,
     "metadata": {},
     "output_type": "execute_result"
    }
   ],
   "source": [
    "data.columns"
   ]
  },
  {
   "cell_type": "code",
   "execution_count": 36,
   "id": "4ba20727",
   "metadata": {},
   "outputs": [
    {
     "data": {
      "text/html": [
       "<div>\n",
       "<style scoped>\n",
       "    .dataframe tbody tr th:only-of-type {\n",
       "        vertical-align: middle;\n",
       "    }\n",
       "\n",
       "    .dataframe tbody tr th {\n",
       "        vertical-align: top;\n",
       "    }\n",
       "\n",
       "    .dataframe thead th {\n",
       "        text-align: right;\n",
       "    }\n",
       "</style>\n",
       "<table border=\"1\" class=\"dataframe\">\n",
       "  <thead>\n",
       "    <tr style=\"text-align: right;\">\n",
       "      <th></th>\n",
       "      <th>fecha</th>\n",
       "      <th>producto</th>\n",
       "      <th>cantidad</th>\n",
       "      <th>ganancia</th>\n",
       "    </tr>\n",
       "  </thead>\n",
       "  <tbody>\n",
       "    <tr>\n",
       "      <th>0</th>\n",
       "      <td>30/04/2012</td>\n",
       "      <td>Road-450 Red, 52</td>\n",
       "      <td>64</td>\n",
       "      <td>-634.5152</td>\n",
       "    </tr>\n",
       "    <tr>\n",
       "      <th>1</th>\n",
       "      <td>30/05/2013</td>\n",
       "      <td>Mountain-500 Black, 44</td>\n",
       "      <td>19</td>\n",
       "      <td>558.8717</td>\n",
       "    </tr>\n",
       "    <tr>\n",
       "      <th>2</th>\n",
       "      <td>23/01/2014</td>\n",
       "      <td>Road-250 Black, 48</td>\n",
       "      <td>1</td>\n",
       "      <td>888.4021</td>\n",
       "    </tr>\n",
       "    <tr>\n",
       "      <th>3</th>\n",
       "      <td>06/04/2014</td>\n",
       "      <td>Road-550-W Yellow, 42</td>\n",
       "      <td>1</td>\n",
       "      <td>407.4102</td>\n",
       "    </tr>\n",
       "    <tr>\n",
       "      <th>4</th>\n",
       "      <td>30/10/2011</td>\n",
       "      <td>Road-150 Red, 52</td>\n",
       "      <td>2</td>\n",
       "      <td>2813.9516</td>\n",
       "    </tr>\n",
       "  </tbody>\n",
       "</table>\n",
       "</div>"
      ],
      "text/plain": [
       "        fecha                producto  cantidad   ganancia\n",
       "0  30/04/2012        Road-450 Red, 52        64  -634.5152\n",
       "1  30/05/2013  Mountain-500 Black, 44        19   558.8717\n",
       "2  23/01/2014      Road-250 Black, 48         1   888.4021\n",
       "3  06/04/2014   Road-550-W Yellow, 42         1   407.4102\n",
       "4  30/10/2011        Road-150 Red, 52         2  2813.9516"
      ]
     },
     "execution_count": 36,
     "metadata": {},
     "output_type": "execute_result"
    }
   ],
   "source": [
    "data.head()"
   ]
  },
  {
   "cell_type": "markdown",
   "id": "4f7149db",
   "metadata": {},
   "source": [
    "#### Preprocesamiento de los datos"
   ]
  },
  {
   "cell_type": "markdown",
   "id": "4d579ce1",
   "metadata": {},
   "source": [
    "Se preprocesan los datos para asegurarse de que estén en un formato adecuado para el algoritmo de clustering. En este caso, se necesita agrupar la información de cada producto y calcular la cantidad total vendida y la ganancia total para cada uno. "
   ]
  },
  {
   "cell_type": "code",
   "execution_count": 37,
   "id": "e2cbf03d",
   "metadata": {},
   "outputs": [],
   "source": [
    "prod_data = data.groupby('producto').agg({'cantidad': sum, 'ganancia': sum})"
   ]
  },
  {
   "cell_type": "code",
   "execution_count": 38,
   "id": "9ad636e7",
   "metadata": {},
   "outputs": [
    {
     "data": {
      "text/html": [
       "<div>\n",
       "<style scoped>\n",
       "    .dataframe tbody tr th:only-of-type {\n",
       "        vertical-align: middle;\n",
       "    }\n",
       "\n",
       "    .dataframe tbody tr th {\n",
       "        vertical-align: top;\n",
       "    }\n",
       "\n",
       "    .dataframe thead th {\n",
       "        text-align: right;\n",
       "    }\n",
       "</style>\n",
       "<table border=\"1\" class=\"dataframe\">\n",
       "  <thead>\n",
       "    <tr style=\"text-align: right;\">\n",
       "      <th></th>\n",
       "      <th>cantidad</th>\n",
       "      <th>ganancia</th>\n",
       "    </tr>\n",
       "    <tr>\n",
       "      <th>producto</th>\n",
       "      <th></th>\n",
       "      <th></th>\n",
       "    </tr>\n",
       "  </thead>\n",
       "  <tbody>\n",
       "    <tr>\n",
       "      <th>AWC Logo Cap</th>\n",
       "      <td>8311</td>\n",
       "      <td>-4767.6667</td>\n",
       "    </tr>\n",
       "    <tr>\n",
       "      <th>All-Purpose Bike Stand</th>\n",
       "      <td>249</td>\n",
       "      <td>24783.9660</td>\n",
       "    </tr>\n",
       "    <tr>\n",
       "      <th>Bike Wash - Dissolver</th>\n",
       "      <td>3319</td>\n",
       "      <td>9179.5023</td>\n",
       "    </tr>\n",
       "    <tr>\n",
       "      <th>Cable Lock</th>\n",
       "      <td>1087</td>\n",
       "      <td>5076.2449</td>\n",
       "    </tr>\n",
       "    <tr>\n",
       "      <th>Chain</th>\n",
       "      <td>774</td>\n",
       "      <td>2439.0265</td>\n",
       "    </tr>\n",
       "    <tr>\n",
       "      <th>Classic Vest, L</th>\n",
       "      <td>207</td>\n",
       "      <td>7942.7070</td>\n",
       "    </tr>\n",
       "    <tr>\n",
       "      <th>Classic Vest, M</th>\n",
       "      <td>2284</td>\n",
       "      <td>37717.7134</td>\n",
       "    </tr>\n",
       "    <tr>\n",
       "      <th>Classic Vest, S</th>\n",
       "      <td>4247</td>\n",
       "      <td>63220.9092</td>\n",
       "    </tr>\n",
       "    <tr>\n",
       "      <th>Fender Set - Mountain</th>\n",
       "      <td>2121</td>\n",
       "      <td>29183.8995</td>\n",
       "    </tr>\n",
       "    <tr>\n",
       "      <th>Front Brakes</th>\n",
       "      <td>789</td>\n",
       "      <td>13084.5576</td>\n",
       "    </tr>\n",
       "  </tbody>\n",
       "</table>\n",
       "</div>"
      ],
      "text/plain": [
       "                        cantidad    ganancia\n",
       "producto                                    \n",
       "AWC Logo Cap                8311  -4767.6667\n",
       "All-Purpose Bike Stand       249  24783.9660\n",
       "Bike Wash - Dissolver       3319   9179.5023\n",
       "Cable Lock                  1087   5076.2449\n",
       "Chain                        774   2439.0265\n",
       "Classic Vest, L              207   7942.7070\n",
       "Classic Vest, M             2284  37717.7134\n",
       "Classic Vest, S             4247  63220.9092\n",
       "Fender Set - Mountain       2121  29183.8995\n",
       "Front Brakes                 789  13084.5576"
      ]
     },
     "execution_count": 38,
     "metadata": {},
     "output_type": "execute_result"
    }
   ],
   "source": [
    "prod_data.head(10)"
   ]
  },
  {
   "cell_type": "markdown",
   "id": "7ba85c7b",
   "metadata": {},
   "source": [
    "### Procesamiento de los datos"
   ]
  },
  {
   "cell_type": "markdown",
   "id": "06ba7b47",
   "metadata": {},
   "source": [
    "#### Prueba del codo para determinar el número adecuado de clusters"
   ]
  },
  {
   "cell_type": "code",
   "execution_count": 39,
   "id": "f2e2d115",
   "metadata": {},
   "outputs": [
    {
     "data": {
      "image/png": "[encoded data removed]",
      "text/plain": [
       "<Figure size 1200x800 with 1 Axes>"
      ]
     },
     "metadata": {},
     "output_type": "display_data"
    }
   ],
   "source": [
    "inertias = []\n",
    "for i in range(1, 11):\n",
    "    kmeans = KMeans(n_clusters=i, random_state=0).fit(prod_data)\n",
    "    inertias.append(kmeans.inertia_)\n",
    "plt.plot(range(1, 11), inertias)\n",
    "plt.title('Prueba del codo')\n",
    "plt.xlabel('Número de clusters')\n",
    "plt.ylabel('Inercia')\n",
    "plt.show()"
   ]
  },
  {
   "cell_type": "code",
   "execution_count": null,
   "id": "7f975851-57b7-41e9-88b2-68b09e1d12ad",
   "metadata": {},
   "outputs": [],
   "source": []
  },
  {
   "cell_type": "markdown",
   "id": "3547a3a7",
   "metadata": {},
   "source": [
    "Se realiza la prueba del codo para determinar el número adecuado de clusters utilizando el método de la inercia. Se ajustan modelos KMeans con 1 a 10 clusters y se grafica la inercia para cada modelo. En este ejemplo, se observa que la inercia empieza a disminuir menos rápidamente después de 3 clusters, lo que sugiere que este es el número adecuado de clusters."
   ]
  },
  {
   "cell_type": "markdown",
   "id": "da7ccb62",
   "metadata": {},
   "source": [
    "#### Ajuste del modelo con el número adecuado de clusters"
   ]
  },
  {
   "cell_type": "code",
   "execution_count": 40,
   "id": "d872e701",
   "metadata": {},
   "outputs": [],
   "source": [
    "n_clusters = 3\n",
    "kmeans = KMeans(n_clusters=n_clusters, random_state=0).fit(prod_data)"
   ]
  },
  {
   "cell_type": "markdown",
   "id": "946cb3e9",
   "metadata": {},
   "source": [
    "#### Asignar categorías personalizadas a cada cluster"
   ]
  },
  {
   "cell_type": "code",
   "execution_count": 41,
   "id": "5122316d",
   "metadata": {},
   "outputs": [],
   "source": [
    "encoder = LabelEncoder()\n",
    "labels = encoder.fit_transform(kmeans.labels_)\n",
    "category_map = {0: 'A', 1: 'B', 2: 'C'}\n",
    "prod_data['category'] = [category_map[label] for label in labels]\n",
    "\n",
    "# Transformar categorías en variables numéricas para calcular el coeficiente de silueta\n",
    "encoder = LabelEncoder()\n",
    "labels_transformed = encoder.fit_transform(prod_data['category'])"
   ]
  },
  {
   "cell_type": "markdown",
   "id": "15891b5a",
   "metadata": {},
   "source": [
    "Creamos el diccionario category_map para mapear los números de cluster a las categorías \"A\", \"B\" y \"C\" (personalizadas). Después de aplicar LabelEncoder, utilizamos este diccionario para reemplazar los números de cluster por las categorías correspondientes en prod_data['category']."
   ]
  },
  {
   "cell_type": "markdown",
   "id": "96d7ae27",
   "metadata": {},
   "source": [
    "Utilizamos la función LabelEncoder dos veces: una vez para transformar las etiquetas de cluster y otra vez para transformar las categorías en variables numéricas. Luego, calculamos el coeficiente de silueta utilizando los datos numéricos y visualizamos los resultados."
   ]
  },
  {
   "cell_type": "markdown",
   "id": "7074edc0",
   "metadata": {},
   "source": [
    "#### Evaluación del modelo con el coeficiente de silueta"
   ]
  },
  {
   "cell_type": "code",
   "execution_count": 42,
   "id": "046a4ea1",
   "metadata": {},
   "outputs": [
    {
     "name": "stdout",
     "output_type": "stream",
     "text": [
      "El coeficiente de silueta es: 0.7269060891401434\n"
     ]
    }
   ],
   "source": [
    "silhouette_avg = silhouette_score(prod_data.drop('category', axis=1), labels_transformed)\n",
    "print(\"El coeficiente de silueta es:\", silhouette_avg)"
   ]
  },
  {
   "cell_type": "markdown",
   "id": "5c23db72",
   "metadata": {},
   "source": [
    "El coeficiente de silueta mide la similitud de un punto con su propio cluster en comparación con otros clusters. Un valor cercano a **1** indica una buena separación de clusters, mientras que un valor cercano a **0** indica una superposición de clusters. \n",
    "En este caso, se obtiene un coeficiente de silueta de ***0.77***, lo que sugiere una buena separación de clusters."
   ]
  },
  {
   "cell_type": "markdown",
   "id": "cadc88e1",
   "metadata": {},
   "source": [
    "### Visualización de los resultados"
   ]
  },
  {
   "cell_type": "markdown",
   "id": "5789d771",
   "metadata": {},
   "source": [
    "Presentamos la visualización de los resultados del clustering utilizando un gráfico de dispersión. En este gráfico, se utiliza el color para representar el cluster asignado. Se puede observar cómo los productos se agrupan en tres clusters distintos en función de la cantidad vendida y la ganancia total."
   ]
  },
  {
   "cell_type": "code",
   "execution_count": 43,
   "id": "2d64f7a9",
   "metadata": {},
   "outputs": [
    {
     "data": {
      "image/png": "[encoded data removed]",
      "text/plain": [
       "<Figure size 1200x800 with 1 Axes>"
      ]
     },
     "metadata": {},
     "output_type": "display_data"
    }
   ],
   "source": [
    "colors = ['red', 'green', 'blue']\n",
    "for i in range(n_clusters):\n",
    "    plt.scatter(prod_data.loc[labels==i, 'cantidad'], prod_data.loc[labels==i, 'ganancia'], c=colors[i], label='Categoria '+category_map[i])\n",
    "plt.xlabel('Cantidad Vendida')\n",
    "plt.ylabel('Ganancia Total')\n",
    "plt.title('Clustering de productos vendidos')\n",
    "plt.legend()\n",
    "plt.show()\n"
   ]
  },
  {
   "cell_type": "markdown",
   "id": "6009ccef",
   "metadata": {},
   "source": [
    "### Guardamos los resultados en un dataframe para uso de Business Intelligence"
   ]
  },
  {
   "cell_type": "code",
   "execution_count": 44,
   "id": "c3db0b09",
   "metadata": {},
   "outputs": [],
   "source": [
    "data['category'] = [prod_data.loc[prod, 'category'] for prod in data['producto']]"
   ]
  },
  {
   "cell_type": "code",
   "execution_count": 45,
   "id": "2488a535",
   "metadata": {},
   "outputs": [
    {
     "data": {
      "text/html": [
       "<div>\n",
       "<style scoped>\n",
       "    .dataframe tbody tr th:only-of-type {\n",
       "        vertical-align: middle;\n",
       "    }\n",
       "\n",
       "    .dataframe tbody tr th {\n",
       "        vertical-align: top;\n",
       "    }\n",
       "\n",
       "    .dataframe thead th {\n",
       "        text-align: right;\n",
       "    }\n",
       "</style>\n",
       "<table border=\"1\" class=\"dataframe\">\n",
       "  <thead>\n",
       "    <tr style=\"text-align: right;\">\n",
       "      <th></th>\n",
       "      <th>fecha</th>\n",
       "      <th>producto</th>\n",
       "      <th>cantidad</th>\n",
       "      <th>ganancia</th>\n",
       "      <th>category</th>\n",
       "    </tr>\n",
       "  </thead>\n",
       "  <tbody>\n",
       "    <tr>\n",
       "      <th>0</th>\n",
       "      <td>30/04/2012</td>\n",
       "      <td>Road-450 Red, 52</td>\n",
       "      <td>64</td>\n",
       "      <td>-634.5152</td>\n",
       "      <td>C</td>\n",
       "    </tr>\n",
       "    <tr>\n",
       "      <th>1</th>\n",
       "      <td>30/05/2013</td>\n",
       "      <td>Mountain-500 Black, 44</td>\n",
       "      <td>19</td>\n",
       "      <td>558.8717</td>\n",
       "      <td>C</td>\n",
       "    </tr>\n",
       "    <tr>\n",
       "      <th>2</th>\n",
       "      <td>23/01/2014</td>\n",
       "      <td>Road-250 Black, 48</td>\n",
       "      <td>1</td>\n",
       "      <td>888.4021</td>\n",
       "      <td>C</td>\n",
       "    </tr>\n",
       "    <tr>\n",
       "      <th>3</th>\n",
       "      <td>06/04/2014</td>\n",
       "      <td>Road-550-W Yellow, 42</td>\n",
       "      <td>1</td>\n",
       "      <td>407.4102</td>\n",
       "      <td>A</td>\n",
       "    </tr>\n",
       "    <tr>\n",
       "      <th>4</th>\n",
       "      <td>30/10/2011</td>\n",
       "      <td>Road-150 Red, 52</td>\n",
       "      <td>2</td>\n",
       "      <td>2813.9516</td>\n",
       "      <td>B</td>\n",
       "    </tr>\n",
       "    <tr>\n",
       "      <th>5</th>\n",
       "      <td>30/08/2013</td>\n",
       "      <td>Road-350-W Yellow, 48</td>\n",
       "      <td>86</td>\n",
       "      <td>-5471.0620</td>\n",
       "      <td>A</td>\n",
       "    </tr>\n",
       "    <tr>\n",
       "      <th>6</th>\n",
       "      <td>20/11/2013</td>\n",
       "      <td>Road-550-W Yellow, 38</td>\n",
       "      <td>2</td>\n",
       "      <td>814.8204</td>\n",
       "      <td>C</td>\n",
       "    </tr>\n",
       "    <tr>\n",
       "      <th>7</th>\n",
       "      <td>02/01/2012</td>\n",
       "      <td>Road-150 Red, 62</td>\n",
       "      <td>1</td>\n",
       "      <td>1406.9758</td>\n",
       "      <td>B</td>\n",
       "    </tr>\n",
       "    <tr>\n",
       "      <th>8</th>\n",
       "      <td>24/12/2011</td>\n",
       "      <td>Road-650 Red, 52</td>\n",
       "      <td>1</td>\n",
       "      <td>212.3916</td>\n",
       "      <td>C</td>\n",
       "    </tr>\n",
       "    <tr>\n",
       "      <th>9</th>\n",
       "      <td>21/07/2012</td>\n",
       "      <td>Road-250 Black, 48</td>\n",
       "      <td>2</td>\n",
       "      <td>1253.2292</td>\n",
       "      <td>C</td>\n",
       "    </tr>\n",
       "  </tbody>\n",
       "</table>\n",
       "</div>"
      ],
      "text/plain": [
       "        fecha                producto  cantidad   ganancia category\n",
       "0  30/04/2012        Road-450 Red, 52        64  -634.5152        C\n",
       "1  30/05/2013  Mountain-500 Black, 44        19   558.8717        C\n",
       "2  23/01/2014      Road-250 Black, 48         1   888.4021        C\n",
       "3  06/04/2014   Road-550-W Yellow, 42         1   407.4102        A\n",
       "4  30/10/2011        Road-150 Red, 52         2  2813.9516        B\n",
       "5  30/08/2013   Road-350-W Yellow, 48        86 -5471.0620        A\n",
       "6  20/11/2013   Road-550-W Yellow, 38         2   814.8204        C\n",
       "7  02/01/2012        Road-150 Red, 62         1  1406.9758        B\n",
       "8  24/12/2011        Road-650 Red, 52         1   212.3916        C\n",
       "9  21/07/2012      Road-250 Black, 48         2  1253.2292        C"
      ]
     },
     "execution_count": 45,
     "metadata": {},
     "output_type": "execute_result"
    }
   ],
   "source": [
    "data.head(10)"
   ]
  },
  {
   "cell_type": "code",
   "execution_count": 46,
   "id": "c1f9d4a5",
   "metadata": {},
   "outputs": [
    {
     "data": {
      "text/html": [
       "<div>\n",
       "<style scoped>\n",
       "    .dataframe tbody tr th:only-of-type {\n",
       "        vertical-align: middle;\n",
       "    }\n",
       "\n",
       "    .dataframe tbody tr th {\n",
       "        vertical-align: top;\n",
       "    }\n",
       "\n",
       "    .dataframe thead th {\n",
       "        text-align: right;\n",
       "    }\n",
       "</style>\n",
       "<table border=\"1\" class=\"dataframe\">\n",
       "  <thead>\n",
       "    <tr style=\"text-align: right;\">\n",
       "      <th></th>\n",
       "      <th>cantidad</th>\n",
       "      <th>ganancia</th>\n",
       "      <th>category</th>\n",
       "    </tr>\n",
       "    <tr>\n",
       "      <th>producto</th>\n",
       "      <th></th>\n",
       "      <th></th>\n",
       "      <th></th>\n",
       "    </tr>\n",
       "  </thead>\n",
       "  <tbody>\n",
       "    <tr>\n",
       "      <th>AWC Logo Cap</th>\n",
       "      <td>8311</td>\n",
       "      <td>-4767.6667</td>\n",
       "      <td>C</td>\n",
       "    </tr>\n",
       "    <tr>\n",
       "      <th>All-Purpose Bike Stand</th>\n",
       "      <td>249</td>\n",
       "      <td>24783.9660</td>\n",
       "      <td>C</td>\n",
       "    </tr>\n",
       "    <tr>\n",
       "      <th>Bike Wash - Dissolver</th>\n",
       "      <td>3319</td>\n",
       "      <td>9179.5023</td>\n",
       "      <td>C</td>\n",
       "    </tr>\n",
       "    <tr>\n",
       "      <th>Cable Lock</th>\n",
       "      <td>1087</td>\n",
       "      <td>5076.2449</td>\n",
       "      <td>C</td>\n",
       "    </tr>\n",
       "    <tr>\n",
       "      <th>Chain</th>\n",
       "      <td>774</td>\n",
       "      <td>2439.0265</td>\n",
       "      <td>C</td>\n",
       "    </tr>\n",
       "    <tr>\n",
       "      <th>Classic Vest, L</th>\n",
       "      <td>207</td>\n",
       "      <td>7942.7070</td>\n",
       "      <td>C</td>\n",
       "    </tr>\n",
       "    <tr>\n",
       "      <th>Classic Vest, M</th>\n",
       "      <td>2284</td>\n",
       "      <td>37717.7134</td>\n",
       "      <td>C</td>\n",
       "    </tr>\n",
       "    <tr>\n",
       "      <th>Classic Vest, S</th>\n",
       "      <td>4247</td>\n",
       "      <td>63220.9092</td>\n",
       "      <td>A</td>\n",
       "    </tr>\n",
       "    <tr>\n",
       "      <th>Fender Set - Mountain</th>\n",
       "      <td>2121</td>\n",
       "      <td>29183.8995</td>\n",
       "      <td>C</td>\n",
       "    </tr>\n",
       "    <tr>\n",
       "      <th>Front Brakes</th>\n",
       "      <td>789</td>\n",
       "      <td>13084.5576</td>\n",
       "      <td>C</td>\n",
       "    </tr>\n",
       "  </tbody>\n",
       "</table>\n",
       "</div>"
      ],
      "text/plain": [
       "                        cantidad    ganancia category\n",
       "producto                                             \n",
       "AWC Logo Cap                8311  -4767.6667        C\n",
       "All-Purpose Bike Stand       249  24783.9660        C\n",
       "Bike Wash - Dissolver       3319   9179.5023        C\n",
       "Cable Lock                  1087   5076.2449        C\n",
       "Chain                        774   2439.0265        C\n",
       "Classic Vest, L              207   7942.7070        C\n",
       "Classic Vest, M             2284  37717.7134        C\n",
       "Classic Vest, S             4247  63220.9092        A\n",
       "Fender Set - Mountain       2121  29183.8995        C\n",
       "Front Brakes                 789  13084.5576        C"
      ]
     },
     "execution_count": 46,
     "metadata": {},
     "output_type": "execute_result"
    }
   ],
   "source": [
    "prod_data.head(10)"
   ]
  },
  {
   "cell_type": "markdown",
   "id": "75eb84bc",
   "metadata": {},
   "source": [
    "## Conclusiones"
   ]
  },
  {
   "cell_type": "markdown",
   "id": "1782b414",
   "metadata": {},
   "source": [
    "La variedad de productos que ofrece la empresa ***AdventureWoks*** puede ser clasificada en tres (3) agrupaciones, tomando como factores clave para la segmentación *la cantidad vendida* y *la ganancia generada* en el tiempo de análisis (*histórico en este caso*), como resultado se obtuvo que:\n",
    "\n",
    "* en la **categoría A** se encuentran los productos de grandes cantidades vendidas con poca rentabilidad generada.\n",
    "* en la **categoría B y C** se encuentran los productos con cantidad y rentabilidad media.\n",
    "\n",
    "Cada producto quedó etiquetado con la respectiva categoría para que tal información pueda ser tomada en cuenta en el desarrollo de campañas de marketing y en la planificación de las compras para que no exista quiebre de stock."
   ]
  },
  {
   "cell_type": "markdown",
   "id": "48054ca0",
   "metadata": {},
   "source": [
    "## Recomendaciones"
   ]
  },
  {
   "cell_type": "markdown",
   "id": "e7c3e28f",
   "metadata": {},
   "source": [
    "Una vez realizado el clustering de los productos y se ha obtenido la categoría de cada uno de ellos, se puede dar algunas recomendaciones a la empresa. Algunas posibles recomendaciones son:\n",
    "\n",
    "* *Analizar el comportamiento de venta de cada categoría*: Una vez que tenemos los productos agrupados en categorías A, B y C, podemos analizar el comportamiento de venta de cada categoría. Es posible que algunos productos de la categoría C no estén siendo rentables y podrían ser descontinuados. Por otro lado, si la categoría A tiene productos con altas ventas y ganancias, la empresa podría enfocar su estrategia de venta en estos productos.\n",
    "\n",
    "* *Ofrecer promociones en productos de la categoría C*: Si algunos productos de la categoría C no están teniendo buenas ventas, la empresa podría ofrecer promociones o descuentos para incentivar su venta. De esta manera, se podría incrementar la rentabilidad de estos productos.\n",
    "\n",
    "* *Analizar la competencia*: Es posible que algunos productos de la empresa estén siendo desplazados por productos similares de la competencia. La empresa podría analizar la competencia y sus productos para determinar si hay oportunidades de mejora en los productos de la empresa.\n",
    "\n",
    "* *Realizar seguimiento periódico del clustering*: Es importante realizar un seguimiento periódico del clustering de los productos para detectar cambios en las tendencias de venta y ajustar la estrategia de venta en consecuencia."
   ]
  }
 ],
 "metadata": {
  "kernelspec": {
   "display_name": "Python 3 (ipykernel)",
   "language": "python",
   "name": "python3"
  },
  "language_info": {
   "codemirror_mode": {
    "name": "ipython",
    "version": 3
   },
   "file_extension": ".py",
   "mimetype": "text/x-python",
   "name": "python",
   "nbconvert_exporter": "python",
   "pygments_lexer": "ipython3",
   "version": "3.11.9"
  }
 },
 "nbformat": 4,
 "nbformat_minor": 5
}
