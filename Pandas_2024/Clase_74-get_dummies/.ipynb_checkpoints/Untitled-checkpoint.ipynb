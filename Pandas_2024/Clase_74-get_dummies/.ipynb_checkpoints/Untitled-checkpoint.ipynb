{
 "cells": [
  {
   "cell_type": "markdown",
   "id": "573306bf-924c-4d53-b7d0-ba9580c76cdf",
   "metadata": {},
   "source": [
    "Ejercicio 3"
   ]
  },
  {
   "cell_type": "code",
   "execution_count": 1,
   "id": "3ba06611-5de4-4827-a3b7-d89b1c8a6987",
   "metadata": {},
   "outputs": [
    {
     "name": "stdout",
     "output_type": "stream",
     "text": [
      "DataFrame original:\n",
      "   Nombre  Edad Departamento  Salario\n",
      "0     Ana    23       Ventas    50000\n",
      "1    Luis    45           IT    60000\n",
      "2   María    31           IT    55000\n",
      "3   Pedro    34       Ventas    52000\n",
      "4   Laura    28    Marketing    58000\n",
      "5  Carlos    40       Ventas    51000\n",
      "6   Marta    36    Marketing    60000\n",
      "7   Jorge    50           IT    62000\n",
      "\n",
      "DataFrame después de aplicar get_dummies:\n",
      "   Nombre  Edad  Salario  Dept_Marketing  Dept_Ventas\n",
      "0     Ana    23    50000           False         True\n",
      "1    Luis    45    60000           False        False\n",
      "2   María    31    55000           False        False\n",
      "3   Pedro    34    52000           False         True\n",
      "4   Laura    28    58000            True        False\n",
      "5  Carlos    40    51000           False         True\n",
      "6   Marta    36    60000            True        False\n",
      "7   Jorge    50    62000           False        False\n",
      "\n",
      "DataFrame después de aplicar cut:\n",
      "   Nombre  Edad  Salario  Dept_Marketing  Dept_Ventas Grupo_Edad\n",
      "0     Ana    23    50000           False         True      20-30\n",
      "1    Luis    45    60000           False        False      40-50\n",
      "2   María    31    55000           False        False      30-40\n",
      "3   Pedro    34    52000           False         True      30-40\n",
      "4   Laura    28    58000            True        False      20-30\n",
      "5  Carlos    40    51000           False         True      40-50\n",
      "6   Marta    36    60000            True        False      30-40\n",
      "7   Jorge    50    62000           False        False      50-60\n"
     ]
    }
   ],
   "source": [
    "import pandas as pd\n",
    "\n",
    "# Creación del DataFrame\n",
    "data = {\n",
    "    'Nombre': ['Ana', 'Luis', 'María', 'Pedro', 'Laura', 'Carlos', 'Marta', 'Jorge'],\n",
    "    'Edad': [23, 45, 31, 34, 28, 40, 36, 50],\n",
    "    'Departamento': ['Ventas', 'IT', 'IT', 'Ventas', 'Marketing', 'Ventas', 'Marketing', 'IT'],\n",
    "    'Salario': [50000, 60000, 55000, 52000, 58000, 51000, 60000, 62000]\n",
    "}\n",
    "\n",
    "df = pd.DataFrame(data)\n",
    "print(\"DataFrame original:\")\n",
    "print(df)\n",
    "\n",
    "# Convertir la columna 'Departamento' en variables dummy\n",
    "df_dummies = pd.get_dummies(df, columns=['Departamento'], prefix='Dept', drop_first=True)\n",
    "\n",
    "print(\"\\nDataFrame después de aplicar get_dummies:\")\n",
    "print(df_dummies)\n",
    "\n",
    "# Definir los límites y etiquetas para los grupos de edad\n",
    "bins = [20, 30, 40, 50, 60]\n",
    "labels = ['20-30', '30-40', '40-50', '50-60']\n",
    "\n",
    "# Crear la nueva columna 'Grupo_Edad' utilizando cut\n",
    "df_dummies['Grupo_Edad'] = pd.cut(df_dummies['Edad'], bins=bins, labels=labels, right=False)\n",
    "\n",
    "print(\"\\nDataFrame después de aplicar cut:\")\n",
    "print(df_dummies)"
   ]
  },
  {
   "cell_type": "code",
   "execution_count": null,
   "id": "0084fa21-50a0-488a-8b57-d52b3eebd94c",
   "metadata": {},
   "outputs": [],
   "source": []
  }
 ],
 "metadata": {
  "kernelspec": {
   "display_name": "Python 3 (ipykernel)",
   "language": "python",
   "name": "python3"
  },
  "language_info": {
   "codemirror_mode": {
    "name": "ipython",
    "version": 3
   },
   "file_extension": ".py",
   "mimetype": "text/x-python",
   "name": "python",
   "nbconvert_exporter": "python",
   "pygments_lexer": "ipython3",
   "version": "3.11.9"
  }
 },
 "nbformat": 4,
 "nbformat_minor": 5
}
