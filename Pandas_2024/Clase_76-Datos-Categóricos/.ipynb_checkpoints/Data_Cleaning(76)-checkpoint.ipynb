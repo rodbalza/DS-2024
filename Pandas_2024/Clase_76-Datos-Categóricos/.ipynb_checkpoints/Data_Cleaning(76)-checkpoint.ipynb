{
 "cells": [
  {
   "cell_type": "markdown",
   "id": "f426c096",
   "metadata": {
    "slideshow": {
     "slide_type": "slide"
    }
   },
   "source": [
    "# Limpieza y preparación de datos"
   ]
  },
  {
   "cell_type": "markdown",
   "id": "35668dfe",
   "metadata": {
    "slideshow": {
     "slide_type": "slide"
    }
   },
   "source": [
    "## 2.1 Tratamiento de los datos que faltan"
   ]
  },
  {
   "cell_type": "markdown",
   "id": "bf93f8b5",
   "metadata": {},
   "source": [
    "### En muchas aplicaciones de análisis de datos es habitual que falten datos. Uno de los objetivos de pandas es hacer que trabajar con datos perdidos sea lo menos doloroso posible. Por ejemplo, todas las estadísticas descriptivas de los objetos de pandas excluyen por defecto los datos que faltan."
   ]
  },
  {
   "cell_type": "markdown",
   "id": "18d7e1f4",
   "metadata": {
    "slideshow": {
     "slide_type": "slide"
    }
   },
   "source": [
    "### La forma en que se representan los datos que faltan en los objetos de pandas es algo imperfecta, pero es suficiente para la mayoría de los usos en el mundo real. Para datos con dtype float64, pandas utiliza el valor de coma flotante NaN (`Not a Number`) para representar los datos que faltan."
   ]
  },
  {
   "cell_type": "markdown",
   "id": "dddd97d7",
   "metadata": {},
   "source": [
    "Lo llamamos valor centinela (sentinel value): cuando está presente, indica un valor ausente (o nulo):"
   ]
  },
  {
   "cell_type": "code",
   "execution_count": 2,
   "id": "2acec2f6",
   "metadata": {
    "slideshow": {
     "slide_type": "slide"
    }
   },
   "outputs": [],
   "source": [
    "import pandas as pd\n",
    "import numpy as np\n",
    "import matplotlib.pyplot as plt\n",
    "import seaborn as sns\n",
    "import re\n",
    "import session_info\n",
    "float_data = pd.Series([1.8, -3.5, np.nan, 0])"
   ]
  },
  {
   "cell_type": "code",
   "execution_count": 3,
   "id": "f8221898",
   "metadata": {},
   "outputs": [
    {
     "data": {
      "text/plain": [
       "0    1.8\n",
       "1   -3.5\n",
       "2    NaN\n",
       "3    0.0\n",
       "dtype: float64"
      ]
     },
     "execution_count": 3,
     "metadata": {},
     "output_type": "execute_result"
    }
   ],
   "source": [
    "float_data"
   ]
  },
  {
   "cell_type": "markdown",
   "id": "5d6e522e",
   "metadata": {
    "slideshow": {
     "slide_type": "slide"
    }
   },
   "source": [
    "El método `isna` nos da una Serie Booleana con `True` donde los valores son 'nulos':"
   ]
  },
  {
   "cell_type": "code",
   "execution_count": 4,
   "id": "8f642842",
   "metadata": {},
   "outputs": [
    {
     "data": {
      "text/plain": [
       "0    False\n",
       "1    False\n",
       "2     True\n",
       "3    False\n",
       "dtype: bool"
      ]
     },
     "execution_count": 4,
     "metadata": {},
     "output_type": "execute_result"
    }
   ],
   "source": [
    "float_data.isna()"
   ]
  },
  {
   "cell_type": "markdown",
   "id": "83ac8723",
   "metadata": {
    "slideshow": {
     "slide_type": "slide"
    }
   },
   "source": [
    "En pandas, hemos adoptado una convención utilizada en el lenguaje de programación R refiriéndonos a los datos perdidos como `NA`, que significa no disponible (`Not Available`). "
   ]
  },
  {
   "cell_type": "markdown",
   "id": "0f641407",
   "metadata": {
    "slideshow": {
     "slide_type": "slide"
    }
   },
   "source": [
    "El valor `None` (ausencia de un valor o un valor nulo) incorporado en Python también se trata como `NA`:"
   ]
  },
  {
   "cell_type": "code",
   "execution_count": 5,
   "id": "32fc5765",
   "metadata": {},
   "outputs": [
    {
     "data": {
      "text/plain": [
       "0    abcd\n",
       "1     NaN\n",
       "2    None\n",
       "3    dfeg\n",
       "dtype: object"
      ]
     },
     "execution_count": 5,
     "metadata": {},
     "output_type": "execute_result"
    }
   ],
   "source": [
    "string_data = pd.Series(['abcd', np.nan, None, 'dfeg'])\n",
    "\n",
    "string_data"
   ]
  },
  {
   "cell_type": "code",
   "execution_count": 6,
   "id": "86111bf1",
   "metadata": {
    "slideshow": {
     "slide_type": "slide"
    }
   },
   "outputs": [
    {
     "data": {
      "text/plain": [
       "0    False\n",
       "1     True\n",
       "2     True\n",
       "3    False\n",
       "dtype: bool"
      ]
     },
     "execution_count": 6,
     "metadata": {},
     "output_type": "execute_result"
    }
   ],
   "source": [
    "string_data.isna()"
   ]
  },
  {
   "cell_type": "markdown",
   "id": "fcae94e1-dc6f-4f9d-8d6e-cf45dec1ad94",
   "metadata": {},
   "source": [
    "El método `isna` nos da una Serie Booleana con `True` donde los valores son 'nulos':"
   ]
  },
  {
   "cell_type": "code",
   "execution_count": 7,
   "id": "c0aa58d8",
   "metadata": {
    "slideshow": {
     "slide_type": "slide"
    }
   },
   "outputs": [
    {
     "data": {
      "text/plain": [
       "0    1.0\n",
       "1    2.0\n",
       "2    NaN\n",
       "dtype: float64"
      ]
     },
     "execution_count": 7,
     "metadata": {},
     "output_type": "execute_result"
    }
   ],
   "source": [
    "float_data = pd.Series([1, 2, None], dtype='float64')\n",
    "float_data"
   ]
  },
  {
   "cell_type": "code",
   "execution_count": 8,
   "id": "a99d981f",
   "metadata": {
    "slideshow": {
     "slide_type": "slide"
    }
   },
   "outputs": [
    {
     "data": {
      "text/plain": [
       "0    False\n",
       "1    False\n",
       "2     True\n",
       "dtype: bool"
      ]
     },
     "execution_count": 8,
     "metadata": {},
     "output_type": "execute_result"
    }
   ],
   "source": [
    "float_data.isna()"
   ]
  },
  {
   "cell_type": "markdown",
   "id": "e512e237",
   "metadata": {
    "slideshow": {
     "slide_type": "slide"
    }
   },
   "source": [
    "**Otros metodos**\n",
    "\n",
    "\n",
    "`dropna()`: es un método utilizado para eliminar filas o columnas que contienen valores nulos (NaN).  \n",
    "\n",
    "`fillna`: Rellena los datos que faltan con algún valor o utilizando un método de interpolación como `ffill` o `bfill`.\n",
    "\n",
    "`ìsna()`: Devuelve valores booleanos que indican qué valores faltan `NA`. \n",
    "\n",
    "`notna`: Negación de `isna`, devuelve `True` para valores no `NA` y False para valores `NA`."
   ]
  },
  {
   "cell_type": "markdown",
   "id": "89d8f485",
   "metadata": {
    "slideshow": {
     "slide_type": "slide"
    }
   },
   "source": [
    "### Filtrar los datos que faltan"
   ]
  },
  {
   "cell_type": "markdown",
   "id": "4386985b",
   "metadata": {
    "slideshow": {
     "slide_type": "slide"
    }
   },
   "source": [
    "Hay algunas formas de filtrar los datos que faltan. Aunque siempre se tiene la opción de hacerlo a mano usando `pandas.isna()` y la indexación booleana, `dropna()` puede ser útil. En una Serie, devuelve la Serie con sólo los datos no nulos y los valores de índice:"
   ]
  },
  {
   "cell_type": "code",
   "execution_count": 9,
   "id": "fe62beda",
   "metadata": {},
   "outputs": [
    {
     "data": {
      "text/plain": [
       "0    1.0\n",
       "2    3.5\n",
       "4    7.0\n",
       "dtype: float64"
      ]
     },
     "execution_count": 9,
     "metadata": {},
     "output_type": "execute_result"
    }
   ],
   "source": [
    "data = pd.Series([1, np.nan, 3.5, np.nan, 7])\n",
    "data.dropna()"
   ]
  },
  {
   "cell_type": "markdown",
   "id": "9401408b",
   "metadata": {
    "slideshow": {
     "slide_type": "slide"
    }
   },
   "source": [
    "Esto es lo mismo que hacer:"
   ]
  },
  {
   "cell_type": "code",
   "execution_count": 10,
   "id": "247e345f",
   "metadata": {},
   "outputs": [
    {
     "data": {
      "text/plain": [
       "0    1.0\n",
       "2    3.5\n",
       "4    7.0\n",
       "dtype: float64"
      ]
     },
     "execution_count": 10,
     "metadata": {},
     "output_type": "execute_result"
    }
   ],
   "source": [
    "data[data.notna()]"
   ]
  },
  {
   "cell_type": "markdown",
   "id": "dfbee4cc",
   "metadata": {
    "slideshow": {
     "slide_type": "slide"
    }
   },
   "source": [
    "Con los objetos DataFrame, hay diferentes formas de eliminar los datos que faltan. Es posible que desee eliminar las filas o columnas que son todas NA, o sólo las filas o columnas que contienen cualquier NA en absoluto. `dropna()` por defecto elimina cualquier fila que contenga un valor perdido:"
   ]
  },
  {
   "cell_type": "code",
   "execution_count": 11,
   "id": "fd5a3341",
   "metadata": {},
   "outputs": [
    {
     "data": {
      "text/html": [
       "<div>\n",
       "<style scoped>\n",
       "    .dataframe tbody tr th:only-of-type {\n",
       "        vertical-align: middle;\n",
       "    }\n",
       "\n",
       "    .dataframe tbody tr th {\n",
       "        vertical-align: top;\n",
       "    }\n",
       "\n",
       "    .dataframe thead th {\n",
       "        text-align: right;\n",
       "    }\n",
       "</style>\n",
       "<table border=\"1\" class=\"dataframe\">\n",
       "  <thead>\n",
       "    <tr style=\"text-align: right;\">\n",
       "      <th></th>\n",
       "      <th>0</th>\n",
       "      <th>1</th>\n",
       "      <th>2</th>\n",
       "    </tr>\n",
       "  </thead>\n",
       "  <tbody>\n",
       "    <tr>\n",
       "      <th>0</th>\n",
       "      <td>1.0</td>\n",
       "      <td>6.5</td>\n",
       "      <td>3.0</td>\n",
       "    </tr>\n",
       "    <tr>\n",
       "      <th>1</th>\n",
       "      <td>1.0</td>\n",
       "      <td>NaN</td>\n",
       "      <td>NaN</td>\n",
       "    </tr>\n",
       "    <tr>\n",
       "      <th>2</th>\n",
       "      <td>NaN</td>\n",
       "      <td>NaN</td>\n",
       "      <td>NaN</td>\n",
       "    </tr>\n",
       "    <tr>\n",
       "      <th>3</th>\n",
       "      <td>NaN</td>\n",
       "      <td>6.5</td>\n",
       "      <td>3.0</td>\n",
       "    </tr>\n",
       "  </tbody>\n",
       "</table>\n",
       "</div>"
      ],
      "text/plain": [
       "     0    1    2\n",
       "0  1.0  6.5  3.0\n",
       "1  1.0  NaN  NaN\n",
       "2  NaN  NaN  NaN\n",
       "3  NaN  6.5  3.0"
      ]
     },
     "execution_count": 11,
     "metadata": {},
     "output_type": "execute_result"
    }
   ],
   "source": [
    "data = pd.DataFrame([[1., 6.5, 3.], [1., np.nan, np.nan],\n",
    "             [np.nan, np.nan, np.nan],\n",
    "             [np.nan, 6.5, 3.]])\n",
    "\n",
    "data"
   ]
  },
  {
   "cell_type": "code",
   "execution_count": 12,
   "id": "16d5374e",
   "metadata": {
    "slideshow": {
     "slide_type": "slide"
    }
   },
   "outputs": [
    {
     "data": {
      "text/html": [
       "<div>\n",
       "<style scoped>\n",
       "    .dataframe tbody tr th:only-of-type {\n",
       "        vertical-align: middle;\n",
       "    }\n",
       "\n",
       "    .dataframe tbody tr th {\n",
       "        vertical-align: top;\n",
       "    }\n",
       "\n",
       "    .dataframe thead th {\n",
       "        text-align: right;\n",
       "    }\n",
       "</style>\n",
       "<table border=\"1\" class=\"dataframe\">\n",
       "  <thead>\n",
       "    <tr style=\"text-align: right;\">\n",
       "      <th></th>\n",
       "      <th>0</th>\n",
       "      <th>1</th>\n",
       "      <th>2</th>\n",
       "    </tr>\n",
       "  </thead>\n",
       "  <tbody>\n",
       "    <tr>\n",
       "      <th>0</th>\n",
       "      <td>1.0</td>\n",
       "      <td>6.5</td>\n",
       "      <td>3.0</td>\n",
       "    </tr>\n",
       "  </tbody>\n",
       "</table>\n",
       "</div>"
      ],
      "text/plain": [
       "     0    1    2\n",
       "0  1.0  6.5  3.0"
      ]
     },
     "execution_count": 12,
     "metadata": {},
     "output_type": "execute_result"
    }
   ],
   "source": [
    " data.dropna()"
   ]
  },
  {
   "cell_type": "markdown",
   "id": "5f7baa20",
   "metadata": {
    "slideshow": {
     "slide_type": "slide"
    }
   },
   "source": [
    "Si se pasa `how=\"all\"`, sólo se eliminarán las filas que sean todas NA:"
   ]
  },
  {
   "cell_type": "code",
   "execution_count": 13,
   "id": "6375e3c0",
   "metadata": {},
   "outputs": [
    {
     "data": {
      "text/html": [
       "<div>\n",
       "<style scoped>\n",
       "    .dataframe tbody tr th:only-of-type {\n",
       "        vertical-align: middle;\n",
       "    }\n",
       "\n",
       "    .dataframe tbody tr th {\n",
       "        vertical-align: top;\n",
       "    }\n",
       "\n",
       "    .dataframe thead th {\n",
       "        text-align: right;\n",
       "    }\n",
       "</style>\n",
       "<table border=\"1\" class=\"dataframe\">\n",
       "  <thead>\n",
       "    <tr style=\"text-align: right;\">\n",
       "      <th></th>\n",
       "      <th>0</th>\n",
       "      <th>1</th>\n",
       "      <th>2</th>\n",
       "    </tr>\n",
       "  </thead>\n",
       "  <tbody>\n",
       "    <tr>\n",
       "      <th>0</th>\n",
       "      <td>1.0</td>\n",
       "      <td>6.5</td>\n",
       "      <td>3.0</td>\n",
       "    </tr>\n",
       "    <tr>\n",
       "      <th>1</th>\n",
       "      <td>1.0</td>\n",
       "      <td>NaN</td>\n",
       "      <td>NaN</td>\n",
       "    </tr>\n",
       "    <tr>\n",
       "      <th>3</th>\n",
       "      <td>NaN</td>\n",
       "      <td>6.5</td>\n",
       "      <td>3.0</td>\n",
       "    </tr>\n",
       "  </tbody>\n",
       "</table>\n",
       "</div>"
      ],
      "text/plain": [
       "     0    1    2\n",
       "0  1.0  6.5  3.0\n",
       "1  1.0  NaN  NaN\n",
       "3  NaN  6.5  3.0"
      ]
     },
     "execution_count": 13,
     "metadata": {},
     "output_type": "execute_result"
    }
   ],
   "source": [
    "data.dropna(how=\"all\")"
   ]
  },
  {
   "cell_type": "markdown",
   "id": "e7ad93a8",
   "metadata": {
    "slideshow": {
     "slide_type": "slide"
    }
   },
   "source": [
    "Tenga en cuenta que estas funciones devuelven nuevos objetos por defecto y no modifican el contenido del objeto original.\n",
    "\n",
    "Para soltar (drop) columnas del mismo modo, pase `axis=\"columns\"`:\n"
   ]
  },
  {
   "cell_type": "code",
   "execution_count": 14,
   "id": "805cac59",
   "metadata": {},
   "outputs": [
    {
     "data": {
      "text/html": [
       "<div>\n",
       "<style scoped>\n",
       "    .dataframe tbody tr th:only-of-type {\n",
       "        vertical-align: middle;\n",
       "    }\n",
       "\n",
       "    .dataframe tbody tr th {\n",
       "        vertical-align: top;\n",
       "    }\n",
       "\n",
       "    .dataframe thead th {\n",
       "        text-align: right;\n",
       "    }\n",
       "</style>\n",
       "<table border=\"1\" class=\"dataframe\">\n",
       "  <thead>\n",
       "    <tr style=\"text-align: right;\">\n",
       "      <th></th>\n",
       "      <th>0</th>\n",
       "      <th>1</th>\n",
       "      <th>2</th>\n",
       "      <th>4</th>\n",
       "    </tr>\n",
       "  </thead>\n",
       "  <tbody>\n",
       "    <tr>\n",
       "      <th>0</th>\n",
       "      <td>1.0</td>\n",
       "      <td>6.5</td>\n",
       "      <td>3.0</td>\n",
       "      <td>NaN</td>\n",
       "    </tr>\n",
       "    <tr>\n",
       "      <th>1</th>\n",
       "      <td>1.0</td>\n",
       "      <td>NaN</td>\n",
       "      <td>NaN</td>\n",
       "      <td>NaN</td>\n",
       "    </tr>\n",
       "    <tr>\n",
       "      <th>2</th>\n",
       "      <td>NaN</td>\n",
       "      <td>NaN</td>\n",
       "      <td>NaN</td>\n",
       "      <td>NaN</td>\n",
       "    </tr>\n",
       "    <tr>\n",
       "      <th>3</th>\n",
       "      <td>NaN</td>\n",
       "      <td>6.5</td>\n",
       "      <td>3.0</td>\n",
       "      <td>NaN</td>\n",
       "    </tr>\n",
       "  </tbody>\n",
       "</table>\n",
       "</div>"
      ],
      "text/plain": [
       "     0    1    2   4\n",
       "0  1.0  6.5  3.0 NaN\n",
       "1  1.0  NaN  NaN NaN\n",
       "2  NaN  NaN  NaN NaN\n",
       "3  NaN  6.5  3.0 NaN"
      ]
     },
     "execution_count": 14,
     "metadata": {},
     "output_type": "execute_result"
    }
   ],
   "source": [
    "data[4] = np.nan\n",
    "data"
   ]
  },
  {
   "cell_type": "code",
   "execution_count": 15,
   "id": "60dc7053",
   "metadata": {
    "slideshow": {
     "slide_type": "slide"
    }
   },
   "outputs": [
    {
     "data": {
      "text/html": [
       "<div>\n",
       "<style scoped>\n",
       "    .dataframe tbody tr th:only-of-type {\n",
       "        vertical-align: middle;\n",
       "    }\n",
       "\n",
       "    .dataframe tbody tr th {\n",
       "        vertical-align: top;\n",
       "    }\n",
       "\n",
       "    .dataframe thead th {\n",
       "        text-align: right;\n",
       "    }\n",
       "</style>\n",
       "<table border=\"1\" class=\"dataframe\">\n",
       "  <thead>\n",
       "    <tr style=\"text-align: right;\">\n",
       "      <th></th>\n",
       "      <th>0</th>\n",
       "      <th>1</th>\n",
       "      <th>2</th>\n",
       "    </tr>\n",
       "  </thead>\n",
       "  <tbody>\n",
       "    <tr>\n",
       "      <th>0</th>\n",
       "      <td>1.0</td>\n",
       "      <td>6.5</td>\n",
       "      <td>3.0</td>\n",
       "    </tr>\n",
       "    <tr>\n",
       "      <th>1</th>\n",
       "      <td>1.0</td>\n",
       "      <td>NaN</td>\n",
       "      <td>NaN</td>\n",
       "    </tr>\n",
       "    <tr>\n",
       "      <th>2</th>\n",
       "      <td>NaN</td>\n",
       "      <td>NaN</td>\n",
       "      <td>NaN</td>\n",
       "    </tr>\n",
       "    <tr>\n",
       "      <th>3</th>\n",
       "      <td>NaN</td>\n",
       "      <td>6.5</td>\n",
       "      <td>3.0</td>\n",
       "    </tr>\n",
       "  </tbody>\n",
       "</table>\n",
       "</div>"
      ],
      "text/plain": [
       "     0    1    2\n",
       "0  1.0  6.5  3.0\n",
       "1  1.0  NaN  NaN\n",
       "2  NaN  NaN  NaN\n",
       "3  NaN  6.5  3.0"
      ]
     },
     "execution_count": 15,
     "metadata": {},
     "output_type": "execute_result"
    }
   ],
   "source": [
    "data.dropna(axis=\"columns\", how=\"all\")"
   ]
  },
  {
   "cell_type": "markdown",
   "id": "5e9af624",
   "metadata": {
    "slideshow": {
     "slide_type": "slide"
    }
   },
   "source": [
    "Supongamos que desea conservar sólo las filas que contengan como máximo un determinado número de observaciones omitidas.  \n",
    "Puede indicarlo con el argumento `thresh`, el cual especifica el número mínimo de valores no nulos que deben estar presentes en una fila o columna para que no sea eliminada.  \n",
    "Si una fila o columna no cumple con este umbral mínimo de valores no nulos, será eliminada del DataFrame."
   ]
  },
  {
   "cell_type": "code",
   "execution_count": 16,
   "id": "50c52525",
   "metadata": {
    "slideshow": {
     "slide_type": "-"
    }
   },
   "outputs": [],
   "source": [
    " df = pd.DataFrame(np.random.standard_normal((7, 3)))"
   ]
  },
  {
   "cell_type": "code",
   "execution_count": 17,
   "id": "35c692d5",
   "metadata": {
    "slideshow": {
     "slide_type": "slide"
    }
   },
   "outputs": [
    {
     "data": {
      "text/html": [
       "<div>\n",
       "<style scoped>\n",
       "    .dataframe tbody tr th:only-of-type {\n",
       "        vertical-align: middle;\n",
       "    }\n",
       "\n",
       "    .dataframe tbody tr th {\n",
       "        vertical-align: top;\n",
       "    }\n",
       "\n",
       "    .dataframe thead th {\n",
       "        text-align: right;\n",
       "    }\n",
       "</style>\n",
       "<table border=\"1\" class=\"dataframe\">\n",
       "  <thead>\n",
       "    <tr style=\"text-align: right;\">\n",
       "      <th></th>\n",
       "      <th>0</th>\n",
       "      <th>1</th>\n",
       "      <th>2</th>\n",
       "    </tr>\n",
       "  </thead>\n",
       "  <tbody>\n",
       "    <tr>\n",
       "      <th>0</th>\n",
       "      <td>0.037240</td>\n",
       "      <td>-0.812999</td>\n",
       "      <td>0.576066</td>\n",
       "    </tr>\n",
       "    <tr>\n",
       "      <th>1</th>\n",
       "      <td>-1.263102</td>\n",
       "      <td>0.389403</td>\n",
       "      <td>1.236278</td>\n",
       "    </tr>\n",
       "    <tr>\n",
       "      <th>2</th>\n",
       "      <td>-0.762541</td>\n",
       "      <td>0.618373</td>\n",
       "      <td>0.454125</td>\n",
       "    </tr>\n",
       "    <tr>\n",
       "      <th>3</th>\n",
       "      <td>0.458609</td>\n",
       "      <td>0.926451</td>\n",
       "      <td>-2.075206</td>\n",
       "    </tr>\n",
       "    <tr>\n",
       "      <th>4</th>\n",
       "      <td>0.462403</td>\n",
       "      <td>-0.239079</td>\n",
       "      <td>-0.282685</td>\n",
       "    </tr>\n",
       "    <tr>\n",
       "      <th>5</th>\n",
       "      <td>-1.196976</td>\n",
       "      <td>-0.071604</td>\n",
       "      <td>-0.951106</td>\n",
       "    </tr>\n",
       "    <tr>\n",
       "      <th>6</th>\n",
       "      <td>1.619244</td>\n",
       "      <td>1.433744</td>\n",
       "      <td>0.287846</td>\n",
       "    </tr>\n",
       "  </tbody>\n",
       "</table>\n",
       "</div>"
      ],
      "text/plain": [
       "          0         1         2\n",
       "0  0.037240 -0.812999  0.576066\n",
       "1 -1.263102  0.389403  1.236278\n",
       "2 -0.762541  0.618373  0.454125\n",
       "3  0.458609  0.926451 -2.075206\n",
       "4  0.462403 -0.239079 -0.282685\n",
       "5 -1.196976 -0.071604 -0.951106\n",
       "6  1.619244  1.433744  0.287846"
      ]
     },
     "execution_count": 17,
     "metadata": {},
     "output_type": "execute_result"
    }
   ],
   "source": [
    "df"
   ]
  },
  {
   "cell_type": "code",
   "execution_count": 18,
   "id": "40eb8b4c",
   "metadata": {
    "slideshow": {
     "slide_type": "slide"
    }
   },
   "outputs": [],
   "source": [
    "df.iloc[:4, 1] = np.nan\n",
    "df.iloc[:2, 2] = np.nan"
   ]
  },
  {
   "cell_type": "code",
   "execution_count": 19,
   "id": "fe53aa86",
   "metadata": {},
   "outputs": [
    {
     "data": {
      "text/html": [
       "<div>\n",
       "<style scoped>\n",
       "    .dataframe tbody tr th:only-of-type {\n",
       "        vertical-align: middle;\n",
       "    }\n",
       "\n",
       "    .dataframe tbody tr th {\n",
       "        vertical-align: top;\n",
       "    }\n",
       "\n",
       "    .dataframe thead th {\n",
       "        text-align: right;\n",
       "    }\n",
       "</style>\n",
       "<table border=\"1\" class=\"dataframe\">\n",
       "  <thead>\n",
       "    <tr style=\"text-align: right;\">\n",
       "      <th></th>\n",
       "      <th>0</th>\n",
       "      <th>1</th>\n",
       "      <th>2</th>\n",
       "    </tr>\n",
       "  </thead>\n",
       "  <tbody>\n",
       "    <tr>\n",
       "      <th>0</th>\n",
       "      <td>0.037240</td>\n",
       "      <td>NaN</td>\n",
       "      <td>NaN</td>\n",
       "    </tr>\n",
       "    <tr>\n",
       "      <th>1</th>\n",
       "      <td>-1.263102</td>\n",
       "      <td>NaN</td>\n",
       "      <td>NaN</td>\n",
       "    </tr>\n",
       "    <tr>\n",
       "      <th>2</th>\n",
       "      <td>-0.762541</td>\n",
       "      <td>NaN</td>\n",
       "      <td>0.454125</td>\n",
       "    </tr>\n",
       "    <tr>\n",
       "      <th>3</th>\n",
       "      <td>0.458609</td>\n",
       "      <td>NaN</td>\n",
       "      <td>-2.075206</td>\n",
       "    </tr>\n",
       "    <tr>\n",
       "      <th>4</th>\n",
       "      <td>0.462403</td>\n",
       "      <td>-0.239079</td>\n",
       "      <td>-0.282685</td>\n",
       "    </tr>\n",
       "    <tr>\n",
       "      <th>5</th>\n",
       "      <td>-1.196976</td>\n",
       "      <td>-0.071604</td>\n",
       "      <td>-0.951106</td>\n",
       "    </tr>\n",
       "    <tr>\n",
       "      <th>6</th>\n",
       "      <td>1.619244</td>\n",
       "      <td>1.433744</td>\n",
       "      <td>0.287846</td>\n",
       "    </tr>\n",
       "  </tbody>\n",
       "</table>\n",
       "</div>"
      ],
      "text/plain": [
       "          0         1         2\n",
       "0  0.037240       NaN       NaN\n",
       "1 -1.263102       NaN       NaN\n",
       "2 -0.762541       NaN  0.454125\n",
       "3  0.458609       NaN -2.075206\n",
       "4  0.462403 -0.239079 -0.282685\n",
       "5 -1.196976 -0.071604 -0.951106\n",
       "6  1.619244  1.433744  0.287846"
      ]
     },
     "execution_count": 19,
     "metadata": {},
     "output_type": "execute_result"
    }
   ],
   "source": [
    "df"
   ]
  },
  {
   "cell_type": "code",
   "execution_count": 20,
   "id": "7132de74",
   "metadata": {
    "slideshow": {
     "slide_type": "slide"
    }
   },
   "outputs": [
    {
     "data": {
      "text/html": [
       "<div>\n",
       "<style scoped>\n",
       "    .dataframe tbody tr th:only-of-type {\n",
       "        vertical-align: middle;\n",
       "    }\n",
       "\n",
       "    .dataframe tbody tr th {\n",
       "        vertical-align: top;\n",
       "    }\n",
       "\n",
       "    .dataframe thead th {\n",
       "        text-align: right;\n",
       "    }\n",
       "</style>\n",
       "<table border=\"1\" class=\"dataframe\">\n",
       "  <thead>\n",
       "    <tr style=\"text-align: right;\">\n",
       "      <th></th>\n",
       "      <th>0</th>\n",
       "      <th>1</th>\n",
       "      <th>2</th>\n",
       "    </tr>\n",
       "  </thead>\n",
       "  <tbody>\n",
       "    <tr>\n",
       "      <th>4</th>\n",
       "      <td>0.462403</td>\n",
       "      <td>-0.239079</td>\n",
       "      <td>-0.282685</td>\n",
       "    </tr>\n",
       "    <tr>\n",
       "      <th>5</th>\n",
       "      <td>-1.196976</td>\n",
       "      <td>-0.071604</td>\n",
       "      <td>-0.951106</td>\n",
       "    </tr>\n",
       "    <tr>\n",
       "      <th>6</th>\n",
       "      <td>1.619244</td>\n",
       "      <td>1.433744</td>\n",
       "      <td>0.287846</td>\n",
       "    </tr>\n",
       "  </tbody>\n",
       "</table>\n",
       "</div>"
      ],
      "text/plain": [
       "          0         1         2\n",
       "4  0.462403 -0.239079 -0.282685\n",
       "5 -1.196976 -0.071604 -0.951106\n",
       "6  1.619244  1.433744  0.287846"
      ]
     },
     "execution_count": 20,
     "metadata": {},
     "output_type": "execute_result"
    }
   ],
   "source": [
    "df.dropna()"
   ]
  },
  {
   "cell_type": "code",
   "execution_count": 21,
   "id": "b3b0f144",
   "metadata": {
    "slideshow": {
     "slide_type": "slide"
    }
   },
   "outputs": [
    {
     "data": {
      "text/html": [
       "<div>\n",
       "<style scoped>\n",
       "    .dataframe tbody tr th:only-of-type {\n",
       "        vertical-align: middle;\n",
       "    }\n",
       "\n",
       "    .dataframe tbody tr th {\n",
       "        vertical-align: top;\n",
       "    }\n",
       "\n",
       "    .dataframe thead th {\n",
       "        text-align: right;\n",
       "    }\n",
       "</style>\n",
       "<table border=\"1\" class=\"dataframe\">\n",
       "  <thead>\n",
       "    <tr style=\"text-align: right;\">\n",
       "      <th></th>\n",
       "      <th>0</th>\n",
       "      <th>1</th>\n",
       "      <th>2</th>\n",
       "    </tr>\n",
       "  </thead>\n",
       "  <tbody>\n",
       "    <tr>\n",
       "      <th>2</th>\n",
       "      <td>-0.762541</td>\n",
       "      <td>NaN</td>\n",
       "      <td>0.454125</td>\n",
       "    </tr>\n",
       "    <tr>\n",
       "      <th>3</th>\n",
       "      <td>0.458609</td>\n",
       "      <td>NaN</td>\n",
       "      <td>-2.075206</td>\n",
       "    </tr>\n",
       "    <tr>\n",
       "      <th>4</th>\n",
       "      <td>0.462403</td>\n",
       "      <td>-0.239079</td>\n",
       "      <td>-0.282685</td>\n",
       "    </tr>\n",
       "    <tr>\n",
       "      <th>5</th>\n",
       "      <td>-1.196976</td>\n",
       "      <td>-0.071604</td>\n",
       "      <td>-0.951106</td>\n",
       "    </tr>\n",
       "    <tr>\n",
       "      <th>6</th>\n",
       "      <td>1.619244</td>\n",
       "      <td>1.433744</td>\n",
       "      <td>0.287846</td>\n",
       "    </tr>\n",
       "  </tbody>\n",
       "</table>\n",
       "</div>"
      ],
      "text/plain": [
       "          0         1         2\n",
       "2 -0.762541       NaN  0.454125\n",
       "3  0.458609       NaN -2.075206\n",
       "4  0.462403 -0.239079 -0.282685\n",
       "5 -1.196976 -0.071604 -0.951106\n",
       "6  1.619244  1.433744  0.287846"
      ]
     },
     "execution_count": 21,
     "metadata": {},
     "output_type": "execute_result"
    }
   ],
   "source": [
    "df.dropna(thresh=2)"
   ]
  },
  {
   "cell_type": "markdown",
   "id": "dddf0605",
   "metadata": {
    "slideshow": {
     "slide_type": "slide"
    }
   },
   "source": [
    "### Rellenar los datos que faltan"
   ]
  },
  {
   "cell_type": "markdown",
   "id": "fa10ace8",
   "metadata": {},
   "source": [
    "En lugar de filtrar los datos que faltan (y potencialmente descartar otros datos junto con ellos), es posible que desee rellenar los \"huecos\" de varias maneras. Para la mayoría de los propósitos, el método `fillna()` es la función a utilizar. Llamar a `fillna()` con una constante sustituye los valores que faltan por ese valor:"
   ]
  },
  {
   "cell_type": "code",
   "execution_count": 22,
   "id": "7e08146e-138f-4b2f-8f8a-643eb59ea827",
   "metadata": {},
   "outputs": [
    {
     "data": {
      "text/html": [
       "<div>\n",
       "<style scoped>\n",
       "    .dataframe tbody tr th:only-of-type {\n",
       "        vertical-align: middle;\n",
       "    }\n",
       "\n",
       "    .dataframe tbody tr th {\n",
       "        vertical-align: top;\n",
       "    }\n",
       "\n",
       "    .dataframe thead th {\n",
       "        text-align: right;\n",
       "    }\n",
       "</style>\n",
       "<table border=\"1\" class=\"dataframe\">\n",
       "  <thead>\n",
       "    <tr style=\"text-align: right;\">\n",
       "      <th></th>\n",
       "      <th>0</th>\n",
       "      <th>1</th>\n",
       "      <th>2</th>\n",
       "    </tr>\n",
       "  </thead>\n",
       "  <tbody>\n",
       "    <tr>\n",
       "      <th>0</th>\n",
       "      <td>0.037240</td>\n",
       "      <td>NaN</td>\n",
       "      <td>NaN</td>\n",
       "    </tr>\n",
       "    <tr>\n",
       "      <th>1</th>\n",
       "      <td>-1.263102</td>\n",
       "      <td>NaN</td>\n",
       "      <td>NaN</td>\n",
       "    </tr>\n",
       "    <tr>\n",
       "      <th>2</th>\n",
       "      <td>-0.762541</td>\n",
       "      <td>NaN</td>\n",
       "      <td>0.454125</td>\n",
       "    </tr>\n",
       "    <tr>\n",
       "      <th>3</th>\n",
       "      <td>0.458609</td>\n",
       "      <td>NaN</td>\n",
       "      <td>-2.075206</td>\n",
       "    </tr>\n",
       "    <tr>\n",
       "      <th>4</th>\n",
       "      <td>0.462403</td>\n",
       "      <td>-0.239079</td>\n",
       "      <td>-0.282685</td>\n",
       "    </tr>\n",
       "    <tr>\n",
       "      <th>5</th>\n",
       "      <td>-1.196976</td>\n",
       "      <td>-0.071604</td>\n",
       "      <td>-0.951106</td>\n",
       "    </tr>\n",
       "    <tr>\n",
       "      <th>6</th>\n",
       "      <td>1.619244</td>\n",
       "      <td>1.433744</td>\n",
       "      <td>0.287846</td>\n",
       "    </tr>\n",
       "  </tbody>\n",
       "</table>\n",
       "</div>"
      ],
      "text/plain": [
       "          0         1         2\n",
       "0  0.037240       NaN       NaN\n",
       "1 -1.263102       NaN       NaN\n",
       "2 -0.762541       NaN  0.454125\n",
       "3  0.458609       NaN -2.075206\n",
       "4  0.462403 -0.239079 -0.282685\n",
       "5 -1.196976 -0.071604 -0.951106\n",
       "6  1.619244  1.433744  0.287846"
      ]
     },
     "execution_count": 22,
     "metadata": {},
     "output_type": "execute_result"
    }
   ],
   "source": [
    "df"
   ]
  },
  {
   "cell_type": "code",
   "execution_count": 23,
   "id": "b2966f30",
   "metadata": {
    "slideshow": {
     "slide_type": "slide"
    }
   },
   "outputs": [
    {
     "data": {
      "text/html": [
       "<div>\n",
       "<style scoped>\n",
       "    .dataframe tbody tr th:only-of-type {\n",
       "        vertical-align: middle;\n",
       "    }\n",
       "\n",
       "    .dataframe tbody tr th {\n",
       "        vertical-align: top;\n",
       "    }\n",
       "\n",
       "    .dataframe thead th {\n",
       "        text-align: right;\n",
       "    }\n",
       "</style>\n",
       "<table border=\"1\" class=\"dataframe\">\n",
       "  <thead>\n",
       "    <tr style=\"text-align: right;\">\n",
       "      <th></th>\n",
       "      <th>0</th>\n",
       "      <th>1</th>\n",
       "      <th>2</th>\n",
       "    </tr>\n",
       "  </thead>\n",
       "  <tbody>\n",
       "    <tr>\n",
       "      <th>0</th>\n",
       "      <td>0.037240</td>\n",
       "      <td>0.000000</td>\n",
       "      <td>0.000000</td>\n",
       "    </tr>\n",
       "    <tr>\n",
       "      <th>1</th>\n",
       "      <td>-1.263102</td>\n",
       "      <td>0.000000</td>\n",
       "      <td>0.000000</td>\n",
       "    </tr>\n",
       "    <tr>\n",
       "      <th>2</th>\n",
       "      <td>-0.762541</td>\n",
       "      <td>0.000000</td>\n",
       "      <td>0.454125</td>\n",
       "    </tr>\n",
       "    <tr>\n",
       "      <th>3</th>\n",
       "      <td>0.458609</td>\n",
       "      <td>0.000000</td>\n",
       "      <td>-2.075206</td>\n",
       "    </tr>\n",
       "    <tr>\n",
       "      <th>4</th>\n",
       "      <td>0.462403</td>\n",
       "      <td>-0.239079</td>\n",
       "      <td>-0.282685</td>\n",
       "    </tr>\n",
       "    <tr>\n",
       "      <th>5</th>\n",
       "      <td>-1.196976</td>\n",
       "      <td>-0.071604</td>\n",
       "      <td>-0.951106</td>\n",
       "    </tr>\n",
       "    <tr>\n",
       "      <th>6</th>\n",
       "      <td>1.619244</td>\n",
       "      <td>1.433744</td>\n",
       "      <td>0.287846</td>\n",
       "    </tr>\n",
       "  </tbody>\n",
       "</table>\n",
       "</div>"
      ],
      "text/plain": [
       "          0         1         2\n",
       "0  0.037240  0.000000  0.000000\n",
       "1 -1.263102  0.000000  0.000000\n",
       "2 -0.762541  0.000000  0.454125\n",
       "3  0.458609  0.000000 -2.075206\n",
       "4  0.462403 -0.239079 -0.282685\n",
       "5 -1.196976 -0.071604 -0.951106\n",
       "6  1.619244  1.433744  0.287846"
      ]
     },
     "execution_count": 23,
     "metadata": {},
     "output_type": "execute_result"
    }
   ],
   "source": [
    "df.fillna(0)"
   ]
  },
  {
   "cell_type": "markdown",
   "id": "23202be6",
   "metadata": {
    "slideshow": {
     "slide_type": "slide"
    }
   },
   "source": [
    "Llamando a `fillna()` con un diccionario, puede utilizar un valor de relleno diferente para cada columna:"
   ]
  },
  {
   "cell_type": "code",
   "execution_count": 24,
   "id": "e52707d5",
   "metadata": {},
   "outputs": [
    {
     "data": {
      "text/html": [
       "<div>\n",
       "<style scoped>\n",
       "    .dataframe tbody tr th:only-of-type {\n",
       "        vertical-align: middle;\n",
       "    }\n",
       "\n",
       "    .dataframe tbody tr th {\n",
       "        vertical-align: top;\n",
       "    }\n",
       "\n",
       "    .dataframe thead th {\n",
       "        text-align: right;\n",
       "    }\n",
       "</style>\n",
       "<table border=\"1\" class=\"dataframe\">\n",
       "  <thead>\n",
       "    <tr style=\"text-align: right;\">\n",
       "      <th></th>\n",
       "      <th>0</th>\n",
       "      <th>1</th>\n",
       "      <th>2</th>\n",
       "    </tr>\n",
       "  </thead>\n",
       "  <tbody>\n",
       "    <tr>\n",
       "      <th>0</th>\n",
       "      <td>0.037240</td>\n",
       "      <td>0.500000</td>\n",
       "      <td>0.000000</td>\n",
       "    </tr>\n",
       "    <tr>\n",
       "      <th>1</th>\n",
       "      <td>-1.263102</td>\n",
       "      <td>0.500000</td>\n",
       "      <td>0.000000</td>\n",
       "    </tr>\n",
       "    <tr>\n",
       "      <th>2</th>\n",
       "      <td>-0.762541</td>\n",
       "      <td>0.500000</td>\n",
       "      <td>0.454125</td>\n",
       "    </tr>\n",
       "    <tr>\n",
       "      <th>3</th>\n",
       "      <td>0.458609</td>\n",
       "      <td>0.500000</td>\n",
       "      <td>-2.075206</td>\n",
       "    </tr>\n",
       "    <tr>\n",
       "      <th>4</th>\n",
       "      <td>0.462403</td>\n",
       "      <td>-0.239079</td>\n",
       "      <td>-0.282685</td>\n",
       "    </tr>\n",
       "    <tr>\n",
       "      <th>5</th>\n",
       "      <td>-1.196976</td>\n",
       "      <td>-0.071604</td>\n",
       "      <td>-0.951106</td>\n",
       "    </tr>\n",
       "    <tr>\n",
       "      <th>6</th>\n",
       "      <td>1.619244</td>\n",
       "      <td>1.433744</td>\n",
       "      <td>0.287846</td>\n",
       "    </tr>\n",
       "  </tbody>\n",
       "</table>\n",
       "</div>"
      ],
      "text/plain": [
       "          0         1         2\n",
       "0  0.037240  0.500000  0.000000\n",
       "1 -1.263102  0.500000  0.000000\n",
       "2 -0.762541  0.500000  0.454125\n",
       "3  0.458609  0.500000 -2.075206\n",
       "4  0.462403 -0.239079 -0.282685\n",
       "5 -1.196976 -0.071604 -0.951106\n",
       "6  1.619244  1.433744  0.287846"
      ]
     },
     "execution_count": 24,
     "metadata": {},
     "output_type": "execute_result"
    }
   ],
   "source": [
    "df.fillna({1: 0.5, 2: 0})"
   ]
  },
  {
   "cell_type": "markdown",
   "id": "48fa124e",
   "metadata": {
    "slideshow": {
     "slide_type": "slide"
    }
   },
   "source": [
    "Los mismos métodos de interpolación disponibles para la reindexación pueden utilizarse con `fillna()`:"
   ]
  },
  {
   "cell_type": "code",
   "execution_count": 25,
   "id": "d4762cdd",
   "metadata": {},
   "outputs": [],
   "source": [
    "df = pd.DataFrame(np.random.standard_normal((6, 3)))"
   ]
  },
  {
   "cell_type": "code",
   "execution_count": 26,
   "id": "24d67c3a",
   "metadata": {
    "slideshow": {
     "slide_type": "slide"
    }
   },
   "outputs": [
    {
     "data": {
      "text/html": [
       "<div>\n",
       "<style scoped>\n",
       "    .dataframe tbody tr th:only-of-type {\n",
       "        vertical-align: middle;\n",
       "    }\n",
       "\n",
       "    .dataframe tbody tr th {\n",
       "        vertical-align: top;\n",
       "    }\n",
       "\n",
       "    .dataframe thead th {\n",
       "        text-align: right;\n",
       "    }\n",
       "</style>\n",
       "<table border=\"1\" class=\"dataframe\">\n",
       "  <thead>\n",
       "    <tr style=\"text-align: right;\">\n",
       "      <th></th>\n",
       "      <th>0</th>\n",
       "      <th>1</th>\n",
       "      <th>2</th>\n",
       "    </tr>\n",
       "  </thead>\n",
       "  <tbody>\n",
       "    <tr>\n",
       "      <th>0</th>\n",
       "      <td>-0.301438</td>\n",
       "      <td>0.029577</td>\n",
       "      <td>-1.136885</td>\n",
       "    </tr>\n",
       "    <tr>\n",
       "      <th>1</th>\n",
       "      <td>1.050329</td>\n",
       "      <td>-0.058200</td>\n",
       "      <td>-0.434204</td>\n",
       "    </tr>\n",
       "    <tr>\n",
       "      <th>2</th>\n",
       "      <td>0.327677</td>\n",
       "      <td>NaN</td>\n",
       "      <td>-0.770427</td>\n",
       "    </tr>\n",
       "    <tr>\n",
       "      <th>3</th>\n",
       "      <td>-1.804092</td>\n",
       "      <td>NaN</td>\n",
       "      <td>-0.929727</td>\n",
       "    </tr>\n",
       "    <tr>\n",
       "      <th>4</th>\n",
       "      <td>0.883677</td>\n",
       "      <td>NaN</td>\n",
       "      <td>NaN</td>\n",
       "    </tr>\n",
       "    <tr>\n",
       "      <th>5</th>\n",
       "      <td>-0.246199</td>\n",
       "      <td>NaN</td>\n",
       "      <td>NaN</td>\n",
       "    </tr>\n",
       "  </tbody>\n",
       "</table>\n",
       "</div>"
      ],
      "text/plain": [
       "          0         1         2\n",
       "0 -0.301438  0.029577 -1.136885\n",
       "1  1.050329 -0.058200 -0.434204\n",
       "2  0.327677       NaN -0.770427\n",
       "3 -1.804092       NaN -0.929727\n",
       "4  0.883677       NaN       NaN\n",
       "5 -0.246199       NaN       NaN"
      ]
     },
     "execution_count": 26,
     "metadata": {},
     "output_type": "execute_result"
    }
   ],
   "source": [
    "df.iloc[2:, 1] = np.nan\n",
    "df.iloc[4:, 2] = np.nan\n",
    "df"
   ]
  },
  {
   "cell_type": "code",
   "execution_count": 27,
   "id": "70734613",
   "metadata": {
    "slideshow": {
     "slide_type": "slide"
    }
   },
   "outputs": [
    {
     "name": "stderr",
     "output_type": "stream",
     "text": [
      "C:\\Users\\juanj\\AppData\\Local\\Temp\\ipykernel_17856\\4205080046.py:1: FutureWarning: DataFrame.fillna with 'method' is deprecated and will raise in a future version. Use obj.ffill() or obj.bfill() instead.\n",
      "  df.fillna(method=\"ffill\")\n"
     ]
    },
    {
     "data": {
      "text/html": [
       "<div>\n",
       "<style scoped>\n",
       "    .dataframe tbody tr th:only-of-type {\n",
       "        vertical-align: middle;\n",
       "    }\n",
       "\n",
       "    .dataframe tbody tr th {\n",
       "        vertical-align: top;\n",
       "    }\n",
       "\n",
       "    .dataframe thead th {\n",
       "        text-align: right;\n",
       "    }\n",
       "</style>\n",
       "<table border=\"1\" class=\"dataframe\">\n",
       "  <thead>\n",
       "    <tr style=\"text-align: right;\">\n",
       "      <th></th>\n",
       "      <th>0</th>\n",
       "      <th>1</th>\n",
       "      <th>2</th>\n",
       "    </tr>\n",
       "  </thead>\n",
       "  <tbody>\n",
       "    <tr>\n",
       "      <th>0</th>\n",
       "      <td>-0.301438</td>\n",
       "      <td>0.029577</td>\n",
       "      <td>-1.136885</td>\n",
       "    </tr>\n",
       "    <tr>\n",
       "      <th>1</th>\n",
       "      <td>1.050329</td>\n",
       "      <td>-0.058200</td>\n",
       "      <td>-0.434204</td>\n",
       "    </tr>\n",
       "    <tr>\n",
       "      <th>2</th>\n",
       "      <td>0.327677</td>\n",
       "      <td>-0.058200</td>\n",
       "      <td>-0.770427</td>\n",
       "    </tr>\n",
       "    <tr>\n",
       "      <th>3</th>\n",
       "      <td>-1.804092</td>\n",
       "      <td>-0.058200</td>\n",
       "      <td>-0.929727</td>\n",
       "    </tr>\n",
       "    <tr>\n",
       "      <th>4</th>\n",
       "      <td>0.883677</td>\n",
       "      <td>-0.058200</td>\n",
       "      <td>-0.929727</td>\n",
       "    </tr>\n",
       "    <tr>\n",
       "      <th>5</th>\n",
       "      <td>-0.246199</td>\n",
       "      <td>-0.058200</td>\n",
       "      <td>-0.929727</td>\n",
       "    </tr>\n",
       "  </tbody>\n",
       "</table>\n",
       "</div>"
      ],
      "text/plain": [
       "          0         1         2\n",
       "0 -0.301438  0.029577 -1.136885\n",
       "1  1.050329 -0.058200 -0.434204\n",
       "2  0.327677 -0.058200 -0.770427\n",
       "3 -1.804092 -0.058200 -0.929727\n",
       "4  0.883677 -0.058200 -0.929727\n",
       "5 -0.246199 -0.058200 -0.929727"
      ]
     },
     "execution_count": 27,
     "metadata": {},
     "output_type": "execute_result"
    }
   ],
   "source": [
    " df.fillna(method=\"ffill\")"
   ]
  },
  {
   "cell_type": "code",
   "execution_count": 28,
   "id": "0af4c4fc",
   "metadata": {
    "slideshow": {
     "slide_type": "slide"
    }
   },
   "outputs": [
    {
     "name": "stderr",
     "output_type": "stream",
     "text": [
      "C:\\Users\\juanj\\AppData\\Local\\Temp\\ipykernel_17856\\1627181726.py:1: FutureWarning: DataFrame.fillna with 'method' is deprecated and will raise in a future version. Use obj.ffill() or obj.bfill() instead.\n",
      "  df.fillna(method=\"ffill\", limit=2)\n"
     ]
    },
    {
     "data": {
      "text/html": [
       "<div>\n",
       "<style scoped>\n",
       "    .dataframe tbody tr th:only-of-type {\n",
       "        vertical-align: middle;\n",
       "    }\n",
       "\n",
       "    .dataframe tbody tr th {\n",
       "        vertical-align: top;\n",
       "    }\n",
       "\n",
       "    .dataframe thead th {\n",
       "        text-align: right;\n",
       "    }\n",
       "</style>\n",
       "<table border=\"1\" class=\"dataframe\">\n",
       "  <thead>\n",
       "    <tr style=\"text-align: right;\">\n",
       "      <th></th>\n",
       "      <th>0</th>\n",
       "      <th>1</th>\n",
       "      <th>2</th>\n",
       "    </tr>\n",
       "  </thead>\n",
       "  <tbody>\n",
       "    <tr>\n",
       "      <th>0</th>\n",
       "      <td>-0.301438</td>\n",
       "      <td>0.029577</td>\n",
       "      <td>-1.136885</td>\n",
       "    </tr>\n",
       "    <tr>\n",
       "      <th>1</th>\n",
       "      <td>1.050329</td>\n",
       "      <td>-0.058200</td>\n",
       "      <td>-0.434204</td>\n",
       "    </tr>\n",
       "    <tr>\n",
       "      <th>2</th>\n",
       "      <td>0.327677</td>\n",
       "      <td>-0.058200</td>\n",
       "      <td>-0.770427</td>\n",
       "    </tr>\n",
       "    <tr>\n",
       "      <th>3</th>\n",
       "      <td>-1.804092</td>\n",
       "      <td>-0.058200</td>\n",
       "      <td>-0.929727</td>\n",
       "    </tr>\n",
       "    <tr>\n",
       "      <th>4</th>\n",
       "      <td>0.883677</td>\n",
       "      <td>NaN</td>\n",
       "      <td>-0.929727</td>\n",
       "    </tr>\n",
       "    <tr>\n",
       "      <th>5</th>\n",
       "      <td>-0.246199</td>\n",
       "      <td>NaN</td>\n",
       "      <td>-0.929727</td>\n",
       "    </tr>\n",
       "  </tbody>\n",
       "</table>\n",
       "</div>"
      ],
      "text/plain": [
       "          0         1         2\n",
       "0 -0.301438  0.029577 -1.136885\n",
       "1  1.050329 -0.058200 -0.434204\n",
       "2  0.327677 -0.058200 -0.770427\n",
       "3 -1.804092 -0.058200 -0.929727\n",
       "4  0.883677       NaN -0.929727\n",
       "5 -0.246199       NaN -0.929727"
      ]
     },
     "execution_count": 28,
     "metadata": {},
     "output_type": "execute_result"
    }
   ],
   "source": [
    "df.fillna(method=\"ffill\", limit=2)"
   ]
  },
  {
   "cell_type": "markdown",
   "id": "c0d3fddb",
   "metadata": {
    "slideshow": {
     "slide_type": "slide"
    }
   },
   "source": [
    "Con `fillna()` puede hacer muchas otras cosas, como la imputación simple de datos utilizando la mediana o la media estadística:"
   ]
  },
  {
   "cell_type": "code",
   "execution_count": 29,
   "id": "b1ddf7bd",
   "metadata": {},
   "outputs": [
    {
     "data": {
      "text/plain": [
       "0    1.0\n",
       "1    NaN\n",
       "2    3.5\n",
       "3    NaN\n",
       "4    7.0\n",
       "dtype: float64"
      ]
     },
     "execution_count": 29,
     "metadata": {},
     "output_type": "execute_result"
    }
   ],
   "source": [
    "data = pd.Series([1., np.nan, 3.5, np.nan, 7])\n",
    "data"
   ]
  },
  {
   "cell_type": "code",
   "execution_count": 30,
   "id": "3909395f-ab48-42aa-aa78-b191c70fde3a",
   "metadata": {},
   "outputs": [
    {
     "data": {
      "text/plain": [
       "0    1.000000\n",
       "1    3.833333\n",
       "2    3.500000\n",
       "3    3.833333\n",
       "4    7.000000\n",
       "dtype: float64"
      ]
     },
     "execution_count": 30,
     "metadata": {},
     "output_type": "execute_result"
    }
   ],
   "source": [
    "data.fillna(data.mean())"
   ]
  },
  {
   "cell_type": "markdown",
   "id": "cbfebee6",
   "metadata": {
    "slideshow": {
     "slide_type": "slide"
    }
   },
   "source": [
    "**Funciones de argumento para `fillna`**\n",
    "\n",
    "`value`: Valor escalar u objeto tipo diccionario que se utilizará para rellenar los valores que faltan.\n",
    "\n",
    "`method`: Método de interpolación: uno de \"bfill\" (relleno hacia atrás) o \"ffill\" (relleno hacia delante); por defecto es None\n",
    "\n",
    "`axis`: Eje de relleno (\"index\" o \"columns\"); por defecto axis=\"index\".\n",
    "\n",
    "`limit`: Para el llenado hacia delante y hacia atrás, número máximo de periodos consecutivos a llenar"
   ]
  },
  {
   "cell_type": "markdown",
   "id": "7b7e3e23",
   "metadata": {
    "slideshow": {
     "slide_type": "slide"
    }
   },
   "source": [
    "## 2.2 Transformación de datos"
   ]
  },
  {
   "cell_type": "markdown",
   "id": "5279922c",
   "metadata": {},
   "source": [
    "Hasta ahora nos hemos ocupado de la gestión de los datos que faltan. El filtrado, la limpieza y otras transformaciones son otra clase de operaciones importantes."
   ]
  },
  {
   "cell_type": "markdown",
   "id": "a1275d31",
   "metadata": {
    "slideshow": {
     "slide_type": "slide"
    }
   },
   "source": [
    "### Remover duplicados"
   ]
  },
  {
   "cell_type": "markdown",
   "id": "2cd9a09a",
   "metadata": {},
   "source": [
    "Pueden encontrarse filas duplicadas en un DataFrame por cualquier número de razones. He aquí un ejemplo:"
   ]
  },
  {
   "cell_type": "code",
   "execution_count": 31,
   "id": "ff7fa13c",
   "metadata": {
    "slideshow": {
     "slide_type": "slide"
    }
   },
   "outputs": [],
   "source": [
    "data = pd.DataFrame({\"k1\": [\"one\", \"two\"] * 3 + [\"two\"],\n",
    "                     \"k2\":[1, 1, 2, 3, 3, 4, 4]})"
   ]
  },
  {
   "cell_type": "code",
   "execution_count": 32,
   "id": "80bc42d4",
   "metadata": {},
   "outputs": [
    {
     "data": {
      "text/html": [
       "<div>\n",
       "<style scoped>\n",
       "    .dataframe tbody tr th:only-of-type {\n",
       "        vertical-align: middle;\n",
       "    }\n",
       "\n",
       "    .dataframe tbody tr th {\n",
       "        vertical-align: top;\n",
       "    }\n",
       "\n",
       "    .dataframe thead th {\n",
       "        text-align: right;\n",
       "    }\n",
       "</style>\n",
       "<table border=\"1\" class=\"dataframe\">\n",
       "  <thead>\n",
       "    <tr style=\"text-align: right;\">\n",
       "      <th></th>\n",
       "      <th>k1</th>\n",
       "      <th>k2</th>\n",
       "    </tr>\n",
       "  </thead>\n",
       "  <tbody>\n",
       "    <tr>\n",
       "      <th>0</th>\n",
       "      <td>one</td>\n",
       "      <td>1</td>\n",
       "    </tr>\n",
       "    <tr>\n",
       "      <th>1</th>\n",
       "      <td>two</td>\n",
       "      <td>1</td>\n",
       "    </tr>\n",
       "    <tr>\n",
       "      <th>2</th>\n",
       "      <td>one</td>\n",
       "      <td>2</td>\n",
       "    </tr>\n",
       "    <tr>\n",
       "      <th>3</th>\n",
       "      <td>two</td>\n",
       "      <td>3</td>\n",
       "    </tr>\n",
       "    <tr>\n",
       "      <th>4</th>\n",
       "      <td>one</td>\n",
       "      <td>3</td>\n",
       "    </tr>\n",
       "    <tr>\n",
       "      <th>5</th>\n",
       "      <td>two</td>\n",
       "      <td>4</td>\n",
       "    </tr>\n",
       "    <tr>\n",
       "      <th>6</th>\n",
       "      <td>two</td>\n",
       "      <td>4</td>\n",
       "    </tr>\n",
       "  </tbody>\n",
       "</table>\n",
       "</div>"
      ],
      "text/plain": [
       "    k1  k2\n",
       "0  one   1\n",
       "1  two   1\n",
       "2  one   2\n",
       "3  two   3\n",
       "4  one   3\n",
       "5  two   4\n",
       "6  two   4"
      ]
     },
     "execution_count": 32,
     "metadata": {},
     "output_type": "execute_result"
    }
   ],
   "source": [
    "data"
   ]
  },
  {
   "cell_type": "markdown",
   "id": "86b0e37d",
   "metadata": {
    "slideshow": {
     "slide_type": "slide"
    }
   },
   "source": [
    "El método DataFrame `duplicated` devuelve una serie booleana que indica si cada fila es un duplicado (sus valores de columna son exactamente iguales a los de una fila anterior) o no:"
   ]
  },
  {
   "cell_type": "code",
   "execution_count": 33,
   "id": "6a344d4d",
   "metadata": {},
   "outputs": [
    {
     "data": {
      "text/plain": [
       "0    False\n",
       "1    False\n",
       "2    False\n",
       "3    False\n",
       "4    False\n",
       "5    False\n",
       "6     True\n",
       "dtype: bool"
      ]
     },
     "execution_count": 33,
     "metadata": {},
     "output_type": "execute_result"
    }
   ],
   "source": [
    "data.duplicated()"
   ]
  },
  {
   "cell_type": "markdown",
   "id": "2c5737c0",
   "metadata": {
    "slideshow": {
     "slide_type": "slide"
    }
   },
   "source": [
    "En relación con esto, `drop_duplicates` devuelve un DataFrame con filas en las que se ha filtrado False el array duplicado:"
   ]
  },
  {
   "cell_type": "code",
   "execution_count": 34,
   "id": "b6f56a7b",
   "metadata": {},
   "outputs": [
    {
     "data": {
      "text/html": [
       "<div>\n",
       "<style scoped>\n",
       "    .dataframe tbody tr th:only-of-type {\n",
       "        vertical-align: middle;\n",
       "    }\n",
       "\n",
       "    .dataframe tbody tr th {\n",
       "        vertical-align: top;\n",
       "    }\n",
       "\n",
       "    .dataframe thead th {\n",
       "        text-align: right;\n",
       "    }\n",
       "</style>\n",
       "<table border=\"1\" class=\"dataframe\">\n",
       "  <thead>\n",
       "    <tr style=\"text-align: right;\">\n",
       "      <th></th>\n",
       "      <th>k1</th>\n",
       "      <th>k2</th>\n",
       "    </tr>\n",
       "  </thead>\n",
       "  <tbody>\n",
       "    <tr>\n",
       "      <th>0</th>\n",
       "      <td>one</td>\n",
       "      <td>1</td>\n",
       "    </tr>\n",
       "    <tr>\n",
       "      <th>1</th>\n",
       "      <td>two</td>\n",
       "      <td>1</td>\n",
       "    </tr>\n",
       "    <tr>\n",
       "      <th>2</th>\n",
       "      <td>one</td>\n",
       "      <td>2</td>\n",
       "    </tr>\n",
       "    <tr>\n",
       "      <th>3</th>\n",
       "      <td>two</td>\n",
       "      <td>3</td>\n",
       "    </tr>\n",
       "    <tr>\n",
       "      <th>4</th>\n",
       "      <td>one</td>\n",
       "      <td>3</td>\n",
       "    </tr>\n",
       "    <tr>\n",
       "      <th>5</th>\n",
       "      <td>two</td>\n",
       "      <td>4</td>\n",
       "    </tr>\n",
       "  </tbody>\n",
       "</table>\n",
       "</div>"
      ],
      "text/plain": [
       "    k1  k2\n",
       "0  one   1\n",
       "1  two   1\n",
       "2  one   2\n",
       "3  two   3\n",
       "4  one   3\n",
       "5  two   4"
      ]
     },
     "execution_count": 34,
     "metadata": {},
     "output_type": "execute_result"
    }
   ],
   "source": [
    "data.drop_duplicates()"
   ]
  },
  {
   "cell_type": "markdown",
   "id": "60f1c4b3",
   "metadata": {
    "slideshow": {
     "slide_type": "slide"
    }
   },
   "source": [
    "Ambos métodos consideran por defecto todas las columnas; alternativamente, puede especificar cualquier subconjunto de ellas para detectar duplicados. Supongamos que tenemos una columna adicional de valores y queremos filtrar los duplicados basándonos sólo en la columna \"k1\":"
   ]
  },
  {
   "cell_type": "code",
   "execution_count": 35,
   "id": "c3f02963-6593-4a30-8a84-d4b3194e3db5",
   "metadata": {},
   "outputs": [
    {
     "data": {
      "text/html": [
       "<div>\n",
       "<style scoped>\n",
       "    .dataframe tbody tr th:only-of-type {\n",
       "        vertical-align: middle;\n",
       "    }\n",
       "\n",
       "    .dataframe tbody tr th {\n",
       "        vertical-align: top;\n",
       "    }\n",
       "\n",
       "    .dataframe thead th {\n",
       "        text-align: right;\n",
       "    }\n",
       "</style>\n",
       "<table border=\"1\" class=\"dataframe\">\n",
       "  <thead>\n",
       "    <tr style=\"text-align: right;\">\n",
       "      <th></th>\n",
       "      <th>k1</th>\n",
       "      <th>k2</th>\n",
       "    </tr>\n",
       "  </thead>\n",
       "  <tbody>\n",
       "    <tr>\n",
       "      <th>0</th>\n",
       "      <td>one</td>\n",
       "      <td>1</td>\n",
       "    </tr>\n",
       "    <tr>\n",
       "      <th>1</th>\n",
       "      <td>two</td>\n",
       "      <td>1</td>\n",
       "    </tr>\n",
       "    <tr>\n",
       "      <th>2</th>\n",
       "      <td>one</td>\n",
       "      <td>2</td>\n",
       "    </tr>\n",
       "    <tr>\n",
       "      <th>3</th>\n",
       "      <td>two</td>\n",
       "      <td>3</td>\n",
       "    </tr>\n",
       "    <tr>\n",
       "      <th>4</th>\n",
       "      <td>one</td>\n",
       "      <td>3</td>\n",
       "    </tr>\n",
       "    <tr>\n",
       "      <th>5</th>\n",
       "      <td>two</td>\n",
       "      <td>4</td>\n",
       "    </tr>\n",
       "    <tr>\n",
       "      <th>6</th>\n",
       "      <td>two</td>\n",
       "      <td>4</td>\n",
       "    </tr>\n",
       "  </tbody>\n",
       "</table>\n",
       "</div>"
      ],
      "text/plain": [
       "    k1  k2\n",
       "0  one   1\n",
       "1  two   1\n",
       "2  one   2\n",
       "3  two   3\n",
       "4  one   3\n",
       "5  two   4\n",
       "6  two   4"
      ]
     },
     "execution_count": 35,
     "metadata": {},
     "output_type": "execute_result"
    }
   ],
   "source": [
    "data"
   ]
  },
  {
   "cell_type": "code",
   "execution_count": 36,
   "id": "2f4723e7",
   "metadata": {},
   "outputs": [
    {
     "data": {
      "text/html": [
       "<div>\n",
       "<style scoped>\n",
       "    .dataframe tbody tr th:only-of-type {\n",
       "        vertical-align: middle;\n",
       "    }\n",
       "\n",
       "    .dataframe tbody tr th {\n",
       "        vertical-align: top;\n",
       "    }\n",
       "\n",
       "    .dataframe thead th {\n",
       "        text-align: right;\n",
       "    }\n",
       "</style>\n",
       "<table border=\"1\" class=\"dataframe\">\n",
       "  <thead>\n",
       "    <tr style=\"text-align: right;\">\n",
       "      <th></th>\n",
       "      <th>k1</th>\n",
       "      <th>k2</th>\n",
       "      <th>v1</th>\n",
       "    </tr>\n",
       "  </thead>\n",
       "  <tbody>\n",
       "    <tr>\n",
       "      <th>0</th>\n",
       "      <td>one</td>\n",
       "      <td>1</td>\n",
       "      <td>0</td>\n",
       "    </tr>\n",
       "    <tr>\n",
       "      <th>1</th>\n",
       "      <td>two</td>\n",
       "      <td>1</td>\n",
       "      <td>1</td>\n",
       "    </tr>\n",
       "    <tr>\n",
       "      <th>2</th>\n",
       "      <td>one</td>\n",
       "      <td>2</td>\n",
       "      <td>2</td>\n",
       "    </tr>\n",
       "    <tr>\n",
       "      <th>3</th>\n",
       "      <td>two</td>\n",
       "      <td>3</td>\n",
       "      <td>3</td>\n",
       "    </tr>\n",
       "    <tr>\n",
       "      <th>4</th>\n",
       "      <td>one</td>\n",
       "      <td>3</td>\n",
       "      <td>4</td>\n",
       "    </tr>\n",
       "    <tr>\n",
       "      <th>5</th>\n",
       "      <td>two</td>\n",
       "      <td>4</td>\n",
       "      <td>5</td>\n",
       "    </tr>\n",
       "    <tr>\n",
       "      <th>6</th>\n",
       "      <td>two</td>\n",
       "      <td>4</td>\n",
       "      <td>6</td>\n",
       "    </tr>\n",
       "  </tbody>\n",
       "</table>\n",
       "</div>"
      ],
      "text/plain": [
       "    k1  k2  v1\n",
       "0  one   1   0\n",
       "1  two   1   1\n",
       "2  one   2   2\n",
       "3  two   3   3\n",
       "4  one   3   4\n",
       "5  two   4   5\n",
       "6  two   4   6"
      ]
     },
     "execution_count": 36,
     "metadata": {},
     "output_type": "execute_result"
    }
   ],
   "source": [
    "# Añadimos una tercera columna\n",
    "data[\"v1\"] = range(7)\n",
    "data"
   ]
  },
  {
   "cell_type": "code",
   "execution_count": 37,
   "id": "400f99f1",
   "metadata": {
    "slideshow": {
     "slide_type": "slide"
    }
   },
   "outputs": [
    {
     "data": {
      "text/html": [
       "<div>\n",
       "<style scoped>\n",
       "    .dataframe tbody tr th:only-of-type {\n",
       "        vertical-align: middle;\n",
       "    }\n",
       "\n",
       "    .dataframe tbody tr th {\n",
       "        vertical-align: top;\n",
       "    }\n",
       "\n",
       "    .dataframe thead th {\n",
       "        text-align: right;\n",
       "    }\n",
       "</style>\n",
       "<table border=\"1\" class=\"dataframe\">\n",
       "  <thead>\n",
       "    <tr style=\"text-align: right;\">\n",
       "      <th></th>\n",
       "      <th>k1</th>\n",
       "      <th>k2</th>\n",
       "      <th>v1</th>\n",
       "    </tr>\n",
       "  </thead>\n",
       "  <tbody>\n",
       "    <tr>\n",
       "      <th>0</th>\n",
       "      <td>one</td>\n",
       "      <td>1</td>\n",
       "      <td>0</td>\n",
       "    </tr>\n",
       "    <tr>\n",
       "      <th>1</th>\n",
       "      <td>two</td>\n",
       "      <td>1</td>\n",
       "      <td>1</td>\n",
       "    </tr>\n",
       "  </tbody>\n",
       "</table>\n",
       "</div>"
      ],
      "text/plain": [
       "    k1  k2  v1\n",
       "0  one   1   0\n",
       "1  two   1   1"
      ]
     },
     "execution_count": 37,
     "metadata": {},
     "output_type": "execute_result"
    }
   ],
   "source": [
    "data.drop_duplicates(subset=[\"k1\"])"
   ]
  },
  {
   "cell_type": "markdown",
   "id": "6fd3e710",
   "metadata": {
    "slideshow": {
     "slide_type": "slide"
    }
   },
   "source": [
    "`duplicated` y `drop_duplicates` mantienen por defecto la primera combinación de valores observada. Si se pasa `keep=\"last\"` se devolverá la última.  \n",
    "El argumento `keep` puede tomar tres valores:\n",
    "\n",
    "`\"first\"`: (por defecto) Mantiene la primera aparición de una fila duplicada y elimina las subsecuentes.  \n",
    "\n",
    "`\"last\"`: Mantiene la última aparición de una fila duplicada y elimina las anteriores.  \n",
    "\n",
    "`\"False\"`: Elimina todas las filas duplicadas, no conservando ninguna."
   ]
  },
  {
   "cell_type": "code",
   "execution_count": 38,
   "id": "1f7a07aa-4903-4f3e-abd7-22d42dc5e94c",
   "metadata": {},
   "outputs": [
    {
     "data": {
      "text/html": [
       "<div>\n",
       "<style scoped>\n",
       "    .dataframe tbody tr th:only-of-type {\n",
       "        vertical-align: middle;\n",
       "    }\n",
       "\n",
       "    .dataframe tbody tr th {\n",
       "        vertical-align: top;\n",
       "    }\n",
       "\n",
       "    .dataframe thead th {\n",
       "        text-align: right;\n",
       "    }\n",
       "</style>\n",
       "<table border=\"1\" class=\"dataframe\">\n",
       "  <thead>\n",
       "    <tr style=\"text-align: right;\">\n",
       "      <th></th>\n",
       "      <th>k1</th>\n",
       "      <th>k2</th>\n",
       "      <th>v1</th>\n",
       "    </tr>\n",
       "  </thead>\n",
       "  <tbody>\n",
       "    <tr>\n",
       "      <th>0</th>\n",
       "      <td>one</td>\n",
       "      <td>1</td>\n",
       "      <td>0</td>\n",
       "    </tr>\n",
       "    <tr>\n",
       "      <th>1</th>\n",
       "      <td>two</td>\n",
       "      <td>1</td>\n",
       "      <td>1</td>\n",
       "    </tr>\n",
       "    <tr>\n",
       "      <th>2</th>\n",
       "      <td>one</td>\n",
       "      <td>2</td>\n",
       "      <td>2</td>\n",
       "    </tr>\n",
       "    <tr>\n",
       "      <th>3</th>\n",
       "      <td>two</td>\n",
       "      <td>3</td>\n",
       "      <td>3</td>\n",
       "    </tr>\n",
       "    <tr>\n",
       "      <th>4</th>\n",
       "      <td>one</td>\n",
       "      <td>3</td>\n",
       "      <td>4</td>\n",
       "    </tr>\n",
       "    <tr>\n",
       "      <th>5</th>\n",
       "      <td>two</td>\n",
       "      <td>4</td>\n",
       "      <td>5</td>\n",
       "    </tr>\n",
       "    <tr>\n",
       "      <th>6</th>\n",
       "      <td>two</td>\n",
       "      <td>4</td>\n",
       "      <td>6</td>\n",
       "    </tr>\n",
       "  </tbody>\n",
       "</table>\n",
       "</div>"
      ],
      "text/plain": [
       "    k1  k2  v1\n",
       "0  one   1   0\n",
       "1  two   1   1\n",
       "2  one   2   2\n",
       "3  two   3   3\n",
       "4  one   3   4\n",
       "5  two   4   5\n",
       "6  two   4   6"
      ]
     },
     "execution_count": 38,
     "metadata": {},
     "output_type": "execute_result"
    }
   ],
   "source": [
    "data"
   ]
  },
  {
   "cell_type": "code",
   "execution_count": 39,
   "id": "1cecd476",
   "metadata": {},
   "outputs": [
    {
     "data": {
      "text/html": [
       "<div>\n",
       "<style scoped>\n",
       "    .dataframe tbody tr th:only-of-type {\n",
       "        vertical-align: middle;\n",
       "    }\n",
       "\n",
       "    .dataframe tbody tr th {\n",
       "        vertical-align: top;\n",
       "    }\n",
       "\n",
       "    .dataframe thead th {\n",
       "        text-align: right;\n",
       "    }\n",
       "</style>\n",
       "<table border=\"1\" class=\"dataframe\">\n",
       "  <thead>\n",
       "    <tr style=\"text-align: right;\">\n",
       "      <th></th>\n",
       "      <th>k1</th>\n",
       "      <th>k2</th>\n",
       "      <th>v1</th>\n",
       "    </tr>\n",
       "  </thead>\n",
       "  <tbody>\n",
       "    <tr>\n",
       "      <th>0</th>\n",
       "      <td>one</td>\n",
       "      <td>1</td>\n",
       "      <td>0</td>\n",
       "    </tr>\n",
       "    <tr>\n",
       "      <th>1</th>\n",
       "      <td>two</td>\n",
       "      <td>1</td>\n",
       "      <td>1</td>\n",
       "    </tr>\n",
       "    <tr>\n",
       "      <th>2</th>\n",
       "      <td>one</td>\n",
       "      <td>2</td>\n",
       "      <td>2</td>\n",
       "    </tr>\n",
       "    <tr>\n",
       "      <th>3</th>\n",
       "      <td>two</td>\n",
       "      <td>3</td>\n",
       "      <td>3</td>\n",
       "    </tr>\n",
       "    <tr>\n",
       "      <th>4</th>\n",
       "      <td>one</td>\n",
       "      <td>3</td>\n",
       "      <td>4</td>\n",
       "    </tr>\n",
       "    <tr>\n",
       "      <th>6</th>\n",
       "      <td>two</td>\n",
       "      <td>4</td>\n",
       "      <td>6</td>\n",
       "    </tr>\n",
       "  </tbody>\n",
       "</table>\n",
       "</div>"
      ],
      "text/plain": [
       "    k1  k2  v1\n",
       "0  one   1   0\n",
       "1  two   1   1\n",
       "2  one   2   2\n",
       "3  two   3   3\n",
       "4  one   3   4\n",
       "6  two   4   6"
      ]
     },
     "execution_count": 39,
     "metadata": {},
     "output_type": "execute_result"
    }
   ],
   "source": [
    "data.drop_duplicates([\"k1\", \"k2\"], keep=\"last\")"
   ]
  },
  {
   "cell_type": "markdown",
   "id": "94f899d4",
   "metadata": {
    "slideshow": {
     "slide_type": "slide"
    }
   },
   "source": [
    "### Transformación de datos mediante una `Function` o `Mapping`"
   ]
  },
  {
   "cell_type": "markdown",
   "id": "d22a459b",
   "metadata": {},
   "source": [
    "Para muchos conjuntos de datos, es posible que desee realizar alguna transformación basada en los valores de un array, Serie o columna de un DataFrame. Considere los siguientes datos hipotéticos recogidos sobre varios tipos de jamón:"
   ]
  },
  {
   "cell_type": "code",
   "execution_count": 40,
   "id": "1c76dd2f",
   "metadata": {
    "slideshow": {
     "slide_type": "slide"
    }
   },
   "outputs": [
    {
     "data": {
      "text/html": [
       "<div>\n",
       "<style scoped>\n",
       "    .dataframe tbody tr th:only-of-type {\n",
       "        vertical-align: middle;\n",
       "    }\n",
       "\n",
       "    .dataframe tbody tr th {\n",
       "        vertical-align: top;\n",
       "    }\n",
       "\n",
       "    .dataframe thead th {\n",
       "        text-align: right;\n",
       "    }\n",
       "</style>\n",
       "<table border=\"1\" class=\"dataframe\">\n",
       "  <thead>\n",
       "    <tr style=\"text-align: right;\">\n",
       "      <th></th>\n",
       "      <th>food</th>\n",
       "      <th>ounces</th>\n",
       "    </tr>\n",
       "  </thead>\n",
       "  <tbody>\n",
       "    <tr>\n",
       "      <th>0</th>\n",
       "      <td>bacon</td>\n",
       "      <td>4.0</td>\n",
       "    </tr>\n",
       "    <tr>\n",
       "      <th>1</th>\n",
       "      <td>pulled pork</td>\n",
       "      <td>3.0</td>\n",
       "    </tr>\n",
       "    <tr>\n",
       "      <th>2</th>\n",
       "      <td>bacon</td>\n",
       "      <td>12.0</td>\n",
       "    </tr>\n",
       "    <tr>\n",
       "      <th>3</th>\n",
       "      <td>pastrami</td>\n",
       "      <td>6.0</td>\n",
       "    </tr>\n",
       "    <tr>\n",
       "      <th>4</th>\n",
       "      <td>corned beef</td>\n",
       "      <td>7.5</td>\n",
       "    </tr>\n",
       "    <tr>\n",
       "      <th>5</th>\n",
       "      <td>bacon</td>\n",
       "      <td>8.0</td>\n",
       "    </tr>\n",
       "    <tr>\n",
       "      <th>6</th>\n",
       "      <td>pastrami</td>\n",
       "      <td>3.0</td>\n",
       "    </tr>\n",
       "    <tr>\n",
       "      <th>7</th>\n",
       "      <td>honey ham</td>\n",
       "      <td>5.0</td>\n",
       "    </tr>\n",
       "    <tr>\n",
       "      <th>8</th>\n",
       "      <td>nova lox</td>\n",
       "      <td>6.0</td>\n",
       "    </tr>\n",
       "  </tbody>\n",
       "</table>\n",
       "</div>"
      ],
      "text/plain": [
       "          food  ounces\n",
       "0        bacon     4.0\n",
       "1  pulled pork     3.0\n",
       "2        bacon    12.0\n",
       "3     pastrami     6.0\n",
       "4  corned beef     7.5\n",
       "5        bacon     8.0\n",
       "6     pastrami     3.0\n",
       "7    honey ham     5.0\n",
       "8     nova lox     6.0"
      ]
     },
     "execution_count": 40,
     "metadata": {},
     "output_type": "execute_result"
    }
   ],
   "source": [
    "data = pd.DataFrame({\"food\": [\"bacon\", \"pulled pork\",\n",
    "                              \"bacon\",\"pastrami\", \"corned beef\",\n",
    "                              \"bacon\", \"pastrami\", \"honey ham\",\n",
    "                              \"nova lox\"],\n",
    "                     \"ounces\": [4, 3, 12, 6, 7.5, 8, 3, 5, 6]})\n",
    "data"
   ]
  },
  {
   "cell_type": "markdown",
   "id": "a76d43b6",
   "metadata": {
    "slideshow": {
     "slide_type": "slide"
    }
   },
   "source": [
    "Supongamos que queremos añadir una columna que indique el tipo de animal del que procede cada alimento. Escribamos una correspondencia entre cada tipo de carne y el tipo de animal:"
   ]
  },
  {
   "cell_type": "code",
   "execution_count": 41,
   "id": "cb6723a0",
   "metadata": {},
   "outputs": [],
   "source": [
    "meat_to_animal = {\n",
    "  \"bacon\": \"pig\",\n",
    "  \"pulled pork\": \"pig\",\n",
    "  \"pastrami\": \"cow\",\n",
    "  \"corned beef\": \"cow\",\n",
    "  \"honey ham\": \"pig\",\n",
    "  \"nova lox\": \"salmon\"\n",
    "}"
   ]
  },
  {
   "cell_type": "markdown",
   "id": "a3357a6a",
   "metadata": {
    "slideshow": {
     "slide_type": "slide"
    }
   },
   "source": [
    "El método `map` de una serie acepta una función u objeto de tipo diccionario que contenga un mapeo para realizar la transformación de los valores:"
   ]
  },
  {
   "cell_type": "code",
   "execution_count": 42,
   "id": "ffde4341",
   "metadata": {},
   "outputs": [
    {
     "data": {
      "text/html": [
       "<div>\n",
       "<style scoped>\n",
       "    .dataframe tbody tr th:only-of-type {\n",
       "        vertical-align: middle;\n",
       "    }\n",
       "\n",
       "    .dataframe tbody tr th {\n",
       "        vertical-align: top;\n",
       "    }\n",
       "\n",
       "    .dataframe thead th {\n",
       "        text-align: right;\n",
       "    }\n",
       "</style>\n",
       "<table border=\"1\" class=\"dataframe\">\n",
       "  <thead>\n",
       "    <tr style=\"text-align: right;\">\n",
       "      <th></th>\n",
       "      <th>food</th>\n",
       "      <th>ounces</th>\n",
       "      <th>animal</th>\n",
       "    </tr>\n",
       "  </thead>\n",
       "  <tbody>\n",
       "    <tr>\n",
       "      <th>0</th>\n",
       "      <td>bacon</td>\n",
       "      <td>4.0</td>\n",
       "      <td>pig</td>\n",
       "    </tr>\n",
       "    <tr>\n",
       "      <th>1</th>\n",
       "      <td>pulled pork</td>\n",
       "      <td>3.0</td>\n",
       "      <td>pig</td>\n",
       "    </tr>\n",
       "    <tr>\n",
       "      <th>2</th>\n",
       "      <td>bacon</td>\n",
       "      <td>12.0</td>\n",
       "      <td>pig</td>\n",
       "    </tr>\n",
       "    <tr>\n",
       "      <th>3</th>\n",
       "      <td>pastrami</td>\n",
       "      <td>6.0</td>\n",
       "      <td>cow</td>\n",
       "    </tr>\n",
       "    <tr>\n",
       "      <th>4</th>\n",
       "      <td>corned beef</td>\n",
       "      <td>7.5</td>\n",
       "      <td>cow</td>\n",
       "    </tr>\n",
       "    <tr>\n",
       "      <th>5</th>\n",
       "      <td>bacon</td>\n",
       "      <td>8.0</td>\n",
       "      <td>pig</td>\n",
       "    </tr>\n",
       "    <tr>\n",
       "      <th>6</th>\n",
       "      <td>pastrami</td>\n",
       "      <td>3.0</td>\n",
       "      <td>cow</td>\n",
       "    </tr>\n",
       "    <tr>\n",
       "      <th>7</th>\n",
       "      <td>honey ham</td>\n",
       "      <td>5.0</td>\n",
       "      <td>pig</td>\n",
       "    </tr>\n",
       "    <tr>\n",
       "      <th>8</th>\n",
       "      <td>nova lox</td>\n",
       "      <td>6.0</td>\n",
       "      <td>salmon</td>\n",
       "    </tr>\n",
       "  </tbody>\n",
       "</table>\n",
       "</div>"
      ],
      "text/plain": [
       "          food  ounces  animal\n",
       "0        bacon     4.0     pig\n",
       "1  pulled pork     3.0     pig\n",
       "2        bacon    12.0     pig\n",
       "3     pastrami     6.0     cow\n",
       "4  corned beef     7.5     cow\n",
       "5        bacon     8.0     pig\n",
       "6     pastrami     3.0     cow\n",
       "7    honey ham     5.0     pig\n",
       "8     nova lox     6.0  salmon"
      ]
     },
     "execution_count": 42,
     "metadata": {},
     "output_type": "execute_result"
    }
   ],
   "source": [
    "data[\"animal\"] = data[\"food\"].map(meat_to_animal)\n",
    "data"
   ]
  },
  {
   "cell_type": "markdown",
   "id": "62fdc91c",
   "metadata": {
    "slideshow": {
     "slide_type": "slide"
    }
   },
   "source": [
    "También podríamos haber pasado una función que haga todo el trabajo:"
   ]
  },
  {
   "cell_type": "code",
   "execution_count": 43,
   "id": "4c20aa34",
   "metadata": {},
   "outputs": [
    {
     "data": {
      "text/html": [
       "<div>\n",
       "<style scoped>\n",
       "    .dataframe tbody tr th:only-of-type {\n",
       "        vertical-align: middle;\n",
       "    }\n",
       "\n",
       "    .dataframe tbody tr th {\n",
       "        vertical-align: top;\n",
       "    }\n",
       "\n",
       "    .dataframe thead th {\n",
       "        text-align: right;\n",
       "    }\n",
       "</style>\n",
       "<table border=\"1\" class=\"dataframe\">\n",
       "  <thead>\n",
       "    <tr style=\"text-align: right;\">\n",
       "      <th></th>\n",
       "      <th>food</th>\n",
       "      <th>ounces</th>\n",
       "      <th>animal</th>\n",
       "    </tr>\n",
       "  </thead>\n",
       "  <tbody>\n",
       "    <tr>\n",
       "      <th>0</th>\n",
       "      <td>bacon</td>\n",
       "      <td>4.0</td>\n",
       "      <td>pig</td>\n",
       "    </tr>\n",
       "    <tr>\n",
       "      <th>1</th>\n",
       "      <td>pulled pork</td>\n",
       "      <td>3.0</td>\n",
       "      <td>pig</td>\n",
       "    </tr>\n",
       "    <tr>\n",
       "      <th>2</th>\n",
       "      <td>bacon</td>\n",
       "      <td>12.0</td>\n",
       "      <td>pig</td>\n",
       "    </tr>\n",
       "    <tr>\n",
       "      <th>3</th>\n",
       "      <td>pastrami</td>\n",
       "      <td>6.0</td>\n",
       "      <td>cow</td>\n",
       "    </tr>\n",
       "    <tr>\n",
       "      <th>4</th>\n",
       "      <td>corned beef</td>\n",
       "      <td>7.5</td>\n",
       "      <td>cow</td>\n",
       "    </tr>\n",
       "    <tr>\n",
       "      <th>5</th>\n",
       "      <td>bacon</td>\n",
       "      <td>8.0</td>\n",
       "      <td>pig</td>\n",
       "    </tr>\n",
       "    <tr>\n",
       "      <th>6</th>\n",
       "      <td>pastrami</td>\n",
       "      <td>3.0</td>\n",
       "      <td>cow</td>\n",
       "    </tr>\n",
       "    <tr>\n",
       "      <th>7</th>\n",
       "      <td>honey ham</td>\n",
       "      <td>5.0</td>\n",
       "      <td>pig</td>\n",
       "    </tr>\n",
       "    <tr>\n",
       "      <th>8</th>\n",
       "      <td>nova lox</td>\n",
       "      <td>6.0</td>\n",
       "      <td>salmon</td>\n",
       "    </tr>\n",
       "  </tbody>\n",
       "</table>\n",
       "</div>"
      ],
      "text/plain": [
       "          food  ounces  animal\n",
       "0        bacon     4.0     pig\n",
       "1  pulled pork     3.0     pig\n",
       "2        bacon    12.0     pig\n",
       "3     pastrami     6.0     cow\n",
       "4  corned beef     7.5     cow\n",
       "5        bacon     8.0     pig\n",
       "6     pastrami     3.0     cow\n",
       "7    honey ham     5.0     pig\n",
       "8     nova lox     6.0  salmon"
      ]
     },
     "execution_count": 43,
     "metadata": {},
     "output_type": "execute_result"
    }
   ],
   "source": [
    "def get_animal(x):\n",
    "    return meat_to_animal[x]\n",
    "\n",
    "data[\"animal\"] = data[\"food\"].map(get_animal)\n",
    "data"
   ]
  },
  {
   "cell_type": "markdown",
   "id": "22882206",
   "metadata": {
    "slideshow": {
     "slide_type": "slide"
    }
   },
   "source": [
    "### Sustitución de valores"
   ]
  },
  {
   "cell_type": "markdown",
   "id": "6f501af1",
   "metadata": {},
   "source": [
    "Rellenar los datos que faltan con el método `fillna` es un caso especial de sustitución de valores más general. Como ya se ha visto, `map` puede utilizarse para modificar un subconjunto de valores de un objeto, tambien `replace` proporciona una forma más sencilla y flexible de hacerlo. Consideremos esta serie:"
   ]
  },
  {
   "cell_type": "code",
   "execution_count": 44,
   "id": "1c0038e4",
   "metadata": {
    "slideshow": {
     "slide_type": "slide"
    }
   },
   "outputs": [
    {
     "data": {
      "text/plain": [
       "0       1.0\n",
       "1    -999.0\n",
       "2       2.0\n",
       "3    -999.0\n",
       "4   -1000.0\n",
       "5       3.0\n",
       "dtype: float64"
      ]
     },
     "execution_count": 44,
     "metadata": {},
     "output_type": "execute_result"
    }
   ],
   "source": [
    "data = pd.Series([1., -999., 2., -999., -1000., 3.])\n",
    "data"
   ]
  },
  {
   "cell_type": "markdown",
   "id": "b5ea227b",
   "metadata": {
    "slideshow": {
     "slide_type": "slide"
    }
   },
   "source": [
    "Los valores `-999` podrían ser valores centinela de datos perdidos. Para reemplazarlos por valores `NA` que pandas entienda, podemos usar `replace`, produciendo una nueva Serie:"
   ]
  },
  {
   "cell_type": "code",
   "execution_count": 45,
   "id": "b3bc7f20",
   "metadata": {},
   "outputs": [
    {
     "data": {
      "text/plain": [
       "0       1.0\n",
       "1       NaN\n",
       "2       2.0\n",
       "3       NaN\n",
       "4   -1000.0\n",
       "5       3.0\n",
       "dtype: float64"
      ]
     },
     "execution_count": 45,
     "metadata": {},
     "output_type": "execute_result"
    }
   ],
   "source": [
    "data.replace(-999, np.nan)"
   ]
  },
  {
   "cell_type": "markdown",
   "id": "c8443f96",
   "metadata": {
    "slideshow": {
     "slide_type": "slide"
    }
   },
   "source": [
    "Si desea sustituir varios valores a la vez, debe pasar una lista y, a continuación, el valor sustituido:"
   ]
  },
  {
   "cell_type": "code",
   "execution_count": 46,
   "id": "4020a035",
   "metadata": {},
   "outputs": [
    {
     "data": {
      "text/plain": [
       "0    1.0\n",
       "1    NaN\n",
       "2    2.0\n",
       "3    NaN\n",
       "4    NaN\n",
       "5    3.0\n",
       "dtype: float64"
      ]
     },
     "execution_count": 46,
     "metadata": {},
     "output_type": "execute_result"
    }
   ],
   "source": [
    "data.replace([-999, -1000], np.nan)"
   ]
  },
  {
   "cell_type": "markdown",
   "id": "cb8e3568",
   "metadata": {
    "slideshow": {
     "slide_type": "slide"
    }
   },
   "source": [
    "Para utilizar un sustituto diferente para cada valor, pase una lista de sustitutos:"
   ]
  },
  {
   "cell_type": "code",
   "execution_count": 47,
   "id": "b7c5cfd1",
   "metadata": {},
   "outputs": [
    {
     "data": {
      "text/plain": [
       "0    1.0\n",
       "1    NaN\n",
       "2    2.0\n",
       "3    NaN\n",
       "4    0.0\n",
       "5    3.0\n",
       "dtype: float64"
      ]
     },
     "execution_count": 47,
     "metadata": {},
     "output_type": "execute_result"
    }
   ],
   "source": [
    " data.replace([-999, -1000], [np.nan, 0])"
   ]
  },
  {
   "cell_type": "markdown",
   "id": "6efc9455",
   "metadata": {
    "slideshow": {
     "slide_type": "slide"
    }
   },
   "source": [
    "El argumento pasado también puede ser un diccionario:"
   ]
  },
  {
   "cell_type": "code",
   "execution_count": 48,
   "id": "fac8ce64",
   "metadata": {},
   "outputs": [
    {
     "data": {
      "text/plain": [
       "0    1.0\n",
       "1    NaN\n",
       "2    2.0\n",
       "3    NaN\n",
       "4    0.0\n",
       "5    3.0\n",
       "dtype: float64"
      ]
     },
     "execution_count": 48,
     "metadata": {},
     "output_type": "execute_result"
    }
   ],
   "source": [
    "data.replace({-999: np.nan, -1000: 0})"
   ]
  },
  {
   "cell_type": "markdown",
   "id": "2ae92fc7",
   "metadata": {
    "slideshow": {
     "slide_type": "slide"
    }
   },
   "source": [
    "El método `data.replace()` es distinto de `data.str.replace`, que realiza la sustitución de cadenas por elementos. Veremos estos métodos de cadena en Series más adelante."
   ]
  },
  {
   "cell_type": "markdown",
   "id": "c85a5f58",
   "metadata": {
    "slideshow": {
     "slide_type": "slide"
    }
   },
   "source": [
    "### Renombrar índices de ejes"
   ]
  },
  {
   "cell_type": "markdown",
   "id": "9b569f7c",
   "metadata": {},
   "source": [
    "Al igual que los valores de una Serie, las etiquetas de los ejes pueden transformarse de forma similar mediante una función o un mapeo (`mapping`) de algún tipo para producir nuevos objetos etiquetados de forma diferente. También puede modificar los ejes in situ sin crear una nueva estructura de datos. He aquí un ejemplo sencillo:"
   ]
  },
  {
   "cell_type": "code",
   "execution_count": 49,
   "id": "7a793a5f",
   "metadata": {
    "slideshow": {
     "slide_type": "slide"
    }
   },
   "outputs": [
    {
     "data": {
      "text/html": [
       "<div>\n",
       "<style scoped>\n",
       "    .dataframe tbody tr th:only-of-type {\n",
       "        vertical-align: middle;\n",
       "    }\n",
       "\n",
       "    .dataframe tbody tr th {\n",
       "        vertical-align: top;\n",
       "    }\n",
       "\n",
       "    .dataframe thead th {\n",
       "        text-align: right;\n",
       "    }\n",
       "</style>\n",
       "<table border=\"1\" class=\"dataframe\">\n",
       "  <thead>\n",
       "    <tr style=\"text-align: right;\">\n",
       "      <th></th>\n",
       "      <th>one</th>\n",
       "      <th>two</th>\n",
       "      <th>three</th>\n",
       "      <th>four</th>\n",
       "    </tr>\n",
       "  </thead>\n",
       "  <tbody>\n",
       "    <tr>\n",
       "      <th>Ohio</th>\n",
       "      <td>0</td>\n",
       "      <td>1</td>\n",
       "      <td>2</td>\n",
       "      <td>3</td>\n",
       "    </tr>\n",
       "    <tr>\n",
       "      <th>Colorado</th>\n",
       "      <td>4</td>\n",
       "      <td>5</td>\n",
       "      <td>6</td>\n",
       "      <td>7</td>\n",
       "    </tr>\n",
       "    <tr>\n",
       "      <th>New York</th>\n",
       "      <td>8</td>\n",
       "      <td>9</td>\n",
       "      <td>10</td>\n",
       "      <td>11</td>\n",
       "    </tr>\n",
       "  </tbody>\n",
       "</table>\n",
       "</div>"
      ],
      "text/plain": [
       "          one  two  three  four\n",
       "Ohio        0    1      2     3\n",
       "Colorado    4    5      6     7\n",
       "New York    8    9     10    11"
      ]
     },
     "execution_count": 49,
     "metadata": {},
     "output_type": "execute_result"
    }
   ],
   "source": [
    "data = pd.DataFrame(np.arange(12).reshape((3, 4)),\n",
    "                    index=[\"Ohio\", \"Colorado\", \"New York\"],\n",
    "                    columns=[\"one\", \"two\", \"three\", \"four\"])\n",
    "                    \n",
    "data"
   ]
  },
  {
   "cell_type": "markdown",
   "id": "72e3b4e2",
   "metadata": {
    "slideshow": {
     "slide_type": "slide"
    }
   },
   "source": [
    "Al igual que una Serie, los índices de eje tienen un método `map`:"
   ]
  },
  {
   "cell_type": "code",
   "execution_count": 50,
   "id": "5c06f4ee",
   "metadata": {},
   "outputs": [
    {
     "data": {
      "text/plain": [
       "Index(['OHIO', 'COLO', 'NEW '], dtype='object')"
      ]
     },
     "execution_count": 50,
     "metadata": {},
     "output_type": "execute_result"
    }
   ],
   "source": [
    "def transform(x):\n",
    "    return x[:4].upper()\n",
    "\n",
    "data.index.map(transform)\n",
    "#Index(['OHIO', 'COLO', 'NEW '], dtype='object')"
   ]
  },
  {
   "cell_type": "code",
   "execution_count": 51,
   "id": "fbbcd845-e27c-49f9-994f-11886013a701",
   "metadata": {},
   "outputs": [
    {
     "data": {
      "text/html": [
       "<div>\n",
       "<style scoped>\n",
       "    .dataframe tbody tr th:only-of-type {\n",
       "        vertical-align: middle;\n",
       "    }\n",
       "\n",
       "    .dataframe tbody tr th {\n",
       "        vertical-align: top;\n",
       "    }\n",
       "\n",
       "    .dataframe thead th {\n",
       "        text-align: right;\n",
       "    }\n",
       "</style>\n",
       "<table border=\"1\" class=\"dataframe\">\n",
       "  <thead>\n",
       "    <tr style=\"text-align: right;\">\n",
       "      <th></th>\n",
       "      <th>one</th>\n",
       "      <th>two</th>\n",
       "      <th>three</th>\n",
       "      <th>four</th>\n",
       "    </tr>\n",
       "  </thead>\n",
       "  <tbody>\n",
       "    <tr>\n",
       "      <th>Ohio</th>\n",
       "      <td>0</td>\n",
       "      <td>1</td>\n",
       "      <td>2</td>\n",
       "      <td>3</td>\n",
       "    </tr>\n",
       "    <tr>\n",
       "      <th>Colorado</th>\n",
       "      <td>4</td>\n",
       "      <td>5</td>\n",
       "      <td>6</td>\n",
       "      <td>7</td>\n",
       "    </tr>\n",
       "    <tr>\n",
       "      <th>New York</th>\n",
       "      <td>8</td>\n",
       "      <td>9</td>\n",
       "      <td>10</td>\n",
       "      <td>11</td>\n",
       "    </tr>\n",
       "  </tbody>\n",
       "</table>\n",
       "</div>"
      ],
      "text/plain": [
       "          one  two  three  four\n",
       "Ohio        0    1      2     3\n",
       "Colorado    4    5      6     7\n",
       "New York    8    9     10    11"
      ]
     },
     "execution_count": 51,
     "metadata": {},
     "output_type": "execute_result"
    }
   ],
   "source": [
    "data"
   ]
  },
  {
   "cell_type": "markdown",
   "id": "bee8d15e",
   "metadata": {
    "slideshow": {
     "slide_type": "slide"
    }
   },
   "source": [
    "You can assign to the `index` attribute, modifying the DataFrame in place:"
   ]
  },
  {
   "cell_type": "code",
   "execution_count": 52,
   "id": "6bc3cb76",
   "metadata": {},
   "outputs": [
    {
     "data": {
      "text/html": [
       "<div>\n",
       "<style scoped>\n",
       "    .dataframe tbody tr th:only-of-type {\n",
       "        vertical-align: middle;\n",
       "    }\n",
       "\n",
       "    .dataframe tbody tr th {\n",
       "        vertical-align: top;\n",
       "    }\n",
       "\n",
       "    .dataframe thead th {\n",
       "        text-align: right;\n",
       "    }\n",
       "</style>\n",
       "<table border=\"1\" class=\"dataframe\">\n",
       "  <thead>\n",
       "    <tr style=\"text-align: right;\">\n",
       "      <th></th>\n",
       "      <th>one</th>\n",
       "      <th>two</th>\n",
       "      <th>three</th>\n",
       "      <th>four</th>\n",
       "    </tr>\n",
       "  </thead>\n",
       "  <tbody>\n",
       "    <tr>\n",
       "      <th>OHIO</th>\n",
       "      <td>0</td>\n",
       "      <td>1</td>\n",
       "      <td>2</td>\n",
       "      <td>3</td>\n",
       "    </tr>\n",
       "    <tr>\n",
       "      <th>COLO</th>\n",
       "      <td>4</td>\n",
       "      <td>5</td>\n",
       "      <td>6</td>\n",
       "      <td>7</td>\n",
       "    </tr>\n",
       "    <tr>\n",
       "      <th>NEW</th>\n",
       "      <td>8</td>\n",
       "      <td>9</td>\n",
       "      <td>10</td>\n",
       "      <td>11</td>\n",
       "    </tr>\n",
       "  </tbody>\n",
       "</table>\n",
       "</div>"
      ],
      "text/plain": [
       "      one  two  three  four\n",
       "OHIO    0    1      2     3\n",
       "COLO    4    5      6     7\n",
       "NEW     8    9     10    11"
      ]
     },
     "execution_count": 52,
     "metadata": {},
     "output_type": "execute_result"
    }
   ],
   "source": [
    "data.index = data.index.map(transform)\n",
    "data"
   ]
  },
  {
   "cell_type": "markdown",
   "id": "d42a10de",
   "metadata": {
    "slideshow": {
     "slide_type": "slide"
    }
   },
   "source": [
    "Si desea crear una versión transformada de un conjunto de datos sin modificar el original, un método útil es `rename`:\n"
   ]
  },
  {
   "cell_type": "code",
   "execution_count": 53,
   "id": "2cbfcb2d",
   "metadata": {},
   "outputs": [
    {
     "data": {
      "text/html": [
       "<div>\n",
       "<style scoped>\n",
       "    .dataframe tbody tr th:only-of-type {\n",
       "        vertical-align: middle;\n",
       "    }\n",
       "\n",
       "    .dataframe tbody tr th {\n",
       "        vertical-align: top;\n",
       "    }\n",
       "\n",
       "    .dataframe thead th {\n",
       "        text-align: right;\n",
       "    }\n",
       "</style>\n",
       "<table border=\"1\" class=\"dataframe\">\n",
       "  <thead>\n",
       "    <tr style=\"text-align: right;\">\n",
       "      <th></th>\n",
       "      <th>ONE</th>\n",
       "      <th>TWO</th>\n",
       "      <th>THREE</th>\n",
       "      <th>FOUR</th>\n",
       "    </tr>\n",
       "  </thead>\n",
       "  <tbody>\n",
       "    <tr>\n",
       "      <th>Ohio</th>\n",
       "      <td>0</td>\n",
       "      <td>1</td>\n",
       "      <td>2</td>\n",
       "      <td>3</td>\n",
       "    </tr>\n",
       "    <tr>\n",
       "      <th>Colo</th>\n",
       "      <td>4</td>\n",
       "      <td>5</td>\n",
       "      <td>6</td>\n",
       "      <td>7</td>\n",
       "    </tr>\n",
       "    <tr>\n",
       "      <th>New</th>\n",
       "      <td>8</td>\n",
       "      <td>9</td>\n",
       "      <td>10</td>\n",
       "      <td>11</td>\n",
       "    </tr>\n",
       "  </tbody>\n",
       "</table>\n",
       "</div>"
      ],
      "text/plain": [
       "      ONE  TWO  THREE  FOUR\n",
       "Ohio    0    1      2     3\n",
       "Colo    4    5      6     7\n",
       "New     8    9     10    11"
      ]
     },
     "execution_count": 53,
     "metadata": {},
     "output_type": "execute_result"
    }
   ],
   "source": [
    "data.rename(index=str.title, columns=str.upper)"
   ]
  },
  {
   "cell_type": "markdown",
   "id": "0343f119",
   "metadata": {
    "slideshow": {
     "slide_type": "slide"
    }
   },
   "source": [
    "En particular, renombrar puede utilizarse junto con un objeto tipo diccionario, proporcionando nuevos valores para un subconjunto de las etiquetas de los ejes:"
   ]
  },
  {
   "cell_type": "code",
   "execution_count": 54,
   "id": "4b4fe752",
   "metadata": {},
   "outputs": [
    {
     "data": {
      "text/html": [
       "<div>\n",
       "<style scoped>\n",
       "    .dataframe tbody tr th:only-of-type {\n",
       "        vertical-align: middle;\n",
       "    }\n",
       "\n",
       "    .dataframe tbody tr th {\n",
       "        vertical-align: top;\n",
       "    }\n",
       "\n",
       "    .dataframe thead th {\n",
       "        text-align: right;\n",
       "    }\n",
       "</style>\n",
       "<table border=\"1\" class=\"dataframe\">\n",
       "  <thead>\n",
       "    <tr style=\"text-align: right;\">\n",
       "      <th></th>\n",
       "      <th>one</th>\n",
       "      <th>two</th>\n",
       "      <th>tres</th>\n",
       "      <th>four</th>\n",
       "    </tr>\n",
       "  </thead>\n",
       "  <tbody>\n",
       "    <tr>\n",
       "      <th>Madrid</th>\n",
       "      <td>0</td>\n",
       "      <td>1</td>\n",
       "      <td>2</td>\n",
       "      <td>3</td>\n",
       "    </tr>\n",
       "    <tr>\n",
       "      <th>COLO</th>\n",
       "      <td>4</td>\n",
       "      <td>5</td>\n",
       "      <td>6</td>\n",
       "      <td>7</td>\n",
       "    </tr>\n",
       "    <tr>\n",
       "      <th>NEW</th>\n",
       "      <td>8</td>\n",
       "      <td>9</td>\n",
       "      <td>10</td>\n",
       "      <td>11</td>\n",
       "    </tr>\n",
       "  </tbody>\n",
       "</table>\n",
       "</div>"
      ],
      "text/plain": [
       "        one  two  tres  four\n",
       "Madrid    0    1     2     3\n",
       "COLO      4    5     6     7\n",
       "NEW       8    9    10    11"
      ]
     },
     "execution_count": 54,
     "metadata": {},
     "output_type": "execute_result"
    }
   ],
   "source": [
    "data.rename(index={\"OHIO\": \"Madrid\"},\n",
    "            columns={\"three\": \"tres\"})\n",
    "            "
   ]
  },
  {
   "cell_type": "markdown",
   "id": "b84960f9",
   "metadata": {
    "slideshow": {
     "slide_type": "slide"
    }
   },
   "source": [
    "### 2.3 Discretización y `binning`"
   ]
  },
  {
   "cell_type": "markdown",
   "id": "01e7beb4-43d7-4603-9ac6-e0ad85f3ace4",
   "metadata": {},
   "source": [
    "La discretización y el binning son técnicas utilizadas en la preprocesamiento de datos para convertir datos continuos en discretos. Estas técnicas son útiles para reducir la variabilidad, agrupar datos similares y mejorar el rendimiento de algunos algoritmos de aprendizaje automático"
   ]
  },
  {
   "cell_type": "markdown",
   "id": "fb55d593-05fd-4b6c-a39c-79893c2ff476",
   "metadata": {},
   "source": [
    "### Discretización.  \n",
    "\n",
    "Es el proceso de convertir datos continuos en datos categóricos dividiendo el rango de valores continuos en intervalos (bins)."
   ]
  },
  {
   "cell_type": "markdown",
   "id": "6ac77705-ab94-427a-96f0-a85629e895f8",
   "metadata": {},
   "source": [
    "### Binning (Agrupación por intervalos)\n",
    "El `binning` es una técnica de discretización que agrupa los datos en intervalos, o `\"bins\"`.  \n",
    "Hay varios métodos para hacer `binning` en pandas, como el binning por frecuencia, el binning por longitud de intervalo y el binning basado en la cuantilación (por ejemplo Cuartil)."
   ]
  },
  {
   "cell_type": "markdown",
   "id": "199ee9bf",
   "metadata": {},
   "source": [
    "Los datos continuos suelen discretizarse o separarse en \"intervalos\" (bins) para su análisis. Supongamos que se dispone de datos sobre un grupo de personas en un estudio y desea agruparlas en grupos de edad discretos:"
   ]
  },
  {
   "cell_type": "code",
   "execution_count": 55,
   "id": "a8a77593",
   "metadata": {
    "slideshow": {
     "slide_type": "slide"
    }
   },
   "outputs": [],
   "source": [
    "ages = [20, 22, 25, 27, 21, 23, 37, 31, 61, 45, 41, 32]"
   ]
  },
  {
   "cell_type": "markdown",
   "id": "0b89cfbf",
   "metadata": {},
   "source": [
    "Vamos a dividirlos en franjas (bins) de 18 a 25, de 26 a 35, de 36 a 60 y, por último, de 61 años en adelante. Para ello, hay que utilizar `pandas.cut`:"
   ]
  },
  {
   "cell_type": "code",
   "execution_count": 56,
   "id": "933a5fe8",
   "metadata": {
    "slideshow": {
     "slide_type": "slide"
    }
   },
   "outputs": [],
   "source": [
    "bins = [18, 25, 35, 60, 100]"
   ]
  },
  {
   "cell_type": "code",
   "execution_count": 57,
   "id": "77f76b44",
   "metadata": {},
   "outputs": [],
   "source": [
    "age_categories = pd.cut(ages, bins)"
   ]
  },
  {
   "cell_type": "code",
   "execution_count": 58,
   "id": "738fa65f",
   "metadata": {
    "slideshow": {
     "slide_type": "slide"
    }
   },
   "outputs": [
    {
     "data": {
      "text/plain": [
       "[(18, 25], (18, 25], (18, 25], (25, 35], (18, 25], ..., (25, 35], (60, 100], (35, 60], (35, 60], (25, 35]]\n",
       "Length: 12\n",
       "Categories (4, interval[int64, right]): [(18, 25] < (25, 35] < (35, 60] < (60, 100]]"
      ]
     },
     "execution_count": 58,
     "metadata": {},
     "output_type": "execute_result"
    }
   ],
   "source": [
    "age_categories"
   ]
  },
  {
   "cell_type": "markdown",
   "id": "ff4ad42a",
   "metadata": {
    "slideshow": {
     "slide_type": "slide"
    }
   },
   "source": [
    "El objeto que pandas devuelve es un objeto `Categorical` especial. La salida que se ve describe los bins calculados por `pandas.cut`. Cada bin se identifica por un tipo de valor de intervalo especial (único en pandas) que contiene el límite inferior y superior de cada bin:"
   ]
  },
  {
   "cell_type": "code",
   "execution_count": 59,
   "id": "5b3b4561",
   "metadata": {
    "slideshow": {
     "slide_type": "slide"
    }
   },
   "outputs": [
    {
     "data": {
      "text/plain": [
       "array([0, 0, 0, 1, 0, 0, 2, 1, 3, 2, 2, 1], dtype=int8)"
      ]
     },
     "execution_count": 59,
     "metadata": {},
     "output_type": "execute_result"
    }
   ],
   "source": [
    "age_categories.codes"
   ]
  },
  {
   "cell_type": "code",
   "execution_count": 60,
   "id": "ed733027",
   "metadata": {
    "slideshow": {
     "slide_type": "slide"
    }
   },
   "outputs": [
    {
     "data": {
      "text/plain": [
       "IntervalIndex([(18, 25], (25, 35], (35, 60], (60, 100]], dtype='interval[int64, right]')"
      ]
     },
     "execution_count": 60,
     "metadata": {},
     "output_type": "execute_result"
    }
   ],
   "source": [
    "age_categories.categories"
   ]
  },
  {
   "cell_type": "code",
   "execution_count": 61,
   "id": "16c7489a",
   "metadata": {
    "slideshow": {
     "slide_type": "slide"
    }
   },
   "outputs": [
    {
     "data": {
      "text/plain": [
       "Interval(18, 25, closed='right')"
      ]
     },
     "execution_count": 61,
     "metadata": {},
     "output_type": "execute_result"
    }
   ],
   "source": [
    "age_categories.categories[0]"
   ]
  },
  {
   "cell_type": "code",
   "execution_count": 62,
   "id": "7d76801a",
   "metadata": {
    "slideshow": {
     "slide_type": "slide"
    }
   },
   "outputs": [
    {
     "name": "stderr",
     "output_type": "stream",
     "text": [
      "C:\\Users\\juanj\\AppData\\Local\\Temp\\ipykernel_17856\\3010498523.py:1: FutureWarning: pandas.value_counts is deprecated and will be removed in a future version. Use pd.Series(obj).value_counts() instead.\n",
      "  pd.value_counts(age_categories)\n"
     ]
    },
    {
     "data": {
      "text/plain": [
       "(18, 25]     5\n",
       "(25, 35]     3\n",
       "(35, 60]     3\n",
       "(60, 100]    1\n",
       "Name: count, dtype: int64"
      ]
     },
     "execution_count": 62,
     "metadata": {},
     "output_type": "execute_result"
    }
   ],
   "source": [
    "pd.value_counts(age_categories)"
   ]
  },
  {
   "cell_type": "markdown",
   "id": "f93d8e0b",
   "metadata": {
    "slideshow": {
     "slide_type": "slide"
    }
   },
   "source": [
    "Tenga en cuenta que `pd.value_counts(categories)` son los recuentos bin del resultado de `pandas.cut`.\n",
    "\n",
    "En la representación de cadena de un intervalo, un paréntesis significa que el lado está abierto (excluyente), mientras que el corchete significa que está cerrado (incluyente). Puede cambiar el lado cerrado pasando `right=False`"
   ]
  },
  {
   "cell_type": "code",
   "execution_count": 63,
   "id": "8c73c08e",
   "metadata": {
    "slideshow": {
     "slide_type": "slide"
    }
   },
   "outputs": [
    {
     "data": {
      "text/plain": [
       "[[18, 25), [18, 25), [25, 35), [25, 35), [18, 25), ..., [25, 35), [60, 100), [35, 60), [35, 60), [25, 35)]\n",
       "Length: 12\n",
       "Categories (4, interval[int64, left]): [[18, 25) < [25, 35) < [35, 60) < [60, 100)]"
      ]
     },
     "execution_count": 63,
     "metadata": {},
     "output_type": "execute_result"
    }
   ],
   "source": [
    "pd.cut(ages, bins, right=False)"
   ]
  },
  {
   "cell_type": "markdown",
   "id": "8f3fe71b",
   "metadata": {
    "slideshow": {
     "slide_type": "slide"
    }
   },
   "source": [
    "Puede anular el etiquetado de contenedores por defecto basado en intervalos pasando una lista o array a la opción `labels`:"
   ]
  },
  {
   "cell_type": "code",
   "execution_count": 64,
   "id": "e7db305e",
   "metadata": {},
   "outputs": [
    {
     "data": {
      "text/plain": [
       "['Youth', 'Youth', 'Youth', 'YoungAdult', 'Youth', ..., 'YoungAdult', 'Senior', 'MiddleAged', 'MiddleAged', 'YoungAdult']\n",
       "Length: 12\n",
       "Categories (4, object): ['Youth' < 'YoungAdult' < 'MiddleAged' < 'Senior']"
      ]
     },
     "execution_count": 64,
     "metadata": {},
     "output_type": "execute_result"
    }
   ],
   "source": [
    "group_names = [\"Youth\", \"YoungAdult\", \"MiddleAged\", \"Senior\"]\n",
    "pd.cut(ages, bins, labels=group_names)"
   ]
  },
  {
   "cell_type": "markdown",
   "id": "27343225",
   "metadata": {
    "slideshow": {
     "slide_type": "slide"
    }
   },
   "source": [
    "Consideremos el caso de unos datos distribuidos uniformemente y cortados en cuartos:"
   ]
  },
  {
   "cell_type": "code",
   "execution_count": 65,
   "id": "8af197a7",
   "metadata": {
    "slideshow": {
     "slide_type": "slide"
    }
   },
   "outputs": [
    {
     "data": {
      "text/plain": [
       "array([0.91758623, 0.97192282, 0.56148241, 0.19944218, 0.20581642,\n",
       "       0.34610461, 0.30212594, 0.54810421, 0.26075454, 0.48487982,\n",
       "       0.32043155, 0.80791751, 0.42016826, 0.91310527, 0.42938026,\n",
       "       0.20660705, 0.2178369 , 0.44823482, 0.53140467, 0.88955266])"
      ]
     },
     "execution_count": 65,
     "metadata": {},
     "output_type": "execute_result"
    }
   ],
   "source": [
    "data = np.random.uniform(size=20)\n",
    "data"
   ]
  },
  {
   "cell_type": "code",
   "execution_count": 66,
   "id": "65d57ed2",
   "metadata": {
    "slideshow": {
     "slide_type": "slide"
    }
   },
   "outputs": [
    {
     "data": {
      "text/plain": [
       "[(0.78, 0.97], (0.78, 0.97], (0.39, 0.59], (0.2, 0.39], (0.2, 0.39], ..., (0.2, 0.39], (0.2, 0.39], (0.39, 0.59], (0.39, 0.59], (0.78, 0.97]]\n",
       "Length: 20\n",
       "Categories (4, interval[float64, right]): [(0.2, 0.39] < (0.39, 0.59] < (0.59, 0.78] < (0.78, 0.97]]"
      ]
     },
     "execution_count": 66,
     "metadata": {},
     "output_type": "execute_result"
    }
   ],
   "source": [
    "pd.cut(data, 4, precision=2)"
   ]
  },
  {
   "cell_type": "markdown",
   "id": "a7eb5a45",
   "metadata": {
    "slideshow": {
     "slide_type": "slide"
    }
   },
   "source": [
    "La opción `precision=2` limita la precisión decimal a dos dígitos distintos de cero."
   ]
  },
  {
   "cell_type": "markdown",
   "id": "0f87101c",
   "metadata": {
    "slideshow": {
     "slide_type": "slide"
    }
   },
   "source": [
    "Una función estrechamente relacionada, `pandas.qcut`, separa los datos basándose en los cuantiles de la muestra. Dependiendo de la distribución de los datos, el uso de `pandas.cut` no siempre resultará en que cada contenedor tenga el mismo número de puntos de datos. Dado que `pandas.qcut` utiliza los cuantiles de la muestra en su lugar, obtendrá intervalos de tamaño más o menos igual:"
   ]
  },
  {
   "cell_type": "code",
   "execution_count": 67,
   "id": "f0fba8be",
   "metadata": {
    "slideshow": {
     "slide_type": "slide"
    }
   },
   "outputs": [
    {
     "data": {
      "text/plain": [
       "array([-4.56050338e-01, -1.95457592e+00,  2.81153661e-01, -5.88627729e-01,\n",
       "       -1.06405807e+00,  1.45372074e-01,  1.82691413e-01,  1.59114934e+00,\n",
       "       -5.50987753e-02,  1.09378790e+00, -3.49001648e-03, -1.30324095e+00,\n",
       "       -6.31933668e-01, -1.15328880e+00,  4.10991633e-01,  6.99666542e-01,\n",
       "        4.06599362e-01,  5.32421661e-01,  2.26114711e+00,  1.36608981e+00,\n",
       "       -7.53797187e-02, -2.64657033e-01,  1.96535155e-01, -1.79659774e+00,\n",
       "        1.61012912e+00,  7.61567719e-02, -7.49269815e-01, -1.67412977e-01,\n",
       "        6.56398390e-02,  5.27021087e-01, -7.98373263e-01,  1.55216608e+00,\n",
       "        6.93222935e-01,  5.97753644e-01,  4.06699118e-01,  4.31074041e-01,\n",
       "       -5.39060215e-01, -1.05697121e+00,  9.93754116e-01,  3.39047113e-01,\n",
       "        2.56007738e-01, -9.45023774e-01,  2.07765115e+00,  2.01458287e+00,\n",
       "       -2.70685277e-01,  2.56882601e-01,  1.99433985e-01,  5.19334302e-01,\n",
       "        3.16879115e-01,  2.97639463e-01, -4.87017902e-01, -6.62342696e-01,\n",
       "       -9.36920652e-02,  1.34491664e+00,  5.94698120e-01, -6.83152964e-01,\n",
       "       -1.90997483e-01, -6.17727657e-01, -5.86174616e-02,  5.73927985e-01,\n",
       "       -5.97563173e-01, -8.85648864e-01,  8.62728770e-01,  1.60989970e-01,\n",
       "       -8.74365036e-01, -1.15982158e-01,  8.15108323e-01, -7.12775031e-01,\n",
       "       -1.05326550e+00,  1.51210796e+00, -5.25088937e-02,  4.38011016e-01,\n",
       "        1.63146932e+00, -1.28342547e+00, -6.25616677e-02,  1.28335087e+00,\n",
       "       -1.44948414e+00, -3.16147936e-01, -6.93453702e-01,  1.97000724e+00,\n",
       "        5.81355148e-01, -1.16443353e+00,  8.52974783e-01, -9.90603500e-01,\n",
       "        9.51312005e-01,  7.97559566e-01,  5.06687043e-01, -8.47576623e-01,\n",
       "       -8.14727162e-02,  8.68116820e-01, -3.25267498e-01,  1.14598893e+00,\n",
       "       -8.75242280e-01, -3.72533591e-01, -8.74606933e-01, -4.53674202e-01,\n",
       "        9.96316089e-01,  8.67390225e-01,  4.86499748e-02,  1.50080754e+00,\n",
       "       -1.22036963e+00, -4.90991772e-01, -1.40564307e-01,  1.32850584e-01,\n",
       "       -1.00543472e+00,  9.38204719e-01, -6.49277819e-02, -8.30645492e-02,\n",
       "       -9.41411436e-01, -5.68703362e-01, -1.37914484e+00, -2.47764191e+00,\n",
       "        1.15715907e+00, -9.68981779e-01,  3.44891277e-01, -3.95402734e-02,\n",
       "       -4.69406397e-01, -1.60022909e+00, -4.54900001e-01, -2.49298479e-01,\n",
       "       -3.61284851e-01,  3.62633439e-01,  1.09171893e+00, -2.19967107e+00,\n",
       "        8.58369809e-01, -2.80217729e-01,  1.00148470e-01, -5.10780751e-01,\n",
       "       -1.27014953e+00,  1.42170172e+00,  1.00348683e+00,  7.98089167e-01,\n",
       "       -1.00765195e+00,  4.01830829e-01, -2.48320991e+00, -8.50308391e-01,\n",
       "        9.86355836e-01, -1.08321740e-01, -3.18001570e-03, -4.85756103e-01,\n",
       "       -2.15756708e+00,  5.33924651e-02, -1.85782232e+00, -8.83495191e-01,\n",
       "        3.83768719e-01, -1.09272219e+00,  1.11916234e-01, -8.85560614e-01,\n",
       "       -3.64069462e-01,  5.01934276e-01, -3.15466410e-01,  1.39894362e+00,\n",
       "        5.73082347e-02, -6.46656981e-01,  3.00738694e-01, -1.17676478e+00,\n",
       "       -8.58840842e-02,  7.79765913e-01,  1.39719453e+00,  5.94736396e-01,\n",
       "        2.01591766e+00,  2.39854797e-01, -1.24338809e-01,  6.59423091e-01,\n",
       "       -1.14056378e+00, -1.51010946e-01,  6.85709422e-02,  1.73577533e+00,\n",
       "        2.37530560e+00,  1.60171319e+00,  3.14713480e-01, -5.02030926e-01,\n",
       "        1.47435922e-01, -2.86204849e+00, -3.11208844e-01, -1.14164564e+00,\n",
       "       -1.06905282e+00,  2.04459005e+00,  6.72867351e-01,  1.95774535e+00,\n",
       "       -2.36450806e+00,  2.65136487e-01,  5.26591577e-01, -5.10425011e-01,\n",
       "       -3.82928374e-01, -1.99423638e+00, -7.17384216e-01, -7.76898416e-01,\n",
       "       -9.17303464e-01, -8.85455049e-01, -3.61626561e-01,  1.47025309e+00,\n",
       "       -9.26315850e-01, -4.26097703e-02,  1.32847430e+00,  3.69809163e-01,\n",
       "        5.39217713e-01, -1.09659494e+00,  5.20151098e-01, -2.66822431e-01,\n",
       "       -7.51555783e-02,  7.65728803e-01, -9.87207834e-02,  9.66358025e-01,\n",
       "        1.24956844e-01, -1.22172353e+00,  6.37060596e-01,  1.82051790e+00,\n",
       "       -6.49362996e-02,  9.26648075e-01,  1.65046046e+00, -5.03531675e-01,\n",
       "        2.52513887e-01,  1.13512816e+00,  1.46502462e+00, -1.32783083e+00,\n",
       "        1.54775826e-01,  5.80040731e-02,  8.83828593e-01, -1.53498679e+00,\n",
       "        1.09901946e+00, -1.34024225e+00,  5.67315613e-01,  1.97518495e-01,\n",
       "        6.36705972e-01, -7.40824108e-01, -9.93199596e-01, -2.29243834e-01,\n",
       "        2.18948777e-02, -7.91845707e-01,  2.89194115e-01,  7.52913749e-01,\n",
       "       -4.39892466e-01,  2.30213770e+00,  1.85354644e-01, -6.78715958e-01,\n",
       "        9.89821284e-02,  2.43108655e-01,  3.45129686e-01,  2.13968813e+00,\n",
       "       -7.77759024e-01,  7.73841402e-01, -6.53478198e-01, -4.06369157e-01,\n",
       "       -4.94938217e-01, -1.55929493e+00,  6.64295880e-01, -1.24020114e-01,\n",
       "       -1.15943160e-01,  2.93311652e-01,  9.26332780e-02,  6.33080309e-01,\n",
       "       -1.06861640e+00,  5.06001984e-02,  2.34608142e+00, -7.51201575e-01,\n",
       "       -9.34338408e-01,  1.04674290e+00,  9.67956296e-01, -1.08137582e+00,\n",
       "        6.40317715e-01, -1.38991132e+00,  6.29603505e-01,  1.84204872e-01,\n",
       "       -1.74048535e-01,  1.25051251e+00, -1.07969553e+00, -5.90917489e-01,\n",
       "       -5.71956831e-01,  8.09136396e-01, -3.36557060e-01, -2.64918845e-01,\n",
       "        3.59421359e-01, -8.80184495e-02, -5.13728776e-01, -8.78165280e-01,\n",
       "        5.97353551e-01,  2.75316480e-01,  3.21741406e-01,  4.67876446e-01,\n",
       "        5.26253413e-01, -4.99344700e-01, -8.34875543e-01, -5.38432341e-01,\n",
       "       -9.69069209e-02,  8.10095255e-01, -1.18217537e+00,  1.19049145e+00,\n",
       "       -3.51179708e-01,  9.01206731e-01,  3.73065121e-01,  9.94846632e-01,\n",
       "        1.01542775e-01, -8.93829661e-01,  1.45060955e+00,  1.35877987e+00,\n",
       "        6.61130929e-01,  1.26459316e+00, -1.38100582e+00, -8.69398454e-03,\n",
       "        7.79394841e-01, -8.41290614e-01,  4.61879917e-01, -5.78846528e-01,\n",
       "       -8.16232367e-01, -7.96361332e-01, -8.06555506e-01, -1.26743947e+00,\n",
       "        2.60714653e-01, -1.94348833e+00, -4.03502741e-01, -1.09660211e+00,\n",
       "        3.94188857e-01,  4.31045441e-01,  1.06674184e+00, -1.72829216e+00,\n",
       "       -1.41386650e+00,  2.11009277e-01,  3.15048332e-01, -9.21763541e-02,\n",
       "        3.14582927e-01,  4.22585031e-01, -1.28838896e+00,  2.02416118e+00,\n",
       "        1.95049319e-01, -7.53283601e-01, -5.16940484e-01,  1.29109032e+00,\n",
       "        5.72992763e-01,  7.67286231e-01,  7.97148084e-01, -6.96950154e-04,\n",
       "        6.04267232e-01,  1.07592304e+00,  2.83414738e-01, -1.58299227e+00,\n",
       "       -1.71627356e+00,  7.82854446e-01, -3.36361097e-01,  1.68247018e+00,\n",
       "       -7.50319579e-02, -1.05778035e+00, -8.61106647e-01,  1.75654168e+00,\n",
       "        6.79567081e-02, -7.15213091e-02,  1.93339693e+00, -4.85380434e-01,\n",
       "       -3.42410344e-01, -9.77710502e-01,  6.10315568e-01,  4.89118304e-01,\n",
       "       -8.41192167e-01, -2.43654057e-01,  1.18022585e+00,  1.36708926e+00,\n",
       "       -1.97134824e+00,  8.42564038e-01, -6.36137106e-01,  1.10103882e+00,\n",
       "        1.41960434e+00, -1.39028492e+00, -1.74749764e+00,  1.16945184e-01,\n",
       "        4.44881467e-01, -7.56761927e-01,  2.51002712e+00,  5.72309890e-01,\n",
       "        4.21792563e-01, -3.08803915e-01,  1.57127783e-01, -2.28121741e+00,\n",
       "       -1.23843082e+00, -5.48894104e-01, -2.03289511e+00,  8.30422756e-01,\n",
       "       -1.22257809e-01,  2.46119152e-01,  1.27125141e+00, -7.47345154e-01,\n",
       "       -8.64084907e-01,  1.96256669e+00,  4.13239838e-01,  2.40796174e-01,\n",
       "       -4.61897839e-01,  6.15719159e-01,  6.73200950e-01, -1.43305726e+00,\n",
       "        1.08853594e+00, -6.48272788e-01,  7.36936483e-01,  2.11599651e+00,\n",
       "        2.32145601e-01, -1.29916159e+00, -6.28186715e-01, -2.42248111e-01,\n",
       "        3.75471654e-01, -6.69422899e-01,  3.66634719e-02, -1.96308465e+00,\n",
       "       -2.63560578e-01,  1.35533259e+00,  9.93544865e-01,  1.38940745e-01,\n",
       "       -2.10293525e-01,  4.02997848e-01, -4.64981831e-01, -5.02393885e-01,\n",
       "       -1.55391940e+00, -5.65927957e-01, -1.45499253e+00, -2.45344218e-01,\n",
       "       -8.87161199e-02, -4.99523171e-01,  8.86092828e-01,  5.80683713e-01,\n",
       "        4.13436735e-01,  1.11756265e+00, -2.53505252e-01, -2.86305151e-01,\n",
       "       -6.93563452e-01,  5.24087008e-01, -1.72045861e+00, -1.18554943e-01,\n",
       "       -1.40470347e+00, -1.69623099e-01, -2.79644021e-01,  1.78275368e-01,\n",
       "        4.04334354e-01, -3.19143245e-01,  6.97188667e-01, -2.70981555e-01,\n",
       "       -1.19810637e+00, -1.13105686e-01, -1.62192866e+00, -7.23373466e-01,\n",
       "        2.18969763e+00, -7.04261189e-03, -4.60023614e-01,  1.11183560e+00,\n",
       "        4.60294323e-01, -1.17048429e-01, -6.48541879e-01, -2.82894805e+00,\n",
       "        8.73987065e-01,  3.40658312e-01, -1.20730635e+00,  1.13254533e-01,\n",
       "       -1.52172617e+00, -6.67622382e-01, -5.01920428e-01, -1.66246004e+00,\n",
       "       -8.81757518e-01,  1.69181502e-02,  5.33301234e-01,  9.80585962e-02,\n",
       "       -5.90052897e-01, -8.18948685e-01,  4.64468040e-01, -1.46745606e-01,\n",
       "       -9.05406520e-01,  1.60465077e+00,  9.65177515e-02, -2.64512608e-01,\n",
       "       -2.02271376e+00,  1.38520902e+00,  6.65625925e-01, -2.17700442e-01,\n",
       "        1.86637317e+00, -2.09263857e+00, -3.37277732e-02,  1.60888071e+00,\n",
       "        2.08591255e-01,  4.15967916e-01,  1.54706003e+00,  1.00259992e+00,\n",
       "       -1.16594455e+00, -3.03903299e-01, -1.15064506e+00,  8.22382149e-01,\n",
       "       -1.14206028e-01,  1.37645239e+00, -8.34352662e-01, -5.66167224e-01,\n",
       "        6.26955380e-02,  6.44000341e-01, -1.27555400e-01,  9.31472345e-01,\n",
       "        1.35555770e+00,  1.90363853e+00, -6.89787411e-01, -3.66275655e-01,\n",
       "       -2.40664072e-01,  6.40819332e-01, -1.49382289e+00, -7.50706317e-01,\n",
       "       -1.62969065e+00, -1.10691755e+00,  1.54273442e-03,  1.45550571e+00,\n",
       "       -8.10465125e-02,  4.26765395e-01,  3.71878389e-01, -1.58554039e-01,\n",
       "       -1.22651946e+00, -1.60128234e+00, -1.05404939e+00, -1.20541799e+00,\n",
       "        1.75339219e+00, -1.01083557e+00, -1.51859770e+00, -1.31363090e+00,\n",
       "       -5.00152553e-01, -1.24446838e+00, -4.32758651e-01,  1.80479530e+00,\n",
       "       -6.77625136e-01, -1.60310490e-01, -7.84400570e-01, -2.19393870e-02,\n",
       "        9.57155515e-01,  1.18013838e+00,  1.55355932e-02, -7.49771865e-01,\n",
       "        2.47588662e-01,  1.46471704e+00,  5.19550842e-01, -1.35283350e+00,\n",
       "        1.31515672e+00, -6.68662679e-01, -6.53036311e-01,  1.47526378e+00,\n",
       "        6.05260660e-01, -7.13136386e-01, -2.23295158e+00,  2.30998255e-01,\n",
       "       -1.00876770e+00, -1.74915610e+00,  1.02274975e+00, -2.02437022e-01,\n",
       "       -4.24704691e-01,  2.60747180e-01, -2.05673141e+00,  5.54180596e-01,\n",
       "        8.17145403e-01, -5.87781203e-01, -1.08572474e+00,  2.20023339e+00,\n",
       "       -4.76790696e-01,  2.26007142e+00,  1.19460235e+00,  8.43093575e-01,\n",
       "       -8.42283154e-01,  3.70906989e-01, -1.11711350e+00, -1.19909252e+00,\n",
       "       -1.09521851e+00,  7.00565242e-01,  1.11993848e+00, -7.56392686e-02,\n",
       "        1.43156014e+00,  6.38724565e-01,  1.33787638e+00, -2.26618701e+00,\n",
       "       -1.17205283e+00,  8.75070811e-02,  7.05896393e-01,  6.72173371e-01,\n",
       "       -9.70260280e-01,  1.74930924e+00, -6.04481769e-02,  1.92252243e+00,\n",
       "       -1.58534523e+00,  1.48001912e+00,  3.97630617e-01, -5.89449499e-01,\n",
       "        7.56774489e-01, -8.50122691e-01, -3.17304993e-01, -1.34030043e+00,\n",
       "        1.06907692e-01,  1.39308075e+00,  7.94289224e-01, -1.07568071e+00,\n",
       "       -5.95541107e-01, -4.31731006e-01,  1.62233406e+00, -9.25227438e-01,\n",
       "       -6.93160420e-01, -1.54345075e+00,  3.80775308e-01,  1.92399156e-02,\n",
       "       -1.09322341e+00, -7.09973657e-01, -1.83914793e+00, -1.31602362e-01,\n",
       "        2.26892107e-01, -8.02541599e-01, -3.15895789e-01, -6.75230733e-01,\n",
       "       -2.61462074e+00, -1.33275986e+00,  5.42070789e-01,  1.38640919e+00,\n",
       "        2.33938950e-01, -6.96416110e-01, -1.93545065e+00, -5.08124429e-01,\n",
       "        9.42918051e-01,  9.09751838e-01, -2.31598277e-01,  4.36316285e-01,\n",
       "       -5.22094682e-01,  1.70582237e+00, -1.26152434e+00,  1.55312316e-01,\n",
       "       -1.45423517e+00, -1.47945002e+00,  1.12604957e+00, -4.61790416e-01,\n",
       "       -7.27951195e-01, -1.95393848e-01,  1.05350744e+00,  1.25760297e-01,\n",
       "        8.74892086e-01,  2.52865752e-01, -7.44176721e-01, -3.46655351e-01,\n",
       "        8.91556687e-01, -4.52183559e-01,  8.41157047e-01,  3.27387665e-01,\n",
       "       -7.29338700e-01,  4.32648685e-01, -1.74888978e+00,  7.36598349e-01,\n",
       "        4.64147339e-01, -1.63277903e+00, -1.67324643e-01, -5.35791899e-01,\n",
       "        1.26169653e-01, -5.54906805e-01,  2.02904025e+00, -6.20315977e-01,\n",
       "        4.45157086e-01,  4.26666177e-01,  1.25096904e+00,  1.35325987e-01,\n",
       "        7.63328933e-01, -1.47580316e+00,  9.02646536e-01,  9.77228583e-01,\n",
       "       -3.65913375e-01,  1.38921529e+00,  8.13223809e-02,  3.15899159e-01,\n",
       "        4.51113144e-01, -7.73186922e-01,  6.24091148e-01,  3.53356891e-01,\n",
       "        1.86381840e+00,  1.09995759e+00,  4.17195870e-01, -1.27233992e+00,\n",
       "        4.25286386e-01,  7.66825193e-01,  5.08170850e-01, -9.42721917e-01,\n",
       "       -8.89644035e-01, -3.09625356e-01, -7.53115903e-01, -1.48621191e+00,\n",
       "       -3.20262489e+00, -3.23125348e-01, -2.68204775e+00,  2.78612671e-01,\n",
       "        8.93695977e-01,  8.04826698e-01, -6.58594144e-01,  3.52433526e-01,\n",
       "        7.76180567e-01, -2.05229118e-01, -2.40779644e-01,  2.30599566e+00,\n",
       "        2.05549263e+00,  1.92556464e+00,  2.29161026e-01,  4.77072117e-01,\n",
       "        1.19344202e+00, -1.32564809e+00,  7.90738066e-02,  3.22873253e-01,\n",
       "        2.01186310e+00, -2.44024386e+00,  6.84321047e-01, -1.05116609e+00,\n",
       "       -7.52612976e-01, -9.69051933e-01, -1.03117073e-01,  5.19712856e-01,\n",
       "       -9.23219214e-01, -7.64557492e-01, -9.45396235e-01, -1.51029900e+00,\n",
       "        9.78754662e-01,  3.12842441e-01,  4.34723134e-01, -6.46179547e-01,\n",
       "       -6.20339777e-02, -2.55596628e-01,  9.69204997e-01,  9.83073794e-01,\n",
       "       -1.35085749e+00,  2.88386732e-01, -1.64579289e-01, -2.66771232e-01,\n",
       "       -5.78435818e-01, -1.82473757e+00,  1.43549437e-02, -4.90267706e-01,\n",
       "        2.60073759e+00,  8.72219685e-01, -8.16768093e-01,  7.19567872e-01,\n",
       "       -7.42348104e-01, -4.77149736e-01, -6.26582350e-01,  6.78888526e-01,\n",
       "        3.97841276e-01,  2.16540183e-01, -7.06411480e-01, -1.22077160e+00,\n",
       "        9.44827383e-02, -9.57103943e-01, -7.76887591e-02, -3.68668220e-02,\n",
       "       -1.45528270e-01, -1.70001621e+00,  1.66902603e+00,  7.16587391e-01,\n",
       "        4.07574491e-02, -1.16638092e+00,  8.51270156e-01, -8.26337641e-01,\n",
       "       -4.12823169e-01,  2.07822268e-01,  3.76149570e-01, -8.92326256e-01,\n",
       "        2.73598284e-01,  6.47714282e-01, -1.24868184e+00, -6.33969161e-01,\n",
       "       -5.03331263e-01, -5.38297863e-01, -6.32102261e-01,  4.52613719e-01,\n",
       "        1.39227295e+00,  4.76933750e-01,  4.90350694e-01,  7.83153098e-01,\n",
       "       -7.41110785e-01, -2.41752723e-01, -8.23504732e-01,  8.47835444e-01,\n",
       "       -9.17946829e-01,  4.80656119e-01,  4.06402404e-01,  1.80926851e-01,\n",
       "       -2.46633712e-01,  2.54713839e-01,  4.46875181e-01, -6.40326399e-01,\n",
       "       -1.16799892e+00, -1.73443608e+00,  7.68531412e-01, -2.94473950e-03,\n",
       "        1.48143442e+00, -1.48193052e+00, -2.04813654e-01, -3.94001858e-01,\n",
       "       -3.07258677e-01, -2.04030956e+00, -1.83215440e+00,  4.72508783e-01,\n",
       "       -5.53553510e-02,  4.85859346e-01, -2.32145106e-01, -3.16076225e-01,\n",
       "       -3.18662136e-01, -4.12343811e-01,  3.12136965e-01,  1.99023319e+00,\n",
       "       -1.18355307e+00,  2.75761883e-01, -1.49477894e-01,  5.58542218e-01,\n",
       "        1.77791797e+00, -4.05258629e-01, -3.27154273e-01, -2.07472940e+00,\n",
       "       -9.23162268e-01, -1.65102637e+00, -2.58332153e-01,  4.87190179e-01,\n",
       "       -2.02589498e-01, -1.40396916e+00,  1.22700204e+00, -9.98330591e-01,\n",
       "        2.05060189e-02,  1.00600489e-01,  1.83615620e+00,  6.19063881e-01,\n",
       "       -8.64868522e-01,  3.98898908e-01,  5.15400609e-01, -1.02712451e+00,\n",
       "        1.77540394e+00, -1.31000257e+00,  7.78309779e-01, -1.55587340e+00,\n",
       "        4.48674923e-01,  1.61918093e-02,  6.32556503e-01,  1.32223765e-01,\n",
       "       -7.25027095e-01,  1.20776497e+00, -9.34523599e-02, -1.12784536e-01,\n",
       "        1.15493286e+00,  1.10730927e+00, -1.00652277e+00,  9.74433981e-01,\n",
       "        1.79839485e+00, -7.47635324e-01,  4.09783792e-01, -8.85862889e-01,\n",
       "        2.56130800e-02,  1.50106809e-01, -1.86305257e+00, -6.83435793e-01,\n",
       "        1.62961076e+00,  1.23708747e+00,  8.33458613e-01,  1.80760294e-01,\n",
       "        5.63895736e-01, -8.76889081e-01, -1.47192423e+00, -8.88384509e-01,\n",
       "       -6.03002444e-01,  1.87125363e+00,  8.72849523e-01, -2.64752894e-01,\n",
       "        9.35933825e-02,  1.08032956e+00, -3.22566794e-01,  1.62172453e-02,\n",
       "       -8.87686005e-01, -1.97520552e+00,  5.24782140e-01, -6.27975513e-01,\n",
       "        5.09922566e-01,  8.85576962e-01, -2.53186035e+00, -4.62040316e-01,\n",
       "        1.77796200e-01, -1.22642752e+00,  5.12102965e-02, -1.17312979e+00,\n",
       "        1.91905837e+00,  4.14505120e-01,  2.46510626e+00, -1.31608168e+00,\n",
       "        8.36714568e-01,  1.56521138e+00, -1.24905995e+00, -7.13749629e-01,\n",
       "       -9.70991329e-01, -2.49558461e-01, -6.98043752e-01, -6.15903558e-02,\n",
       "        1.70331511e+00, -5.53480455e-01, -1.24837188e+00,  2.32633678e-01,\n",
       "        7.57709701e-01, -1.43872630e+00, -3.27923052e-01, -4.42492482e-01,\n",
       "        3.98106498e-02, -4.67868270e-01, -3.95158083e-01, -9.23208786e-01,\n",
       "        1.78168951e+00,  1.71950201e-01, -7.70342404e-01, -2.33021358e+00,\n",
       "       -1.96426551e+00,  1.01558714e+00,  9.31456642e-01, -3.92202675e-01,\n",
       "       -2.67486327e-01,  2.52633511e-01, -8.90232296e-01, -1.53429323e+00,\n",
       "        1.18287150e+00,  1.18812650e+00, -2.80428063e-02,  2.21529598e-01,\n",
       "       -4.93494124e-01,  1.19980471e-01,  3.10589772e-01,  1.04871030e+00,\n",
       "        1.79536741e-01, -2.14390860e-01, -3.49373805e-01,  9.71987880e-01,\n",
       "       -1.03057227e+00, -1.73040449e-01,  1.37303989e+00, -4.87599782e-01,\n",
       "       -7.51187704e-01,  1.53398381e-01, -3.79297347e-01,  5.89698776e-01,\n",
       "        7.24678806e-01,  3.53042634e-01, -1.04832027e+00,  3.59222865e-01,\n",
       "       -2.29095894e+00,  2.22729282e+00, -1.04038113e+00,  1.27839180e+00,\n",
       "       -1.11039772e+00,  5.41728580e-02,  7.96433320e-01, -6.14307673e-01,\n",
       "        1.58824337e+00, -5.82616284e-02, -1.51615327e-01,  8.17040299e-02,\n",
       "        1.23381304e+00, -1.43430061e-01, -1.24704399e-01, -1.89162338e-02,\n",
       "        3.72351507e-01,  5.80235448e-01,  5.68055557e-01, -2.01256699e-01,\n",
       "       -1.19600058e+00,  4.11840216e-01,  1.13691633e+00, -1.56545153e-01,\n",
       "       -1.67947203e+00,  1.96633273e+00, -1.31944286e+00, -9.35891644e-01,\n",
       "        1.72836134e-01,  3.44740946e-01, -3.66421742e+00, -3.13023982e-01,\n",
       "        6.28262446e-01, -3.54645394e-02, -1.75933292e+00,  1.52010506e+00,\n",
       "       -2.12645448e-01,  6.37610233e-03, -2.40548063e+00, -1.05791493e-01,\n",
       "       -3.42711322e-01, -2.22372657e+00,  4.99789910e-01, -7.10158257e-02,\n",
       "        1.01513882e+00,  3.09921713e-03, -1.41424177e-01, -6.47858765e-01,\n",
       "       -1.77315638e+00, -9.37091121e-01,  2.53425126e-01, -1.39679093e-01,\n",
       "       -1.85366672e+00,  3.00362311e-01, -1.00836278e+00,  8.68936838e-01,\n",
       "       -1.51487832e+00,  2.79892089e-01, -5.54714110e-01,  1.20883620e-01,\n",
       "       -1.07847947e+00,  7.37723583e-02,  2.01422781e+00, -4.22594062e-01,\n",
       "       -2.43396956e+00, -7.16857310e-02,  9.25551884e-01,  9.03740781e-01,\n",
       "        2.03451921e+00, -5.90945886e-01,  1.18217242e+00, -7.28574923e-01])"
      ]
     },
     "execution_count": 67,
     "metadata": {},
     "output_type": "execute_result"
    }
   ],
   "source": [
    "data = np.random.standard_normal(1000)\n",
    "data"
   ]
  },
  {
   "cell_type": "code",
   "execution_count": 68,
   "id": "574ec0c0",
   "metadata": {
    "slideshow": {
     "slide_type": "slide"
    }
   },
   "outputs": [
    {
     "data": {
      "text/plain": [
       "[(-0.74, -0.058], (-3.67, -0.74], (-0.058, 0.61], (-0.74, -0.058], (-3.67, -0.74], ..., (0.61, 2.6], (0.61, 2.6], (-0.74, -0.058], (0.61, 2.6], (-0.74, -0.058]]\n",
       "Length: 1000\n",
       "Categories (4, interval[float64, right]): [(-3.67, -0.74] < (-0.74, -0.058] < (-0.058, 0.61] < (0.61, 2.6]]"
      ]
     },
     "execution_count": 68,
     "metadata": {},
     "output_type": "execute_result"
    }
   ],
   "source": [
    "quartiles = pd.qcut(data, 4, precision=2)\n",
    "quartiles"
   ]
  },
  {
   "cell_type": "code",
   "execution_count": 69,
   "id": "80003eb5",
   "metadata": {
    "slideshow": {
     "slide_type": "slide"
    }
   },
   "outputs": [
    {
     "name": "stderr",
     "output_type": "stream",
     "text": [
      "C:\\Users\\juanj\\AppData\\Local\\Temp\\ipykernel_17856\\3472704981.py:1: FutureWarning: pandas.value_counts is deprecated and will be removed in a future version. Use pd.Series(obj).value_counts() instead.\n",
      "  pd.value_counts(quartiles)\n"
     ]
    },
    {
     "data": {
      "text/plain": [
       "(-3.67, -0.74]     250\n",
       "(-0.74, -0.058]    250\n",
       "(-0.058, 0.61]     250\n",
       "(0.61, 2.6]        250\n",
       "Name: count, dtype: int64"
      ]
     },
     "execution_count": 69,
     "metadata": {},
     "output_type": "execute_result"
    }
   ],
   "source": [
    "pd.value_counts(quartiles)"
   ]
  },
  {
   "cell_type": "code",
   "execution_count": 70,
   "id": "9f1d2c9e-49e1-4bba-b157-e056b77e9fc7",
   "metadata": {},
   "outputs": [
    {
     "data": {
      "text/plain": [
       "(-3.67, -0.74]     250\n",
       "(-0.74, -0.058]    250\n",
       "(-0.058, 0.61]     250\n",
       "(0.61, 2.6]        250\n",
       "Name: count, dtype: int64"
      ]
     },
     "execution_count": 70,
     "metadata": {},
     "output_type": "execute_result"
    }
   ],
   "source": [
    "pd.Series(quartiles).value_counts()"
   ]
  },
  {
   "cell_type": "markdown",
   "id": "7e753681",
   "metadata": {
    "slideshow": {
     "slide_type": "slide"
    }
   },
   "source": [
    "De forma similar a `pandas.cut`, el usuario puede pasar sus propios cuantiles (números entre 0 y 1, ambos inclusive):"
   ]
  },
  {
   "cell_type": "code",
   "execution_count": 71,
   "id": "ac74023d-fc8a-4f0f-8ea2-62778a8b6e79",
   "metadata": {},
   "outputs": [
    {
     "data": {
      "text/plain": [
       "array([-4.56050338e-01, -1.95457592e+00,  2.81153661e-01, -5.88627729e-01,\n",
       "       -1.06405807e+00,  1.45372074e-01,  1.82691413e-01,  1.59114934e+00,\n",
       "       -5.50987753e-02,  1.09378790e+00, -3.49001648e-03, -1.30324095e+00,\n",
       "       -6.31933668e-01, -1.15328880e+00,  4.10991633e-01,  6.99666542e-01,\n",
       "        4.06599362e-01,  5.32421661e-01,  2.26114711e+00,  1.36608981e+00,\n",
       "       -7.53797187e-02, -2.64657033e-01,  1.96535155e-01, -1.79659774e+00,\n",
       "        1.61012912e+00,  7.61567719e-02, -7.49269815e-01, -1.67412977e-01,\n",
       "        6.56398390e-02,  5.27021087e-01, -7.98373263e-01,  1.55216608e+00,\n",
       "        6.93222935e-01,  5.97753644e-01,  4.06699118e-01,  4.31074041e-01,\n",
       "       -5.39060215e-01, -1.05697121e+00,  9.93754116e-01,  3.39047113e-01,\n",
       "        2.56007738e-01, -9.45023774e-01,  2.07765115e+00,  2.01458287e+00,\n",
       "       -2.70685277e-01,  2.56882601e-01,  1.99433985e-01,  5.19334302e-01,\n",
       "        3.16879115e-01,  2.97639463e-01, -4.87017902e-01, -6.62342696e-01,\n",
       "       -9.36920652e-02,  1.34491664e+00,  5.94698120e-01, -6.83152964e-01,\n",
       "       -1.90997483e-01, -6.17727657e-01, -5.86174616e-02,  5.73927985e-01,\n",
       "       -5.97563173e-01, -8.85648864e-01,  8.62728770e-01,  1.60989970e-01,\n",
       "       -8.74365036e-01, -1.15982158e-01,  8.15108323e-01, -7.12775031e-01,\n",
       "       -1.05326550e+00,  1.51210796e+00, -5.25088937e-02,  4.38011016e-01,\n",
       "        1.63146932e+00, -1.28342547e+00, -6.25616677e-02,  1.28335087e+00,\n",
       "       -1.44948414e+00, -3.16147936e-01, -6.93453702e-01,  1.97000724e+00,\n",
       "        5.81355148e-01, -1.16443353e+00,  8.52974783e-01, -9.90603500e-01,\n",
       "        9.51312005e-01,  7.97559566e-01,  5.06687043e-01, -8.47576623e-01,\n",
       "       -8.14727162e-02,  8.68116820e-01, -3.25267498e-01,  1.14598893e+00,\n",
       "       -8.75242280e-01, -3.72533591e-01, -8.74606933e-01, -4.53674202e-01,\n",
       "        9.96316089e-01,  8.67390225e-01,  4.86499748e-02,  1.50080754e+00,\n",
       "       -1.22036963e+00, -4.90991772e-01, -1.40564307e-01,  1.32850584e-01,\n",
       "       -1.00543472e+00,  9.38204719e-01, -6.49277819e-02, -8.30645492e-02,\n",
       "       -9.41411436e-01, -5.68703362e-01, -1.37914484e+00, -2.47764191e+00,\n",
       "        1.15715907e+00, -9.68981779e-01,  3.44891277e-01, -3.95402734e-02,\n",
       "       -4.69406397e-01, -1.60022909e+00, -4.54900001e-01, -2.49298479e-01,\n",
       "       -3.61284851e-01,  3.62633439e-01,  1.09171893e+00, -2.19967107e+00,\n",
       "        8.58369809e-01, -2.80217729e-01,  1.00148470e-01, -5.10780751e-01,\n",
       "       -1.27014953e+00,  1.42170172e+00,  1.00348683e+00,  7.98089167e-01,\n",
       "       -1.00765195e+00,  4.01830829e-01, -2.48320991e+00, -8.50308391e-01,\n",
       "        9.86355836e-01, -1.08321740e-01, -3.18001570e-03, -4.85756103e-01,\n",
       "       -2.15756708e+00,  5.33924651e-02, -1.85782232e+00, -8.83495191e-01,\n",
       "        3.83768719e-01, -1.09272219e+00,  1.11916234e-01, -8.85560614e-01,\n",
       "       -3.64069462e-01,  5.01934276e-01, -3.15466410e-01,  1.39894362e+00,\n",
       "        5.73082347e-02, -6.46656981e-01,  3.00738694e-01, -1.17676478e+00,\n",
       "       -8.58840842e-02,  7.79765913e-01,  1.39719453e+00,  5.94736396e-01,\n",
       "        2.01591766e+00,  2.39854797e-01, -1.24338809e-01,  6.59423091e-01,\n",
       "       -1.14056378e+00, -1.51010946e-01,  6.85709422e-02,  1.73577533e+00,\n",
       "        2.37530560e+00,  1.60171319e+00,  3.14713480e-01, -5.02030926e-01,\n",
       "        1.47435922e-01, -2.86204849e+00, -3.11208844e-01, -1.14164564e+00,\n",
       "       -1.06905282e+00,  2.04459005e+00,  6.72867351e-01,  1.95774535e+00,\n",
       "       -2.36450806e+00,  2.65136487e-01,  5.26591577e-01, -5.10425011e-01,\n",
       "       -3.82928374e-01, -1.99423638e+00, -7.17384216e-01, -7.76898416e-01,\n",
       "       -9.17303464e-01, -8.85455049e-01, -3.61626561e-01,  1.47025309e+00,\n",
       "       -9.26315850e-01, -4.26097703e-02,  1.32847430e+00,  3.69809163e-01,\n",
       "        5.39217713e-01, -1.09659494e+00,  5.20151098e-01, -2.66822431e-01,\n",
       "       -7.51555783e-02,  7.65728803e-01, -9.87207834e-02,  9.66358025e-01,\n",
       "        1.24956844e-01, -1.22172353e+00,  6.37060596e-01,  1.82051790e+00,\n",
       "       -6.49362996e-02,  9.26648075e-01,  1.65046046e+00, -5.03531675e-01,\n",
       "        2.52513887e-01,  1.13512816e+00,  1.46502462e+00, -1.32783083e+00,\n",
       "        1.54775826e-01,  5.80040731e-02,  8.83828593e-01, -1.53498679e+00,\n",
       "        1.09901946e+00, -1.34024225e+00,  5.67315613e-01,  1.97518495e-01,\n",
       "        6.36705972e-01, -7.40824108e-01, -9.93199596e-01, -2.29243834e-01,\n",
       "        2.18948777e-02, -7.91845707e-01,  2.89194115e-01,  7.52913749e-01,\n",
       "       -4.39892466e-01,  2.30213770e+00,  1.85354644e-01, -6.78715958e-01,\n",
       "        9.89821284e-02,  2.43108655e-01,  3.45129686e-01,  2.13968813e+00,\n",
       "       -7.77759024e-01,  7.73841402e-01, -6.53478198e-01, -4.06369157e-01,\n",
       "       -4.94938217e-01, -1.55929493e+00,  6.64295880e-01, -1.24020114e-01,\n",
       "       -1.15943160e-01,  2.93311652e-01,  9.26332780e-02,  6.33080309e-01,\n",
       "       -1.06861640e+00,  5.06001984e-02,  2.34608142e+00, -7.51201575e-01,\n",
       "       -9.34338408e-01,  1.04674290e+00,  9.67956296e-01, -1.08137582e+00,\n",
       "        6.40317715e-01, -1.38991132e+00,  6.29603505e-01,  1.84204872e-01,\n",
       "       -1.74048535e-01,  1.25051251e+00, -1.07969553e+00, -5.90917489e-01,\n",
       "       -5.71956831e-01,  8.09136396e-01, -3.36557060e-01, -2.64918845e-01,\n",
       "        3.59421359e-01, -8.80184495e-02, -5.13728776e-01, -8.78165280e-01,\n",
       "        5.97353551e-01,  2.75316480e-01,  3.21741406e-01,  4.67876446e-01,\n",
       "        5.26253413e-01, -4.99344700e-01, -8.34875543e-01, -5.38432341e-01,\n",
       "       -9.69069209e-02,  8.10095255e-01, -1.18217537e+00,  1.19049145e+00,\n",
       "       -3.51179708e-01,  9.01206731e-01,  3.73065121e-01,  9.94846632e-01,\n",
       "        1.01542775e-01, -8.93829661e-01,  1.45060955e+00,  1.35877987e+00,\n",
       "        6.61130929e-01,  1.26459316e+00, -1.38100582e+00, -8.69398454e-03,\n",
       "        7.79394841e-01, -8.41290614e-01,  4.61879917e-01, -5.78846528e-01,\n",
       "       -8.16232367e-01, -7.96361332e-01, -8.06555506e-01, -1.26743947e+00,\n",
       "        2.60714653e-01, -1.94348833e+00, -4.03502741e-01, -1.09660211e+00,\n",
       "        3.94188857e-01,  4.31045441e-01,  1.06674184e+00, -1.72829216e+00,\n",
       "       -1.41386650e+00,  2.11009277e-01,  3.15048332e-01, -9.21763541e-02,\n",
       "        3.14582927e-01,  4.22585031e-01, -1.28838896e+00,  2.02416118e+00,\n",
       "        1.95049319e-01, -7.53283601e-01, -5.16940484e-01,  1.29109032e+00,\n",
       "        5.72992763e-01,  7.67286231e-01,  7.97148084e-01, -6.96950154e-04,\n",
       "        6.04267232e-01,  1.07592304e+00,  2.83414738e-01, -1.58299227e+00,\n",
       "       -1.71627356e+00,  7.82854446e-01, -3.36361097e-01,  1.68247018e+00,\n",
       "       -7.50319579e-02, -1.05778035e+00, -8.61106647e-01,  1.75654168e+00,\n",
       "        6.79567081e-02, -7.15213091e-02,  1.93339693e+00, -4.85380434e-01,\n",
       "       -3.42410344e-01, -9.77710502e-01,  6.10315568e-01,  4.89118304e-01,\n",
       "       -8.41192167e-01, -2.43654057e-01,  1.18022585e+00,  1.36708926e+00,\n",
       "       -1.97134824e+00,  8.42564038e-01, -6.36137106e-01,  1.10103882e+00,\n",
       "        1.41960434e+00, -1.39028492e+00, -1.74749764e+00,  1.16945184e-01,\n",
       "        4.44881467e-01, -7.56761927e-01,  2.51002712e+00,  5.72309890e-01,\n",
       "        4.21792563e-01, -3.08803915e-01,  1.57127783e-01, -2.28121741e+00,\n",
       "       -1.23843082e+00, -5.48894104e-01, -2.03289511e+00,  8.30422756e-01,\n",
       "       -1.22257809e-01,  2.46119152e-01,  1.27125141e+00, -7.47345154e-01,\n",
       "       -8.64084907e-01,  1.96256669e+00,  4.13239838e-01,  2.40796174e-01,\n",
       "       -4.61897839e-01,  6.15719159e-01,  6.73200950e-01, -1.43305726e+00,\n",
       "        1.08853594e+00, -6.48272788e-01,  7.36936483e-01,  2.11599651e+00,\n",
       "        2.32145601e-01, -1.29916159e+00, -6.28186715e-01, -2.42248111e-01,\n",
       "        3.75471654e-01, -6.69422899e-01,  3.66634719e-02, -1.96308465e+00,\n",
       "       -2.63560578e-01,  1.35533259e+00,  9.93544865e-01,  1.38940745e-01,\n",
       "       -2.10293525e-01,  4.02997848e-01, -4.64981831e-01, -5.02393885e-01,\n",
       "       -1.55391940e+00, -5.65927957e-01, -1.45499253e+00, -2.45344218e-01,\n",
       "       -8.87161199e-02, -4.99523171e-01,  8.86092828e-01,  5.80683713e-01,\n",
       "        4.13436735e-01,  1.11756265e+00, -2.53505252e-01, -2.86305151e-01,\n",
       "       -6.93563452e-01,  5.24087008e-01, -1.72045861e+00, -1.18554943e-01,\n",
       "       -1.40470347e+00, -1.69623099e-01, -2.79644021e-01,  1.78275368e-01,\n",
       "        4.04334354e-01, -3.19143245e-01,  6.97188667e-01, -2.70981555e-01,\n",
       "       -1.19810637e+00, -1.13105686e-01, -1.62192866e+00, -7.23373466e-01,\n",
       "        2.18969763e+00, -7.04261189e-03, -4.60023614e-01,  1.11183560e+00,\n",
       "        4.60294323e-01, -1.17048429e-01, -6.48541879e-01, -2.82894805e+00,\n",
       "        8.73987065e-01,  3.40658312e-01, -1.20730635e+00,  1.13254533e-01,\n",
       "       -1.52172617e+00, -6.67622382e-01, -5.01920428e-01, -1.66246004e+00,\n",
       "       -8.81757518e-01,  1.69181502e-02,  5.33301234e-01,  9.80585962e-02,\n",
       "       -5.90052897e-01, -8.18948685e-01,  4.64468040e-01, -1.46745606e-01,\n",
       "       -9.05406520e-01,  1.60465077e+00,  9.65177515e-02, -2.64512608e-01,\n",
       "       -2.02271376e+00,  1.38520902e+00,  6.65625925e-01, -2.17700442e-01,\n",
       "        1.86637317e+00, -2.09263857e+00, -3.37277732e-02,  1.60888071e+00,\n",
       "        2.08591255e-01,  4.15967916e-01,  1.54706003e+00,  1.00259992e+00,\n",
       "       -1.16594455e+00, -3.03903299e-01, -1.15064506e+00,  8.22382149e-01,\n",
       "       -1.14206028e-01,  1.37645239e+00, -8.34352662e-01, -5.66167224e-01,\n",
       "        6.26955380e-02,  6.44000341e-01, -1.27555400e-01,  9.31472345e-01,\n",
       "        1.35555770e+00,  1.90363853e+00, -6.89787411e-01, -3.66275655e-01,\n",
       "       -2.40664072e-01,  6.40819332e-01, -1.49382289e+00, -7.50706317e-01,\n",
       "       -1.62969065e+00, -1.10691755e+00,  1.54273442e-03,  1.45550571e+00,\n",
       "       -8.10465125e-02,  4.26765395e-01,  3.71878389e-01, -1.58554039e-01,\n",
       "       -1.22651946e+00, -1.60128234e+00, -1.05404939e+00, -1.20541799e+00,\n",
       "        1.75339219e+00, -1.01083557e+00, -1.51859770e+00, -1.31363090e+00,\n",
       "       -5.00152553e-01, -1.24446838e+00, -4.32758651e-01,  1.80479530e+00,\n",
       "       -6.77625136e-01, -1.60310490e-01, -7.84400570e-01, -2.19393870e-02,\n",
       "        9.57155515e-01,  1.18013838e+00,  1.55355932e-02, -7.49771865e-01,\n",
       "        2.47588662e-01,  1.46471704e+00,  5.19550842e-01, -1.35283350e+00,\n",
       "        1.31515672e+00, -6.68662679e-01, -6.53036311e-01,  1.47526378e+00,\n",
       "        6.05260660e-01, -7.13136386e-01, -2.23295158e+00,  2.30998255e-01,\n",
       "       -1.00876770e+00, -1.74915610e+00,  1.02274975e+00, -2.02437022e-01,\n",
       "       -4.24704691e-01,  2.60747180e-01, -2.05673141e+00,  5.54180596e-01,\n",
       "        8.17145403e-01, -5.87781203e-01, -1.08572474e+00,  2.20023339e+00,\n",
       "       -4.76790696e-01,  2.26007142e+00,  1.19460235e+00,  8.43093575e-01,\n",
       "       -8.42283154e-01,  3.70906989e-01, -1.11711350e+00, -1.19909252e+00,\n",
       "       -1.09521851e+00,  7.00565242e-01,  1.11993848e+00, -7.56392686e-02,\n",
       "        1.43156014e+00,  6.38724565e-01,  1.33787638e+00, -2.26618701e+00,\n",
       "       -1.17205283e+00,  8.75070811e-02,  7.05896393e-01,  6.72173371e-01,\n",
       "       -9.70260280e-01,  1.74930924e+00, -6.04481769e-02,  1.92252243e+00,\n",
       "       -1.58534523e+00,  1.48001912e+00,  3.97630617e-01, -5.89449499e-01,\n",
       "        7.56774489e-01, -8.50122691e-01, -3.17304993e-01, -1.34030043e+00,\n",
       "        1.06907692e-01,  1.39308075e+00,  7.94289224e-01, -1.07568071e+00,\n",
       "       -5.95541107e-01, -4.31731006e-01,  1.62233406e+00, -9.25227438e-01,\n",
       "       -6.93160420e-01, -1.54345075e+00,  3.80775308e-01,  1.92399156e-02,\n",
       "       -1.09322341e+00, -7.09973657e-01, -1.83914793e+00, -1.31602362e-01,\n",
       "        2.26892107e-01, -8.02541599e-01, -3.15895789e-01, -6.75230733e-01,\n",
       "       -2.61462074e+00, -1.33275986e+00,  5.42070789e-01,  1.38640919e+00,\n",
       "        2.33938950e-01, -6.96416110e-01, -1.93545065e+00, -5.08124429e-01,\n",
       "        9.42918051e-01,  9.09751838e-01, -2.31598277e-01,  4.36316285e-01,\n",
       "       -5.22094682e-01,  1.70582237e+00, -1.26152434e+00,  1.55312316e-01,\n",
       "       -1.45423517e+00, -1.47945002e+00,  1.12604957e+00, -4.61790416e-01,\n",
       "       -7.27951195e-01, -1.95393848e-01,  1.05350744e+00,  1.25760297e-01,\n",
       "        8.74892086e-01,  2.52865752e-01, -7.44176721e-01, -3.46655351e-01,\n",
       "        8.91556687e-01, -4.52183559e-01,  8.41157047e-01,  3.27387665e-01,\n",
       "       -7.29338700e-01,  4.32648685e-01, -1.74888978e+00,  7.36598349e-01,\n",
       "        4.64147339e-01, -1.63277903e+00, -1.67324643e-01, -5.35791899e-01,\n",
       "        1.26169653e-01, -5.54906805e-01,  2.02904025e+00, -6.20315977e-01,\n",
       "        4.45157086e-01,  4.26666177e-01,  1.25096904e+00,  1.35325987e-01,\n",
       "        7.63328933e-01, -1.47580316e+00,  9.02646536e-01,  9.77228583e-01,\n",
       "       -3.65913375e-01,  1.38921529e+00,  8.13223809e-02,  3.15899159e-01,\n",
       "        4.51113144e-01, -7.73186922e-01,  6.24091148e-01,  3.53356891e-01,\n",
       "        1.86381840e+00,  1.09995759e+00,  4.17195870e-01, -1.27233992e+00,\n",
       "        4.25286386e-01,  7.66825193e-01,  5.08170850e-01, -9.42721917e-01,\n",
       "       -8.89644035e-01, -3.09625356e-01, -7.53115903e-01, -1.48621191e+00,\n",
       "       -3.20262489e+00, -3.23125348e-01, -2.68204775e+00,  2.78612671e-01,\n",
       "        8.93695977e-01,  8.04826698e-01, -6.58594144e-01,  3.52433526e-01,\n",
       "        7.76180567e-01, -2.05229118e-01, -2.40779644e-01,  2.30599566e+00,\n",
       "        2.05549263e+00,  1.92556464e+00,  2.29161026e-01,  4.77072117e-01,\n",
       "        1.19344202e+00, -1.32564809e+00,  7.90738066e-02,  3.22873253e-01,\n",
       "        2.01186310e+00, -2.44024386e+00,  6.84321047e-01, -1.05116609e+00,\n",
       "       -7.52612976e-01, -9.69051933e-01, -1.03117073e-01,  5.19712856e-01,\n",
       "       -9.23219214e-01, -7.64557492e-01, -9.45396235e-01, -1.51029900e+00,\n",
       "        9.78754662e-01,  3.12842441e-01,  4.34723134e-01, -6.46179547e-01,\n",
       "       -6.20339777e-02, -2.55596628e-01,  9.69204997e-01,  9.83073794e-01,\n",
       "       -1.35085749e+00,  2.88386732e-01, -1.64579289e-01, -2.66771232e-01,\n",
       "       -5.78435818e-01, -1.82473757e+00,  1.43549437e-02, -4.90267706e-01,\n",
       "        2.60073759e+00,  8.72219685e-01, -8.16768093e-01,  7.19567872e-01,\n",
       "       -7.42348104e-01, -4.77149736e-01, -6.26582350e-01,  6.78888526e-01,\n",
       "        3.97841276e-01,  2.16540183e-01, -7.06411480e-01, -1.22077160e+00,\n",
       "        9.44827383e-02, -9.57103943e-01, -7.76887591e-02, -3.68668220e-02,\n",
       "       -1.45528270e-01, -1.70001621e+00,  1.66902603e+00,  7.16587391e-01,\n",
       "        4.07574491e-02, -1.16638092e+00,  8.51270156e-01, -8.26337641e-01,\n",
       "       -4.12823169e-01,  2.07822268e-01,  3.76149570e-01, -8.92326256e-01,\n",
       "        2.73598284e-01,  6.47714282e-01, -1.24868184e+00, -6.33969161e-01,\n",
       "       -5.03331263e-01, -5.38297863e-01, -6.32102261e-01,  4.52613719e-01,\n",
       "        1.39227295e+00,  4.76933750e-01,  4.90350694e-01,  7.83153098e-01,\n",
       "       -7.41110785e-01, -2.41752723e-01, -8.23504732e-01,  8.47835444e-01,\n",
       "       -9.17946829e-01,  4.80656119e-01,  4.06402404e-01,  1.80926851e-01,\n",
       "       -2.46633712e-01,  2.54713839e-01,  4.46875181e-01, -6.40326399e-01,\n",
       "       -1.16799892e+00, -1.73443608e+00,  7.68531412e-01, -2.94473950e-03,\n",
       "        1.48143442e+00, -1.48193052e+00, -2.04813654e-01, -3.94001858e-01,\n",
       "       -3.07258677e-01, -2.04030956e+00, -1.83215440e+00,  4.72508783e-01,\n",
       "       -5.53553510e-02,  4.85859346e-01, -2.32145106e-01, -3.16076225e-01,\n",
       "       -3.18662136e-01, -4.12343811e-01,  3.12136965e-01,  1.99023319e+00,\n",
       "       -1.18355307e+00,  2.75761883e-01, -1.49477894e-01,  5.58542218e-01,\n",
       "        1.77791797e+00, -4.05258629e-01, -3.27154273e-01, -2.07472940e+00,\n",
       "       -9.23162268e-01, -1.65102637e+00, -2.58332153e-01,  4.87190179e-01,\n",
       "       -2.02589498e-01, -1.40396916e+00,  1.22700204e+00, -9.98330591e-01,\n",
       "        2.05060189e-02,  1.00600489e-01,  1.83615620e+00,  6.19063881e-01,\n",
       "       -8.64868522e-01,  3.98898908e-01,  5.15400609e-01, -1.02712451e+00,\n",
       "        1.77540394e+00, -1.31000257e+00,  7.78309779e-01, -1.55587340e+00,\n",
       "        4.48674923e-01,  1.61918093e-02,  6.32556503e-01,  1.32223765e-01,\n",
       "       -7.25027095e-01,  1.20776497e+00, -9.34523599e-02, -1.12784536e-01,\n",
       "        1.15493286e+00,  1.10730927e+00, -1.00652277e+00,  9.74433981e-01,\n",
       "        1.79839485e+00, -7.47635324e-01,  4.09783792e-01, -8.85862889e-01,\n",
       "        2.56130800e-02,  1.50106809e-01, -1.86305257e+00, -6.83435793e-01,\n",
       "        1.62961076e+00,  1.23708747e+00,  8.33458613e-01,  1.80760294e-01,\n",
       "        5.63895736e-01, -8.76889081e-01, -1.47192423e+00, -8.88384509e-01,\n",
       "       -6.03002444e-01,  1.87125363e+00,  8.72849523e-01, -2.64752894e-01,\n",
       "        9.35933825e-02,  1.08032956e+00, -3.22566794e-01,  1.62172453e-02,\n",
       "       -8.87686005e-01, -1.97520552e+00,  5.24782140e-01, -6.27975513e-01,\n",
       "        5.09922566e-01,  8.85576962e-01, -2.53186035e+00, -4.62040316e-01,\n",
       "        1.77796200e-01, -1.22642752e+00,  5.12102965e-02, -1.17312979e+00,\n",
       "        1.91905837e+00,  4.14505120e-01,  2.46510626e+00, -1.31608168e+00,\n",
       "        8.36714568e-01,  1.56521138e+00, -1.24905995e+00, -7.13749629e-01,\n",
       "       -9.70991329e-01, -2.49558461e-01, -6.98043752e-01, -6.15903558e-02,\n",
       "        1.70331511e+00, -5.53480455e-01, -1.24837188e+00,  2.32633678e-01,\n",
       "        7.57709701e-01, -1.43872630e+00, -3.27923052e-01, -4.42492482e-01,\n",
       "        3.98106498e-02, -4.67868270e-01, -3.95158083e-01, -9.23208786e-01,\n",
       "        1.78168951e+00,  1.71950201e-01, -7.70342404e-01, -2.33021358e+00,\n",
       "       -1.96426551e+00,  1.01558714e+00,  9.31456642e-01, -3.92202675e-01,\n",
       "       -2.67486327e-01,  2.52633511e-01, -8.90232296e-01, -1.53429323e+00,\n",
       "        1.18287150e+00,  1.18812650e+00, -2.80428063e-02,  2.21529598e-01,\n",
       "       -4.93494124e-01,  1.19980471e-01,  3.10589772e-01,  1.04871030e+00,\n",
       "        1.79536741e-01, -2.14390860e-01, -3.49373805e-01,  9.71987880e-01,\n",
       "       -1.03057227e+00, -1.73040449e-01,  1.37303989e+00, -4.87599782e-01,\n",
       "       -7.51187704e-01,  1.53398381e-01, -3.79297347e-01,  5.89698776e-01,\n",
       "        7.24678806e-01,  3.53042634e-01, -1.04832027e+00,  3.59222865e-01,\n",
       "       -2.29095894e+00,  2.22729282e+00, -1.04038113e+00,  1.27839180e+00,\n",
       "       -1.11039772e+00,  5.41728580e-02,  7.96433320e-01, -6.14307673e-01,\n",
       "        1.58824337e+00, -5.82616284e-02, -1.51615327e-01,  8.17040299e-02,\n",
       "        1.23381304e+00, -1.43430061e-01, -1.24704399e-01, -1.89162338e-02,\n",
       "        3.72351507e-01,  5.80235448e-01,  5.68055557e-01, -2.01256699e-01,\n",
       "       -1.19600058e+00,  4.11840216e-01,  1.13691633e+00, -1.56545153e-01,\n",
       "       -1.67947203e+00,  1.96633273e+00, -1.31944286e+00, -9.35891644e-01,\n",
       "        1.72836134e-01,  3.44740946e-01, -3.66421742e+00, -3.13023982e-01,\n",
       "        6.28262446e-01, -3.54645394e-02, -1.75933292e+00,  1.52010506e+00,\n",
       "       -2.12645448e-01,  6.37610233e-03, -2.40548063e+00, -1.05791493e-01,\n",
       "       -3.42711322e-01, -2.22372657e+00,  4.99789910e-01, -7.10158257e-02,\n",
       "        1.01513882e+00,  3.09921713e-03, -1.41424177e-01, -6.47858765e-01,\n",
       "       -1.77315638e+00, -9.37091121e-01,  2.53425126e-01, -1.39679093e-01,\n",
       "       -1.85366672e+00,  3.00362311e-01, -1.00836278e+00,  8.68936838e-01,\n",
       "       -1.51487832e+00,  2.79892089e-01, -5.54714110e-01,  1.20883620e-01,\n",
       "       -1.07847947e+00,  7.37723583e-02,  2.01422781e+00, -4.22594062e-01,\n",
       "       -2.43396956e+00, -7.16857310e-02,  9.25551884e-01,  9.03740781e-01,\n",
       "        2.03451921e+00, -5.90945886e-01,  1.18217242e+00, -7.28574923e-01])"
      ]
     },
     "execution_count": 71,
     "metadata": {},
     "output_type": "execute_result"
    }
   ],
   "source": [
    "data"
   ]
  },
  {
   "cell_type": "code",
   "execution_count": 72,
   "id": "fd2a36e0",
   "metadata": {},
   "outputs": [
    {
     "data": {
      "text/plain": [
       "(-3.665, -1.31]     100\n",
       "(-1.31, -0.0584]    400\n",
       "(-0.0584, 1.272]    400\n",
       "(1.272, 2.601]      100\n",
       "Name: count, dtype: int64"
      ]
     },
     "execution_count": 72,
     "metadata": {},
     "output_type": "execute_result"
    }
   ],
   "source": [
    "pd.qcut(data, [0, 0.1, 0.5, 0.9, 1.]).value_counts()"
   ]
  },
  {
   "cell_type": "markdown",
   "id": "5b436e9f-f304-4df8-b946-6a24e89261aa",
   "metadata": {},
   "source": [
    "El segundo argumento `[0, 0.1, 0.5, 0.9, 1.]` especifica los puntos de corte para los cuantiles.  \n",
    "Estos puntos de corte son porcentajes que indican cómo se deben dividir los datos.  \n",
    "\n",
    "`0` corresponde al valor mínimo.  \n",
    "`0.1` corresponde al percentil 10 (el valor por debajo del cual se encuentra el 10% de los datos).  \n",
    "`0.5` corresponde al percentil 50 (la mediana).  \n",
    "`0.9` corresponde al percentil 90 (el valor por debajo del cual se encuentra el 90% de los datos).  \n",
    "`1.` corresponde al valor máximo.  "
   ]
  },
  {
   "cell_type": "markdown",
   "id": "7b325ebd",
   "metadata": {
    "slideshow": {
     "slide_type": "slide"
    }
   },
   "source": [
    "### 2.4 Detección y filtrado de valores atípicos (outliers)\n",
    "\n",
    "Filtrar o transformar los valores atípicos es en gran medida una cuestión de aplicar operaciones de arrays. Considere el siguiente DataFrame:"
   ]
  },
  {
   "cell_type": "markdown",
   "id": "3488e54b-4e96-4d53-8355-93ac7a5b4ca1",
   "metadata": {},
   "source": [
    "**Un valor atípico (outlier, en inglés) es una observación que numéricamente es muy distinta al resto de elementos de una muestra. Estos datos nos pueden causar problemas en la interpretación de lo que ocurre en un proceso o en una población.**"
   ]
  },
  {
   "cell_type": "markdown",
   "id": "dc2e6d6e-963a-4e56-8c53-57eff24e2e00",
   "metadata": {},
   "source": [
    "![at1](at1.jpg)"
   ]
  },
  {
   "cell_type": "markdown",
   "id": "0ee9348e-7268-4cb0-816d-40e1fdc9312a",
   "metadata": {},
   "source": [
    "La pregunta que nos podemos plantear es inmediata. ¿Qué hacemos con esos valores atípicos? La opción de ignorarlos a veces no es la mejor de las soluciones posibles si pretendemos conocer qué ha pasado con estos valores. Lo bien cierto es que distorsionan los resultados del análisis, por lo que hay que identificarlos y tratarlos de forma adecuada. A veces se excluyen si son resultado de un error, pero otras veces son datos potencialmente interesantes en la detección de anomalías."
   ]
  },
  {
   "cell_type": "markdown",
   "id": "8d4c43f3-b799-4469-93ed-3e918e17775b",
   "metadata": {},
   "source": [
    "Los valores atípicos pueden deberse a errores en la recolección de datos válidos que muestran un comportamiento diferente, pero reflejan la aleatoriedad de la variable en estudio. Es decir, valores que pueden haber aparecido como parte del proceso, aunque parezcan extraños. Si los valores atípicos son parte del proceso, deben conservarse. En cambio, si ocurren por algún tipo de error (medida, codificación…), lo adecuado es su eliminación."
   ]
  },
  {
   "cell_type": "markdown",
   "id": "bd24d30d-da40-40ce-bf64-8936fab39f5c",
   "metadata": {},
   "source": [
    "En la siguiente tabla se recogen algunas de las causas comunes de los valores atípicos y sus acciones posibles."
   ]
  },
  {
   "cell_type": "markdown",
   "id": "d78bac07-8b06-4e74-9ca3-00f767c12496",
   "metadata": {},
   "source": [
    "| Causa                     | Acciones posibles                                                                                              |\r\n",
    "|---------------------------|---------------------------------------------------------------------------------------------------------------|\r\n",
    "| Error de entrada de datos | Corregir el error y volver a analizar los datos.                                                              |\r\n",
    "| Problema del proceso      | Investigar el proceso para determinar la causa del valor atípico.                                             |\r\n",
    "| Factor faltante           | Determinar si no se consideró un factor que afecta el proceso.                                                |\r\n",
    "| Probabilidad aleatoria    | Investigar el proceso y el valor atípico para determinar si este se produjo en virtud de las probabilidades; realice el análisis con y sin el valor atípico para ver su impacto en los resultados. |\r\n"
   ]
  },
  {
   "cell_type": "markdown",
   "id": "f785b4d2-5bbf-40a9-8fa5-80763b39eaac",
   "metadata": {},
   "source": [
    "Los valores atípicos a veces son subjetivos y existen numerosos métodos para clasificarlos. La detección de valores atípicos se puede realizar a nivel univariante usando gráficos sencillos como histogramas o diagramas de caja y bigotes. A nivel bivariante se pueden localizar mediante análisis de diagrama de dispersión o análisis de los residuos. En el ámbito multivariante se pueden descubrir los valores atípicos mediante un análisis de la matriz de residuos."
   ]
  },
  {
   "cell_type": "markdown",
   "id": "91660e03-4f9c-4bde-999f-0f94b6df4e4c",
   "metadata": {},
   "source": [
    "El método más habitual por su sencillez y resultados es el test de Tukey, que toma como referencia la diferencia entre el primer cuartil (Q1) y el tercer cuartil (Q3), o rango intercuartílico. En un diagrama de caja se considera un valor atípico el que se encuentra 1,5 veces esa distancia de uno de esos cuartiles (atípico leve) o a 3 veces esa distancia (atípico extremo). Se trata de un método paramétrico que supone que la población es normal (Ver siguiente figura ). No obstante, también existen métodos no paramétricos cuando la muestra no supere la prueba de normalidad correspondiente."
   ]
  },
  {
   "cell_type": "markdown",
   "id": "a6d04878-6bb7-4a0c-8d38-41914f440463",
   "metadata": {},
   "source": [
    "![at2](at2.png)"
   ]
  },
  {
   "cell_type": "markdown",
   "id": "a4e4664e-4be0-4a18-9862-c52f945e799a",
   "metadata": {},
   "source": [
    "### Ejemplo para filtrar valores atípicos de un dataset que no sigue una normal standard:"
   ]
  },
  {
   "cell_type": "code",
   "execution_count": 73,
   "id": "b6536ce0-ffdb-4925-91b5-1f4280407d14",
   "metadata": {},
   "outputs": [
    {
     "data": {
      "text/html": [
       "<div>\n",
       "<style scoped>\n",
       "    .dataframe tbody tr th:only-of-type {\n",
       "        vertical-align: middle;\n",
       "    }\n",
       "\n",
       "    .dataframe tbody tr th {\n",
       "        vertical-align: top;\n",
       "    }\n",
       "\n",
       "    .dataframe thead th {\n",
       "        text-align: right;\n",
       "    }\n",
       "</style>\n",
       "<table border=\"1\" class=\"dataframe\">\n",
       "  <thead>\n",
       "    <tr style=\"text-align: right;\">\n",
       "      <th></th>\n",
       "      <th>A</th>\n",
       "      <th>B</th>\n",
       "      <th>C</th>\n",
       "      <th>D</th>\n",
       "    </tr>\n",
       "  </thead>\n",
       "  <tbody>\n",
       "    <tr>\n",
       "      <th>0</th>\n",
       "      <td>-3.10</td>\n",
       "      <td>0.28</td>\n",
       "      <td>3.200</td>\n",
       "      <td>4.60</td>\n",
       "    </tr>\n",
       "    <tr>\n",
       "      <th>1</th>\n",
       "      <td>3.60</td>\n",
       "      <td>2.50</td>\n",
       "      <td>0.020</td>\n",
       "      <td>1.20</td>\n",
       "    </tr>\n",
       "    <tr>\n",
       "      <th>2</th>\n",
       "      <td>4.50</td>\n",
       "      <td>1.12</td>\n",
       "      <td>0.036</td>\n",
       "      <td>-1.10</td>\n",
       "    </tr>\n",
       "    <tr>\n",
       "      <th>3</th>\n",
       "      <td>2.10</td>\n",
       "      <td>-0.38</td>\n",
       "      <td>-0.980</td>\n",
       "      <td>-2.30</td>\n",
       "    </tr>\n",
       "    <tr>\n",
       "      <th>4</th>\n",
       "      <td>-2.01</td>\n",
       "      <td>0.00</td>\n",
       "      <td>0.560</td>\n",
       "      <td>1.12</td>\n",
       "    </tr>\n",
       "    <tr>\n",
       "      <th>5</th>\n",
       "      <td>-1.60</td>\n",
       "      <td>-1.29</td>\n",
       "      <td>-0.220</td>\n",
       "      <td>0.80</td>\n",
       "    </tr>\n",
       "    <tr>\n",
       "      <th>6</th>\n",
       "      <td>-3.28</td>\n",
       "      <td>-2.06</td>\n",
       "      <td>0.170</td>\n",
       "      <td>4.60</td>\n",
       "    </tr>\n",
       "    <tr>\n",
       "      <th>7</th>\n",
       "      <td>2.17</td>\n",
       "      <td>0.13</td>\n",
       "      <td>-4.810</td>\n",
       "      <td>-1.09</td>\n",
       "    </tr>\n",
       "  </tbody>\n",
       "</table>\n",
       "</div>"
      ],
      "text/plain": [
       "      A     B      C     D\n",
       "0 -3.10  0.28  3.200  4.60\n",
       "1  3.60  2.50  0.020  1.20\n",
       "2  4.50  1.12  0.036 -1.10\n",
       "3  2.10 -0.38 -0.980 -2.30\n",
       "4 -2.01  0.00  0.560  1.12\n",
       "5 -1.60 -1.29 -0.220  0.80\n",
       "6 -3.28 -2.06  0.170  4.60\n",
       "7  2.17  0.13 -4.810 -1.09"
      ]
     },
     "execution_count": 73,
     "metadata": {},
     "output_type": "execute_result"
    }
   ],
   "source": [
    "data_values = [\n",
    "    [-3.10, 0.28, 3.2, 4.6],\n",
    "    [3.6, 2.5, 0.02, 1.2],\n",
    "    [4.5, 1.12, 0.036, -1.1],\n",
    "    [2.1, -0.38, -0.98, -2.3],\n",
    "    [-2.01, 0, 0.56, 1.12],\n",
    "    [-1.6, -1.29, -0.22, 0.8],\n",
    "    [-3.28, -2.06, 0.17, 4.6],\n",
    "    [2.17, 0.13, -4.81, -1.09]\n",
    "]\n",
    "\n",
    "data = pd.DataFrame(data_values, columns=['A', 'B', 'C', 'D'])\n",
    "data"
   ]
  },
  {
   "cell_type": "code",
   "execution_count": 74,
   "id": "7d7a0f8d-3d89-49ff-8391-a672389e133b",
   "metadata": {},
   "outputs": [
    {
     "data": {
      "text/html": [
       "<div>\n",
       "<style scoped>\n",
       "    .dataframe tbody tr th:only-of-type {\n",
       "        vertical-align: middle;\n",
       "    }\n",
       "\n",
       "    .dataframe tbody tr th {\n",
       "        vertical-align: top;\n",
       "    }\n",
       "\n",
       "    .dataframe thead th {\n",
       "        text-align: right;\n",
       "    }\n",
       "</style>\n",
       "<table border=\"1\" class=\"dataframe\">\n",
       "  <thead>\n",
       "    <tr style=\"text-align: right;\">\n",
       "      <th></th>\n",
       "      <th>A</th>\n",
       "      <th>B</th>\n",
       "      <th>C</th>\n",
       "      <th>D</th>\n",
       "    </tr>\n",
       "  </thead>\n",
       "  <tbody>\n",
       "    <tr>\n",
       "      <th>count</th>\n",
       "      <td>8.000000</td>\n",
       "      <td>8.000000</td>\n",
       "      <td>8.000000</td>\n",
       "      <td>8.000000</td>\n",
       "    </tr>\n",
       "    <tr>\n",
       "      <th>mean</th>\n",
       "      <td>0.297500</td>\n",
       "      <td>0.037500</td>\n",
       "      <td>-0.253000</td>\n",
       "      <td>0.978750</td>\n",
       "    </tr>\n",
       "    <tr>\n",
       "      <th>std</th>\n",
       "      <td>3.130252</td>\n",
       "      <td>1.395941</td>\n",
       "      <td>2.210915</td>\n",
       "      <td>2.554517</td>\n",
       "    </tr>\n",
       "    <tr>\n",
       "      <th>min</th>\n",
       "      <td>-3.280000</td>\n",
       "      <td>-2.060000</td>\n",
       "      <td>-4.810000</td>\n",
       "      <td>-2.300000</td>\n",
       "    </tr>\n",
       "    <tr>\n",
       "      <th>25%</th>\n",
       "      <td>-2.282500</td>\n",
       "      <td>-0.607500</td>\n",
       "      <td>-0.410000</td>\n",
       "      <td>-1.092500</td>\n",
       "    </tr>\n",
       "    <tr>\n",
       "      <th>50%</th>\n",
       "      <td>0.250000</td>\n",
       "      <td>0.065000</td>\n",
       "      <td>0.028000</td>\n",
       "      <td>0.960000</td>\n",
       "    </tr>\n",
       "    <tr>\n",
       "      <th>75%</th>\n",
       "      <td>2.527500</td>\n",
       "      <td>0.490000</td>\n",
       "      <td>0.267500</td>\n",
       "      <td>2.050000</td>\n",
       "    </tr>\n",
       "    <tr>\n",
       "      <th>max</th>\n",
       "      <td>4.500000</td>\n",
       "      <td>2.500000</td>\n",
       "      <td>3.200000</td>\n",
       "      <td>4.600000</td>\n",
       "    </tr>\n",
       "  </tbody>\n",
       "</table>\n",
       "</div>"
      ],
      "text/plain": [
       "              A         B         C         D\n",
       "count  8.000000  8.000000  8.000000  8.000000\n",
       "mean   0.297500  0.037500 -0.253000  0.978750\n",
       "std    3.130252  1.395941  2.210915  2.554517\n",
       "min   -3.280000 -2.060000 -4.810000 -2.300000\n",
       "25%   -2.282500 -0.607500 -0.410000 -1.092500\n",
       "50%    0.250000  0.065000  0.028000  0.960000\n",
       "75%    2.527500  0.490000  0.267500  2.050000\n",
       "max    4.500000  2.500000  3.200000  4.600000"
      ]
     },
     "execution_count": 74,
     "metadata": {},
     "output_type": "execute_result"
    }
   ],
   "source": [
    "data.describe()"
   ]
  },
  {
   "cell_type": "markdown",
   "id": "1d526576-1920-477e-9dee-b8dd59014730",
   "metadata": {},
   "source": [
    "#### Supongamos que nos piden filtrar el dataframe de forma tal que solo muestre aquellas filas que contienen los outliers. Para este caso los outliers son aquellos valores mayores a 3 y menores a -3."
   ]
  },
  {
   "cell_type": "markdown",
   "id": "ba51c934-500e-4dcc-a54b-6c5bb8f101e6",
   "metadata": {},
   "source": [
    "#### Vamos a crear un filtro o una 'mascara' para los outliers:"
   ]
  },
  {
   "cell_type": "code",
   "execution_count": 75,
   "id": "5a0a16d0-755b-46c7-b78a-d34386e2eb91",
   "metadata": {},
   "outputs": [
    {
     "data": {
      "text/html": [
       "<div>\n",
       "<style scoped>\n",
       "    .dataframe tbody tr th:only-of-type {\n",
       "        vertical-align: middle;\n",
       "    }\n",
       "\n",
       "    .dataframe tbody tr th {\n",
       "        vertical-align: top;\n",
       "    }\n",
       "\n",
       "    .dataframe thead th {\n",
       "        text-align: right;\n",
       "    }\n",
       "</style>\n",
       "<table border=\"1\" class=\"dataframe\">\n",
       "  <thead>\n",
       "    <tr style=\"text-align: right;\">\n",
       "      <th></th>\n",
       "      <th>A</th>\n",
       "      <th>B</th>\n",
       "      <th>C</th>\n",
       "      <th>D</th>\n",
       "    </tr>\n",
       "  </thead>\n",
       "  <tbody>\n",
       "    <tr>\n",
       "      <th>0</th>\n",
       "      <td>True</td>\n",
       "      <td>False</td>\n",
       "      <td>True</td>\n",
       "      <td>True</td>\n",
       "    </tr>\n",
       "    <tr>\n",
       "      <th>1</th>\n",
       "      <td>True</td>\n",
       "      <td>False</td>\n",
       "      <td>False</td>\n",
       "      <td>False</td>\n",
       "    </tr>\n",
       "    <tr>\n",
       "      <th>2</th>\n",
       "      <td>True</td>\n",
       "      <td>False</td>\n",
       "      <td>False</td>\n",
       "      <td>False</td>\n",
       "    </tr>\n",
       "    <tr>\n",
       "      <th>3</th>\n",
       "      <td>False</td>\n",
       "      <td>False</td>\n",
       "      <td>False</td>\n",
       "      <td>False</td>\n",
       "    </tr>\n",
       "    <tr>\n",
       "      <th>4</th>\n",
       "      <td>False</td>\n",
       "      <td>False</td>\n",
       "      <td>False</td>\n",
       "      <td>False</td>\n",
       "    </tr>\n",
       "    <tr>\n",
       "      <th>5</th>\n",
       "      <td>False</td>\n",
       "      <td>False</td>\n",
       "      <td>False</td>\n",
       "      <td>False</td>\n",
       "    </tr>\n",
       "    <tr>\n",
       "      <th>6</th>\n",
       "      <td>True</td>\n",
       "      <td>False</td>\n",
       "      <td>False</td>\n",
       "      <td>True</td>\n",
       "    </tr>\n",
       "    <tr>\n",
       "      <th>7</th>\n",
       "      <td>False</td>\n",
       "      <td>False</td>\n",
       "      <td>True</td>\n",
       "      <td>False</td>\n",
       "    </tr>\n",
       "  </tbody>\n",
       "</table>\n",
       "</div>"
      ],
      "text/plain": [
       "       A      B      C      D\n",
       "0   True  False   True   True\n",
       "1   True  False  False  False\n",
       "2   True  False  False  False\n",
       "3  False  False  False  False\n",
       "4  False  False  False  False\n",
       "5  False  False  False  False\n",
       "6   True  False  False   True\n",
       "7  False  False   True  False"
      ]
     },
     "execution_count": 75,
     "metadata": {},
     "output_type": "execute_result"
    }
   ],
   "source": [
    "outlier_mask = (data.abs() > 3)\n",
    "outlier_mask\n",
    "# Todos los True son los outliers que cumplen la condición impuesta"
   ]
  },
  {
   "cell_type": "markdown",
   "id": "906cb0a6-847f-43e3-b077-98ff49de344d",
   "metadata": {},
   "source": [
    "#### Si quiero que muestre los datos en vez de los Booleanos"
   ]
  },
  {
   "cell_type": "code",
   "execution_count": 76,
   "id": "c1fb0373-37a7-4f3c-8fb6-6497a208054e",
   "metadata": {},
   "outputs": [
    {
     "data": {
      "text/html": [
       "<div>\n",
       "<style scoped>\n",
       "    .dataframe tbody tr th:only-of-type {\n",
       "        vertical-align: middle;\n",
       "    }\n",
       "\n",
       "    .dataframe tbody tr th {\n",
       "        vertical-align: top;\n",
       "    }\n",
       "\n",
       "    .dataframe thead th {\n",
       "        text-align: right;\n",
       "    }\n",
       "</style>\n",
       "<table border=\"1\" class=\"dataframe\">\n",
       "  <thead>\n",
       "    <tr style=\"text-align: right;\">\n",
       "      <th></th>\n",
       "      <th>A</th>\n",
       "      <th>B</th>\n",
       "      <th>C</th>\n",
       "      <th>D</th>\n",
       "    </tr>\n",
       "  </thead>\n",
       "  <tbody>\n",
       "    <tr>\n",
       "      <th>0</th>\n",
       "      <td>-3.10</td>\n",
       "      <td>0.28</td>\n",
       "      <td>3.200</td>\n",
       "      <td>4.60</td>\n",
       "    </tr>\n",
       "    <tr>\n",
       "      <th>1</th>\n",
       "      <td>3.60</td>\n",
       "      <td>2.50</td>\n",
       "      <td>0.020</td>\n",
       "      <td>1.20</td>\n",
       "    </tr>\n",
       "    <tr>\n",
       "      <th>2</th>\n",
       "      <td>4.50</td>\n",
       "      <td>1.12</td>\n",
       "      <td>0.036</td>\n",
       "      <td>-1.10</td>\n",
       "    </tr>\n",
       "    <tr>\n",
       "      <th>3</th>\n",
       "      <td>2.10</td>\n",
       "      <td>-0.38</td>\n",
       "      <td>-0.980</td>\n",
       "      <td>-2.30</td>\n",
       "    </tr>\n",
       "    <tr>\n",
       "      <th>4</th>\n",
       "      <td>-2.01</td>\n",
       "      <td>0.00</td>\n",
       "      <td>0.560</td>\n",
       "      <td>1.12</td>\n",
       "    </tr>\n",
       "    <tr>\n",
       "      <th>5</th>\n",
       "      <td>-1.60</td>\n",
       "      <td>-1.29</td>\n",
       "      <td>-0.220</td>\n",
       "      <td>0.80</td>\n",
       "    </tr>\n",
       "    <tr>\n",
       "      <th>6</th>\n",
       "      <td>-3.28</td>\n",
       "      <td>-2.06</td>\n",
       "      <td>0.170</td>\n",
       "      <td>4.60</td>\n",
       "    </tr>\n",
       "    <tr>\n",
       "      <th>7</th>\n",
       "      <td>2.17</td>\n",
       "      <td>0.13</td>\n",
       "      <td>-4.810</td>\n",
       "      <td>-1.09</td>\n",
       "    </tr>\n",
       "  </tbody>\n",
       "</table>\n",
       "</div>"
      ],
      "text/plain": [
       "      A     B      C     D\n",
       "0 -3.10  0.28  3.200  4.60\n",
       "1  3.60  2.50  0.020  1.20\n",
       "2  4.50  1.12  0.036 -1.10\n",
       "3  2.10 -0.38 -0.980 -2.30\n",
       "4 -2.01  0.00  0.560  1.12\n",
       "5 -1.60 -1.29 -0.220  0.80\n",
       "6 -3.28 -2.06  0.170  4.60\n",
       "7  2.17  0.13 -4.810 -1.09"
      ]
     },
     "execution_count": 76,
     "metadata": {},
     "output_type": "execute_result"
    }
   ],
   "source": [
    "data[(data.abs() > 3).any(axis=\"columns\")]\n",
    "data\n",
    "# Es mas dificil diferenciar los outliers"
   ]
  },
  {
   "cell_type": "code",
   "execution_count": 77,
   "id": "9198a728-cd04-4b34-8f7e-11bc8555e74f",
   "metadata": {},
   "outputs": [
    {
     "data": {
      "text/html": [
       "<div>\n",
       "<style scoped>\n",
       "    .dataframe tbody tr th:only-of-type {\n",
       "        vertical-align: middle;\n",
       "    }\n",
       "\n",
       "    .dataframe tbody tr th {\n",
       "        vertical-align: top;\n",
       "    }\n",
       "\n",
       "    .dataframe thead th {\n",
       "        text-align: right;\n",
       "    }\n",
       "</style>\n",
       "<table border=\"1\" class=\"dataframe\">\n",
       "  <thead>\n",
       "    <tr style=\"text-align: right;\">\n",
       "      <th></th>\n",
       "      <th>A</th>\n",
       "      <th>B</th>\n",
       "      <th>C</th>\n",
       "      <th>D</th>\n",
       "    </tr>\n",
       "  </thead>\n",
       "  <tbody>\n",
       "    <tr>\n",
       "      <th>0</th>\n",
       "      <td>-3.10</td>\n",
       "      <td>NaN</td>\n",
       "      <td>3.20</td>\n",
       "      <td>4.6</td>\n",
       "    </tr>\n",
       "    <tr>\n",
       "      <th>1</th>\n",
       "      <td>3.60</td>\n",
       "      <td>NaN</td>\n",
       "      <td>NaN</td>\n",
       "      <td>NaN</td>\n",
       "    </tr>\n",
       "    <tr>\n",
       "      <th>2</th>\n",
       "      <td>4.50</td>\n",
       "      <td>NaN</td>\n",
       "      <td>NaN</td>\n",
       "      <td>NaN</td>\n",
       "    </tr>\n",
       "    <tr>\n",
       "      <th>3</th>\n",
       "      <td>NaN</td>\n",
       "      <td>NaN</td>\n",
       "      <td>NaN</td>\n",
       "      <td>NaN</td>\n",
       "    </tr>\n",
       "    <tr>\n",
       "      <th>4</th>\n",
       "      <td>NaN</td>\n",
       "      <td>NaN</td>\n",
       "      <td>NaN</td>\n",
       "      <td>NaN</td>\n",
       "    </tr>\n",
       "    <tr>\n",
       "      <th>5</th>\n",
       "      <td>NaN</td>\n",
       "      <td>NaN</td>\n",
       "      <td>NaN</td>\n",
       "      <td>NaN</td>\n",
       "    </tr>\n",
       "    <tr>\n",
       "      <th>6</th>\n",
       "      <td>-3.28</td>\n",
       "      <td>NaN</td>\n",
       "      <td>NaN</td>\n",
       "      <td>4.6</td>\n",
       "    </tr>\n",
       "    <tr>\n",
       "      <th>7</th>\n",
       "      <td>NaN</td>\n",
       "      <td>NaN</td>\n",
       "      <td>-4.81</td>\n",
       "      <td>NaN</td>\n",
       "    </tr>\n",
       "  </tbody>\n",
       "</table>\n",
       "</div>"
      ],
      "text/plain": [
       "      A   B     C    D\n",
       "0 -3.10 NaN  3.20  4.6\n",
       "1  3.60 NaN   NaN  NaN\n",
       "2  4.50 NaN   NaN  NaN\n",
       "3   NaN NaN   NaN  NaN\n",
       "4   NaN NaN   NaN  NaN\n",
       "5   NaN NaN   NaN  NaN\n",
       "6 -3.28 NaN   NaN  4.6\n",
       "7   NaN NaN -4.81  NaN"
      ]
     },
     "execution_count": 77,
     "metadata": {},
     "output_type": "execute_result"
    }
   ],
   "source": [
    "data_1 = data[(data.abs() > 3)]\n",
    "data_1 \n",
    "# Sin .any"
   ]
  },
  {
   "cell_type": "markdown",
   "id": "1befe29c-54e9-4ea1-90ee-bccd11881ab6",
   "metadata": {},
   "source": [
    "#### Vamos a crear otro dataframe aplicando el método `np.sign()` a todos los valores del dataframe original. Lo que se quiere es mantener los outliers y reemplazar los demás valores con 1, -1 o 0"
   ]
  },
  {
   "cell_type": "code",
   "execution_count": 78,
   "id": "d9a5f62a-3cd1-49e8-a5cb-ab766b73f09f",
   "metadata": {},
   "outputs": [
    {
     "data": {
      "text/html": [
       "<div>\n",
       "<style scoped>\n",
       "    .dataframe tbody tr th:only-of-type {\n",
       "        vertical-align: middle;\n",
       "    }\n",
       "\n",
       "    .dataframe tbody tr th {\n",
       "        vertical-align: top;\n",
       "    }\n",
       "\n",
       "    .dataframe thead th {\n",
       "        text-align: right;\n",
       "    }\n",
       "</style>\n",
       "<table border=\"1\" class=\"dataframe\">\n",
       "  <thead>\n",
       "    <tr style=\"text-align: right;\">\n",
       "      <th></th>\n",
       "      <th>A</th>\n",
       "      <th>B</th>\n",
       "      <th>C</th>\n",
       "      <th>D</th>\n",
       "    </tr>\n",
       "  </thead>\n",
       "  <tbody>\n",
       "    <tr>\n",
       "      <th>0</th>\n",
       "      <td>-3.10</td>\n",
       "      <td>1.0</td>\n",
       "      <td>3.20</td>\n",
       "      <td>4.6</td>\n",
       "    </tr>\n",
       "    <tr>\n",
       "      <th>1</th>\n",
       "      <td>3.60</td>\n",
       "      <td>1.0</td>\n",
       "      <td>1.00</td>\n",
       "      <td>1.0</td>\n",
       "    </tr>\n",
       "    <tr>\n",
       "      <th>2</th>\n",
       "      <td>4.50</td>\n",
       "      <td>1.0</td>\n",
       "      <td>1.00</td>\n",
       "      <td>-1.0</td>\n",
       "    </tr>\n",
       "    <tr>\n",
       "      <th>3</th>\n",
       "      <td>1.00</td>\n",
       "      <td>-1.0</td>\n",
       "      <td>-1.00</td>\n",
       "      <td>-1.0</td>\n",
       "    </tr>\n",
       "    <tr>\n",
       "      <th>4</th>\n",
       "      <td>-1.00</td>\n",
       "      <td>0.0</td>\n",
       "      <td>1.00</td>\n",
       "      <td>1.0</td>\n",
       "    </tr>\n",
       "    <tr>\n",
       "      <th>5</th>\n",
       "      <td>-1.00</td>\n",
       "      <td>-1.0</td>\n",
       "      <td>-1.00</td>\n",
       "      <td>1.0</td>\n",
       "    </tr>\n",
       "    <tr>\n",
       "      <th>6</th>\n",
       "      <td>-3.28</td>\n",
       "      <td>-1.0</td>\n",
       "      <td>1.00</td>\n",
       "      <td>4.6</td>\n",
       "    </tr>\n",
       "    <tr>\n",
       "      <th>7</th>\n",
       "      <td>1.00</td>\n",
       "      <td>1.0</td>\n",
       "      <td>-4.81</td>\n",
       "      <td>-1.0</td>\n",
       "    </tr>\n",
       "  </tbody>\n",
       "</table>\n",
       "</div>"
      ],
      "text/plain": [
       "      A    B     C    D\n",
       "0 -3.10  1.0  3.20  4.6\n",
       "1  3.60  1.0  1.00  1.0\n",
       "2  4.50  1.0  1.00 -1.0\n",
       "3  1.00 -1.0 -1.00 -1.0\n",
       "4 -1.00  0.0  1.00  1.0\n",
       "5 -1.00 -1.0 -1.00  1.0\n",
       "6 -3.28 -1.0  1.00  4.6\n",
       "7  1.00  1.0 -4.81 -1.0"
      ]
     },
     "execution_count": 78,
     "metadata": {},
     "output_type": "execute_result"
    }
   ],
   "source": [
    "result = data.where(outlier_mask, np.sign(data))\n",
    "result"
   ]
  },
  {
   "cell_type": "markdown",
   "id": "15501caf-fa47-41c6-ae22-f13c18d99c14",
   "metadata": {},
   "source": [
    "#### Finalmente filtramos solo aquellas filas que contienen los outliers:"
   ]
  },
  {
   "cell_type": "code",
   "execution_count": 79,
   "id": "f5a68c03-c4e8-40fb-bb7b-f0cdb6e384ae",
   "metadata": {},
   "outputs": [
    {
     "data": {
      "text/html": [
       "<div>\n",
       "<style scoped>\n",
       "    .dataframe tbody tr th:only-of-type {\n",
       "        vertical-align: middle;\n",
       "    }\n",
       "\n",
       "    .dataframe tbody tr th {\n",
       "        vertical-align: top;\n",
       "    }\n",
       "\n",
       "    .dataframe thead th {\n",
       "        text-align: right;\n",
       "    }\n",
       "</style>\n",
       "<table border=\"1\" class=\"dataframe\">\n",
       "  <thead>\n",
       "    <tr style=\"text-align: right;\">\n",
       "      <th></th>\n",
       "      <th>A</th>\n",
       "      <th>B</th>\n",
       "      <th>C</th>\n",
       "      <th>D</th>\n",
       "    </tr>\n",
       "  </thead>\n",
       "  <tbody>\n",
       "    <tr>\n",
       "      <th>0</th>\n",
       "      <td>-3.10</td>\n",
       "      <td>0.28</td>\n",
       "      <td>3.200</td>\n",
       "      <td>4.60</td>\n",
       "    </tr>\n",
       "    <tr>\n",
       "      <th>1</th>\n",
       "      <td>3.60</td>\n",
       "      <td>2.50</td>\n",
       "      <td>0.020</td>\n",
       "      <td>1.20</td>\n",
       "    </tr>\n",
       "    <tr>\n",
       "      <th>2</th>\n",
       "      <td>4.50</td>\n",
       "      <td>1.12</td>\n",
       "      <td>0.036</td>\n",
       "      <td>-1.10</td>\n",
       "    </tr>\n",
       "    <tr>\n",
       "      <th>6</th>\n",
       "      <td>-3.28</td>\n",
       "      <td>-2.06</td>\n",
       "      <td>0.170</td>\n",
       "      <td>4.60</td>\n",
       "    </tr>\n",
       "    <tr>\n",
       "      <th>7</th>\n",
       "      <td>2.17</td>\n",
       "      <td>0.13</td>\n",
       "      <td>-4.810</td>\n",
       "      <td>-1.09</td>\n",
       "    </tr>\n",
       "  </tbody>\n",
       "</table>\n",
       "</div>"
      ],
      "text/plain": [
       "      A     B      C     D\n",
       "0 -3.10  0.28  3.200  4.60\n",
       "1  3.60  2.50  0.020  1.20\n",
       "2  4.50  1.12  0.036 -1.10\n",
       "6 -3.28 -2.06  0.170  4.60\n",
       "7  2.17  0.13 -4.810 -1.09"
      ]
     },
     "execution_count": 79,
     "metadata": {},
     "output_type": "execute_result"
    }
   ],
   "source": [
    "rows_with_outliers = data[outlier_mask.any(axis=1)]\n",
    "rows_with_outliers"
   ]
  },
  {
   "cell_type": "markdown",
   "id": "16b5287d-0526-450c-9bf9-8e9920a4be14",
   "metadata": {},
   "source": [
    "#### Visualizaciones"
   ]
  },
  {
   "cell_type": "code",
   "execution_count": 80,
   "id": "8333deaf-1460-475d-bb90-3fd08f4b829f",
   "metadata": {},
   "outputs": [
    {
     "data": {
      "image/png": "[encoded data removed]",
      "text/plain": [
       "<Figure size 800x600 with 1 Axes>"
      ]
     },
     "metadata": {},
     "output_type": "display_data"
    },
    {
     "data": {
      "image/png": "[encoded data removed]",
      "text/plain": [
       "<Figure size 800x600 with 1 Axes>"
      ]
     },
     "metadata": {},
     "output_type": "display_data"
    },
    {
     "data": {
      "image/png": "[encoded data removed]",
      "text/plain": [
       "<Figure size 800x600 with 1 Axes>"
      ]
     },
     "metadata": {},
     "output_type": "display_data"
    },
    {
     "data": {
      "image/png": "[encoded data removed]",
      "text/plain": [
       "<Figure size 800x600 with 1 Axes>"
      ]
     },
     "metadata": {},
     "output_type": "display_data"
    }
   ],
   "source": [
    "colors = ['blue', 'green', 'red', 'purple']\n",
    "for column, color in zip(data.columns, colors):\n",
    "    plt.figure(figsize=(8, 6))\n",
    "    boxplot = sns.boxplot(x=data[column], color=color)\n",
    "    plt.title(f'Boxplot of {column}')\n",
    "\n",
    "    # Añadir etiquetas para los outliers\n",
    "    outliers = data[column][outlier_mask[column]]\n",
    "    for outlier in outliers:\n",
    "        plt.text(outlier, 0.1, f'{outlier:.2f}', horizontalalignment='center', color='red')\n",
    "\n",
    "    plt.show()"
   ]
  },
  {
   "cell_type": "markdown",
   "id": "d9402376-efe6-4c2d-b747-712f807fcf2f",
   "metadata": {},
   "source": [
    "### Ejercicio_1: Para el siguiente dataframe, filtrar los valores atípicos. En este caso los atípicos son aquellos valores mayores a 1.25 y menores a -1.25. Los plots son opcionales."
   ]
  },
  {
   "cell_type": "code",
   "execution_count": 81,
   "id": "72bcb8b8-1530-44a2-a65f-9b9550d8ea38",
   "metadata": {},
   "outputs": [
    {
     "data": {
      "text/html": [
       "<div>\n",
       "<style scoped>\n",
       "    .dataframe tbody tr th:only-of-type {\n",
       "        vertical-align: middle;\n",
       "    }\n",
       "\n",
       "    .dataframe tbody tr th {\n",
       "        vertical-align: top;\n",
       "    }\n",
       "\n",
       "    .dataframe thead th {\n",
       "        text-align: right;\n",
       "    }\n",
       "</style>\n",
       "<table border=\"1\" class=\"dataframe\">\n",
       "  <thead>\n",
       "    <tr style=\"text-align: right;\">\n",
       "      <th></th>\n",
       "      <th>A</th>\n",
       "      <th>B</th>\n",
       "      <th>C</th>\n",
       "      <th>D</th>\n",
       "    </tr>\n",
       "  </thead>\n",
       "  <tbody>\n",
       "    <tr>\n",
       "      <th>0</th>\n",
       "      <td>0.558868</td>\n",
       "      <td>-1.104176</td>\n",
       "      <td>1.086918</td>\n",
       "      <td>-2.467279</td>\n",
       "    </tr>\n",
       "    <tr>\n",
       "      <th>1</th>\n",
       "      <td>0.360829</td>\n",
       "      <td>-0.128103</td>\n",
       "      <td>-1.200838</td>\n",
       "      <td>0.466345</td>\n",
       "    </tr>\n",
       "    <tr>\n",
       "      <th>2</th>\n",
       "      <td>0.329710</td>\n",
       "      <td>-0.591857</td>\n",
       "      <td>-1.867441</td>\n",
       "      <td>-0.201754</td>\n",
       "    </tr>\n",
       "    <tr>\n",
       "      <th>3</th>\n",
       "      <td>0.000596</td>\n",
       "      <td>1.300387</td>\n",
       "      <td>-0.911819</td>\n",
       "      <td>-0.426114</td>\n",
       "    </tr>\n",
       "    <tr>\n",
       "      <th>4</th>\n",
       "      <td>-0.801240</td>\n",
       "      <td>-0.021433</td>\n",
       "      <td>-2.613296</td>\n",
       "      <td>-0.175055</td>\n",
       "    </tr>\n",
       "  </tbody>\n",
       "</table>\n",
       "</div>"
      ],
      "text/plain": [
       "          A         B         C         D\n",
       "0  0.558868 -1.104176  1.086918 -2.467279\n",
       "1  0.360829 -0.128103 -1.200838  0.466345\n",
       "2  0.329710 -0.591857 -1.867441 -0.201754\n",
       "3  0.000596  1.300387 -0.911819 -0.426114\n",
       "4 -0.801240 -0.021433 -2.613296 -0.175055"
      ]
     },
     "execution_count": 81,
     "metadata": {},
     "output_type": "execute_result"
    }
   ],
   "source": [
    "data_1 = pd.DataFrame(np.random.standard_normal((1000, 4)), columns=['A', 'B', 'C', 'D'])\n",
    "data_1.head()"
   ]
  },
  {
   "cell_type": "markdown",
   "id": "26b05bf0-61c0-4986-93fd-0c547a6fdfdd",
   "metadata": {},
   "source": [
    "### Ejercicio 2. Para el siguiente dataframe, filtrar los valores atípicos. En este caso los atípicos son aquellos valores mayores a 4 y menores a cero. Los plots son opcionales."
   ]
  },
  {
   "cell_type": "code",
   "execution_count": 82,
   "id": "e238aafa-8381-4b38-abaf-f5e394a7b009",
   "metadata": {},
   "outputs": [
    {
     "data": {
      "text/html": [
       "<div>\n",
       "<style scoped>\n",
       "    .dataframe tbody tr th:only-of-type {\n",
       "        vertical-align: middle;\n",
       "    }\n",
       "\n",
       "    .dataframe tbody tr th {\n",
       "        vertical-align: top;\n",
       "    }\n",
       "\n",
       "    .dataframe thead th {\n",
       "        text-align: right;\n",
       "    }\n",
       "</style>\n",
       "<table border=\"1\" class=\"dataframe\">\n",
       "  <thead>\n",
       "    <tr style=\"text-align: right;\">\n",
       "      <th></th>\n",
       "      <th>A</th>\n",
       "      <th>B</th>\n",
       "      <th>C</th>\n",
       "      <th>D</th>\n",
       "      <th>E</th>\n",
       "    </tr>\n",
       "  </thead>\n",
       "  <tbody>\n",
       "    <tr>\n",
       "      <th>0</th>\n",
       "      <td>4.229233</td>\n",
       "      <td>-4.525500</td>\n",
       "      <td>-2.686136</td>\n",
       "      <td>1.473225</td>\n",
       "      <td>2.211328</td>\n",
       "    </tr>\n",
       "    <tr>\n",
       "      <th>1</th>\n",
       "      <td>2.587560</td>\n",
       "      <td>-2.448072</td>\n",
       "      <td>1.137425</td>\n",
       "      <td>2.718450</td>\n",
       "      <td>-0.635909</td>\n",
       "    </tr>\n",
       "    <tr>\n",
       "      <th>2</th>\n",
       "      <td>-3.998965</td>\n",
       "      <td>2.891542</td>\n",
       "      <td>0.687665</td>\n",
       "      <td>3.348815</td>\n",
       "      <td>0.359226</td>\n",
       "    </tr>\n",
       "    <tr>\n",
       "      <th>3</th>\n",
       "      <td>-3.250490</td>\n",
       "      <td>0.464432</td>\n",
       "      <td>-3.992149</td>\n",
       "      <td>4.532664</td>\n",
       "      <td>-2.690771</td>\n",
       "    </tr>\n",
       "    <tr>\n",
       "      <th>4</th>\n",
       "      <td>-2.353984</td>\n",
       "      <td>1.222583</td>\n",
       "      <td>-0.072852</td>\n",
       "      <td>-2.723891</td>\n",
       "      <td>2.509658</td>\n",
       "    </tr>\n",
       "    <tr>\n",
       "      <th>...</th>\n",
       "      <td>...</td>\n",
       "      <td>...</td>\n",
       "      <td>...</td>\n",
       "      <td>...</td>\n",
       "      <td>...</td>\n",
       "    </tr>\n",
       "    <tr>\n",
       "      <th>995</th>\n",
       "      <td>4.618008</td>\n",
       "      <td>4.824005</td>\n",
       "      <td>4.023690</td>\n",
       "      <td>-1.548815</td>\n",
       "      <td>0.600647</td>\n",
       "    </tr>\n",
       "    <tr>\n",
       "      <th>996</th>\n",
       "      <td>4.060508</td>\n",
       "      <td>0.687780</td>\n",
       "      <td>-2.932022</td>\n",
       "      <td>0.031439</td>\n",
       "      <td>-0.325734</td>\n",
       "    </tr>\n",
       "    <tr>\n",
       "      <th>997</th>\n",
       "      <td>1.297167</td>\n",
       "      <td>-3.103775</td>\n",
       "      <td>4.944139</td>\n",
       "      <td>-1.113986</td>\n",
       "      <td>2.639106</td>\n",
       "    </tr>\n",
       "    <tr>\n",
       "      <th>998</th>\n",
       "      <td>-0.246397</td>\n",
       "      <td>-2.286624</td>\n",
       "      <td>4.968927</td>\n",
       "      <td>4.537330</td>\n",
       "      <td>0.866022</td>\n",
       "    </tr>\n",
       "    <tr>\n",
       "      <th>999</th>\n",
       "      <td>2.463327</td>\n",
       "      <td>-4.886119</td>\n",
       "      <td>-2.589334</td>\n",
       "      <td>2.490566</td>\n",
       "      <td>4.986734</td>\n",
       "    </tr>\n",
       "  </tbody>\n",
       "</table>\n",
       "<p>1000 rows × 5 columns</p>\n",
       "</div>"
      ],
      "text/plain": [
       "            A         B         C         D         E\n",
       "0    4.229233 -4.525500 -2.686136  1.473225  2.211328\n",
       "1    2.587560 -2.448072  1.137425  2.718450 -0.635909\n",
       "2   -3.998965  2.891542  0.687665  3.348815  0.359226\n",
       "3   -3.250490  0.464432 -3.992149  4.532664 -2.690771\n",
       "4   -2.353984  1.222583 -0.072852 -2.723891  2.509658\n",
       "..        ...       ...       ...       ...       ...\n",
       "995  4.618008  4.824005  4.023690 -1.548815  0.600647\n",
       "996  4.060508  0.687780 -2.932022  0.031439 -0.325734\n",
       "997  1.297167 -3.103775  4.944139 -1.113986  2.639106\n",
       "998 -0.246397 -2.286624  4.968927  4.537330  0.866022\n",
       "999  2.463327 -4.886119 -2.589334  2.490566  4.986734\n",
       "\n",
       "[1000 rows x 5 columns]"
      ]
     },
     "execution_count": 82,
     "metadata": {},
     "output_type": "execute_result"
    }
   ],
   "source": [
    "data_2 = pd.DataFrame(np.random.uniform(-5, 5, size=(1000, 5)), columns=['A', 'B', 'C', 'D', 'E'])\n",
    "data_2"
   ]
  },
  {
   "cell_type": "markdown",
   "id": "9c5df48c",
   "metadata": {
    "slideshow": {
     "slide_type": "slide"
    }
   },
   "source": [
    "### 2.5 Permutación y muestreo aleatorio"
   ]
  },
  {
   "cell_type": "markdown",
   "id": "e079a90a",
   "metadata": {},
   "source": [
    "Es posible permutar (reordenar aleatoriamente) una Serie o las filas de un DataFrame usando la función `numpy.random.permutation`. Llamar a `permutation` con la longitud del eje que se desea permutar produce un array de enteros que indican el nuevo ordenamiento:"
   ]
  },
  {
   "cell_type": "code",
   "execution_count": 83,
   "id": "7c7f112c",
   "metadata": {},
   "outputs": [
    {
     "data": {
      "text/html": [
       "<div>\n",
       "<style scoped>\n",
       "    .dataframe tbody tr th:only-of-type {\n",
       "        vertical-align: middle;\n",
       "    }\n",
       "\n",
       "    .dataframe tbody tr th {\n",
       "        vertical-align: top;\n",
       "    }\n",
       "\n",
       "    .dataframe thead th {\n",
       "        text-align: right;\n",
       "    }\n",
       "</style>\n",
       "<table border=\"1\" class=\"dataframe\">\n",
       "  <thead>\n",
       "    <tr style=\"text-align: right;\">\n",
       "      <th></th>\n",
       "      <th>0</th>\n",
       "      <th>1</th>\n",
       "      <th>2</th>\n",
       "      <th>3</th>\n",
       "      <th>4</th>\n",
       "      <th>5</th>\n",
       "      <th>6</th>\n",
       "    </tr>\n",
       "  </thead>\n",
       "  <tbody>\n",
       "    <tr>\n",
       "      <th>0</th>\n",
       "      <td>0</td>\n",
       "      <td>1</td>\n",
       "      <td>2</td>\n",
       "      <td>3</td>\n",
       "      <td>4</td>\n",
       "      <td>5</td>\n",
       "      <td>6</td>\n",
       "    </tr>\n",
       "    <tr>\n",
       "      <th>1</th>\n",
       "      <td>7</td>\n",
       "      <td>8</td>\n",
       "      <td>9</td>\n",
       "      <td>10</td>\n",
       "      <td>11</td>\n",
       "      <td>12</td>\n",
       "      <td>13</td>\n",
       "    </tr>\n",
       "    <tr>\n",
       "      <th>2</th>\n",
       "      <td>14</td>\n",
       "      <td>15</td>\n",
       "      <td>16</td>\n",
       "      <td>17</td>\n",
       "      <td>18</td>\n",
       "      <td>19</td>\n",
       "      <td>20</td>\n",
       "    </tr>\n",
       "    <tr>\n",
       "      <th>3</th>\n",
       "      <td>21</td>\n",
       "      <td>22</td>\n",
       "      <td>23</td>\n",
       "      <td>24</td>\n",
       "      <td>25</td>\n",
       "      <td>26</td>\n",
       "      <td>27</td>\n",
       "    </tr>\n",
       "    <tr>\n",
       "      <th>4</th>\n",
       "      <td>28</td>\n",
       "      <td>29</td>\n",
       "      <td>30</td>\n",
       "      <td>31</td>\n",
       "      <td>32</td>\n",
       "      <td>33</td>\n",
       "      <td>34</td>\n",
       "    </tr>\n",
       "  </tbody>\n",
       "</table>\n",
       "</div>"
      ],
      "text/plain": [
       "    0   1   2   3   4   5   6\n",
       "0   0   1   2   3   4   5   6\n",
       "1   7   8   9  10  11  12  13\n",
       "2  14  15  16  17  18  19  20\n",
       "3  21  22  23  24  25  26  27\n",
       "4  28  29  30  31  32  33  34"
      ]
     },
     "execution_count": 83,
     "metadata": {},
     "output_type": "execute_result"
    }
   ],
   "source": [
    "df = pd.DataFrame(np.arange(5 * 7).reshape((5, 7)))\n",
    "df"
   ]
  },
  {
   "cell_type": "code",
   "execution_count": 84,
   "id": "0bc116dd",
   "metadata": {
    "slideshow": {
     "slide_type": "slide"
    }
   },
   "outputs": [
    {
     "data": {
      "text/plain": [
       "array([0, 1, 4, 2, 3], dtype=int32)"
      ]
     },
     "execution_count": 84,
     "metadata": {},
     "output_type": "execute_result"
    }
   ],
   "source": [
    "sampler = np.random.permutation(5)\n",
    "sampler"
   ]
  },
  {
   "cell_type": "markdown",
   "id": "d26bd3da",
   "metadata": {
    "slideshow": {
     "slide_type": "slide"
    }
   },
   "source": [
    "Este array puede utilizarse entonces en la indexación basada en `iloc` o en la función equivalente `take()\n",
    "` :"
   ]
  },
  {
   "cell_type": "code",
   "execution_count": 85,
   "id": "98b2519f",
   "metadata": {
    "slideshow": {
     "slide_type": "slide"
    }
   },
   "outputs": [
    {
     "data": {
      "text/html": [
       "<div>\n",
       "<style scoped>\n",
       "    .dataframe tbody tr th:only-of-type {\n",
       "        vertical-align: middle;\n",
       "    }\n",
       "\n",
       "    .dataframe tbody tr th {\n",
       "        vertical-align: top;\n",
       "    }\n",
       "\n",
       "    .dataframe thead th {\n",
       "        text-align: right;\n",
       "    }\n",
       "</style>\n",
       "<table border=\"1\" class=\"dataframe\">\n",
       "  <thead>\n",
       "    <tr style=\"text-align: right;\">\n",
       "      <th></th>\n",
       "      <th>0</th>\n",
       "      <th>1</th>\n",
       "      <th>2</th>\n",
       "      <th>3</th>\n",
       "      <th>4</th>\n",
       "      <th>5</th>\n",
       "      <th>6</th>\n",
       "    </tr>\n",
       "  </thead>\n",
       "  <tbody>\n",
       "    <tr>\n",
       "      <th>0</th>\n",
       "      <td>0</td>\n",
       "      <td>1</td>\n",
       "      <td>2</td>\n",
       "      <td>3</td>\n",
       "      <td>4</td>\n",
       "      <td>5</td>\n",
       "      <td>6</td>\n",
       "    </tr>\n",
       "    <tr>\n",
       "      <th>1</th>\n",
       "      <td>7</td>\n",
       "      <td>8</td>\n",
       "      <td>9</td>\n",
       "      <td>10</td>\n",
       "      <td>11</td>\n",
       "      <td>12</td>\n",
       "      <td>13</td>\n",
       "    </tr>\n",
       "    <tr>\n",
       "      <th>4</th>\n",
       "      <td>28</td>\n",
       "      <td>29</td>\n",
       "      <td>30</td>\n",
       "      <td>31</td>\n",
       "      <td>32</td>\n",
       "      <td>33</td>\n",
       "      <td>34</td>\n",
       "    </tr>\n",
       "    <tr>\n",
       "      <th>2</th>\n",
       "      <td>14</td>\n",
       "      <td>15</td>\n",
       "      <td>16</td>\n",
       "      <td>17</td>\n",
       "      <td>18</td>\n",
       "      <td>19</td>\n",
       "      <td>20</td>\n",
       "    </tr>\n",
       "    <tr>\n",
       "      <th>3</th>\n",
       "      <td>21</td>\n",
       "      <td>22</td>\n",
       "      <td>23</td>\n",
       "      <td>24</td>\n",
       "      <td>25</td>\n",
       "      <td>26</td>\n",
       "      <td>27</td>\n",
       "    </tr>\n",
       "  </tbody>\n",
       "</table>\n",
       "</div>"
      ],
      "text/plain": [
       "    0   1   2   3   4   5   6\n",
       "0   0   1   2   3   4   5   6\n",
       "1   7   8   9  10  11  12  13\n",
       "4  28  29  30  31  32  33  34\n",
       "2  14  15  16  17  18  19  20\n",
       "3  21  22  23  24  25  26  27"
      ]
     },
     "execution_count": 85,
     "metadata": {},
     "output_type": "execute_result"
    }
   ],
   "source": [
    "df.take(sampler)\n",
    "# Reordena las filas del DataFrame df según el índice proporcionado por sampler."
   ]
  },
  {
   "cell_type": "code",
   "execution_count": 86,
   "id": "c104a032",
   "metadata": {
    "slideshow": {
     "slide_type": "slide"
    }
   },
   "outputs": [
    {
     "data": {
      "text/html": [
       "<div>\n",
       "<style scoped>\n",
       "    .dataframe tbody tr th:only-of-type {\n",
       "        vertical-align: middle;\n",
       "    }\n",
       "\n",
       "    .dataframe tbody tr th {\n",
       "        vertical-align: top;\n",
       "    }\n",
       "\n",
       "    .dataframe thead th {\n",
       "        text-align: right;\n",
       "    }\n",
       "</style>\n",
       "<table border=\"1\" class=\"dataframe\">\n",
       "  <thead>\n",
       "    <tr style=\"text-align: right;\">\n",
       "      <th></th>\n",
       "      <th>0</th>\n",
       "      <th>1</th>\n",
       "      <th>2</th>\n",
       "      <th>3</th>\n",
       "      <th>4</th>\n",
       "      <th>5</th>\n",
       "      <th>6</th>\n",
       "    </tr>\n",
       "  </thead>\n",
       "  <tbody>\n",
       "    <tr>\n",
       "      <th>0</th>\n",
       "      <td>0</td>\n",
       "      <td>1</td>\n",
       "      <td>2</td>\n",
       "      <td>3</td>\n",
       "      <td>4</td>\n",
       "      <td>5</td>\n",
       "      <td>6</td>\n",
       "    </tr>\n",
       "    <tr>\n",
       "      <th>1</th>\n",
       "      <td>7</td>\n",
       "      <td>8</td>\n",
       "      <td>9</td>\n",
       "      <td>10</td>\n",
       "      <td>11</td>\n",
       "      <td>12</td>\n",
       "      <td>13</td>\n",
       "    </tr>\n",
       "    <tr>\n",
       "      <th>4</th>\n",
       "      <td>28</td>\n",
       "      <td>29</td>\n",
       "      <td>30</td>\n",
       "      <td>31</td>\n",
       "      <td>32</td>\n",
       "      <td>33</td>\n",
       "      <td>34</td>\n",
       "    </tr>\n",
       "    <tr>\n",
       "      <th>2</th>\n",
       "      <td>14</td>\n",
       "      <td>15</td>\n",
       "      <td>16</td>\n",
       "      <td>17</td>\n",
       "      <td>18</td>\n",
       "      <td>19</td>\n",
       "      <td>20</td>\n",
       "    </tr>\n",
       "    <tr>\n",
       "      <th>3</th>\n",
       "      <td>21</td>\n",
       "      <td>22</td>\n",
       "      <td>23</td>\n",
       "      <td>24</td>\n",
       "      <td>25</td>\n",
       "      <td>26</td>\n",
       "      <td>27</td>\n",
       "    </tr>\n",
       "  </tbody>\n",
       "</table>\n",
       "</div>"
      ],
      "text/plain": [
       "    0   1   2   3   4   5   6\n",
       "0   0   1   2   3   4   5   6\n",
       "1   7   8   9  10  11  12  13\n",
       "4  28  29  30  31  32  33  34\n",
       "2  14  15  16  17  18  19  20\n",
       "3  21  22  23  24  25  26  27"
      ]
     },
     "execution_count": 86,
     "metadata": {},
     "output_type": "execute_result"
    }
   ],
   "source": [
    "df.iloc[sampler]"
   ]
  },
  {
   "cell_type": "markdown",
   "id": "06874d45",
   "metadata": {
    "slideshow": {
     "slide_type": "slide"
    }
   },
   "source": [
    "Invocando `take()` con `axis=\"columns\"`, también podríamos seleccionar una permutación de las columnas:"
   ]
  },
  {
   "cell_type": "code",
   "execution_count": 87,
   "id": "6e4f9aad",
   "metadata": {
    "slideshow": {
     "slide_type": "slide"
    }
   },
   "outputs": [
    {
     "data": {
      "text/plain": [
       "array([0, 6, 2, 4, 5, 1, 3], dtype=int32)"
      ]
     },
     "execution_count": 87,
     "metadata": {},
     "output_type": "execute_result"
    }
   ],
   "source": [
    "column_sampler = np.random.permutation(7)\n",
    "column_sampler"
   ]
  },
  {
   "cell_type": "code",
   "execution_count": 88,
   "id": "2122d9e9",
   "metadata": {
    "slideshow": {
     "slide_type": "slide"
    }
   },
   "outputs": [
    {
     "data": {
      "text/html": [
       "<div>\n",
       "<style scoped>\n",
       "    .dataframe tbody tr th:only-of-type {\n",
       "        vertical-align: middle;\n",
       "    }\n",
       "\n",
       "    .dataframe tbody tr th {\n",
       "        vertical-align: top;\n",
       "    }\n",
       "\n",
       "    .dataframe thead th {\n",
       "        text-align: right;\n",
       "    }\n",
       "</style>\n",
       "<table border=\"1\" class=\"dataframe\">\n",
       "  <thead>\n",
       "    <tr style=\"text-align: right;\">\n",
       "      <th></th>\n",
       "      <th>0</th>\n",
       "      <th>6</th>\n",
       "      <th>2</th>\n",
       "      <th>4</th>\n",
       "      <th>5</th>\n",
       "      <th>1</th>\n",
       "      <th>3</th>\n",
       "    </tr>\n",
       "  </thead>\n",
       "  <tbody>\n",
       "    <tr>\n",
       "      <th>0</th>\n",
       "      <td>0</td>\n",
       "      <td>6</td>\n",
       "      <td>2</td>\n",
       "      <td>4</td>\n",
       "      <td>5</td>\n",
       "      <td>1</td>\n",
       "      <td>3</td>\n",
       "    </tr>\n",
       "    <tr>\n",
       "      <th>1</th>\n",
       "      <td>7</td>\n",
       "      <td>13</td>\n",
       "      <td>9</td>\n",
       "      <td>11</td>\n",
       "      <td>12</td>\n",
       "      <td>8</td>\n",
       "      <td>10</td>\n",
       "    </tr>\n",
       "    <tr>\n",
       "      <th>2</th>\n",
       "      <td>14</td>\n",
       "      <td>20</td>\n",
       "      <td>16</td>\n",
       "      <td>18</td>\n",
       "      <td>19</td>\n",
       "      <td>15</td>\n",
       "      <td>17</td>\n",
       "    </tr>\n",
       "    <tr>\n",
       "      <th>3</th>\n",
       "      <td>21</td>\n",
       "      <td>27</td>\n",
       "      <td>23</td>\n",
       "      <td>25</td>\n",
       "      <td>26</td>\n",
       "      <td>22</td>\n",
       "      <td>24</td>\n",
       "    </tr>\n",
       "    <tr>\n",
       "      <th>4</th>\n",
       "      <td>28</td>\n",
       "      <td>34</td>\n",
       "      <td>30</td>\n",
       "      <td>32</td>\n",
       "      <td>33</td>\n",
       "      <td>29</td>\n",
       "      <td>31</td>\n",
       "    </tr>\n",
       "  </tbody>\n",
       "</table>\n",
       "</div>"
      ],
      "text/plain": [
       "    0   6   2   4   5   1   3\n",
       "0   0   6   2   4   5   1   3\n",
       "1   7  13   9  11  12   8  10\n",
       "2  14  20  16  18  19  15  17\n",
       "3  21  27  23  25  26  22  24\n",
       "4  28  34  30  32  33  29  31"
      ]
     },
     "execution_count": 88,
     "metadata": {},
     "output_type": "execute_result"
    }
   ],
   "source": [
    "df.take(column_sampler, axis=\"columns\")"
   ]
  },
  {
   "cell_type": "markdown",
   "id": "2dc2fe8f",
   "metadata": {
    "slideshow": {
     "slide_type": "slide"
    }
   },
   "source": [
    "Si se necesita seleccionar un subconjunto aleatorio (ramdom subset) sin reemplazo (la misma fila no puede aparecer dos veces), puede utilizar el método `sample()` en Series y DataFrame:"
   ]
  },
  {
   "cell_type": "code",
   "execution_count": 89,
   "id": "c1f76499-4583-4ab3-9156-6f29c44d245b",
   "metadata": {},
   "outputs": [
    {
     "data": {
      "text/html": [
       "<div>\n",
       "<style scoped>\n",
       "    .dataframe tbody tr th:only-of-type {\n",
       "        vertical-align: middle;\n",
       "    }\n",
       "\n",
       "    .dataframe tbody tr th {\n",
       "        vertical-align: top;\n",
       "    }\n",
       "\n",
       "    .dataframe thead th {\n",
       "        text-align: right;\n",
       "    }\n",
       "</style>\n",
       "<table border=\"1\" class=\"dataframe\">\n",
       "  <thead>\n",
       "    <tr style=\"text-align: right;\">\n",
       "      <th></th>\n",
       "      <th>0</th>\n",
       "      <th>1</th>\n",
       "      <th>2</th>\n",
       "      <th>3</th>\n",
       "      <th>4</th>\n",
       "      <th>5</th>\n",
       "      <th>6</th>\n",
       "    </tr>\n",
       "  </thead>\n",
       "  <tbody>\n",
       "    <tr>\n",
       "      <th>0</th>\n",
       "      <td>0</td>\n",
       "      <td>1</td>\n",
       "      <td>2</td>\n",
       "      <td>3</td>\n",
       "      <td>4</td>\n",
       "      <td>5</td>\n",
       "      <td>6</td>\n",
       "    </tr>\n",
       "    <tr>\n",
       "      <th>1</th>\n",
       "      <td>7</td>\n",
       "      <td>8</td>\n",
       "      <td>9</td>\n",
       "      <td>10</td>\n",
       "      <td>11</td>\n",
       "      <td>12</td>\n",
       "      <td>13</td>\n",
       "    </tr>\n",
       "    <tr>\n",
       "      <th>2</th>\n",
       "      <td>14</td>\n",
       "      <td>15</td>\n",
       "      <td>16</td>\n",
       "      <td>17</td>\n",
       "      <td>18</td>\n",
       "      <td>19</td>\n",
       "      <td>20</td>\n",
       "    </tr>\n",
       "    <tr>\n",
       "      <th>3</th>\n",
       "      <td>21</td>\n",
       "      <td>22</td>\n",
       "      <td>23</td>\n",
       "      <td>24</td>\n",
       "      <td>25</td>\n",
       "      <td>26</td>\n",
       "      <td>27</td>\n",
       "    </tr>\n",
       "    <tr>\n",
       "      <th>4</th>\n",
       "      <td>28</td>\n",
       "      <td>29</td>\n",
       "      <td>30</td>\n",
       "      <td>31</td>\n",
       "      <td>32</td>\n",
       "      <td>33</td>\n",
       "      <td>34</td>\n",
       "    </tr>\n",
       "  </tbody>\n",
       "</table>\n",
       "</div>"
      ],
      "text/plain": [
       "    0   1   2   3   4   5   6\n",
       "0   0   1   2   3   4   5   6\n",
       "1   7   8   9  10  11  12  13\n",
       "2  14  15  16  17  18  19  20\n",
       "3  21  22  23  24  25  26  27\n",
       "4  28  29  30  31  32  33  34"
      ]
     },
     "execution_count": 89,
     "metadata": {},
     "output_type": "execute_result"
    }
   ],
   "source": [
    "df"
   ]
  },
  {
   "cell_type": "code",
   "execution_count": 90,
   "id": "e256af24",
   "metadata": {},
   "outputs": [
    {
     "data": {
      "text/html": [
       "<div>\n",
       "<style scoped>\n",
       "    .dataframe tbody tr th:only-of-type {\n",
       "        vertical-align: middle;\n",
       "    }\n",
       "\n",
       "    .dataframe tbody tr th {\n",
       "        vertical-align: top;\n",
       "    }\n",
       "\n",
       "    .dataframe thead th {\n",
       "        text-align: right;\n",
       "    }\n",
       "</style>\n",
       "<table border=\"1\" class=\"dataframe\">\n",
       "  <thead>\n",
       "    <tr style=\"text-align: right;\">\n",
       "      <th></th>\n",
       "      <th>0</th>\n",
       "      <th>1</th>\n",
       "      <th>2</th>\n",
       "      <th>3</th>\n",
       "      <th>4</th>\n",
       "      <th>5</th>\n",
       "      <th>6</th>\n",
       "    </tr>\n",
       "  </thead>\n",
       "  <tbody>\n",
       "    <tr>\n",
       "      <th>4</th>\n",
       "      <td>28</td>\n",
       "      <td>29</td>\n",
       "      <td>30</td>\n",
       "      <td>31</td>\n",
       "      <td>32</td>\n",
       "      <td>33</td>\n",
       "      <td>34</td>\n",
       "    </tr>\n",
       "    <tr>\n",
       "      <th>2</th>\n",
       "      <td>14</td>\n",
       "      <td>15</td>\n",
       "      <td>16</td>\n",
       "      <td>17</td>\n",
       "      <td>18</td>\n",
       "      <td>19</td>\n",
       "      <td>20</td>\n",
       "    </tr>\n",
       "    <tr>\n",
       "      <th>1</th>\n",
       "      <td>7</td>\n",
       "      <td>8</td>\n",
       "      <td>9</td>\n",
       "      <td>10</td>\n",
       "      <td>11</td>\n",
       "      <td>12</td>\n",
       "      <td>13</td>\n",
       "    </tr>\n",
       "  </tbody>\n",
       "</table>\n",
       "</div>"
      ],
      "text/plain": [
       "    0   1   2   3   4   5   6\n",
       "4  28  29  30  31  32  33  34\n",
       "2  14  15  16  17  18  19  20\n",
       "1   7   8   9  10  11  12  13"
      ]
     },
     "execution_count": 90,
     "metadata": {},
     "output_type": "execute_result"
    }
   ],
   "source": [
    "df.sample(n=3)"
   ]
  },
  {
   "cell_type": "markdown",
   "id": "d5f657b2",
   "metadata": {
    "slideshow": {
     "slide_type": "slide"
    }
   },
   "source": [
    "Para generar una muestra con reemplazo (para permitir elecciones repetidas), pase `replace=True` a `sample()`:"
   ]
  },
  {
   "cell_type": "code",
   "execution_count": 91,
   "id": "3afdd34b",
   "metadata": {},
   "outputs": [
    {
     "data": {
      "text/plain": [
       "0    5\n",
       "1    7\n",
       "2   -1\n",
       "3    6\n",
       "4    4\n",
       "dtype: int64"
      ]
     },
     "execution_count": 91,
     "metadata": {},
     "output_type": "execute_result"
    }
   ],
   "source": [
    "choices = pd.Series([5, 7, -1, 6, 4])\n",
    "choices"
   ]
  },
  {
   "cell_type": "code",
   "execution_count": 92,
   "id": "52393ac2",
   "metadata": {
    "slideshow": {
     "slide_type": "slide"
    }
   },
   "outputs": [
    {
     "data": {
      "text/plain": [
       "2   -1\n",
       "2   -1\n",
       "1    7\n",
       "3    6\n",
       "0    5\n",
       "4    4\n",
       "3    6\n",
       "4    4\n",
       "4    4\n",
       "3    6\n",
       "dtype: int64"
      ]
     },
     "execution_count": 92,
     "metadata": {},
     "output_type": "execute_result"
    }
   ],
   "source": [
    "choices.sample(n=10, replace=True)"
   ]
  },
  {
   "cell_type": "markdown",
   "id": "d760d51e",
   "metadata": {
    "slideshow": {
     "slide_type": "slide"
    }
   },
   "source": [
    "### 2.6 Cálculo de indicadores/variables ficticias (dummy)"
   ]
  },
  {
   "cell_type": "markdown",
   "id": "4e21f561",
   "metadata": {},
   "source": [
    "Otro tipo de transformación que se utiliza mucho para modelado estadístico o aplicaciones de aprendizaje automático es convertir una `variable categórica` en un array de dummies o indicadores, en otras palabras convertir categorías a números. Si una columna en un DataFrame tiene k valores distintos, se derivaría un array o DataFrame con k columnas que contengan todos los 1s y 0s. Pandas tiene una función `pandas.get_dummies()` para hacer esto, aunque también podría idear una usted mismo. Veamos un ejemplo de DataFrame:"
   ]
  },
  {
   "cell_type": "code",
   "execution_count": 93,
   "id": "ce0c01ea",
   "metadata": {
    "slideshow": {
     "slide_type": "slide"
    }
   },
   "outputs": [
    {
     "data": {
      "text/html": [
       "<div>\n",
       "<style scoped>\n",
       "    .dataframe tbody tr th:only-of-type {\n",
       "        vertical-align: middle;\n",
       "    }\n",
       "\n",
       "    .dataframe tbody tr th {\n",
       "        vertical-align: top;\n",
       "    }\n",
       "\n",
       "    .dataframe thead th {\n",
       "        text-align: right;\n",
       "    }\n",
       "</style>\n",
       "<table border=\"1\" class=\"dataframe\">\n",
       "  <thead>\n",
       "    <tr style=\"text-align: right;\">\n",
       "      <th></th>\n",
       "      <th>key</th>\n",
       "      <th>data1</th>\n",
       "    </tr>\n",
       "  </thead>\n",
       "  <tbody>\n",
       "    <tr>\n",
       "      <th>0</th>\n",
       "      <td>b</td>\n",
       "      <td>0</td>\n",
       "    </tr>\n",
       "    <tr>\n",
       "      <th>1</th>\n",
       "      <td>b</td>\n",
       "      <td>1</td>\n",
       "    </tr>\n",
       "    <tr>\n",
       "      <th>2</th>\n",
       "      <td>a</td>\n",
       "      <td>2</td>\n",
       "    </tr>\n",
       "    <tr>\n",
       "      <th>3</th>\n",
       "      <td>c</td>\n",
       "      <td>3</td>\n",
       "    </tr>\n",
       "    <tr>\n",
       "      <th>4</th>\n",
       "      <td>a</td>\n",
       "      <td>4</td>\n",
       "    </tr>\n",
       "    <tr>\n",
       "      <th>5</th>\n",
       "      <td>b</td>\n",
       "      <td>5</td>\n",
       "    </tr>\n",
       "  </tbody>\n",
       "</table>\n",
       "</div>"
      ],
      "text/plain": [
       "  key  data1\n",
       "0   b      0\n",
       "1   b      1\n",
       "2   a      2\n",
       "3   c      3\n",
       "4   a      4\n",
       "5   b      5"
      ]
     },
     "execution_count": 93,
     "metadata": {},
     "output_type": "execute_result"
    }
   ],
   "source": [
    "df = pd.DataFrame({\"key\": [\"b\", \"b\", \"a\", \"c\", \"a\", \"b\"],\n",
    "                   \"data1\": range(6)})\n",
    "df"
   ]
  },
  {
   "cell_type": "code",
   "execution_count": 94,
   "id": "1024c694",
   "metadata": {
    "slideshow": {
     "slide_type": "slide"
    }
   },
   "outputs": [
    {
     "data": {
      "text/html": [
       "<div>\n",
       "<style scoped>\n",
       "    .dataframe tbody tr th:only-of-type {\n",
       "        vertical-align: middle;\n",
       "    }\n",
       "\n",
       "    .dataframe tbody tr th {\n",
       "        vertical-align: top;\n",
       "    }\n",
       "\n",
       "    .dataframe thead th {\n",
       "        text-align: right;\n",
       "    }\n",
       "</style>\n",
       "<table border=\"1\" class=\"dataframe\">\n",
       "  <thead>\n",
       "    <tr style=\"text-align: right;\">\n",
       "      <th></th>\n",
       "      <th>a</th>\n",
       "      <th>b</th>\n",
       "      <th>c</th>\n",
       "    </tr>\n",
       "  </thead>\n",
       "  <tbody>\n",
       "    <tr>\n",
       "      <th>0</th>\n",
       "      <td>0.0</td>\n",
       "      <td>1.0</td>\n",
       "      <td>0.0</td>\n",
       "    </tr>\n",
       "    <tr>\n",
       "      <th>1</th>\n",
       "      <td>0.0</td>\n",
       "      <td>1.0</td>\n",
       "      <td>0.0</td>\n",
       "    </tr>\n",
       "    <tr>\n",
       "      <th>2</th>\n",
       "      <td>1.0</td>\n",
       "      <td>0.0</td>\n",
       "      <td>0.0</td>\n",
       "    </tr>\n",
       "    <tr>\n",
       "      <th>3</th>\n",
       "      <td>0.0</td>\n",
       "      <td>0.0</td>\n",
       "      <td>1.0</td>\n",
       "    </tr>\n",
       "    <tr>\n",
       "      <th>4</th>\n",
       "      <td>1.0</td>\n",
       "      <td>0.0</td>\n",
       "      <td>0.0</td>\n",
       "    </tr>\n",
       "    <tr>\n",
       "      <th>5</th>\n",
       "      <td>0.0</td>\n",
       "      <td>1.0</td>\n",
       "      <td>0.0</td>\n",
       "    </tr>\n",
       "  </tbody>\n",
       "</table>\n",
       "</div>"
      ],
      "text/plain": [
       "     a    b    c\n",
       "0  0.0  1.0  0.0\n",
       "1  0.0  1.0  0.0\n",
       "2  1.0  0.0  0.0\n",
       "3  0.0  0.0  1.0\n",
       "4  1.0  0.0  0.0\n",
       "5  0.0  1.0  0.0"
      ]
     },
     "execution_count": 94,
     "metadata": {},
     "output_type": "execute_result"
    }
   ],
   "source": [
    "pd.get_dummies(df[\"key\"], dtype=float)"
   ]
  },
  {
   "cell_type": "markdown",
   "id": "f4308e53",
   "metadata": {},
   "source": [
    "Aquí se ha pasado `dtype=float` para cambiar el tipo de salida de boolean (el predeterminado en las versiones más recientes de pandas) a coma flotante (floating point)."
   ]
  },
  {
   "cell_type": "code",
   "execution_count": 95,
   "id": "ac0f82ee-873a-4de0-b032-a3befdb382f4",
   "metadata": {},
   "outputs": [
    {
     "data": {
      "text/html": [
       "<div>\n",
       "<style scoped>\n",
       "    .dataframe tbody tr th:only-of-type {\n",
       "        vertical-align: middle;\n",
       "    }\n",
       "\n",
       "    .dataframe tbody tr th {\n",
       "        vertical-align: top;\n",
       "    }\n",
       "\n",
       "    .dataframe thead th {\n",
       "        text-align: right;\n",
       "    }\n",
       "</style>\n",
       "<table border=\"1\" class=\"dataframe\">\n",
       "  <thead>\n",
       "    <tr style=\"text-align: right;\">\n",
       "      <th></th>\n",
       "      <th>a</th>\n",
       "      <th>b</th>\n",
       "      <th>c</th>\n",
       "    </tr>\n",
       "  </thead>\n",
       "  <tbody>\n",
       "    <tr>\n",
       "      <th>0</th>\n",
       "      <td>False</td>\n",
       "      <td>True</td>\n",
       "      <td>False</td>\n",
       "    </tr>\n",
       "    <tr>\n",
       "      <th>1</th>\n",
       "      <td>False</td>\n",
       "      <td>True</td>\n",
       "      <td>False</td>\n",
       "    </tr>\n",
       "    <tr>\n",
       "      <th>2</th>\n",
       "      <td>True</td>\n",
       "      <td>False</td>\n",
       "      <td>False</td>\n",
       "    </tr>\n",
       "    <tr>\n",
       "      <th>3</th>\n",
       "      <td>False</td>\n",
       "      <td>False</td>\n",
       "      <td>True</td>\n",
       "    </tr>\n",
       "    <tr>\n",
       "      <th>4</th>\n",
       "      <td>True</td>\n",
       "      <td>False</td>\n",
       "      <td>False</td>\n",
       "    </tr>\n",
       "    <tr>\n",
       "      <th>5</th>\n",
       "      <td>False</td>\n",
       "      <td>True</td>\n",
       "      <td>False</td>\n",
       "    </tr>\n",
       "  </tbody>\n",
       "</table>\n",
       "</div>"
      ],
      "text/plain": [
       "       a      b      c\n",
       "0  False   True  False\n",
       "1  False   True  False\n",
       "2   True  False  False\n",
       "3  False  False   True\n",
       "4   True  False  False\n",
       "5  False   True  False"
      ]
     },
     "execution_count": 95,
     "metadata": {},
     "output_type": "execute_result"
    }
   ],
   "source": [
    "df_1 = pd.get_dummies(df[\"key\"])\n",
    "df_1"
   ]
  },
  {
   "cell_type": "markdown",
   "id": "66ed13d8",
   "metadata": {
    "slideshow": {
     "slide_type": "slide"
    }
   },
   "source": [
    "En algunos casos, es posible que desee añadir un prefijo a las columnas en el DataFrame del indicador, que luego se pueden fusionar con los otros datos. `pandas.get_dummies` tiene un argumento de prefijo para hacer esto:"
   ]
  },
  {
   "cell_type": "code",
   "execution_count": 96,
   "id": "70ddf56c",
   "metadata": {
    "slideshow": {
     "slide_type": "slide"
    }
   },
   "outputs": [
    {
     "data": {
      "text/html": [
       "<div>\n",
       "<style scoped>\n",
       "    .dataframe tbody tr th:only-of-type {\n",
       "        vertical-align: middle;\n",
       "    }\n",
       "\n",
       "    .dataframe tbody tr th {\n",
       "        vertical-align: top;\n",
       "    }\n",
       "\n",
       "    .dataframe thead th {\n",
       "        text-align: right;\n",
       "    }\n",
       "</style>\n",
       "<table border=\"1\" class=\"dataframe\">\n",
       "  <thead>\n",
       "    <tr style=\"text-align: right;\">\n",
       "      <th></th>\n",
       "      <th>key_a</th>\n",
       "      <th>key_b</th>\n",
       "      <th>key_c</th>\n",
       "    </tr>\n",
       "  </thead>\n",
       "  <tbody>\n",
       "    <tr>\n",
       "      <th>0</th>\n",
       "      <td>0.0</td>\n",
       "      <td>1.0</td>\n",
       "      <td>0.0</td>\n",
       "    </tr>\n",
       "    <tr>\n",
       "      <th>1</th>\n",
       "      <td>0.0</td>\n",
       "      <td>1.0</td>\n",
       "      <td>0.0</td>\n",
       "    </tr>\n",
       "    <tr>\n",
       "      <th>2</th>\n",
       "      <td>1.0</td>\n",
       "      <td>0.0</td>\n",
       "      <td>0.0</td>\n",
       "    </tr>\n",
       "    <tr>\n",
       "      <th>3</th>\n",
       "      <td>0.0</td>\n",
       "      <td>0.0</td>\n",
       "      <td>1.0</td>\n",
       "    </tr>\n",
       "    <tr>\n",
       "      <th>4</th>\n",
       "      <td>1.0</td>\n",
       "      <td>0.0</td>\n",
       "      <td>0.0</td>\n",
       "    </tr>\n",
       "    <tr>\n",
       "      <th>5</th>\n",
       "      <td>0.0</td>\n",
       "      <td>1.0</td>\n",
       "      <td>0.0</td>\n",
       "    </tr>\n",
       "  </tbody>\n",
       "</table>\n",
       "</div>"
      ],
      "text/plain": [
       "   key_a  key_b  key_c\n",
       "0    0.0    1.0    0.0\n",
       "1    0.0    1.0    0.0\n",
       "2    1.0    0.0    0.0\n",
       "3    0.0    0.0    1.0\n",
       "4    1.0    0.0    0.0\n",
       "5    0.0    1.0    0.0"
      ]
     },
     "execution_count": 96,
     "metadata": {},
     "output_type": "execute_result"
    }
   ],
   "source": [
    "dummies = pd.get_dummies(df[\"key\"], prefix=\"key\", dtype=float)\n",
    "dummies"
   ]
  },
  {
   "cell_type": "code",
   "execution_count": 97,
   "id": "1db7903d",
   "metadata": {
    "slideshow": {
     "slide_type": "slide"
    }
   },
   "outputs": [
    {
     "data": {
      "text/html": [
       "<div>\n",
       "<style scoped>\n",
       "    .dataframe tbody tr th:only-of-type {\n",
       "        vertical-align: middle;\n",
       "    }\n",
       "\n",
       "    .dataframe tbody tr th {\n",
       "        vertical-align: top;\n",
       "    }\n",
       "\n",
       "    .dataframe thead th {\n",
       "        text-align: right;\n",
       "    }\n",
       "</style>\n",
       "<table border=\"1\" class=\"dataframe\">\n",
       "  <thead>\n",
       "    <tr style=\"text-align: right;\">\n",
       "      <th></th>\n",
       "      <th>data1</th>\n",
       "      <th>key_a</th>\n",
       "      <th>key_b</th>\n",
       "      <th>key_c</th>\n",
       "    </tr>\n",
       "  </thead>\n",
       "  <tbody>\n",
       "    <tr>\n",
       "      <th>0</th>\n",
       "      <td>0</td>\n",
       "      <td>0.0</td>\n",
       "      <td>1.0</td>\n",
       "      <td>0.0</td>\n",
       "    </tr>\n",
       "    <tr>\n",
       "      <th>1</th>\n",
       "      <td>1</td>\n",
       "      <td>0.0</td>\n",
       "      <td>1.0</td>\n",
       "      <td>0.0</td>\n",
       "    </tr>\n",
       "    <tr>\n",
       "      <th>2</th>\n",
       "      <td>2</td>\n",
       "      <td>1.0</td>\n",
       "      <td>0.0</td>\n",
       "      <td>0.0</td>\n",
       "    </tr>\n",
       "    <tr>\n",
       "      <th>3</th>\n",
       "      <td>3</td>\n",
       "      <td>0.0</td>\n",
       "      <td>0.0</td>\n",
       "      <td>1.0</td>\n",
       "    </tr>\n",
       "    <tr>\n",
       "      <th>4</th>\n",
       "      <td>4</td>\n",
       "      <td>1.0</td>\n",
       "      <td>0.0</td>\n",
       "      <td>0.0</td>\n",
       "    </tr>\n",
       "    <tr>\n",
       "      <th>5</th>\n",
       "      <td>5</td>\n",
       "      <td>0.0</td>\n",
       "      <td>1.0</td>\n",
       "      <td>0.0</td>\n",
       "    </tr>\n",
       "  </tbody>\n",
       "</table>\n",
       "</div>"
      ],
      "text/plain": [
       "   data1  key_a  key_b  key_c\n",
       "0      0    0.0    1.0    0.0\n",
       "1      1    0.0    1.0    0.0\n",
       "2      2    1.0    0.0    0.0\n",
       "3      3    0.0    0.0    1.0\n",
       "4      4    1.0    0.0    0.0\n",
       "5      5    0.0    1.0    0.0"
      ]
     },
     "execution_count": 97,
     "metadata": {},
     "output_type": "execute_result"
    }
   ],
   "source": [
    "df_with_dummy = df[[\"data1\"]].join(dummies) # .join lo veremos a detalle mas adelante\n",
    "df_with_dummy"
   ]
  },
  {
   "cell_type": "markdown",
   "id": "c67d1bb0-b249-4878-a03b-151071eded4d",
   "metadata": {},
   "source": [
    "Otro ejemplo"
   ]
  },
  {
   "cell_type": "code",
   "execution_count": 98,
   "id": "f4185a8d-0521-4d22-be02-2127407c0572",
   "metadata": {},
   "outputs": [
    {
     "data": {
      "text/html": [
       "<div>\n",
       "<style scoped>\n",
       "    .dataframe tbody tr th:only-of-type {\n",
       "        vertical-align: middle;\n",
       "    }\n",
       "\n",
       "    .dataframe tbody tr th {\n",
       "        vertical-align: top;\n",
       "    }\n",
       "\n",
       "    .dataframe thead th {\n",
       "        text-align: right;\n",
       "    }\n",
       "</style>\n",
       "<table border=\"1\" class=\"dataframe\">\n",
       "  <thead>\n",
       "    <tr style=\"text-align: right;\">\n",
       "      <th></th>\n",
       "      <th>key</th>\n",
       "      <th>data1</th>\n",
       "      <th>Colores</th>\n",
       "    </tr>\n",
       "  </thead>\n",
       "  <tbody>\n",
       "    <tr>\n",
       "      <th>0</th>\n",
       "      <td>b</td>\n",
       "      <td>0</td>\n",
       "      <td>Verde</td>\n",
       "    </tr>\n",
       "    <tr>\n",
       "      <th>1</th>\n",
       "      <td>b</td>\n",
       "      <td>1</td>\n",
       "      <td>Rojo</td>\n",
       "    </tr>\n",
       "    <tr>\n",
       "      <th>2</th>\n",
       "      <td>a</td>\n",
       "      <td>2</td>\n",
       "      <td>Verde</td>\n",
       "    </tr>\n",
       "    <tr>\n",
       "      <th>3</th>\n",
       "      <td>c</td>\n",
       "      <td>3</td>\n",
       "      <td>Amarillo</td>\n",
       "    </tr>\n",
       "    <tr>\n",
       "      <th>4</th>\n",
       "      <td>a</td>\n",
       "      <td>4</td>\n",
       "      <td>Rojo</td>\n",
       "    </tr>\n",
       "    <tr>\n",
       "      <th>5</th>\n",
       "      <td>b</td>\n",
       "      <td>5</td>\n",
       "      <td>Verde</td>\n",
       "    </tr>\n",
       "  </tbody>\n",
       "</table>\n",
       "</div>"
      ],
      "text/plain": [
       "  key  data1   Colores\n",
       "0   b      0     Verde\n",
       "1   b      1      Rojo\n",
       "2   a      2     Verde\n",
       "3   c      3  Amarillo\n",
       "4   a      4      Rojo\n",
       "5   b      5     Verde"
      ]
     },
     "execution_count": 98,
     "metadata": {},
     "output_type": "execute_result"
    }
   ],
   "source": [
    "df_2 = pd.DataFrame({\"key\": [\"b\", \"b\", \"a\", \"c\", \"a\", \"b\"],\n",
    "                   \"data1\": range(6),\n",
    "                   \"Colores\": [\"Verde\", \"Rojo\", \"Verde\", \"Amarillo\", \"Rojo\", \"Verde\"]})\n",
    "df_2"
   ]
  },
  {
   "cell_type": "code",
   "execution_count": 99,
   "id": "76029a7d-7881-4baa-9ff0-580295eb1601",
   "metadata": {},
   "outputs": [
    {
     "data": {
      "text/html": [
       "<div>\n",
       "<style scoped>\n",
       "    .dataframe tbody tr th:only-of-type {\n",
       "        vertical-align: middle;\n",
       "    }\n",
       "\n",
       "    .dataframe tbody tr th {\n",
       "        vertical-align: top;\n",
       "    }\n",
       "\n",
       "    .dataframe thead th {\n",
       "        text-align: right;\n",
       "    }\n",
       "</style>\n",
       "<table border=\"1\" class=\"dataframe\">\n",
       "  <thead>\n",
       "    <tr style=\"text-align: right;\">\n",
       "      <th></th>\n",
       "      <th>key_a</th>\n",
       "      <th>key_b</th>\n",
       "      <th>key_c</th>\n",
       "      <th>Colores_Amarillo</th>\n",
       "      <th>Colores_Rojo</th>\n",
       "      <th>Colores_Verde</th>\n",
       "    </tr>\n",
       "  </thead>\n",
       "  <tbody>\n",
       "    <tr>\n",
       "      <th>0</th>\n",
       "      <td>0.0</td>\n",
       "      <td>1.0</td>\n",
       "      <td>0.0</td>\n",
       "      <td>0.0</td>\n",
       "      <td>0.0</td>\n",
       "      <td>1.0</td>\n",
       "    </tr>\n",
       "    <tr>\n",
       "      <th>1</th>\n",
       "      <td>0.0</td>\n",
       "      <td>1.0</td>\n",
       "      <td>0.0</td>\n",
       "      <td>0.0</td>\n",
       "      <td>1.0</td>\n",
       "      <td>0.0</td>\n",
       "    </tr>\n",
       "    <tr>\n",
       "      <th>2</th>\n",
       "      <td>1.0</td>\n",
       "      <td>0.0</td>\n",
       "      <td>0.0</td>\n",
       "      <td>0.0</td>\n",
       "      <td>0.0</td>\n",
       "      <td>1.0</td>\n",
       "    </tr>\n",
       "    <tr>\n",
       "      <th>3</th>\n",
       "      <td>0.0</td>\n",
       "      <td>0.0</td>\n",
       "      <td>1.0</td>\n",
       "      <td>1.0</td>\n",
       "      <td>0.0</td>\n",
       "      <td>0.0</td>\n",
       "    </tr>\n",
       "    <tr>\n",
       "      <th>4</th>\n",
       "      <td>1.0</td>\n",
       "      <td>0.0</td>\n",
       "      <td>0.0</td>\n",
       "      <td>0.0</td>\n",
       "      <td>1.0</td>\n",
       "      <td>0.0</td>\n",
       "    </tr>\n",
       "    <tr>\n",
       "      <th>5</th>\n",
       "      <td>0.0</td>\n",
       "      <td>1.0</td>\n",
       "      <td>0.0</td>\n",
       "      <td>0.0</td>\n",
       "      <td>0.0</td>\n",
       "      <td>1.0</td>\n",
       "    </tr>\n",
       "  </tbody>\n",
       "</table>\n",
       "</div>"
      ],
      "text/plain": [
       "   key_a  key_b  key_c  Colores_Amarillo  Colores_Rojo  Colores_Verde\n",
       "0    0.0    1.0    0.0               0.0           0.0            1.0\n",
       "1    0.0    1.0    0.0               0.0           1.0            0.0\n",
       "2    1.0    0.0    0.0               0.0           0.0            1.0\n",
       "3    0.0    0.0    1.0               1.0           0.0            0.0\n",
       "4    1.0    0.0    0.0               0.0           1.0            0.0\n",
       "5    0.0    1.0    0.0               0.0           0.0            1.0"
      ]
     },
     "execution_count": 99,
     "metadata": {},
     "output_type": "execute_result"
    }
   ],
   "source": [
    "dummies_1 = pd.get_dummies(df_2[[\"key\", \"Colores\"]], prefix=[\"key\", \"Colores\"], dtype=float)\n",
    "dummies_1"
   ]
  },
  {
   "cell_type": "markdown",
   "id": "049835a5",
   "metadata": {
    "slideshow": {
     "slide_type": "slide"
    }
   },
   "source": [
    "Si una fila de un DataFrame contiene categorías, tenemos que utilizar un enfoque diferente para crear las variables ficticias. Veamos el conjunto de datos `MovieLens`:"
   ]
  },
  {
   "cell_type": "code",
   "execution_count": 100,
   "id": "dc387f6e",
   "metadata": {
    "slideshow": {
     "slide_type": "slide"
    }
   },
   "outputs": [
    {
     "data": {
      "text/html": [
       "<div>\n",
       "<style scoped>\n",
       "    .dataframe tbody tr th:only-of-type {\n",
       "        vertical-align: middle;\n",
       "    }\n",
       "\n",
       "    .dataframe tbody tr th {\n",
       "        vertical-align: top;\n",
       "    }\n",
       "\n",
       "    .dataframe thead th {\n",
       "        text-align: right;\n",
       "    }\n",
       "</style>\n",
       "<table border=\"1\" class=\"dataframe\">\n",
       "  <thead>\n",
       "    <tr style=\"text-align: right;\">\n",
       "      <th></th>\n",
       "      <th>movie_id</th>\n",
       "      <th>title</th>\n",
       "      <th>genres</th>\n",
       "    </tr>\n",
       "  </thead>\n",
       "  <tbody>\n",
       "    <tr>\n",
       "      <th>0</th>\n",
       "      <td>1</td>\n",
       "      <td>Toy Story (1995)</td>\n",
       "      <td>Animation|Children's|Comedy</td>\n",
       "    </tr>\n",
       "    <tr>\n",
       "      <th>1</th>\n",
       "      <td>2</td>\n",
       "      <td>Jumanji (1995)</td>\n",
       "      <td>Adventure|Children's|Fantasy</td>\n",
       "    </tr>\n",
       "    <tr>\n",
       "      <th>2</th>\n",
       "      <td>3</td>\n",
       "      <td>Grumpier Old Men (1995)</td>\n",
       "      <td>Comedy|Romance</td>\n",
       "    </tr>\n",
       "    <tr>\n",
       "      <th>3</th>\n",
       "      <td>4</td>\n",
       "      <td>Waiting to Exhale (1995)</td>\n",
       "      <td>Comedy|Drama</td>\n",
       "    </tr>\n",
       "    <tr>\n",
       "      <th>4</th>\n",
       "      <td>5</td>\n",
       "      <td>Father of the Bride Part II (1995)</td>\n",
       "      <td>Comedy</td>\n",
       "    </tr>\n",
       "    <tr>\n",
       "      <th>5</th>\n",
       "      <td>6</td>\n",
       "      <td>Heat (1995)</td>\n",
       "      <td>Action|Crime|Thriller</td>\n",
       "    </tr>\n",
       "    <tr>\n",
       "      <th>6</th>\n",
       "      <td>7</td>\n",
       "      <td>Sabrina (1995)</td>\n",
       "      <td>Comedy|Romance</td>\n",
       "    </tr>\n",
       "    <tr>\n",
       "      <th>7</th>\n",
       "      <td>8</td>\n",
       "      <td>Tom and Huck (1995)</td>\n",
       "      <td>Adventure|Children's</td>\n",
       "    </tr>\n",
       "    <tr>\n",
       "      <th>8</th>\n",
       "      <td>9</td>\n",
       "      <td>Sudden Death (1995)</td>\n",
       "      <td>Action</td>\n",
       "    </tr>\n",
       "    <tr>\n",
       "      <th>9</th>\n",
       "      <td>10</td>\n",
       "      <td>GoldenEye (1995)</td>\n",
       "      <td>Action|Adventure|Thriller</td>\n",
       "    </tr>\n",
       "  </tbody>\n",
       "</table>\n",
       "</div>"
      ],
      "text/plain": [
       "   movie_id                               title                        genres\n",
       "0         1                    Toy Story (1995)   Animation|Children's|Comedy\n",
       "1         2                      Jumanji (1995)  Adventure|Children's|Fantasy\n",
       "2         3             Grumpier Old Men (1995)                Comedy|Romance\n",
       "3         4            Waiting to Exhale (1995)                  Comedy|Drama\n",
       "4         5  Father of the Bride Part II (1995)                        Comedy\n",
       "5         6                         Heat (1995)         Action|Crime|Thriller\n",
       "6         7                      Sabrina (1995)                Comedy|Romance\n",
       "7         8                 Tom and Huck (1995)          Adventure|Children's\n",
       "8         9                 Sudden Death (1995)                        Action\n",
       "9        10                    GoldenEye (1995)     Action|Adventure|Thriller"
      ]
     },
     "execution_count": 100,
     "metadata": {},
     "output_type": "execute_result"
    }
   ],
   "source": [
    "mnames = [\"movie_id\", \"title\", \"genres\"]\n",
    "movies = pd.read_table('movies.dat', sep=\"::\",\n",
    "                       header=None, names=mnames, engine=\"python\")\n",
    "\n",
    "movies[:10]  # Similar a un .head()                    "
   ]
  },
  {
   "cell_type": "markdown",
   "id": "281dc707",
   "metadata": {
    "slideshow": {
     "slide_type": "slide"
    }
   },
   "source": [
    "Pandas ha implementado un método especial de la serie `str.get_dummies` (los métodos que empiezan por `str`. Se tratan con más detalle más adelante en Manipulación de cadenas) que maneja este escenario de pertenencia a múltiples grupos codificados como una cadena delimitada:"
   ]
  },
  {
   "cell_type": "code",
   "execution_count": 101,
   "id": "0a4e525b",
   "metadata": {
    "slideshow": {
     "slide_type": "slide"
    }
   },
   "outputs": [
    {
     "data": {
      "text/html": [
       "<div>\n",
       "<style scoped>\n",
       "    .dataframe tbody tr th:only-of-type {\n",
       "        vertical-align: middle;\n",
       "    }\n",
       "\n",
       "    .dataframe tbody tr th {\n",
       "        vertical-align: top;\n",
       "    }\n",
       "\n",
       "    .dataframe thead th {\n",
       "        text-align: right;\n",
       "    }\n",
       "</style>\n",
       "<table border=\"1\" class=\"dataframe\">\n",
       "  <thead>\n",
       "    <tr style=\"text-align: right;\">\n",
       "      <th></th>\n",
       "      <th>Action</th>\n",
       "      <th>Adventure</th>\n",
       "      <th>Animation</th>\n",
       "      <th>Children's</th>\n",
       "      <th>Comedy</th>\n",
       "      <th>Crime</th>\n",
       "      <th>Documentary</th>\n",
       "      <th>Drama</th>\n",
       "      <th>Fantasy</th>\n",
       "      <th>Film-Noir</th>\n",
       "      <th>Horror</th>\n",
       "      <th>Musical</th>\n",
       "      <th>Mystery</th>\n",
       "      <th>Romance</th>\n",
       "      <th>Sci-Fi</th>\n",
       "      <th>Thriller</th>\n",
       "      <th>War</th>\n",
       "      <th>Western</th>\n",
       "    </tr>\n",
       "  </thead>\n",
       "  <tbody>\n",
       "    <tr>\n",
       "      <th>0</th>\n",
       "      <td>0</td>\n",
       "      <td>0</td>\n",
       "      <td>1</td>\n",
       "      <td>1</td>\n",
       "      <td>1</td>\n",
       "      <td>0</td>\n",
       "      <td>0</td>\n",
       "      <td>0</td>\n",
       "      <td>0</td>\n",
       "      <td>0</td>\n",
       "      <td>0</td>\n",
       "      <td>0</td>\n",
       "      <td>0</td>\n",
       "      <td>0</td>\n",
       "      <td>0</td>\n",
       "      <td>0</td>\n",
       "      <td>0</td>\n",
       "      <td>0</td>\n",
       "    </tr>\n",
       "    <tr>\n",
       "      <th>1</th>\n",
       "      <td>0</td>\n",
       "      <td>1</td>\n",
       "      <td>0</td>\n",
       "      <td>1</td>\n",
       "      <td>0</td>\n",
       "      <td>0</td>\n",
       "      <td>0</td>\n",
       "      <td>0</td>\n",
       "      <td>1</td>\n",
       "      <td>0</td>\n",
       "      <td>0</td>\n",
       "      <td>0</td>\n",
       "      <td>0</td>\n",
       "      <td>0</td>\n",
       "      <td>0</td>\n",
       "      <td>0</td>\n",
       "      <td>0</td>\n",
       "      <td>0</td>\n",
       "    </tr>\n",
       "    <tr>\n",
       "      <th>2</th>\n",
       "      <td>0</td>\n",
       "      <td>0</td>\n",
       "      <td>0</td>\n",
       "      <td>0</td>\n",
       "      <td>1</td>\n",
       "      <td>0</td>\n",
       "      <td>0</td>\n",
       "      <td>0</td>\n",
       "      <td>0</td>\n",
       "      <td>0</td>\n",
       "      <td>0</td>\n",
       "      <td>0</td>\n",
       "      <td>0</td>\n",
       "      <td>1</td>\n",
       "      <td>0</td>\n",
       "      <td>0</td>\n",
       "      <td>0</td>\n",
       "      <td>0</td>\n",
       "    </tr>\n",
       "    <tr>\n",
       "      <th>3</th>\n",
       "      <td>0</td>\n",
       "      <td>0</td>\n",
       "      <td>0</td>\n",
       "      <td>0</td>\n",
       "      <td>1</td>\n",
       "      <td>0</td>\n",
       "      <td>0</td>\n",
       "      <td>1</td>\n",
       "      <td>0</td>\n",
       "      <td>0</td>\n",
       "      <td>0</td>\n",
       "      <td>0</td>\n",
       "      <td>0</td>\n",
       "      <td>0</td>\n",
       "      <td>0</td>\n",
       "      <td>0</td>\n",
       "      <td>0</td>\n",
       "      <td>0</td>\n",
       "    </tr>\n",
       "    <tr>\n",
       "      <th>4</th>\n",
       "      <td>0</td>\n",
       "      <td>0</td>\n",
       "      <td>0</td>\n",
       "      <td>0</td>\n",
       "      <td>1</td>\n",
       "      <td>0</td>\n",
       "      <td>0</td>\n",
       "      <td>0</td>\n",
       "      <td>0</td>\n",
       "      <td>0</td>\n",
       "      <td>0</td>\n",
       "      <td>0</td>\n",
       "      <td>0</td>\n",
       "      <td>0</td>\n",
       "      <td>0</td>\n",
       "      <td>0</td>\n",
       "      <td>0</td>\n",
       "      <td>0</td>\n",
       "    </tr>\n",
       "    <tr>\n",
       "      <th>...</th>\n",
       "      <td>...</td>\n",
       "      <td>...</td>\n",
       "      <td>...</td>\n",
       "      <td>...</td>\n",
       "      <td>...</td>\n",
       "      <td>...</td>\n",
       "      <td>...</td>\n",
       "      <td>...</td>\n",
       "      <td>...</td>\n",
       "      <td>...</td>\n",
       "      <td>...</td>\n",
       "      <td>...</td>\n",
       "      <td>...</td>\n",
       "      <td>...</td>\n",
       "      <td>...</td>\n",
       "      <td>...</td>\n",
       "      <td>...</td>\n",
       "      <td>...</td>\n",
       "    </tr>\n",
       "    <tr>\n",
       "      <th>3878</th>\n",
       "      <td>0</td>\n",
       "      <td>0</td>\n",
       "      <td>0</td>\n",
       "      <td>0</td>\n",
       "      <td>1</td>\n",
       "      <td>0</td>\n",
       "      <td>0</td>\n",
       "      <td>0</td>\n",
       "      <td>0</td>\n",
       "      <td>0</td>\n",
       "      <td>0</td>\n",
       "      <td>0</td>\n",
       "      <td>0</td>\n",
       "      <td>0</td>\n",
       "      <td>0</td>\n",
       "      <td>0</td>\n",
       "      <td>0</td>\n",
       "      <td>0</td>\n",
       "    </tr>\n",
       "    <tr>\n",
       "      <th>3879</th>\n",
       "      <td>0</td>\n",
       "      <td>0</td>\n",
       "      <td>0</td>\n",
       "      <td>0</td>\n",
       "      <td>0</td>\n",
       "      <td>0</td>\n",
       "      <td>0</td>\n",
       "      <td>1</td>\n",
       "      <td>0</td>\n",
       "      <td>0</td>\n",
       "      <td>0</td>\n",
       "      <td>0</td>\n",
       "      <td>0</td>\n",
       "      <td>0</td>\n",
       "      <td>0</td>\n",
       "      <td>0</td>\n",
       "      <td>0</td>\n",
       "      <td>0</td>\n",
       "    </tr>\n",
       "    <tr>\n",
       "      <th>3880</th>\n",
       "      <td>0</td>\n",
       "      <td>0</td>\n",
       "      <td>0</td>\n",
       "      <td>0</td>\n",
       "      <td>0</td>\n",
       "      <td>0</td>\n",
       "      <td>0</td>\n",
       "      <td>1</td>\n",
       "      <td>0</td>\n",
       "      <td>0</td>\n",
       "      <td>0</td>\n",
       "      <td>0</td>\n",
       "      <td>0</td>\n",
       "      <td>0</td>\n",
       "      <td>0</td>\n",
       "      <td>0</td>\n",
       "      <td>0</td>\n",
       "      <td>0</td>\n",
       "    </tr>\n",
       "    <tr>\n",
       "      <th>3881</th>\n",
       "      <td>0</td>\n",
       "      <td>0</td>\n",
       "      <td>0</td>\n",
       "      <td>0</td>\n",
       "      <td>0</td>\n",
       "      <td>0</td>\n",
       "      <td>0</td>\n",
       "      <td>1</td>\n",
       "      <td>0</td>\n",
       "      <td>0</td>\n",
       "      <td>0</td>\n",
       "      <td>0</td>\n",
       "      <td>0</td>\n",
       "      <td>0</td>\n",
       "      <td>0</td>\n",
       "      <td>0</td>\n",
       "      <td>0</td>\n",
       "      <td>0</td>\n",
       "    </tr>\n",
       "    <tr>\n",
       "      <th>3882</th>\n",
       "      <td>0</td>\n",
       "      <td>0</td>\n",
       "      <td>0</td>\n",
       "      <td>0</td>\n",
       "      <td>0</td>\n",
       "      <td>0</td>\n",
       "      <td>0</td>\n",
       "      <td>1</td>\n",
       "      <td>0</td>\n",
       "      <td>0</td>\n",
       "      <td>0</td>\n",
       "      <td>0</td>\n",
       "      <td>0</td>\n",
       "      <td>0</td>\n",
       "      <td>0</td>\n",
       "      <td>1</td>\n",
       "      <td>0</td>\n",
       "      <td>0</td>\n",
       "    </tr>\n",
       "  </tbody>\n",
       "</table>\n",
       "<p>3883 rows × 18 columns</p>\n",
       "</div>"
      ],
      "text/plain": [
       "      Action  Adventure  Animation  Children's  Comedy  Crime  Documentary  \\\n",
       "0          0          0          1           1       1      0            0   \n",
       "1          0          1          0           1       0      0            0   \n",
       "2          0          0          0           0       1      0            0   \n",
       "3          0          0          0           0       1      0            0   \n",
       "4          0          0          0           0       1      0            0   \n",
       "...      ...        ...        ...         ...     ...    ...          ...   \n",
       "3878       0          0          0           0       1      0            0   \n",
       "3879       0          0          0           0       0      0            0   \n",
       "3880       0          0          0           0       0      0            0   \n",
       "3881       0          0          0           0       0      0            0   \n",
       "3882       0          0          0           0       0      0            0   \n",
       "\n",
       "      Drama  Fantasy  Film-Noir  Horror  Musical  Mystery  Romance  Sci-Fi  \\\n",
       "0         0        0          0       0        0        0        0       0   \n",
       "1         0        1          0       0        0        0        0       0   \n",
       "2         0        0          0       0        0        0        1       0   \n",
       "3         1        0          0       0        0        0        0       0   \n",
       "4         0        0          0       0        0        0        0       0   \n",
       "...     ...      ...        ...     ...      ...      ...      ...     ...   \n",
       "3878      0        0          0       0        0        0        0       0   \n",
       "3879      1        0          0       0        0        0        0       0   \n",
       "3880      1        0          0       0        0        0        0       0   \n",
       "3881      1        0          0       0        0        0        0       0   \n",
       "3882      1        0          0       0        0        0        0       0   \n",
       "\n",
       "      Thriller  War  Western  \n",
       "0            0    0        0  \n",
       "1            0    0        0  \n",
       "2            0    0        0  \n",
       "3            0    0        0  \n",
       "4            0    0        0  \n",
       "...        ...  ...      ...  \n",
       "3878         0    0        0  \n",
       "3879         0    0        0  \n",
       "3880         0    0        0  \n",
       "3881         0    0        0  \n",
       "3882         1    0        0  \n",
       "\n",
       "[3883 rows x 18 columns]"
      ]
     },
     "execution_count": 101,
     "metadata": {},
     "output_type": "execute_result"
    }
   ],
   "source": [
    "dummies_2 = movies[\"genres\"].str.get_dummies(\"|\")\n",
    "dummies_2"
   ]
  },
  {
   "cell_type": "code",
   "execution_count": 102,
   "id": "1f8986eb",
   "metadata": {
    "slideshow": {
     "slide_type": "slide"
    }
   },
   "outputs": [
    {
     "data": {
      "text/html": [
       "<div>\n",
       "<style scoped>\n",
       "    .dataframe tbody tr th:only-of-type {\n",
       "        vertical-align: middle;\n",
       "    }\n",
       "\n",
       "    .dataframe tbody tr th {\n",
       "        vertical-align: top;\n",
       "    }\n",
       "\n",
       "    .dataframe thead th {\n",
       "        text-align: right;\n",
       "    }\n",
       "</style>\n",
       "<table border=\"1\" class=\"dataframe\">\n",
       "  <thead>\n",
       "    <tr style=\"text-align: right;\">\n",
       "      <th></th>\n",
       "      <th>Action</th>\n",
       "      <th>Adventure</th>\n",
       "      <th>Animation</th>\n",
       "      <th>Children's</th>\n",
       "      <th>Comedy</th>\n",
       "      <th>Crime</th>\n",
       "    </tr>\n",
       "  </thead>\n",
       "  <tbody>\n",
       "    <tr>\n",
       "      <th>0</th>\n",
       "      <td>0</td>\n",
       "      <td>0</td>\n",
       "      <td>1</td>\n",
       "      <td>1</td>\n",
       "      <td>1</td>\n",
       "      <td>0</td>\n",
       "    </tr>\n",
       "    <tr>\n",
       "      <th>1</th>\n",
       "      <td>0</td>\n",
       "      <td>1</td>\n",
       "      <td>0</td>\n",
       "      <td>1</td>\n",
       "      <td>0</td>\n",
       "      <td>0</td>\n",
       "    </tr>\n",
       "    <tr>\n",
       "      <th>2</th>\n",
       "      <td>0</td>\n",
       "      <td>0</td>\n",
       "      <td>0</td>\n",
       "      <td>0</td>\n",
       "      <td>1</td>\n",
       "      <td>0</td>\n",
       "    </tr>\n",
       "    <tr>\n",
       "      <th>3</th>\n",
       "      <td>0</td>\n",
       "      <td>0</td>\n",
       "      <td>0</td>\n",
       "      <td>0</td>\n",
       "      <td>1</td>\n",
       "      <td>0</td>\n",
       "    </tr>\n",
       "    <tr>\n",
       "      <th>4</th>\n",
       "      <td>0</td>\n",
       "      <td>0</td>\n",
       "      <td>0</td>\n",
       "      <td>0</td>\n",
       "      <td>1</td>\n",
       "      <td>0</td>\n",
       "    </tr>\n",
       "    <tr>\n",
       "      <th>5</th>\n",
       "      <td>1</td>\n",
       "      <td>0</td>\n",
       "      <td>0</td>\n",
       "      <td>0</td>\n",
       "      <td>0</td>\n",
       "      <td>1</td>\n",
       "    </tr>\n",
       "    <tr>\n",
       "      <th>6</th>\n",
       "      <td>0</td>\n",
       "      <td>0</td>\n",
       "      <td>0</td>\n",
       "      <td>0</td>\n",
       "      <td>1</td>\n",
       "      <td>0</td>\n",
       "    </tr>\n",
       "    <tr>\n",
       "      <th>7</th>\n",
       "      <td>0</td>\n",
       "      <td>1</td>\n",
       "      <td>0</td>\n",
       "      <td>1</td>\n",
       "      <td>0</td>\n",
       "      <td>0</td>\n",
       "    </tr>\n",
       "    <tr>\n",
       "      <th>8</th>\n",
       "      <td>1</td>\n",
       "      <td>0</td>\n",
       "      <td>0</td>\n",
       "      <td>0</td>\n",
       "      <td>0</td>\n",
       "      <td>0</td>\n",
       "    </tr>\n",
       "    <tr>\n",
       "      <th>9</th>\n",
       "      <td>1</td>\n",
       "      <td>1</td>\n",
       "      <td>0</td>\n",
       "      <td>0</td>\n",
       "      <td>0</td>\n",
       "      <td>0</td>\n",
       "    </tr>\n",
       "  </tbody>\n",
       "</table>\n",
       "</div>"
      ],
      "text/plain": [
       "   Action  Adventure  Animation  Children's  Comedy  Crime\n",
       "0       0          0          1           1       1      0\n",
       "1       0          1          0           1       0      0\n",
       "2       0          0          0           0       1      0\n",
       "3       0          0          0           0       1      0\n",
       "4       0          0          0           0       1      0\n",
       "5       1          0          0           0       0      1\n",
       "6       0          0          0           0       1      0\n",
       "7       0          1          0           1       0      0\n",
       "8       1          0          0           0       0      0\n",
       "9       1          1          0           0       0      0"
      ]
     },
     "execution_count": 102,
     "metadata": {},
     "output_type": "execute_result"
    }
   ],
   "source": [
    "dummies_2.iloc[:10, :6]"
   ]
  },
  {
   "cell_type": "markdown",
   "id": "1b6564d4",
   "metadata": {
    "slideshow": {
     "slide_type": "slide"
    }
   },
   "source": [
    "Entonces, como antes, puedes combinar esto con `movies` añadiendo un `\"Genre_\"` a los nombres de las columnas en el DataFrame de `dummies` con el método `add_prefix`:"
   ]
  },
  {
   "cell_type": "code",
   "execution_count": 103,
   "id": "2e0f4da7",
   "metadata": {
    "slideshow": {
     "slide_type": "slide"
    }
   },
   "outputs": [
    {
     "data": {
      "text/html": [
       "<div>\n",
       "<style scoped>\n",
       "    .dataframe tbody tr th:only-of-type {\n",
       "        vertical-align: middle;\n",
       "    }\n",
       "\n",
       "    .dataframe tbody tr th {\n",
       "        vertical-align: top;\n",
       "    }\n",
       "\n",
       "    .dataframe thead th {\n",
       "        text-align: right;\n",
       "    }\n",
       "</style>\n",
       "<table border=\"1\" class=\"dataframe\">\n",
       "  <thead>\n",
       "    <tr style=\"text-align: right;\">\n",
       "      <th></th>\n",
       "      <th>movie_id</th>\n",
       "      <th>title</th>\n",
       "      <th>genres</th>\n",
       "      <th>Genre_Action</th>\n",
       "      <th>Genre_Adventure</th>\n",
       "      <th>Genre_Animation</th>\n",
       "      <th>Genre_Children's</th>\n",
       "      <th>Genre_Comedy</th>\n",
       "      <th>Genre_Crime</th>\n",
       "      <th>Genre_Documentary</th>\n",
       "      <th>...</th>\n",
       "      <th>Genre_Fantasy</th>\n",
       "      <th>Genre_Film-Noir</th>\n",
       "      <th>Genre_Horror</th>\n",
       "      <th>Genre_Musical</th>\n",
       "      <th>Genre_Mystery</th>\n",
       "      <th>Genre_Romance</th>\n",
       "      <th>Genre_Sci-Fi</th>\n",
       "      <th>Genre_Thriller</th>\n",
       "      <th>Genre_War</th>\n",
       "      <th>Genre_Western</th>\n",
       "    </tr>\n",
       "  </thead>\n",
       "  <tbody>\n",
       "    <tr>\n",
       "      <th>0</th>\n",
       "      <td>1</td>\n",
       "      <td>Toy Story (1995)</td>\n",
       "      <td>Animation|Children's|Comedy</td>\n",
       "      <td>0</td>\n",
       "      <td>0</td>\n",
       "      <td>1</td>\n",
       "      <td>1</td>\n",
       "      <td>1</td>\n",
       "      <td>0</td>\n",
       "      <td>0</td>\n",
       "      <td>...</td>\n",
       "      <td>0</td>\n",
       "      <td>0</td>\n",
       "      <td>0</td>\n",
       "      <td>0</td>\n",
       "      <td>0</td>\n",
       "      <td>0</td>\n",
       "      <td>0</td>\n",
       "      <td>0</td>\n",
       "      <td>0</td>\n",
       "      <td>0</td>\n",
       "    </tr>\n",
       "    <tr>\n",
       "      <th>1</th>\n",
       "      <td>2</td>\n",
       "      <td>Jumanji (1995)</td>\n",
       "      <td>Adventure|Children's|Fantasy</td>\n",
       "      <td>0</td>\n",
       "      <td>1</td>\n",
       "      <td>0</td>\n",
       "      <td>1</td>\n",
       "      <td>0</td>\n",
       "      <td>0</td>\n",
       "      <td>0</td>\n",
       "      <td>...</td>\n",
       "      <td>1</td>\n",
       "      <td>0</td>\n",
       "      <td>0</td>\n",
       "      <td>0</td>\n",
       "      <td>0</td>\n",
       "      <td>0</td>\n",
       "      <td>0</td>\n",
       "      <td>0</td>\n",
       "      <td>0</td>\n",
       "      <td>0</td>\n",
       "    </tr>\n",
       "    <tr>\n",
       "      <th>2</th>\n",
       "      <td>3</td>\n",
       "      <td>Grumpier Old Men (1995)</td>\n",
       "      <td>Comedy|Romance</td>\n",
       "      <td>0</td>\n",
       "      <td>0</td>\n",
       "      <td>0</td>\n",
       "      <td>0</td>\n",
       "      <td>1</td>\n",
       "      <td>0</td>\n",
       "      <td>0</td>\n",
       "      <td>...</td>\n",
       "      <td>0</td>\n",
       "      <td>0</td>\n",
       "      <td>0</td>\n",
       "      <td>0</td>\n",
       "      <td>0</td>\n",
       "      <td>1</td>\n",
       "      <td>0</td>\n",
       "      <td>0</td>\n",
       "      <td>0</td>\n",
       "      <td>0</td>\n",
       "    </tr>\n",
       "    <tr>\n",
       "      <th>3</th>\n",
       "      <td>4</td>\n",
       "      <td>Waiting to Exhale (1995)</td>\n",
       "      <td>Comedy|Drama</td>\n",
       "      <td>0</td>\n",
       "      <td>0</td>\n",
       "      <td>0</td>\n",
       "      <td>0</td>\n",
       "      <td>1</td>\n",
       "      <td>0</td>\n",
       "      <td>0</td>\n",
       "      <td>...</td>\n",
       "      <td>0</td>\n",
       "      <td>0</td>\n",
       "      <td>0</td>\n",
       "      <td>0</td>\n",
       "      <td>0</td>\n",
       "      <td>0</td>\n",
       "      <td>0</td>\n",
       "      <td>0</td>\n",
       "      <td>0</td>\n",
       "      <td>0</td>\n",
       "    </tr>\n",
       "    <tr>\n",
       "      <th>4</th>\n",
       "      <td>5</td>\n",
       "      <td>Father of the Bride Part II (1995)</td>\n",
       "      <td>Comedy</td>\n",
       "      <td>0</td>\n",
       "      <td>0</td>\n",
       "      <td>0</td>\n",
       "      <td>0</td>\n",
       "      <td>1</td>\n",
       "      <td>0</td>\n",
       "      <td>0</td>\n",
       "      <td>...</td>\n",
       "      <td>0</td>\n",
       "      <td>0</td>\n",
       "      <td>0</td>\n",
       "      <td>0</td>\n",
       "      <td>0</td>\n",
       "      <td>0</td>\n",
       "      <td>0</td>\n",
       "      <td>0</td>\n",
       "      <td>0</td>\n",
       "      <td>0</td>\n",
       "    </tr>\n",
       "    <tr>\n",
       "      <th>...</th>\n",
       "      <td>...</td>\n",
       "      <td>...</td>\n",
       "      <td>...</td>\n",
       "      <td>...</td>\n",
       "      <td>...</td>\n",
       "      <td>...</td>\n",
       "      <td>...</td>\n",
       "      <td>...</td>\n",
       "      <td>...</td>\n",
       "      <td>...</td>\n",
       "      <td>...</td>\n",
       "      <td>...</td>\n",
       "      <td>...</td>\n",
       "      <td>...</td>\n",
       "      <td>...</td>\n",
       "      <td>...</td>\n",
       "      <td>...</td>\n",
       "      <td>...</td>\n",
       "      <td>...</td>\n",
       "      <td>...</td>\n",
       "      <td>...</td>\n",
       "    </tr>\n",
       "    <tr>\n",
       "      <th>3878</th>\n",
       "      <td>3948</td>\n",
       "      <td>Meet the Parents (2000)</td>\n",
       "      <td>Comedy</td>\n",
       "      <td>0</td>\n",
       "      <td>0</td>\n",
       "      <td>0</td>\n",
       "      <td>0</td>\n",
       "      <td>1</td>\n",
       "      <td>0</td>\n",
       "      <td>0</td>\n",
       "      <td>...</td>\n",
       "      <td>0</td>\n",
       "      <td>0</td>\n",
       "      <td>0</td>\n",
       "      <td>0</td>\n",
       "      <td>0</td>\n",
       "      <td>0</td>\n",
       "      <td>0</td>\n",
       "      <td>0</td>\n",
       "      <td>0</td>\n",
       "      <td>0</td>\n",
       "    </tr>\n",
       "    <tr>\n",
       "      <th>3879</th>\n",
       "      <td>3949</td>\n",
       "      <td>Requiem for a Dream (2000)</td>\n",
       "      <td>Drama</td>\n",
       "      <td>0</td>\n",
       "      <td>0</td>\n",
       "      <td>0</td>\n",
       "      <td>0</td>\n",
       "      <td>0</td>\n",
       "      <td>0</td>\n",
       "      <td>0</td>\n",
       "      <td>...</td>\n",
       "      <td>0</td>\n",
       "      <td>0</td>\n",
       "      <td>0</td>\n",
       "      <td>0</td>\n",
       "      <td>0</td>\n",
       "      <td>0</td>\n",
       "      <td>0</td>\n",
       "      <td>0</td>\n",
       "      <td>0</td>\n",
       "      <td>0</td>\n",
       "    </tr>\n",
       "    <tr>\n",
       "      <th>3880</th>\n",
       "      <td>3950</td>\n",
       "      <td>Tigerland (2000)</td>\n",
       "      <td>Drama</td>\n",
       "      <td>0</td>\n",
       "      <td>0</td>\n",
       "      <td>0</td>\n",
       "      <td>0</td>\n",
       "      <td>0</td>\n",
       "      <td>0</td>\n",
       "      <td>0</td>\n",
       "      <td>...</td>\n",
       "      <td>0</td>\n",
       "      <td>0</td>\n",
       "      <td>0</td>\n",
       "      <td>0</td>\n",
       "      <td>0</td>\n",
       "      <td>0</td>\n",
       "      <td>0</td>\n",
       "      <td>0</td>\n",
       "      <td>0</td>\n",
       "      <td>0</td>\n",
       "    </tr>\n",
       "    <tr>\n",
       "      <th>3881</th>\n",
       "      <td>3951</td>\n",
       "      <td>Two Family House (2000)</td>\n",
       "      <td>Drama</td>\n",
       "      <td>0</td>\n",
       "      <td>0</td>\n",
       "      <td>0</td>\n",
       "      <td>0</td>\n",
       "      <td>0</td>\n",
       "      <td>0</td>\n",
       "      <td>0</td>\n",
       "      <td>...</td>\n",
       "      <td>0</td>\n",
       "      <td>0</td>\n",
       "      <td>0</td>\n",
       "      <td>0</td>\n",
       "      <td>0</td>\n",
       "      <td>0</td>\n",
       "      <td>0</td>\n",
       "      <td>0</td>\n",
       "      <td>0</td>\n",
       "      <td>0</td>\n",
       "    </tr>\n",
       "    <tr>\n",
       "      <th>3882</th>\n",
       "      <td>3952</td>\n",
       "      <td>Contender, The (2000)</td>\n",
       "      <td>Drama|Thriller</td>\n",
       "      <td>0</td>\n",
       "      <td>0</td>\n",
       "      <td>0</td>\n",
       "      <td>0</td>\n",
       "      <td>0</td>\n",
       "      <td>0</td>\n",
       "      <td>0</td>\n",
       "      <td>...</td>\n",
       "      <td>0</td>\n",
       "      <td>0</td>\n",
       "      <td>0</td>\n",
       "      <td>0</td>\n",
       "      <td>0</td>\n",
       "      <td>0</td>\n",
       "      <td>0</td>\n",
       "      <td>1</td>\n",
       "      <td>0</td>\n",
       "      <td>0</td>\n",
       "    </tr>\n",
       "  </tbody>\n",
       "</table>\n",
       "<p>3883 rows × 21 columns</p>\n",
       "</div>"
      ],
      "text/plain": [
       "      movie_id                               title  \\\n",
       "0            1                    Toy Story (1995)   \n",
       "1            2                      Jumanji (1995)   \n",
       "2            3             Grumpier Old Men (1995)   \n",
       "3            4            Waiting to Exhale (1995)   \n",
       "4            5  Father of the Bride Part II (1995)   \n",
       "...        ...                                 ...   \n",
       "3878      3948             Meet the Parents (2000)   \n",
       "3879      3949          Requiem for a Dream (2000)   \n",
       "3880      3950                    Tigerland (2000)   \n",
       "3881      3951             Two Family House (2000)   \n",
       "3882      3952               Contender, The (2000)   \n",
       "\n",
       "                            genres  Genre_Action  Genre_Adventure  \\\n",
       "0      Animation|Children's|Comedy             0                0   \n",
       "1     Adventure|Children's|Fantasy             0                1   \n",
       "2                   Comedy|Romance             0                0   \n",
       "3                     Comedy|Drama             0                0   \n",
       "4                           Comedy             0                0   \n",
       "...                            ...           ...              ...   \n",
       "3878                        Comedy             0                0   \n",
       "3879                         Drama             0                0   \n",
       "3880                         Drama             0                0   \n",
       "3881                         Drama             0                0   \n",
       "3882                Drama|Thriller             0                0   \n",
       "\n",
       "      Genre_Animation  Genre_Children's  Genre_Comedy  Genre_Crime  \\\n",
       "0                   1                 1             1            0   \n",
       "1                   0                 1             0            0   \n",
       "2                   0                 0             1            0   \n",
       "3                   0                 0             1            0   \n",
       "4                   0                 0             1            0   \n",
       "...               ...               ...           ...          ...   \n",
       "3878                0                 0             1            0   \n",
       "3879                0                 0             0            0   \n",
       "3880                0                 0             0            0   \n",
       "3881                0                 0             0            0   \n",
       "3882                0                 0             0            0   \n",
       "\n",
       "      Genre_Documentary  ...  Genre_Fantasy  Genre_Film-Noir  Genre_Horror  \\\n",
       "0                     0  ...              0                0             0   \n",
       "1                     0  ...              1                0             0   \n",
       "2                     0  ...              0                0             0   \n",
       "3                     0  ...              0                0             0   \n",
       "4                     0  ...              0                0             0   \n",
       "...                 ...  ...            ...              ...           ...   \n",
       "3878                  0  ...              0                0             0   \n",
       "3879                  0  ...              0                0             0   \n",
       "3880                  0  ...              0                0             0   \n",
       "3881                  0  ...              0                0             0   \n",
       "3882                  0  ...              0                0             0   \n",
       "\n",
       "      Genre_Musical  Genre_Mystery  Genre_Romance  Genre_Sci-Fi  \\\n",
       "0                 0              0              0             0   \n",
       "1                 0              0              0             0   \n",
       "2                 0              0              1             0   \n",
       "3                 0              0              0             0   \n",
       "4                 0              0              0             0   \n",
       "...             ...            ...            ...           ...   \n",
       "3878              0              0              0             0   \n",
       "3879              0              0              0             0   \n",
       "3880              0              0              0             0   \n",
       "3881              0              0              0             0   \n",
       "3882              0              0              0             0   \n",
       "\n",
       "      Genre_Thriller  Genre_War  Genre_Western  \n",
       "0                  0          0              0  \n",
       "1                  0          0              0  \n",
       "2                  0          0              0  \n",
       "3                  0          0              0  \n",
       "4                  0          0              0  \n",
       "...              ...        ...            ...  \n",
       "3878               0          0              0  \n",
       "3879               0          0              0  \n",
       "3880               0          0              0  \n",
       "3881               0          0              0  \n",
       "3882               1          0              0  \n",
       "\n",
       "[3883 rows x 21 columns]"
      ]
     },
     "execution_count": 103,
     "metadata": {},
     "output_type": "execute_result"
    }
   ],
   "source": [
    "movies_windic = movies.join(dummies_2.add_prefix(\"Genre_\"))\n",
    "movies_windic"
   ]
  },
  {
   "cell_type": "code",
   "execution_count": 104,
   "id": "94f3864b",
   "metadata": {
    "slideshow": {
     "slide_type": "slide"
    }
   },
   "outputs": [
    {
     "data": {
      "text/plain": [
       "movie_id                                       1\n",
       "title                           Toy Story (1995)\n",
       "genres               Animation|Children's|Comedy\n",
       "Genre_Action                                   0\n",
       "Genre_Adventure                                0\n",
       "Genre_Animation                                1\n",
       "Genre_Children's                               1\n",
       "Genre_Comedy                                   1\n",
       "Genre_Crime                                    0\n",
       "Genre_Documentary                              0\n",
       "Genre_Drama                                    0\n",
       "Genre_Fantasy                                  0\n",
       "Genre_Film-Noir                                0\n",
       "Genre_Horror                                   0\n",
       "Genre_Musical                                  0\n",
       "Genre_Mystery                                  0\n",
       "Genre_Romance                                  0\n",
       "Genre_Sci-Fi                                   0\n",
       "Genre_Thriller                                 0\n",
       "Genre_War                                      0\n",
       "Genre_Western                                  0\n",
       "Name: 0, dtype: object"
      ]
     },
     "execution_count": 104,
     "metadata": {},
     "output_type": "execute_result"
    }
   ],
   "source": [
    "movies_windic.iloc[0]"
   ]
  },
  {
   "cell_type": "markdown",
   "id": "b1ad2428",
   "metadata": {
    "slideshow": {
     "slide_type": "skip"
    }
   },
   "source": [
    "Nota: Para datos mucho más grandes, este método de construcción de variables indicadoras con pertenencia múltiple no es especialmente rápido. Sería mejor escribir una función de nivel inferior que escriba directamente en una array de NumPy y, a continuación, envolver el resultado en un DataFrame."
   ]
  },
  {
   "cell_type": "markdown",
   "id": "3e660c6e",
   "metadata": {
    "slideshow": {
     "slide_type": "slide"
    }
   },
   "source": [
    "Para aplicaciones estadísticas tambien se suele combinar `pandas.get_dummies` con una función de discretización como `pandas.cut`:"
   ]
  },
  {
   "cell_type": "code",
   "execution_count": 105,
   "id": "2511c868",
   "metadata": {
    "slideshow": {
     "slide_type": "slide"
    }
   },
   "outputs": [
    {
     "data": {
      "text/plain": [
       "array([0.92961609, 0.31637555, 0.18391881, 0.20456028, 0.56772503,\n",
       "       0.5955447 , 0.96451452, 0.6531771 , 0.74890664, 0.65356987])"
      ]
     },
     "execution_count": 105,
     "metadata": {},
     "output_type": "execute_result"
    }
   ],
   "source": [
    "np.random.seed(12345) # para que el ejemplo sea repetible\n",
    "\n",
    "values = np.random.uniform(size=10)\n",
    "values"
   ]
  },
  {
   "cell_type": "code",
   "execution_count": 106,
   "id": "6a48c194",
   "metadata": {
    "slideshow": {
     "slide_type": "slide"
    }
   },
   "outputs": [],
   "source": [
    "bins = [0, 0.2, 0.4, 0.6, 0.8, 1]"
   ]
  },
  {
   "cell_type": "code",
   "execution_count": 107,
   "id": "67dc5c3f",
   "metadata": {},
   "outputs": [
    {
     "data": {
      "text/html": [
       "<div>\n",
       "<style scoped>\n",
       "    .dataframe tbody tr th:only-of-type {\n",
       "        vertical-align: middle;\n",
       "    }\n",
       "\n",
       "    .dataframe tbody tr th {\n",
       "        vertical-align: top;\n",
       "    }\n",
       "\n",
       "    .dataframe thead th {\n",
       "        text-align: right;\n",
       "    }\n",
       "</style>\n",
       "<table border=\"1\" class=\"dataframe\">\n",
       "  <thead>\n",
       "    <tr style=\"text-align: right;\">\n",
       "      <th></th>\n",
       "      <th>(0.0, 0.2]</th>\n",
       "      <th>(0.2, 0.4]</th>\n",
       "      <th>(0.4, 0.6]</th>\n",
       "      <th>(0.6, 0.8]</th>\n",
       "      <th>(0.8, 1.0]</th>\n",
       "    </tr>\n",
       "  </thead>\n",
       "  <tbody>\n",
       "    <tr>\n",
       "      <th>0</th>\n",
       "      <td>False</td>\n",
       "      <td>False</td>\n",
       "      <td>False</td>\n",
       "      <td>False</td>\n",
       "      <td>True</td>\n",
       "    </tr>\n",
       "    <tr>\n",
       "      <th>1</th>\n",
       "      <td>False</td>\n",
       "      <td>True</td>\n",
       "      <td>False</td>\n",
       "      <td>False</td>\n",
       "      <td>False</td>\n",
       "    </tr>\n",
       "    <tr>\n",
       "      <th>2</th>\n",
       "      <td>True</td>\n",
       "      <td>False</td>\n",
       "      <td>False</td>\n",
       "      <td>False</td>\n",
       "      <td>False</td>\n",
       "    </tr>\n",
       "    <tr>\n",
       "      <th>3</th>\n",
       "      <td>False</td>\n",
       "      <td>True</td>\n",
       "      <td>False</td>\n",
       "      <td>False</td>\n",
       "      <td>False</td>\n",
       "    </tr>\n",
       "    <tr>\n",
       "      <th>4</th>\n",
       "      <td>False</td>\n",
       "      <td>False</td>\n",
       "      <td>True</td>\n",
       "      <td>False</td>\n",
       "      <td>False</td>\n",
       "    </tr>\n",
       "    <tr>\n",
       "      <th>5</th>\n",
       "      <td>False</td>\n",
       "      <td>False</td>\n",
       "      <td>True</td>\n",
       "      <td>False</td>\n",
       "      <td>False</td>\n",
       "    </tr>\n",
       "    <tr>\n",
       "      <th>6</th>\n",
       "      <td>False</td>\n",
       "      <td>False</td>\n",
       "      <td>False</td>\n",
       "      <td>False</td>\n",
       "      <td>True</td>\n",
       "    </tr>\n",
       "    <tr>\n",
       "      <th>7</th>\n",
       "      <td>False</td>\n",
       "      <td>False</td>\n",
       "      <td>False</td>\n",
       "      <td>True</td>\n",
       "      <td>False</td>\n",
       "    </tr>\n",
       "    <tr>\n",
       "      <th>8</th>\n",
       "      <td>False</td>\n",
       "      <td>False</td>\n",
       "      <td>False</td>\n",
       "      <td>True</td>\n",
       "      <td>False</td>\n",
       "    </tr>\n",
       "    <tr>\n",
       "      <th>9</th>\n",
       "      <td>False</td>\n",
       "      <td>False</td>\n",
       "      <td>False</td>\n",
       "      <td>True</td>\n",
       "      <td>False</td>\n",
       "    </tr>\n",
       "  </tbody>\n",
       "</table>\n",
       "</div>"
      ],
      "text/plain": [
       "   (0.0, 0.2]  (0.2, 0.4]  (0.4, 0.6]  (0.6, 0.8]  (0.8, 1.0]\n",
       "0       False       False       False       False        True\n",
       "1       False        True       False       False       False\n",
       "2        True       False       False       False       False\n",
       "3       False        True       False       False       False\n",
       "4       False       False        True       False       False\n",
       "5       False       False        True       False       False\n",
       "6       False       False       False       False        True\n",
       "7       False       False       False        True       False\n",
       "8       False       False       False        True       False\n",
       "9       False       False       False        True       False"
      ]
     },
     "execution_count": 107,
     "metadata": {},
     "output_type": "execute_result"
    }
   ],
   "source": [
    "pd.get_dummies(pd.cut(values, bins))"
   ]
  },
  {
   "cell_type": "code",
   "execution_count": 108,
   "id": "87e08466-2185-4466-88db-a632a2ac72fe",
   "metadata": {},
   "outputs": [
    {
     "data": {
      "text/html": [
       "<div>\n",
       "<style scoped>\n",
       "    .dataframe tbody tr th:only-of-type {\n",
       "        vertical-align: middle;\n",
       "    }\n",
       "\n",
       "    .dataframe tbody tr th {\n",
       "        vertical-align: top;\n",
       "    }\n",
       "\n",
       "    .dataframe thead th {\n",
       "        text-align: right;\n",
       "    }\n",
       "</style>\n",
       "<table border=\"1\" class=\"dataframe\">\n",
       "  <thead>\n",
       "    <tr style=\"text-align: right;\">\n",
       "      <th></th>\n",
       "      <th>(0.0, 0.2]</th>\n",
       "      <th>(0.2, 0.4]</th>\n",
       "      <th>(0.4, 0.6]</th>\n",
       "      <th>(0.6, 0.8]</th>\n",
       "      <th>(0.8, 1.0]</th>\n",
       "    </tr>\n",
       "  </thead>\n",
       "  <tbody>\n",
       "    <tr>\n",
       "      <th>0</th>\n",
       "      <td>0.0</td>\n",
       "      <td>0.0</td>\n",
       "      <td>0.0</td>\n",
       "      <td>0.0</td>\n",
       "      <td>1.0</td>\n",
       "    </tr>\n",
       "    <tr>\n",
       "      <th>1</th>\n",
       "      <td>0.0</td>\n",
       "      <td>1.0</td>\n",
       "      <td>0.0</td>\n",
       "      <td>0.0</td>\n",
       "      <td>0.0</td>\n",
       "    </tr>\n",
       "    <tr>\n",
       "      <th>2</th>\n",
       "      <td>1.0</td>\n",
       "      <td>0.0</td>\n",
       "      <td>0.0</td>\n",
       "      <td>0.0</td>\n",
       "      <td>0.0</td>\n",
       "    </tr>\n",
       "    <tr>\n",
       "      <th>3</th>\n",
       "      <td>0.0</td>\n",
       "      <td>1.0</td>\n",
       "      <td>0.0</td>\n",
       "      <td>0.0</td>\n",
       "      <td>0.0</td>\n",
       "    </tr>\n",
       "    <tr>\n",
       "      <th>4</th>\n",
       "      <td>0.0</td>\n",
       "      <td>0.0</td>\n",
       "      <td>1.0</td>\n",
       "      <td>0.0</td>\n",
       "      <td>0.0</td>\n",
       "    </tr>\n",
       "    <tr>\n",
       "      <th>5</th>\n",
       "      <td>0.0</td>\n",
       "      <td>0.0</td>\n",
       "      <td>1.0</td>\n",
       "      <td>0.0</td>\n",
       "      <td>0.0</td>\n",
       "    </tr>\n",
       "    <tr>\n",
       "      <th>6</th>\n",
       "      <td>0.0</td>\n",
       "      <td>0.0</td>\n",
       "      <td>0.0</td>\n",
       "      <td>0.0</td>\n",
       "      <td>1.0</td>\n",
       "    </tr>\n",
       "    <tr>\n",
       "      <th>7</th>\n",
       "      <td>0.0</td>\n",
       "      <td>0.0</td>\n",
       "      <td>0.0</td>\n",
       "      <td>1.0</td>\n",
       "      <td>0.0</td>\n",
       "    </tr>\n",
       "    <tr>\n",
       "      <th>8</th>\n",
       "      <td>0.0</td>\n",
       "      <td>0.0</td>\n",
       "      <td>0.0</td>\n",
       "      <td>1.0</td>\n",
       "      <td>0.0</td>\n",
       "    </tr>\n",
       "    <tr>\n",
       "      <th>9</th>\n",
       "      <td>0.0</td>\n",
       "      <td>0.0</td>\n",
       "      <td>0.0</td>\n",
       "      <td>1.0</td>\n",
       "      <td>0.0</td>\n",
       "    </tr>\n",
       "  </tbody>\n",
       "</table>\n",
       "</div>"
      ],
      "text/plain": [
       "   (0.0, 0.2]  (0.2, 0.4]  (0.4, 0.6]  (0.6, 0.8]  (0.8, 1.0]\n",
       "0         0.0         0.0         0.0         0.0         1.0\n",
       "1         0.0         1.0         0.0         0.0         0.0\n",
       "2         1.0         0.0         0.0         0.0         0.0\n",
       "3         0.0         1.0         0.0         0.0         0.0\n",
       "4         0.0         0.0         1.0         0.0         0.0\n",
       "5         0.0         0.0         1.0         0.0         0.0\n",
       "6         0.0         0.0         0.0         0.0         1.0\n",
       "7         0.0         0.0         0.0         1.0         0.0\n",
       "8         0.0         0.0         0.0         1.0         0.0\n",
       "9         0.0         0.0         0.0         1.0         0.0"
      ]
     },
     "execution_count": 108,
     "metadata": {},
     "output_type": "execute_result"
    }
   ],
   "source": [
    "pd.get_dummies(pd.cut(values, bins), dtype=float)"
   ]
  },
  {
   "cell_type": "markdown",
   "id": "00dc4589-ecbc-4042-8a1f-dccae4fc79a9",
   "metadata": {},
   "source": [
    "### Ejercicio 3 (Permutaciones, muestreo): Dado el siguiente conjunto de datos:"
   ]
  },
  {
   "cell_type": "code",
   "execution_count": 109,
   "id": "0e817e39-1b3d-41b5-a86b-1b552f7f5b43",
   "metadata": {},
   "outputs": [
    {
     "data": {
      "text/plain": [
       "\"\\ndata = {\\n    'Tienda': ['A', 'B', 'C', 'D', 'E'],\\n    'Producto': ['P1', 'P2', 'P3', 'P4', 'P5'],\\n    'Ventas': [150, 200, 300, 250, 100]\\n}\\n\""
      ]
     },
     "execution_count": 109,
     "metadata": {},
     "output_type": "execute_result"
    }
   ],
   "source": [
    "'''\n",
    "data = {\n",
    "    'Tienda': ['A', 'B', 'C', 'D', 'E'],\n",
    "    'Producto': ['P1', 'P2', 'P3', 'P4', 'P5'],\n",
    "    'Ventas': [150, 200, 300, 250, 100]\n",
    "}\n",
    "'''"
   ]
  },
  {
   "cell_type": "markdown",
   "id": "96e3982a-04ab-49a8-b8af-c98fbd443b72",
   "metadata": {},
   "source": [
    "1- Crear un dataframe, luego establezca una semilla para la reproducibilidad del ejemplo:"
   ]
  },
  {
   "cell_type": "code",
   "execution_count": 110,
   "id": "c7205df4-aaa6-429f-bd76-e3e6f923032e",
   "metadata": {},
   "outputs": [],
   "source": [
    "# np.random.seed(42)"
   ]
  },
  {
   "cell_type": "markdown",
   "id": "c84bc5cf-cb9c-4ed2-bdbe-3d5f5da34d6b",
   "metadata": {},
   "source": [
    "2- Crear dos dataframes mas; uno que sea una permutación de columnas y el otro una permutación filas."
   ]
  },
  {
   "cell_type": "code",
   "execution_count": null,
   "id": "743ef28a-b8ec-4d11-be2b-90804d6d9ea2",
   "metadata": {},
   "outputs": [],
   "source": []
  },
  {
   "cell_type": "markdown",
   "id": "5ad7a5a5-e981-409c-aadb-4be5b1c4752b",
   "metadata": {},
   "source": [
    "3- Partiendo de los dos dataframes anteriores extraiga una muestra aletoria de 2 filas."
   ]
  },
  {
   "cell_type": "code",
   "execution_count": null,
   "id": "74ddf44b-0460-43e4-8c3c-6f5cdfcdbe46",
   "metadata": {},
   "outputs": [],
   "source": []
  },
  {
   "cell_type": "markdown",
   "id": "2966635e-5359-40ae-a58b-9a464807b143",
   "metadata": {},
   "source": [
    "### Ejercicio 4 (get_dummies). Partiendo del siguiente diccionario:"
   ]
  },
  {
   "cell_type": "code",
   "execution_count": 111,
   "id": "aae188d7-2a17-4c91-88f0-16fc3009d99c",
   "metadata": {},
   "outputs": [
    {
     "data": {
      "text/plain": [
       "\"\\ndata = {\\n    'Nombre': ['Ana', 'Luis', 'María', 'Pedro', 'Laura', 'Carlos', 'Marta', 'Jorge'],\\n    'Edad': [23, 45, 31, 34, 28, 40, 36, 50],\\n    'Departamento': ['Ventas', 'IT', 'IT', 'Ventas', 'Marketing', 'Ventas', 'Marketing', 'IT'],\\n    'Salario': [50000, 60000, 55000, 52000, 58000, 51000, 60000, 62000]\\n}\\n\""
      ]
     },
     "execution_count": 111,
     "metadata": {},
     "output_type": "execute_result"
    }
   ],
   "source": [
    "'''\n",
    "data = {\n",
    "    'Nombre': ['Ana', 'Luis', 'María', 'Pedro', 'Laura', 'Carlos', 'Marta', 'Jorge'],\n",
    "    'Edad': [23, 45, 31, 34, 28, 40, 36, 50],\n",
    "    'Departamento': ['Ventas', 'IT', 'IT', 'Ventas', 'Marketing', 'Ventas', 'Marketing', 'IT'],\n",
    "    'Salario': [50000, 60000, 55000, 52000, 58000, 51000, 60000, 62000]\n",
    "}\n",
    "'''"
   ]
  },
  {
   "cell_type": "markdown",
   "id": "35d9927b-acd4-41b7-8625-8b9b352e589e",
   "metadata": {},
   "source": [
    "1- Convertir el diccionario a un pandas dataframe"
   ]
  },
  {
   "cell_type": "code",
   "execution_count": null,
   "id": "d89ca88a-4b2f-4fa8-be24-533d7e5ec74d",
   "metadata": {},
   "outputs": [],
   "source": []
  },
  {
   "cell_type": "markdown",
   "id": "e15ec2cd-619a-4a8a-8957-e18cc2200df3",
   "metadata": {},
   "source": [
    "2- Convertir la columna departamento en variables dummy"
   ]
  },
  {
   "cell_type": "code",
   "execution_count": null,
   "id": "818961ad-5886-4c29-961d-9c2f64892621",
   "metadata": {},
   "outputs": [],
   "source": []
  },
  {
   "cell_type": "markdown",
   "id": "369ecdb1-91ba-4d62-b624-7ec16a3542fb",
   "metadata": {},
   "source": [
    "3- Definir los límites (los intervalos) y etiquetas para los grupos de edad"
   ]
  },
  {
   "cell_type": "code",
   "execution_count": null,
   "id": "c900dfc6-94ed-4c67-a6ae-5f857c9431fc",
   "metadata": {},
   "outputs": [],
   "source": []
  },
  {
   "cell_type": "markdown",
   "id": "6b9add13-dca7-4848-a422-3bc4eef901f6",
   "metadata": {},
   "source": [
    "4- Crear la nueva columna con nombre: Grupo_Edad utilizando .cut()"
   ]
  },
  {
   "cell_type": "code",
   "execution_count": null,
   "id": "dc9f7026-8a6c-4eca-817b-5c0db9ffd59d",
   "metadata": {},
   "outputs": [],
   "source": []
  },
  {
   "cell_type": "markdown",
   "id": "ab5e8117-1ad9-46b2-b520-e23451488b02",
   "metadata": {},
   "source": [
    "5-Imprime el dataframe final"
   ]
  },
  {
   "cell_type": "code",
   "execution_count": null,
   "id": "6784635a-d022-4c3c-b286-10afbe75a4ef",
   "metadata": {},
   "outputs": [],
   "source": []
  },
  {
   "cell_type": "markdown",
   "id": "cd623ff5",
   "metadata": {
    "slideshow": {
     "slide_type": "slide"
    }
   },
   "source": [
    "## 2.7 Extension de tipos de datos "
   ]
  },
  {
   "cell_type": "markdown",
   "id": "5ca4d683",
   "metadata": {},
   "source": [
    "Pandas se construyó originalmente sobre las capacidades presentes en NumPy, una librería de cálculo de arrays utilizada principalmente para trabajar con datos numéricos. Muchos conceptos de pandas, como los datos que faltan, se implementaron utilizando lo que estaba disponible en NumPy mientras se intentaba maximizar la compatibilidad entre las bibliotecas que utilizaban conjuntamente NumPy y Pandas."
   ]
  },
  {
   "cell_type": "markdown",
   "id": "09e713c9",
   "metadata": {
    "slideshow": {
     "slide_type": "slide"
    }
   },
   "source": [
    "Basarse en NumPy conllevó una serie de deficiencias, como:"
   ]
  },
  {
   "cell_type": "markdown",
   "id": "b223e39e",
   "metadata": {},
   "source": [
    "El manejo de datos faltantes para algunos tipos de datos numéricos, como enteros y booleanos, era incompleto. Como resultado, cuando se introducían datos perdidos en tales datos, pandas convertía el tipo de datos a float64 y utilizaba np.nan para representar valores nulos. Esto tenía efectos agravantes al introducir problemas sutiles en muchos algoritmos de pandas.\n",
    "\n",
    "Los conjuntos de datos con muchos datos de cadenas eran costosos computacionalmente y utilizaban mucha memoria.\n",
    "\n",
    "Algunos tipos de datos, como intervalos de tiempo, timedeltas, y timestamps con zonas horarias, no podían ser soportados eficientemente sin usar arrays de objetos Python computacionalmente caros."
   ]
  },
  {
   "cell_type": "markdown",
   "id": "83e81a4b",
   "metadata": {
    "slideshow": {
     "slide_type": "slide"
    }
   },
   "source": [
    "Más recientemente, pandas ha desarrollado un sistema de tipos de extensión que permite añadir nuevos tipos de datos aunque no estén soportados nativamente por NumPy. Estos nuevos tipos de datos pueden ser tratados como de primera clase junto con los datos procedentes de arrays NumPy."
   ]
  },
  {
   "cell_type": "markdown",
   "id": "3e59eae5",
   "metadata": {
    "slideshow": {
     "slide_type": "slide"
    }
   },
   "source": [
    "Veamos un ejemplo en el que creamos una Serie de enteros con un valor perdido:"
   ]
  },
  {
   "cell_type": "code",
   "execution_count": 112,
   "id": "553ba495",
   "metadata": {},
   "outputs": [
    {
     "data": {
      "text/plain": [
       "0    1.0\n",
       "1    2.0\n",
       "2    3.0\n",
       "3    NaN\n",
       "dtype: float64"
      ]
     },
     "execution_count": 112,
     "metadata": {},
     "output_type": "execute_result"
    }
   ],
   "source": [
    "s = pd.Series([1, 2, 3, None])\n",
    "s"
   ]
  },
  {
   "cell_type": "code",
   "execution_count": 113,
   "id": "3beca384-2684-409f-9349-94f6fd51c9fa",
   "metadata": {},
   "outputs": [
    {
     "data": {
      "text/plain": [
       "0    1\n",
       "1    2\n",
       "2    3\n",
       "dtype: int64"
      ]
     },
     "execution_count": 113,
     "metadata": {},
     "output_type": "execute_result"
    }
   ],
   "source": [
    "s_2 = pd.Series([1,2,3])\n",
    "s_2"
   ]
  },
  {
   "cell_type": "markdown",
   "id": "adcf1049-4e54-4fc6-ae87-2aa8ca5fc247",
   "metadata": {},
   "source": [
    "Por defecto, pandas tratará de inferir el tipo de datos de la serie.\n",
    "Dado que hay un `None` en la lista, pandas convertirá automáticamente el tipo de datos a float64 porque el tipo float en pandas puede manejar valores nulos (NaN), mientras que el tipo `int` tradicional no puede."
   ]
  },
  {
   "cell_type": "code",
   "execution_count": 114,
   "id": "01af46af",
   "metadata": {
    "slideshow": {
     "slide_type": "slide"
    }
   },
   "outputs": [
    {
     "data": {
      "text/plain": [
       "dtype('float64')"
      ]
     },
     "execution_count": 114,
     "metadata": {},
     "output_type": "execute_result"
    }
   ],
   "source": [
    "s.dtype"
   ]
  },
  {
   "cell_type": "markdown",
   "id": "eb8167ef",
   "metadata": {},
   "source": [
    "Principalmente por razones de retrocompatibilidad, Series utiliza el comportamiento heredado de usar un tipo de datos float64 y np.nan para el valor perdido. Podríamos crear esta Serie en su lugar usando pandas.Int64Dtype:"
   ]
  },
  {
   "cell_type": "code",
   "execution_count": 115,
   "id": "77c7e1fb",
   "metadata": {
    "slideshow": {
     "slide_type": "slide"
    }
   },
   "outputs": [
    {
     "data": {
      "text/plain": [
       "0       1\n",
       "1       2\n",
       "2       3\n",
       "3    <NA>\n",
       "dtype: Int64"
      ]
     },
     "execution_count": 115,
     "metadata": {},
     "output_type": "execute_result"
    }
   ],
   "source": [
    "s_1 = pd.Series([1, 2, 3, None], dtype=pd.Int64Dtype())\n",
    "s_1"
   ]
  },
  {
   "cell_type": "markdown",
   "id": "1c0338cb-58af-45a9-8fe4-5280dccfba84",
   "metadata": {},
   "source": [
    "Aquí, especificamos explícitamente que queremos usar el tipo de datos Int64 de pandas, que es un tipo de datos de enteros que soporta valores nulos.\n",
    "Esto permite que la serie mantenga su tipo de datos como enteros (Int64), incluso con la presencia de valores nulos.\n",
    "Los valores nulos se representan con <NA>, que es un valor nulo especial compatible con el tipo Int64."
   ]
  },
  {
   "cell_type": "code",
   "execution_count": 116,
   "id": "393d2a71",
   "metadata": {
    "slideshow": {
     "slide_type": "slide"
    }
   },
   "outputs": [
    {
     "data": {
      "text/plain": [
       "Int64Dtype()"
      ]
     },
     "execution_count": 116,
     "metadata": {},
     "output_type": "execute_result"
    }
   ],
   "source": [
    "s_1.dtype"
   ]
  },
  {
   "cell_type": "markdown",
   "id": "e664e541",
   "metadata": {
    "slideshow": {
     "slide_type": "slide"
    }
   },
   "source": [
    "La salida `<NA>` indica que falta un valor para un array de tipo extensión. Esto utiliza el valor centinela especial `pandas.NA`:"
   ]
  },
  {
   "cell_type": "code",
   "execution_count": 117,
   "id": "453462d4",
   "metadata": {},
   "outputs": [
    {
     "data": {
      "text/plain": [
       "<NA>"
      ]
     },
     "execution_count": 117,
     "metadata": {},
     "output_type": "execute_result"
    }
   ],
   "source": [
    "s_1[3]"
   ]
  },
  {
   "cell_type": "code",
   "execution_count": 118,
   "id": "11a048a7",
   "metadata": {},
   "outputs": [
    {
     "data": {
      "text/plain": [
       "True"
      ]
     },
     "execution_count": 118,
     "metadata": {},
     "output_type": "execute_result"
    }
   ],
   "source": [
    "s_1[3] is pd.NA"
   ]
  },
  {
   "cell_type": "code",
   "execution_count": 119,
   "id": "29300d44-51c9-49b1-8fc5-c6739e4de8b7",
   "metadata": {},
   "outputs": [
    {
     "data": {
      "text/plain": [
       "False"
      ]
     },
     "execution_count": 119,
     "metadata": {},
     "output_type": "execute_result"
    }
   ],
   "source": [
    "s[3] is pd.NA"
   ]
  },
  {
   "cell_type": "markdown",
   "id": "32c17af1",
   "metadata": {
    "slideshow": {
     "slide_type": "slide"
    }
   },
   "source": [
    "También podríamos haber utilizado la abreviatura `\"Int64\"` en lugar de `pd.Int64Dtype()` para especificar el tipo. La mayúscula es necesaria, de lo contrario será un tipo sin extensión basado en NumPy:"
   ]
  },
  {
   "cell_type": "code",
   "execution_count": 120,
   "id": "581948de",
   "metadata": {},
   "outputs": [
    {
     "data": {
      "text/plain": [
       "0       1\n",
       "1       2\n",
       "2       3\n",
       "3    <NA>\n",
       "dtype: Int64"
      ]
     },
     "execution_count": 120,
     "metadata": {},
     "output_type": "execute_result"
    }
   ],
   "source": [
    "s_3 = pd.Series([1, 2, 3, None], dtype=\"Int64\")\n",
    "s_3"
   ]
  },
  {
   "cell_type": "markdown",
   "id": "4ac2f17a",
   "metadata": {
    "slideshow": {
     "slide_type": "slide"
    }
   },
   "source": [
    "Pandas también tiene un tipo de extensión especializado para datos de cadena que no utiliza arrays de objetos NumPy (requiere la biblioteca pyarrow, que puede que necesite instalar por separado):"
   ]
  },
  {
   "cell_type": "code",
   "execution_count": 121,
   "id": "d6a50a02-f6e6-4166-83e7-a4bb62276745",
   "metadata": {},
   "outputs": [
    {
     "data": {
      "text/plain": [
       "0      one\n",
       "1      two\n",
       "2     None\n",
       "3    three\n",
       "dtype: object"
      ]
     },
     "execution_count": 121,
     "metadata": {},
     "output_type": "execute_result"
    }
   ],
   "source": [
    "se = pd.Series(['one', 'two', None, 'three'])\n",
    "se"
   ]
  },
  {
   "cell_type": "code",
   "execution_count": 122,
   "id": "a2e6b12f",
   "metadata": {},
   "outputs": [
    {
     "data": {
      "text/plain": [
       "0      one\n",
       "1      two\n",
       "2     <NA>\n",
       "3    three\n",
       "dtype: string"
      ]
     },
     "execution_count": 122,
     "metadata": {},
     "output_type": "execute_result"
    }
   ],
   "source": [
    "s_4 = pd.Series(['one', 'two', None, 'three'], dtype=pd.StringDtype())\n",
    "s_4"
   ]
  },
  {
   "cell_type": "markdown",
   "id": "6345d53a",
   "metadata": {
    "slideshow": {
     "slide_type": "slide"
    }
   },
   "source": [
    "Estos arrays de cadenas suelen utilizar mucha menos memoria y, con frecuencia, son más eficientes desde el punto de vista computacional para realizar operaciones en grandes conjuntos de datos."
   ]
  },
  {
   "cell_type": "markdown",
   "id": "fb12c586",
   "metadata": {
    "slideshow": {
     "slide_type": "slide"
    }
   },
   "source": [
    "En la siguiente Tabla figura una lista de algunos de los tipos de extensión disponibles. "
   ]
  },
  {
   "cell_type": "markdown",
   "id": "74593e6d",
   "metadata": {
    "slideshow": {
     "slide_type": "slide"
    }
   },
   "source": [
    "**Pandas extension data types**"
   ]
  },
  {
   "cell_type": "markdown",
   "id": "084c6336",
   "metadata": {},
   "source": [
    "`BooleanDtype`: Datos booleanos anulables, utilice `\"boolean\"` al pasarlos como cadena.\n",
    "\n",
    "`CategoricalDtype`: Tipo de dato categórico, utilice `\"category\"` cuando pase como cadena\n",
    "\n",
    "`DatetimeTZDtype`: Datetime with time zone\n",
    "\n",
    "`Float32Dtype`: Coma flotante anulable 32-bit , use \"Float32\" cuando pase como cadena.\n",
    "\n",
    "`Float64Dtype`: Coma flotante anulable de 64 bits, utilice \"Float64\" al pasar como cadena.\n",
    "\n",
    "`Int8Dtype`: Entero con signo anulable de 8 bits, utilice \"Int8\" al pasarlo como cadena.\n",
    "\n",
    "`Int16Dtype`: Entero con signo anulable de 16 bits, utilice \"Int16\" al pasarlo como cadena.\n",
    "\n",
    "`Int32Dtype`: Entero con signo anulable de 32 bits, utilice \"Int32\" al pasarlo como cadena.\n",
    "\n",
    "`Int64Dtype`: Entero con signo anulable de 64 bits, utilice \"Int64\" al pasarlo como cadena.\n",
    "\n",
    "`UInt8Dtype`: Entero sin signo anulable de 8 bits, utilice \"UInt8\" al pasarlo como cadena.\n",
    "\n",
    "`UInt16Dtype`: Entero sin signo anulable de 16 bits, utilice \"UInt16\" al pasarlo como cadena.\n",
    "\n",
    "`UInt32Dtype`: Entero sin signo de 32 bits anulable, utilice \"UInt32\" al pasarlo como cadena.\n",
    "\n",
    "\n",
    "`UInt64Dtype`: Entero sin signo de 64 bits anulable, use \"UInt64\" cuando pase como cadena.\n",
    "\n",
    "\n",
    "\n"
   ]
  },
  {
   "cell_type": "markdown",
   "id": "0d1c99a4",
   "metadata": {
    "slideshow": {
     "slide_type": "slide"
    }
   },
   "source": [
    "Los tipos de extensión pueden pasarse al método Series `astype`, lo que permite convertirlos fácilmente como parte del proceso de limpieza de datos:"
   ]
  },
  {
   "cell_type": "code",
   "execution_count": 123,
   "id": "2f8cec70",
   "metadata": {},
   "outputs": [
    {
     "data": {
      "text/html": [
       "<div>\n",
       "<style scoped>\n",
       "    .dataframe tbody tr th:only-of-type {\n",
       "        vertical-align: middle;\n",
       "    }\n",
       "\n",
       "    .dataframe tbody tr th {\n",
       "        vertical-align: top;\n",
       "    }\n",
       "\n",
       "    .dataframe thead th {\n",
       "        text-align: right;\n",
       "    }\n",
       "</style>\n",
       "<table border=\"1\" class=\"dataframe\">\n",
       "  <thead>\n",
       "    <tr style=\"text-align: right;\">\n",
       "      <th></th>\n",
       "      <th>A</th>\n",
       "      <th>B</th>\n",
       "      <th>C</th>\n",
       "    </tr>\n",
       "  </thead>\n",
       "  <tbody>\n",
       "    <tr>\n",
       "      <th>0</th>\n",
       "      <td>1.0</td>\n",
       "      <td>one</td>\n",
       "      <td>False</td>\n",
       "    </tr>\n",
       "    <tr>\n",
       "      <th>1</th>\n",
       "      <td>2.0</td>\n",
       "      <td>two</td>\n",
       "      <td>None</td>\n",
       "    </tr>\n",
       "    <tr>\n",
       "      <th>2</th>\n",
       "      <td>NaN</td>\n",
       "      <td>three</td>\n",
       "      <td>False</td>\n",
       "    </tr>\n",
       "    <tr>\n",
       "      <th>3</th>\n",
       "      <td>4.0</td>\n",
       "      <td>None</td>\n",
       "      <td>True</td>\n",
       "    </tr>\n",
       "  </tbody>\n",
       "</table>\n",
       "</div>"
      ],
      "text/plain": [
       "     A      B      C\n",
       "0  1.0    one  False\n",
       "1  2.0    two   None\n",
       "2  NaN  three  False\n",
       "3  4.0   None   True"
      ]
     },
     "execution_count": 123,
     "metadata": {},
     "output_type": "execute_result"
    }
   ],
   "source": [
    "df = pd.DataFrame({\"A\": [1, 2, None, 4],\n",
    "                   \"B\": [\"one\", \"two\", \"three\", None],\n",
    "                   \"C\": [False, None, False, True]})\n",
    "\n",
    "df"
   ]
  },
  {
   "cell_type": "code",
   "execution_count": 124,
   "id": "67ae0182",
   "metadata": {
    "slideshow": {
     "slide_type": "slide"
    }
   },
   "outputs": [],
   "source": [
    "df[\"A\"] = df[\"A\"].astype(\"Int64\")"
   ]
  },
  {
   "cell_type": "code",
   "execution_count": 125,
   "id": "4f5ebf69",
   "metadata": {},
   "outputs": [],
   "source": [
    "df[\"B\"] = df[\"B\"].astype(\"string\")"
   ]
  },
  {
   "cell_type": "code",
   "execution_count": 126,
   "id": "32d37e4f",
   "metadata": {},
   "outputs": [],
   "source": [
    " df[\"C\"] = df[\"C\"].astype(\"boolean\")"
   ]
  },
  {
   "cell_type": "code",
   "execution_count": 127,
   "id": "132bca9f",
   "metadata": {
    "slideshow": {
     "slide_type": "slide"
    }
   },
   "outputs": [
    {
     "data": {
      "text/html": [
       "<div>\n",
       "<style scoped>\n",
       "    .dataframe tbody tr th:only-of-type {\n",
       "        vertical-align: middle;\n",
       "    }\n",
       "\n",
       "    .dataframe tbody tr th {\n",
       "        vertical-align: top;\n",
       "    }\n",
       "\n",
       "    .dataframe thead th {\n",
       "        text-align: right;\n",
       "    }\n",
       "</style>\n",
       "<table border=\"1\" class=\"dataframe\">\n",
       "  <thead>\n",
       "    <tr style=\"text-align: right;\">\n",
       "      <th></th>\n",
       "      <th>A</th>\n",
       "      <th>B</th>\n",
       "      <th>C</th>\n",
       "    </tr>\n",
       "  </thead>\n",
       "  <tbody>\n",
       "    <tr>\n",
       "      <th>0</th>\n",
       "      <td>1</td>\n",
       "      <td>one</td>\n",
       "      <td>False</td>\n",
       "    </tr>\n",
       "    <tr>\n",
       "      <th>1</th>\n",
       "      <td>2</td>\n",
       "      <td>two</td>\n",
       "      <td>&lt;NA&gt;</td>\n",
       "    </tr>\n",
       "    <tr>\n",
       "      <th>2</th>\n",
       "      <td>&lt;NA&gt;</td>\n",
       "      <td>three</td>\n",
       "      <td>False</td>\n",
       "    </tr>\n",
       "    <tr>\n",
       "      <th>3</th>\n",
       "      <td>4</td>\n",
       "      <td>&lt;NA&gt;</td>\n",
       "      <td>True</td>\n",
       "    </tr>\n",
       "  </tbody>\n",
       "</table>\n",
       "</div>"
      ],
      "text/plain": [
       "      A      B      C\n",
       "0     1    one  False\n",
       "1     2    two   <NA>\n",
       "2  <NA>  three  False\n",
       "3     4   <NA>   True"
      ]
     },
     "execution_count": 127,
     "metadata": {},
     "output_type": "execute_result"
    }
   ],
   "source": [
    "df"
   ]
  },
  {
   "cell_type": "markdown",
   "id": "4c5fa90c",
   "metadata": {
    "slideshow": {
     "slide_type": "slide"
    }
   },
   "source": [
    "## 2.8 Manipulación de cadenas (string)"
   ]
  },
  {
   "cell_type": "markdown",
   "id": "e8b4bb14",
   "metadata": {},
   "source": [
    "Python ha sido durante mucho tiempo un lenguaje popular de manipulación de datos en bruto, en parte debido a su facilidad de uso para el procesamiento de cadenas y texto. La mayoría de las operaciones de texto se simplifican con los métodos incorporados en el objeto string. Para la comparación de patrones y manipulaciones de texto más complejas, pueden ser necesarias expresiones regulares. Pandas se suma a la mezcla al permitirle aplicar expresiones de cadena y regulares de forma concisa en arrays enteros de datos, manejando además la molestia de los datos que faltan."
   ]
  },
  {
   "cell_type": "markdown",
   "id": "61389da5",
   "metadata": {
    "slideshow": {
     "slide_type": "slide"
    }
   },
   "source": [
    "### Métodos de objetos de cadena incorporados en Python"
   ]
  },
  {
   "cell_type": "markdown",
   "id": "416d28fd",
   "metadata": {},
   "source": [
    "En muchas aplicaciones de manipulación de cadenas y scripts, los métodos de cadena incorporados son suficientes. Por ejemplo, una cadena separada por comas puede dividirse en trozos con split:"
   ]
  },
  {
   "cell_type": "code",
   "execution_count": 128,
   "id": "37f8433d",
   "metadata": {},
   "outputs": [
    {
     "data": {
      "text/plain": [
       "['a', 'b', '  guido']"
      ]
     },
     "execution_count": 128,
     "metadata": {},
     "output_type": "execute_result"
    }
   ],
   "source": [
    "val = \"a,b,  guido\"\n",
    "val.split(\",\")"
   ]
  },
  {
   "cell_type": "markdown",
   "id": "db6ef029",
   "metadata": {
    "slideshow": {
     "slide_type": "slide"
    }
   },
   "source": [
    "`split` se combina a menudo con `strip` para recortar los espacios en blanco (incluidos los saltos de línea):"
   ]
  },
  {
   "cell_type": "code",
   "execution_count": 129,
   "id": "738894a0",
   "metadata": {},
   "outputs": [
    {
     "data": {
      "text/plain": [
       "['a', 'b', 'guido']"
      ]
     },
     "execution_count": 129,
     "metadata": {},
     "output_type": "execute_result"
    }
   ],
   "source": [
    "pieces = [x.strip() for x in val.split(\",\")]\n",
    "pieces"
   ]
  },
  {
   "cell_type": "markdown",
   "id": "5bf4740c",
   "metadata": {
    "slideshow": {
     "slide_type": "slide"
    }
   },
   "source": [
    "Estas subcadenas (substrings) podrían concatenarse con un delimitador de dos puntos utilizando la suma:"
   ]
  },
  {
   "cell_type": "code",
   "execution_count": 130,
   "id": "e9b544db",
   "metadata": {},
   "outputs": [
    {
     "data": {
      "text/plain": [
       "'a::b::guido'"
      ]
     },
     "execution_count": 130,
     "metadata": {},
     "output_type": "execute_result"
    }
   ],
   "source": [
    "first, second, third = pieces\n",
    "first + \"::\" + second + \"::\" + third"
   ]
  },
  {
   "cell_type": "markdown",
   "id": "915da313",
   "metadata": {
    "slideshow": {
     "slide_type": "slide"
    }
   },
   "source": [
    "Pero éste no es un método genérico práctico. Una forma más rápida y pitónica es pasar una lista o tupla al método `join` sobre la cadena \"::\":"
   ]
  },
  {
   "cell_type": "code",
   "execution_count": 131,
   "id": "dfc61289",
   "metadata": {},
   "outputs": [
    {
     "data": {
      "text/plain": [
       "'a::b::guido'"
      ]
     },
     "execution_count": 131,
     "metadata": {},
     "output_type": "execute_result"
    }
   ],
   "source": [
    "\"::\".join(pieces)"
   ]
  },
  {
   "cell_type": "markdown",
   "id": "da054592",
   "metadata": {
    "slideshow": {
     "slide_type": "slide"
    }
   },
   "source": [
    "Otros métodos se ocupan de localizar subcadenas. Utilizar la palabra clave `in` de Python es la mejor forma de detectar una subcadena, aunque también se pueden utilizar `index` y `find`:"
   ]
  },
  {
   "cell_type": "code",
   "execution_count": 132,
   "id": "a1083805",
   "metadata": {},
   "outputs": [
    {
     "data": {
      "text/plain": [
       "True"
      ]
     },
     "execution_count": 132,
     "metadata": {},
     "output_type": "execute_result"
    }
   ],
   "source": [
    "\"guido\" in val"
   ]
  },
  {
   "cell_type": "code",
   "execution_count": 133,
   "id": "1e5dfabc",
   "metadata": {
    "slideshow": {
     "slide_type": "slide"
    }
   },
   "outputs": [
    {
     "data": {
      "text/plain": [
       "1"
      ]
     },
     "execution_count": 133,
     "metadata": {},
     "output_type": "execute_result"
    }
   ],
   "source": [
    "val.index(\",\")"
   ]
  },
  {
   "cell_type": "code",
   "execution_count": 134,
   "id": "c98cad88",
   "metadata": {},
   "outputs": [
    {
     "data": {
      "text/plain": [
       "-1"
      ]
     },
     "execution_count": 134,
     "metadata": {},
     "output_type": "execute_result"
    }
   ],
   "source": [
    "val.find(\":\")"
   ]
  },
  {
   "cell_type": "markdown",
   "id": "38212870",
   "metadata": {
    "slideshow": {
     "slide_type": "slide"
    }
   },
   "source": [
    "Tenga en cuenta que la diferencia entre `find` e `index` es que index lanza una excepción si no se encuentra la cadena (en lugar de devolver -1):"
   ]
  },
  {
   "cell_type": "code",
   "execution_count": 135,
   "id": "4cae00d8",
   "metadata": {},
   "outputs": [
    {
     "ename": "ValueError",
     "evalue": "substring not found",
     "output_type": "error",
     "traceback": [
      "\u001b[1;31m---------------------------------------------------------------------------\u001b[0m",
      "\u001b[1;31mValueError\u001b[0m                                Traceback (most recent call last)",
      "Cell \u001b[1;32mIn[135], line 1\u001b[0m\n\u001b[1;32m----> 1\u001b[0m \u001b[43mval\u001b[49m\u001b[38;5;241;43m.\u001b[39;49m\u001b[43mindex\u001b[49m\u001b[43m(\u001b[49m\u001b[38;5;124;43m\"\u001b[39;49m\u001b[38;5;124;43m:\u001b[39;49m\u001b[38;5;124;43m\"\u001b[39;49m\u001b[43m)\u001b[49m\n",
      "\u001b[1;31mValueError\u001b[0m: substring not found"
     ]
    }
   ],
   "source": [
    "val.index(\":\")"
   ]
  },
  {
   "cell_type": "markdown",
   "id": "e410eb1a",
   "metadata": {
    "slideshow": {
     "slide_type": "slide"
    }
   },
   "source": [
    "Por su parte, `count` devuelve el número de apariciones de una determinada subcadena:"
   ]
  },
  {
   "cell_type": "code",
   "execution_count": null,
   "id": "2e0f1857",
   "metadata": {},
   "outputs": [],
   "source": [
    "val.count(\",\")"
   ]
  },
  {
   "cell_type": "markdown",
   "id": "ec89497a",
   "metadata": {
    "slideshow": {
     "slide_type": "slide"
    }
   },
   "source": [
    "`replace` sustituirá las ocurrencias de un patrón por otro. También se suele utilizar para eliminar patrones, pasando una cadena vacía:"
   ]
  },
  {
   "cell_type": "code",
   "execution_count": 136,
   "id": "efa2f7c2",
   "metadata": {},
   "outputs": [
    {
     "data": {
      "text/plain": [
       "'a::b::  guido'"
      ]
     },
     "execution_count": 136,
     "metadata": {},
     "output_type": "execute_result"
    }
   ],
   "source": [
    "val.replace(\",\", \"::\")"
   ]
  },
  {
   "cell_type": "code",
   "execution_count": 137,
   "id": "7f357aa5",
   "metadata": {
    "slideshow": {
     "slide_type": "slide"
    }
   },
   "outputs": [
    {
     "data": {
      "text/plain": [
       "'ab  guido'"
      ]
     },
     "execution_count": 137,
     "metadata": {},
     "output_type": "execute_result"
    }
   ],
   "source": [
    "val.replace(\",\", \"\")"
   ]
  },
  {
   "cell_type": "markdown",
   "id": "61612255",
   "metadata": {
    "slideshow": {
     "slide_type": "slide"
    }
   },
   "source": [
    "En el siguiente enlace puede encontrar mas [metodos de cadena]('https://www.w3schools.com/python/python_ref_string.asp')"
   ]
  },
  {
   "cell_type": "markdown",
   "id": "7d3dce3f",
   "metadata": {
    "slideshow": {
     "slide_type": "slide"
    }
   },
   "source": [
    "### Expresiones Regulares"
   ]
  },
  {
   "cell_type": "markdown",
   "id": "06477338",
   "metadata": {},
   "source": [
    "Las expresiones regulares proporcionan una forma flexible de buscar o hacer coincidir patrones de cadenas (a menudo más complejos) en el texto. Una expresión regular, comúnmente llamada regex, es una cadena formada según el lenguaje de expresiones regulares. El módulo `re` incorporado en Python se encarga de aplicar expresiones regulares a las cadenas; aquí daré varios ejemplos de su uso."
   ]
  },
  {
   "cell_type": "markdown",
   "id": "e6c2c1c4",
   "metadata": {
    "slideshow": {
     "slide_type": "slide"
    }
   },
   "source": [
    "Las funciones del módulo `re` se dividen en tres categorías: coincidencia de patrones, sustitución y división. Naturalmente, todas ellas están relacionadas; un `regex` describe un patrón a localizar en el texto, que luego puede utilizarse para muchos fines. Veamos un ejemplo sencillo: supongamos que queremos dividir una cadena con un número variable de caracteres de espacio en blanco (tabuladores, espacios y nuevas líneas)."
   ]
  },
  {
   "cell_type": "markdown",
   "id": "c87bdfcd",
   "metadata": {
    "slideshow": {
     "slide_type": "slide"
    }
   },
   "source": [
    "La expresión regular que describe uno o más caracteres de espacio en blanco es `\\s+`:"
   ]
  },
  {
   "cell_type": "code",
   "execution_count": 138,
   "id": "76e42170",
   "metadata": {},
   "outputs": [
    {
     "data": {
      "text/plain": [
       "['foo', 'bar', 'baz', 'qux']"
      ]
     },
     "execution_count": 138,
     "metadata": {},
     "output_type": "execute_result"
    }
   ],
   "source": [
    "import re\n",
    "text = \"foo    bar\\t baz  \\tqux\"\n",
    "\n",
    "re.split(r\"\\s+\", text)"
   ]
  },
  {
   "cell_type": "markdown",
   "id": "2dff189e",
   "metadata": {
    "slideshow": {
     "slide_type": "slide"
    }
   },
   "source": [
    "Cuando se llama a `re.split(r\"\\s+\", text)`, primero se compila la expresión regular y luego se llama a su método split sobre el texto pasado. Puede compilar la expresión regular usted mismo con `re.compile`, formando un objeto `regex` reutilizable:"
   ]
  },
  {
   "cell_type": "code",
   "execution_count": 139,
   "id": "aec4227f",
   "metadata": {
    "slideshow": {
     "slide_type": "slide"
    }
   },
   "outputs": [
    {
     "data": {
      "text/plain": [
       "['foo', 'bar', 'baz', 'qux']"
      ]
     },
     "execution_count": 139,
     "metadata": {},
     "output_type": "execute_result"
    }
   ],
   "source": [
    "regex = re.compile(r\"\\s+\")\n",
    "\n",
    "regex.split(text)"
   ]
  },
  {
   "cell_type": "markdown",
   "id": "9b13b7a4",
   "metadata": {
    "slideshow": {
     "slide_type": "slide"
    }
   },
   "source": [
    "Si, en cambio, desea obtener una lista de todos los patrones que coincidan con la expresión regular, puede utilizar el método `findall`:"
   ]
  },
  {
   "cell_type": "code",
   "execution_count": 140,
   "id": "ef9dd737",
   "metadata": {},
   "outputs": [
    {
     "data": {
      "text/plain": [
       "['    ', '\\t ', '  \\t']"
      ]
     },
     "execution_count": 140,
     "metadata": {},
     "output_type": "execute_result"
    }
   ],
   "source": [
    "regex.findall(text)"
   ]
  },
  {
   "cell_type": "markdown",
   "id": "94178621",
   "metadata": {
    "slideshow": {
     "slide_type": "skip"
    }
   },
   "source": [
    "Para evitar escapes no deseados con \\ en una expresión regular, utilice literales de cadena sin procesar como `r\"C:\\x\"` en lugar del equivalente `\"C:\\\\x\"`."
   ]
  },
  {
   "cell_type": "markdown",
   "id": "853fea7e",
   "metadata": {
    "slideshow": {
     "slide_type": "skip"
    }
   },
   "source": [
    "La creación de un objeto regex con `re.compile` es muy recomendable si se pretende aplicar la misma expresión a muchas cadenas; de este modo se ahorrarán ciclos de CPU."
   ]
  },
  {
   "cell_type": "markdown",
   "id": "37c39cef",
   "metadata": {
    "slideshow": {
     "slide_type": "slide"
    }
   },
   "source": [
    "`match` y `search` están estrechamente relacionados con `findall`. Mientras que `findall` devuelve todas las coincidencias de una cadena, `search` sólo devuelve la primera coincidencia. Más rígidamente, `match` sólo encuentra coincidencias al principio de la cadena. Como ejemplo menos trivial, consideremos un bloque de texto y una expresión regular capaz de identificar la mayoría de las direcciones de correo electrónico:"
   ]
  },
  {
   "cell_type": "code",
   "execution_count": 141,
   "id": "22b5b3ff",
   "metadata": {
    "slideshow": {
     "slide_type": "slide"
    }
   },
   "outputs": [],
   "source": [
    "text = \"\"\"Dave dave@google.com\n",
    "Steve steve@gmail.com\n",
    "Rob rob@gmail.com\n",
    "Ryan ryan@yahoo.com\"\"\"\n",
    "\n",
    "pattern = r\"[A-Z0-9._%+-]+@[A-Z0-9.-]+\\.[A-Z]{2,4}\""
   ]
  },
  {
   "cell_type": "markdown",
   "id": "a3112269-b7ce-427c-8c29-6c2ed708f1da",
   "metadata": {},
   "source": [
    "- `[A-Z0-9._%+-]+`:  \n",
    "    - `[A-Z0-9._%+-]` es un conjunto de caracteres que incluye letras mayúsculas (A-Z), dígitos (0-9), y los caracteres ., _, %, +, y -.\n",
    "    - `+` indica que uno o más de estos caracteres pueden aparecer.    \n",
    "    - `@`: Un carácter de arroba literal.\n",
    "\n",
    "- `[A-Z0-9.-]+`:\n",
    "    - `[A-Z0-9.-]` es un conjunto de caracteres que incluye letras mayúsculas (A-Z), dígitos (0-9), y los caracteres . y -.\n",
    "    - `+` indica que uno o más de estos caracteres pueden aparecer.\n",
    "\n",
    "- `\\.`: Un punto literal (el \\ se usa para escapar el . ya que, en regex, el punto normalmente significa \"cualquier carácter\").\n",
    "\n",
    "- `[A-Z]{2,4}`:\n",
    "    - `[A-Z]` es un conjunto de letras mayúsculas.  \n",
    "    - `{2,4}` indica que deben aparecer de 2 a 4 de estas letras (por ejemplo, .com, .net, .info)."
   ]
  },
  {
   "cell_type": "code",
   "execution_count": 142,
   "id": "807e9cb2-3c28-47d2-861d-12c8935f56fe",
   "metadata": {},
   "outputs": [],
   "source": [
    "regex = re.compile(pattern, flags=re.IGNORECASE)\n",
    "# re.IGNORECASE hace que la expresión regular no distinga entre mayúsculas y minúsculas. "
   ]
  },
  {
   "cell_type": "markdown",
   "id": "72eb0729-a5c7-4d42-b9ec-54842c7e64ce",
   "metadata": {},
   "source": [
    "Esta línea compila el patrón de expresión regular en un objeto regex utilizando la función `re.compile()`. `flags=re.IGNORECASE`  hace que la búsqueda sea insensible a mayúsculas y minúsculas. Es decir, A-Z en el patrón también coincidirá con a-z."
   ]
  },
  {
   "cell_type": "markdown",
   "id": "5b5a0165",
   "metadata": {
    "slideshow": {
     "slide_type": "slide"
    }
   },
   "source": [
    "**Utilizando `findall` en el texto se obtiene una lista de las direcciones de correo electrónico**:"
   ]
  },
  {
   "cell_type": "code",
   "execution_count": 143,
   "id": "275638cb",
   "metadata": {},
   "outputs": [
    {
     "data": {
      "text/plain": [
       "['dave@google.com', 'steve@gmail.com', 'rob@gmail.com', 'ryan@yahoo.com']"
      ]
     },
     "execution_count": 143,
     "metadata": {},
     "output_type": "execute_result"
    }
   ],
   "source": [
    "regex.findall(text)"
   ]
  },
  {
   "cell_type": "markdown",
   "id": "3426511e",
   "metadata": {
    "slideshow": {
     "slide_type": "slide"
    }
   },
   "source": [
    "**`search` devuelve un objeto coincidente especial para la primera dirección de correo electrónico del texto. Para la regex anterior, el objeto coincidente sólo puede indicarnos la posición inicial y final del patrón en la cadena:**"
   ]
  },
  {
   "cell_type": "code",
   "execution_count": 144,
   "id": "5faa7a9b",
   "metadata": {},
   "outputs": [
    {
     "data": {
      "text/plain": [
       "<re.Match object; span=(5, 20), match='dave@google.com'>"
      ]
     },
     "execution_count": 144,
     "metadata": {},
     "output_type": "execute_result"
    }
   ],
   "source": [
    "m = regex.search(text)\n",
    "m"
   ]
  },
  {
   "cell_type": "markdown",
   "id": "e9259366-ba5f-428b-b8a0-d200de9fc309",
   "metadata": {},
   "source": [
    "`span=(5, 20)`: span es un tupla que indica los índices de inicio y fin de la coincidencia en la cadena original text.\n",
    "En este caso, la subcadena que coincide comienza en el índice 5 y termina en el índice 20."
   ]
  },
  {
   "cell_type": "code",
   "execution_count": 145,
   "id": "d73e4c76",
   "metadata": {
    "slideshow": {
     "slide_type": "slide"
    }
   },
   "outputs": [
    {
     "data": {
      "text/plain": [
       "'dave@google.com'"
      ]
     },
     "execution_count": 145,
     "metadata": {},
     "output_type": "execute_result"
    }
   ],
   "source": [
    "text[m.start():m.end()]"
   ]
  },
  {
   "cell_type": "markdown",
   "id": "39b85098",
   "metadata": {
    "slideshow": {
     "slide_type": "slide"
    }
   },
   "source": [
    "`regex.match` devuelve `None`, ya que sólo coincidirá si el patrón aparece al principio de la cadena:"
   ]
  },
  {
   "cell_type": "code",
   "execution_count": 146,
   "id": "a10a5b4d",
   "metadata": {},
   "outputs": [
    {
     "name": "stdout",
     "output_type": "stream",
     "text": [
      "None\n"
     ]
    }
   ],
   "source": [
    "print(regex.match(text))"
   ]
  },
  {
   "cell_type": "markdown",
   "id": "e75ae64f",
   "metadata": {
    "slideshow": {
     "slide_type": "slide"
    }
   },
   "source": [
    "De forma similar, `sub` devolverá una nueva cadena con las ocurrencias del patrón sustituidas por una nueva cadena:"
   ]
  },
  {
   "cell_type": "code",
   "execution_count": 147,
   "id": "d2cdd3e1",
   "metadata": {},
   "outputs": [
    {
     "name": "stdout",
     "output_type": "stream",
     "text": [
      "Dave REDACTED\n",
      "Steve REDACTED\n",
      "Rob REDACTED\n",
      "Ryan REDACTED\n"
     ]
    }
   ],
   "source": [
    "print(regex.sub(\"REDACTED\", text))"
   ]
  },
  {
   "cell_type": "markdown",
   "id": "bc791026",
   "metadata": {
    "slideshow": {
     "slide_type": "slide"
    }
   },
   "source": [
    "Supongamos que desea encontrar direcciones de correo electrónico y, al mismo tiempo, segmentar cada dirección en sus tres componentes: nombre de usuario, nombre de dominio y sufijo de dominio. Para ello, ponga entre paréntesis las partes del patrón que desea segmentar:"
   ]
  },
  {
   "cell_type": "code",
   "execution_count": 148,
   "id": "769d871e",
   "metadata": {},
   "outputs": [],
   "source": [
    "pattern = r\"([A-Z0-9._%+-]+)@([A-Z0-9.-]+)\\.([A-Z]{2,4})\"\n",
    "\n",
    "regex = re.compile(pattern, flags=re.IGNORECASE)"
   ]
  },
  {
   "cell_type": "markdown",
   "id": "083c867b",
   "metadata": {
    "slideshow": {
     "slide_type": "slide"
    }
   },
   "source": [
    "Un objeto match producido por esta regex modificada devuelve una tupla de los componentes del patrón con su método groups:"
   ]
  },
  {
   "cell_type": "code",
   "execution_count": 149,
   "id": "52622946",
   "metadata": {},
   "outputs": [
    {
     "data": {
      "text/plain": [
       "('wesm', 'bright', 'net')"
      ]
     },
     "execution_count": 149,
     "metadata": {},
     "output_type": "execute_result"
    }
   ],
   "source": [
    "m = regex.match(\"wesm@bright.net\")\n",
    "\n",
    "m.groups()"
   ]
  },
  {
   "cell_type": "markdown",
   "id": "cdba4975",
   "metadata": {
    "slideshow": {
     "slide_type": "slide"
    }
   },
   "source": [
    "`findall` devuelve una lista de tuplas cuando el patrón tiene grupos:"
   ]
  },
  {
   "cell_type": "code",
   "execution_count": 150,
   "id": "c999c12e",
   "metadata": {},
   "outputs": [
    {
     "data": {
      "text/plain": [
       "[('dave', 'google', 'com'),\n",
       " ('steve', 'gmail', 'com'),\n",
       " ('rob', 'gmail', 'com'),\n",
       " ('ryan', 'yahoo', 'com')]"
      ]
     },
     "execution_count": 150,
     "metadata": {},
     "output_type": "execute_result"
    }
   ],
   "source": [
    "regex.findall(text)"
   ]
  },
  {
   "cell_type": "markdown",
   "id": "e650979f",
   "metadata": {
    "slideshow": {
     "slide_type": "slide"
    }
   },
   "source": [
    "`sub` también tiene acceso a los grupos de cada coincidencia mediante símbolos especiales como `\\1` y `\\2`. El símbolo `\\1` corresponde al primer grupo coincidente, `\\2` corresponde al segundo, y así sucesivamente:"
   ]
  },
  {
   "cell_type": "code",
   "execution_count": 151,
   "id": "1f9a3643",
   "metadata": {},
   "outputs": [
    {
     "name": "stdout",
     "output_type": "stream",
     "text": [
      "Dave Username: dave, Domain: google, Suffix: com\n",
      "Steve Username: steve, Domain: gmail, Suffix: com\n",
      "Rob Username: rob, Domain: gmail, Suffix: com\n",
      "Ryan Username: ryan, Domain: yahoo, Suffix: com\n"
     ]
    }
   ],
   "source": [
    "print(regex.sub(r\"Username: \\1, Domain: \\2, Suffix: \\3\", text))"
   ]
  },
  {
   "cell_type": "markdown",
   "id": "f2dbe751",
   "metadata": {
    "slideshow": {
     "slide_type": "slide"
    }
   },
   "source": [
    "A continuación algunos metodos adicionales de expresiones regulares."
   ]
  },
  {
   "cell_type": "markdown",
   "id": "2bd36645",
   "metadata": {
    "slideshow": {
     "slide_type": "slide"
    }
   },
   "source": [
    "`findall`: Devuelve todos los patrones coincidentes no solapados en una cadena como una lista.\n",
    "\n",
    "`finditer`: Como findall, pero devuelve un iterador.\n",
    "\n",
    "`match`: \tCoincide con el patrón al inicio de la cadena y opcionalmente segmenta los componentes del patrón en grupos; si el patrón coincide, devuelve un objeto coincidente, y en caso contrario `None`.\n",
    "\n",
    "`search`: Escanea la cadena en busca de coincidencias con el patrón, devolviendo un objeto coincidente si es así; a diferencia de match, la coincidencia puede estar en cualquier parte de la cadena en lugar de sólo al principio.\n",
    "\n",
    "`split`: Rompe la cadena en trozos en cada aparición del patrón.\n",
    "\n",
    "`sub, subn`: Reemplazar todas (`sub`) o las primeras `n` ocurrencias (`subn`) del patrón en la cadena con la expresión de reemplazo; utilizar los símbolos `\\1`, `\\2`, ... para referirse a los elementos del grupo de coincidencia en la cadena de reemplazo."
   ]
  },
  {
   "cell_type": "markdown",
   "id": "c6e852d7",
   "metadata": {},
   "source": []
  },
  {
   "cell_type": "markdown",
   "id": "03bd6323",
   "metadata": {
    "slideshow": {
     "slide_type": "slide"
    }
   },
   "source": [
    "### Funciones de cadena en pandas"
   ]
  },
  {
   "cell_type": "markdown",
   "id": "1cb85931",
   "metadata": {},
   "source": [
    "Limpiar un conjunto de datos desordenado para su análisis suele requerir mucha manipulación de cadenas. Para complicar las cosas, una columna que contiene cadenas a veces tiene datos que faltan:"
   ]
  },
  {
   "cell_type": "code",
   "execution_count": 152,
   "id": "c6714c0b",
   "metadata": {},
   "outputs": [
    {
     "data": {
      "text/plain": [
       "Dave     dave@google.com\n",
       "Steve    steve@gmail.com\n",
       "Rob        rob@gmail.com\n",
       "Wes                  NaN\n",
       "dtype: object"
      ]
     },
     "execution_count": 152,
     "metadata": {},
     "output_type": "execute_result"
    }
   ],
   "source": [
    "data = {\"Dave\": \"dave@google.com\",\n",
    "        \"Steve\": \"steve@gmail.com\",\n",
    "        \"Rob\": \"rob@gmail.com\",\n",
    "        \"Wes\": np.nan}\n",
    "\n",
    "data = pd.Series(data)\n",
    "data"
   ]
  },
  {
   "cell_type": "code",
   "execution_count": 153,
   "id": "9bd32179",
   "metadata": {
    "slideshow": {
     "slide_type": "slide"
    }
   },
   "outputs": [
    {
     "data": {
      "text/plain": [
       "Dave     False\n",
       "Steve    False\n",
       "Rob      False\n",
       "Wes       True\n",
       "dtype: bool"
      ]
     },
     "execution_count": 153,
     "metadata": {},
     "output_type": "execute_result"
    }
   ],
   "source": [
    "data.isna()"
   ]
  },
  {
   "cell_type": "markdown",
   "id": "18a925e9",
   "metadata": {
    "slideshow": {
     "slide_type": "slide"
    }
   },
   "source": [
    "Se pueden aplicar métodos de cadenas y expresiones regulares (pasando una `lambda` u otra función) a cada valor utilizando `data.map`, pero fallará en los valores NA (nulos). Para hacer frente a esto, Series dispone de métodos orientados a arrays para operaciones con cadenas que omiten y propagan los valores NA. Se accede a ellos a través del atributo str de Series; por ejemplo, podríamos comprobar si cada dirección de correo electrónico contiene \"gmail\" con `str.contains`:"
   ]
  },
  {
   "cell_type": "code",
   "execution_count": 154,
   "id": "78c475f9",
   "metadata": {
    "slideshow": {
     "slide_type": "slide"
    }
   },
   "outputs": [
    {
     "data": {
      "text/plain": [
       "Dave     False\n",
       "Steve     True\n",
       "Rob       True\n",
       "Wes        NaN\n",
       "dtype: object"
      ]
     },
     "execution_count": 154,
     "metadata": {},
     "output_type": "execute_result"
    }
   ],
   "source": [
    "data.str.contains(\"gmail\")"
   ]
  },
  {
   "cell_type": "markdown",
   "id": "00390592",
   "metadata": {
    "slideshow": {
     "slide_type": "slide"
    }
   },
   "source": [
    "Tenga en cuenta que el resultado de esta operación tiene un dtype objeto. pandas tiene tipos de extensión que proporcionan un tratamiento especializado de cadenas, enteros y datos booleanos:"
   ]
  },
  {
   "cell_type": "code",
   "execution_count": 155,
   "id": "d46abbbb",
   "metadata": {},
   "outputs": [
    {
     "data": {
      "text/plain": [
       "Dave     dave@google.com\n",
       "Steve    steve@gmail.com\n",
       "Rob        rob@gmail.com\n",
       "Wes                 <NA>\n",
       "dtype: string"
      ]
     },
     "execution_count": 155,
     "metadata": {},
     "output_type": "execute_result"
    }
   ],
   "source": [
    "data_as_string_ext = data.astype('string')\n",
    "data_as_string_ext"
   ]
  },
  {
   "cell_type": "code",
   "execution_count": 156,
   "id": "aabf945d",
   "metadata": {
    "slideshow": {
     "slide_type": "slide"
    }
   },
   "outputs": [
    {
     "data": {
      "text/plain": [
       "Dave     False\n",
       "Steve     True\n",
       "Rob       True\n",
       "Wes       <NA>\n",
       "dtype: boolean"
      ]
     },
     "execution_count": 156,
     "metadata": {},
     "output_type": "execute_result"
    }
   ],
   "source": [
    "data_as_string_ext.str.contains(\"gmail\")"
   ]
  },
  {
   "cell_type": "markdown",
   "id": "07acdbfb",
   "metadata": {
    "slideshow": {
     "slide_type": "slide"
    }
   },
   "source": [
    "También se pueden utilizar expresiones regulares, junto con otras opciones como IGNORECASE:"
   ]
  },
  {
   "cell_type": "code",
   "execution_count": 157,
   "id": "1d54b1ac",
   "metadata": {},
   "outputs": [
    {
     "data": {
      "text/plain": [
       "Dave     [(dave, google, com)]\n",
       "Steve    [(steve, gmail, com)]\n",
       "Rob        [(rob, gmail, com)]\n",
       "Wes                        NaN\n",
       "dtype: object"
      ]
     },
     "execution_count": 157,
     "metadata": {},
     "output_type": "execute_result"
    }
   ],
   "source": [
    "pattern = r\"([A-Z0-9._%+-]+)@([A-Z0-9.-]+)\\.([A-Z]{2,4})\"\n",
    "data.str.findall(pattern, flags=re.IGNORECASE)"
   ]
  },
  {
   "cell_type": "markdown",
   "id": "19bf7cc2",
   "metadata": {
    "slideshow": {
     "slide_type": "slide"
    }
   },
   "source": [
    "Puede utilizar str.get o indexar en el atributo str:"
   ]
  },
  {
   "cell_type": "code",
   "execution_count": 158,
   "id": "5bf1c37d",
   "metadata": {},
   "outputs": [
    {
     "data": {
      "text/plain": [
       "Dave     (dave, google, com)\n",
       "Steve    (steve, gmail, com)\n",
       "Rob        (rob, gmail, com)\n",
       "Wes                      NaN\n",
       "dtype: object"
      ]
     },
     "execution_count": 158,
     "metadata": {},
     "output_type": "execute_result"
    }
   ],
   "source": [
    "matches = data.str.findall(pattern, flags=re.IGNORECASE).str[0]\n",
    "# busca todas las coincidencias del patrón en cada elemento \n",
    "# de la Serie y devuelve listas de tuplas con las coincidencias encontradas.\n",
    "# .str[0] selecciona la primera coincidencia en cada lista de coincidencias.\n",
    "matches"
   ]
  },
  {
   "cell_type": "code",
   "execution_count": 159,
   "id": "9f282841-93da-4136-b5b3-27c4dfa1da80",
   "metadata": {},
   "outputs": [],
   "source": [
    "# matches = data.str.findall(pattern, flags=re.IGNORECASE)\n",
    "# matches"
   ]
  },
  {
   "cell_type": "code",
   "execution_count": 160,
   "id": "0501a93e",
   "metadata": {
    "slideshow": {
     "slide_type": "slide"
    }
   },
   "outputs": [
    {
     "data": {
      "text/plain": [
       "Dave     google\n",
       "Steve     gmail\n",
       "Rob       gmail\n",
       "Wes         NaN\n",
       "dtype: object"
      ]
     },
     "execution_count": 160,
     "metadata": {},
     "output_type": "execute_result"
    }
   ],
   "source": [
    "matches.str.get(1)"
   ]
  },
  {
   "cell_type": "markdown",
   "id": "477646d5",
   "metadata": {
    "slideshow": {
     "slide_type": "slide"
    }
   },
   "source": [
    "De forma similar, puede cortar cadenas utilizando esta sintaxis:"
   ]
  },
  {
   "cell_type": "code",
   "execution_count": 161,
   "id": "c7ddc27a",
   "metadata": {},
   "outputs": [
    {
     "data": {
      "text/plain": [
       "Dave     dave@\n",
       "Steve    steve\n",
       "Rob      rob@g\n",
       "Wes        NaN\n",
       "dtype: object"
      ]
     },
     "execution_count": 161,
     "metadata": {},
     "output_type": "execute_result"
    }
   ],
   "source": [
    "data.str[:5]"
   ]
  },
  {
   "cell_type": "markdown",
   "id": "acffb756",
   "metadata": {
    "slideshow": {
     "slide_type": "slide"
    }
   },
   "source": [
    "El método `str.extract` devolverá los grupos capturados de una expresión regular como un DataFrame:"
   ]
  },
  {
   "cell_type": "code",
   "execution_count": 162,
   "id": "fa766f75",
   "metadata": {},
   "outputs": [
    {
     "data": {
      "text/html": [
       "<div>\n",
       "<style scoped>\n",
       "    .dataframe tbody tr th:only-of-type {\n",
       "        vertical-align: middle;\n",
       "    }\n",
       "\n",
       "    .dataframe tbody tr th {\n",
       "        vertical-align: top;\n",
       "    }\n",
       "\n",
       "    .dataframe thead th {\n",
       "        text-align: right;\n",
       "    }\n",
       "</style>\n",
       "<table border=\"1\" class=\"dataframe\">\n",
       "  <thead>\n",
       "    <tr style=\"text-align: right;\">\n",
       "      <th></th>\n",
       "      <th>0</th>\n",
       "      <th>1</th>\n",
       "      <th>2</th>\n",
       "    </tr>\n",
       "  </thead>\n",
       "  <tbody>\n",
       "    <tr>\n",
       "      <th>Dave</th>\n",
       "      <td>dave</td>\n",
       "      <td>google</td>\n",
       "      <td>com</td>\n",
       "    </tr>\n",
       "    <tr>\n",
       "      <th>Steve</th>\n",
       "      <td>steve</td>\n",
       "      <td>gmail</td>\n",
       "      <td>com</td>\n",
       "    </tr>\n",
       "    <tr>\n",
       "      <th>Rob</th>\n",
       "      <td>rob</td>\n",
       "      <td>gmail</td>\n",
       "      <td>com</td>\n",
       "    </tr>\n",
       "    <tr>\n",
       "      <th>Wes</th>\n",
       "      <td>NaN</td>\n",
       "      <td>NaN</td>\n",
       "      <td>NaN</td>\n",
       "    </tr>\n",
       "  </tbody>\n",
       "</table>\n",
       "</div>"
      ],
      "text/plain": [
       "           0       1    2\n",
       "Dave    dave  google  com\n",
       "Steve  steve   gmail  com\n",
       "Rob      rob   gmail  com\n",
       "Wes      NaN     NaN  NaN"
      ]
     },
     "execution_count": 162,
     "metadata": {},
     "output_type": "execute_result"
    }
   ],
   "source": [
    "data.str.extract(pattern, flags=re.IGNORECASE)"
   ]
  },
  {
   "cell_type": "markdown",
   "id": "1ec6c6a7",
   "metadata": {
    "slideshow": {
     "slide_type": "slide"
    }
   },
   "source": [
    "En la siguiente tabla se muestran otros métodos de String en Series"
   ]
  },
  {
   "cell_type": "markdown",
   "id": "f37ef6c6",
   "metadata": {
    "slideshow": {
     "slide_type": "slide"
    }
   },
   "source": [
    "`cat`: Concatenar cadenas por elementos con un delimitador opcional\n",
    "\n",
    "`contains`: Devuelve una matriz booleana si cada cadena contiene un patrón/regex.\n",
    "\n",
    "`count`: Contar ocurrencias del patrón\n",
    "\n",
    "`extract`: Utilice una expresión regular con grupos para extraer una o varias cadenas de una serie de cadenas; el resultado será un DataFrame con una columna por grupo.\n",
    "\n",
    "`endswith`: Equivale a x.endswith(pattern) para cada elemento\n",
    "\n",
    "`startswith`: Equivale a x.startswith(pattern) para cada elemento\n",
    "\n",
    " `findall`: Calcula la lista de todas las apariciones del patrón/regex para cada cadena.\n",
    " \n",
    " `get`: Índice en cada elemento (recuperar el i-ésimo elemento)\n",
    " \n",
    " `isalnum`: Equivalente a str.alnum incorporado\n",
    " \n",
    " `isalpha`: Equivalente al built-in str.isalpha.\n",
    " \n",
    " `isdecimal`: Equivalente al built-in str.isdecimal.\n",
    "\n",
    "`isdigit`: Equivalente al built-in str.isdigit\n",
    "\n",
    "`islower`: Equivalent to built-in str.islower\n",
    "\n",
    "`isnumeric`: Equivalent to built-in str.isnumeric.\n",
    "\n",
    "`isupper`: Equivalent to built-in str.isupper.\n",
    "\n",
    "`join`: Une las cadenas de cada elemento de la Serie con el separador pasado.\n",
    "\n",
    "`len`: Calcular la longitud de cada cadena.\n",
    "\n",
    "`lower, upper` : Convertir casos; equivalente a x.lower() o x.upper() para cada elemento.\n",
    "\n",
    "`match`: Utiliza re.match con la expresión regular pasada en cada elemento, devolviendo True o False si coincide\n",
    "\n",
    "`pad`: Añadir espacios en blanco a la izquierda, a la derecha o a ambos lados de las cadenas\n",
    "\n",
    "`center`: Equivale a pad(side=\"both\")\n",
    "\n",
    "`replace`: Reemplazar las ocurrencias de un patrón/regex por otra cadena\n",
    "\n",
    "`slice`: Corta cada cadena de la serie\n",
    "\n",
    "`split` : Dividir cadenas según delimitador o expresión regular\n",
    "\n",
    "`strip`: Recorta los espacios en blanco de ambos lados, incluidas las nuevas líneas.\n",
    "\n",
    "`rstrip`: Recortar los espacios en blanco de la derecha.\n",
    "\n",
    "`lstrip`: Recortar los espacios en blanco de la izquierda. "
   ]
  },
  {
   "cell_type": "markdown",
   "id": "97ee542a-6ff4-4353-9c48-4744d8d55ec4",
   "metadata": {},
   "source": [
    "### Ejercicio 5. Expresiones regulares."
   ]
  },
  {
   "cell_type": "markdown",
   "id": "0cc25243-7b9c-45f0-8e17-11094e1947eb",
   "metadata": {},
   "source": [
    "#### Dado el siguiente Diccionario:  "
   ]
  },
  {
   "cell_type": "code",
   "execution_count": 163,
   "id": "d6ccc579-c287-4557-b46a-6ebe636e5761",
   "metadata": {},
   "outputs": [
    {
     "data": {
      "text/plain": [
       "\"\\ndata = {\\n    'Name': [\\n        'Dave', 'Steve', 'Rob', 'Ryan', 'Alice', 'Eve', 'John', 'Jane', 'Peter', 'Mary', 'Tom', 'Lucy', \\n        'Mike', 'Chris', 'Emma', 'Olivia', 'Sophia', 'Liam', 'Noah', 'Mason', 'Ava', 'Mia', 'James', 'Benjamin'\\n    ],\\n    'Email': [\\n        'dave@google.com', 'steve@gmail.com', 'rob@yahoo.com', 'ryan@gmail.com', \\n        'alice@hotmail.com', 'eve@google.com', 'john@outlook.com', 'jane@gmail.com',\\n        'peter@amazon.com', 'mary@google.com', 'tom@apple.com', 'lucy@yahoo.com',\\n        'mike@facebook.com', 'chris@netflix.com', 'emma@google.com', 'olivia@gmail.com',\\n        'sophia@amazon.com', 'liam@apple.com', 'noah@google.com', 'mason@yahoo.com',\\n        'ava@outlook.com', 'mia@gmail.com', 'james@hotmail.com', 'benjamin@google.com'\\n    ]\\n}\\n\""
      ]
     },
     "execution_count": 163,
     "metadata": {},
     "output_type": "execute_result"
    }
   ],
   "source": [
    "'''\n",
    "data = {\n",
    "    'Name': [\n",
    "        'Dave', 'Steve', 'Rob', 'Ryan', 'Alice', 'Eve', 'John', 'Jane', 'Peter', 'Mary', 'Tom', 'Lucy', \n",
    "        'Mike', 'Chris', 'Emma', 'Olivia', 'Sophia', 'Liam', 'Noah', 'Mason', 'Ava', 'Mia', 'James', 'Benjamin'\n",
    "    ],\n",
    "    'Email': [\n",
    "        'dave@google.com', 'steve@gmail.com', 'rob@yahoo.com', 'ryan@gmail.com', \n",
    "        'alice@hotmail.com', 'eve@google.com', 'john@outlook.com', 'jane@gmail.com',\n",
    "        'peter@amazon.com', 'mary@google.com', 'tom@apple.com', 'lucy@yahoo.com',\n",
    "        'mike@facebook.com', 'chris@netflix.com', 'emma@google.com', 'olivia@gmail.com',\n",
    "        'sophia@amazon.com', 'liam@apple.com', 'noah@google.com', 'mason@yahoo.com',\n",
    "        'ava@outlook.com', 'mia@gmail.com', 'james@hotmail.com', 'benjamin@google.com'\n",
    "    ]\n",
    "}\n",
    "'''"
   ]
  },
  {
   "cell_type": "markdown",
   "id": "b0f15d5d-b07e-42f9-bbf9-cc1224a74b4f",
   "metadata": {},
   "source": [
    "### Una vez pasado el diccionario a un DataFrame que contiene nombres y direcciones de correo electrónico, realiza las siguientes tareas:\n",
    "\n",
    "- Extrae los dominios de los correos electrónicos.\n",
    "- Cuenta la frecuencia de cada dominio.\n",
    "- Crea un nuevo DataFrame que contenga cada dominio como columna y el número de veces que se repiten dichos dominios en las filas.\n",
    "#### Resolver de las dos formas: Usando expresiones regulares y usando los métodos propios de pandas."
   ]
  },
  {
   "cell_type": "markdown",
   "id": "3337b807-abb2-49b3-a6be-ad669232a0ef",
   "metadata": {},
   "source": [
    "## Solución con expresiones regulares"
   ]
  },
  {
   "cell_type": "code",
   "execution_count": null,
   "id": "626a3f3c-bf24-4704-836f-dad38774cdea",
   "metadata": {},
   "outputs": [],
   "source": []
  },
  {
   "cell_type": "markdown",
   "id": "15800608-77f1-4412-b9e3-14115ad88bdb",
   "metadata": {},
   "source": [
    "## Solución con los métodos propios de Pandas"
   ]
  },
  {
   "cell_type": "code",
   "execution_count": null,
   "id": "e524e8b8-86ff-4158-b6b5-6235e4472b6a",
   "metadata": {},
   "outputs": [],
   "source": []
  },
  {
   "cell_type": "markdown",
   "id": "16f12770",
   "metadata": {
    "slideshow": {
     "slide_type": "slide"
    }
   },
   "source": [
    "## 2.9 Datos Categóricos"
   ]
  },
  {
   "cell_type": "code",
   "execution_count": 164,
   "id": "b29c62b6",
   "metadata": {
    "slideshow": {
     "slide_type": "slide"
    }
   },
   "outputs": [
    {
     "data": {
      "text/plain": [
       "0     apple\n",
       "1    orange\n",
       "2     apple\n",
       "3     apple\n",
       "4     apple\n",
       "5    orange\n",
       "6     apple\n",
       "7     apple\n",
       "dtype: object"
      ]
     },
     "execution_count": 164,
     "metadata": {},
     "output_type": "execute_result"
    }
   ],
   "source": [
    "values = pd.Series(['apple', 'orange', 'apple',\n",
    "                    'apple'] * 2)\n",
    "values               "
   ]
  },
  {
   "cell_type": "code",
   "execution_count": 165,
   "id": "4190d2c9",
   "metadata": {
    "slideshow": {
     "slide_type": "slide"
    }
   },
   "outputs": [
    {
     "data": {
      "text/plain": [
       "array(['apple', 'orange'], dtype=object)"
      ]
     },
     "execution_count": 165,
     "metadata": {},
     "output_type": "execute_result"
    }
   ],
   "source": [
    "pd.unique(values)"
   ]
  },
  {
   "cell_type": "code",
   "execution_count": 166,
   "id": "bb220f8a",
   "metadata": {},
   "outputs": [
    {
     "name": "stderr",
     "output_type": "stream",
     "text": [
      "C:\\Users\\juanj\\AppData\\Local\\Temp\\ipykernel_17856\\3297668723.py:1: FutureWarning: pandas.value_counts is deprecated and will be removed in a future version. Use pd.Series(obj).value_counts() instead.\n",
      "  pd.value_counts(values)\n"
     ]
    },
    {
     "data": {
      "text/plain": [
       "apple     6\n",
       "orange    2\n",
       "Name: count, dtype: int64"
      ]
     },
     "execution_count": 166,
     "metadata": {},
     "output_type": "execute_result"
    }
   ],
   "source": [
    "pd.value_counts(values)"
   ]
  },
  {
   "cell_type": "code",
   "execution_count": 167,
   "id": "d14e50c3-f471-45e8-a542-61d46caa28f0",
   "metadata": {},
   "outputs": [
    {
     "data": {
      "text/plain": [
       "apple     6\n",
       "orange    2\n",
       "Name: count, dtype: int64"
      ]
     },
     "execution_count": 167,
     "metadata": {},
     "output_type": "execute_result"
    }
   ],
   "source": [
    "pd.Series(values).value_counts()"
   ]
  },
  {
   "cell_type": "markdown",
   "id": "72536dde",
   "metadata": {
    "slideshow": {
     "slide_type": "slide"
    }
   },
   "source": [
    "Muchos sistemas de datos (para almacenamiento de datos, cálculo estadístico u otros usos) han desarrollado enfoques especializados para representar datos con valores repetidos para un almacenamiento y cálculo más eficientes. En el almacenamiento de datos, una práctica recomendada consiste en utilizar las denominadas tablas de dimensiones, que contienen los valores distintos y almacenan las observaciones primarias como claves enteras que hacen referencia a la tabla de dimensiones:"
   ]
  },
  {
   "cell_type": "code",
   "execution_count": 168,
   "id": "5990ccda",
   "metadata": {},
   "outputs": [
    {
     "data": {
      "text/plain": [
       "0    0\n",
       "1    1\n",
       "2    0\n",
       "3    0\n",
       "4    0\n",
       "5    1\n",
       "6    0\n",
       "7    0\n",
       "dtype: int64"
      ]
     },
     "execution_count": 168,
     "metadata": {},
     "output_type": "execute_result"
    }
   ],
   "source": [
    "values = pd.Series([0, 1, 0, 0] * 2)\n",
    "values"
   ]
  },
  {
   "cell_type": "code",
   "execution_count": 169,
   "id": "81b685dd",
   "metadata": {},
   "outputs": [
    {
     "data": {
      "text/plain": [
       "0     apple\n",
       "1    orange\n",
       "dtype: object"
      ]
     },
     "execution_count": 169,
     "metadata": {},
     "output_type": "execute_result"
    }
   ],
   "source": [
    "dim = pd.Series(['apple', 'orange'])\n",
    "dim"
   ]
  },
  {
   "cell_type": "markdown",
   "id": "0ce57bf9",
   "metadata": {
    "slideshow": {
     "slide_type": "slide"
    }
   },
   "source": [
    "Podemos utilizar el método `take` para restaurar la serie original de cadenas:"
   ]
  },
  {
   "cell_type": "code",
   "execution_count": 170,
   "id": "902fa20d",
   "metadata": {},
   "outputs": [
    {
     "data": {
      "text/plain": [
       "0     apple\n",
       "1    orange\n",
       "0     apple\n",
       "0     apple\n",
       "0     apple\n",
       "1    orange\n",
       "0     apple\n",
       "0     apple\n",
       "dtype: object"
      ]
     },
     "execution_count": 170,
     "metadata": {},
     "output_type": "execute_result"
    }
   ],
   "source": [
    "dim.take(values)"
   ]
  },
  {
   "cell_type": "markdown",
   "id": "205356cc",
   "metadata": {
    "slideshow": {
     "slide_type": "slide"
    }
   },
   "source": [
    "Esta representación como números enteros se denomina representación categórica o codificada en diccionario. La array de valores distintos puede denominarse categorías, diccionario o niveles de los datos. Aqui utilizaremos los términos categórico y categorías. Los valores enteros que hacen referencia a las categorías se denominan códigos de categoría o simplemente códigos."
   ]
  },
  {
   "cell_type": "markdown",
   "id": "9745695c-d50f-4f58-bb13-9f0ff202e8da",
   "metadata": {},
   "source": [
    "### Ejemplo"
   ]
  },
  {
   "cell_type": "markdown",
   "id": "00f560d8-56b9-4dc3-a2fc-4e5bba7c9757",
   "metadata": {},
   "source": [
    "Supongamos que tenemos una serie de índices codificados que representan diferentes tipos de mascotas, y una serie de etiquetas que contienen los nombres de las mascotas. Queremos usar el método take para reconstruir las etiquetas originales a partir de los índices."
   ]
  },
  {
   "cell_type": "code",
   "execution_count": 171,
   "id": "a2cbb515-2110-46ba-b102-bcb4a736d952",
   "metadata": {},
   "outputs": [
    {
     "data": {
      "text/plain": [
       "0     cat\n",
       "1     dog\n",
       "2    bird\n",
       "1     dog\n",
       "0     cat\n",
       "2    bird\n",
       "2    bird\n",
       "0     cat\n",
       "dtype: object"
      ]
     },
     "execution_count": 171,
     "metadata": {},
     "output_type": "execute_result"
    }
   ],
   "source": [
    "# Series de índices codificados\n",
    "encoded_labels = pd.Series([0, 1, 2, 1, 0, 2, 2, 0])\n",
    "\n",
    "# Series de etiquetas originales\n",
    "pet_labels = pd.Series(['cat', 'dog', 'bird'])\n",
    "\n",
    "# Reconstruir las etiquetas originales\n",
    "decoded_labels = pet_labels.take(encoded_labels)\n",
    "\n",
    "decoded_labels"
   ]
  },
  {
   "cell_type": "markdown",
   "id": "9efcf502-688c-4d7c-9a71-81b2405c6438",
   "metadata": {},
   "source": [
    "### Ejercicio 6. Dados los siguientes datos:"
   ]
  },
  {
   "cell_type": "code",
   "execution_count": 172,
   "id": "49c80190-a508-44df-bf3c-6fe430b12b29",
   "metadata": {},
   "outputs": [
    {
     "data": {
      "text/plain": [
       "\"\\nencoded_labels = [\\n    0, 1, 2, 3, 0, 4, 5, 6, 2, 1, 3, 0, 5, 4, 6, 1, 2, 5, 4, 3,\\n    7, 8, 9, 10, 7, 11, 12, 13, 9, 8, 10, 7, 12, 11, 13, 8, 9, 12, 11, 10,\\n    14, 15, 16, 17, 18, 19, 20, 21, 22, 23, 24, 25, 26, 27, 28, 29, 30, 31, 32, 33\\n]\\n\\nanimal_labels = [\\n    'cat', 'dog', 'bird', 'fish', 'lion', 'tiger', 'bear', 'elephant', \\n    'giraffe', 'zebra', 'kangaroo', 'koala', 'panda', 'monkey',\\n    'shark', 'whale', 'dolphin', 'penguin', 'ostrich', 'crocodile', \\n    'alligator', 'hippopotamus', 'rhinoceros', 'cheetah', 'leopard', \\n    'jaguar', 'wolf', 'fox', 'rabbit', 'squirrel', 'bat', 'owl', \\n    'hawk', 'eagle'\\n]\\n\\n\""
      ]
     },
     "execution_count": 172,
     "metadata": {},
     "output_type": "execute_result"
    }
   ],
   "source": [
    "'''\n",
    "encoded_labels = [\n",
    "    0, 1, 2, 3, 0, 4, 5, 6, 2, 1, 3, 0, 5, 4, 6, 1, 2, 5, 4, 3,\n",
    "    7, 8, 9, 10, 7, 11, 12, 13, 9, 8, 10, 7, 12, 11, 13, 8, 9, 12, 11, 10,\n",
    "    14, 15, 16, 17, 18, 19, 20, 21, 22, 23, 24, 25, 26, 27, 28, 29, 30, 31, 32, 33\n",
    "]\n",
    "\n",
    "animal_labels = [\n",
    "    'cat', 'dog', 'bird', 'fish', 'lion', 'tiger', 'bear', 'elephant', \n",
    "    'giraffe', 'zebra', 'kangaroo', 'koala', 'panda', 'monkey',\n",
    "    'shark', 'whale', 'dolphin', 'penguin', 'ostrich', 'crocodile', \n",
    "    'alligator', 'hippopotamus', 'rhinoceros', 'cheetah', 'leopard', \n",
    "    'jaguar', 'wolf', 'fox', 'rabbit', 'squirrel', 'bat', 'owl', \n",
    "    'hawk', 'eagle'\n",
    "]\n",
    "\n",
    "'''"
   ]
  },
  {
   "cell_type": "markdown",
   "id": "2f6d77d4-ef42-459f-b729-506c530beb69",
   "metadata": {},
   "source": [
    "1- Recrear las etiquetas originales a partir de los índices codificados.  \n",
    "2- Contar la frecuencia de cada etiqueta de animal.  \n",
    "3- Identificar las etiquetas de animales únicas presentes en los datos.  \n",
    "4- Determinar el animal más frecuente y el menos frecuente.  \n",
    "5- Agrupar los animales y contar la frecuencia por grupos (mamíferos, aves, reptiles, etc.).  \n",
    "6- Identificar la posición de las primeras y últimas ocurrencias de cada animal.  \n",
    "7- Generar un resumen estadístico de las frecuencias de los animales (media, mediana, desviación estándar).  \n",
    "8- Filtrar y mostrar solo los animales con una frecuencia mayor que 2.  \n",
    "9- Encontrar y mostrar las etiquetas de animales que aparecen solo una vez.  \n",
    "10- Calcular el porcentaje de apariciones de cada animal respecto al total.  \n",
    "11- Ordenar las etiquetas de animales por frecuencia en orden descendente.  \n",
    "12- Generar un DataFrame que muestre la frecuencia acumulativa de las etiquetas."
   ]
  },
  {
   "cell_type": "markdown",
   "id": "c8311a57",
   "metadata": {
    "slideshow": {
     "slide_type": "slide"
    }
   },
   "source": [
    "### 2.10 Extension de tipos de datos categóricos en Pandas"
   ]
  },
  {
   "cell_type": "markdown",
   "id": "9f4e76ce",
   "metadata": {},
   "source": [
    "Pandas tiene un tipo de extensión especial `Categorical` para contener datos que utilizan la representación o codificación categórica basada en enteros. Esta es una técnica popular de compresión de datos para datos con muchas ocurrencias de valores similares y puede proporcionar un rendimiento significativamente más rápido con un menor uso de memoria, especialmente para datos de cadenas."
   ]
  },
  {
   "cell_type": "markdown",
   "id": "7fca37ed",
   "metadata": {
    "slideshow": {
     "slide_type": "slide"
    }
   },
   "source": [
    "Volvamos al ejemplo de la serie anterior:"
   ]
  },
  {
   "cell_type": "code",
   "execution_count": 175,
   "id": "fa7d8110",
   "metadata": {},
   "outputs": [],
   "source": [
    "fruits = ['apple', 'orange', 'apple', 'apple'] * 2"
   ]
  },
  {
   "cell_type": "code",
   "execution_count": 176,
   "id": "b1d0527e",
   "metadata": {
    "slideshow": {
     "slide_type": "slide"
    }
   },
   "outputs": [
    {
     "data": {
      "text/plain": [
       "8"
      ]
     },
     "execution_count": 176,
     "metadata": {},
     "output_type": "execute_result"
    }
   ],
   "source": [
    "N = len(fruits)\n",
    "N"
   ]
  },
  {
   "cell_type": "code",
   "execution_count": 174,
   "id": "f1f0f9ca",
   "metadata": {},
   "outputs": [],
   "source": [
    "rng = np.random.default_rng(seed=12345)\n",
    "# para crear una instancia de un generador de números aleatorio"
   ]
  },
  {
   "cell_type": "code",
   "execution_count": 178,
   "id": "15905118",
   "metadata": {
    "slideshow": {
     "slide_type": "slide"
    }
   },
   "outputs": [
    {
     "data": {
      "text/html": [
       "<div>\n",
       "<style scoped>\n",
       "    .dataframe tbody tr th:only-of-type {\n",
       "        vertical-align: middle;\n",
       "    }\n",
       "\n",
       "    .dataframe tbody tr th {\n",
       "        vertical-align: top;\n",
       "    }\n",
       "\n",
       "    .dataframe thead th {\n",
       "        text-align: right;\n",
       "    }\n",
       "</style>\n",
       "<table border=\"1\" class=\"dataframe\">\n",
       "  <thead>\n",
       "    <tr style=\"text-align: right;\">\n",
       "      <th></th>\n",
       "      <th>basket_id</th>\n",
       "      <th>fruit</th>\n",
       "      <th>count</th>\n",
       "      <th>weight</th>\n",
       "    </tr>\n",
       "  </thead>\n",
       "  <tbody>\n",
       "    <tr>\n",
       "      <th>0</th>\n",
       "      <td>0</td>\n",
       "      <td>apple</td>\n",
       "      <td>11</td>\n",
       "      <td>2.789814</td>\n",
       "    </tr>\n",
       "    <tr>\n",
       "      <th>1</th>\n",
       "      <td>1</td>\n",
       "      <td>orange</td>\n",
       "      <td>11</td>\n",
       "      <td>1.305891</td>\n",
       "    </tr>\n",
       "    <tr>\n",
       "      <th>2</th>\n",
       "      <td>2</td>\n",
       "      <td>apple</td>\n",
       "      <td>4</td>\n",
       "      <td>2.935713</td>\n",
       "    </tr>\n",
       "    <tr>\n",
       "      <th>3</th>\n",
       "      <td>3</td>\n",
       "      <td>apple</td>\n",
       "      <td>4</td>\n",
       "      <td>0.880540</td>\n",
       "    </tr>\n",
       "    <tr>\n",
       "      <th>4</th>\n",
       "      <td>4</td>\n",
       "      <td>apple</td>\n",
       "      <td>6</td>\n",
       "      <td>0.326378</td>\n",
       "    </tr>\n",
       "    <tr>\n",
       "      <th>5</th>\n",
       "      <td>5</td>\n",
       "      <td>orange</td>\n",
       "      <td>8</td>\n",
       "      <td>0.639582</td>\n",
       "    </tr>\n",
       "    <tr>\n",
       "      <th>6</th>\n",
       "      <td>6</td>\n",
       "      <td>apple</td>\n",
       "      <td>3</td>\n",
       "      <td>1.360401</td>\n",
       "    </tr>\n",
       "    <tr>\n",
       "      <th>7</th>\n",
       "      <td>7</td>\n",
       "      <td>apple</td>\n",
       "      <td>13</td>\n",
       "      <td>1.860773</td>\n",
       "    </tr>\n",
       "  </tbody>\n",
       "</table>\n",
       "</div>"
      ],
      "text/plain": [
       "   basket_id   fruit  count    weight\n",
       "0          0   apple     11  2.789814\n",
       "1          1  orange     11  1.305891\n",
       "2          2   apple      4  2.935713\n",
       "3          3   apple      4  0.880540\n",
       "4          4   apple      6  0.326378\n",
       "5          5  orange      8  0.639582\n",
       "6          6   apple      3  1.360401\n",
       "7          7   apple     13  1.860773"
      ]
     },
     "execution_count": 178,
     "metadata": {},
     "output_type": "execute_result"
    }
   ],
   "source": [
    "df = pd.DataFrame({'fruit': fruits,\n",
    "                   'basket_id': np.arange(N),\n",
    "                   'count': rng.integers(3, 15, size=N),\n",
    "                   'weight': rng.uniform(0, 4, size=N)},\n",
    "                    columns=['basket_id', 'fruit', 'count', 'weight'])\n",
    "\n",
    "df"
   ]
  },
  {
   "cell_type": "markdown",
   "id": "6aa2f9c8",
   "metadata": {
    "slideshow": {
     "slide_type": "slide"
    }
   },
   "source": [
    "Aquí, `df['fruta']` es un array de objetos de cadena de Python. Podemos convertirlo en categórico llamando a:"
   ]
  },
  {
   "cell_type": "code",
   "execution_count": 179,
   "id": "e0fb8938-d29d-42eb-aa4c-5e0292c0bb2a",
   "metadata": {},
   "outputs": [
    {
     "data": {
      "text/plain": [
       "0     apple\n",
       "1    orange\n",
       "2     apple\n",
       "3     apple\n",
       "4     apple\n",
       "5    orange\n",
       "6     apple\n",
       "7     apple\n",
       "Name: fruit, dtype: object"
      ]
     },
     "execution_count": 179,
     "metadata": {},
     "output_type": "execute_result"
    }
   ],
   "source": [
    "columna = df['fruit']\n",
    "columna"
   ]
  },
  {
   "cell_type": "code",
   "execution_count": 181,
   "id": "da16ef22",
   "metadata": {},
   "outputs": [
    {
     "data": {
      "text/plain": [
       "0     apple\n",
       "1    orange\n",
       "2     apple\n",
       "3     apple\n",
       "4     apple\n",
       "5    orange\n",
       "6     apple\n",
       "7     apple\n",
       "Name: fruit, dtype: category\n",
       "Categories (2, object): ['apple', 'orange']"
      ]
     },
     "execution_count": 181,
     "metadata": {},
     "output_type": "execute_result"
    }
   ],
   "source": [
    "fruit_cat = df['fruit'].astype('category')\n",
    "fruit_cat"
   ]
  },
  {
   "cell_type": "markdown",
   "id": "5eeb1fde",
   "metadata": {
    "slideshow": {
     "slide_type": "slide"
    }
   },
   "source": [
    "Los valores de `fruit_cat` son ahora una instancia de `pandas.Categorical`, a la que se puede acceder mediante el atributo .array:"
   ]
  },
  {
   "cell_type": "code",
   "execution_count": 184,
   "id": "9bce5baf",
   "metadata": {},
   "outputs": [
    {
     "data": {
      "text/plain": [
       "pandas.core.arrays.categorical.Categorical"
      ]
     },
     "execution_count": 184,
     "metadata": {},
     "output_type": "execute_result"
    }
   ],
   "source": [
    "c = fruit_cat.array\n",
    "type(c)"
   ]
  },
  {
   "cell_type": "markdown",
   "id": "c9aae8aa",
   "metadata": {
    "slideshow": {
     "slide_type": "slide"
    }
   },
   "source": [
    "El objeto `Categorical` tiene atributos de categorías y códigos:"
   ]
  },
  {
   "cell_type": "code",
   "execution_count": 183,
   "id": "e776d430",
   "metadata": {},
   "outputs": [
    {
     "data": {
      "text/plain": [
       "Index(['apple', 'orange'], dtype='object')"
      ]
     },
     "execution_count": 183,
     "metadata": {},
     "output_type": "execute_result"
    }
   ],
   "source": [
    "c.categories"
   ]
  },
  {
   "cell_type": "code",
   "execution_count": 185,
   "id": "9ee319ff",
   "metadata": {},
   "outputs": [
    {
     "data": {
      "text/plain": [
       "array([0, 1, 0, 0, 0, 1, 0, 0], dtype=int8)"
      ]
     },
     "execution_count": 185,
     "metadata": {},
     "output_type": "execute_result"
    }
   ],
   "source": [
    "c.codes\n",
    "# proporciona un array de enteros que representa las categorías en fruit_cat \n",
    "# de manera eficiente. Cada entero en el array corresponde a una categoría específica,\n",
    "# lo que permite un almacenamiento y procesamiento de datos categóricos más eficiente y rápido en Pandas."
   ]
  },
  {
   "cell_type": "markdown",
   "id": "f4eea820",
   "metadata": {
    "slideshow": {
     "slide_type": "slide"
    }
   },
   "source": [
    "Un truco útil para obtener una correspondencia entre códigos y categorías es:"
   ]
  },
  {
   "cell_type": "code",
   "execution_count": 186,
   "id": "5d1a0156",
   "metadata": {},
   "outputs": [
    {
     "data": {
      "text/plain": [
       "{0: 'apple', 1: 'orange'}"
      ]
     },
     "execution_count": 186,
     "metadata": {},
     "output_type": "execute_result"
    }
   ],
   "source": [
    "dict(enumerate(c.categories))\n"
   ]
  },
  {
   "cell_type": "markdown",
   "id": "3928f41c",
   "metadata": {
    "slideshow": {
     "slide_type": "slide"
    }
   },
   "source": [
    "Puede convertir una columna DataFrame en categórica asignando el resultado convertido:"
   ]
  },
  {
   "cell_type": "code",
   "execution_count": 194,
   "id": "e5c721d2-1a6f-4b9c-8e6f-81fff241b73d",
   "metadata": {},
   "outputs": [
    {
     "name": "stdout",
     "output_type": "stream",
     "text": [
      "object\n"
     ]
    }
   ],
   "source": [
    "# Veamos el tipo de dato de la columna fruit\n",
    "print(df['fruit'].dtype)"
   ]
  },
  {
   "cell_type": "code",
   "execution_count": 198,
   "id": "8ae58662",
   "metadata": {},
   "outputs": [],
   "source": [
    "df['fruit'] = df['fruit'].astype('category')"
   ]
  },
  {
   "cell_type": "code",
   "execution_count": 199,
   "id": "1e348cd6",
   "metadata": {},
   "outputs": [
    {
     "data": {
      "text/plain": [
       "0     apple\n",
       "1    orange\n",
       "2     apple\n",
       "3     apple\n",
       "4     apple\n",
       "5    orange\n",
       "6     apple\n",
       "7     apple\n",
       "Name: fruit, dtype: category\n",
       "Categories (2, object): ['apple', 'orange']"
      ]
     },
     "execution_count": 199,
     "metadata": {},
     "output_type": "execute_result"
    }
   ],
   "source": [
    "df[\"fruit\"]"
   ]
  },
  {
   "cell_type": "code",
   "execution_count": 200,
   "id": "2b0003cc-2af4-409a-8b66-b65af2e2bfdc",
   "metadata": {},
   "outputs": [
    {
     "name": "stdout",
     "output_type": "stream",
     "text": [
      "category\n"
     ]
    }
   ],
   "source": [
    "# o tambien\n",
    "print(df['fruit'].dtype)"
   ]
  },
  {
   "cell_type": "markdown",
   "id": "2ff960be",
   "metadata": {
    "slideshow": {
     "slide_type": "slide"
    }
   },
   "source": [
    "También puede crear `pandas.Categorical` directamente a partir de otros tipos de secuencias de Python:"
   ]
  },
  {
   "cell_type": "code",
   "execution_count": 201,
   "id": "a479e9f7",
   "metadata": {},
   "outputs": [
    {
     "data": {
      "text/plain": [
       "['foo', 'bar', 'baz', 'foo', 'bar']\n",
       "Categories (3, object): ['bar', 'baz', 'foo']"
      ]
     },
     "execution_count": 201,
     "metadata": {},
     "output_type": "execute_result"
    }
   ],
   "source": [
    "my_categories = pd.Categorical(['foo', 'bar', 'baz', 'foo', 'bar'])\n",
    "my_categories"
   ]
  },
  {
   "cell_type": "code",
   "execution_count": 202,
   "id": "2cc75390-22ba-47df-aaea-2786e9eaf1ee",
   "metadata": {},
   "outputs": [
    {
     "name": "stdout",
     "output_type": "stream",
     "text": [
      "category\n"
     ]
    }
   ],
   "source": [
    "print(my_categories.dtype)"
   ]
  },
  {
   "cell_type": "markdown",
   "id": "dd690558",
   "metadata": {
    "slideshow": {
     "slide_type": "slide"
    }
   },
   "source": [
    "Si ha obtenido datos categóricos codificados de otra fuente, puede utilizar el constructor alternativo `from_codes`:"
   ]
  },
  {
   "cell_type": "code",
   "execution_count": 203,
   "id": "eba6b4bb",
   "metadata": {},
   "outputs": [],
   "source": [
    "categories = ['foo', 'bar', 'baz']\n",
    "codes = [0, 1, 2, 0, 0, 1]"
   ]
  },
  {
   "cell_type": "code",
   "execution_count": 158,
   "id": "6ec17d44",
   "metadata": {
    "slideshow": {
     "slide_type": "slide"
    }
   },
   "outputs": [
    {
     "data": {
      "text/plain": [
       "['foo', 'bar', 'baz', 'foo', 'foo', 'bar']\n",
       "Categories (3, object): ['foo', 'bar', 'baz']"
      ]
     },
     "execution_count": 158,
     "metadata": {},
     "output_type": "execute_result"
    }
   ],
   "source": [
    "my_cats_2 = pd.Categorical.from_codes(codes, categories)\n",
    "my_cats_2"
   ]
  },
  {
   "cell_type": "markdown",
   "id": "f2fd49f9",
   "metadata": {
    "slideshow": {
     "slide_type": "slide"
    }
   },
   "source": [
    "A menos que se especifique explícitamente, las conversiones categóricas no asumen un orden específico de las categorías. Por lo tanto, el array de categorías puede estar en un orden diferente dependiendo del orden de los datos de entrada. Cuando utilice `from_codes` o cualquiera de los otros constructores, puede indicar que las categorías tienen un orden significativo:"
   ]
  },
  {
   "cell_type": "code",
   "execution_count": 159,
   "id": "1e621ac6",
   "metadata": {},
   "outputs": [
    {
     "data": {
      "text/plain": [
       "['foo', 'bar', 'baz', 'foo', 'foo', 'bar']\n",
       "Categories (3, object): ['foo' < 'bar' < 'baz']"
      ]
     },
     "execution_count": 159,
     "metadata": {},
     "output_type": "execute_result"
    }
   ],
   "source": [
    "ordered_cat = pd.Categorical.from_codes(codes, categories,\n",
    "                                        ordered=True)\n",
    "ordered_cat"
   ]
  },
  {
   "cell_type": "markdown",
   "id": "0fa99e7d",
   "metadata": {
    "slideshow": {
     "slide_type": "slide"
    }
   },
   "source": [
    "La salida `[foo < bar < baz]` indica que 'foo' precede a 'bar' en la ordenación, y así sucesivamente. Una instancia categórica desordenada puede ordenarse con `as_ordered`:"
   ]
  },
  {
   "cell_type": "code",
   "execution_count": 160,
   "id": "9b4f35e8",
   "metadata": {},
   "outputs": [
    {
     "data": {
      "text/plain": [
       "['foo', 'bar', 'baz', 'foo', 'foo', 'bar']\n",
       "Categories (3, object): ['foo' < 'bar' < 'baz']"
      ]
     },
     "execution_count": 160,
     "metadata": {},
     "output_type": "execute_result"
    }
   ],
   "source": [
    "my_cats_2.as_ordered()"
   ]
  },
  {
   "cell_type": "markdown",
   "id": "d885f030-15dd-4138-a9a4-444780b4c738",
   "metadata": {},
   "source": [
    "Por ejemplo, si las categorías representan niveles de satisfacción como 'low', 'medium', y 'high', puedes definirlas con un orden:"
   ]
  },
  {
   "cell_type": "code",
   "execution_count": 205,
   "id": "5e9d9457-8a0a-4148-b0d0-ff87ef2a8a67",
   "metadata": {},
   "outputs": [
    {
     "name": "stdout",
     "output_type": "stream",
     "text": [
      "['low', 'medium', 'high', 'low', 'medium', 'high']\n",
      "Categories (3, object): ['low' < 'medium' < 'high']\n"
     ]
    }
   ],
   "source": [
    "categories = ['low', 'medium', 'high']\n",
    "codes = [0, 1, 2, 0, 1, 2]\n",
    "\n",
    "# Crear un objeto categórico con un orden\n",
    "ordered_cats = pd.Categorical.from_codes(codes, categories, ordered=True)\n",
    "\n",
    "# Mostrar el resultado\n",
    "print(ordered_cats)"
   ]
  },
  {
   "cell_type": "markdown",
   "id": "67fe70cf",
   "metadata": {
    "slideshow": {
     "slide_type": "slide"
    }
   },
   "source": [
    "Por último, los datos categóricos no tienen por qué ser cadenas, aunque sólo he mostrado ejemplos de cadenas. Un array categórico puede consistir en cualquier tipo de valor inmutable."
   ]
  },
  {
   "cell_type": "markdown",
   "id": "006a2453-f44b-40f2-b7ce-3326c71b7716",
   "metadata": {},
   "source": [
    "### Ejercicio 7. Análisis de Tipos de Productos en una Tienda"
   ]
  },
  {
   "cell_type": "code",
   "execution_count": 207,
   "id": "bbd04eda-6b3d-4aea-97f7-e405622a2436",
   "metadata": {},
   "outputs": [],
   "source": [
    "### Partiendo del siguiente diccionario:\n",
    "data = {\n",
    "    'product_id': [1, 2, 3, 4, 5, 6],\n",
    "    'product_name': ['apple', 'banana', 'carrot', 'apple', 'banana', 'carrot'],\n",
    "    'category': ['fruit', 'fruit', 'vegetable', 'fruit', 'fruit', 'vegetable']\n",
    "}"
   ]
  },
  {
   "cell_type": "markdown",
   "id": "80d788e4-b309-4026-bbeb-10fb30719b1d",
   "metadata": {},
   "source": [
    "1- Llevar el dicionario a un dataframe y mostrarlo.  \n",
    "2- Consultar los tipos de datos de cada columna.  \n",
    "3- Convertir la Columna category a Tipo Categórico.    \n",
    "4- Acceder a las Categorías y Códigos (cat.categories y cat.codes)"
   ]
  },
  {
   "cell_type": "markdown",
   "id": "2aad9de0",
   "metadata": {
    "slideshow": {
     "slide_type": "slide"
    }
   },
   "source": [
    "### 2.11 Cálculos con datos categóricos"
   ]
  },
  {
   "cell_type": "markdown",
   "id": "289f3d28",
   "metadata": {
    "slideshow": {
     "slide_type": "slide"
    }
   },
   "source": [
    "El uso de `Categorical` en pandas comparado con la versión no codificada (como un array de cadenas) generalmente se comporta de la misma manera. Algunas partes de pandas, como la función `groupby`, funcionan mejor cuando se trabaja con `categoricals`. También hay algunas funciones que pueden utilizar la bandera `ordered`.\n",
    "\n",
    "Consideremos algunos datos numéricos aleatorios y utilicemos la función `pandas.qcut binning`. Esto devuelve `pandas.Categorical`; hemos usado `pandas.cut` anteriormente pero hemos pasado por alto los detalles de cómo funcionan los categóricos:"
   ]
  },
  {
   "cell_type": "code",
   "execution_count": 208,
   "id": "f37d854b",
   "metadata": {
    "slideshow": {
     "slide_type": "slide"
    }
   },
   "outputs": [
    {
     "data": {
      "text/plain": [
       "array([-1.42382504,  1.26372846, -0.87066174, -0.25917323, -0.07534331])"
      ]
     },
     "execution_count": 208,
     "metadata": {},
     "output_type": "execute_result"
    }
   ],
   "source": [
    "rng = np.random.default_rng(seed=12345)\n",
    "\n",
    "draws = rng.standard_normal(1000)\n",
    "\n",
    "draws[:5]"
   ]
  },
  {
   "cell_type": "markdown",
   "id": "9fddcaf8",
   "metadata": {
    "slideshow": {
     "slide_type": "slide"
    }
   },
   "source": [
    "Calculemos un intervalo de cuartiles de estos datos y extraigamos algunas estadísticas:"
   ]
  },
  {
   "cell_type": "code",
   "execution_count": 209,
   "id": "3bc93262",
   "metadata": {
    "slideshow": {
     "slide_type": "slide"
    }
   },
   "outputs": [
    {
     "data": {
      "text/plain": [
       "[(-3.121, -0.675], (0.687, 3.211], (-3.121, -0.675], (-0.675, 0.0134], (-0.675, 0.0134], ..., (0.0134, 0.687], (0.0134, 0.687], (-0.675, 0.0134], (0.0134, 0.687], (-0.675, 0.0134]]\n",
       "Length: 1000\n",
       "Categories (4, interval[float64, right]): [(-3.121, -0.675] < (-0.675, 0.0134] < (0.0134, 0.687] < (0.687, 3.211]]"
      ]
     },
     "execution_count": 209,
     "metadata": {},
     "output_type": "execute_result"
    }
   ],
   "source": [
    "bins = pd.qcut(draws, 4)\n",
    "bins"
   ]
  },
  {
   "cell_type": "markdown",
   "id": "3f07f374",
   "metadata": {
    "slideshow": {
     "slide_type": "slide"
    }
   },
   "source": [
    "Aunque son útiles, los cuartiles exactos de la muestra pueden ser menos útiles para elaborar un informe que los nombres de los cuartiles. Podemos conseguirlo con el argumento labels de `qcut`:"
   ]
  },
  {
   "cell_type": "code",
   "execution_count": 210,
   "id": "bdb6ea74",
   "metadata": {
    "slideshow": {
     "slide_type": "slide"
    }
   },
   "outputs": [
    {
     "data": {
      "text/plain": [
       "['Q1', 'Q4', 'Q1', 'Q2', 'Q2', ..., 'Q3', 'Q3', 'Q2', 'Q3', 'Q2']\n",
       "Length: 1000\n",
       "Categories (4, object): ['Q1' < 'Q2' < 'Q3' < 'Q4']"
      ]
     },
     "execution_count": 210,
     "metadata": {},
     "output_type": "execute_result"
    }
   ],
   "source": [
    "bins = pd.qcut(draws, 4, labels=['Q1', 'Q2', 'Q3', 'Q4'])\n",
    "bins"
   ]
  },
  {
   "cell_type": "code",
   "execution_count": 211,
   "id": "ba144c8b",
   "metadata": {
    "slideshow": {
     "slide_type": "slide"
    }
   },
   "outputs": [
    {
     "data": {
      "text/plain": [
       "array([0, 3, 0, 1, 1, 0, 0, 2, 2, 0], dtype=int8)"
      ]
     },
     "execution_count": 211,
     "metadata": {},
     "output_type": "execute_result"
    }
   ],
   "source": [
    "bins.codes[:10]"
   ]
  },
  {
   "cell_type": "markdown",
   "id": "6d28386c",
   "metadata": {
    "slideshow": {
     "slide_type": "slide"
    }
   },
   "source": [
    "La etiqueta categórica `bins` no contiene información sobre los bordes de los bins en los datos, por lo que podemos utilizar `groupby` para extraer algunos estadísticos de resumen:"
   ]
  },
  {
   "cell_type": "code",
   "execution_count": 212,
   "id": "264157af",
   "metadata": {
    "slideshow": {
     "slide_type": "slide"
    }
   },
   "outputs": [],
   "source": [
    "bins = pd.Series(bins, name='quartile')"
   ]
  },
  {
   "cell_type": "code",
   "execution_count": 214,
   "id": "1ac768be",
   "metadata": {
    "slideshow": {
     "slide_type": "slide"
    }
   },
   "outputs": [
    {
     "data": {
      "text/html": [
       "<div>\n",
       "<style scoped>\n",
       "    .dataframe tbody tr th:only-of-type {\n",
       "        vertical-align: middle;\n",
       "    }\n",
       "\n",
       "    .dataframe tbody tr th {\n",
       "        vertical-align: top;\n",
       "    }\n",
       "\n",
       "    .dataframe thead th {\n",
       "        text-align: right;\n",
       "    }\n",
       "</style>\n",
       "<table border=\"1\" class=\"dataframe\">\n",
       "  <thead>\n",
       "    <tr style=\"text-align: right;\">\n",
       "      <th></th>\n",
       "      <th>quartile</th>\n",
       "      <th>count</th>\n",
       "      <th>min</th>\n",
       "      <th>max</th>\n",
       "    </tr>\n",
       "  </thead>\n",
       "  <tbody>\n",
       "    <tr>\n",
       "      <th>0</th>\n",
       "      <td>Q1</td>\n",
       "      <td>250</td>\n",
       "      <td>-3.119609</td>\n",
       "      <td>-0.678494</td>\n",
       "    </tr>\n",
       "    <tr>\n",
       "      <th>1</th>\n",
       "      <td>Q2</td>\n",
       "      <td>250</td>\n",
       "      <td>-0.673305</td>\n",
       "      <td>0.008009</td>\n",
       "    </tr>\n",
       "    <tr>\n",
       "      <th>2</th>\n",
       "      <td>Q3</td>\n",
       "      <td>250</td>\n",
       "      <td>0.018753</td>\n",
       "      <td>0.686183</td>\n",
       "    </tr>\n",
       "    <tr>\n",
       "      <th>3</th>\n",
       "      <td>Q4</td>\n",
       "      <td>250</td>\n",
       "      <td>0.688282</td>\n",
       "      <td>3.211418</td>\n",
       "    </tr>\n",
       "  </tbody>\n",
       "</table>\n",
       "</div>"
      ],
      "text/plain": [
       "  quartile  count       min       max\n",
       "0       Q1    250 -3.119609 -0.678494\n",
       "1       Q2    250 -0.673305  0.008009\n",
       "2       Q3    250  0.018753  0.686183\n",
       "3       Q4    250  0.688282  3.211418"
      ]
     },
     "execution_count": 214,
     "metadata": {},
     "output_type": "execute_result"
    }
   ],
   "source": [
    "results = (pd.Series(draws)\n",
    "           .groupby(bins, observed=True)\n",
    "           .agg(['count', 'min', 'max'])\n",
    "           .reset_index())\n",
    "# el método agg calcula las estadísticas resumidas para cada grupo, \n",
    "# en este caso, el número de elementos en cada grupo, \n",
    "# el valor mínimo y el valor máximo.\n",
    "results"
   ]
  },
  {
   "cell_type": "markdown",
   "id": "63dca4af",
   "metadata": {
    "slideshow": {
     "slide_type": "slide"
    }
   },
   "source": [
    "La columna \"quartile\" del resultado conserva la información categórica original, incluida la ordenación, de los intervalos:"
   ]
  },
  {
   "cell_type": "code",
   "execution_count": 169,
   "id": "a3651584",
   "metadata": {
    "slideshow": {
     "slide_type": "slide"
    }
   },
   "outputs": [
    {
     "data": {
      "text/plain": [
       "0    Q1\n",
       "1    Q2\n",
       "2    Q3\n",
       "3    Q4\n",
       "Name: quartile, dtype: category\n",
       "Categories (4, object): ['Q1' < 'Q2' < 'Q3' < 'Q4']"
      ]
     },
     "execution_count": 169,
     "metadata": {},
     "output_type": "execute_result"
    }
   ],
   "source": [
    "results['quartile']"
   ]
  },
  {
   "cell_type": "markdown",
   "id": "bb5d5b22",
   "metadata": {
    "slideshow": {
     "slide_type": "slide"
    }
   },
   "source": [
    "### Mejor rendimiento con categóricos"
   ]
  },
  {
   "cell_type": "markdown",
   "id": "c494e515",
   "metadata": {},
   "source": [
    "Como anteriormente se ha dicho que los tipos categóricos pueden mejorar el rendimiento y el uso de memoria, así que veamos algunos ejemplos. Consideremos una serie con 10 millones de elementos y un pequeño número de categorías distintas:"
   ]
  },
  {
   "cell_type": "code",
   "execution_count": 218,
   "id": "827c3915",
   "metadata": {
    "slideshow": {
     "slide_type": "slide"
    }
   },
   "outputs": [],
   "source": [
    "N = 10_000_000"
   ]
  },
  {
   "cell_type": "code",
   "execution_count": 219,
   "id": "2e58d70b",
   "metadata": {},
   "outputs": [
    {
     "data": {
      "text/plain": [
       "0              Vegano\n",
       "1           Ecológico\n",
       "2          Sin GLuten\n",
       "3              Normal\n",
       "4              Vegano\n",
       "              ...    \n",
       "9999995        Normal\n",
       "9999996        Vegano\n",
       "9999997     Ecológico\n",
       "9999998    Sin GLuten\n",
       "9999999        Normal\n",
       "Length: 10000000, dtype: object"
      ]
     },
     "execution_count": 219,
     "metadata": {},
     "output_type": "execute_result"
    }
   ],
   "source": [
    "labels = pd.Series(['Vegano', 'Ecológico', 'Sin GLuten', 'Normal'] * (N // 4))\n",
    "labels"
   ]
  },
  {
   "cell_type": "markdown",
   "id": "4b25401d",
   "metadata": {
    "slideshow": {
     "slide_type": "slide"
    }
   },
   "source": [
    "Ahora convertimos las etiquetas en categóricas:"
   ]
  },
  {
   "cell_type": "code",
   "execution_count": 220,
   "id": "d887718d",
   "metadata": {},
   "outputs": [],
   "source": [
    "categories = labels.astype('category')"
   ]
  },
  {
   "cell_type": "code",
   "execution_count": 221,
   "id": "745ec49b-284f-4d15-8782-daf09c30523f",
   "metadata": {},
   "outputs": [
    {
     "data": {
      "text/plain": [
       "0        Vegano\n",
       "1     Ecológico\n",
       "2    Sin GLuten\n",
       "3        Normal\n",
       "4        Vegano\n",
       "dtype: category\n",
       "Categories (4, object): ['Ecológico', 'Normal', 'Sin GLuten', 'Vegano']"
      ]
     },
     "execution_count": 221,
     "metadata": {},
     "output_type": "execute_result"
    }
   ],
   "source": [
    "categories.head()"
   ]
  },
  {
   "cell_type": "markdown",
   "id": "9c883624",
   "metadata": {
    "slideshow": {
     "slide_type": "slide"
    }
   },
   "source": [
    "Ahora observamos que las etiquetas utilizan bastante más memoria que las categorías:"
   ]
  },
  {
   "cell_type": "code",
   "execution_count": 222,
   "id": "f447f96f",
   "metadata": {
    "slideshow": {
     "slide_type": "slide"
    }
   },
   "outputs": [
    {
     "data": {
      "text/plain": [
       "735000132"
      ]
     },
     "execution_count": 222,
     "metadata": {},
     "output_type": "execute_result"
    }
   ],
   "source": [
    "labels.memory_usage(deep=True)"
   ]
  },
  {
   "cell_type": "code",
   "execution_count": 223,
   "id": "75cdad8c",
   "metadata": {},
   "outputs": [
    {
     "data": {
      "text/plain": [
       "10000598"
      ]
     },
     "execution_count": 223,
     "metadata": {},
     "output_type": "execute_result"
    }
   ],
   "source": [
    "categories.memory_usage(deep=True)"
   ]
  },
  {
   "cell_type": "markdown",
   "id": "8e8ae56f",
   "metadata": {
    "slideshow": {
     "slide_type": "slide"
    }
   },
   "source": [
    "La conversión a categoría no es gratuita, por supuesto, pero es un coste único:"
   ]
  },
  {
   "cell_type": "code",
   "execution_count": 225,
   "id": "96e00a8f",
   "metadata": {},
   "outputs": [
    {
     "name": "stdout",
     "output_type": "stream",
     "text": [
      "CPU times: total: 516 ms\n",
      "Wall time: 629 ms\n"
     ]
    }
   ],
   "source": [
    "%time _ = labels.astype('category')\n",
    "# se utiliza para medir el tiempo que tarda en ejecutarse\n",
    "# la conversión de una Serie de Pandas a un tipo categórico."
   ]
  },
  {
   "cell_type": "markdown",
   "id": "31713d87-20d7-4285-850e-40e0b038560c",
   "metadata": {},
   "source": [
    "`CPU time (516 ms)`: La CPU tardó un total de 516 milisegundos ejecutando la operación de conversión.  \n",
    "`Wall time (629 ms)`: El tiempo total transcurrido, incluyendo cualquier espera por recursos, fue de 629 milisegundos."
   ]
  },
  {
   "cell_type": "markdown",
   "id": "d64f1636",
   "metadata": {
    "slideshow": {
     "slide_type": "slide"
    }
   },
   "source": [
    "Las operaciones `GroupBy` pueden ser significativamente más rápidas con categóricas porque los algoritmos subyacentes utilizan arrays de códigos basada en enteros en lugar de un array  de cadenas. Aquí comparamos el rendimiento de value_counts(), que utiliza internamente el método `GroupBy`:"
   ]
  },
  {
   "cell_type": "code",
   "execution_count": 226,
   "id": "918708ed",
   "metadata": {
    "slideshow": {
     "slide_type": "slide"
    }
   },
   "outputs": [
    {
     "name": "stdout",
     "output_type": "stream",
     "text": [
      "411 ms ± 43.1 ms per loop (mean ± std. dev. of 7 runs, 1 loop each)\n"
     ]
    }
   ],
   "source": [
    " %timeit labels.value_counts()"
   ]
  },
  {
   "cell_type": "code",
   "execution_count": 227,
   "id": "43b88993",
   "metadata": {},
   "outputs": [
    {
     "name": "stdout",
     "output_type": "stream",
     "text": [
      "58.9 ms ± 3.04 ms per loop (mean ± std. dev. of 7 runs, 10 loops each)\n"
     ]
    }
   ],
   "source": [
    "%timeit categories.value_counts()"
   ]
  },
  {
   "cell_type": "markdown",
   "id": "170248f9",
   "metadata": {
    "slideshow": {
     "slide_type": "slide"
    }
   },
   "source": [
    "###  Métodos categóricos"
   ]
  },
  {
   "cell_type": "markdown",
   "id": "d17712c1",
   "metadata": {
    "slideshow": {
     "slide_type": "slide"
    }
   },
   "source": [
    "Las series que contienen datos categóricos disponen de varios métodos especiales similares a los métodos de cadena especializados de Series.str. Esto también proporciona un acceso conveniente a las categorías y códigos. Considere la Serie:"
   ]
  },
  {
   "cell_type": "code",
   "execution_count": 229,
   "id": "51dbf164",
   "metadata": {
    "slideshow": {
     "slide_type": "slide"
    }
   },
   "outputs": [
    {
     "data": {
      "text/plain": [
       "0    a\n",
       "1    b\n",
       "2    c\n",
       "3    d\n",
       "4    a\n",
       "5    b\n",
       "6    c\n",
       "7    d\n",
       "dtype: object"
      ]
     },
     "execution_count": 229,
     "metadata": {},
     "output_type": "execute_result"
    }
   ],
   "source": [
    "s = pd.Series(['a', 'b', 'c', 'd'] * 2)  \n",
    "s"
   ]
  },
  {
   "cell_type": "code",
   "execution_count": 230,
   "id": "4e8e558f-0c04-4b9d-bd57-7aac19830d4e",
   "metadata": {},
   "outputs": [
    {
     "data": {
      "text/plain": [
       "0    a\n",
       "1    b\n",
       "2    c\n",
       "3    d\n",
       "4    a\n",
       "5    b\n",
       "6    c\n",
       "7    d\n",
       "dtype: category\n",
       "Categories (4, object): ['a', 'b', 'c', 'd']"
      ]
     },
     "execution_count": 230,
     "metadata": {},
     "output_type": "execute_result"
    }
   ],
   "source": [
    "cat_s = s.astype('category')\n",
    "cat_s"
   ]
  },
  {
   "cell_type": "markdown",
   "id": "cf37683c",
   "metadata": {
    "slideshow": {
     "slide_type": "slide"
    }
   },
   "source": [
    "El atributo especial de acceso `cat` proporciona acceso a métodos categóricos:"
   ]
  },
  {
   "cell_type": "code",
   "execution_count": 183,
   "id": "c6db5280",
   "metadata": {},
   "outputs": [
    {
     "data": {
      "text/plain": [
       "0    0\n",
       "1    1\n",
       "2    2\n",
       "3    3\n",
       "4    0\n",
       "5    1\n",
       "6    2\n",
       "7    3\n",
       "dtype: int8"
      ]
     },
     "execution_count": 183,
     "metadata": {},
     "output_type": "execute_result"
    }
   ],
   "source": [
    "cat_s.cat.codes"
   ]
  },
  {
   "cell_type": "code",
   "execution_count": 184,
   "id": "1afc9d76",
   "metadata": {
    "slideshow": {
     "slide_type": "slide"
    }
   },
   "outputs": [
    {
     "data": {
      "text/plain": [
       "Index(['a', 'b', 'c', 'd'], dtype='object')"
      ]
     },
     "execution_count": 184,
     "metadata": {},
     "output_type": "execute_result"
    }
   ],
   "source": [
    "cat_s.cat.categories"
   ]
  },
  {
   "cell_type": "markdown",
   "id": "ae29f3b2",
   "metadata": {
    "slideshow": {
     "slide_type": "slide"
    }
   },
   "source": [
    "Supongamos que sabemos que el conjunto real de categorías para estos datos se extiende más allá de los cuatro valores observados en los datos. Podemos utilizar el método `set_categories` para cambiarlas:"
   ]
  },
  {
   "cell_type": "code",
   "execution_count": 231,
   "id": "64c893c0",
   "metadata": {
    "slideshow": {
     "slide_type": "slide"
    }
   },
   "outputs": [
    {
     "data": {
      "text/plain": [
       "0    a\n",
       "1    b\n",
       "2    c\n",
       "3    d\n",
       "4    a\n",
       "5    b\n",
       "6    c\n",
       "7    d\n",
       "dtype: category\n",
       "Categories (5, object): ['a', 'b', 'c', 'd', 'e']"
      ]
     },
     "execution_count": 231,
     "metadata": {},
     "output_type": "execute_result"
    }
   ],
   "source": [
    "actual_categories = ['a', 'b', 'c', 'd', 'e']\n",
    "\n",
    "cat_s2 = cat_s.cat.set_categories(actual_categories)\n",
    "\n",
    "cat_s2"
   ]
  },
  {
   "cell_type": "markdown",
   "id": "6c40b64d",
   "metadata": {
    "slideshow": {
     "slide_type": "slide"
    }
   },
   "source": [
    "Aunque parezca que los datos no cambian, las nuevas categorías se reflejarán en las operaciones que las utilicen. Por ejemplo, value_counts respeta las categorías, si están presentes:\n",
    "\n"
   ]
  },
  {
   "cell_type": "code",
   "execution_count": 232,
   "id": "39a6fe71",
   "metadata": {},
   "outputs": [
    {
     "data": {
      "text/plain": [
       "a    2\n",
       "b    2\n",
       "c    2\n",
       "d    2\n",
       "Name: count, dtype: int64"
      ]
     },
     "execution_count": 232,
     "metadata": {},
     "output_type": "execute_result"
    }
   ],
   "source": [
    " cat_s.value_counts()"
   ]
  },
  {
   "cell_type": "code",
   "execution_count": 233,
   "id": "900c58f1",
   "metadata": {
    "slideshow": {
     "slide_type": "slide"
    }
   },
   "outputs": [
    {
     "data": {
      "text/plain": [
       "a    2\n",
       "b    2\n",
       "c    2\n",
       "d    2\n",
       "e    0\n",
       "Name: count, dtype: int64"
      ]
     },
     "execution_count": 233,
     "metadata": {},
     "output_type": "execute_result"
    }
   ],
   "source": [
    "cat_s2.value_counts()"
   ]
  },
  {
   "cell_type": "code",
   "execution_count": 236,
   "id": "8f1bff47-782b-4239-8574-68adb6bc1b9e",
   "metadata": {},
   "outputs": [
    {
     "data": {
      "text/plain": [
       "0    a\n",
       "1    b\n",
       "2    c\n",
       "3    d\n",
       "4    a\n",
       "5    b\n",
       "6    c\n",
       "7    d\n",
       "dtype: category\n",
       "Categories (5, object): ['a', 'b', 'c', 'd', 'e']"
      ]
     },
     "execution_count": 236,
     "metadata": {},
     "output_type": "execute_result"
    }
   ],
   "source": [
    "cat_s2"
   ]
  },
  {
   "cell_type": "markdown",
   "id": "defb7f94",
   "metadata": {
    "slideshow": {
     "slide_type": "slide"
    }
   },
   "source": [
    "En grandes conjuntos de datos, las categorías se utilizan a menudo como una herramienta conveniente para ahorrar memoria y mejorar el rendimiento. Después de filtrar un gran DataFrame o Series, muchas de las categorías pueden no aparecer en los datos. Para ayudar con esto, podemos utilizar el método remove_unused_categories para recortar las categorías no observadas:"
   ]
  },
  {
   "cell_type": "code",
   "execution_count": 234,
   "id": "cac64966",
   "metadata": {
    "slideshow": {
     "slide_type": "slide"
    }
   },
   "outputs": [
    {
     "data": {
      "text/plain": [
       "0    a\n",
       "1    b\n",
       "4    a\n",
       "5    b\n",
       "dtype: category\n",
       "Categories (4, object): ['a', 'b', 'c', 'd']"
      ]
     },
     "execution_count": 234,
     "metadata": {},
     "output_type": "execute_result"
    }
   ],
   "source": [
    "cat_s3 = cat_s[cat_s.isin(['a', 'b'])]\n",
    "cat_s3"
   ]
  },
  {
   "cell_type": "code",
   "execution_count": 235,
   "id": "3e098e14",
   "metadata": {},
   "outputs": [
    {
     "data": {
      "text/plain": [
       "0    a\n",
       "1    b\n",
       "4    a\n",
       "5    b\n",
       "dtype: category\n",
       "Categories (2, object): ['a', 'b']"
      ]
     },
     "execution_count": 235,
     "metadata": {},
     "output_type": "execute_result"
    }
   ],
   "source": [
    "cat_s3.cat.remove_unused_categories()"
   ]
  },
  {
   "cell_type": "markdown",
   "id": "3465a12d-cc2a-4e88-8a63-e7fb89b27ea0",
   "metadata": {},
   "source": [
    "### Ejercicio 8. Basado en los siguientes datos:  \n"
   ]
  },
  {
   "cell_type": "code",
   "execution_count": 237,
   "id": "2c8cc7dc-1ada-45ab-bf37-2a82cde82cd2",
   "metadata": {},
   "outputs": [],
   "source": [
    "'''\n",
    "data = {\n",
    "    'consumer_id': range(1, 21),\n",
    "    'product_preference': [\n",
    "        'Vegano', 'Ecológico', 'Sin Gluten', 'Normal', 'Ecológico',\n",
    "        'Vegano', 'Normal', 'Sin Gluten', 'Vegano', 'Ecológico',\n",
    "        'Normal', 'Ecológico', 'Sin Gluten', 'Vegano', 'Normal',\n",
    "        'Vegano', 'Sin Gluten', 'Normal', 'Normal', 'Vegano'\n",
    "    ]\n",
    "}\n",
    "'''"
   ]
  },
  {
   "cell_type": "markdown",
   "id": "fd35328a-5b6f-4d7f-b44b-9d105d70c3de",
   "metadata": {},
   "source": [
    "**Responder las siguientes preguntas.**"
   ]
  },
  {
   "cell_type": "markdown",
   "id": "3c6f6984-73c5-418d-95ee-41a6d8727f59",
   "metadata": {},
   "source": [
    "1- Crear un dataframe e imprima un head.  \n",
    "2- Cambiar el dtype de product_preference a categórico.   \n",
    "3- Medir el uso de memoria antes y después de convertir a categórico.  \n",
    "4- Añadir dos categorías más: Orgánico y Keto.  \n",
    "5- Filtrar los datos para incluir solo preferencias 'Vegano' y 'Ecológico'.  \n",
    "6- Eliminar categorías no utilizadas en los datos filtrados.  \n",
    "7- Medir el tiempo de ejecución de `value_counts()` en la columna `product_preference`.  \n",
    "8- Reordenar las categorías en un orden específico.  \n",
    "9- Obtener estadísticas descriptivas de la columna categórica.  \n",
    "10- Agrupar los datos por `product_preference` y contar el número de consumidores en cada categoría.  \n",
    "11- Transformar categorías a números utilizando `cat.codes`.  \n"
   ]
  },
  {
   "cell_type": "code",
   "execution_count": null,
   "id": "425952ad-59bb-4433-abee-99e716144b28",
   "metadata": {},
   "outputs": [],
   "source": []
  }
 ],
 "metadata": {
  "celltoolbar": "Slideshow",
  "kernelspec": {
   "display_name": "Python 3 (ipykernel)",
   "language": "python",
   "name": "python3"
  },
  "language_info": {
   "codemirror_mode": {
    "name": "ipython",
    "version": 3
   },
   "file_extension": ".py",
   "mimetype": "text/x-python",
   "name": "python",
   "nbconvert_exporter": "python",
   "pygments_lexer": "ipython3",
   "version": "3.11.9"
  }
 },
 "nbformat": 4,
 "nbformat_minor": 5
}
