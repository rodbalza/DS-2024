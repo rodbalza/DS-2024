import numpy as np
import pandas as pd

pd.options.display.max_rows = 20
# Configura pandas para mostrar un
# máximo de 20 filas al imprimir DataFrames. 
# Esto ayuda a mantener la salida manejable en la consola.

pd.options.display.max_colwidth = 80
# Configura pandas para que la anchura máxima 
# de las columnas sea de 80 caracteres al 
# mostrar datos. Esto es útil para asegurarse 
# de que las columnas no se trunquen demasiado en la visualización.

pd.options.display.max_columns = 20
# Configura pandas para mostrar un máximo
# de 20 columnas al imprimir DataFrames. 
# Similar a max_rows, esto ayuda a 
# controlar la cantidad de datos mostrados.

np.random.seed(12345)


import matplotlib.pyplot as plt

plt.rc("figure", figsize=(10, 6)) # Configura matplotlib para que todas
# las figuras tengan un tamaño predeterminado de 10 pulgadas de ancho 
# por 6 pulgadas de alto. rc es una función de matplotlib que se 
# utiliza para configurar parámetros globales.

np.set_printoptions(precision=4, suppress=True)
# Configura numpy para mostrar los números con una 
# precisión de 4 decimales y suprimir el uso de 
# notación científica (suppress=True) en la salida impresa.














data = pd.Series(np.random.uniform(size=9),
        index=[["a", "a", "a", "b", "b", "c", "c", "d", "d"],
        [1, 2, 3, 1, 3, 1, 2, 2, 3]])
data





data.index





data["b"]


data["b":"c"]


data.loc[["b", "c"]]





data.loc[:, 2]





data_1 = {
    'Store': ['Store1', 'Store1', 'Store1', 'Store2', 'Store2', 'Store2'],
    'Product': ['A', 'A', 'B', 'A', 'B', 'B'],
    'Date': ['2024-07-01', '2024-07-02', '2024-07-01', '2024-07-01', '2024-07-02', '2024-07-03'],
    'Sales': [100, 150, 200, 300, 400, 500]
}
df = pd.DataFrame(data_1)

df['Date'] = pd.to_datetime(df['Date'])  # Convertir la columna 'Date' a tipo datetime
df





df.set_index(['Store', 'Product', 'Date'], inplace=True)
df








data


data.unstack()





data.unstack().stack()





df


df.unstack()


df.unstack('Store')


df.unstack('Product')





frame = pd.DataFrame(np.arange(12).reshape((4, 3)),
                     index=[["a", "a", "b", "b"], [1, 2, 1, 2]],
                     columns=[["Ohio", "Ohio", "Colorado"],
                     ["Green", "Red", "Green"]])
frame





frame.index.names = ["key1", "key2"]
frame.columns.names = ["state", "color"]
frame





frame.index.nlevels


frame.columns.nlevels





frame["Ohio"]





pd.MultiIndex.from_arrays([["Ohio", "Ohio", "Colorado"],
                          ["Green", "Red", "Green"]],
                          names=["state", "color"])








frame


frame.swaplevel("key1", "key2")





frame.sort_index()


frame.sort_index(level=0)


frame.sort_index(level=1)


frame.swaplevel(0, 1)


frame.swaplevel(0, 1).sort_index(level=0)
#











frame.groupby(level="key2").sum()


frame.groupby(level="color", axis="columns").sum()








frame = pd.DataFrame({"a": range(7), "b": range(7, 0, -1),
                      "c": ["one", "one", "one", "two", "two",
                            "two", "two"],
                      "d": [0, 1, 2, 0, 1, 2, 3]})
frame





frame2 = frame.set_index(["c", "d"])
frame2





frame.set_index(["c", "d"], drop=False)





frame2.reset_index()

















df1 = pd.DataFrame({"key": ["b", "b", "a", "c", "a", "a", "b"],
                    "data1": pd.Series(range(7), dtype="Int64")})
df1


df2 = pd.DataFrame({"key": ["a", "b", "d"],
                    "data2": pd.Series(range(3), dtype="Int64")})

df2





pd.merge(df1, df2)





pd.merge(df1, df2, on="key")





df3 = pd.DataFrame({"lkey": ["b", "b", "a", "c", "a", "a", "b"],
                    "data1": pd.Series(range(7), dtype="Int64")})

df3


df4 = pd.DataFrame({"rkey": ["a", "b", "d"],
                    "data2": pd.Series(range(3), dtype="Int64")})
df4


pd.merge(df3, df4, left_on="lkey", right_on="rkey")





pd.merge(df1, df2, how="outer")


pd.merge(df3, df4, left_on="lkey", right_on="rkey", how="outer")











df1 = pd.DataFrame({"key": ["b", "b", "a", "c", "a", "b"],
                    "data1": pd.Series(range(6), dtype="Int64")})

df1


df2 = pd.DataFrame({"key": ["a", "b", "a", "b", "d"],
                    "data2": pd.Series(range(5), dtype="Int64")})
df2


pd.merge(df1, df2, on="key", how="left")





pd.merge(df1, df2, how="inner")





left = pd.DataFrame({"key1": ["foo", "foo", "bar"],
                     "key2": ["one", "two", "one"],
                     "lval": pd.Series([1, 2, 3], dtype='Int64')})
left


right = pd.DataFrame({"key1": ["foo", "foo", "bar", "bar"],
                      "key2": ["one", "one", "one", "two"],
                      "rval": pd.Series([4, 5, 6, 7], dtype='Int64')})
right


pd.merge(left, right, on=["key1", "key2"], how="outer")





pd.merge(left, right, on="key1")





pd.merge(left, right, on="key1", suffixes=("_left", "_right"))

































































clientes = pd.DataFrame({
    'ClienteID': [1, 2, 3, 4, 5, 6],
    'Nombre': ['Ana', 'Luis', 'María', 'Carlos', 'Laura', 'Jorge'],
    'Edad': [34, 45, 23, 54, 31, 40],
    'Ciudad': ['Madrid', 'Barcelona', 'Madrid', 'Sevilla', 'Valencia', 'Bilbao'],
    'Email': ['ana@example.com', 'luis@example.com', 'maria@example.com', 
              'carlos@example.com', 'laura@example.com', 'jorge@example.com'],
    'FechaRegistro': ['2020-01-01', '2020-06-15', '2021-03-20', 
                      '2021-07-30', '2022-02-17', '2022-05-25']
})

print("DataFrame de Clientes:")
clientes





contratos = pd.DataFrame({
    'ContratoID': [101, 102, 103, 104, 105, 106, 107],
    'ClienteID': [1, 2, 2, 3, 5, 6, 7],
    'Tipo': ['Móvil', 'Internet', 'Televisión', 'Móvil', 'Internet', 'Televisión', 'Móvil'],
    'FechaInicio': ['2021-01-15', '2021-06-23', '2021-03-10', 
                    '2021-08-05', '2021-12-12', '2021-07-19', '2022-01-10'],
    'DuraciónMeses': [24, 12, 12, 24, 12, 24, 12],
    'CostoMensual': [20, 40, 50, 25, 45, 55, 30]
})

print("DataFrame de Contratos:")
contratos








clientes_con_contratos = pd.merge(clientes, contratos, on='ClienteID', how='inner')
print("Detalles de contacto de clientes con contratos activos:")
print(clientes_con_contratos[['Nombre', 'Email', 'Tipo', 'FechaInicio']])





clientes_con_contratos = pd.merge(clientes, contratos, on='ClienteID', how='inner')
clientes_antes_contrato = clientes_con_contratos[clientes_con_contratos['FechaRegistro'] < clientes_con_contratos['FechaInicio']]
print("Clientes que se registraron antes de obtener un contrato:")
print("######################################################################")
print(clientes_antes_contrato[['Nombre', 'FechaRegistro', 'FechaInicio']])





clientes_sin_contratos = pd.merge(clientes, contratos, on='ClienteID', how='left', indicator=True)
clientes_sin_contratos = clientes_sin_contratos[clientes_sin_contratos['_merge'] == 'left_only']
# filtra el resultado de la unión para conservar
# solo las filas donde el valor en la columna _merge
# es left_only.

print("Clientes sin contratos asociados:")
print('###########################################################')
print(clientes_sin_contratos[['Nombre', 'Email', 'Ciudad']])











contratos_sin_clientes = pd.merge(clientes, contratos, on='ClienteID', how='right', indicator=True)

contratos_sin_clientes = contratos_sin_clientes[contratos_sin_clientes['_merge'] == 'right_only']
# filtra el resultado de la unión para conservar
# solo las filas donde el valor en la columna _merge
# es right_only.

print("Contratos sin clientes asociados:")
print('############################################################')
print(contratos_sin_clientes[['ContratoID', 'Tipo', 'FechaInicio', 'CostoMensual']])








todos_clientes_contratos = pd.merge(clientes, contratos, on='ClienteID', how='outer', indicator=True)
print("Todos los clientes y contratos:")
print('#######################################################################')
print(todos_clientes_contratos)





clientes_con_contratos_largos = pd.merge(clientes, contratos, on='ClienteID', how='inner')
clientes_con_contratos_largos = clientes_con_contratos_largos[clientes_con_contratos_largos['DuraciónMeses'] > 12]
print("Clientes con contratos de más de 12 meses:")
print(clientes_con_contratos_largos[['Nombre', 'Tipo', 'DuraciónMeses', 'CostoMensual']])





clientes_con_contratos_caros = pd.merge(clientes, contratos, on='ClienteID', how='inner')
clientes_con_contratos_caros = clientes_con_contratos_caros[clientes_con_contratos_caros['CostoMensual'] > 40]
print("Clientes con contratos de un costo mensual superior a 40:")
print(clientes_con_contratos_caros[['Nombre', 'Tipo', 'CostoMensual']])














left1 = pd.DataFrame({"key": ["a", "b", "a", "a", "b", "c"],
                      "value": pd.Series(range(6), dtype="Int64")})
left1


right1 = pd.DataFrame({"group_val": [3.5, 7]}, index=["a", "b"])
right1


pd.merge(left1, right1, left_on="key", right_index=True)











# Dataframe ventas
ventas = pd.DataFrame({
    'VentaID': [1, 2, 3, 4, 5],
    'DispositivoID': [101, 102, 101, 103, 102],
    'Cantidad': [10, 5, 8, 7, 6]
})

# Dataframe dispositivos
dispositivos = pd.DataFrame({
    'NombreDispositivo': ['iPhone 13', 'Samsung Galaxy S21', 'Google Pixel 6'],
    'Precio': [799, 999, 599]
}, index=[101, 102, 103])

print("DataFrame de Ventas:")
ventas


print("\nDataFrame de Dispositivos:")
print(dispositivos)





# Realizar el merge
resultado = pd.merge(ventas, dispositivos, left_on='DispositivoID', right_index=True)

print("\nResultado del Merge:")
resultado





pd.merge(left1, right1, left_on="key", right_index=True, how="outer")





lefth = pd.DataFrame({"key1": ["Ohio", "Ohio", "Ohio",
                               "Nevada", "Nevada"],
                      "key2": [2000, 2001, 2002, 2001, 2002],
                      "data": pd.Series(range(5), dtype="Int64")})
lefth


righth_index = pd.MultiIndex.from_arrays(
    [
        ["Nevada", "Nevada", "Ohio", "Ohio", "Ohio", "Ohio"],
        [2001, 2000, 2000, 2000, 2001, 2002]
    ]
)
# Es un índice jerárquico (MultiIndex) creado a partir de dos
# listas: la primera contiene nombres de estados y la segunda contiene años.


righth = pd.DataFrame({"event1": pd.Series([0, 2, 4, 6, 8, 10], dtype="Int64",
                                index=righth_index), 
                        "event2": pd.Series([1, 3, 5, 7, 9, 11], dtype="Int64",
                                             index=righth_index)})
righth





pd.merge(lefth, righth, left_on=["key1", "key2"], right_index=True)








pd.merge(lefth, righth, left_on=["key1", "key2"],
         right_index=True, how="outer")








# Dataframe ventas
ventas = pd.DataFrame({
    'Tienda': ['Tienda1', 'Tienda1', 'Tienda2', 'Tienda2', 'Tienda3'],
    'Modelo': ['iPhone 13', 'Samsung S21', 'iPhone 13', 'Google Pixel 6', 'Samsung S21'],
    'Capacidad': ['64GB', '128GB', '128GB', '128GB', '256GB'],  # Nueva columna
    'Fecha': ['2023-01-01', '2023-01-02', '2023-01-01', '2023-01-03', '2023-01-04'],
    'Cantidad': [5, 3, 2, 4, 1]
})
# Dataframe detalles
detalles_index = pd.MultiIndex.from_arrays(
    [
        ['iPhone 13', 'Samsung S21', 'Google Pixel 6', 'iPhone 13', 'Samsung S21'],
        ['64GB', '128GB', '128GB', '128GB', '256GB']
    ], names=['Modelo', 'Capacidad']
)

# Crear DataFrame de Detalles
detalles = pd.DataFrame({
    'Precio': [799, 999, 699, 899, 1099],
    'Color': ['Negro', 'Blanco', 'Negro', 'Blanco', 'Azul']
}, index=detalles_index)

print("DataFrame de Ventas:")
ventas


print("\nDataFrame de Detalles:")
detalles





# Realizar el merge
resultado = pd.merge(ventas, detalles, left_on=['Modelo', 'Capacidad'], right_index=True, how='left')
print("\nResultado del Merge:")
resultado











left2 = pd.DataFrame([[1., 2.], [3., 4.], [5., 6.]],
                     index=["a", "c", "e"],
                     columns=["Ohio", "Nevada"]).astype("Int64")
left2


right2 = pd.DataFrame([[7., 8.], [9., 10.], [11., 12.], [13, 14]],
                      index=["b", "c", "d", "e"],
                      columns=["Missouri", "Alabama"]).astype("Int64")
right2


pd.merge(left2, right2, how="outer", left_index=True, right_index=True)








left2.join(right2, how="outer")





left1.join(right1, on="key")





another = pd.DataFrame([[7., 8.], [9., 10.], [11., 12.], [16., 17.]],
                       index=["a", "c", "e", "f"],
                       columns=["New York", "Oregon"])
another





right2


left2


left2.join([right2, another])


left2.join([right2, another], how="outer")








arr = np.arange(12).reshape((3, 4))
arr


np.concatenate([arr, arr], axis=1)


























data_norte = {
    'Producto': ['iPhone', 'Samsung Galaxy', 'Google Pixel', 'OnePlus', 'Xiaomi', 'Sony Xperia'],
    'Ventas_Q1': [100, 150, 200, 130, 180, 90],
    'Ventas_Q2': [120, 180, 210, 140, 190, 100]
}

df_norte = pd.DataFrame(data_norte)
print("Ventas Región Norte:")
df_norte





data_sur = {
    'Producto': ['iPhone', 'Samsung Galaxy', 'Google Pixel', 'OnePlus', 'Xiaomi', 'Sony Xperia'],
    'Ventas_Q1': [80, 160, 220, 110, 170, 95],
    'Ventas_Q2': [130, 170, 230, 120, 175, 105]
}

df_sur = pd.DataFrame(data_sur)
print("\nVentas Región Sur:")
df_sur





# Concatenar los DataFrames a lo largo de filas
df_total = pd.concat([df_norte, df_sur], axis=0, ignore_index=True)
# El argumento ignore_index=True se utiliza para reiniciar el índice
# en el DataFrame resultante, creando un índice continuo.
print("\nVentas Totales:")
df_total











# Datos del departamento de Ingeniería
data_ingenieria = {
    'Empleado': ['Alice', 'Bob', 'Charlie', 'Dan', 'Ellen'],
    'Salario': [80000, 85000, 90000, 87000, 88000],
    'Departamento': ['Ingeniería'] * 5
}
# Datos del departamento de Marketing
data_marketing = {
    'Empleado': ['David', 'Eve', 'Frank', 'Gina', 'Hank'],
    'Salario': [70000, 75000, 80000, 72000, 78000],
    'Departamento': ['Marketing'] * 5
}
# Datos del departamento de Ventas
data_ventas = {
    'Empleado': ['Grace', 'Heidi', 'Ivan', 'Jack', 'Karen'],
    'Salario': [65000, 70000, 75000, 68000, 69000],
    'Departamento': ['Ventas'] * 5
}
# Datos del departamento de Recursos Humanos
data_rrhh = {
    'Empleado': ['Judy', 'Ken', 'Laura', 'Mike', 'Nina'],
    'Salario': [60000, 65000, 70000, 64000, 66000],
    'Departamento': ['Recursos Humanos'] * 5
}











s1 = pd.Series([0, 1], index=["a", "b"], dtype="Int64")
s2 = pd.Series([2, 3, 4], index=["c", "d", "e"], dtype="Int64")
s3 = pd.Series([5, 6], index=["f", "g"], dtype="Int64")





s1


s2


s3


pd.concat([s1, s2, s3])





pd.concat([s1, s2, s3], axis="columns", keys=["one", "two", "three"])











s4 = pd.concat([s1, s3])
s4


s1





pd.concat([s1, s4], axis="columns")





pd.concat([s1, s4], axis="columns", join="inner")








result = pd.concat([s1, s1, s3], keys=["one", "two", "three"])
result





result.unstack()








df1 = pd.DataFrame(np.arange(6).reshape(3, 2), index=["a", "b", "c"],
                   columns=["one", "two"])
df1


df2 = pd.DataFrame(5 + np.arange(4).reshape(2, 2), index=["a", "c"],
                   columns=["three", "four"])
df2





pd.concat([df1, df2], axis="columns", keys=["level1", "level2"])











pd.concat({"level1": df1, "level2": df2}, axis="columns")





pd.concat([df1, df2], axis="columns", keys=["level1", "level2"],
          names=["upper", "lower"])





df1 = pd.DataFrame(np.random.standard_normal((3, 4)),
                   columns=["a", "b", "c", "d"])
df1


df2 = pd.DataFrame(np.random.standard_normal((2, 3)),
                   columns=["b", "d", "a"])
df2





pd.concat([df1, df2], ignore_index=True)








a = pd.Series([np.nan, 2.5, 0.0, 3.5, 4.5, np.nan],
              index=["f", "e", "d", "c", "b", "a"])
a


b = pd.Series([0., np.nan, 2., np.nan, np.nan, 5.],
              index=["a", "b", "c", "d", "e", "f"])
b


np.where(pd.isna(a), b, a)





pd.isna(a)








a.combine_first(b)





df1 = pd.DataFrame({"a": [1., np.nan, 5., np.nan],
                    "b": [np.nan, 2., np.nan, 6.],
                    "c": range(2, 18, 4)})
df1


df2 = pd.DataFrame({"a": [5., 4., np.nan, 3., 7.],
                    "b": [np.nan, 3., 4., 6., 8.]})
df2


df1.combine_first(df2)














# Datos de entrenamiento
train_data = {
    'Producto': ['A', 'B', 'C', 'D'],
    'Ventas': [100, 150, 200, 250]
}

# Datos de prueba con valores faltantes
test_data = {
    'Producto': ['A', 'B', 'C', 'E'],
    'Ventas': [np.nan, 160, np.nan, 180]
}























old_inventory = {
    'Producto': ['Laptop', 'Smartphone', 'Tablet'],
    'Cantidad': [10, 20, 15],
    'Precio': [1000, 800, 300]
}

# Datos nuevos del inventario con actualizaciones
new_inventory = {
    'Producto': ['Laptop', 'Smartphone', 'Tablet'],
    'Cantidad': [12, 18, 17],
    'Precio': [950, 850, 310]
}


























data = pd.DataFrame(np.arange(6).reshape((2, 3)),
                    index=pd.Index(["Ohio", "Colorado"], name="state"),
                    columns=pd.Index(["Uno", "Dos", "Tres"],
                    name="numero"))
data





result = data.stack()
result





result.unstack()





result.unstack(level=0)


result.unstack(level="state")





s1 = pd.Series([0, 1, 2, 3], index=["a", "b", "c", "d"], dtype="Int64")
s1


s2 = pd.Series([4, 5, 6], index=["c", "d", "e"], dtype="Int64")
s2


data2 = pd.concat([s1, s2], keys=["one", "two"])
data2





data2.unstack()





data2.unstack().stack()


data2.unstack().stack(dropna=False)
# convierte las columnas de nuevo en un índice jerárquico, manteniendo los NaN.





df = pd.DataFrame({"left": result, "right": result + 5},
                  columns=pd.Index(["left", "right"], name="side"))
df


df.unstack(level="state")














data = {
    'Región': ['Norte', 'Norte', 'Norte', 'Sur', 'Sur', 'Sur', 'Este', 'Este', 'Este', 'Oeste', 'Oeste', 'Oeste'],
    'Producto': ['Laptop', 'Smartphone', 'Tablet', 'Laptop', 'Smartphone', 'Tablet', 'Laptop', 'Smartphone', 'Tablet', 'Laptop', 'Smartphone', 'Tablet'],
    'Q1': [150, 200, 50, 100, 80, 30, 120, 60, 90, 110, 130, 40],
    'Q2': [170, 210, 60, 110, 85, 35, 125, 65, 95, 115, 135, 45],
    'Q3': [160, 220, 55, 105, 82, 32, 122, 62, 92, 112, 132, 42],
    'Q4': [180, 230, 65, 115, 90, 40, 130, 70, 100, 120, 140, 50]
}
































data = {
    'Sucursal': ['Norte', 'Norte', 'Norte', 'Norte', 'Sur', 'Sur', 'Sur', 'Sur', 'Este', 'Este', 'Este', 'Este', 'Oeste', 'Oeste', 'Oeste', 'Oeste'],
    'Cuenta': ['Corriente', 'Ahorros', 'Crédito', 'Inversiones', 'Corriente', 'Ahorros', 'Crédito', 'Inversiones', 'Corriente', 'Ahorros', 'Crédito', 'Inversiones', 'Corriente', 'Ahorros', 'Crédito', 'Inversiones'],
    'Año': [2021, 2021, 2021, 2021, 2021, 2021, 2021, 2021, 2021, 2021, 2021, 2021, 2021, 2021, 2021, 2021],
    'Q1': [50000, 150000, 30000, 70000, 45000, 120000, 25000, 65000, 52000, 130000, 27000, 72000, 49000, 140000, 28000, 68000],
    'Q2': [52000, 155000, 31000, 71000, 46000, 125000, 26000, 66000, 53000, 135000, 28000, 73000, 50000, 145000, 29000, 69000],
    'Q3': [51000, 160000, 32000, 72000, 47000, 130000, 27000, 67000, 54000, 140000, 29000, 74000, 51000, 150000, 30000, 70000],
    'Q4': [53000, 165000, 33000, 73000, 48000, 135000, 28000, 68000, 55000, 145000, 30000, 75000, 52000, 155000, 31000, 71000]
}























data = pd.read_csv("macrodata.csv")
data.head()








data = data.loc[:, ["year", "quarter", "realgdp", "infl", "unemp"]]


data.head()





periods = pd.PeriodIndex(year=data.pop("year"),
                         quarter=data.pop("quarter"),
                         name="date")
periods





data.index = periods.to_timestamp("D")





data.head()





data = data.reindex(columns=["realgdp", "infl", "unemp"])
data.columns.name = "item"
data.head()





long_data = (data.stack()
             .reset_index()
             .rename(columns={0: "value"}))








long_data[:10]





pivoted = long_data.pivot(index="date", columns="item",
                          values="value")





pivoted.head()





long_data["value2"] = np.random.standard_normal(len(long_data))
long_data[:10]


long_data.index.name = None
# Establece el nombre del índice a None.
# Esto elimina cualquier nombre asignado
# previamente al índice del DataFrame long_data.





pivoted = long_data.pivot(index="date", columns="item")





pivoted.head()


pivoted["value"].head()





unstacked = long_data.set_index(["date", "item"]).unstack(level="item")
unstacked.head()





data = {
    'Tienda': ['Tienda_A', 'Tienda_A', 'Tienda_A', 'Tienda_A', 'Tienda_A', 'Tienda_A',
               'Tienda_B', 'Tienda_B', 'Tienda_B', 'Tienda_B', 'Tienda_B', 'Tienda_B',
               'Tienda_C', 'Tienda_C', 'Tienda_C', 'Tienda_C', 'Tienda_C', 'Tienda_C',
               'Tienda_D', 'Tienda_D', 'Tienda_D', 'Tienda_D', 'Tienda_D', 'Tienda_D',
               'Tienda_E', 'Tienda_E', 'Tienda_E', 'Tienda_E', 'Tienda_E', 'Tienda_E'],
    'Producto': ['Manzana', 'Manzana', 'Manzana', 'Pera', 'Pera', 'Pera',
                 'Manzana', 'Manzana', 'Manzana', 'Pera', 'Pera', 'Pera',
                 'Lechuga', 'Lechuga', 'Lechuga', 'Tomate', 'Tomate', 'Tomate',
                 'Lechuga', 'Lechuga', 'Lechuga', 'Tomate', 'Tomate', 'Tomate',
                 'Frijoles', 'Frijoles', 'Frijoles', 'Zanahoria', 'Zanahoria', 'Zanahoria'],
    'Año': [2020, 2020, 2020, 2020, 2020, 2020,
            2021, 2021, 2021, 2021, 2021, 2021,
            2020, 2020, 2020, 2020, 2020, 2020,
            2021, 2021, 2021, 2021, 2021, 2021,
            2020, 2020, 2020, 2020, 2020, 2020],
    'Mes': ['Enero', 'Febrero', 'Marzo', 'Enero', 'Febrero', 'Marzo',
            'Enero', 'Febrero', 'Marzo', 'Enero', 'Febrero', 'Marzo',
            'Enero', 'Febrero', 'Marzo', 'Enero', 'Febrero', 'Marzo',
            'Enero', 'Febrero', 'Marzo', 'Enero', 'Febrero', 'Marzo',
            'Enero', 'Febrero', 'Marzo', 'Enero', 'Febrero', 'Marzo'],
    'Ventas': [200, 220, 230, 150, 170, 180,
               180, 210, 220, 160, 190, 200,
               190, 200, 210, 170, 180, 190,
               210, 220, 230, 200, 210, 220,
               200, 210, 220, 210, 220, 230]
}






































df = pd.DataFrame({"key": ["foo", "bar", "baz"],
                   "A": [1, 2, 3],
                   "B": [4, 5, 6],
                   "C": [7, 8, 9]})
df





melted = pd.melt(df, id_vars="key")
melted





reshaped = melted.pivot(index="key", columns="variable",
                        values="value")
reshaped





reshaped.reset_index()





pd.melt(df, id_vars="key", value_vars=["A", "B"])





pd.melt(df, value_vars=["A", "B", "C"])


pd.melt(df, value_vars=["key", "A", "B"])





data = {
    'Tienda': ['Tienda_A', 'Tienda_A', 'Tienda_A', 'Tienda_A', 'Tienda_A', 'Tienda_A',
               'Tienda_B', 'Tienda_B', 'Tienda_B', 'Tienda_B', 'Tienda_B', 'Tienda_B',
               'Tienda_C', 'Tienda_C', 'Tienda_C', 'Tienda_C', 'Tienda_C', 'Tienda_C',
               'Tienda_D', 'Tienda_D', 'Tienda_D', 'Tienda_D', 'Tienda_D', 'Tienda_D',
               'Tienda_E', 'Tienda_E', 'Tienda_E', 'Tienda_E', 'Tienda_E', 'Tienda_E'],
    'Producto': ['Ropa', 'Ropa', 'Ropa', 'Calzado', 'Calzado', 'Calzado',
                 'Ropa', 'Ropa', 'Ropa', 'Calzado', 'Calzado', 'Calzado',
                 'Lencería', 'Lencería', 'Lencería', 'Calzado', 'Calzado', 'Calzado',
                 'Lencería', 'Lencería', 'Lencería', 'Calzado', 'Calzado', 'Calzado',
                 'Ropa', 'Ropa', 'Ropa', 'Lencería', 'Lencería', 'Lencería'],
    'Año': [2020, 2020, 2020, 2020, 2020, 2020,
            2021, 2021, 2021, 2021, 2021, 2021,
            2020, 2020, 2020, 2020, 2020, 2020,
            2021, 2021, 2021, 2021, 2021, 2021,
            2020, 2020, 2020, 2020, 2020, 2020],
    'Mes': ['Enero', 'Febrero', 'Marzo', 'Enero', 'Febrero', 'Marzo',
            'Enero', 'Febrero', 'Marzo', 'Enero', 'Febrero', 'Marzo',
            'Enero', 'Febrero', 'Marzo', 'Enero', 'Febrero', 'Marzo',
            'Enero', 'Febrero', 'Marzo', 'Enero', 'Febrero', 'Marzo',
            'Enero', 'Febrero', 'Marzo', 'Enero', 'Febrero', 'Marzo'],
    'Ventas': [200, 220, 230, 150, 170, 180,
               180, 210, 220, 160, 190, 200,
               190, 200, 210, 170, 180, 190,
               210, 220, 230, 200, 210, 220,
               200, 210, 220, 210, 220, 230],
    'Hora': ['10:00', '11:00', '12:00', '13:00', '14:00', '15:00',
             '16:00', '17:00', '18:00', '19:00', '20:00', '21:00',
             '09:00', '10:00', '11:00', '12:00', '13:00', '14:00',
             '15:00', '16:00', '17:00', '18:00', '19:00', '20:00',
             '10:00', '11:00', '12:00', '13:00', '14:00', '15:00']
}




































