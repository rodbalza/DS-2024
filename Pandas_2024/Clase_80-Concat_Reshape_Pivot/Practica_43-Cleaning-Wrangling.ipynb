{
 "cells": [
  {
   "cell_type": "markdown",
   "id": "41514d51-fdab-4834-a7d9-ced4426f57e1",
   "metadata": {},
   "source": [
    "### Parte X0: Merge"
   ]
  },
  {
   "cell_type": "code",
   "execution_count": null,
   "id": "56818d8b-2aa3-459b-9999-2e1cb13e4c89",
   "metadata": {},
   "outputs": [],
   "source": []
  }
 ],
 "metadata": {
  "kernelspec": {
   "display_name": "Python 3 (ipykernel)",
   "language": "python",
   "name": "python3"
  },
  "language_info": {
   "codemirror_mode": {
    "name": "ipython",
    "version": 3
   },
   "file_extension": ".py",
   "mimetype": "text/x-python",
   "name": "python",
   "nbconvert_exporter": "python",
   "pygments_lexer": "ipython3",
   "version": "3.11.9"
  }
 },
 "nbformat": 4,
 "nbformat_minor": 5
}
