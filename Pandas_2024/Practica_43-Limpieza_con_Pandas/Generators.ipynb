{
 "cells": [
  {
   "cell_type": "code",
   "execution_count": 1,
   "id": "437bc5bd-8cda-48db-a8c9-41a3850323f3",
   "metadata": {},
   "outputs": [],
   "source": [
    "import pandas as pd\n",
    "\n",
    "# Crear un diccionario con los datos\n",
    "data = {\n",
    "    'Date': pd.date_range(start='2020-01-01', end='2020-02-29'),\n",
    "    'ExchangeRate': [\n",
    "        1.2, 1.19, 1.18, 1.21, 1.20, 1.22, 1.21, 1.23, 1.22, 1.20,\n",
    "        1.19, 1.18, 1.17, 1.16, 1.15, 1.14, 1.13, 1.12, 1.11, 1.10,\n",
    "        1.09, 1.08, 1.07, 1.06, 1.05, 1.04, 1.03, 1.02, 1.01, 1.00,\n",
    "        0.99, 0.98, 0.97, 0.96, 0.95, 0.94, 0.93, 0.92, 0.91, 0.90,\n",
    "        0.89, 0.88, 0.87, 0.86, 0.85, 0.84, 0.83, 0.82, 0.81, 0.80,\n",
    "        0.79, 0.78, 0.77, 0.76, 0.75, 0.74, 0.73, 0.72, 0.71, 0.70\n",
    "    ]\n",
    "}\n",
    "\n",
    "# Crear un DataFrame\n",
    "df_exchange_rates = pd.DataFrame(data)\n",
    "\n",
    "# Guardar el DataFrame en un archivo CSV\n",
    "df_exchange_rates.to_csv('exchange_rates.csv', index=False)"
   ]
  },
  {
   "cell_type": "code",
   "execution_count": null,
   "id": "e143cd41-1c4c-4434-9bd3-7bcc4a41ba50",
   "metadata": {},
   "outputs": [],
   "source": []
  }
 ],
 "metadata": {
  "kernelspec": {
   "display_name": "Python 3 (ipykernel)",
   "language": "python",
   "name": "python3"
  },
  "language_info": {
   "codemirror_mode": {
    "name": "ipython",
    "version": 3
   },
   "file_extension": ".py",
   "mimetype": "text/x-python",
   "name": "python",
   "nbconvert_exporter": "python",
   "pygments_lexer": "ipython3",
   "version": "3.11.9"
  }
 },
 "nbformat": 4,
 "nbformat_minor": 5
}
