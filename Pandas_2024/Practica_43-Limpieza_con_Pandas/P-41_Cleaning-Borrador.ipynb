{
 "cells": [
  {
   "cell_type": "markdown",
   "id": "3853cda1-6f2c-4109-bb0f-f986a89ea231",
   "metadata": {},
   "source": [
    "# Práctica 43: Limpieza, manejo y transformación de datos con Pandas"
   ]
  },
  {
   "cell_type": "markdown",
   "id": "d2fef326-a677-4cf7-bbf8-bf8fb3848e77",
   "metadata": {},
   "source": [
    "####  Cargar el fichero **retail.csv** en un dataframe de Pandas y efectuar todas las operaciones de consulta, exploración y limpieza de datos que sean necesarios. El archivo CSV contiene varias columnas y algunas de ellas tienen datos que podrían necesitar limpieza o manipulación. "
   ]
  },
  {
   "cell_type": "markdown",
   "id": "3fe9034f-feff-4fa6-94a2-f499e6cd3418",
   "metadata": {},
   "source": [
    "El fichero contiene información sobre transacciones de una tienda minorista. Los campos y su significado se muestran a continuación:"
   ]
  },
  {
   "cell_type": "markdown",
   "id": "d8a5715c-0227-4ece-a8a1-8f57e2c1811b",
   "metadata": {},
   "source": [
    "`InvoiceNo`: Número de factura que identifica de manera única cada transacción.\n",
    "  \n",
    "\n",
    "`StockCode`:Código de stock que identifica de manera única cada producto.\n",
    " \n",
    "\n",
    "`Descrption`.Descripción del producto.\n",
    "\n",
    "\n",
    "`Quantity`: Cantidad de productos comprados (puede contener valores negativos que indican devoluciones).\n",
    "\n",
    "`InvoiceDate`: Fecha y hora en que se realizó la transacción.\n",
    "\n",
    "\n",
    "`UnitPrice`:Precio unitario del producto (algunos valores pueden estar en centavos en lugar de dólares).\n",
    "\n",
    "\n",
    "`CustomerID`:ID único del cliente que realizó la compra.\n",
    "\n",
    "\n",
    "`Country`:País donde reside el cliente (puede contener inconsistencias en mayúsculas/minúsculas y caracteres especiales).  \n",
    "\n",
    "`CustomerName`:Nombre completo del cliente.\n",
    "\n",
    "\n",
    "`Email`:Dirección de correo electrónico del cliente.  \n",
    "\n",
    "`Address`:Dirección del cliente.  \n",
    "\n",
    "\n",
    "\n",
    "`PhoneNumber`:Número de teléfono del cliente.\n",
    "\n",
    "\n",
    "\n",
    "`Category`: Categoría del producto (por ejemplo, 'Electronics', 'Clothing', 'Home & Garden').\n",
    "\n",
    "`Supplier`: Proveedor del producto.  \n",
    "\n",
    "`StockLevel`: Nivel de inventario del producto.\n",
    "\n",
    "`Discount`: Descuento aplicado al producto (en porcentaje).  \n",
    "\n",
    "`SaleChannel`: Canal de venta (por ejemplo, 'Online', 'In-Store').\n",
    "\n",
    "`ReturnStatus`: Estado de devolución del producto ('Returned', 'Not Returned').\n",
    "\n",
    "`ProductWeight`: Peso del producto. Unidad: kilogramos.\n",
    "\n",
    "`ProductDimensions`: Dimensiones del producto. Unidad: en el formato 'LxWxH cm'.\n",
    "\n",
    "`ShippingCost`: Costo de envío. Unidad:dólares.\n",
    "\n",
    "`SalesRegion`: Región de ventas (por ejemplo, 'North America', 'Europe', 'Asia').  \n",
    "\n",
    "`PromotionCode`: Código de promoción aplicado a la compra.\n",
    "\n",
    "`PaymentMethod`: Método de pago (por ejemplo, 'Credit Card', 'PayPal', 'Bank Transfer').\n"
   ]
  },
  {
   "cell_type": "markdown",
   "id": "4efb6aee-e5da-4a9a-a7df-b60789583eb3",
   "metadata": {},
   "source": [
    "# Parte 1. Data Cleaning and Preparation"
   ]
  },
  {
   "cell_type": "markdown",
   "id": "15d81a15-37f6-47fe-9fbc-9b3da7b09cdb",
   "metadata": {},
   "source": [
    "- Cargue los datasets `retail.csv` y `exchange_rates.csv` en DataFrames de pandas."
   ]
  },
  {
   "cell_type": "markdown",
   "id": "67503480-8ece-4d26-97b9-84218fc395dc",
   "metadata": {},
   "source": [
    "## Pregunta 1\n",
    "**Identificación de valores faltantes:**\n",
    "- Identifique las columnas con valores faltantes en el dataset `retail`."
   ]
  },
  {
   "cell_type": "code",
   "execution_count": null,
   "id": "dfd3b8da-a65d-4344-a10e-2241ebd8cbb6",
   "metadata": {},
   "outputs": [],
   "source": []
  },
  {
   "cell_type": "markdown",
   "id": "7ac86282-5425-4ee1-8740-5ed35845f12c",
   "metadata": {},
   "source": [
    "## Pregunta 2\n",
    "**Eliminar valores faltantes:**\n",
    "- Elimine las filas del dataset `retail` donde las columnas críticas (`InvoiceNo`, `StockCode`, `Quantity`, `UnitPrice`, `CustomerID`) tengan valores faltantes."
   ]
  },
  {
   "cell_type": "code",
   "execution_count": null,
   "id": "a55f21bf-191c-4dfd-b466-dee219d92a87",
   "metadata": {},
   "outputs": [],
   "source": []
  },
  {
   "cell_type": "markdown",
   "id": "3020a022-cbf0-4a03-9400-d0e89358d2b5",
   "metadata": {},
   "source": [
    "## Pregunta 3\n",
    "**Conversión de tipos de datos:**\n",
    "- Convierta la columna `InvoiceDate` del dataset `retail` a un formato de datetime."
   ]
  },
  {
   "cell_type": "markdown",
   "id": "c34c48b6-5f03-49b5-9ac3-12052c4c7e90",
   "metadata": {},
   "source": [
    "1. Estructura del dataframe (de ambos)"
   ]
  },
  {
   "cell_type": "code",
   "execution_count": null,
   "id": "34da03c7-37f7-4401-a40d-3d42176158c9",
   "metadata": {},
   "outputs": [],
   "source": []
  },
  {
   "cell_type": "markdown",
   "id": "48e5edab-2aa6-412a-b469-05ff5bdc5427",
   "metadata": {},
   "source": [
    "## Pregunta 4\n",
    "**Conversión de tipos de datos en tasas de cambio:**\n",
    "- Convierta la columna `Date` del dataset `exchange_rates.csv` a un formato de datetime."
   ]
  },
  {
   "cell_type": "code",
   "execution_count": null,
   "id": "7ba50134-6495-481e-b39b-1b5dcd5237d0",
   "metadata": {},
   "outputs": [],
   "source": []
  },
  {
   "cell_type": "markdown",
   "id": "a586bc13-d4e0-453d-a5b0-2eaf72954d5b",
   "metadata": {},
   "source": [
    "## Pregunta 5\n",
    "**Filtrado de datos por país:**\n",
    "- Filtre el dataset `retail` para mostrar solo las transacciones realizadas en el país 'United Kingdom'."
   ]
  },
  {
   "cell_type": "code",
   "execution_count": null,
   "id": "bdd4d849-870b-47a2-bb73-45d0aa88f56d",
   "metadata": {},
   "outputs": [],
   "source": []
  },
  {
   "cell_type": "markdown",
   "id": "31f27912-04da-43e2-85dc-fcaa4f94e5e7",
   "metadata": {},
   "source": [
    "## Pregunta 6\n",
    "**Calcular el total de precios:**\n",
    "- Cree una nueva columna `TotalPrice` en el dataset `retail` multiplicando `Quantity` por `UnitPrice`."
   ]
  },
  {
   "cell_type": "code",
   "execution_count": null,
   "id": "cce9c0ae-3806-4ab4-b0a6-1a8d18454066",
   "metadata": {},
   "outputs": [],
   "source": []
  },
  {
   "cell_type": "markdown",
   "id": "c4d803ec-2015-46b3-8f1f-7750cfe57e41",
   "metadata": {},
   "source": [
    "## Pregunta 7\n",
    "**Extraer mes y año:**\n",
    "- Extraiga el mes y el año de la columna `InvoiceDate` y cree dos nuevas columnas: `InvoiceMonth` y `InvoiceYear`."
   ]
  },
  {
   "cell_type": "code",
   "execution_count": null,
   "id": "8ef8becf-18b3-400f-8a3a-301e34798fa8",
   "metadata": {},
   "outputs": [],
   "source": []
  },
  {
   "cell_type": "markdown",
   "id": "c5629a33-8380-4c6d-95ba-357596aee62b",
   "metadata": {},
   "source": [
    "## Pregunta 8\n",
    "**Eliminar duplicados:**\n",
    "- Identifique y elimine las filas duplicadas en el dataset `retail` basadas en la combinación de `InvoiceNo` y `StockCode`."
   ]
  },
  {
   "cell_type": "code",
   "execution_count": null,
   "id": "9c4897a9-d152-4064-8dd5-650af3c0b51a",
   "metadata": {},
   "outputs": [],
   "source": []
  },
  {
   "cell_type": "markdown",
   "id": "1a6f1c49-05e8-4527-94cf-a612dcee4966",
   "metadata": {},
   "source": [
    "## Pregunta 9\n",
    "**Reemplazo de valores:**\n",
    "- Reemplace todos los valores negativos en la columna `Quantity` con cero."
   ]
  },
  {
   "cell_type": "code",
   "execution_count": null,
   "id": "46273c6c-6855-4443-9e73-3d82376ba837",
   "metadata": {},
   "outputs": [],
   "source": []
  },
  {
   "cell_type": "markdown",
   "id": "7aa5ebea-9b1e-4459-ad21-47063ec6466a",
   "metadata": {},
   "source": [
    "## Pregunta 10\n",
    "**Transformación de datos:**\n",
    "- Cree una nueva columna `DiscountedPrice` aplicando un descuento del 10% al `TotalPrice`."
   ]
  },
  {
   "cell_type": "markdown",
   "id": "8ef95a4c-221e-4f28-8b6a-8e3c74ab9f3c",
   "metadata": {},
   "source": [
    "# Parte 2. Data Wrangling: Join, Combine, and Reshape "
   ]
  },
  {
   "cell_type": "markdown",
   "id": "f8d320de-654b-4ea3-bcc4-1ccc6b5b168b",
   "metadata": {},
   "source": [
    "## Pregunta 11\n",
    "**Merge de datasets:**\n",
    "- Realice un merge del dataset `retail` con el dataset `exchange_rates.csv` en las columnas de fecha (`InvoiceDate` de `retail` y `Date` de `exchange_rates.csv`)."
   ]
  },
  {
   "cell_type": "code",
   "execution_count": null,
   "id": "aec363b7-69ec-46c5-af18-4a9920133267",
   "metadata": {},
   "outputs": [],
   "source": []
  },
  {
   "cell_type": "markdown",
   "id": "45c88193-d8b4-4c5d-8294-50fad551f826",
   "metadata": {},
   "source": [
    "## Pregunta 12\n",
    "**Concatenación de datasets:**\n",
    "- Concatenar dos subconjuntos del dataset `retail`, uno con las primeras 100 filas y otro con las últimas 100 filas."
   ]
  },
  {
   "cell_type": "code",
   "execution_count": null,
   "id": "02f777cb-c6bd-45f9-b49b-b5e1d368ab8f",
   "metadata": {},
   "outputs": [],
   "source": []
  },
  {
   "cell_type": "markdown",
   "id": "10475253-85d2-4e06-975a-97c561c23abb",
   "metadata": {},
   "source": [
    "## Pregunta 13\n",
    "**Pivot table:**\n",
    "- Cree una tabla dinámica (pivot table) que muestre el total de `TotalPrice` para cada `Country` y `InvoiceYear`."
   ]
  },
  {
   "cell_type": "code",
   "execution_count": null,
   "id": "3dd0a7f7-56e1-49a0-aa72-aa922bb72a46",
   "metadata": {},
   "outputs": [],
   "source": []
  },
  {
   "cell_type": "markdown",
   "id": "9c9f5f3d-4884-4c15-9413-bb33cdf7851e",
   "metadata": {},
   "source": [
    "## Pregunta 14\n",
    "**Reshape con melt:**\n",
    "- Transforme el dataset `retail` de formato ancho a largo usando la función `melt` de pandas."
   ]
  },
  {
   "cell_type": "code",
   "execution_count": null,
   "id": "a9002348-4591-4bbe-a977-7d4bc182024c",
   "metadata": {},
   "outputs": [],
   "source": []
  },
  {
   "cell_type": "markdown",
   "id": "8f7e993a-771c-483d-9c2a-83d4b9d2d89b",
   "metadata": {},
   "source": [
    "## Pregunta 15\n",
    "**Combinar datos con overlap:**\n",
    "- Combine dos DataFrames con columnas `CustomerID` y `TotalPrice`, teniendo en cuenta el overlap entre los datos."
   ]
  },
  {
   "cell_type": "code",
   "execution_count": null,
   "id": "6de290d9-b6a8-4c7f-b268-69cff52f5ed3",
   "metadata": {},
   "outputs": [],
   "source": []
  },
  {
   "cell_type": "markdown",
   "id": "7e153b76-c94d-4ea3-9234-e24e78501fbb",
   "metadata": {},
   "source": [
    "## Pregunta 16\n",
    "**Join con índices:**\n",
    "- Realice un join de dos DataFrames basándose en los índices."
   ]
  },
  {
   "cell_type": "code",
   "execution_count": null,
   "id": "28c4e333-c3f4-46c3-948c-b67eb59b9fcf",
   "metadata": {},
   "outputs": [],
   "source": []
  },
  {
   "cell_type": "markdown",
   "id": "6266d7e4-aa6b-4741-8533-9adc5f9b5260",
   "metadata": {},
   "source": [
    "## Pregunta 17\n",
    "**Cambio de nivel de índices:**\n",
    "- Cambie los niveles de los índices en un MultiIndex en el dataset `retail`."
   ]
  },
  {
   "cell_type": "code",
   "execution_count": null,
   "id": "d02bbaac-6cbb-416a-95f6-15711d9c1ac8",
   "metadata": {},
   "outputs": [],
   "source": []
  },
  {
   "cell_type": "markdown",
   "id": "29f89b28-8be9-48ca-8189-8d35d570611e",
   "metadata": {},
   "source": [
    "## Pregunta 18\n",
    "**Reordenamiento de niveles:**\n",
    "- Reordene los niveles del índice en un DataFrame con MultiIndex."
   ]
  },
  {
   "cell_type": "code",
   "execution_count": null,
   "id": "02a064ba-1f13-4a64-8447-a7dcb6d79d39",
   "metadata": {},
   "outputs": [],
   "source": []
  },
  {
   "cell_type": "markdown",
   "id": "1ba5b8ba-ffab-4b7b-b675-7593a9af3042",
   "metadata": {},
   "source": [
    "## Pregunta 19\n",
    "**Agregación por nivel:**\n",
    "- Realice una agregación de los datos por nivel en un MultiIndex."
   ]
  },
  {
   "cell_type": "code",
   "execution_count": null,
   "id": "7a9c1fe9-55a3-4c0c-b575-4a17f237c66a",
   "metadata": {},
   "outputs": [],
   "source": []
  },
  {
   "cell_type": "markdown",
   "id": "284accc6-361d-446c-b47b-3a945c7a5b68",
   "metadata": {},
   "source": [
    "## Pregunta 20\n",
    "**Creación de MultiIndex:**\n",
    "- Cree un MultiIndex a partir de las columnas `Country` y `InvoiceYear` en el dataset `retail`."
   ]
  },
  {
   "cell_type": "code",
   "execution_count": null,
   "id": "aae01745-e651-41d5-8b07-1e1a60f0cb8b",
   "metadata": {},
   "outputs": [],
   "source": []
  },
  {
   "cell_type": "markdown",
   "id": "b24d6353-7cb2-4d00-b21e-1a22b9917fa4",
   "metadata": {},
   "source": [
    "# Parte 3 Data Aggregation and Group Operations"
   ]
  },
  {
   "cell_type": "code",
   "execution_count": null,
   "id": "07062945-efc6-495a-8663-54ded665a4c8",
   "metadata": {},
   "outputs": [],
   "source": []
  },
  {
   "cell_type": "markdown",
   "id": "de7a9513-d675-41d9-8f25-ddd29a19314b",
   "metadata": {},
   "source": [
    "## Pregunta 21\n",
    "**Agrupación por cliente:**\n",
    "- Agrupe los datos del dataset `retail` por `CustomerID` y calcule el total de `TotalPrice` por cliente."
   ]
  },
  {
   "cell_type": "code",
   "execution_count": null,
   "id": "fbebb067-f627-4eb9-9552-24e62a5ced83",
   "metadata": {},
   "outputs": [],
   "source": []
  },
  {
   "cell_type": "markdown",
   "id": "25562488-093f-4d9d-8328-8e4daf39f053",
   "metadata": {},
   "source": [
    "## Pregunta 22\n",
    "**Agrupación por producto:**\n",
    "- Agrupe los datos del dataset `retail` por `StockCode` y calcule la cantidad total vendida (`Quantity`)."
   ]
  },
  {
   "cell_type": "code",
   "execution_count": null,
   "id": "5256f018-bfda-41e9-bc55-09cba3a30f20",
   "metadata": {},
   "outputs": [],
   "source": []
  },
  {
   "cell_type": "markdown",
   "id": "8e29e2b8-6138-4173-8595-0a0c924d2c33",
   "metadata": {},
   "source": [
    "## Pregunta 23\n",
    "**Agrupación por mes y año:**\n",
    "- Agrupe los datos del dataset `retail` por `InvoiceMonth` y `InvoiceYear`, y calcule el total de `TotalPrice`."
   ]
  },
  {
   "cell_type": "code",
   "execution_count": null,
   "id": "bbffaa78-caec-444d-b722-b02fd3a9c1d3",
   "metadata": {},
   "outputs": [],
   "source": []
  },
  {
   "cell_type": "markdown",
   "id": "e0798498-b91e-4209-89c5-85a7c3c90ad5",
   "metadata": {},
   "source": [
    "## Pregunta 24\n",
    "**Conteo de transacciones:**\n",
    "- Cuente el número total de transacciones por `Country` y `InvoiceYear`."
   ]
  },
  {
   "cell_type": "code",
   "execution_count": null,
   "id": "65c3c2d0-a9cc-4cf3-93eb-4c8f268b3804",
   "metadata": {},
   "outputs": [],
   "source": []
  },
  {
   "cell_type": "markdown",
   "id": "800cc089-fd44-4058-9594-95297ad42eed",
   "metadata": {},
   "source": [
    "## Pregunta 25\n",
    "**Función de agregación personalizada:**\n",
    "- Cree una función de agregación personalizada que calcule el promedio y la desviación estándar de `TotalPrice` por `Country`."
   ]
  },
  {
   "cell_type": "code",
   "execution_count": null,
   "id": "5f902507-2458-4c38-a96b-1f65e0ace29a",
   "metadata": {},
   "outputs": [],
   "source": []
  },
  {
   "cell_type": "markdown",
   "id": "acbc6494-5044-46b4-a096-9963f2c085be",
   "metadata": {},
   "source": [
    "## Pregunta 26\n",
    "**Agrupación y transformaciones:**\n",
    "- Agrupe los datos por `CustomerID` y normalice el `TotalPrice` restando la media y dividiendo por la desviación estándar dentro de cada grupo."
   ]
  },
  {
   "cell_type": "code",
   "execution_count": null,
   "id": "581dc395-ab48-4c52-a5f2-6bfcdbba9f3d",
   "metadata": {},
   "outputs": [],
   "source": []
  },
  {
   "cell_type": "markdown",
   "id": "57cc361f-399a-482c-89d4-657109a270d5",
   "metadata": {},
   "source": [
    "## Pregunta 27\n",
    "**Filtrado de grupos:**\n",
    "- Filtre los grupos de `CustomerID` que tengan un `TotalPrice` promedio mayor a 500."
   ]
  },
  {
   "cell_type": "code",
   "execution_count": null,
   "id": "a9a14f51-2db9-4368-b283-b287b350c9d3",
   "metadata": {},
   "outputs": [],
   "source": []
  },
  {
   "cell_type": "markdown",
   "id": "00ade058-c258-435b-806e-d71cf0491404",
   "metadata": {},
   "source": [
    "## Pregunta 28\n",
    "**Aplicación de múltiples funciones:**\n",
    "- Aplique múltiples funciones de agregación (suma, promedio, máximo) a la columna `TotalPrice` agrupando por `Country`."
   ]
  },
  {
   "cell_type": "code",
   "execution_count": null,
   "id": "75d6e361-2dc3-447f-9452-5effb4737642",
   "metadata": {},
   "outputs": [],
   "source": []
  },
  {
   "cell_type": "markdown",
   "id": "024e7b73-3162-4625-aa4b-b6c89f4c1ccf",
   "metadata": {},
   "source": [
    "## Pregunta 29\n",
    "**Creación de columnas derivadas:**\n",
    "- Cree una nueva columna `AvgTotalPrice` que contenga el promedio de `TotalPrice` por `CustomerID`."
   ]
  },
  {
   "cell_type": "code",
   "execution_count": null,
   "id": "bf254c9b-e0ac-4813-af67-edfad12b528c",
   "metadata": {},
   "outputs": [],
   "source": []
  },
  {
   "cell_type": "markdown",
   "id": "32c75d98-07bf-4130-a1e4-debea7c42e89",
   "metadata": {},
   "source": [
    "## Pregunta 30\n",
    "**Uso de transformaciones window:**\n",
    "- Utilice una transformación de ventana para calcular la media móvil de 3 períodos de `TotalPrice` para cada `CustomerID`."
   ]
  },
  {
   "cell_type": "code",
   "execution_count": null,
   "id": "78cb8e9f-761a-4f86-9a4b-8f38f0e5665f",
   "metadata": {},
   "outputs": [],
   "source": []
  },
  {
   "cell_type": "markdown",
   "id": "aaceab53-2037-4cf7-a790-5582251bcabb",
   "metadata": {},
   "source": [
    "# Parte 4 - Time Series"
   ]
  },
  {
   "cell_type": "code",
   "execution_count": null,
   "id": "48ff39c1-64ce-4da0-8017-27aa6b02eb44",
   "metadata": {},
   "outputs": [],
   "source": []
  },
  {
   "cell_type": "markdown",
   "id": "6fb77d9b-9d64-4823-8041-8bd3cc340cba",
   "metadata": {},
   "source": [
    "## Pregunta 31\n",
    "**Conversión a índice de tiempo:**\n",
    "- Convierta la columna `InvoiceDate` a un índice de tiempo en el dataset `retail`."
   ]
  },
  {
   "cell_type": "code",
   "execution_count": null,
   "id": "be694d77-d5fa-4666-8aa0-cdbb9c420ea7",
   "metadata": {},
   "outputs": [],
   "source": []
  },
  {
   "cell_type": "markdown",
   "id": "3f7a4beb-d80f-4334-b50a-796723f32df6",
   "metadata": {},
   "source": [
    "## Pregunta 32\n",
    "**Remuestreo de datos:**\n",
    "- Remuestrear los datos del dataset `retail` a una frecuencia mensual y calcule el total de `TotalPrice` por mes."
   ]
  },
  {
   "cell_type": "code",
   "execution_count": null,
   "id": "877eb5c9-6897-4bd0-b546-b9ff934f7af6",
   "metadata": {},
   "outputs": [],
   "source": []
  },
  {
   "cell_type": "markdown",
   "id": "12d46945-1160-488a-a81a-56f49d882747",
   "metadata": {},
   "source": [
    "## Pregunta 33\n",
    "**Cambio de frecuencia:**\n",
    "- Cambie la frecuencia de los datos del dataset `retail` a trimestral y calcule el total de `TotalPrice` por trimestre."
   ]
  },
  {
   "cell_type": "code",
   "execution_count": null,
   "id": "daa3982f-f339-47d5-9c9c-871ec85454a6",
   "metadata": {},
   "outputs": [],
   "source": []
  },
  {
   "cell_type": "markdown",
   "id": "5b672d85-d2a8-4701-b0b3-3ec17a0cf24a",
   "metadata": {},
   "source": [
    "## Pregunta 34\n",
    "**Desplazamiento de datos:**\n",
    "- Desplace los datos de `TotalPrice` en el dataset `retail` un período hacia adelante."
   ]
  },
  {
   "cell_type": "code",
   "execution_count": null,
   "id": "d4d31abe-c359-4406-a653-07be735845f1",
   "metadata": {},
   "outputs": [],
   "source": []
  },
  {
   "cell_type": "markdown",
   "id": "d6c10799-cc3e-4616-b6fb-cadd45737298",
   "metadata": {},
   "source": [
    "## Pregunta 35\n",
    "**Ventanas móviles:**\n",
    "- Calcule la media móvil de 3 períodos de `TotalPrice` en el dataset `retail`."
   ]
  },
  {
   "cell_type": "code",
   "execution_count": null,
   "id": "2fabe112-19f9-47b5-8cbe-5c0e6fb3532f",
   "metadata": {},
   "outputs": [],
   "source": []
  },
  {
   "cell_type": "markdown",
   "id": "0a258136-2f54-49c8-b00d-bf0f86b38dd7",
   "metadata": {},
   "source": [
    "## Pregunta 36\n",
    "**Detección de tendencias:**\n",
    "- Detecte tendencias en la columna `TotalPrice` del dataset `retail` usando una ventana móvil de 12 períodos."
   ]
  },
  {
   "cell_type": "code",
   "execution_count": null,
   "id": "0bc70379-1ae2-46d1-9c10-7bb6c51b68f7",
   "metadata": {},
   "outputs": [],
   "source": []
  },
  {
   "cell_type": "markdown",
   "id": "dedef1e8-21ed-41b4-b5ec-e51e903a08fb",
   "metadata": {},
   "source": [
    "## Pregunta 37\n",
    "**Descomposición de series temporales:**\n",
    "- Descomponga la serie temporal de `TotalPrice` en componentes de tendencia, estacionalidad y ruido."
   ]
  },
  {
   "cell_type": "code",
   "execution_count": null,
   "id": "bafb581a-6d39-493b-894d-2c17d6fbde5c",
   "metadata": {},
   "outputs": [],
   "source": []
  },
  {
   "cell_type": "markdown",
   "id": "9ed9aaf8-ba0e-43c2-bc3e-9515abcb3654",
   "metadata": {},
   "source": [
    "## Pregunta 38\n",
    "**Interpolación de datos faltantes:**\n",
    "- Interpole los valores faltantes en la columna `TotalPrice` utilizando la interpolación lineal."
   ]
  },
  {
   "cell_type": "code",
   "execution_count": null,
   "id": "e5677dc3-2fdd-43e3-b4ef-01c63e98cb5e",
   "metadata": {},
   "outputs": [],
   "source": []
  },
  {
   "cell_type": "markdown",
   "id": "218b7509-ef2a-4247-8451-55fb00c74640",
   "metadata": {},
   "source": [
    "## Pregunta 39\n",
    "**Análisis de autocorrelación:**\n",
    "- Realice un análisis de autocorrelación en la columna `TotalPrice` del dataset `retail`."
   ]
  },
  {
   "cell_type": "code",
   "execution_count": null,
   "id": "642c0b62-152f-4b74-834f-a2ee4d6b97fc",
   "metadata": {},
   "outputs": [],
   "source": []
  },
  {
   "cell_type": "markdown",
   "id": "dd3746bb-e93e-46d5-b4fc-723bc5de64cb",
   "metadata": {},
   "source": [
    "## Pregunta 40\n",
    "**Conversión de zona horaria:**\n",
    "- Convierta las fechas en la columna `InvoiceDate` a una zona horaria específica (por ejemplo, UTC) en el dataset `retail`.\n"
   ]
  },
  {
   "cell_type": "markdown",
   "id": "149d64d8-253a-4ccb-8bca-dfe8654a428a",
   "metadata": {},
   "source": [
    "2. Información General del dataframe (ambos)"
   ]
  },
  {
   "cell_type": "code",
   "execution_count": null,
   "id": "bf4b9486-364e-40f9-b0d8-225a742c01b8",
   "metadata": {},
   "outputs": [],
   "source": []
  },
  {
   "cell_type": "markdown",
   "id": "96f08d35-022b-438d-a023-d3da13a228da",
   "metadata": {},
   "source": [
    "3. Resumen estadistico de las columnas numéricas"
   ]
  },
  {
   "cell_type": "code",
   "execution_count": null,
   "id": "5de8e151-ef2f-4d55-ab60-4048a75ea389",
   "metadata": {},
   "outputs": [],
   "source": []
  },
  {
   "cell_type": "markdown",
   "id": "88c43e21-011b-4667-8cfc-72699ade1fa6",
   "metadata": {},
   "source": [
    "4. Resumen estadístico de las columnas no numéricas"
   ]
  },
  {
   "cell_type": "code",
   "execution_count": null,
   "id": "2c628fed-8f03-4549-b48b-fe2a6154ee65",
   "metadata": {},
   "outputs": [],
   "source": []
  },
  {
   "cell_type": "markdown",
   "id": "6bc892e0-8529-4fb3-959b-764b8f41cd4f",
   "metadata": {},
   "source": [
    "5. Imprima los tipos de datos de cada columna"
   ]
  },
  {
   "cell_type": "code",
   "execution_count": null,
   "id": "874f73a5-6489-4e64-9c1e-7bbb85fc6162",
   "metadata": {},
   "outputs": [],
   "source": []
  },
  {
   "cell_type": "markdown",
   "id": "8419205d-8393-4bf4-9138-1cc644fd4c54",
   "metadata": {},
   "source": [
    "6. Imprima las columnas del dataframe (ambos)"
   ]
  },
  {
   "cell_type": "code",
   "execution_count": null,
   "id": "e22da3b4-129e-45bf-b3bd-46919f81dfdf",
   "metadata": {},
   "outputs": [],
   "source": []
  },
  {
   "cell_type": "markdown",
   "id": "3e5b661a-f6e5-4611-a4cf-034c48fe4fe2",
   "metadata": {},
   "source": [
    "7. Encontrar:\n",
    "   \n",
    "   - Nulos o faltantes.  \n",
    "   - Duplicados enteros o parciales.  \n",
    "   - Cambiar tipos de datos si hace falta.  \n",
    "   - Quitar caracteres especiales de strings.  \n",
    "   - Inconsistencia de diversos datos numéricos.  \n",
    "   - Entre otros...  \n",
    "   "
   ]
  },
  {
   "cell_type": "markdown",
   "id": "d0d3e609-5b77-49f4-a0fb-c2dfb90c8f94",
   "metadata": {},
   "source": [
    "8. Imputa los valores nulos en las columnas CustomerID y Description utilizando métodos apropiados.Explica por qué elegiste esos métodos de imputación."
   ]
  },
  {
   "cell_type": "code",
   "execution_count": null,
   "id": "e2eaad8b-d342-4de5-a73c-275cd2873922",
   "metadata": {},
   "outputs": [],
   "source": []
  },
  {
   "cell_type": "markdown",
   "id": "36dcd439-97d1-41b2-a33d-7fb120ba8285",
   "metadata": {},
   "source": [
    "9. Identifica outliers en la columna Quantity y UnitPrice. Utiliza métodos apropiados para manejar estos outliers (puede ser eliminación o transformación)."
   ]
  },
  {
   "cell_type": "code",
   "execution_count": null,
   "id": "ee837562-0520-4b7e-bc6b-464e90413c7e",
   "metadata": {},
   "outputs": [],
   "source": []
  },
  {
   "cell_type": "markdown",
   "id": "4a4c363d-59d2-40e7-812a-bce182399649",
   "metadata": {},
   "source": [
    "10. Crea una nueva columna TotalPrice que sea el resultado de multiplicar Quantity por UnitPrice."
   ]
  },
  {
   "cell_type": "code",
   "execution_count": null,
   "id": "48fa138b-2d58-4d7f-accf-eadb665e3891",
   "metadata": {},
   "outputs": [],
   "source": []
  },
  {
   "cell_type": "markdown",
   "id": "e470774b-5816-42ec-bb7b-bfaf1c9ad9c6",
   "metadata": {},
   "source": [
    "11. Extrae el año y el mes de la columna InvoiceDate y crea dos nuevas columnas InvoiceYear e InvoiceMonth."
   ]
  },
  {
   "cell_type": "code",
   "execution_count": null,
   "id": "b6197aa2-e628-42b7-a8d3-70d455c5ffbe",
   "metadata": {},
   "outputs": [],
   "source": []
  },
  {
   "cell_type": "markdown",
   "id": "33b19003-07c5-4626-92ec-2a1aa87431d8",
   "metadata": {},
   "source": [
    "12. Agrupa los datos por InvoiceYear y InvoiceMonth y calcula el total de ventas mensuales."
   ]
  },
  {
   "cell_type": "code",
   "execution_count": null,
   "id": "0b2acdcf-d6d3-4f55-96a5-0ca331e6d664",
   "metadata": {},
   "outputs": [],
   "source": []
  },
  {
   "cell_type": "markdown",
   "id": "c081c02f-9888-47c6-9706-518837bb8381",
   "metadata": {},
   "source": [
    "13.  Agrupa los datos por `CustomerID` y calcula el total de ventas (`TotalPrice`) y la cantidad de transacciones por cliente."
   ]
  },
  {
   "cell_type": "code",
   "execution_count": null,
   "id": "95cbda64-5953-4f0c-84ee-811a17e6e2c1",
   "metadata": {},
   "outputs": [],
   "source": []
  },
  {
   "cell_type": "markdown",
   "id": "7b372887-94dc-4f3a-beb6-4fc33d644c14",
   "metadata": {},
   "source": [
    "14. Realiza un análisis de cohortes para entender el comportamiento de los clientes a lo largo del tiempo. Agrupa los clientes por su primer mes de compra y analiza su retención y comportamiento en los meses subsecuentes."
   ]
  },
  {
   "cell_type": "code",
   "execution_count": null,
   "id": "2673f9bc-faf2-4467-b814-55e732131e2c",
   "metadata": {},
   "outputs": [],
   "source": []
  },
  {
   "cell_type": "markdown",
   "id": "26d7c45f-2b56-4b4c-9ea2-53f3e46390c8",
   "metadata": {},
   "source": [
    "15. Integra datos externos, como tasas de cambio de moneda, para analizar el impacto en las ventas. Supón que tienes un dataset **exchange_rates.csv** con las tasas de cambio históricas."
   ]
  },
  {
   "cell_type": "code",
   "execution_count": null,
   "id": "22ca96ba-1f41-465a-9484-99ccafc93489",
   "metadata": {},
   "outputs": [],
   "source": []
  },
  {
   "cell_type": "markdown",
   "id": "7d21d7a8-b041-4f49-9df3-59f3220709ac",
   "metadata": {},
   "source": [
    "16. Utilizando el fichero exchange_rates.csv, convierte los precios de los productos (UnitPrice) en el conjunto de datos de retail a una moneda extranjera (por ejemplo, de GBP a USD) según la tasa de cambio correspondiente a la fecha de la transacción (InvoiceDate). Agrega una nueva columna llamada UnitPriceUSD al DataFrame original."
   ]
  },
  {
   "cell_type": "code",
   "execution_count": null,
   "id": "692a9762-1d27-42f5-9fd6-1818d88477ef",
   "metadata": {},
   "outputs": [],
   "source": []
  },
  {
   "cell_type": "code",
   "execution_count": null,
   "id": "7ca48899-7b16-4f8c-be3a-066d29cb7e8f",
   "metadata": {},
   "outputs": [],
   "source": [
    "17. "
   ]
  }
 ],
 "metadata": {
  "kernelspec": {
   "display_name": "Python 3 (ipykernel)",
   "language": "python",
   "name": "python3"
  },
  "language_info": {
   "codemirror_mode": {
    "name": "ipython",
    "version": 3
   },
   "file_extension": ".py",
   "mimetype": "text/x-python",
   "name": "python",
   "nbconvert_exporter": "python",
   "pygments_lexer": "ipython3",
   "version": "3.11.9"
  }
 },
 "nbformat": 4,
 "nbformat_minor": 5
}
