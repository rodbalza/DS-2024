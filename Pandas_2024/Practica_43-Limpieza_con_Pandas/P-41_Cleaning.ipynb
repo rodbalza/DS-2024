{
 "cells": [
  {
   "cell_type": "markdown",
   "id": "3853cda1-6f2c-4109-bb0f-f986a89ea231",
   "metadata": {},
   "source": [
    "# Práctica 41: Limpieza, manejo y transformación de datos con Pandas"
   ]
  },
  {
   "cell_type": "markdown",
   "id": "d2fef326-a677-4cf7-bbf8-bf8fb3848e77",
   "metadata": {},
   "source": [
    "#### Parte 1. Cargar el fichero **retail.csv** en un dataframe de Pandas y efectuar todas las operaciones de consulta, exploración y limpieza de datos que sean necesarios. El archivo CSV contiene varias columnas y algunas de ellas tienen datos que podrían necesitar limpieza o manipulación. "
   ]
  },
  {
   "cell_type": "markdown",
   "id": "3fe9034f-feff-4fa6-94a2-f499e6cd3418",
   "metadata": {},
   "source": [
    "El fichero contiene información sobre transacciones de una tienda minorista. Los campos y su significado se muestran a continuación:"
   ]
  },
  {
   "cell_type": "markdown",
   "id": "d8a5715c-0227-4ece-a8a1-8f57e2c1811b",
   "metadata": {},
   "source": [
    "`InvoiceNo`: Número de factura que identifica de manera única cada transacción.\n",
    "  \n",
    "\n",
    "`StockCode`:Código de stock que identifica de manera única cada producto.\n",
    " \n",
    "\n",
    "`Descrption`.Descripción del producto.\n",
    "\n",
    "\n",
    "`Quantity`: Cantidad de productos comprados (puede contener valores negativos que indican devoluciones).\n",
    "\n",
    "`InvoiceDate`: Fecha y hora en que se realizó la transacción.\n",
    "\n",
    "\n",
    "`UnitPrice`:Precio unitario del producto (algunos valores pueden estar en centavos en lugar de dólares).\n",
    "\n",
    "\n",
    "`CustomerID`:ID único del cliente que realizó la compra.\n",
    "\n",
    "\n",
    "`Country`:País donde reside el cliente (puede contener inconsistencias en mayúsculas/minúsculas y caracteres especiales).  \n",
    "\n",
    "`CustomerName`:Nombre completo del cliente.\n",
    "\n",
    "\n",
    "`Email`:Dirección de correo electrónico del cliente.  \n",
    "\n",
    "`Address`:Dirección del cliente.  \n",
    "\n",
    "\n",
    "\n",
    "`PhoneNumber`:Número de teléfono del cliente.\n",
    "\n",
    "\n",
    "\n",
    "`Category`: Categoría del producto (por ejemplo, 'Electronics', 'Clothing', 'Home & Garden').\n",
    "\n",
    "`Supplier`: Proveedor del producto.  \n",
    "\n",
    "`StockLevel`: Nivel de inventario del producto.\n",
    "\n",
    "`Discount`: Descuento aplicado al producto (en porcentaje).  \n",
    "\n",
    "`SaleChannel`: Canal de venta (por ejemplo, 'Online', 'In-Store').\n",
    "\n",
    "`ReturnStatus`: Estado de devolución del producto ('Returned', 'Not Returned').\n",
    "\n",
    "`ProductWeight`: Peso del producto. Unidad: kilogramos.\n",
    "\n",
    "`ProductDimensions`: Dimensiones del producto. Unidad: en el formato 'LxWxH cm'.\n",
    "\n",
    "`ShippingCost`: Costo de envío. Unidad:dólares.\n",
    "\n",
    "`SalesRegion`: Región de ventas (por ejemplo, 'North America', 'Europe', 'Asia').  \n",
    "\n",
    "`PromotionCode`: Código de promoción aplicado a la compra.\n",
    "\n",
    "`PaymentMethod`: Método de pago (por ejemplo, 'Credit Card', 'PayPal', 'Bank Transfer').\n"
   ]
  },
  {
   "cell_type": "markdown",
   "id": "4efb6aee-e5da-4a9a-a7df-b60789583eb3",
   "metadata": {},
   "source": [
    "### Exploración y limpieza de datos"
   ]
  },
  {
   "cell_type": "markdown",
   "id": "c34c48b6-5f03-49b5-9ac3-12052c4c7e90",
   "metadata": {},
   "source": [
    "1. Estructura del dataframe"
   ]
  },
  {
   "cell_type": "code",
   "execution_count": null,
   "id": "541c103a-e106-4762-b5f1-089ccddc2f87",
   "metadata": {},
   "outputs": [],
   "source": []
  },
  {
   "cell_type": "markdown",
   "id": "149d64d8-253a-4ccb-8bca-dfe8654a428a",
   "metadata": {},
   "source": [
    "2. Información General del dataframe"
   ]
  },
  {
   "cell_type": "code",
   "execution_count": null,
   "id": "bf4b9486-364e-40f9-b0d8-225a742c01b8",
   "metadata": {},
   "outputs": [],
   "source": []
  },
  {
   "cell_type": "markdown",
   "id": "96f08d35-022b-438d-a023-d3da13a228da",
   "metadata": {},
   "source": [
    "3. Resumen estadistico de las columnas numéricas"
   ]
  },
  {
   "cell_type": "code",
   "execution_count": null,
   "id": "5de8e151-ef2f-4d55-ab60-4048a75ea389",
   "metadata": {},
   "outputs": [],
   "source": []
  },
  {
   "cell_type": "markdown",
   "id": "88c43e21-011b-4667-8cfc-72699ade1fa6",
   "metadata": {},
   "source": [
    "4. Resumen estadístico de las columnas no numéricas"
   ]
  },
  {
   "cell_type": "code",
   "execution_count": null,
   "id": "2c628fed-8f03-4549-b48b-fe2a6154ee65",
   "metadata": {},
   "outputs": [],
   "source": []
  },
  {
   "cell_type": "markdown",
   "id": "6bc892e0-8529-4fb3-959b-764b8f41cd4f",
   "metadata": {},
   "source": [
    "5. Imprima los tipos de datos de cada columna"
   ]
  },
  {
   "cell_type": "code",
   "execution_count": null,
   "id": "874f73a5-6489-4e64-9c1e-7bbb85fc6162",
   "metadata": {},
   "outputs": [],
   "source": []
  },
  {
   "cell_type": "markdown",
   "id": "8419205d-8393-4bf4-9138-1cc644fd4c54",
   "metadata": {},
   "source": [
    "6. Imprima las columnas del dataframe"
   ]
  },
  {
   "cell_type": "code",
   "execution_count": null,
   "id": "e22da3b4-129e-45bf-b3bd-46919f81dfdf",
   "metadata": {},
   "outputs": [],
   "source": []
  },
  {
   "cell_type": "markdown",
   "id": "3e5b661a-f6e5-4611-a4cf-034c48fe4fe2",
   "metadata": {},
   "source": [
    "7. Encontrar:\n",
    "   \n",
    "   - Nulos o faltantes.  \n",
    "   - Duplicados enteros o parciales.  \n",
    "   - Cambiar tipos de datos si hace falta.  \n",
    "   - Quitar caracteres especiales de strings.  \n",
    "   - Inconsistencia de diversos datos numéricos.  \n",
    "   - Entre otros...  \n",
    "   "
   ]
  },
  {
   "cell_type": "markdown",
   "id": "d0d3e609-5b77-49f4-a0fb-c2dfb90c8f94",
   "metadata": {},
   "source": [
    "8. Imputa los valores nulos en las columnas CustomerID y Description utilizando métodos apropiados.Explica por qué elegiste esos métodos de imputación."
   ]
  },
  {
   "cell_type": "code",
   "execution_count": null,
   "id": "e2eaad8b-d342-4de5-a73c-275cd2873922",
   "metadata": {},
   "outputs": [],
   "source": []
  },
  {
   "cell_type": "markdown",
   "id": "36dcd439-97d1-41b2-a33d-7fb120ba8285",
   "metadata": {},
   "source": [
    "9. Identifica outliers en la columna Quantity y UnitPrice. Utiliza métodos apropiados para manejar estos outliers (puede ser eliminación o transformación)."
   ]
  },
  {
   "cell_type": "code",
   "execution_count": null,
   "id": "ee837562-0520-4b7e-bc6b-464e90413c7e",
   "metadata": {},
   "outputs": [],
   "source": []
  },
  {
   "cell_type": "markdown",
   "id": "4a4c363d-59d2-40e7-812a-bce182399649",
   "metadata": {},
   "source": [
    "10. Crea una nueva columna TotalPrice que sea el resultado de multiplicar Quantity por UnitPrice."
   ]
  },
  {
   "cell_type": "code",
   "execution_count": null,
   "id": "48fa138b-2d58-4d7f-accf-eadb665e3891",
   "metadata": {},
   "outputs": [],
   "source": []
  },
  {
   "cell_type": "markdown",
   "id": "e470774b-5816-42ec-bb7b-bfaf1c9ad9c6",
   "metadata": {},
   "source": [
    "11. Extrae el año y el mes de la columna InvoiceDate y crea dos nuevas columnas InvoiceYear e InvoiceMonth."
   ]
  },
  {
   "cell_type": "code",
   "execution_count": null,
   "id": "b6197aa2-e628-42b7-a8d3-70d455c5ffbe",
   "metadata": {},
   "outputs": [],
   "source": []
  },
  {
   "cell_type": "markdown",
   "id": "33b19003-07c5-4626-92ec-2a1aa87431d8",
   "metadata": {},
   "source": [
    "12. Agrupa los datos por InvoiceYear y InvoiceMonth y calcula el total de ventas mensuales."
   ]
  },
  {
   "cell_type": "code",
   "execution_count": null,
   "id": "0b2acdcf-d6d3-4f55-96a5-0ca331e6d664",
   "metadata": {},
   "outputs": [],
   "source": []
  },
  {
   "cell_type": "markdown",
   "id": "c081c02f-9888-47c6-9706-518837bb8381",
   "metadata": {},
   "source": [
    "13. Agrupa los datos por Country y calcula el total de ventas (TotalPrice) y la cantidad de transacciones por país."
   ]
  },
  {
   "cell_type": "code",
   "execution_count": null,
   "id": "95cbda64-5953-4f0c-84ee-811a17e6e2c1",
   "metadata": {},
   "outputs": [],
   "source": []
  },
  {
   "cell_type": "markdown",
   "id": "7b372887-94dc-4f3a-beb6-4fc33d644c14",
   "metadata": {},
   "source": [
    "14. Realiza un análisis de cohortes para entender el comportamiento de los clientes a lo largo del tiempo. Agrupa los clientes por su primer mes de compra y analiza su retención y comportamiento en los meses subsecuentes."
   ]
  },
  {
   "cell_type": "code",
   "execution_count": null,
   "id": "2673f9bc-faf2-4467-b814-55e732131e2c",
   "metadata": {},
   "outputs": [],
   "source": []
  },
  {
   "cell_type": "markdown",
   "id": "26d7c45f-2b56-4b4c-9ea2-53f3e46390c8",
   "metadata": {},
   "source": [
    "15. Integra datos externos, como tasas de cambio de moneda, para analizar el impacto en las ventas. Supón que tienes un dataset **exchange_rates.csv** con las tasas de cambio históricas."
   ]
  },
  {
   "cell_type": "code",
   "execution_count": null,
   "id": "22ca96ba-1f41-465a-9484-99ccafc93489",
   "metadata": {},
   "outputs": [],
   "source": []
  },
  {
   "cell_type": "markdown",
   "id": "7d21d7a8-b041-4f49-9df3-59f3220709ac",
   "metadata": {},
   "source": [
    "16. Utilizando el fichero exchange_rates.csv, convierte los precios de los productos (UnitPrice) en el conjunto de datos de retail a una moneda extranjera (por ejemplo, de GBP a USD) según la tasa de cambio correspondiente a la fecha de la transacción (InvoiceDate). Agrega una nueva columna llamada UnitPriceUSD al DataFrame original."
   ]
  },
  {
   "cell_type": "code",
   "execution_count": null,
   "id": "692a9762-1d27-42f5-9fd6-1818d88477ef",
   "metadata": {},
   "outputs": [],
   "source": []
  },
  {
   "cell_type": "code",
   "execution_count": null,
   "id": "7ca48899-7b16-4f8c-be3a-066d29cb7e8f",
   "metadata": {},
   "outputs": [],
   "source": [
    "17. "
   ]
  }
 ],
 "metadata": {
  "kernelspec": {
   "display_name": "Python 3 (ipykernel)",
   "language": "python",
   "name": "python3"
  },
  "language_info": {
   "codemirror_mode": {
    "name": "ipython",
    "version": 3
   },
   "file_extension": ".py",
   "mimetype": "text/x-python",
   "name": "python",
   "nbconvert_exporter": "python",
   "pygments_lexer": "ipython3",
   "version": "3.11.9"
  }
 },
 "nbformat": 4,
 "nbformat_minor": 5
}
