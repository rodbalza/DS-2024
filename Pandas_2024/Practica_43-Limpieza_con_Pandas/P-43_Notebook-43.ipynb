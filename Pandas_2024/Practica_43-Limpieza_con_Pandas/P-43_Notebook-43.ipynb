{
 "cells": [
  {
   "cell_type": "markdown",
   "id": "3853cda1-6f2c-4109-bb0f-f986a89ea231",
   "metadata": {},
   "source": [
    "# Práctica 43: Limpieza, manejo y transformación de datos con Pandas"
   ]
  },
  {
   "cell_type": "markdown",
   "id": "d2fef326-a677-4cf7-bbf8-bf8fb3848e77",
   "metadata": {},
   "source": [
    "####  Cargar el fichero **retail2.csv** en un dataframe de Pandas y efectuar todas las operaciones de consulta, exploración y limpieza de datos que sean necesarios algunos pasos de limpieza están de forma explícita como preguntas. Los ficheros contienen varias columnas y algunas de ellas tienen datos que podrían necesitar limpieza o tratamiento. "
   ]
  },
  {
   "cell_type": "markdown",
   "id": "3fe9034f-feff-4fa6-94a2-f499e6cd3418",
   "metadata": {},
   "source": [
    "**El fichero contiene información sobre transacciones de una tienda minorista. Los campos y su significado se muestran a continuación:**"
   ]
  },
  {
   "cell_type": "markdown",
   "id": "d8a5715c-0227-4ece-a8a1-8f57e2c1811b",
   "metadata": {},
   "source": [
    "`InvoiceNo`: Número de factura que identifica de manera única cada transacción.\n",
    "  \n",
    "\n",
    "`StockCode`:Código de stock que identifica de manera única cada producto.\n",
    " \n",
    "\n",
    "`Descrption`.Descripción del producto.\n",
    "\n",
    "\n",
    "`Quantity`: Cantidad de productos comprados (puede contener valores negativos que indican devoluciones).\n",
    "\n",
    "`InvoiceDate`: Fecha y hora en que se realizó la transacción.\n",
    "\n",
    "\n",
    "`UnitPrice`:Precio unitario del producto (algunos valores pueden estar en centavos en lugar de dólares).\n",
    "\n",
    "\n",
    "`CustomerID`:ID único del cliente que realizó la compra.\n",
    "\n",
    "\n",
    "`Country`:País donde reside el cliente (puede contener inconsistencias en mayúsculas/minúsculas y caracteres especiales).  \n",
    "\n",
    "`CustomerName`:Nombre completo del cliente.\n",
    "\n",
    "\n",
    "`Email`:Dirección de correo electrónico del cliente.  \n",
    "\n",
    "`Address`:Dirección del cliente.  \n",
    "\n",
    "\n",
    "\n",
    "`PhoneNumber`:Número de teléfono del cliente.\n",
    "\n",
    "\n",
    "\n",
    "`Category`: Categoría del producto (por ejemplo, 'Electronics', 'Clothing', 'Home & Garden').\n",
    "\n",
    "`Supplier`: Proveedor del producto.  \n",
    "\n",
    "`StockLevel`: Nivel de inventario del producto.\n",
    "\n",
    "`Discount`: Descuento aplicado al producto (en porcentaje).  \n",
    "\n",
    "`SaleChannel`: Canal de venta (por ejemplo, 'Online', 'In-Store').\n",
    "\n",
    "`ReturnStatus`: Estado de devolución del producto ('Returned', 'Not Returned').\n",
    "\n",
    "`ProductWeight`: Peso del producto. Unidad: kilogramos.\n",
    "\n",
    "`ProductDimensions`: Dimensiones del producto. Unidad: en el formato 'LxWxH cm'.\n",
    "\n",
    "`ShippingCost`: Costo de envío. Unidad:dólares.\n",
    "\n",
    "`SalesRegion`: Región de ventas (por ejemplo, 'North America', 'Europe', 'Asia').  \n",
    "\n",
    "`PromotionCode`: Código de promoción aplicado a la compra.\n",
    "\n",
    "`PaymentMethod`: Método de pago (por ejemplo, 'Credit Card', 'PayPal', 'Bank Transfer').\n"
   ]
  },
  {
   "cell_type": "markdown",
   "id": "4efb6aee-e5da-4a9a-a7df-b60789583eb3",
   "metadata": {},
   "source": [
    "# Parte 1. Data Cleaning and Preparation (Capítulo 7 - Wes McKinney)"
   ]
  },
  {
   "cell_type": "markdown",
   "id": "15d81a15-37f6-47fe-9fbc-9b3da7b09cdb",
   "metadata": {},
   "source": [
    "- Cargue los datasets `retail2.csv` y `exchange_rates.csv` en DataFrames de pandas."
   ]
  },
  {
   "cell_type": "markdown",
   "id": "67503480-8ece-4d26-97b9-84218fc395dc",
   "metadata": {},
   "source": [
    "## Pregunta 1\n",
    "**Identificación de valores faltantes:**\n",
    "- Identifique las columnas con valores faltantes en el dataset `retail`."
   ]
  },
  {
   "cell_type": "code",
   "execution_count": null,
   "id": "dfd3b8da-a65d-4344-a10e-2241ebd8cbb6",
   "metadata": {},
   "outputs": [],
   "source": []
  },
  {
   "cell_type": "markdown",
   "id": "7ac86282-5425-4ee1-8740-5ed35845f12c",
   "metadata": {},
   "source": [
    "## Pregunta 2\n",
    "**Eliminar valores faltantes:**\n",
    "- Elimine las filas del dataset `retail` donde las columnas críticas (`InvoiceNo`, `StockCode`, `Quantity`, `UnitPrice`, `CustomerID`) tengan valores faltantes."
   ]
  },
  {
   "cell_type": "code",
   "execution_count": null,
   "id": "a55f21bf-191c-4dfd-b466-dee219d92a87",
   "metadata": {},
   "outputs": [],
   "source": []
  },
  {
   "cell_type": "markdown",
   "id": "3020a022-cbf0-4a03-9400-d0e89358d2b5",
   "metadata": {},
   "source": [
    "## Pregunta 3\n",
    "**Conversión de tipos de datos:**\n",
    "- Convierta la columna `InvoiceDate` del dataset `retail` a un formato de datetime."
   ]
  },
  {
   "cell_type": "code",
   "execution_count": null,
   "id": "34da03c7-37f7-4401-a40d-3d42176158c9",
   "metadata": {},
   "outputs": [],
   "source": []
  },
  {
   "cell_type": "markdown",
   "id": "48e5edab-2aa6-412a-b469-05ff5bdc5427",
   "metadata": {},
   "source": [
    "## Pregunta 4\n",
    "**Conversión de tipos de datos en tasas de cambio:**\n",
    "- Convierta la columna `Date` del dataset `exchange_rates.csv` a un formato de datetime."
   ]
  },
  {
   "cell_type": "code",
   "execution_count": null,
   "id": "7ba50134-6495-481e-b39b-1b5dcd5237d0",
   "metadata": {},
   "outputs": [],
   "source": []
  },
  {
   "cell_type": "markdown",
   "id": "a586bc13-d4e0-453d-a5b0-2eaf72954d5b",
   "metadata": {},
   "source": [
    "## Pregunta 5\n",
    "**Filtrado de datos por país:**\n",
    "- Filtre el dataset `retail` para mostrar solo las transacciones realizadas en el país 'United Kingdom'."
   ]
  },
  {
   "cell_type": "code",
   "execution_count": null,
   "id": "bdd4d849-870b-47a2-bb73-45d0aa88f56d",
   "metadata": {},
   "outputs": [],
   "source": []
  },
  {
   "cell_type": "markdown",
   "id": "31f27912-04da-43e2-85dc-fcaa4f94e5e7",
   "metadata": {},
   "source": [
    "## Pregunta 6\n",
    "**Calcular el total de precios:**\n",
    "- Cree una nueva columna `TotalPrice` en el dataset `retail` multiplicando `Quantity` por `UnitPrice`."
   ]
  },
  {
   "cell_type": "code",
   "execution_count": null,
   "id": "cce9c0ae-3806-4ab4-b0a6-1a8d18454066",
   "metadata": {},
   "outputs": [],
   "source": []
  },
  {
   "cell_type": "markdown",
   "id": "c4d803ec-2015-46b3-8f1f-7750cfe57e41",
   "metadata": {},
   "source": [
    "## Pregunta 7\n",
    "**Extraer mes y año:**\n",
    "- Extraiga el mes y el año de la columna `InvoiceDate` y cree dos nuevas columnas: `InvoiceMonth` y `InvoiceYear`."
   ]
  },
  {
   "cell_type": "code",
   "execution_count": null,
   "id": "8ef8becf-18b3-400f-8a3a-301e34798fa8",
   "metadata": {},
   "outputs": [],
   "source": []
  },
  {
   "cell_type": "markdown",
   "id": "c5629a33-8380-4c6d-95ba-357596aee62b",
   "metadata": {},
   "source": [
    "## Pregunta 8\n",
    "**Eliminar duplicados:**\n",
    "- Identifique y elimine las filas duplicadas en el dataset `retail` basadas en la combinación de `InvoiceNo` y `StockCode`."
   ]
  },
  {
   "cell_type": "code",
   "execution_count": null,
   "id": "9c4897a9-d152-4064-8dd5-650af3c0b51a",
   "metadata": {},
   "outputs": [],
   "source": []
  },
  {
   "cell_type": "markdown",
   "id": "1a6f1c49-05e8-4527-94cf-a612dcee4966",
   "metadata": {},
   "source": [
    "## Pregunta 9\n",
    "**Reemplazo de valores:**\n",
    "- Reemplace todos los valores negativos en la columna `Quantity` con cero."
   ]
  },
  {
   "cell_type": "code",
   "execution_count": null,
   "id": "46273c6c-6855-4443-9e73-3d82376ba837",
   "metadata": {},
   "outputs": [],
   "source": []
  },
  {
   "cell_type": "markdown",
   "id": "7aa5ebea-9b1e-4459-ad21-47063ec6466a",
   "metadata": {},
   "source": [
    "## Pregunta 10\n",
    "**Transformación de datos:**\n",
    "- Cree una nueva columna `DiscountedPrice` aplicando un descuento del 10% al `TotalPrice`."
   ]
  },
  {
   "cell_type": "code",
   "execution_count": null,
   "id": "304079ca-7e27-4178-83fa-b4720ba16f84",
   "metadata": {},
   "outputs": [],
   "source": []
  },
  {
   "cell_type": "markdown",
   "id": "8ef95a4c-221e-4f28-8b6a-8e3c74ab9f3c",
   "metadata": {},
   "source": [
    "# Parte 2. Data Wrangling: Join, Combine, and Reshape (Capítulo 8)"
   ]
  },
  {
   "cell_type": "markdown",
   "id": "f8d320de-654b-4ea3-bcc4-1ccc6b5b168b",
   "metadata": {},
   "source": [
    "## Pregunta 11\n",
    "**Merge de datasets:**\n",
    "- Realice un merge del dataset `retail` con el dataset `exchange_rates.csv` en las columnas de fecha (`InvoiceDate` de `retail` y `Date` de `exchange_rates.csv`)."
   ]
  },
  {
   "cell_type": "code",
   "execution_count": null,
   "id": "aec363b7-69ec-46c5-af18-4a9920133267",
   "metadata": {},
   "outputs": [],
   "source": []
  },
  {
   "cell_type": "markdown",
   "id": "45c88193-d8b4-4c5d-8294-50fad551f826",
   "metadata": {},
   "source": [
    "## Pregunta 12\n",
    "**Concatenación de datasets:**\n",
    "- Concatenar dos subconjuntos del dataset `retail`, uno con las primeras 100 filas y otro con las últimas 100 filas."
   ]
  },
  {
   "cell_type": "code",
   "execution_count": null,
   "id": "02f777cb-c6bd-45f9-b49b-b5e1d368ab8f",
   "metadata": {},
   "outputs": [],
   "source": []
  },
  {
   "cell_type": "markdown",
   "id": "10475253-85d2-4e06-975a-97c561c23abb",
   "metadata": {},
   "source": [
    "## Pregunta 13\n",
    "**Pivot table:**\n",
    "- Cree una tabla dinámica (pivot table) que muestre el total de `TotalPrice` para cada `Country` y `InvoiceYear`."
   ]
  },
  {
   "cell_type": "code",
   "execution_count": null,
   "id": "3dd0a7f7-56e1-49a0-aa72-aa922bb72a46",
   "metadata": {},
   "outputs": [],
   "source": []
  },
  {
   "cell_type": "markdown",
   "id": "9c9f5f3d-4884-4c15-9413-bb33cdf7851e",
   "metadata": {},
   "source": [
    "## Pregunta 14\n",
    "**Reshape con melt:**\n",
    "- Transforme el dataset `retail` de formato ancho a largo usando la función `melt` de pandas."
   ]
  },
  {
   "cell_type": "code",
   "execution_count": null,
   "id": "a9002348-4591-4bbe-a977-7d4bc182024c",
   "metadata": {},
   "outputs": [],
   "source": []
  },
  {
   "cell_type": "markdown",
   "id": "8f7e993a-771c-483d-9c2a-83d4b9d2d89b",
   "metadata": {},
   "source": [
    "## Pregunta 15\n",
    "**Combinar datos con overlap:**\n",
    "- Combine dos DataFrames con columnas `CustomerID` y `TotalPrice`, teniendo en cuenta el overlap entre los datos."
   ]
  },
  {
   "cell_type": "code",
   "execution_count": null,
   "id": "6de290d9-b6a8-4c7f-b268-69cff52f5ed3",
   "metadata": {},
   "outputs": [],
   "source": []
  },
  {
   "cell_type": "markdown",
   "id": "7e153b76-c94d-4ea3-9234-e24e78501fbb",
   "metadata": {},
   "source": [
    "## Pregunta 16\n",
    "**Join con índices:**\n",
    "- Realice un join de dos DataFrames basándose en los índices."
   ]
  },
  {
   "cell_type": "code",
   "execution_count": null,
   "id": "28c4e333-c3f4-46c3-948c-b67eb59b9fcf",
   "metadata": {},
   "outputs": [],
   "source": []
  },
  {
   "cell_type": "markdown",
   "id": "6266d7e4-aa6b-4741-8533-9adc5f9b5260",
   "metadata": {},
   "source": [
    "## Pregunta 17\n",
    "**Cambio de nivel de índices:**\n",
    "- Cambie los niveles de los índices en un MultiIndex en el dataset `retail`."
   ]
  },
  {
   "cell_type": "code",
   "execution_count": null,
   "id": "d02bbaac-6cbb-416a-95f6-15711d9c1ac8",
   "metadata": {},
   "outputs": [],
   "source": []
  },
  {
   "cell_type": "markdown",
   "id": "29f89b28-8be9-48ca-8189-8d35d570611e",
   "metadata": {},
   "source": [
    "## Pregunta 18\n",
    "**Reordenamiento de niveles:**\n",
    "- Reordene los niveles del índice en un DataFrame con MultiIndex."
   ]
  },
  {
   "cell_type": "code",
   "execution_count": null,
   "id": "02a064ba-1f13-4a64-8447-a7dcb6d79d39",
   "metadata": {},
   "outputs": [],
   "source": []
  },
  {
   "cell_type": "markdown",
   "id": "1ba5b8ba-ffab-4b7b-b675-7593a9af3042",
   "metadata": {},
   "source": [
    "## Pregunta 19\n",
    "**Agregación por nivel:**\n",
    "- Realice una agregación de los datos por nivel en un MultiIndex."
   ]
  },
  {
   "cell_type": "code",
   "execution_count": null,
   "id": "7a9c1fe9-55a3-4c0c-b575-4a17f237c66a",
   "metadata": {},
   "outputs": [],
   "source": []
  },
  {
   "cell_type": "markdown",
   "id": "284accc6-361d-446c-b47b-3a945c7a5b68",
   "metadata": {},
   "source": [
    "## Pregunta 20\n",
    "**Creación de MultiIndex:**\n",
    "- Cree un MultiIndex a partir de las columnas `Country` y `InvoiceYear` en el dataset `retail`."
   ]
  },
  {
   "cell_type": "code",
   "execution_count": null,
   "id": "aae01745-e651-41d5-8b07-1e1a60f0cb8b",
   "metadata": {},
   "outputs": [],
   "source": []
  },
  {
   "cell_type": "markdown",
   "id": "b24d6353-7cb2-4d00-b21e-1a22b9917fa4",
   "metadata": {},
   "source": [
    "# Parte 3 Data Aggregation and Group Operations (Capitulo 10)"
   ]
  },
  {
   "cell_type": "code",
   "execution_count": null,
   "id": "07062945-efc6-495a-8663-54ded665a4c8",
   "metadata": {},
   "outputs": [],
   "source": []
  },
  {
   "cell_type": "markdown",
   "id": "de7a9513-d675-41d9-8f25-ddd29a19314b",
   "metadata": {},
   "source": [
    "## Pregunta 21\n",
    "**Agrupación por cliente:**\n",
    "- Agrupe los datos del dataset `retail` por `CustomerID` y calcule el total de `TotalPrice` por cliente."
   ]
  },
  {
   "cell_type": "code",
   "execution_count": null,
   "id": "fbebb067-f627-4eb9-9552-24e62a5ced83",
   "metadata": {},
   "outputs": [],
   "source": []
  },
  {
   "cell_type": "markdown",
   "id": "25562488-093f-4d9d-8328-8e4daf39f053",
   "metadata": {},
   "source": [
    "## Pregunta 22\n",
    "**Agrupación por producto:**\n",
    "- Agrupe los datos del dataset `retail` por `StockCode` y calcule la cantidad total vendida (`Quantity`)."
   ]
  },
  {
   "cell_type": "code",
   "execution_count": null,
   "id": "5256f018-bfda-41e9-bc55-09cba3a30f20",
   "metadata": {},
   "outputs": [],
   "source": []
  },
  {
   "cell_type": "markdown",
   "id": "8e29e2b8-6138-4173-8595-0a0c924d2c33",
   "metadata": {},
   "source": [
    "## Pregunta 23\n",
    "**Agrupación por mes y año:**\n",
    "- Agrupe los datos del dataset `retail` por `InvoiceMonth` y `InvoiceYear`, y calcule el total de `TotalPrice`."
   ]
  },
  {
   "cell_type": "code",
   "execution_count": null,
   "id": "bbffaa78-caec-444d-b722-b02fd3a9c1d3",
   "metadata": {},
   "outputs": [],
   "source": []
  },
  {
   "cell_type": "markdown",
   "id": "e0798498-b91e-4209-89c5-85a7c3c90ad5",
   "metadata": {},
   "source": [
    "## Pregunta 24\n",
    "**Conteo de transacciones:**\n",
    "- Cuente el número total de transacciones por `Country` y `InvoiceYear`."
   ]
  },
  {
   "cell_type": "code",
   "execution_count": null,
   "id": "65c3c2d0-a9cc-4cf3-93eb-4c8f268b3804",
   "metadata": {},
   "outputs": [],
   "source": []
  },
  {
   "cell_type": "markdown",
   "id": "800cc089-fd44-4058-9594-95297ad42eed",
   "metadata": {},
   "source": [
    "## Pregunta 25\n",
    "**Función de agregación personalizada:**\n",
    "- Cree una función de agregación personalizada que calcule el promedio y la desviación estándar de `TotalPrice` por `Country`."
   ]
  },
  {
   "cell_type": "code",
   "execution_count": null,
   "id": "5f902507-2458-4c38-a96b-1f65e0ace29a",
   "metadata": {},
   "outputs": [],
   "source": []
  },
  {
   "cell_type": "markdown",
   "id": "acbc6494-5044-46b4-a096-9963f2c085be",
   "metadata": {},
   "source": [
    "## Pregunta 26\n",
    "**Agrupación y transformaciones:**\n",
    "- Agrupe los datos por `CustomerID` y normalice el `TotalPrice` restando la media y dividiendo por la desviación estándar dentro de cada grupo."
   ]
  },
  {
   "cell_type": "code",
   "execution_count": null,
   "id": "581dc395-ab48-4c52-a5f2-6bfcdbba9f3d",
   "metadata": {},
   "outputs": [],
   "source": []
  },
  {
   "cell_type": "markdown",
   "id": "57cc361f-399a-482c-89d4-657109a270d5",
   "metadata": {},
   "source": [
    "## Pregunta 27\n",
    "**Filtrado de grupos:**\n",
    "- Filtre los grupos de `CustomerID` que tengan un `TotalPrice` promedio mayor a 500."
   ]
  },
  {
   "cell_type": "code",
   "execution_count": null,
   "id": "a9a14f51-2db9-4368-b283-b287b350c9d3",
   "metadata": {},
   "outputs": [],
   "source": []
  },
  {
   "cell_type": "markdown",
   "id": "00ade058-c258-435b-806e-d71cf0491404",
   "metadata": {},
   "source": [
    "## Pregunta 28\n",
    "**Aplicación de múltiples funciones:**\n",
    "- Aplique múltiples funciones de agregación (suma, promedio, máximo) a la columna `TotalPrice` agrupando por `Country`."
   ]
  },
  {
   "cell_type": "code",
   "execution_count": null,
   "id": "75d6e361-2dc3-447f-9452-5effb4737642",
   "metadata": {},
   "outputs": [],
   "source": []
  },
  {
   "cell_type": "markdown",
   "id": "024e7b73-3162-4625-aa4b-b6c89f4c1ccf",
   "metadata": {},
   "source": [
    "## Pregunta 29\n",
    "**Creación de columnas derivadas:**\n",
    "- Cree una nueva columna `AvgTotalPrice` que contenga el promedio de `TotalPrice` por `CustomerID`."
   ]
  },
  {
   "cell_type": "code",
   "execution_count": null,
   "id": "bf254c9b-e0ac-4813-af67-edfad12b528c",
   "metadata": {},
   "outputs": [],
   "source": []
  },
  {
   "cell_type": "markdown",
   "id": "32c75d98-07bf-4130-a1e4-debea7c42e89",
   "metadata": {},
   "source": [
    "## Pregunta 30\n",
    "**Uso de transformaciones window:**\n",
    "- Utilice una transformación de ventana para calcular la media móvil de 3 períodos de `TotalPrice` para cada `CustomerID`."
   ]
  },
  {
   "cell_type": "code",
   "execution_count": null,
   "id": "78cb8e9f-761a-4f86-9a4b-8f38f0e5665f",
   "metadata": {},
   "outputs": [],
   "source": []
  },
  {
   "cell_type": "markdown",
   "id": "aaceab53-2037-4cf7-a790-5582251bcabb",
   "metadata": {},
   "source": [
    "# Parte 4 - Time Series (capítulo 11)"
   ]
  },
  {
   "cell_type": "code",
   "execution_count": null,
   "id": "48ff39c1-64ce-4da0-8017-27aa6b02eb44",
   "metadata": {},
   "outputs": [],
   "source": []
  },
  {
   "cell_type": "markdown",
   "id": "6fb77d9b-9d64-4823-8041-8bd3cc340cba",
   "metadata": {},
   "source": [
    "## Pregunta 31\n",
    "**Conversión a índice de tiempo:**\n",
    "- Convierta la columna `InvoiceDate` a un índice de tiempo en el dataset `retail`."
   ]
  },
  {
   "cell_type": "code",
   "execution_count": null,
   "id": "be694d77-d5fa-4666-8aa0-cdbb9c420ea7",
   "metadata": {},
   "outputs": [],
   "source": []
  },
  {
   "cell_type": "markdown",
   "id": "3f7a4beb-d80f-4334-b50a-796723f32df6",
   "metadata": {},
   "source": [
    "## Pregunta 32\n",
    "**Remuestreo de datos:**\n",
    "- Remuestrear los datos del dataset `retail` a una frecuencia mensual y calcule el total de `TotalPrice` por mes."
   ]
  },
  {
   "cell_type": "code",
   "execution_count": null,
   "id": "877eb5c9-6897-4bd0-b546-b9ff934f7af6",
   "metadata": {},
   "outputs": [],
   "source": []
  },
  {
   "cell_type": "markdown",
   "id": "12d46945-1160-488a-a81a-56f49d882747",
   "metadata": {},
   "source": [
    "## Pregunta 33\n",
    "**Cambio de frecuencia:**\n",
    "- Cambie la frecuencia de los datos del dataset `retail` a trimestral y calcule el total de `TotalPrice` por trimestre."
   ]
  },
  {
   "cell_type": "code",
   "execution_count": null,
   "id": "daa3982f-f339-47d5-9c9c-871ec85454a6",
   "metadata": {},
   "outputs": [],
   "source": []
  },
  {
   "cell_type": "markdown",
   "id": "5b672d85-d2a8-4701-b0b3-3ec17a0cf24a",
   "metadata": {},
   "source": [
    "## Pregunta 34\n",
    "**Desplazamiento de datos:**\n",
    "- Desplace los datos de `TotalPrice` en el dataset `retail` un período hacia adelante."
   ]
  },
  {
   "cell_type": "code",
   "execution_count": null,
   "id": "d4d31abe-c359-4406-a653-07be735845f1",
   "metadata": {},
   "outputs": [],
   "source": []
  },
  {
   "cell_type": "markdown",
   "id": "d6c10799-cc3e-4616-b6fb-cadd45737298",
   "metadata": {},
   "source": [
    "## Pregunta 35\n",
    "**Ventanas móviles:**\n",
    "- Calcule la media móvil de 3 períodos de `TotalPrice` en el dataset `retail`."
   ]
  },
  {
   "cell_type": "code",
   "execution_count": null,
   "id": "2fabe112-19f9-47b5-8cbe-5c0e6fb3532f",
   "metadata": {},
   "outputs": [],
   "source": []
  },
  {
   "cell_type": "markdown",
   "id": "0a258136-2f54-49c8-b00d-bf0f86b38dd7",
   "metadata": {},
   "source": [
    "## Pregunta 36\n",
    "**Detección de tendencias:**\n",
    "- Detecte tendencias en la columna `TotalPrice` del dataset `retail` usando una ventana móvil de 12 períodos."
   ]
  },
  {
   "cell_type": "code",
   "execution_count": null,
   "id": "0bc70379-1ae2-46d1-9c10-7bb6c51b68f7",
   "metadata": {},
   "outputs": [],
   "source": []
  },
  {
   "cell_type": "markdown",
   "id": "dedef1e8-21ed-41b4-b5ec-e51e903a08fb",
   "metadata": {},
   "source": [
    "## Pregunta 37\n",
    "**Descomposición de series temporales:**\n",
    "- Descomponga la serie temporal de `TotalPrice` en componentes de tendencia, estacionalidad y ruido."
   ]
  },
  {
   "cell_type": "code",
   "execution_count": null,
   "id": "bafb581a-6d39-493b-894d-2c17d6fbde5c",
   "metadata": {},
   "outputs": [],
   "source": []
  },
  {
   "cell_type": "markdown",
   "id": "9ed9aaf8-ba0e-43c2-bc3e-9515abcb3654",
   "metadata": {},
   "source": [
    "## Pregunta 38\n",
    "**Interpolación de datos faltantes:**\n",
    "- Interpole los valores faltantes en la columna `TotalPrice` utilizando la interpolación lineal."
   ]
  },
  {
   "cell_type": "code",
   "execution_count": null,
   "id": "e5677dc3-2fdd-43e3-b4ef-01c63e98cb5e",
   "metadata": {},
   "outputs": [],
   "source": []
  },
  {
   "cell_type": "markdown",
   "id": "218b7509-ef2a-4247-8451-55fb00c74640",
   "metadata": {},
   "source": [
    "## Pregunta 39\n",
    "**Análisis de autocorrelación:**\n",
    "- Realice un análisis de autocorrelación en la columna `TotalPrice` del dataset `retail`."
   ]
  },
  {
   "cell_type": "code",
   "execution_count": null,
   "id": "642c0b62-152f-4b74-834f-a2ee4d6b97fc",
   "metadata": {},
   "outputs": [],
   "source": []
  },
  {
   "cell_type": "markdown",
   "id": "dd3746bb-e93e-46d5-b4fc-723bc5de64cb",
   "metadata": {},
   "source": [
    "## Pregunta 40\n",
    "**Conversión de zona horaria:**\n",
    "- Convierta las fechas en la columna `InvoiceDate` a una zona horaria específica (por ejemplo, UTC) en el dataset `retail`.\n"
   ]
  },
  {
   "cell_type": "code",
   "execution_count": null,
   "id": "bf4b9486-364e-40f9-b0d8-225a742c01b8",
   "metadata": {},
   "outputs": [],
   "source": []
  },
  {
   "cell_type": "markdown",
   "id": "f1a1756e-2894-40e3-80ba-b4561e87c390",
   "metadata": {},
   "source": [
    "# Parte 5 Preguntas de Negocio"
   ]
  },
  {
   "cell_type": "markdown",
   "id": "f42cb888-a96c-4d47-80b7-b0a44644f355",
   "metadata": {},
   "source": [
    "## Pregunta 1\n",
    "**Análisis de Retorno de Productos:**\n",
    "- ¿Cuál es el porcentaje de productos devueltos por país (United Kingdom, Germany, Denmark)? ¿Hay alguna diferencia notable entre los países?"
   ]
  },
  {
   "cell_type": "code",
   "execution_count": null,
   "id": "874f73a5-6489-4e64-9c1e-7bbb85fc6162",
   "metadata": {},
   "outputs": [],
   "source": []
  },
  {
   "cell_type": "markdown",
   "id": "4b47e988-2ee4-4ab6-ab87-d02ea5fc6da0",
   "metadata": {},
   "source": [
    "## Pregunta 2\n",
    "**Impacto de Promociones:**\n",
    "- ¿Qué porcentaje de las ventas totales se realizaron utilizando códigos de promoción en cada uno de los tres países? ¿Cuál es el código de promoción más efectivo?"
   ]
  },
  {
   "cell_type": "code",
   "execution_count": null,
   "id": "e2eaad8b-d342-4de5-a73c-275cd2873922",
   "metadata": {},
   "outputs": [],
   "source": []
  },
  {
   "cell_type": "markdown",
   "id": "a5074ad7-152d-4238-bd6e-d972c28b8f0a",
   "metadata": {},
   "source": [
    "## Pregunta 3\n",
    "**Canales de Venta:**\n",
    "- ¿Cuál es la distribución de ventas entre los diferentes canales de venta (`SaleChannel`) en cada país? ¿Hay un canal que sea predominantemente más utilizado en alguno de los países?"
   ]
  },
  {
   "cell_type": "code",
   "execution_count": null,
   "id": "48fa138b-2d58-4d7f-accf-eadb665e3891",
   "metadata": {},
   "outputs": [],
   "source": []
  },
  {
   "cell_type": "markdown",
   "id": "acda60cf-2d14-4605-85eb-50557a8bd7bb",
   "metadata": {},
   "source": [
    "## Pregunta 4\n",
    "**Costos de Envío:**\n",
    "- ¿Cuál es el costo promedio de envío por país? ¿Existen diferencias significativas en los costos de envío entre los tres países?"
   ]
  },
  {
   "cell_type": "code",
   "execution_count": null,
   "id": "0b2acdcf-d6d3-4f55-96a5-0ca331e6d664",
   "metadata": {},
   "outputs": [],
   "source": []
  },
  {
   "cell_type": "markdown",
   "id": "a50af892-7db4-4757-8baf-9de78adfffac",
   "metadata": {},
   "source": [
    "## Pregunta 5\n",
    "**Peso del Producto y Costos de Envío:**\n",
    "- ¿Existe una correlación entre el peso del producto (`ProductWeight`) y el costo de envío (`ShippingCost`)? ¿Cómo varía esta relación entre los diferentes países?"
   ]
  },
  {
   "cell_type": "code",
   "execution_count": null,
   "id": "2673f9bc-faf2-4467-b814-55e732131e2c",
   "metadata": {},
   "outputs": [],
   "source": []
  },
  {
   "cell_type": "markdown",
   "id": "d86544b6-ba00-4d2c-bb6b-a0082b7e04ff",
   "metadata": {},
   "source": [
    "## Pregunta 6\n",
    "**Descuentos y Comportamiento de Compra:**\n",
    "- ¿Qué porcentaje de las compras en cada país se realizaron con algún tipo de descuento (`Discount`)? ¿Los clientes en algún país en particular son más propensos a utilizar descuentos?"
   ]
  },
  {
   "cell_type": "code",
   "execution_count": null,
   "id": "692a9762-1d27-42f5-9fd6-1818d88477ef",
   "metadata": {},
   "outputs": [],
   "source": []
  },
  {
   "cell_type": "markdown",
   "id": "96737469-659a-431a-ba50-62db77ab9bc8",
   "metadata": {},
   "source": [
    "## Pregunta 7\n",
    "**Análisis de Categorías de Productos:**\n",
    "- ¿Cuáles son las categorías de productos (`Category`) más vendidas en cada país? ¿Existen diferencias en las preferencias de categorías de productos entre los países?"
   ]
  },
  {
   "cell_type": "code",
   "execution_count": null,
   "id": "254b384b-4dff-4b78-992d-b3d61d19c3c0",
   "metadata": {},
   "outputs": [],
   "source": []
  },
  {
   "cell_type": "markdown",
   "id": "651c24d7-f8c0-4862-8d4d-6d7247cf1e02",
   "metadata": {},
   "source": [
    "## Pregunta 8\n",
    "**Rendimiento de Proveedores:**\n",
    "- ¿Cuál es el proveedor (`Supplier`) con el mayor volumen de ventas en cada país? ¿Cómo se distribuyen las ventas entre los diferentes proveedores en cada uno de los países?"
   ]
  },
  {
   "cell_type": "code",
   "execution_count": null,
   "id": "582582ba-d06e-45d9-b779-d2aeb4364ea6",
   "metadata": {},
   "outputs": [],
   "source": []
  },
  {
   "cell_type": "markdown",
   "id": "28a2b20e-d636-47ff-8494-fb825ff61b5b",
   "metadata": {},
   "source": [
    "## Pregunta 9\n",
    "**Promedio de Precios de Venta:**\n",
    "- ¿Cuál es el precio promedio de venta (`UnitPrice`) de los productos en cada país? ¿Existen diferencias significativas en los precios de venta entre los tres países?"
   ]
  },
  {
   "cell_type": "code",
   "execution_count": null,
   "id": "e285b146-d779-44cb-bd25-bcc58416d353",
   "metadata": {},
   "outputs": [],
   "source": []
  },
  {
   "cell_type": "markdown",
   "id": "74250f7a-fcb3-418a-90b6-2c72b80d235c",
   "metadata": {},
   "source": [
    "## Pregunta 10\n",
    "**Tendencias de Venta por Región:**\n",
    "- ¿Cómo se distribuyen las ventas (`TotalPrice`) por región de ventas (`SalesRegion`) dentro de cada país? ¿Hay alguna región que destaque en términos de volumen de ventas en alguno de los países?"
   ]
  },
  {
   "cell_type": "code",
   "execution_count": null,
   "id": "3bdd51c9-ffc1-44ff-aec3-f145fefdab4a",
   "metadata": {},
   "outputs": [],
   "source": []
  },
  {
   "cell_type": "markdown",
   "id": "7bef7af6-49df-4db5-9968-7899307c7ce1",
   "metadata": {},
   "source": [
    "## Pregunta 11\n",
    "**Análisis de Frecuencia de Compras:**\n",
    "- ¿Cuál es la frecuencia promedio de compras por cliente (`CustomerID`) en cada país? ¿Los clientes en algún país compran con mayor frecuencia?\n"
   ]
  },
  {
   "cell_type": "code",
   "execution_count": null,
   "id": "282ac687-26d8-4e67-ae4e-d3acd16c7dd3",
   "metadata": {},
   "outputs": [],
   "source": []
  },
  {
   "cell_type": "markdown",
   "id": "da48bfca-fe9e-4c13-9c75-07a1aba02c11",
   "metadata": {},
   "source": [
    "## Pregunta 12\n",
    "**Valor de Vida del Cliente:**\n",
    "- ¿Cuál es el valor promedio de vida del cliente (suma de `TotalPrice`) en cada país? ¿Existe una diferencia significativa en el valor de vida del cliente entre los tres países?"
   ]
  },
  {
   "cell_type": "code",
   "execution_count": null,
   "id": "3ee526ba-70e0-4490-84f2-10a6d20b2755",
   "metadata": {},
   "outputs": [],
   "source": []
  },
  {
   "cell_type": "markdown",
   "id": "cdf14925-0eca-4bec-9234-90b66725e7c2",
   "metadata": {},
   "source": [
    "## Pregunta 13\n",
    "**Métodos de Pago:**\n",
    "- ¿Cuál es el método de pago (`PaymentMethod`) más utilizado en cada país? ¿Hay una preferencia notable por ciertos métodos de pago en algún país específico?"
   ]
  },
  {
   "cell_type": "code",
   "execution_count": null,
   "id": "92aa9c7b-65e5-4118-8fa4-6f7d0711b17e",
   "metadata": {},
   "outputs": [],
   "source": []
  },
  {
   "cell_type": "markdown",
   "id": "b5a4ea1f-dc00-4ade-bb53-56ebcfe8fa8b",
   "metadata": {},
   "source": [
    "## Pregunta 14\n",
    "**Evaluación de la Eficiencia de Descuentos:**\n",
    "- ¿Qué impacto tienen los descuentos (`Discount`) en el valor total de las ventas en cada país? ¿Los descuentos resultan en un aumento significativo en el volumen de ventas?"
   ]
  },
  {
   "cell_type": "code",
   "execution_count": null,
   "id": "5ec8422f-c9b4-43b7-9751-ed31eeeb588f",
   "metadata": {},
   "outputs": [],
   "source": []
  },
  {
   "cell_type": "markdown",
   "id": "265ea76d-afdd-46f1-9633-205df7d20c04",
   "metadata": {},
   "source": [
    "## Pregunta 15\n",
    "**Análisis de Clientes por Región:**\n",
    "- ¿Cuál es la distribución de clientes (`CustomerID`) por región de ventas (`SalesRegion`) en cada país? ¿Hay regiones con una concentración notablemente mayor de clientes?"
   ]
  },
  {
   "cell_type": "code",
   "execution_count": null,
   "id": "e5e47f19-0b42-490f-bb82-7b8cb2622e67",
   "metadata": {},
   "outputs": [],
   "source": []
  },
  {
   "cell_type": "markdown",
   "id": "35e2cd07-bc77-436c-83fd-6e9e4dd3bcaf",
   "metadata": {},
   "source": [
    "## Pregunta 16\n",
    "**Promociones y Segmentos de Mercado:**\n",
    "- ¿Cuál es el código de promoción (`PromotionCode`) más utilizado en cada segmento de mercado (`SalesRegion`) dentro de cada país?"
   ]
  },
  {
   "cell_type": "code",
   "execution_count": null,
   "id": "c57f38c2-cf5a-480b-8c33-1b97680fad06",
   "metadata": {},
   "outputs": [],
   "source": []
  },
  {
   "cell_type": "markdown",
   "id": "5fa398c5-78c2-46b0-a416-beee427c5a08",
   "metadata": {},
   "source": [
    "## Pregunta 17\n",
    "**Análisis de Temporadas de Venta:**\n",
    "- ¿Existen patrones estacionales en las ventas (`InvoiceDate`) en cada país? ¿Hay picos de ventas en ciertos meses o temporadas en alguno de los países?"
   ]
  },
  {
   "cell_type": "code",
   "execution_count": null,
   "id": "f0297b77-2ca7-4036-ae49-ab269ffa4091",
   "metadata": {},
   "outputs": [],
   "source": []
  },
  {
   "cell_type": "markdown",
   "id": "f33b1db1-b9c4-4068-bcfb-6d025cbff770",
   "metadata": {},
   "source": [
    "## Pregunta 18\n",
    "**Preferencias de Productos:**\n",
    "- ¿Cuáles son los productos (`StockCode` y `Description`) más vendidos en cada país? ¿Hay diferencias notables en las preferencias de productos entre los países?"
   ]
  },
  {
   "cell_type": "code",
   "execution_count": null,
   "id": "32124cd2-6236-4f24-acc0-66bf41455686",
   "metadata": {},
   "outputs": [],
   "source": []
  },
  {
   "cell_type": "markdown",
   "id": "144c38f2-a86c-4e94-a28b-4d794a8b7922",
   "metadata": {},
   "source": [
    "## Pregunta 19\n",
    "**Impacto de las Devoluciones en las Ventas:**\n",
    "- ¿Qué porcentaje de las ventas totales son afectadas por devoluciones (`ReturnStatus`)? ¿Cómo varía este porcentaje entre los diferentes países?"
   ]
  },
  {
   "cell_type": "code",
   "execution_count": null,
   "id": "0a819a89-ad22-4c30-b479-23be46394a83",
   "metadata": {},
   "outputs": [],
   "source": []
  },
  {
   "cell_type": "markdown",
   "id": "43e11ecd-edfb-4073-a292-6fede6152347",
   "metadata": {},
   "source": [
    "## Pregunta 20\n",
    "**Análisis de Margen de Ganancia:**\n",
    "- ¿Cuál es el margen de ganancia promedio (`UnitPrice - Discount`) por producto en cada país? ¿Hay productos o categorías con márgenes significativamente mayores o menores en alguno de los países?"
   ]
  },
  {
   "cell_type": "code",
   "execution_count": null,
   "id": "4726fad5-8a7c-4dfd-91a8-2c39da41049b",
   "metadata": {},
   "outputs": [],
   "source": []
  }
 ],
 "metadata": {
  "kernelspec": {
   "display_name": "Python 3 (ipykernel)",
   "language": "python",
   "name": "python3"
  },
  "language_info": {
   "codemirror_mode": {
    "name": "ipython",
    "version": 3
   },
   "file_extension": ".py",
   "mimetype": "text/x-python",
   "name": "python",
   "nbconvert_exporter": "python",
   "pygments_lexer": "ipython3",
   "version": "3.11.9"
  }
 },
 "nbformat": 4,
 "nbformat_minor": 5
}
